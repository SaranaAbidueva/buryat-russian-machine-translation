{
  "cells": [
    {
      "cell_type": "markdown",
      "source": [
        "# Импорты"
      ],
      "metadata": {
        "id": "-8XAMxqXEpmb"
      },
      "id": "-8XAMxqXEpmb"
    },
    {
      "cell_type": "code",
      "execution_count": null,
      "id": "09c76082",
      "metadata": {
        "id": "09c76082",
        "colab": {
          "base_uri": "https://localhost:8080/"
        },
        "outputId": "d4458935-cdb2-4420-be3c-d18fa4d53c06"
      },
      "outputs": [
        {
          "output_type": "stream",
          "name": "stdout",
          "text": [
            "\u001b[2K     \u001b[90m━━━━━━━━━━━━━━━━━━━━━━━━━━━━━━━━━━━━━━━━\u001b[0m \u001b[32m1.3/1.3 MB\u001b[0m \u001b[31m20.3 MB/s\u001b[0m eta \u001b[36m0:00:00\u001b[0m\n",
            "\u001b[2K     \u001b[90m━━━━━━━━━━━━━━━━━━━━━━━━━━━━━━━━━━━━━━━━\u001b[0m \u001b[32m7.1/7.1 MB\u001b[0m \u001b[31m89.1 MB/s\u001b[0m eta \u001b[36m0:00:00\u001b[0m\n",
            "\u001b[2K     \u001b[90m━━━━━━━━━━━━━━━━━━━━━━━━━━━━━━━━━━━━━━\u001b[0m \u001b[32m118.9/118.9 kB\u001b[0m \u001b[31m15.2 MB/s\u001b[0m eta \u001b[36m0:00:00\u001b[0m\n",
            "\u001b[2K     \u001b[90m━━━━━━━━━━━━━━━━━━━━━━━━━━━━━━━━━━━━━━\u001b[0m \u001b[32m224.5/224.5 kB\u001b[0m \u001b[31m29.8 MB/s\u001b[0m eta \u001b[36m0:00:00\u001b[0m\n",
            "\u001b[2K     \u001b[90m━━━━━━━━━━━━━━━━━━━━━━━━━━━━━━━━━━━━━━━━\u001b[0m \u001b[32m7.8/7.8 MB\u001b[0m \u001b[31m124.2 MB/s\u001b[0m eta \u001b[36m0:00:00\u001b[0m\n",
            "\u001b[?25h"
          ]
        }
      ],
      "source": [
        "! pip install sentencepiece transformers sacrebleu HeapDict -q "
      ]
    },
    {
      "cell_type": "code",
      "execution_count": null,
      "id": "32c3d966",
      "metadata": {
        "colab": {
          "base_uri": "https://localhost:8080/"
        },
        "id": "32c3d966",
        "outputId": "a51a0547-c393-4cba-9ce8-1fe5c08e00be"
      },
      "outputs": [
        {
          "output_type": "stream",
          "name": "stdout",
          "text": [
            "--2023-05-15 17:23:33--  https://raw.githubusercontent.com/google/sentencepiece/master/src/sentencepiece_model.proto\n",
            "Resolving raw.githubusercontent.com (raw.githubusercontent.com)... 185.199.111.133, 185.199.108.133, 185.199.109.133, ...\n",
            "Connecting to raw.githubusercontent.com (raw.githubusercontent.com)|185.199.111.133|:443... connected.\n",
            "HTTP request sent, awaiting response... 200 OK\n",
            "Length: 13845 (14K) [text/plain]\n",
            "Saving to: ‘sentencepiece_model.proto’\n",
            "\n",
            "\r          sentencep   0%[                    ]       0  --.-KB/s               \rsentencepiece_model 100%[===================>]  13.52K  --.-KB/s    in 0s      \n",
            "\n",
            "2023-05-15 17:23:33 (26.5 MB/s) - ‘sentencepiece_model.proto’ saved [13845/13845]\n",
            "\n"
          ]
        }
      ],
      "source": [
        "! wget https://raw.githubusercontent.com/google/sentencepiece/master/src/sentencepiece_model.proto\n",
        "! protoc --python_out=. sentencepiece_model.proto"
      ]
    },
    {
      "cell_type": "code",
      "execution_count": null,
      "id": "8f9f68ae",
      "metadata": {
        "id": "8f9f68ae"
      },
      "outputs": [],
      "source": [
        "import torch\n",
        "from transformers import MBartForConditionalGeneration, MBart50Tokenizer\n",
        "import json\n",
        "from collections import Counter, defaultdict\n",
        "from tqdm.auto import tqdm, trange\n",
        "import random\n",
        "import re\n",
        "from copy import deepcopy\n",
        "import pandas as pd"
      ]
    },
    {
      "cell_type": "markdown",
      "source": [
        "# Добавляю в модель токены бурятского языка"
      ],
      "metadata": {
        "id": "5ti1i7soD3CN"
      },
      "id": "5ti1i7soD3CN"
    },
    {
      "cell_type": "code",
      "execution_count": null,
      "id": "3e6dfff6",
      "metadata": {
        "colab": {
          "base_uri": "https://localhost:8080/",
          "height": 145,
          "referenced_widgets": [
            "ef4100d06d0a4ceda1689cc2169e05c2",
            "5d72041ee8d84899b91bc02ddb3bc8ce",
            "0cd41604ba8b46d9a77b33b9cd716159",
            "ced1cd18a24444de9e990fa77ddd54f1",
            "f33234eec8b64f0287c2db9a4a866c4e",
            "81dbaac0915641af9b4670daf510e549",
            "ea7bb7aef82f48dca866ec3f86d52670",
            "e284f86405c749b09da387cd9bab36d8",
            "daee5d65496e42fba9765230c2e5e873",
            "99df6a0cf6f4449f9761ed2ffe4bf9d4",
            "82af6d2321ab48fb8040d319a523ff1d",
            "ac8b59bcd0aa497190aa916250b1dcdf",
            "64457a0d49ad47f3b14712509f820cee",
            "b10371a6af54457aa10017a9ead07508",
            "fc47a6370c804052ad0bf50cc532af38",
            "cbfac2af71a34ce5b04b865a5093097b",
            "50a2de86ccfa4cf6b2a644d85c6ac27f",
            "8de12d5c004047a999bf3a5b98fed08e",
            "340b5cad79774a89bdd22db7713d8121",
            "adccad45a01c4347b992414ed6a37500",
            "5e9ed2b64dd146adb6f56ecd13260fde",
            "430688b6513746c8846709e744461f5a",
            "8f3e4b2241114c4298aac87a636baeb1",
            "514fe1e940c642bcb7313daa6f34f36c",
            "a0437e7784c34bb5bd85887413ff0df6",
            "aa0ab1d9c2a14d828b9e354d762b93a1",
            "91cdb6f49ad246dc9e95aa22950a42f4",
            "55db7eae4ea5448689fe988a405f88b6",
            "dbef40e200e04a85ba1dd800ab3bfc87",
            "f5e3f82bc0144ef791ad875549c814e5",
            "2eb2f7bd469d462cb60283c0418877be",
            "93863b3c269a4d5b95d0fd1c6197b63d",
            "f41d446cedf34e5d98554d2a6ed94a4d",
            "3ab02abe7dea440288b8c9a97852cb96",
            "fcbf6d8a39044a1d8ca7265b8ce90594",
            "c1fbeb039c4740928b1d80ceeffbfb9f",
            "be4c70e5b5c544fd932246368626df80",
            "30d21c4487aa48568e6a4c5a81a3b0fb",
            "7313ed745df243d99780222c936634ae",
            "d399c4c12c964e9490c9690a1e8b06df",
            "9f0bdbd90dbc488aba7ceb32a198c734",
            "2e5c3f3cc0304c0d90eb466d210bd8f1",
            "1d956e663b2e45d5b46c294ed9b806a0",
            "8959310eb39b458c9e301e4691425e8a"
          ]
        },
        "id": "3e6dfff6",
        "outputId": "71d36e80-94e9-4f6c-c75a-0c14601e54e5"
      },
      "outputs": [
        {
          "output_type": "display_data",
          "data": {
            "text/plain": [
              "Downloading (…)tencepiece.bpe.model:   0%|          | 0.00/5.07M [00:00<?, ?B/s]"
            ],
            "application/vnd.jupyter.widget-view+json": {
              "version_major": 2,
              "version_minor": 0,
              "model_id": "ef4100d06d0a4ceda1689cc2169e05c2"
            }
          },
          "metadata": {}
        },
        {
          "output_type": "display_data",
          "data": {
            "text/plain": [
              "Downloading (…)cial_tokens_map.json:   0%|          | 0.00/649 [00:00<?, ?B/s]"
            ],
            "application/vnd.jupyter.widget-view+json": {
              "version_major": 2,
              "version_minor": 0,
              "model_id": "ac8b59bcd0aa497190aa916250b1dcdf"
            }
          },
          "metadata": {}
        },
        {
          "output_type": "display_data",
          "data": {
            "text/plain": [
              "Downloading (…)okenizer_config.json:   0%|          | 0.00/529 [00:00<?, ?B/s]"
            ],
            "application/vnd.jupyter.widget-view+json": {
              "version_major": 2,
              "version_minor": 0,
              "model_id": "8f3e4b2241114c4298aac87a636baeb1"
            }
          },
          "metadata": {}
        },
        {
          "output_type": "display_data",
          "data": {
            "text/plain": [
              "Downloading (…)lve/main/config.json:   0%|          | 0.00/1.43k [00:00<?, ?B/s]"
            ],
            "application/vnd.jupyter.widget-view+json": {
              "version_major": 2,
              "version_minor": 0,
              "model_id": "3ab02abe7dea440288b8c9a97852cb96"
            }
          },
          "metadata": {}
        }
      ],
      "source": [
        "tokenizer = MBart50Tokenizer.from_pretrained(\"facebook/mbart-large-50-many-to-many-mmt\")"
      ]
    },
    {
      "cell_type": "code",
      "execution_count": null,
      "id": "6b9c5b46",
      "metadata": {
        "colab": {
          "base_uri": "https://localhost:8080/"
        },
        "id": "6b9c5b46",
        "outputId": "5c588a18-de97-4134-81a2-a22f5b4a3e7d"
      },
      "outputs": [
        {
          "output_type": "stream",
          "name": "stdout",
          "text": [
            "250054\n"
          ]
        }
      ],
      "source": [
        "print(tokenizer.vocab_size)"
      ]
    },
    {
      "cell_type": "code",
      "execution_count": null,
      "id": "fb52c971",
      "metadata": {
        "id": "fb52c971"
      },
      "outputs": [],
      "source": [
        "with open ('bur_all.txt', 'r', encoding='utf-8') as f:\n",
        "   bur_all = f.readlines()"
      ]
    },
    {
      "cell_type": "code",
      "execution_count": null,
      "id": "612bf35a",
      "metadata": {
        "colab": {
          "base_uri": "https://localhost:8080/"
        },
        "id": "612bf35a",
        "outputId": "b3d7175c-b6ea-48c4-8ae6-d6fb3bc8ab71"
      },
      "outputs": [
        {
          "output_type": "execute_result",
          "data": {
            "text/plain": [
              "203060"
            ]
          },
          "metadata": {},
          "execution_count": 7
        }
      ],
      "source": [
        "bur_all = set(bur_all)\n",
        "len(bur_all)"
      ]
    },
    {
      "cell_type": "code",
      "execution_count": null,
      "id": "0890b140",
      "metadata": {
        "id": "0890b140"
      },
      "outputs": [],
      "source": [
        "def get_tokens(text, tokenizer, verbose=False):\n",
        "    toks = tokenizer.tokenize(text)\n",
        "    words = []\n",
        "    word = []\n",
        "    prev_punct = False\n",
        "    for tok in toks:\n",
        "        is_punct = tok.lstrip(SPACE) and all(c in PUNCT for c in tok.lstrip(SPACE))\n",
        "        if tok.startswith(SPACE) or prev_punct != is_punct:\n",
        "            if word:\n",
        "                words.append(word)\n",
        "            word = []\n",
        "        word.append(tok)\n",
        "        prev_punct = is_punct\n",
        "    if word:\n",
        "        words.append(word)\n",
        "    if verbose:\n",
        "        print(words)\n",
        "    res = words\n",
        "    # assert tokenizer.decode([tok for t in res for tok in t]) == text\n",
        "    return res"
      ]
    },
    {
      "cell_type": "code",
      "execution_count": null,
      "id": "519fbf83",
      "metadata": {
        "colab": {
          "base_uri": "https://localhost:8080/",
          "height": 66,
          "referenced_widgets": [
            "bd0bfdf8ac81449f947aa4b7a8dda056",
            "9f895687285a40c187da25e3b4584e82",
            "411e3bbd0f394c59bd735c3b48c7a4b8",
            "1c9607ae9a7543ccb226d1ab40e0b2ec",
            "b2c20f5eb3f149e99bb737c4e553a5cc",
            "e25e412c28384a23ad818cfe8bf0219c",
            "209be5c2ce174ea1a617ca6207567927",
            "e00b7514b7e94d0580958a11b2536ee2",
            "87ed1f10edb64fa6bcd62c306608103d",
            "e1b3c453c7a343a08a69fc2fa30c28a6",
            "076565af98b947f1981897e8c732d14d"
          ]
        },
        "id": "519fbf83",
        "outputId": "7e165e24-b89b-40bf-9523-25844cb6fcb3"
      },
      "outputs": [
        {
          "output_type": "display_data",
          "data": {
            "text/plain": [
              "  0%|          | 0/203060 [00:00<?, ?it/s]"
            ],
            "application/vnd.jupyter.widget-view+json": {
              "version_major": 2,
              "version_minor": 0,
              "model_id": "bd0bfdf8ac81449f947aa4b7a8dda056"
            }
          },
          "metadata": {}
        },
        {
          "output_type": "stream",
          "name": "stdout",
          "text": [
            "465440\n"
          ]
        }
      ],
      "source": [
        "PUNCT = '.,-—:)(»«!?–/;„\"“…*́№Ёҥ[]”^%+І=і•_􏰀²|}{#‘■>⁠’á<°\\§\\''\n",
        "SPACE = '▁'\n",
        "word_count = Counter()\n",
        "word2toks = {}\n",
        "for text in tqdm(bur_all):\n",
        "    for word_toks in get_tokens(text, tokenizer):\n",
        "        word = ''.join(word_toks)\n",
        "        word_count[word] += 1\n",
        "        word2toks[word] = word_toks\n",
        "print(len(word_count))"
      ]
    },
    {
      "cell_type": "code",
      "execution_count": null,
      "id": "1ac59169",
      "metadata": {
        "id": "1ac59169"
      },
      "outputs": [],
      "source": [
        "word_count2 = deepcopy(word_count)\n",
        "word2toks2 = deepcopy(word2toks)"
      ]
    },
    {
      "cell_type": "code",
      "execution_count": null,
      "id": "54fdac22",
      "metadata": {
        "id": "54fdac22"
      },
      "outputs": [],
      "source": [
        "word_count = deepcopy(word_count2)\n",
        "word2toks = deepcopy(word2toks2)"
      ]
    },
    {
      "cell_type": "code",
      "execution_count": null,
      "id": "284eab24",
      "metadata": {
        "colab": {
          "base_uri": "https://localhost:8080/"
        },
        "id": "284eab24",
        "outputId": "326ff506-e418-47e5-abaa-e3a8e1147e30"
      },
      "outputs": [
        {
          "output_type": "stream",
          "name": "stdout",
          "text": [
            "['▁гэж', 'э']\n",
            "['▁h', 'эн']\n",
            "['▁нэг', 'э']\n",
            "['▁тэр', 'э']\n",
            "['▁бай', 'h', 'ан']\n",
            "['▁л', 'э']\n",
            "['▁дээр', 'э']\n",
            "['▁е', 'х', 'э']\n"
          ]
        }
      ],
      "source": [
        "for k, v in word_count.most_common(30):\n",
        "    if len(word2toks[k]) > 1:\n",
        "        print(word2toks[k])"
      ]
    },
    {
      "cell_type": "code",
      "execution_count": null,
      "id": "252269c3",
      "metadata": {
        "id": "252269c3"
      },
      "outputs": [],
      "source": [
        "steps = 100_000\n",
        "min_count = 30  \n",
        "# default:   0 new tokens, 30 lenght, 0% new tokens\n",
        "# 100 mindf: 6.6k new tokens, 22 length, 47% new tokens (of sentence length)\n",
        "# 30 mindf:  20k new tokens, 20 length, 58% new tokens\n",
        "# 10 mindf: 50K new tokens, 18.5 length, 64% new tokens\n",
        "extra_vocab = []\n",
        "extra_counts = []\n",
        "extra_pairs = []"
      ]
    },
    {
      "cell_type": "code",
      "execution_count": null,
      "id": "c103309a",
      "metadata": {
        "colab": {
          "base_uri": "https://localhost:8080/",
          "height": 49,
          "referenced_widgets": [
            "10bd630013fa46a8b0caeb8ae8c0ce92",
            "61b042cbaae54a70a2dc3bb6b138f5e7",
            "c33312cb75a74db38d672b36ef96f8da",
            "616ec0020ef845a69d002aa62f46efbd",
            "5d2cb16c4ad84644920a1a2c625b374a",
            "d9c4be0c834943f195f664f47e956f4a",
            "1ca8c42ac0e9445e845988ad5035ed4c",
            "19b2b78ec268444db62423d196cd5053",
            "9d9e084e768d46a9a0b6a77a3cf144b9",
            "60f6d4370e4f4dc08f0e3021c59f5cb7",
            "eb03eb8a64c7490e91f246fb42612c99"
          ]
        },
        "id": "c103309a",
        "outputId": "9c58a4f4-3f9f-42c2-da11-b1ad827f460c"
      },
      "outputs": [
        {
          "output_type": "display_data",
          "data": {
            "text/plain": [
              "  0%|          | 0/465440 [00:00<?, ?it/s]"
            ],
            "application/vnd.jupyter.widget-view+json": {
              "version_major": 2,
              "version_minor": 0,
              "model_id": "10bd630013fa46a8b0caeb8ae8c0ce92"
            }
          },
          "metadata": {}
        }
      ],
      "source": [
        "pairs_count = Counter()\n",
        "pair2word = defaultdict(set)\n",
        "for w, c in tqdm(word_count.items(), total=len(word_count)):\n",
        "    enc = word2toks[w]\n",
        "    for pair in zip(enc[:-1], enc[1:]):\n",
        "        pairs_count[pair] += c\n",
        "        pair2word[pair].add(w)"
      ]
    },
    {
      "cell_type": "code",
      "execution_count": null,
      "id": "8545c5de",
      "metadata": {
        "id": "8545c5de"
      },
      "outputs": [],
      "source": [
        "from heapdict import heapdict\n",
        "hd = heapdict()\n",
        "for w, c in pairs_count.items():\n",
        "    hd[w] = -c"
      ]
    },
    {
      "cell_type": "code",
      "execution_count": null,
      "id": "90a76b4c",
      "metadata": {
        "id": "90a76b4c"
      },
      "outputs": [],
      "source": [
        "def replace_pair(old_tokens, pair, new_token):\n",
        "    result = []\n",
        "    prev = old_tokens[0]\n",
        "    for tok in old_tokens[1:]:\n",
        "        if (prev, tok) == pair:\n",
        "            result.append(new_token)\n",
        "            prev = None\n",
        "        else:\n",
        "            if prev is not None:\n",
        "                result.append(prev)\n",
        "            prev = tok\n",
        "    if prev is not None:\n",
        "        result.append(prev)\n",
        "    return result"
      ]
    },
    {
      "cell_type": "code",
      "execution_count": null,
      "id": "702db78e",
      "metadata": {
        "colab": {
          "base_uri": "https://localhost:8080/",
          "height": 49,
          "referenced_widgets": [
            "493b189c04cb43fe9c1924acef411d90",
            "2880b1df35b94e93a16f869663a1eff3",
            "4c3b0d85879e46fa80a02ec4282928ad",
            "0468cd46fecc43429f6564eb5ffb5095",
            "9b60f851153d4f02802effdb48d98e48",
            "bac1f55cbb6847e48bb3c8faaa239d95",
            "6bed1978d4004552861a8435529defb8",
            "5c6faa5178884246b6dac48758bbaee2",
            "020ce36a23154b8c904f803b9c61f28d",
            "3db92dbdc6594e1e9111842816d64a4e",
            "cfac8bfed4fa40d1985f0b31b3d9b9cb"
          ]
        },
        "id": "702db78e",
        "outputId": "15afc4c3-f38e-4338-bf67-8cd2503fcdc0"
      },
      "outputs": [
        {
          "output_type": "display_data",
          "data": {
            "text/plain": [
              "  0%|          | 0/100000 [00:00<?, ?it/s]"
            ],
            "application/vnd.jupyter.widget-view+json": {
              "version_major": 2,
              "version_minor": 0,
              "model_id": "493b189c04cb43fe9c1924acef411d90"
            }
          },
          "metadata": {}
        }
      ],
      "source": [
        "for _ in trange(steps):\n",
        "    #pair, c = pairs_count.most_common(1)[0]  # это самая времязатратная операция\n",
        "    pair, c = hd.peekitem()\n",
        "    c = -c\n",
        "    \n",
        "    if c < min_count:\n",
        "        break\n",
        "    new_token = ''.join(pair) # instead of BERT-like pair[0] + pair[1][2:]\n",
        "    extra_vocab.append(pair)\n",
        "    extra_counts.append(c)\n",
        "    extra_pairs.append(pair)\n",
        "    \n",
        "    # update the vocabulary\n",
        "    #new_id = len(id2ids)\n",
        "    #tok2id[new_token] = new_id\n",
        "    #id2ids.append(id2ids[tok2id[pair[0]]] + id2ids[tok2id[pair[1]]]) \n",
        "    \n",
        "    # calculate the delta for the heap\n",
        "    delta = Counter()\n",
        "    for word in list(pair2word[pair]):\n",
        "        # calculate old and new ways to tokenize the word\n",
        "        old_toks = word2toks[word]\n",
        "        # new_toks = \" \".join(old_toks).replace(' '.join(pair), new_token).split(\" \")\n",
        "        new_toks = replace_pair(old_toks, pair, new_token)\n",
        "        word2toks[word] = new_toks\n",
        "        wc = word_count[word]\n",
        "        # update the index concerning the tokens of the word\n",
        "        for old_pair in zip(old_toks[:-1], old_toks[1:]):\n",
        "            #pairs_count[old_pair] -= wc\n",
        "            delta[old_pair] -= wc\n",
        "            if word in pair2word[old_pair]:\n",
        "                pair2word[old_pair].remove(word)\n",
        "        for new_pair in zip(new_toks[:-1], new_toks[1:]):\n",
        "            # pairs_count[new_pair] += wc\n",
        "            delta[new_pair] += wc\n",
        "            pair2word[new_pair].add(word)\n",
        "    # update the heap\n",
        "    for a_pair, a_delta in delta.items():\n",
        "        if a_delta == 0:\n",
        "            continue\n",
        "        if a_pair not in hd:\n",
        "            hd[a_pair] = 0\n",
        "        hd[a_pair] -= a_delta"
      ]
    },
    {
      "cell_type": "code",
      "execution_count": null,
      "id": "71931ad6",
      "metadata": {
        "colab": {
          "base_uri": "https://localhost:8080/"
        },
        "id": "71931ad6",
        "outputId": "1691bd4a-dea5-406b-d669-25df4c445f44"
      },
      "outputs": [
        {
          "output_type": "execute_result",
          "data": {
            "text/plain": [
              "21818"
            ]
          },
          "metadata": {},
          "execution_count": 18
        }
      ],
      "source": [
        "len(extra_pairs)"
      ]
    },
    {
      "cell_type": "code",
      "execution_count": null,
      "id": "4e1b3177",
      "metadata": {
        "colab": {
          "base_uri": "https://localhost:8080/"
        },
        "id": "4e1b3177",
        "outputId": "3bd456d3-5bee-46a4-e00c-12542f2b311b"
      },
      "outputs": [
        {
          "output_type": "execute_result",
          "data": {
            "text/plain": [
              "[('h', 'ан'),\n",
              " ('▁гэж', 'э'),\n",
              " ('h', 'эн'),\n",
              " ('х', 'э'),\n",
              " ('h', 'а'),\n",
              " ('б', 'э'),\n",
              " ('шь', 'е'),\n",
              " ('▁я', 'ба'),\n",
              " ('я', 'а'),\n",
              " ('h', 'аа')]"
            ]
          },
          "metadata": {},
          "execution_count": 19
        }
      ],
      "source": [
        "extra_pairs[:10]"
      ]
    },
    {
      "cell_type": "code",
      "execution_count": null,
      "id": "35bb4cdd",
      "metadata": {
        "colab": {
          "base_uri": "https://localhost:8080/"
        },
        "id": "35bb4cdd",
        "outputId": "e43039cb-2a87-4f08-8e49-a3a1ece40cf8"
      },
      "outputs": [
        {
          "output_type": "execute_result",
          "data": {
            "text/plain": [
              "('old_tokenizer/tokenizer_config.json',\n",
              " 'old_tokenizer/special_tokens_map.json',\n",
              " 'old_tokenizer/sentencepiece.bpe.model',\n",
              " 'old_tokenizer/added_tokens.json')"
            ]
          },
          "metadata": {},
          "execution_count": 20
        }
      ],
      "source": [
        "tokenizer.save_pretrained('old_tokenizer')"
      ]
    },
    {
      "cell_type": "code",
      "execution_count": null,
      "id": "b6f3aae0",
      "metadata": {
        "id": "b6f3aae0"
      },
      "outputs": [],
      "source": [
        "# with open('extra_pairs.json', 'w', encoding='utf-8') as f:\n",
        "#   json.dump(extra_pairs, f)"
      ]
    },
    {
      "cell_type": "code",
      "execution_count": null,
      "id": "a9b8ddfd",
      "metadata": {
        "id": "a9b8ddfd"
      },
      "outputs": [],
      "source": [
        "# with open('extra_vocab.json', 'w', encoding='utf-8') as f:\n",
        "#   json.dump(extra_vocab, f)"
      ]
    },
    {
      "cell_type": "code",
      "execution_count": null,
      "id": "9e23047f",
      "metadata": {
        "id": "9e23047f"
      },
      "outputs": [],
      "source": [
        "# with open('extra_vocab.json', 'r', encoding='utf-8') as f:\n",
        "#   extra_vocab = json.load(f)"
      ]
    },
    {
      "cell_type": "code",
      "execution_count": null,
      "id": "694b7a8d",
      "metadata": {
        "id": "694b7a8d"
      },
      "outputs": [],
      "source": [
        "# with open('extra_pairs.json', 'r', encoding='utf-8') as f:\n",
        "#   extra_pairs = json.load(f)"
      ]
    },
    {
      "cell_type": "code",
      "execution_count": null,
      "id": "b7def3c1",
      "metadata": {
        "colab": {
          "base_uri": "https://localhost:8080/",
          "height": 487
        },
        "id": "b7def3c1",
        "outputId": "10bed537-438f-47f6-a9fe-2a21ed74b50f"
      },
      "outputs": [
        {
          "output_type": "stream",
          "name": "stdout",
          "text": [
            "Looking in indexes: https://pypi.org/simple, https://us-python.pkg.dev/colab-wheels/public/simple/\n",
            "Collecting protobuf<=3.20.1\n",
            "  Downloading protobuf-3.20.1-cp310-cp310-manylinux_2_12_x86_64.manylinux2010_x86_64.whl (1.1 MB)\n",
            "\u001b[2K     \u001b[90m━━━━━━━━━━━━━━━━━━━━━━━━━━━━━━━━━━━━━━━━\u001b[0m \u001b[32m1.1/1.1 MB\u001b[0m \u001b[31m17.4 MB/s\u001b[0m eta \u001b[36m0:00:00\u001b[0m\n",
            "\u001b[?25hInstalling collected packages: protobuf\n",
            "  Attempting uninstall: protobuf\n",
            "    Found existing installation: protobuf 3.20.3\n",
            "    Uninstalling protobuf-3.20.3:\n",
            "      Successfully uninstalled protobuf-3.20.3\n",
            "\u001b[31mERROR: pip's dependency resolver does not currently take into account all the packages that are installed. This behaviour is the source of the following dependency conflicts.\n",
            "google-api-core 2.11.0 requires protobuf!=3.20.0,!=3.20.1,!=4.21.0,!=4.21.1,!=4.21.2,!=4.21.3,!=4.21.4,!=4.21.5,<5.0.0dev,>=3.19.5, but you have protobuf 3.20.1 which is incompatible.\n",
            "google-cloud-bigquery 3.9.0 requires protobuf!=3.20.0,!=3.20.1,!=4.21.0,!=4.21.1,!=4.21.2,!=4.21.3,!=4.21.4,!=4.21.5,<5.0.0dev,>=3.19.5, but you have protobuf 3.20.1 which is incompatible.\n",
            "google-cloud-bigquery-storage 2.19.1 requires protobuf!=3.20.0,!=3.20.1,!=4.21.0,!=4.21.1,!=4.21.2,!=4.21.3,!=4.21.4,!=4.21.5,<5.0.0dev,>=3.19.5, but you have protobuf 3.20.1 which is incompatible.\n",
            "google-cloud-datastore 2.15.1 requires protobuf!=3.20.0,!=3.20.1,!=4.21.0,!=4.21.1,!=4.21.2,!=4.21.3,!=4.21.4,!=4.21.5,<5.0.0dev,>=3.19.5, but you have protobuf 3.20.1 which is incompatible.\n",
            "google-cloud-firestore 2.11.0 requires protobuf!=3.20.0,!=3.20.1,!=4.21.0,!=4.21.1,!=4.21.2,!=4.21.3,!=4.21.4,!=4.21.5,<5.0.0dev,>=3.19.5, but you have protobuf 3.20.1 which is incompatible.\n",
            "google-cloud-language 2.9.1 requires protobuf!=3.20.0,!=3.20.1,!=4.21.0,!=4.21.1,!=4.21.2,!=4.21.3,!=4.21.4,!=4.21.5,<5.0.0dev,>=3.19.5, but you have protobuf 3.20.1 which is incompatible.\n",
            "google-cloud-translate 3.11.1 requires protobuf!=3.20.0,!=3.20.1,!=4.21.0,!=4.21.1,!=4.21.2,!=4.21.3,!=4.21.4,!=4.21.5,<5.0.0dev,>=3.19.5, but you have protobuf 3.20.1 which is incompatible.\n",
            "googleapis-common-protos 1.59.0 requires protobuf!=3.20.0,!=3.20.1,!=4.21.1,!=4.21.2,!=4.21.3,!=4.21.4,!=4.21.5,<5.0.0dev,>=3.19.5, but you have protobuf 3.20.1 which is incompatible.\n",
            "tensorflow 2.12.0 requires protobuf!=4.21.0,!=4.21.1,!=4.21.2,!=4.21.3,!=4.21.4,!=4.21.5,<5.0.0dev,>=3.20.3, but you have protobuf 3.20.1 which is incompatible.\n",
            "tensorflow-metadata 1.13.1 requires protobuf<5,>=3.20.3, but you have protobuf 3.20.1 which is incompatible.\u001b[0m\u001b[31m\n",
            "\u001b[0mSuccessfully installed protobuf-3.20.1\n"
          ]
        },
        {
          "output_type": "display_data",
          "data": {
            "application/vnd.colab-display-data+json": {
              "pip_warning": {
                "packages": [
                  "google"
                ]
              }
            }
          },
          "metadata": {}
        }
      ],
      "source": [
        "!pip install --upgrade \"protobuf<=3.20.1\""
      ]
    },
    {
      "cell_type": "code",
      "execution_count": null,
      "id": "f7374a6e",
      "metadata": {
        "colab": {
          "base_uri": "https://localhost:8080/"
        },
        "id": "f7374a6e",
        "outputId": "ac2b9927-af2c-46fa-cb5f-3b93361d5fc4"
      },
      "outputs": [
        {
          "output_type": "execute_result",
          "data": {
            "text/plain": [
              "5069051"
            ]
          },
          "metadata": {},
          "execution_count": 26
        }
      ],
      "source": [
        "import sentencepiece_model_pb2 as model\n",
        "m = model.ModelProto()\n",
        "m.ParseFromString(open(\"old_tokenizer/sentencepiece.bpe.model\", \"rb\").read())"
      ]
    },
    {
      "cell_type": "code",
      "execution_count": null,
      "id": "b5f1dd90",
      "metadata": {
        "id": "b5f1dd90"
      },
      "outputs": [],
      "source": [
        "scores = [p.score for p in m.pieces]\n",
        "min_score = min(scores)\n",
        "epsilon = 1e-4"
      ]
    },
    {
      "cell_type": "code",
      "execution_count": null,
      "id": "9708a942",
      "metadata": {
        "id": "9708a942"
      },
      "outputs": [],
      "source": [
        "for i, pair in enumerate(extra_vocab):\n",
        "    new_token = model.ModelProto().SentencePiece()\n",
        "    new_token.piece = ''.join(pair)\n",
        "    new_token.score = min_score - epsilon * (i+1)\n",
        "    m.pieces.append(new_token)"
      ]
    },
    {
      "cell_type": "code",
      "execution_count": null,
      "id": "53127238",
      "metadata": {
        "id": "53127238"
      },
      "outputs": [],
      "source": [
        "with open(\"old_tokenizer/sentencepiece.bpe.model\", 'wb') as f:\n",
        "    f.write(m.SerializeToString())"
      ]
    },
    {
      "cell_type": "code",
      "execution_count": null,
      "id": "a12b727c",
      "metadata": {
        "id": "a12b727c"
      },
      "outputs": [],
      "source": [
        "tokenizer =  MBart50Tokenizer.from_pretrained(\n",
        "    \"old_tokenizer/\") "
      ]
    },
    {
      "cell_type": "code",
      "execution_count": null,
      "id": "554f9868",
      "metadata": {
        "id": "554f9868"
      },
      "outputs": [],
      "source": [
        "new_tokenizer = MBart50Tokenizer.from_pretrained(\n",
        "    \"old_tokenizer/\", \n",
        "    additional_special_tokens = tokenizer.additional_special_tokens\n",
        ")"
      ]
    },
    {
      "cell_type": "code",
      "execution_count": null,
      "id": "099a016a",
      "metadata": {
        "colab": {
          "base_uri": "https://localhost:8080/"
        },
        "id": "099a016a",
        "outputId": "dbff4479-d8fe-47a9-e68c-4fcbf75382cb"
      },
      "outputs": [
        {
          "output_type": "execute_result",
          "data": {
            "text/plain": [
              "271872"
            ]
          },
          "metadata": {},
          "execution_count": 32
        }
      ],
      "source": [
        "new_tokenizer.vocab_size"
      ]
    },
    {
      "cell_type": "markdown",
      "id": "d137b5d2",
      "metadata": {
        "id": "d137b5d2"
      },
      "source": [
        "7893 новых токенов"
      ]
    },
    {
      "cell_type": "code",
      "execution_count": null,
      "id": "f2cbd3b6",
      "metadata": {
        "id": "f2cbd3b6"
      },
      "outputs": [],
      "source": [
        "from transformers.models.mbart50.tokenization_mbart50 import FAIRSEQ_LANGUAGE_CODES"
      ]
    },
    {
      "cell_type": "code",
      "execution_count": null,
      "id": "6d595ba8",
      "metadata": {
        "id": "6d595ba8"
      },
      "outputs": [],
      "source": [
        "self = new_tokenizer"
      ]
    },
    {
      "cell_type": "code",
      "execution_count": null,
      "id": "0c88e630",
      "metadata": {
        "id": "0c88e630"
      },
      "outputs": [],
      "source": [
        "self.lang_code_to_id = {\n",
        "    code: self.sp_model_size + i + self.fairseq_offset for i, code in enumerate(FAIRSEQ_LANGUAGE_CODES + ['bxr_XX'])\n",
        "}\n",
        "self.id_to_lang_code = {v: k for k, v in self.lang_code_to_id.items()}\n",
        "self.fairseq_tokens_to_ids[\"<mask>\"] = len(self.sp_model) + len(self.lang_code_to_id) + self.fairseq_offset\n",
        "\n",
        "self.fairseq_tokens_to_ids.update(self.lang_code_to_id)\n",
        "self.fairseq_ids_to_tokens = {v: k for k, v in self.fairseq_tokens_to_ids.items()}"
      ]
    },
    {
      "cell_type": "code",
      "execution_count": null,
      "id": "0b4b49fa",
      "metadata": {
        "id": "0b4b49fa"
      },
      "outputs": [],
      "source": [
        "new_tokenizer.additional_special_tokens.append('bxr_XX')"
      ]
    },
    {
      "cell_type": "code",
      "execution_count": null,
      "id": "3f921ddf",
      "metadata": {
        "colab": {
          "base_uri": "https://localhost:8080/"
        },
        "id": "3f921ddf",
        "outputId": "3f084035-265c-4d00-a308-0af0e7f85705"
      },
      "outputs": [
        {
          "output_type": "execute_result",
          "data": {
            "text/plain": [
              "271873"
            ]
          },
          "metadata": {},
          "execution_count": 37
        }
      ],
      "source": [
        "# +1 токен для обозначения языка\n",
        "new_tokenizer.vocab_size"
      ]
    },
    {
      "cell_type": "code",
      "execution_count": null,
      "id": "f4926727",
      "metadata": {
        "id": "f4926727"
      },
      "outputs": [],
      "source": [
        "tokenizer = MBart50Tokenizer.from_pretrained(\"facebook/mbart-large-50-many-to-many-mmt\")"
      ]
    },
    {
      "cell_type": "code",
      "execution_count": null,
      "id": "2047f8e3",
      "metadata": {
        "colab": {
          "base_uri": "https://localhost:8080/"
        },
        "id": "2047f8e3",
        "outputId": "860518dc-7af6-4df0-9130-346c819e6da5"
      },
      "outputs": [
        {
          "output_type": "stream",
          "name": "stdout",
          "text": [
            "['▁Ен', 'дон', ',', '▁ши', ',', '▁х', 'яла', 'йл', '-', '▁га', 'жа', ',', '▁энэ', '▁Нор', 'жо', 'мо', '▁у', 'б', 'сан', 'са', 'тай', 'м', '▁на', 'ана', 'тай', '▁са', 'ана', 'тай', 'хан', '▁я', 'ба', 'h', 'ан', '▁бэ', 'з', 'эт', ',', '▁мэд', 'энэ', 'б', ',', '—', '▁', 'гэн', '▁тэр', 'э', '▁хор', 'о', 'гүй', 'хэн', 'өөр', '▁эне', 'э', '-', '▁с', 'эг', 'ээ', 'б', 'э', '.']\n",
            "['▁Ендон', ',', '▁ши', ',', '▁х', 'яла', 'йл', '-', '▁гажа', ',', '▁энэ', '▁Норжомо', '▁убсан', 'са', 'тай', 'м', '▁на', 'ана', 'тай', '▁са', 'ана', 'тайхан', '▁ябаhан', '▁бэзэт', ',', '▁мэдэнэб', ',', '—', '▁', 'гэн', '▁тэрэ', '▁хор', 'о', 'гүйхэнөөр', '▁энеэ', '-', '▁сэгээ', 'бэ', '.']\n"
          ]
        }
      ],
      "source": [
        "print(tokenizer.tokenize(text))\n",
        "print(new_tokenizer.tokenize(text))"
      ]
    },
    {
      "cell_type": "code",
      "execution_count": null,
      "id": "8d083e2f",
      "metadata": {
        "colab": {
          "base_uri": "https://localhost:8080/"
        },
        "id": "8d083e2f",
        "outputId": "686fbf24-eed9-4934-b287-adf0d19a152c"
      },
      "outputs": [
        {
          "output_type": "stream",
          "name": "stderr",
          "text": [
            "<ipython-input-40-aaaef8a53f32>:2: DeprecationWarning: Sampling from a set deprecated\n",
            "since Python 3.9 and will be removed in a subsequent version.\n",
            "  sample = random.sample(bur_all, 10000)\n"
          ]
        }
      ],
      "source": [
        "random.seed(1)\n",
        "sample = random.sample(bur_all, 10000)"
      ]
    },
    {
      "cell_type": "code",
      "execution_count": null,
      "id": "f6522c92",
      "metadata": {
        "colab": {
          "base_uri": "https://localhost:8080/",
          "height": 300
        },
        "id": "f6522c92",
        "outputId": "bb0ba06c-bdfb-4a8b-9abd-8e02f1d48bfd"
      },
      "outputs": [
        {
          "output_type": "execute_result",
          "data": {
            "text/plain": [
              "                old           new\n",
              "count  10000.000000  10000.000000\n",
              "mean      52.313700     31.575900\n",
              "std       70.951928     43.196364\n",
              "min        3.000000      2.000000\n",
              "25%       20.000000     12.000000\n",
              "50%       34.000000     21.000000\n",
              "75%       60.000000     36.000000\n",
              "max     3601.000000   2183.000000"
            ],
            "text/html": [
              "\n",
              "  <div id=\"df-80b80b8d-5b8e-4c72-ab01-5ef4b29d77a0\">\n",
              "    <div class=\"colab-df-container\">\n",
              "      <div>\n",
              "<style scoped>\n",
              "    .dataframe tbody tr th:only-of-type {\n",
              "        vertical-align: middle;\n",
              "    }\n",
              "\n",
              "    .dataframe tbody tr th {\n",
              "        vertical-align: top;\n",
              "    }\n",
              "\n",
              "    .dataframe thead th {\n",
              "        text-align: right;\n",
              "    }\n",
              "</style>\n",
              "<table border=\"1\" class=\"dataframe\">\n",
              "  <thead>\n",
              "    <tr style=\"text-align: right;\">\n",
              "      <th></th>\n",
              "      <th>old</th>\n",
              "      <th>new</th>\n",
              "    </tr>\n",
              "  </thead>\n",
              "  <tbody>\n",
              "    <tr>\n",
              "      <th>count</th>\n",
              "      <td>10000.000000</td>\n",
              "      <td>10000.000000</td>\n",
              "    </tr>\n",
              "    <tr>\n",
              "      <th>mean</th>\n",
              "      <td>52.313700</td>\n",
              "      <td>31.575900</td>\n",
              "    </tr>\n",
              "    <tr>\n",
              "      <th>std</th>\n",
              "      <td>70.951928</td>\n",
              "      <td>43.196364</td>\n",
              "    </tr>\n",
              "    <tr>\n",
              "      <th>min</th>\n",
              "      <td>3.000000</td>\n",
              "      <td>2.000000</td>\n",
              "    </tr>\n",
              "    <tr>\n",
              "      <th>25%</th>\n",
              "      <td>20.000000</td>\n",
              "      <td>12.000000</td>\n",
              "    </tr>\n",
              "    <tr>\n",
              "      <th>50%</th>\n",
              "      <td>34.000000</td>\n",
              "      <td>21.000000</td>\n",
              "    </tr>\n",
              "    <tr>\n",
              "      <th>75%</th>\n",
              "      <td>60.000000</td>\n",
              "      <td>36.000000</td>\n",
              "    </tr>\n",
              "    <tr>\n",
              "      <th>max</th>\n",
              "      <td>3601.000000</td>\n",
              "      <td>2183.000000</td>\n",
              "    </tr>\n",
              "  </tbody>\n",
              "</table>\n",
              "</div>\n",
              "      <button class=\"colab-df-convert\" onclick=\"convertToInteractive('df-80b80b8d-5b8e-4c72-ab01-5ef4b29d77a0')\"\n",
              "              title=\"Convert this dataframe to an interactive table.\"\n",
              "              style=\"display:none;\">\n",
              "        \n",
              "  <svg xmlns=\"http://www.w3.org/2000/svg\" height=\"24px\"viewBox=\"0 0 24 24\"\n",
              "       width=\"24px\">\n",
              "    <path d=\"M0 0h24v24H0V0z\" fill=\"none\"/>\n",
              "    <path d=\"M18.56 5.44l.94 2.06.94-2.06 2.06-.94-2.06-.94-.94-2.06-.94 2.06-2.06.94zm-11 1L8.5 8.5l.94-2.06 2.06-.94-2.06-.94L8.5 2.5l-.94 2.06-2.06.94zm10 10l.94 2.06.94-2.06 2.06-.94-2.06-.94-.94-2.06-.94 2.06-2.06.94z\"/><path d=\"M17.41 7.96l-1.37-1.37c-.4-.4-.92-.59-1.43-.59-.52 0-1.04.2-1.43.59L10.3 9.45l-7.72 7.72c-.78.78-.78 2.05 0 2.83L4 21.41c.39.39.9.59 1.41.59.51 0 1.02-.2 1.41-.59l7.78-7.78 2.81-2.81c.8-.78.8-2.07 0-2.86zM5.41 20L4 18.59l7.72-7.72 1.47 1.35L5.41 20z\"/>\n",
              "  </svg>\n",
              "      </button>\n",
              "      \n",
              "  <style>\n",
              "    .colab-df-container {\n",
              "      display:flex;\n",
              "      flex-wrap:wrap;\n",
              "      gap: 12px;\n",
              "    }\n",
              "\n",
              "    .colab-df-convert {\n",
              "      background-color: #E8F0FE;\n",
              "      border: none;\n",
              "      border-radius: 50%;\n",
              "      cursor: pointer;\n",
              "      display: none;\n",
              "      fill: #1967D2;\n",
              "      height: 32px;\n",
              "      padding: 0 0 0 0;\n",
              "      width: 32px;\n",
              "    }\n",
              "\n",
              "    .colab-df-convert:hover {\n",
              "      background-color: #E2EBFA;\n",
              "      box-shadow: 0px 1px 2px rgba(60, 64, 67, 0.3), 0px 1px 3px 1px rgba(60, 64, 67, 0.15);\n",
              "      fill: #174EA6;\n",
              "    }\n",
              "\n",
              "    [theme=dark] .colab-df-convert {\n",
              "      background-color: #3B4455;\n",
              "      fill: #D2E3FC;\n",
              "    }\n",
              "\n",
              "    [theme=dark] .colab-df-convert:hover {\n",
              "      background-color: #434B5C;\n",
              "      box-shadow: 0px 1px 3px 1px rgba(0, 0, 0, 0.15);\n",
              "      filter: drop-shadow(0px 1px 2px rgba(0, 0, 0, 0.3));\n",
              "      fill: #FFFFFF;\n",
              "    }\n",
              "  </style>\n",
              "\n",
              "      <script>\n",
              "        const buttonEl =\n",
              "          document.querySelector('#df-80b80b8d-5b8e-4c72-ab01-5ef4b29d77a0 button.colab-df-convert');\n",
              "        buttonEl.style.display =\n",
              "          google.colab.kernel.accessAllowed ? 'block' : 'none';\n",
              "\n",
              "        async function convertToInteractive(key) {\n",
              "          const element = document.querySelector('#df-80b80b8d-5b8e-4c72-ab01-5ef4b29d77a0');\n",
              "          const dataTable =\n",
              "            await google.colab.kernel.invokeFunction('convertToInteractive',\n",
              "                                                     [key], {});\n",
              "          if (!dataTable) return;\n",
              "\n",
              "          const docLinkHtml = 'Like what you see? Visit the ' +\n",
              "            '<a target=\"_blank\" href=https://colab.research.google.com/notebooks/data_table.ipynb>data table notebook</a>'\n",
              "            + ' to learn more about interactive tables.';\n",
              "          element.innerHTML = '';\n",
              "          dataTable['output_type'] = 'display_data';\n",
              "          await google.colab.output.renderOutput(dataTable, element);\n",
              "          const docLink = document.createElement('div');\n",
              "          docLink.innerHTML = docLinkHtml;\n",
              "          element.appendChild(docLink);\n",
              "        }\n",
              "      </script>\n",
              "    </div>\n",
              "  </div>\n",
              "  "
            ]
          },
          "metadata": {},
          "execution_count": 41
        }
      ],
      "source": [
        "# по 10к предложений статистика длины токенов\n",
        "pd.DataFrame({\n",
        "    'old': [len(tokenizer.tokenize(text)) for text in sample], \n",
        "    'new': [len(new_tokenizer.tokenize(text)) for text in sample]\n",
        "}).describe()"
      ]
    },
    {
      "cell_type": "markdown",
      "id": "a33cb8d0",
      "metadata": {
        "id": "a33cb8d0"
      },
      "source": [
        "## Calculating tokens alignment"
      ]
    },
    {
      "cell_type": "code",
      "execution_count": null,
      "id": "1abb56b6",
      "metadata": {
        "id": "1abb56b6"
      },
      "outputs": [],
      "source": [
        "with open('train.json', 'r', encoding='utf-8') as f:\n",
        "    all_pairs = json.load(f)"
      ]
    },
    {
      "cell_type": "code",
      "execution_count": null,
      "id": "375f29a5",
      "metadata": {
        "colab": {
          "base_uri": "https://localhost:8080/"
        },
        "id": "375f29a5",
        "outputId": "bcdf99ed-4527-4827-923e-32fb1e500213"
      },
      "outputs": [
        {
          "output_type": "execute_result",
          "data": {
            "text/plain": [
              "('длина параллельного текста (предложения и слова) ', 36437)"
            ]
          },
          "metadata": {},
          "execution_count": 44
        }
      ],
      "source": [
        "'длина параллельного текста (предложения и слова) ', len(all_pairs)"
      ]
    },
    {
      "cell_type": "code",
      "execution_count": null,
      "id": "d0abce9d",
      "metadata": {
        "id": "d0abce9d"
      },
      "outputs": [],
      "source": [
        "from collections import defaultdict, Counter\n",
        "token_priors = Counter()\n",
        "token_to_others = defaultdict(Counter)"
      ]
    },
    {
      "cell_type": "code",
      "execution_count": null,
      "id": "e1ee8fea",
      "metadata": {
        "colab": {
          "base_uri": "https://localhost:8080/",
          "height": 49,
          "referenced_widgets": [
            "660ced0757da46a0877e577a510f6120",
            "c7756a24d9464c14ad95c01b4b19530c",
            "11f0701014ec4bb2958ae4bca9186506",
            "e00c7c4e1f7b4da49b9f3fa6fc89140c",
            "6d6a3c04dcd44d1887faea060992ad65",
            "69ece6041f2e466394230efd7a3e0386",
            "8219158150354bacb70255366ae1f49c",
            "02cc88e0a06f4981922002b5415301e5",
            "901afe298f8144c3a54ad12e71ebb403",
            "4cf5e35d6c54453a9b18be7f37cd3f7d",
            "45e72fd9fa2c4d629799d6b4c7e59ff7"
          ]
        },
        "id": "e1ee8fea",
        "outputId": "fa2cbca0-5860-4178-bb39-8b20b4203c0a"
      },
      "outputs": [
        {
          "output_type": "display_data",
          "data": {
            "text/plain": [
              "  0%|          | 0/36437 [00:00<?, ?it/s]"
            ],
            "application/vnd.jupyter.widget-view+json": {
              "version_major": 2,
              "version_minor": 0,
              "model_id": "660ced0757da46a0877e577a510f6120"
            }
          },
          "metadata": {}
        }
      ],
      "source": [
        "for bur, ru in tqdm(all_pairs):\n",
        "    bur_toks = new_tokenizer.convert_tokens_to_ids(new_tokenizer.tokenize(bur))\n",
        "    ru_toks = tokenizer.convert_tokens_to_ids(tokenizer.tokenize(ru))\n",
        "    token_priors.update(ru_toks)\n",
        "    for bur_tok in bur_toks:\n",
        "        token_to_others[bur_tok].update(ru_toks)"
      ]
    },
    {
      "cell_type": "code",
      "execution_count": null,
      "id": "101cc6a4",
      "metadata": {
        "id": "101cc6a4"
      },
      "outputs": [],
      "source": [
        "import numpy as np\n",
        "\n",
        "def get_ru_toks(bxr_tok):\n",
        "    ru_toks = []\n",
        "    ru_weights = []\n",
        "    for t, w in token_to_others[bxr_tok].items():\n",
        "        ru_toks.append(t)\n",
        "        ru_weights.append(w**2 / token_priors[t])\n",
        "    ru_weights = np.array(ru_weights)\n",
        "    ru_weights = ru_weights / (sum(ru_weights) + 1e-4)\n",
        "    return ru_weights, ru_toks"
      ]
    },
    {
      "cell_type": "code",
      "execution_count": null,
      "id": "0d09782a",
      "metadata": {
        "colab": {
          "base_uri": "https://localhost:8080/"
        },
        "id": "0d09782a",
        "outputId": "ff42e19a-f3f7-4c9e-a6e7-472b43f5863b"
      },
      "outputs": [
        {
          "output_type": "execute_result",
          "data": {
            "text/plain": [
              "('хооллуулха', 'кормить')"
            ]
          },
          "metadata": {},
          "execution_count": 48
        }
      ],
      "source": [
        "bur, ru = random.choice(all_pairs)\n",
        "bur, ru"
      ]
    },
    {
      "cell_type": "code",
      "execution_count": null,
      "id": "5517ac00",
      "metadata": {
        "colab": {
          "base_uri": "https://localhost:8080/"
        },
        "id": "5517ac00",
        "outputId": "b308ab76-40ff-4550-e9be-cbda06c45e07"
      },
      "outputs": [
        {
          "output_type": "stream",
          "name": "stdout",
          "text": [
            "[77543, 256997]\n"
          ]
        }
      ],
      "source": [
        "print(new_tokenizer.convert_tokens_to_ids(new_tokenizer.tokenize(bur)))"
      ]
    },
    {
      "cell_type": "code",
      "execution_count": null,
      "id": "f25a5d9b",
      "metadata": {
        "id": "f25a5d9b"
      },
      "outputs": [],
      "source": [
        "bur_token = 37976"
      ]
    },
    {
      "cell_type": "code",
      "execution_count": null,
      "id": "b276a3ac",
      "metadata": {
        "colab": {
          "base_uri": "https://localhost:8080/"
        },
        "id": "b276a3ac",
        "outputId": "c273c138-349b-46a7-88e3-1d552400f057"
      },
      "outputs": [
        {
          "output_type": "execute_result",
          "data": {
            "text/plain": [
              "[(0.5936369129097556, 37976),\n",
              " (0.39575794193983704, 222149),\n",
              " (0.0060885837221513394, 42315),\n",
              " (0.002314373929472731, 17512),\n",
              " (0.0021626117045892737, 49517)]"
            ]
          },
          "metadata": {},
          "execution_count": 51
        }
      ],
      "source": [
        "sorted(zip(*get_ru_toks(bur_token)), reverse=True)[:5]"
      ]
    },
    {
      "cell_type": "code",
      "execution_count": null,
      "id": "5952758e",
      "metadata": {
        "colab": {
          "base_uri": "https://localhost:8080/"
        },
        "id": "5952758e",
        "outputId": "e90d8e18-51f5-4ca3-fead-30f5bdb66b95"
      },
      "outputs": [
        {
          "output_type": "execute_result",
          "data": {
            "text/plain": [
              "['▁демократ', '▁демократия', 'изация', 'изм', 'ический']"
            ]
          },
          "metadata": {},
          "execution_count": 52
        }
      ],
      "source": [
        "tokenizer.convert_ids_to_tokens([37976, 222149, 42315,  17512, 49517])"
      ]
    },
    {
      "cell_type": "markdown",
      "id": "bc33ea7a",
      "metadata": {
        "id": "bc33ea7a"
      },
      "source": [
        "## Updating the model embeddings"
      ]
    },
    {
      "cell_type": "code",
      "execution_count": null,
      "id": "71f10ab1",
      "metadata": {
        "colab": {
          "base_uri": "https://localhost:8080/"
        },
        "id": "71f10ab1",
        "outputId": "2a84542d-02ee-4d19-8d72-61f376b62a02"
      },
      "outputs": [
        {
          "output_type": "execute_result",
          "data": {
            "text/plain": [
              "271873"
            ]
          },
          "metadata": {},
          "execution_count": 53
        }
      ],
      "source": [
        "len(new_tokenizer)"
      ]
    },
    {
      "cell_type": "code",
      "execution_count": null,
      "id": "aa61f630",
      "metadata": {
        "colab": {
          "base_uri": "https://localhost:8080/",
          "height": 81,
          "referenced_widgets": [
            "c853851b41fc44c686d27ba0262a00e1",
            "150f98392d2b42dfb909771fddede53c",
            "cbc0dc8d9b2947dcae9252d0391265b1",
            "5ec29a6ca2b54b2893fcb91f2edc15ec",
            "7a653a1cdf07480486afa525fa1bbc68",
            "60deb8f2e9934aad81dfdcc28be5d5d9",
            "b5ce54448536482baffc56228f73bd44",
            "ef33c14161fd48329999203e4c4a9f5e",
            "52c645658ac843b090bfd6df8800d566",
            "a6b33685226445a7a5e428005292756b",
            "9e6f415e42954ee0819dc2b0745459ca",
            "d07919737e0b45759f71bab570fbeb67",
            "60d4cd675bf94dc8977f5d0a19d07f08",
            "e6dd9a59c7d54c77b1768457f4d5508c",
            "f658f71805dd4251b90f0d6f781b7a7e",
            "bb75f8a61ea84d0da13b25c54aa3745e",
            "72b510ced62d4557b5c0923f283c90b4",
            "66344a41d4b948e2a7a6b8ea6fb1a6b9",
            "dd184c1f42954dcf9a3cb325ca9e68e6",
            "179d12d57da746abbb1f5bcb910b992b",
            "c3a8fa7d605d405882245b4c1e4ce9bf",
            "92c9da8fe5a44b56a0f26a137e264e06"
          ]
        },
        "id": "aa61f630",
        "outputId": "0841f26d-d07c-4ceb-f9e2-ab4a12082def"
      },
      "outputs": [
        {
          "output_type": "display_data",
          "data": {
            "text/plain": [
              "Downloading pytorch_model.bin:   0%|          | 0.00/2.44G [00:00<?, ?B/s]"
            ],
            "application/vnd.jupyter.widget-view+json": {
              "version_major": 2,
              "version_minor": 0,
              "model_id": "c853851b41fc44c686d27ba0262a00e1"
            }
          },
          "metadata": {}
        },
        {
          "output_type": "display_data",
          "data": {
            "text/plain": [
              "Downloading (…)neration_config.json:   0%|          | 0.00/261 [00:00<?, ?B/s]"
            ],
            "application/vnd.jupyter.widget-view+json": {
              "version_major": 2,
              "version_minor": 0,
              "model_id": "d07919737e0b45759f71bab570fbeb67"
            }
          },
          "metadata": {}
        }
      ],
      "source": [
        "from transformers import MBartForConditionalGeneration, MBart50Tokenizer\n",
        "model = MBartForConditionalGeneration.from_pretrained(\"facebook/mbart-large-50-many-to-many-mmt\")"
      ]
    },
    {
      "cell_type": "code",
      "execution_count": null,
      "id": "4b88ba4f",
      "metadata": {
        "colab": {
          "base_uri": "https://localhost:8080/"
        },
        "id": "4b88ba4f",
        "outputId": "ab477b56-1055-4256-8f77-a50d6b1c7a6a"
      },
      "outputs": [
        {
          "output_type": "execute_result",
          "data": {
            "text/plain": [
              "Embedding(250054, 1024, padding_idx=1)"
            ]
          },
          "metadata": {},
          "execution_count": 55
        }
      ],
      "source": [
        "model.model.shared"
      ]
    },
    {
      "cell_type": "code",
      "execution_count": null,
      "id": "4ff81b7c",
      "metadata": {
        "colab": {
          "base_uri": "https://localhost:8080/"
        },
        "id": "4ff81b7c",
        "outputId": "7b2e4533-a3fb-47c7-8eab-2ee0e5d2e31e"
      },
      "outputs": [
        {
          "output_type": "execute_result",
          "data": {
            "text/plain": [
              "Embedding(271873, 1024)"
            ]
          },
          "metadata": {},
          "execution_count": 56
        }
      ],
      "source": [
        "# изменяем размер токенов\n",
        "model.resize_token_embeddings(len(new_tokenizer))"
      ]
    },
    {
      "cell_type": "code",
      "execution_count": null,
      "id": "9c62619e",
      "metadata": {
        "colab": {
          "base_uri": "https://localhost:8080/"
        },
        "id": "9c62619e",
        "outputId": "cc6db4d1-6554-495a-8ee8-d3cadc675c3a"
      },
      "outputs": [
        {
          "output_type": "stream",
          "name": "stdout",
          "text": [
            "21818\n"
          ]
        }
      ],
      "source": [
        "n_extra = len(extra_vocab)\n",
        "print(n_extra)\n",
        "old_vocab_size = len(tokenizer.sp_model) + 1"
      ]
    },
    {
      "cell_type": "code",
      "execution_count": null,
      "id": "1b687529",
      "metadata": {
        "colab": {
          "base_uri": "https://localhost:8080/"
        },
        "id": "1b687529",
        "outputId": "cfc08ab7-ef77-4a80-efda-1ed9df678440"
      },
      "outputs": [
        {
          "output_type": "execute_result",
          "data": {
            "text/plain": [
              "250001"
            ]
          },
          "metadata": {},
          "execution_count": 58
        }
      ],
      "source": [
        "old_vocab_size"
      ]
    },
    {
      "cell_type": "code",
      "execution_count": null,
      "id": "49228f05",
      "metadata": {
        "colab": {
          "base_uri": "https://localhost:8080/"
        },
        "id": "49228f05",
        "outputId": "23652d61-8b1b-443b-a215-086ef1237c50"
      },
      "outputs": [
        {
          "output_type": "stream",
          "name": "stdout",
          "text": [
            "250001 ar_AR 271819\n",
            "250002 cs_CZ 271820\n",
            "250003 de_DE 271821\n",
            "250004 en_XX 271822\n",
            "250005 es_XX 271823\n",
            "250006 et_EE 271824\n",
            "250007 fi_FI 271825\n",
            "250008 fr_XX 271826\n",
            "250009 gu_IN 271827\n",
            "250010 hi_IN 271828\n",
            "250011 it_IT 271829\n",
            "250012 ja_XX 271830\n",
            "250013 kk_KZ 271831\n",
            "250014 ko_KR 271832\n",
            "250015 lt_LT 271833\n",
            "250016 lv_LV 271834\n",
            "250017 my_MM 271835\n",
            "250018 ne_NP 271836\n",
            "250019 nl_XX 271837\n",
            "250020 ro_RO 271838\n",
            "250021 ru_RU 271839\n",
            "250022 si_LK 271840\n",
            "250023 tr_TR 271841\n",
            "250024 vi_VN 271842\n",
            "250025 zh_CN 271843\n",
            "250026 af_ZA 271844\n",
            "250027 az_AZ 271845\n",
            "250028 bn_IN 271846\n",
            "250029 fa_IR 271847\n",
            "250030 he_IL 271848\n",
            "250031 hr_HR 271849\n",
            "250032 id_ID 271850\n",
            "250033 ka_GE 271851\n",
            "250034 km_KH 271852\n",
            "250035 mk_MK 271853\n",
            "250036 ml_IN 271854\n",
            "250037 mn_MN 271855\n",
            "250038 mr_IN 271856\n",
            "250039 pl_PL 271857\n",
            "250040 ps_AF 271858\n",
            "250041 pt_XX 271859\n",
            "250042 sv_SE 271860\n",
            "250043 sw_KE 271861\n",
            "250044 ta_IN 271862\n",
            "250045 te_IN 271863\n",
            "250046 th_TH 271864\n",
            "250047 tl_XX 271865\n",
            "250048 uk_UA 271866\n",
            "250049 ur_PK 271867\n",
            "250050 xh_ZA 271868\n",
            "250051 gl_ES 271869\n",
            "250052 sl_SI 271870\n",
            "250053 <mask> 271872\n"
          ]
        }
      ],
      "source": [
        "# токены, кодирующие язык \"переместили\" в конец по айди\n",
        "\n",
        "for old_token_id in range(old_vocab_size, len(tokenizer)):\n",
        "    old_token = tokenizer.convert_ids_to_tokens(old_token_id)\n",
        "    new_token_id = new_tokenizer.convert_tokens_to_ids(old_token)\n",
        "    \n",
        "    print(old_token_id, old_token, new_token_id)\n",
        "    # model.model.shared.weight.data[i + n_extra] = model.model.shared.weight.data[i]\n",
        "    model.model.shared.weight.data[new_token_id] = model.model.shared.weight.data[old_token_id]"
      ]
    },
    {
      "cell_type": "markdown",
      "id": "56ff7ddf",
      "metadata": {
        "id": "56ff7ddf"
      },
      "source": [
        "~ 50 токенов для языков"
      ]
    },
    {
      "cell_type": "markdown",
      "id": "cb542034",
      "metadata": {
        "id": "cb542034"
      },
      "source": [
        "Because we have added one more language, its id must be computed separately, e.g. as an average of related languages"
      ]
    },
    {
      "cell_type": "code",
      "execution_count": null,
      "id": "5fc34fef",
      "metadata": {
        "id": "5fc34fef"
      },
      "outputs": [],
      "source": [
        "model.model.shared.weight.data[new_tokenizer.convert_tokens_to_ids('bxr_XX')] = (\n",
        "    model.model.shared.weight.data[tokenizer.convert_tokens_to_ids('mn_MN')] * 0.45\n",
        "    + model.model.shared.weight.data[tokenizer.convert_tokens_to_ids('ru_RU')] * 0.45\n",
        ")"
      ]
    },
    {
      "cell_type": "markdown",
      "id": "08beae03",
      "metadata": {
        "id": "08beae03"
      },
      "source": [
        "Compute embeddings for newly added tokens"
      ]
    },
    {
      "cell_type": "code",
      "execution_count": null,
      "id": "e86d91c5",
      "metadata": {
        "colab": {
          "base_uri": "https://localhost:8080/",
          "height": 49,
          "referenced_widgets": [
            "78d297ec9de94901b224bf16bd3a93a4",
            "ca07821e9eef4e4bb7003953a7c1afda",
            "8bf6a5e9953344018bb380276faafdbb",
            "7fc6f612d90a4ba1877ecd9fc82bd68d",
            "d547d22074ba43fb95f1903329808eb2",
            "10f0fc5b226c4b3f850e1b5f7d7d2bd5",
            "bcc3e3ed974345aa92c5c1223f0ba497",
            "c09bb8b6540b47b3a113d0edb21524d2",
            "c21a97d8e21347fe8ec82e2d730f88f9",
            "4171debe61d44de4ae34ef03f55da480",
            "6eb8d9d80b6a4c409d201b2e717f7a74"
          ]
        },
        "id": "e86d91c5",
        "outputId": "8a1b2948-6164-4351-8adf-f03feb4d68e5"
      },
      "outputs": [
        {
          "output_type": "display_data",
          "data": {
            "text/plain": [
              "  0%|          | 0/21818 [00:00<?, ?it/s]"
            ],
            "application/vnd.jupyter.widget-view+json": {
              "version_major": 2,
              "version_minor": 0,
              "model_id": "78d297ec9de94901b224bf16bd3a93a4"
            }
          },
          "metadata": {}
        }
      ],
      "source": [
        "for i in trange(n_extra):\n",
        "    bxr_tok = i + old_vocab_size\n",
        "    ru_weights, ru_toks = get_ru_toks(bxr_tok)\n",
        "    if len(ru_toks) > 0:\n",
        "        new_embedding = (model.model.shared.weight.data[ru_toks].T * ru_weights).sum(1)\n",
        "        model.model.shared.weight.data[bxr_tok] = new_embedding"
      ]
    },
    {
      "cell_type": "code",
      "execution_count": null,
      "id": "1410c202",
      "metadata": {
        "id": "1410c202"
      },
      "outputs": [],
      "source": [
        "# from google.colab import drive\n",
        "# drive.mount('/content/drive', force_remount=True)"
      ]
    },
    {
      "cell_type": "code",
      "execution_count": null,
      "id": "d9f92178",
      "metadata": {
        "id": "d9f92178"
      },
      "outputs": [],
      "source": [
        "# new_model_path = '/content/drive/MyDrive/ml_models/bxr/mbart-large-50-bxr-v0'"
      ]
    },
    {
      "cell_type": "code",
      "execution_count": null,
      "id": "c3905a58",
      "metadata": {
        "id": "c3905a58"
      },
      "outputs": [],
      "source": [
        "# model.save_pretrained(new_model_path)\n",
        "# new_tokenizer.save_pretrained(new_model_path)"
      ]
    },
    {
      "cell_type": "code",
      "execution_count": null,
      "id": "ef9a2a5c",
      "metadata": {
        "id": "ef9a2a5c"
      },
      "outputs": [],
      "source": [
        "# !ls -alsh $new_model_path"
      ]
    },
    {
      "cell_type": "code",
      "execution_count": null,
      "id": "8fda2c61",
      "metadata": {
        "id": "8fda2c61"
      },
      "outputs": [],
      "source": []
    },
    {
      "cell_type": "markdown",
      "id": "98d160f1",
      "metadata": {
        "id": "98d160f1"
      },
      "source": [
        "# Обучение модели на машинный перевод"
      ]
    },
    {
      "cell_type": "code",
      "execution_count": null,
      "id": "7801d2c2",
      "metadata": {
        "id": "7801d2c2"
      },
      "outputs": [],
      "source": [
        "# from google.colab import drive\n",
        "# drive.mount('/content/drive')"
      ]
    },
    {
      "cell_type": "code",
      "execution_count": null,
      "id": "ac497465",
      "metadata": {
        "id": "ac497465"
      },
      "outputs": [],
      "source": [
        "!pip install transformers sentencepiece sacrebleu -q"
      ]
    },
    {
      "cell_type": "code",
      "execution_count": null,
      "id": "3d1bfbbe",
      "metadata": {
        "id": "3d1bfbbe"
      },
      "outputs": [],
      "source": [
        "import os\n",
        "import numpy as np\n",
        "import pandas as pd\n",
        "from tqdm.auto import tqdm, trange\n",
        "import json\n",
        "import random\n",
        "import torch\n",
        "from transformers.optimization import Adafactor\n",
        "from transformers import MBartForConditionalGeneration, MBart50Tokenizer"
      ]
    },
    {
      "cell_type": "code",
      "execution_count": null,
      "id": "3df89fba",
      "metadata": {
        "id": "3df89fba"
      },
      "outputs": [],
      "source": [
        "# base_model_path = '/content/drive/MyDrive/ml_models/bxr/mbart-large-50-bxr-v0'"
      ]
    },
    {
      "cell_type": "code",
      "execution_count": null,
      "id": "9ff330b1",
      "metadata": {
        "id": "9ff330b1"
      },
      "outputs": [],
      "source": [
        "# tokenizer = MBart50Tokenizer.from_pretrained(base_model_path)\n",
        "# model = MBartForConditionalGeneration.from_pretrained(base_model_path)\n",
        "\n",
        "tokenizer = new_tokenizer\n",
        "# model = model"
      ]
    },
    {
      "cell_type": "code",
      "execution_count": null,
      "id": "0f13bf60",
      "metadata": {
        "colab": {
          "base_uri": "https://localhost:8080/"
        },
        "id": "0f13bf60",
        "outputId": "b015b556-4ff8-43c2-c8b7-447744787462"
      },
      "outputs": [
        {
          "output_type": "execute_result",
          "data": {
            "text/plain": [
              "271873"
            ]
          },
          "metadata": {},
          "execution_count": 71
        }
      ],
      "source": [
        "old_len = len(tokenizer)\n",
        "old_len"
      ]
    },
    {
      "cell_type": "code",
      "execution_count": null,
      "id": "af4ee61c",
      "metadata": {
        "id": "af4ee61c"
      },
      "outputs": [],
      "source": [
        "tokenizer.lang_code_to_id['bxr_XX'] = old_len-1\n",
        "tokenizer.id_to_lang_code[old_len-1] = 'bxr_XX'\n",
        "tokenizer.fairseq_tokens_to_ids[\"<mask>\"] = len(tokenizer.sp_model) + len(tokenizer.lang_code_to_id) + tokenizer.fairseq_offset\n",
        "\n",
        "tokenizer.fairseq_tokens_to_ids.update(tokenizer.lang_code_to_id)\n",
        "tokenizer.fairseq_ids_to_tokens = {v: k for k, v in tokenizer.fairseq_tokens_to_ids.items()}\n",
        "if 'bxr_XX' not in tokenizer.additional_special_tokens:\n",
        "    tokenizer.additional_special_tokens.append('bxr_XX')"
      ]
    },
    {
      "cell_type": "code",
      "execution_count": null,
      "id": "05c9b41c",
      "metadata": {
        "id": "05c9b41c"
      },
      "outputs": [],
      "source": [
        "import gc\n",
        "\n",
        "def cleanup():\n",
        "    gc.collect()\n",
        "    torch.cuda.empty_cache()\n",
        "    \n",
        "cleanup()"
      ]
    },
    {
      "cell_type": "code",
      "execution_count": null,
      "id": "4d90f36e",
      "metadata": {
        "id": "4d90f36e"
      },
      "outputs": [],
      "source": [
        "model.cuda();"
      ]
    },
    {
      "cell_type": "markdown",
      "id": "992800a5",
      "metadata": {
        "id": "992800a5"
      },
      "source": [
        "## First, update just the new embeddings"
      ]
    },
    {
      "cell_type": "code",
      "execution_count": null,
      "id": "0681908d",
      "metadata": {
        "id": "0681908d"
      },
      "outputs": [],
      "source": [
        "for p in model.parameters():\n",
        "    p.requires_grad = False\n",
        "for p in model.model.shared.parameters():\n",
        "    p.requires_grad = True"
      ]
    },
    {
      "cell_type": "code",
      "execution_count": null,
      "id": "a4335016",
      "metadata": {
        "id": "a4335016"
      },
      "outputs": [],
      "source": [
        "optimizer = Adafactor(\n",
        "    [p for p in model.parameters() if p.requires_grad], \n",
        "    scale_parameter=False, \n",
        "    relative_step=False, \n",
        "    lr=1e-5,\n",
        "    clip_threshold=1.0\n",
        ")"
      ]
    },
    {
      "cell_type": "code",
      "execution_count": null,
      "id": "f74d9db6",
      "metadata": {
        "id": "f74d9db6"
      },
      "outputs": [],
      "source": [
        "batch_size = 8  \n",
        "report_steps = 500 \n",
        "epochs = 4\n",
        "losses = []"
      ]
    },
    {
      "cell_type": "code",
      "execution_count": null,
      "id": "849d78b3",
      "metadata": {
        "id": "849d78b3"
      },
      "outputs": [],
      "source": [
        "tokenizer.src_lang = \"ru_RU\"\n",
        "tokenizer.tgt_lang = \"bxr_XX\""
      ]
    },
    {
      "cell_type": "code",
      "execution_count": null,
      "id": "f3366b3f",
      "metadata": {
        "colab": {
          "base_uri": "https://localhost:8080/",
          "height": 963,
          "referenced_widgets": [
            "261bbf53f51840b491ffc91f125a0c7e",
            "a7585e1ba75b4f07b9689c460e26d23a",
            "f0fc3478b81341afa3780283628f2417",
            "00e82963c9ec45c08d25a21cade756e9",
            "92f8ca9f39604855870978c95fce43de",
            "363cdab99f3b444caf5e41f8d30cde25",
            "7223a249e9174fecbbe8b7d064035bd3",
            "31bae73e4cc44ae6ad19f7441a6c34c9",
            "59d82c8ab13547109f43300ec841ca44",
            "68b9bf7c58cd4e09a3e1bc144aedfa32",
            "5dc6cbf0c54c4792b8afc4c948a20db9",
            "e4c5668b0034457cbd9f67f7aee99923",
            "d57eed6bcc234141837dbbd8c84befb1",
            "8b85c9958a1f4442a02de9ca13cb8a63",
            "a55ef37ad05e41a5af06efb1c84ad3b7",
            "cca86717ea8846d990c1f47652e380c2",
            "4968248f2a48462dbee1c74a995c59bf",
            "0f2aa27db04b430fb63f7eda4219bed2",
            "69180c292186400ca014ff89018bf1df",
            "d949d6eaf8ba422db2d6bdb24eafb2c6",
            "9aff7e9154324c99a99c7791b6685682",
            "8d5822b2d28f43f4a64e8bc06f59320f",
            "a7b2a548f7344ea3bc0cabed2c599c3c",
            "7985d3ae8bc34e9f8df12389cc687fe9",
            "e95ba31a6b3c478283444a0f915391f0",
            "409cc04b428f4ac1b1b856bd9fd51209",
            "ecf2ea8ca2e942819de7e8ea5a255094",
            "e954349068874f2b96e85cda41bc0dac",
            "035f7b5b0a9f47bebe6cc0118be1e7ea",
            "cf7ae2257c234064a6548d2343bd4129",
            "dca57995a21e4bceb099b06bbb8f9f5e",
            "9b5525776d3841cb84bfa7202009964f",
            "d0b1f40f65e149df846f1d8478e9beb2",
            "f68f19ea12e24edb81be684b3065249e",
            "e653ce28db354f44860ce720a739efdf",
            "55d882bdd9b3485197cc86b90c5f1b52",
            "1d1ed3d2c86c480fb5642610684493b6",
            "ebe2a4a38ce54d9db9ada1601d295126",
            "9395520bd769467c9168089039343118",
            "73e0352d0b824da48cf2a9819b23ded0",
            "a62f3663cb8143a2abb131f89b0adc9a",
            "f010c27192814fa48ef272d7aa3c37a0",
            "3228c968f98643cfb1544f8d1c6a455d",
            "3bb7d88e8d9741949a20a93cc43f06d6"
          ]
        },
        "id": "f3366b3f",
        "outputId": "b267ca60-8fa3-4c27-f443-412890ab3bc3"
      },
      "outputs": [
        {
          "metadata": {
            "tags": null
          },
          "name": "stdout",
          "output_type": "stream",
          "text": [
            "EPOCH 0\n"
          ]
        },
        {
          "data": {
            "application/vnd.jupyter.widget-view+json": {
              "model_id": "261bbf53f51840b491ffc91f125a0c7e",
              "version_major": 2,
              "version_minor": 0
            },
            "text/plain": [
              "  0%|          | 0/4554 [00:00<?, ?it/s]"
            ]
          },
          "metadata": {},
          "output_type": "display_data"
        },
        {
          "metadata": {
            "tags": null
          },
          "name": "stderr",
          "output_type": "stream",
          "text": [
            "/usr/local/lib/python3.10/dist-packages/transformers/tokenization_utils_base.py:3606: UserWarning: `as_target_tokenizer` is deprecated and will be removed in v5 of Transformers. You can tokenize your labels by using the argument `text_target` of the regular `__call__` method (either in the same call as your input texts if you use the same keyword arguments, or in a separate call.\n",
            "  warnings.warn(\n"
          ]
        },
        {
          "metadata": {
            "tags": null
          },
          "name": "stdout",
          "output_type": "stream",
          "text": [
            "step 0 loss 21.690710067749023\n",
            "step 500 loss 12.98296265888214\n",
            "step 1000 loss 3.9088333790302277\n",
            "step 1500 loss 3.037629452228546\n",
            "step 2000 loss 2.7774633605480195\n",
            "step 2500 loss 2.6704323855638505\n",
            "step 3000 loss 2.507295617580414\n",
            "step 3500 loss 2.462485101044178\n",
            "step 4000 loss 2.3109037311673166\n",
            "step 4500 loss 2.3282634855508806\n",
            "EPOCH 1\n"
          ]
        },
        {
          "data": {
            "application/vnd.jupyter.widget-view+json": {
              "model_id": "e4c5668b0034457cbd9f67f7aee99923",
              "version_major": 2,
              "version_minor": 0
            },
            "text/plain": [
              "  0%|          | 0/4554 [00:00<?, ?it/s]"
            ]
          },
          "metadata": {},
          "output_type": "display_data"
        },
        {
          "metadata": {
            "tags": null
          },
          "name": "stdout",
          "output_type": "stream",
          "text": [
            "step 0 loss 2.323996705889702\n",
            "step 500 loss 2.173558047473431\n",
            "step 1000 loss 2.0915973439216615\n",
            "step 1500 loss 2.035033663213253\n",
            "step 2000 loss 1.9795053061246872\n",
            "step 2500 loss 1.9560563537478446\n",
            "step 3000 loss 1.9070602214932442\n",
            "step 3500 loss 1.895083561897278\n",
            "step 4000 loss 1.8238713956475259\n",
            "step 4500 loss 1.803546823620796\n",
            "EPOCH 2\n"
          ]
        },
        {
          "data": {
            "application/vnd.jupyter.widget-view+json": {
              "model_id": "a7b2a548f7344ea3bc0cabed2c599c3c",
              "version_major": 2,
              "version_minor": 0
            },
            "text/plain": [
              "  0%|          | 0/4554 [00:00<?, ?it/s]"
            ]
          },
          "metadata": {},
          "output_type": "display_data"
        },
        {
          "output_type": "stream",
          "name": "stdout",
          "text": [
            "step 0 loss 1.8084538477659224\n",
            "step 500 loss 1.7329956040382386\n",
            "step 1000 loss 1.7161209713220595\n",
            "step 1500 loss 1.7168946150541307\n",
            "step 2000 loss 1.6951209539175034\n",
            "step 2500 loss 1.6786746479272843\n",
            "step 3000 loss 1.6861043221950531\n",
            "step 3500 loss 1.6267967456579209\n",
            "step 4000 loss 1.635263086438179\n",
            "step 4500 loss 1.6136121502518654\n",
            "EPOCH 3\n"
          ]
        },
        {
          "output_type": "display_data",
          "data": {
            "text/plain": [
              "  0%|          | 0/4554 [00:00<?, ?it/s]"
            ],
            "application/vnd.jupyter.widget-view+json": {
              "version_major": 2,
              "version_minor": 0,
              "model_id": "f68f19ea12e24edb81be684b3065249e"
            }
          },
          "metadata": {}
        },
        {
          "output_type": "stream",
          "name": "stdout",
          "text": [
            "step 0 loss 1.6175390809178352\n",
            "step 500 loss 1.5515581198334694\n",
            "step 1000 loss 1.5272878391742706\n",
            "step 1500 loss 1.531065664410591\n",
            "step 2000 loss 1.5398667674660682\n",
            "step 2500 loss 1.495337900429964\n",
            "step 3000 loss 1.4820648760795594\n",
            "step 3500 loss 1.4894719809889794\n",
            "step 4000 loss 1.4584891943633556\n",
            "step 4500 loss 1.4471651047468186\n"
          ]
        }
      ],
      "source": [
        "cleanup()\n",
        "model.train()\n",
        "\n",
        "for epoch in range(epochs):\n",
        "    print('EPOCH', epoch)\n",
        "    random.shuffle(all_pairs)\n",
        "    for i in trange(0, int(len(all_pairs) / batch_size)):\n",
        "        batch = all_pairs[i * batch_size: (i + 1) * batch_size]\n",
        "        # кодируем вопрос и ответ \n",
        "        x = tokenizer([p[1] for p in batch], return_tensors='pt', padding=True, truncation=True, max_length=256).to(model.device)\n",
        "        with tokenizer.as_target_tokenizer():\n",
        "            y = tokenizer([p[0] for p in batch], return_tensors='pt', padding=True, truncation=True, max_length=256).to(model.device)\n",
        "        # -100 - специальное значение, позволяющее не учитывать токены\n",
        "        y.input_ids[y.input_ids == 0] = -100\n",
        "        # вычисляем функцию потерь\n",
        "        try:\n",
        "            loss = model(\n",
        "                input_ids=x.input_ids,\n",
        "                attention_mask=x.attention_mask,\n",
        "                labels=y.input_ids,\n",
        "                decoder_attention_mask=y.attention_mask,\n",
        "                return_dict=True\n",
        "            ).loss\n",
        "            # делаем шаг градиентного спуска\n",
        "            loss.backward()\n",
        "            optimizer.step()\n",
        "            optimizer.zero_grad(set_to_none=True)\n",
        "        except RuntimeError as e:\n",
        "            print('error')\n",
        "            loss = None\n",
        "            optimizer.zero_grad(set_to_none=True)\n",
        "            cleanup()\n",
        "            continue\n",
        "\n",
        "        # печатаем скользящее среднее значение функции потерь\n",
        "        losses.append(loss.item())\n",
        "        if i % report_steps == 0:\n",
        "            print('step', i, 'loss', np.mean(losses[-report_steps:]))"
      ]
    },
    {
      "cell_type": "code",
      "execution_count": null,
      "id": "29ecd146",
      "metadata": {
        "id": "29ecd146"
      },
      "outputs": [],
      "source": [
        "# save_model_path = '/content/drive/MyDrive/ml_models/bxr/mbart-large-50-bxr-v11'"
      ]
    },
    {
      "cell_type": "code",
      "execution_count": null,
      "id": "c1ee135e",
      "metadata": {
        "id": "c1ee135e"
      },
      "outputs": [],
      "source": [
        "# model.save_pretrained(save_model_path)\n",
        "# tokenizer.save_pretrained(save_model_path)"
      ]
    },
    {
      "cell_type": "code",
      "source": [],
      "metadata": {
        "id": "lHZ-QbkdTLe0"
      },
      "id": "lHZ-QbkdTLe0",
      "execution_count": null,
      "outputs": []
    },
    {
      "cell_type": "code",
      "execution_count": null,
      "id": "2489b0f6",
      "metadata": {
        "id": "2489b0f6",
        "colab": {
          "base_uri": "https://localhost:8080/",
          "height": 430
        },
        "outputId": "9952d449-b5a4-46c3-a6cc-487b99118165"
      },
      "outputs": [
        {
          "output_type": "display_data",
          "data": {
            "text/plain": [
              "<Figure size 640x480 with 1 Axes>"
            ],
            "image/png": "[encoded data removed]"
          },
          "metadata": {}
        }
      ],
      "source": [
        "import matplotlib.pyplot as plt\n",
        "pd.Series(losses).ewm(100).mean().plot();\n",
        "plt.yscale('log');"
      ]
    },
    {
      "cell_type": "markdown",
      "id": "da430f42",
      "metadata": {
        "id": "da430f42"
      },
      "source": [
        "# Now update the whole model, with embeddings and transformer layers."
      ]
    },
    {
      "cell_type": "code",
      "execution_count": null,
      "id": "bfc2112c",
      "metadata": {
        "id": "bfc2112c"
      },
      "outputs": [],
      "source": [
        "# save_model_path = '/content/drive/MyDrive/ml_models/bxr/mbart-large-50-bxr-v11'"
      ]
    },
    {
      "cell_type": "code",
      "execution_count": null,
      "id": "ed3e55d4",
      "metadata": {
        "id": "ed3e55d4"
      },
      "outputs": [],
      "source": [
        "# model = MBartForConditionalGeneration.from_pretrained(save_model_path)\n",
        "# tokenizer = MBart50Tokenizer.from_pretrained(save_model_path)"
      ]
    },
    {
      "cell_type": "code",
      "execution_count": null,
      "id": "e23584b4",
      "metadata": {
        "id": "e23584b4"
      },
      "outputs": [],
      "source": [
        "model.cuda();"
      ]
    },
    {
      "cell_type": "code",
      "execution_count": null,
      "id": "f93877bd",
      "metadata": {
        "id": "f93877bd"
      },
      "outputs": [],
      "source": [
        "loss = None\n",
        "optimizer.zero_grad(set_to_none=True)\n",
        "optimizer = None\n",
        "cleanup()"
      ]
    },
    {
      "cell_type": "code",
      "execution_count": null,
      "id": "c89850db",
      "metadata": {
        "id": "c89850db"
      },
      "outputs": [],
      "source": [
        "for p in model.parameters():\n",
        "    p.requires_grad = True"
      ]
    },
    {
      "cell_type": "code",
      "execution_count": null,
      "id": "8da96cd9",
      "metadata": {
        "id": "8da96cd9"
      },
      "outputs": [],
      "source": [
        "from transformers.optimization import Adafactor\n",
        "optimizer = Adafactor(\n",
        "    [p for p in model.parameters() if p.requires_grad], \n",
        "    scale_parameter=False, \n",
        "    relative_step=False, \n",
        "    lr=1e-6,\n",
        "    clip_threshold=1.0\n",
        ")"
      ]
    },
    {
      "cell_type": "code",
      "execution_count": null,
      "id": "d449c540",
      "metadata": {
        "id": "d449c540"
      },
      "outputs": [],
      "source": [
        "batch_size = 8\n",
        "report_steps = 500 \n",
        "epochs = 3\n",
        "losses = []"
      ]
    },
    {
      "cell_type": "markdown",
      "id": "6834d86c",
      "metadata": {
        "id": "6834d86c"
      },
      "source": [
        "\n",
        "Optimizing all parameters takes x2 longer than just embeddings: about 1h per epoch."
      ]
    },
    {
      "cell_type": "code",
      "execution_count": null,
      "id": "aa8eb75b",
      "metadata": {
        "id": "aa8eb75b",
        "colab": {
          "base_uri": "https://localhost:8080/",
          "height": 740,
          "referenced_widgets": [
            "f19e2a608c5f4cee9a0b30e8a7085674",
            "1d72190ac7554a8b80146c5936e100b4",
            "f58af15e572f4352952186983d8bc229",
            "8a1502d5efdb452f90849560a8f1db0d",
            "0b14acd1abf44934943b6f084aa2eca8",
            "303b3ecb08b742ed9088a41312721044",
            "a25f41a88c894a03b95a81b7158f3678",
            "aeef655ef9da413ea286c0e84a76dc8d",
            "e324d2ad87ba42649ca5d20bea8be019",
            "07d7b093c19a43b8826f53deb001e968",
            "92f83dc501114fa7b74e6936f22def23",
            "1fcb0dcb93154893963d88b1be88ee2b",
            "0b93bcb18986431fbbd0714388acfd68",
            "e150419c12de4e5c9750d0bae4e057a3",
            "cdd00820713b40679ab9a30bb5ef8df1",
            "2d31130cb5fe420aa22bd2ce0eac6f97",
            "32aa53c3db8b4e4c8a0d14b0eb4aba6d",
            "baf93ff3d1654132a84c82c8283df9b7",
            "22ef8d3a91be4e019ce727688231e496",
            "a427d58f60444917bcb06db6169411ee",
            "f80f7a83a537483387b5911f0b6d5af5",
            "9a46f402f82e4decb80cd2a6e91c47d9",
            "12e88b98855e4f928e0cdc924dde0531",
            "c2596f8957bf48ae9259b3eb6f031cbb",
            "29985586eebd42bc9a545de122fd753c",
            "92286d9716ae4fb4acf769e3c64e4a87",
            "c09ea3062c424c1cb5563415c9c23aec",
            "94b06a3f0c124d658498c3968bcc5f23",
            "9c1160279504473da04344706afe5be5",
            "d12ef73a7c464a84a5690b21554bcc2b",
            "48ea6bcacbce490d8ec50d8b99f984d7",
            "e3c6761db5f043caa85842d86eda4b66",
            "bdbef9864861424aa3270279e8b34c94"
          ]
        },
        "outputId": "7cb8bdbe-5ed2-4986-935b-1397640ff07c"
      },
      "outputs": [
        {
          "output_type": "stream",
          "name": "stdout",
          "text": [
            "EPOCH 0\n"
          ]
        },
        {
          "output_type": "display_data",
          "data": {
            "text/plain": [
              "  0%|          | 0/4554 [00:00<?, ?it/s]"
            ],
            "application/vnd.jupyter.widget-view+json": {
              "version_major": 2,
              "version_minor": 0,
              "model_id": "f19e2a608c5f4cee9a0b30e8a7085674"
            }
          },
          "metadata": {}
        },
        {
          "output_type": "stream",
          "name": "stderr",
          "text": [
            "/usr/local/lib/python3.10/dist-packages/transformers/tokenization_utils_base.py:3606: UserWarning: `as_target_tokenizer` is deprecated and will be removed in v5 of Transformers. You can tokenize your labels by using the argument `text_target` of the regular `__call__` method (either in the same call as your input texts if you use the same keyword arguments, or in a separate call.\n",
            "  warnings.warn(\n"
          ]
        },
        {
          "output_type": "stream",
          "name": "stdout",
          "text": [
            "step 0 loss 1.0483763217926025\n",
            "step 500 loss 1.3862910569906235\n",
            "step 1000 loss 1.3974454475939273\n",
            "step 1500 loss 1.348259232610464\n",
            "step 2000 loss 1.3197441850304603\n",
            "step 2500 loss 1.3183580011129379\n",
            "step 3000 loss 1.3290887697041034\n",
            "step 3500 loss 1.3316714582443236\n",
            "step 4000 loss 1.3329032189249992\n",
            "step 4500 loss 1.301239540398121\n",
            "EPOCH 1\n"
          ]
        },
        {
          "output_type": "display_data",
          "data": {
            "text/plain": [
              "  0%|          | 0/4554 [00:00<?, ?it/s]"
            ],
            "application/vnd.jupyter.widget-view+json": {
              "version_major": 2,
              "version_minor": 0,
              "model_id": "1fcb0dcb93154893963d88b1be88ee2b"
            }
          },
          "metadata": {}
        },
        {
          "output_type": "stream",
          "name": "stdout",
          "text": [
            "step 0 loss 1.292017736494541\n",
            "step 500 loss 1.3100648872852325\n",
            "step 1000 loss 1.2830370954871178\n",
            "step 1500 loss 1.280520920932293\n",
            "step 2000 loss 1.276952338039875\n",
            "step 2500 loss 1.2734798711836337\n",
            "step 3000 loss 1.2535767722725868\n",
            "step 3500 loss 1.2455858615636826\n",
            "step 4000 loss 1.2591164926290512\n",
            "step 4500 loss 1.2566029347777368\n",
            "EPOCH 2\n"
          ]
        },
        {
          "output_type": "display_data",
          "data": {
            "text/plain": [
              "  0%|          | 0/4554 [00:00<?, ?it/s]"
            ],
            "application/vnd.jupyter.widget-view+json": {
              "version_major": 2,
              "version_minor": 0,
              "model_id": "12e88b98855e4f928e0cdc924dde0531"
            }
          },
          "metadata": {}
        },
        {
          "output_type": "stream",
          "name": "stdout",
          "text": [
            "step 0 loss 1.2495812956094743\n",
            "step 500 loss 1.278079561293125\n",
            "step 1000 loss 1.2284795314967631\n",
            "step 1500 loss 1.2092169977426528\n",
            "step 2000 loss 1.249508705317974\n",
            "step 2500 loss 1.2329348028600216\n",
            "step 3000 loss 1.2069567253887654\n",
            "step 3500 loss 1.2452059502601625\n",
            "step 4000 loss 1.2202672185897827\n",
            "step 4500 loss 1.191116583198309\n"
          ]
        }
      ],
      "source": [
        "cleanup()\n",
        "model.train()\n",
        "\n",
        "for epoch in range(epochs):\n",
        "    print('EPOCH', epoch)\n",
        "    random.shuffle(all_pairs)\n",
        "    for i in trange(0, int(len(all_pairs) / batch_size)):\n",
        "        batch = all_pairs[i * batch_size: (i + 1) * batch_size]\n",
        "        # кодируем вопрос и ответ \n",
        "        x = tokenizer([p[1] for p in batch], return_tensors='pt', padding=True, truncation=True, max_length=256).to(model.device)\n",
        "        with tokenizer.as_target_tokenizer():\n",
        "            y = tokenizer([p[0] for p in batch], return_tensors='pt', padding=True, truncation=True, max_length=256).to(model.device)\n",
        "        # -100 - специальное значение, позволяющее не учитывать токены\n",
        "        y.input_ids[y.input_ids == 0] = -100\n",
        "        # вычисляем функцию потерь\n",
        "        try:\n",
        "            loss = model(\n",
        "                input_ids=x.input_ids,\n",
        "                attention_mask=x.attention_mask,\n",
        "                labels=y.input_ids,\n",
        "                decoder_attention_mask=y.attention_mask,\n",
        "                return_dict=True\n",
        "            ).loss\n",
        "            # делаем шаг градиентного спуска\n",
        "            loss.backward()\n",
        "            optimizer.step()\n",
        "            optimizer.zero_grad(set_to_none=True)\n",
        "        except RuntimeError as e:\n",
        "            print('error')\n",
        "            loss = None\n",
        "            optimizer.zero_grad(set_to_none=True)\n",
        "            cleanup()\n",
        "            continue\n",
        "\n",
        "        # печатаем скользящее среднее значение функции потерь\n",
        "        losses.append(loss.item())\n",
        "        if i % report_steps == 0:\n",
        "            print('step', i, 'loss', np.mean(losses[-report_steps:]))"
      ]
    },
    {
      "cell_type": "code",
      "source": [
        "cleanup()\n",
        "model.train()\n",
        "epochs = 1\n",
        "for epoch in range(epochs):\n",
        "    print('EPOCH', epoch)\n",
        "    random.shuffle(all_pairs)\n",
        "    for i in trange(0, int(len(all_pairs) / batch_size)):\n",
        "        batch = all_pairs[i * batch_size: (i + 1) * batch_size]\n",
        "        # кодируем вопрос и ответ \n",
        "        x = tokenizer([p[1] for p in batch], return_tensors='pt', padding=True, truncation=True, max_length=256).to(model.device)\n",
        "        with tokenizer.as_target_tokenizer():\n",
        "            y = tokenizer([p[0] for p in batch], return_tensors='pt', padding=True, truncation=True, max_length=256).to(model.device)\n",
        "        # -100 - специальное значение, позволяющее не учитывать токены\n",
        "        y.input_ids[y.input_ids == 0] = -100\n",
        "        # вычисляем функцию потерь\n",
        "        try:\n",
        "            loss = model(\n",
        "                input_ids=x.input_ids,\n",
        "                attention_mask=x.attention_mask,\n",
        "                labels=y.input_ids,\n",
        "                decoder_attention_mask=y.attention_mask,\n",
        "                return_dict=True\n",
        "            ).loss\n",
        "            # делаем шаг градиентного спуска\n",
        "            loss.backward()\n",
        "            optimizer.step()\n",
        "            optimizer.zero_grad(set_to_none=True)\n",
        "        except RuntimeError as e:\n",
        "            print('error')\n",
        "            loss = None\n",
        "            optimizer.zero_grad(set_to_none=True)\n",
        "            cleanup()\n",
        "            continue\n",
        "\n",
        "        # печатаем скользящее среднее значение функции потерь\n",
        "        losses.append(loss.item())\n",
        "        if i % report_steps == 0:\n",
        "            print('step', i, 'loss', np.mean(losses[-report_steps:]))"
      ],
      "metadata": {
        "colab": {
          "base_uri": "https://localhost:8080/",
          "height": 240,
          "referenced_widgets": [
            "2a8c6da7346140b997824fb35d72d19c",
            "f35caa93487742a29c614edbf18f52fc",
            "09215556ad0649a0af8304ac6a5f288a",
            "c575691e8e59465a9b39b58d2b230f2b",
            "43e265d051564b43a3e0691c76c6d39a",
            "925b3480b05e4d7f9b9e7d579979ef89",
            "fe673bd8d88f462cb1fd83a34f16d7e8",
            "04008e5e9e424aec88237df82a16f4bc",
            "36a229b4619244f1adfcc95a2b62aa37",
            "310065c3ef78493a8fd76f5a92350460",
            "ad9e5cae263f49478f87c389100fee09"
          ]
        },
        "id": "7H-_lqi24-ER",
        "outputId": "6bf33481-3da3-457d-fe7c-742c54e6779a"
      },
      "id": "7H-_lqi24-ER",
      "execution_count": null,
      "outputs": [
        {
          "output_type": "stream",
          "name": "stdout",
          "text": [
            "EPOCH 0\n"
          ]
        },
        {
          "output_type": "display_data",
          "data": {
            "text/plain": [
              "  0%|          | 0/4554 [00:00<?, ?it/s]"
            ],
            "application/vnd.jupyter.widget-view+json": {
              "version_major": 2,
              "version_minor": 0,
              "model_id": "2a8c6da7346140b997824fb35d72d19c"
            }
          },
          "metadata": {}
        },
        {
          "output_type": "stream",
          "name": "stdout",
          "text": [
            "step 0 loss 1.179519863575697\n",
            "step 500 loss 1.215529891014099\n",
            "step 1000 loss 1.2243293307721614\n",
            "step 1500 loss 1.2147553361058234\n",
            "step 2000 loss 1.1994441390037536\n",
            "step 2500 loss 1.2404443114697934\n",
            "step 3000 loss 1.1745946739912032\n",
            "step 3500 loss 1.2110921602547169\n",
            "step 4000 loss 1.1848180911839008\n",
            "step 4500 loss 1.2043530771136284\n"
          ]
        }
      ]
    },
    {
      "cell_type": "code",
      "source": [
        "pd.Series(losses).ewm(100).mean().plot();\n",
        "plt.yscale('log');"
      ],
      "metadata": {
        "colab": {
          "base_uri": "https://localhost:8080/",
          "height": 430
        },
        "id": "07tdeyPZw0Ix",
        "outputId": "52e06c1e-2da4-46c5-ce44-35b1bc6470f1"
      },
      "id": "07tdeyPZw0Ix",
      "execution_count": null,
      "outputs": [
        {
          "output_type": "display_data",
          "data": {
            "text/plain": [
              "<Figure size 640x480 with 1 Axes>"
            ],
            "image/png": "[encoded data removed]"
          },
          "metadata": {}
        }
      ]
    },
    {
      "cell_type": "code",
      "source": [
        "model.eval()"
      ],
      "metadata": {
        "colab": {
          "base_uri": "https://localhost:8080/"
        },
        "id": "E591nd89w9yV",
        "outputId": "eca7b48b-12b7-4ec0-97ab-2b170f68e56a"
      },
      "id": "E591nd89w9yV",
      "execution_count": null,
      "outputs": [
        {
          "output_type": "execute_result",
          "data": {
            "text/plain": [
              "MBartForConditionalGeneration(\n",
              "  (model): MBartModel(\n",
              "    (shared): Embedding(271873, 1024)\n",
              "    (encoder): MBartEncoder(\n",
              "      (embed_tokens): Embedding(271873, 1024)\n",
              "      (embed_positions): MBartLearnedPositionalEmbedding(1026, 1024)\n",
              "      (layers): ModuleList(\n",
              "        (0-11): 12 x MBartEncoderLayer(\n",
              "          (self_attn): MBartAttention(\n",
              "            (k_proj): Linear(in_features=1024, out_features=1024, bias=True)\n",
              "            (v_proj): Linear(in_features=1024, out_features=1024, bias=True)\n",
              "            (q_proj): Linear(in_features=1024, out_features=1024, bias=True)\n",
              "            (out_proj): Linear(in_features=1024, out_features=1024, bias=True)\n",
              "          )\n",
              "          (self_attn_layer_norm): LayerNorm((1024,), eps=1e-05, elementwise_affine=True)\n",
              "          (activation_fn): ReLU()\n",
              "          (fc1): Linear(in_features=1024, out_features=4096, bias=True)\n",
              "          (fc2): Linear(in_features=4096, out_features=1024, bias=True)\n",
              "          (final_layer_norm): LayerNorm((1024,), eps=1e-05, elementwise_affine=True)\n",
              "        )\n",
              "      )\n",
              "      (layernorm_embedding): LayerNorm((1024,), eps=1e-05, elementwise_affine=True)\n",
              "      (layer_norm): LayerNorm((1024,), eps=1e-05, elementwise_affine=True)\n",
              "    )\n",
              "    (decoder): MBartDecoder(\n",
              "      (embed_tokens): Embedding(271873, 1024)\n",
              "      (embed_positions): MBartLearnedPositionalEmbedding(1026, 1024)\n",
              "      (layers): ModuleList(\n",
              "        (0-11): 12 x MBartDecoderLayer(\n",
              "          (self_attn): MBartAttention(\n",
              "            (k_proj): Linear(in_features=1024, out_features=1024, bias=True)\n",
              "            (v_proj): Linear(in_features=1024, out_features=1024, bias=True)\n",
              "            (q_proj): Linear(in_features=1024, out_features=1024, bias=True)\n",
              "            (out_proj): Linear(in_features=1024, out_features=1024, bias=True)\n",
              "          )\n",
              "          (activation_fn): ReLU()\n",
              "          (self_attn_layer_norm): LayerNorm((1024,), eps=1e-05, elementwise_affine=True)\n",
              "          (encoder_attn): MBartAttention(\n",
              "            (k_proj): Linear(in_features=1024, out_features=1024, bias=True)\n",
              "            (v_proj): Linear(in_features=1024, out_features=1024, bias=True)\n",
              "            (q_proj): Linear(in_features=1024, out_features=1024, bias=True)\n",
              "            (out_proj): Linear(in_features=1024, out_features=1024, bias=True)\n",
              "          )\n",
              "          (encoder_attn_layer_norm): LayerNorm((1024,), eps=1e-05, elementwise_affine=True)\n",
              "          (fc1): Linear(in_features=1024, out_features=4096, bias=True)\n",
              "          (fc2): Linear(in_features=4096, out_features=1024, bias=True)\n",
              "          (final_layer_norm): LayerNorm((1024,), eps=1e-05, elementwise_affine=True)\n",
              "        )\n",
              "      )\n",
              "      (layernorm_embedding): LayerNorm((1024,), eps=1e-05, elementwise_affine=True)\n",
              "      (layer_norm): LayerNorm((1024,), eps=1e-05, elementwise_affine=True)\n",
              "    )\n",
              "  )\n",
              "  (lm_head): Linear(in_features=1024, out_features=271873, bias=False)\n",
              ")"
            ]
          },
          "metadata": {},
          "execution_count": 123
        }
      ]
    },
    {
      "cell_type": "code",
      "source": [
        "bxr, ru = random.choice(all_pairs)\n",
        "bxr, ru"
      ],
      "metadata": {
        "colab": {
          "base_uri": "https://localhost:8080/"
        },
        "id": "VO8lEyx2w_Xi",
        "outputId": "264ef83d-ed75-4ffb-90a2-153919c7ae3e"
      },
      "id": "VO8lEyx2w_Xi",
      "execution_count": null,
      "outputs": [
        {
          "output_type": "execute_result",
          "data": {
            "text/plain": [
              "('эхирлэхэ', 'рождать близнецов')"
            ]
          },
          "metadata": {},
          "execution_count": 124
        }
      ]
    },
    {
      "cell_type": "code",
      "source": [
        "def translate(text, src='ru_RU', trg='bxr_XX', max_length=200, num_beams=5, repetition_penalty=5.0, **kwargs):\n",
        "    tokenizer.src_lang = src\n",
        "    encoded = tokenizer(text, return_tensors=\"pt\")\n",
        "    generated_tokens = model.generate(\n",
        "        **encoded.to(model.device),\n",
        "        forced_bos_token_id=tokenizer.lang_code_to_id[trg], \n",
        "        max_length=max_length, \n",
        "        num_beams=num_beams,\n",
        "        repetition_penalty=repetition_penalty,\n",
        "        # early_stopping=True,\n",
        "    )\n",
        "    return tokenizer.batch_decode(generated_tokens, skip_special_tokens=True)[0]\n",
        "\n",
        "translate(bxr)"
      ],
      "metadata": {
        "colab": {
          "base_uri": "https://localhost:8080/",
          "height": 36
        },
        "id": "Ho63m9oCxDuS",
        "outputId": "b8ad9283-95cc-470f-d1bc-4b8602625164"
      },
      "id": "Ho63m9oCxDuS",
      "execution_count": null,
      "outputs": [
        {
          "output_type": "execute_result",
          "data": {
            "text/plain": [
              "'эхирлэхэ'"
            ],
            "application/vnd.google.colaboratory.intrinsic+json": {
              "type": "string"
            }
          },
          "metadata": {},
          "execution_count": 125
        }
      ]
    },
    {
      "cell_type": "code",
      "source": [
        "import os\n",
        "os.makedirs(\"mbart-large-50-bxr-v13\")\n",
        "model.save_pretrained(\"mbart-large-50-bxr-v13\")"
      ],
      "metadata": {
        "id": "_uQ4FMYixPPr"
      },
      "id": "_uQ4FMYixPPr",
      "execution_count": null,
      "outputs": []
    },
    {
      "cell_type": "code",
      "source": [
        "tokenizer.save_pretrained('mbart-large-50-bxr-v13')"
      ],
      "metadata": {
        "colab": {
          "base_uri": "https://localhost:8080/"
        },
        "id": "8J3h5zYXxa6r",
        "outputId": "0bca2e35-09f8-42c3-f997-0510e53a5b82"
      },
      "id": "8J3h5zYXxa6r",
      "execution_count": null,
      "outputs": [
        {
          "output_type": "execute_result",
          "data": {
            "text/plain": [
              "('mbart-large-50-bxr-v13/tokenizer_config.json',\n",
              " 'mbart-large-50-bxr-v13/special_tokens_map.json',\n",
              " 'mbart-large-50-bxr-v13/sentencepiece.bpe.model',\n",
              " 'mbart-large-50-bxr-v13/added_tokens.json')"
            ]
          },
          "metadata": {},
          "execution_count": 110
        }
      ]
    },
    {
      "cell_type": "code",
      "source": [
        "with open('test.json', 'r') as f:\n",
        "    test = json.load(f)"
      ],
      "metadata": {
        "id": "Z0R9WUVCxwkV"
      },
      "id": "Z0R9WUVCxwkV",
      "execution_count": null,
      "outputs": []
    },
    {
      "cell_type": "code",
      "source": [
        "target = [ru for bxr, ru in test]\n",
        "translated = [translate(ru) for bxr, ru in tqdm(test)]"
      ],
      "metadata": {
        "colab": {
          "base_uri": "https://localhost:8080/",
          "height": 49,
          "referenced_widgets": [
            "d4cd030f87a5494f880904741018eef4",
            "1e01c48354a34a4499d2ef0dd75243b1",
            "d91be57441f9407bad9335071c5c2175",
            "9329d5e234b84d408d87c7a35f50aef8",
            "83e9438a81524f77b3ae66c6f6360c7d",
            "d4c754a9aff34ca58f926263af70e680",
            "3e93232e03004defaea715a047a7a2c7",
            "a821e4efc11f4341aeebdf0785d3138c",
            "f0aa365e212247c69531e334c708c9ce",
            "445974faf4024eeaa496a9dae39e94a1",
            "56f539e14a0c4f37a07ab9d1dc28d9b4"
          ]
        },
        "id": "WdEgYVXGx8pe",
        "outputId": "a0e4e579-9c7d-44fc-e74c-43793782ba5f"
      },
      "id": "WdEgYVXGx8pe",
      "execution_count": null,
      "outputs": [
        {
          "output_type": "display_data",
          "data": {
            "text/plain": [
              "  0%|          | 0/1823 [00:00<?, ?it/s]"
            ],
            "application/vnd.jupyter.widget-view+json": {
              "version_major": 2,
              "version_minor": 0,
              "model_id": "d4cd030f87a5494f880904741018eef4"
            }
          },
          "metadata": {}
        }
      ]
    },
    {
      "cell_type": "code",
      "source": [
        "from sacrebleu import BLEU, CHRF\n",
        "chrf = CHRF()\n",
        "bleu = BLEU()"
      ],
      "metadata": {
        "id": "u8g6oPMUyD2J"
      },
      "id": "u8g6oPMUyD2J",
      "execution_count": null,
      "outputs": []
    },
    {
      "cell_type": "code",
      "source": [
        "print('chrF: ', chrf.corpus_score(translated, target).score,\n",
        "      'BLEU: ', bleu.corpus_score(translated, target).score)"
      ],
      "metadata": {
        "colab": {
          "base_uri": "https://localhost:8080/"
        },
        "id": "9S6OZkNPyFtG",
        "outputId": "11095675-60b4-4929-f976-a5d5ca58da2f"
      },
      "id": "9S6OZkNPyFtG",
      "execution_count": null,
      "outputs": [
        {
          "output_type": "stream",
          "name": "stdout",
          "text": [
            "chrF:  4.999999999999999 BLEU:  0.7589531973576789\n"
          ]
        }
      ]
    },
    {
      "cell_type": "code",
      "source": [
        "for i in range(len(test)):\n",
        "  if i%50==0:\n",
        "        print(test[i][1])\n",
        "        print('эталон: ', test[i][0])\n",
        "        print('перевод: ', translated[i])\n",
        "        print()"
      ],
      "metadata": {
        "colab": {
          "base_uri": "https://localhost:8080/"
        },
        "id": "FuK_QTEUyO-J",
        "outputId": "19a76b20-9e18-44a0-9b3a-1e138096e00c"
      },
      "id": "FuK_QTEUyO-J",
      "execution_count": null,
      "outputs": [
        {
          "output_type": "stream",
          "name": "stdout",
          "text": [
            "Ибо вы, люди разумные, охотно терпите неразумных:\n",
            "эталон:  Таанад өөhэдөө ехэл сэсэн ухаантай, тиин тэнэг үбэштэй зондо ехэл тэсэбэритэй байдаг ха юмта!\n",
            "перевод:  Аха дүүнэрни, таанад тэнэг хүнүүдэй тэсэбэритэй байдагт.\n",
            "\n",
            "Тогда он закричал: Иисус, Сын Давидов! помилуй меня.\n",
            "эталон:  Тиихэдэнь hохор хүн: «Давидай үри hадаhан Иисус, намайе үршөөжэ хайрлыш!» – гэжэ хашхарба. \n",
            "перевод:  «Иисус, Давидай үри hадаhан! намайе хүлисээрэй», – гэжэ Иисус хашхаралдаба.\n",
            "\n",
            "Истинно говорю вам: не прейдет род сей, как все сие будет;\n",
            "эталон:  Мүнөө ажамидаржа байhан хүнүүдэй бултанайнь үхэжэ үрдеэгүй байхада минии таанадта хэлэhэн бүхэн тохёолдохо гэжэ таанадта баталан хэлэнэб.\n",
            "перевод:  Таанадта үнэниие хэлэнэб:„Энэ дэлхэйн арад зоной бүхы юумэнтэй хамта байхагүй.\n",
            "\n",
            "И Я даю им жизнь вечную, и не погибнут вовек; и никто не похитит их из руки Моей.\n",
            "эталон:  Би тэдэндэ мүнхэ наhа үгэнэб, тэдэ хэзээшье хосорхогүй, тэдэниие намhаа хэншье буляажа абахагүй.\n",
            "перевод:  Тиимэhээ би тэдэндээ мүнхын амидыруулаа, тэдэ хэтын хэтэдэ үхэхэгүй, хэншье минии гарhаа аладаггүй.\n",
            "\n",
            "Братьев же послал я для того, чтобы похвала моя о вас не оказалась тщетною в сем случае, но чтобы вы, как я говорил, были приготовлены,\n",
            "эталон:  Тиигэжэл таанадые магтаhан үгэнүүдни хооhон үгэнүүд байшахагүйн тула би hүзэглэгшэ дүүнэрээ таанадта ябуулаа хүм.Харин минии хэлээшээр таанад туhаламжынгаа мүнгэ бэлдээд байгаарайгты. \n",
            "перевод:  Таанад тухай минии дуулгай энэ асуудалда дутагдалгүй байхын тула, харин таанадтамнай бэлэн байхын тула би Абраhамые эльгээгээб.\n",
            "\n",
            "Они же, прочитав, возрадовались о сем наставлении.\n",
            "эталон:  Энэ урмашуулhан бэшэг уншаад, зон угаа ехээр баярлаа.\n",
            "перевод:  Тиигээд шабинарынь ном уншаад, энэ hургаалтаа ехэ баярлажа байгаа.\n",
            "\n",
            "Но Иисус тотчас заговорил с ними и сказал: ободритесь; это Я, не бойтесь.\n",
            "эталон:  Зүгөөр Иисус тэдэнтэй дары дуугаралсан: «Зоригтой байгты.Энэ биб, бү айгты», – гэбэ. \n",
            "перевод:  Тиихэдэнь Иисус шабинартаа иигэжэ хэлэбэ: «Бү айгты!Би энэ хүн байнаб», – гэбэ.\n",
            "\n",
            "И сказал Сидящий на престоле: се, творю все новое. И говорит мне: напиши; ибо слова сии истинны и верны.\n",
            "эталон:  Хаан шэрээдэ Һуугша иигэжэ хэлээ: «Харалши, би баран шэнэ юумэ хэнэб!» Тиигээд тэрэ иигэжэ хэлэбэ: «Буулгажа бэшээд аба, эдэ үгэнүүдтэ этигэхэдэ болохо, юундэб гэбэл, эдэ бүхы үгэнүүд үнэн зүб юм». \n",
            "перевод:  Тиигээд хаан шэрээ дээрэ байhан хүн: «Энэмнай, би булта шэнэ юумэ бүтээнэб», – гэжэ хэлэбэ.Тэрэ намда: «Напиши!Ши үгэнүүдые үнэн зүб юм», – гэбэ.\n",
            "\n",
            "Господа Бога святите в сердцах ваших; будьте всегда готовы всякому, требующему у вас отчета в вашем уповании, дать ответ с кротостью и благоговением.\n",
            "эталон:  Харин зүрхэ сэдьхэлдээ Дээдын Эзэн Христосые аргагүй хүндэлжэ ябагты.Ямаршье хүнэй ажамидаралайтнай найдал тухай hурабалнь, хэзээшье харюу үгэхэдэ бэлэн байгты. \n",
            "перевод:  Дээдын Эзэнэй Бурханиие таанад зүрхэ соо арюун нангин байгты.Таанад найдуулhан хүн бүхэндэ тэсэбэритэйгээр, үнэн зүрхэнhөө хандагты.\n",
            "\n",
            "Петр сказал Ему: если и все соблазнятся, но не я.\n",
            "эталон:  «Бултанай шамайе орхёошье hаань, би шамhаа хэзээшье арсахагүйб», – гэжэ Пётр тэрээндэ хэлэбэ.\n",
            "перевод:  – Хэрбээ бүхы хүнүүд ада шүдхэртэ байбал, би бэшэ аа! – гэжэ Пётр хэлэбэ.\n",
            "\n",
            "А о чем вы писали ко мне, то хорошо человеку не касаться женщины.\n",
            "эталон:   Таанадай намда бэшэhэн юумэн тухай хэлэбэл, эрэ хүнэй hамга абаагүй hаань hайн юм.\n",
            "перевод:  Таанад намда писали hаа, эхэнэртэй холбоогүй байха человеку hайн юм.\n",
            "\n",
            "Вы пойдите на праздник сей; а Я еще не пойду на сей праздник, потому что Мое время еще не исполнилось.\n",
            "эталон:  Таанар hайндэртээ ошогты.Би тэрэ найрта ошохогүйб, минии саг үшөө ерээдүй байна. \n",
            "перевод:  Та бүхэн энэ hайндэрэйдэ очно, харин би энэ праздники дахин ошохогүйб, юундэб гэхэдэ, минии сагай болотор бэшэ юм.\n",
            "\n",
            "Он отвечал, что Иудеи согласились просить тебя, чтобы ты завтра вывел Павла пред синедрион, как будто они хотят точнее исследовать дело о нем.\n",
            "эталон:  – Павелые Зүблэлэй гэшүүдтэ абаашахые шамhаа гуйха тухай еврейнүүд хоорондоо үгэсэн хэлсэбэд, – гэжэ хүбүүн харюусаба.– Тэдэ Павелай хэрэгые дахин шалгажа хараха hанаатайбди гэhэн хэбэр үзүүлхэ. \n",
            "перевод:  – Еврейнүүд шамайе үглөөдэр Павелые Зүблэлэй гэшүүдэй урда гаргаха гуйхаар согласились, тиин өөрөөрөө энэ асуудалтай ухаа бүри шудалхаха hанаатай байна гэжэ харюусаба.\n",
            "\n",
            "Но Павел полагал не брать отставшего от них в Памфилии и не шедшего с ними на дело, на которое они были посланы.\n",
            "эталон:  Гэбэшье Памфилида тэдэниие хаяжа, хэрэгыень бүтээлсэхэеэ арсаhан Маркые Павел абажа ябаха дурагүй байгаа.\n",
            "перевод:  Павел Тимофейн можын Памфилидэhэ hүзэглэгшэдhээ отолбориг лэ, тэдэ элшэнэртэй хамта алба хэжэ байhанын тула тэдэниие барижа үгы гэжэ мэдэжэ байгаа.\n",
            "\n",
            "Впрочем я знаю, братия, что вы, как и начальники ваши, сделали это по неведению;\n",
            "эталон:  Гэбэшье, аха дүүнэрни, таанадай, танай захирагшадай үйлэдэhэн юумые мэдэхэгүй байhан дээрэhээл тэрэ буруу ябадал хээт гэжэ би мэдэнэб.\n",
            "перевод:  Аха дүүнэрни, таанадшье начальникуудтайгаа хамта өөhэдыгөө буруу юумэ хэжэ байгаат гэжэ би мэдэнэб.\n",
            "\n",
            "так, как и я угождаю всем во всем, ища не своей пользы, но пользы многих, чтобы они спаслись.\n",
            "эталон:  Ямаршье юумэ хэхэдээ, би өөрынгөө hайн hайханай түлөө бэшэ, харин бүхы хүнүүдэй абарагдахын тула тэдэнэй hайн hайханай түлөө оролдодогби.\n",
            "перевод:  Тон тиигэжэл би хүн бүхэнтэй hайн юумэ хэжэ байнаб.Би өөрынгөө аша туhада бэшэ, харин олон зониие абарха гэжэ найдаю», – гэжэ хэлэбэ.\n",
            "\n",
            "Чего ты на полу-то, лег бы в кровать, — громко сказала Дулгар, и это разбудило старика.\n",
            "эталон:  Бодожо, хэбтэреэ заhаад, унта, — гэжэ Дулгар хүгшэн шангаар дуугарба.\n",
            "перевод:  — Ши шэрээ дээрэ гараа, - гэжэ Дулгар шангаар хэлэбэ.\n",
            "\n",
            "Наконец Зурин получил известие о поимке самозванца, а вместе с тем и повеление остановиться.\n",
            "эталон:  Һүүлээрнь хуурмаг нэрэтэ баригдаба, походоо зогсоогты гэжэ мэдээ Зурин абаба.\n",
            "перевод:  Энэ үедэ Зурин өөртөө захирагшадтай холбоотой байжа, зурин тэрэ хүные барижа байха гэжэ мэдээ гаргажа байгаа.\n",
            "\n",
            "— Где моя дочка? — тихо стонала старуха.\n",
            "эталон:  — Хайран үри бэемни, амиды мэндэ гээшэ гү!\n",
            "перевод:  — Где моя дочка? — гэжэ үбгэн тихо стоналба.\n",
            "\n",
            "— Погодите, хозяйка, тут одно с другим крепко связано...\n",
            "эталон:  - Бай, бай, убсанса абгай, арайшье тиигээд бү хэлэжэ орхигты!\n",
            "перевод:  — Зай, та зяйка, энэ нэгэ бэе бэедээ холбоотой...\n",
            "\n",
            "Что чувствовал я, того не стану описывать.\n",
            "эталон:  Би тэрэ үеынгөө бүхы мэдэрэлые дэлбэлжэ бэшэхэ үгыб.\n",
            "перевод:  Би юу мэдэхээрээ, би оной тоолхоёо.\n",
            "\n",
            "Швабрин Алексей Иваныч вот уж пятый год как к нам переведен за смертоубийство.\n",
            "эталон:  Швабрин Алексей Иванович хүниие алаhанай түлөө заруулаад, табадахи жэлээ эндэ байгша.\n",
            "перевод:  Швабрин Алексей Иваныч намда амиды захирагшада пятый год переведен.\n",
            "\n",
            "Лучше ли будет?\n",
            "эталон:  Та юун гэжэ hананат? — гээд, Бадан Мүнхын нюур шарай шалангяар хараба.\n",
            "перевод:  Яарай hайн болохо гүш?\n",
            "\n",
            "Савельич от меня не отставал, не прерывая жалобных своих молений.\n",
            "эталон:  Савельич уй хай болохоёо зааш таhараагүйшье hаа, намhаа гээгдэнэгүй.\n",
            "перевод:  Савельич намайе зогсоогоод, өөрынгөө жалоба хүсэлөө үгы хаадаггүй.\n",
            "\n",
            "«Ай, ай, ай! — заметил генерал. ~~~ — Это плохо, очень плохо.\n",
            "эталон:  «Ай, ай, ай! – гэнэ генерал; – Тэрэ муу, тоншье муу.\n",
            "перевод:  «Ай, ай, ай! — гэжэ генерал заметил. ~~~ — Энэ плохо, маш муу.\n",
            "\n",
            "— Петруша, друг мой, (говорила) матушка. ~~~ Как тебя господь привел!\n",
            "эталон:  — Петруша, хүбүүн минии, — гэнэ эжымни: ~~~ — Бурхан шамай хаанаhаа гаргажа асараа гээшэб?\n",
            "перевод:  — Петруша, минии друг, ~~~ - гэбэ эжы. ~~~ Эзэмни шамайе ерээ ха юм!\n",
            "\n",
            "У меня болит ухо. \n",
            "эталон:  Минии шэхэн үбдэнэ. \n",
            "перевод:  Минии амаа болино.\n",
            "\n",
            "Сегодня первое сентября. \n",
            "эталон:  Мүнөөдэр сентябриин нэгэн. \n",
            "перевод:  Сегодня первая сентября.\n",
            "\n",
            "За эту единственную жизнь И с радостью успеха, и с невгодами столкнешься.\n",
            "эталон:  Гансахан энээхэн наhандаа Гажархаш, хүхихэш сагтай уулзахаш.\n",
            "перевод:  Энэ единственную жизнь Зай радостью успеха, и невгододо столкнешься.\n",
            "\n",
            "тэрэ нюуса бэшэгые анхан эхэнэрнүүдһээ абаа: галабуудай эхинһээ тэдэ нангин һүөөр бэшэдэг лэ нээлгээтэй ягаан саарһаншуу нялха нарайнуудай уралнууд дээрэ, арбаад жэлнүүдэй үнгэрһэн хойно түбеэр гоё ордонгуудай бодоод, хүхюун дуунуудай зэдэлхын түлөө.\n",
            "эталон:  түүниие урдуул мэдээд, шамайе гэмнээгүй», гээл намда минии ухаан.\n",
            "перевод:  гоё ордонгын байгуулга, гоё захидын түлөө.\n",
            "\n",
            "девочка, рисовавшая звезды\n",
            "эталон:  одо зурагша хүүхэн\n",
            "перевод:  одо рисовавшая девочка\n",
            "\n",
            "До прихода европейцев территорию штата заселяли алгонкинские племена ленапе (более известные как делавары), занимавшие всю Делавэрскую равнину, и нантикоки, жившие вдоль рек, впадающих в Чесапикский залив.\n",
            "эталон:  Анха XVI зуунда европошууд эрьэень нээхэhээ үмэнэ, Делавэртэ унаган америкынхидай хэд хэдэн бүлэг оршон hуужа байhанай дотор хойто зүгтэ Линапе, урда зүгтэ Нантикоке омогойхид нютаглажа байба.\n",
            "перевод:  европейцевэй гаралтай болохо, Делавэрын можо уласые (Делавара), Чесапик голливуда протекающих рекииндоль Нантикокиhэн арал Ланапе племянүүд (Lanape) газарта сели болобо.\n",
            "\n",
            "Крупные общины присутствуют в США, Канаде, Бразилии, Германии.\n",
            "эталон:  АНУ, Канада, Бразил, Германи руу сагаашалhан хүнэй тоо үсөөнгүй.\n",
            "перевод:  Һүзэглэгшэдэй бүлгэмүүд АНУ-да, Канадда, Бразилияда, Германиин арад соо байдаг.\n",
            "\n",
            "В 1876 году была принята современная конституция Техаса.\n",
            "эталон:  Техас түүхэ, соёлой хубида Америкын Урдын ойро холбоотой.\n",
            "перевод:  Техасэй конституциин байгуулга нь 1876 ондо АНУ-да.\n",
            "\n",
            "В том же году к мировому наследию ЮНЕСКО были отнесены следующие творения Гауди: храм Святого Семейства (фасад Рождества и крипта), дом Висенс, парк Гуэля, Дом Бальо («Дом костей») и дом Мила («Каменоломня»).\n",
            "эталон:  1289 ондо эхилээд XV зуун жэлэй эсэс хүрэтэр баригдаhан готик янзын собор сүмэ, VI зуун жэлдэ баригдаhан базилика болон энэ гадна Санта-Мария-дель-Мар сүмэ зэргын готик янзын hайхан байшан харагдажа байна.\n",
            "перевод:  Энэ үедэ Гуадын олон бүтээлүүд ЮНЕСКО-ай дэлхэйн наследие болохо: Святое Семёнство ( Рождество ба Криптые Фасад), Висенс гэр, Гуэля парк, Дом Бальо («Каменоломни»), Мила гэр.\n",
            "\n",
            "В связи с кадровыми изменениями в исполнительных органах государственной власти Республики Бурятия Правительство Республики Бурятия постановляет.\n",
            "эталон:  гэhэн мүр удаадахи мүрөөр hэлгэхэ.\n",
            "перевод:  Буряад Уласай гүрэнэй эрхэтэнэй эмхи зургаануудай кадровые хубилалтануудые связимен Буряад Уласай Засагай газар тогтооно.\n",
            "\n",
            "В пункте 4.1 слова «государственного учета,» исключить.\n",
            "эталон:  -дэхи пунктда «гүрэнэй бүридхэлэй,» гэhэн үгэнүүдые хаhаха.\n",
            "перевод:  «Гүрэнэй учета,» гэhэн үгэнүүдые пунктда 4.1-дахи hэлгэхэ.\n",
            "\n"
          ]
        }
      ]
    },
    {
      "cell_type": "code",
      "source": [
        "for i in range(len(test)):\n",
        "  translated[i]"
      ],
      "metadata": {
        "id": "MdIJe2xJ6cIl"
      },
      "id": "MdIJe2xJ6cIl",
      "execution_count": null,
      "outputs": []
    },
    {
      "cell_type": "code",
      "source": [
        "with open('translated_ru_bxr.txt', 'w', encoding='utf-8') as f:\n",
        "  for i in translated:\n",
        "    f.write(f'{i}\\n')"
      ],
      "metadata": {
        "id": "vRT8xvamyZca"
      },
      "id": "vRT8xvamyZca",
      "execution_count": null,
      "outputs": []
    },
    {
      "cell_type": "markdown",
      "id": "65a8f828",
      "metadata": {
        "id": "65a8f828"
      },
      "source": [
        "# Evaluate"
      ]
    }
  ],
  "metadata": {
    "accelerator": "GPU",
    "colab": {
      "provenance": [],
      "collapsed_sections": [
        "-8XAMxqXEpmb",
        "5ti1i7soD3CN"
      ]
    },
    "gpuClass": "standard",
    "kernelspec": {
      "display_name": "Python 3 (ipykernel)",
      "language": "python",
      "name": "python3"
    },
    "language_info": {
      "codemirror_mode": {
        "name": "ipython",
        "version": 3
      },
      "file_extension": ".py",
      "mimetype": "text/x-python",
      "name": "python",
      "nbconvert_exporter": "python",
      "pygments_lexer": "ipython3",
      "version": "3.8.10"
    },
    "widgets": {
      "application/vnd.jupyter.widget-state+json": {
        "ef4100d06d0a4ceda1689cc2169e05c2": {
          "model_module": "@jupyter-widgets/controls",
          "model_name": "HBoxModel",
          "model_module_version": "1.5.0",
          "state": {
            "_dom_classes": [],
            "_model_module": "@jupyter-widgets/controls",
            "_model_module_version": "1.5.0",
            "_model_name": "HBoxModel",
            "_view_count": null,
            "_view_module": "@jupyter-widgets/controls",
            "_view_module_version": "1.5.0",
            "_view_name": "HBoxView",
            "box_style": "",
            "children": [
              "IPY_MODEL_5d72041ee8d84899b91bc02ddb3bc8ce",
              "IPY_MODEL_0cd41604ba8b46d9a77b33b9cd716159",
              "IPY_MODEL_ced1cd18a24444de9e990fa77ddd54f1"
            ],
            "layout": "IPY_MODEL_f33234eec8b64f0287c2db9a4a866c4e"
          }
        },
        "5d72041ee8d84899b91bc02ddb3bc8ce": {
          "model_module": "@jupyter-widgets/controls",
          "model_name": "HTMLModel",
          "model_module_version": "1.5.0",
          "state": {
            "_dom_classes": [],
            "_model_module": "@jupyter-widgets/controls",
            "_model_module_version": "1.5.0",
            "_model_name": "HTMLModel",
            "_view_count": null,
            "_view_module": "@jupyter-widgets/controls",
            "_view_module_version": "1.5.0",
            "_view_name": "HTMLView",
            "description": "",
            "description_tooltip": null,
            "layout": "IPY_MODEL_81dbaac0915641af9b4670daf510e549",
            "placeholder": "​",
            "style": "IPY_MODEL_ea7bb7aef82f48dca866ec3f86d52670",
            "value": "Downloading (…)tencepiece.bpe.model: 100%"
          }
        },
        "0cd41604ba8b46d9a77b33b9cd716159": {
          "model_module": "@jupyter-widgets/controls",
          "model_name": "FloatProgressModel",
          "model_module_version": "1.5.0",
          "state": {
            "_dom_classes": [],
            "_model_module": "@jupyter-widgets/controls",
            "_model_module_version": "1.5.0",
            "_model_name": "FloatProgressModel",
            "_view_count": null,
            "_view_module": "@jupyter-widgets/controls",
            "_view_module_version": "1.5.0",
            "_view_name": "ProgressView",
            "bar_style": "success",
            "description": "",
            "description_tooltip": null,
            "layout": "IPY_MODEL_e284f86405c749b09da387cd9bab36d8",
            "max": 5069051,
            "min": 0,
            "orientation": "horizontal",
            "style": "IPY_MODEL_daee5d65496e42fba9765230c2e5e873",
            "value": 5069051
          }
        },
        "ced1cd18a24444de9e990fa77ddd54f1": {
          "model_module": "@jupyter-widgets/controls",
          "model_name": "HTMLModel",
          "model_module_version": "1.5.0",
          "state": {
            "_dom_classes": [],
            "_model_module": "@jupyter-widgets/controls",
            "_model_module_version": "1.5.0",
            "_model_name": "HTMLModel",
            "_view_count": null,
            "_view_module": "@jupyter-widgets/controls",
            "_view_module_version": "1.5.0",
            "_view_name": "HTMLView",
            "description": "",
            "description_tooltip": null,
            "layout": "IPY_MODEL_99df6a0cf6f4449f9761ed2ffe4bf9d4",
            "placeholder": "​",
            "style": "IPY_MODEL_82af6d2321ab48fb8040d319a523ff1d",
            "value": " 5.07M/5.07M [00:00&lt;00:00, 19.1MB/s]"
          }
        },
        "f33234eec8b64f0287c2db9a4a866c4e": {
          "model_module": "@jupyter-widgets/base",
          "model_name": "LayoutModel",
          "model_module_version": "1.2.0",
          "state": {
            "_model_module": "@jupyter-widgets/base",
            "_model_module_version": "1.2.0",
            "_model_name": "LayoutModel",
            "_view_count": null,
            "_view_module": "@jupyter-widgets/base",
            "_view_module_version": "1.2.0",
            "_view_name": "LayoutView",
            "align_content": null,
            "align_items": null,
            "align_self": null,
            "border": null,
            "bottom": null,
            "display": null,
            "flex": null,
            "flex_flow": null,
            "grid_area": null,
            "grid_auto_columns": null,
            "grid_auto_flow": null,
            "grid_auto_rows": null,
            "grid_column": null,
            "grid_gap": null,
            "grid_row": null,
            "grid_template_areas": null,
            "grid_template_columns": null,
            "grid_template_rows": null,
            "height": null,
            "justify_content": null,
            "justify_items": null,
            "left": null,
            "margin": null,
            "max_height": null,
            "max_width": null,
            "min_height": null,
            "min_width": null,
            "object_fit": null,
            "object_position": null,
            "order": null,
            "overflow": null,
            "overflow_x": null,
            "overflow_y": null,
            "padding": null,
            "right": null,
            "top": null,
            "visibility": null,
            "width": null
          }
        },
        "81dbaac0915641af9b4670daf510e549": {
          "model_module": "@jupyter-widgets/base",
          "model_name": "LayoutModel",
          "model_module_version": "1.2.0",
          "state": {
            "_model_module": "@jupyter-widgets/base",
            "_model_module_version": "1.2.0",
            "_model_name": "LayoutModel",
            "_view_count": null,
            "_view_module": "@jupyter-widgets/base",
            "_view_module_version": "1.2.0",
            "_view_name": "LayoutView",
            "align_content": null,
            "align_items": null,
            "align_self": null,
            "border": null,
            "bottom": null,
            "display": null,
            "flex": null,
            "flex_flow": null,
            "grid_area": null,
            "grid_auto_columns": null,
            "grid_auto_flow": null,
            "grid_auto_rows": null,
            "grid_column": null,
            "grid_gap": null,
            "grid_row": null,
            "grid_template_areas": null,
            "grid_template_columns": null,
            "grid_template_rows": null,
            "height": null,
            "justify_content": null,
            "justify_items": null,
            "left": null,
            "margin": null,
            "max_height": null,
            "max_width": null,
            "min_height": null,
            "min_width": null,
            "object_fit": null,
            "object_position": null,
            "order": null,
            "overflow": null,
            "overflow_x": null,
            "overflow_y": null,
            "padding": null,
            "right": null,
            "top": null,
            "visibility": null,
            "width": null
          }
        },
        "ea7bb7aef82f48dca866ec3f86d52670": {
          "model_module": "@jupyter-widgets/controls",
          "model_name": "DescriptionStyleModel",
          "model_module_version": "1.5.0",
          "state": {
            "_model_module": "@jupyter-widgets/controls",
            "_model_module_version": "1.5.0",
            "_model_name": "DescriptionStyleModel",
            "_view_count": null,
            "_view_module": "@jupyter-widgets/base",
            "_view_module_version": "1.2.0",
            "_view_name": "StyleView",
            "description_width": ""
          }
        },
        "e284f86405c749b09da387cd9bab36d8": {
          "model_module": "@jupyter-widgets/base",
          "model_name": "LayoutModel",
          "model_module_version": "1.2.0",
          "state": {
            "_model_module": "@jupyter-widgets/base",
            "_model_module_version": "1.2.0",
            "_model_name": "LayoutModel",
            "_view_count": null,
            "_view_module": "@jupyter-widgets/base",
            "_view_module_version": "1.2.0",
            "_view_name": "LayoutView",
            "align_content": null,
            "align_items": null,
            "align_self": null,
            "border": null,
            "bottom": null,
            "display": null,
            "flex": null,
            "flex_flow": null,
            "grid_area": null,
            "grid_auto_columns": null,
            "grid_auto_flow": null,
            "grid_auto_rows": null,
            "grid_column": null,
            "grid_gap": null,
            "grid_row": null,
            "grid_template_areas": null,
            "grid_template_columns": null,
            "grid_template_rows": null,
            "height": null,
            "justify_content": null,
            "justify_items": null,
            "left": null,
            "margin": null,
            "max_height": null,
            "max_width": null,
            "min_height": null,
            "min_width": null,
            "object_fit": null,
            "object_position": null,
            "order": null,
            "overflow": null,
            "overflow_x": null,
            "overflow_y": null,
            "padding": null,
            "right": null,
            "top": null,
            "visibility": null,
            "width": null
          }
        },
        "daee5d65496e42fba9765230c2e5e873": {
          "model_module": "@jupyter-widgets/controls",
          "model_name": "ProgressStyleModel",
          "model_module_version": "1.5.0",
          "state": {
            "_model_module": "@jupyter-widgets/controls",
            "_model_module_version": "1.5.0",
            "_model_name": "ProgressStyleModel",
            "_view_count": null,
            "_view_module": "@jupyter-widgets/base",
            "_view_module_version": "1.2.0",
            "_view_name": "StyleView",
            "bar_color": null,
            "description_width": ""
          }
        },
        "99df6a0cf6f4449f9761ed2ffe4bf9d4": {
          "model_module": "@jupyter-widgets/base",
          "model_name": "LayoutModel",
          "model_module_version": "1.2.0",
          "state": {
            "_model_module": "@jupyter-widgets/base",
            "_model_module_version": "1.2.0",
            "_model_name": "LayoutModel",
            "_view_count": null,
            "_view_module": "@jupyter-widgets/base",
            "_view_module_version": "1.2.0",
            "_view_name": "LayoutView",
            "align_content": null,
            "align_items": null,
            "align_self": null,
            "border": null,
            "bottom": null,
            "display": null,
            "flex": null,
            "flex_flow": null,
            "grid_area": null,
            "grid_auto_columns": null,
            "grid_auto_flow": null,
            "grid_auto_rows": null,
            "grid_column": null,
            "grid_gap": null,
            "grid_row": null,
            "grid_template_areas": null,
            "grid_template_columns": null,
            "grid_template_rows": null,
            "height": null,
            "justify_content": null,
            "justify_items": null,
            "left": null,
            "margin": null,
            "max_height": null,
            "max_width": null,
            "min_height": null,
            "min_width": null,
            "object_fit": null,
            "object_position": null,
            "order": null,
            "overflow": null,
            "overflow_x": null,
            "overflow_y": null,
            "padding": null,
            "right": null,
            "top": null,
            "visibility": null,
            "width": null
          }
        },
        "82af6d2321ab48fb8040d319a523ff1d": {
          "model_module": "@jupyter-widgets/controls",
          "model_name": "DescriptionStyleModel",
          "model_module_version": "1.5.0",
          "state": {
            "_model_module": "@jupyter-widgets/controls",
            "_model_module_version": "1.5.0",
            "_model_name": "DescriptionStyleModel",
            "_view_count": null,
            "_view_module": "@jupyter-widgets/base",
            "_view_module_version": "1.2.0",
            "_view_name": "StyleView",
            "description_width": ""
          }
        },
        "ac8b59bcd0aa497190aa916250b1dcdf": {
          "model_module": "@jupyter-widgets/controls",
          "model_name": "HBoxModel",
          "model_module_version": "1.5.0",
          "state": {
            "_dom_classes": [],
            "_model_module": "@jupyter-widgets/controls",
            "_model_module_version": "1.5.0",
            "_model_name": "HBoxModel",
            "_view_count": null,
            "_view_module": "@jupyter-widgets/controls",
            "_view_module_version": "1.5.0",
            "_view_name": "HBoxView",
            "box_style": "",
            "children": [
              "IPY_MODEL_64457a0d49ad47f3b14712509f820cee",
              "IPY_MODEL_b10371a6af54457aa10017a9ead07508",
              "IPY_MODEL_fc47a6370c804052ad0bf50cc532af38"
            ],
            "layout": "IPY_MODEL_cbfac2af71a34ce5b04b865a5093097b"
          }
        },
        "64457a0d49ad47f3b14712509f820cee": {
          "model_module": "@jupyter-widgets/controls",
          "model_name": "HTMLModel",
          "model_module_version": "1.5.0",
          "state": {
            "_dom_classes": [],
            "_model_module": "@jupyter-widgets/controls",
            "_model_module_version": "1.5.0",
            "_model_name": "HTMLModel",
            "_view_count": null,
            "_view_module": "@jupyter-widgets/controls",
            "_view_module_version": "1.5.0",
            "_view_name": "HTMLView",
            "description": "",
            "description_tooltip": null,
            "layout": "IPY_MODEL_50a2de86ccfa4cf6b2a644d85c6ac27f",
            "placeholder": "​",
            "style": "IPY_MODEL_8de12d5c004047a999bf3a5b98fed08e",
            "value": "Downloading (…)cial_tokens_map.json: 100%"
          }
        },
        "b10371a6af54457aa10017a9ead07508": {
          "model_module": "@jupyter-widgets/controls",
          "model_name": "FloatProgressModel",
          "model_module_version": "1.5.0",
          "state": {
            "_dom_classes": [],
            "_model_module": "@jupyter-widgets/controls",
            "_model_module_version": "1.5.0",
            "_model_name": "FloatProgressModel",
            "_view_count": null,
            "_view_module": "@jupyter-widgets/controls",
            "_view_module_version": "1.5.0",
            "_view_name": "ProgressView",
            "bar_style": "success",
            "description": "",
            "description_tooltip": null,
            "layout": "IPY_MODEL_340b5cad79774a89bdd22db7713d8121",
            "max": 649,
            "min": 0,
            "orientation": "horizontal",
            "style": "IPY_MODEL_adccad45a01c4347b992414ed6a37500",
            "value": 649
          }
        },
        "fc47a6370c804052ad0bf50cc532af38": {
          "model_module": "@jupyter-widgets/controls",
          "model_name": "HTMLModel",
          "model_module_version": "1.5.0",
          "state": {
            "_dom_classes": [],
            "_model_module": "@jupyter-widgets/controls",
            "_model_module_version": "1.5.0",
            "_model_name": "HTMLModel",
            "_view_count": null,
            "_view_module": "@jupyter-widgets/controls",
            "_view_module_version": "1.5.0",
            "_view_name": "HTMLView",
            "description": "",
            "description_tooltip": null,
            "layout": "IPY_MODEL_5e9ed2b64dd146adb6f56ecd13260fde",
            "placeholder": "​",
            "style": "IPY_MODEL_430688b6513746c8846709e744461f5a",
            "value": " 649/649 [00:00&lt;00:00, 18.6kB/s]"
          }
        },
        "cbfac2af71a34ce5b04b865a5093097b": {
          "model_module": "@jupyter-widgets/base",
          "model_name": "LayoutModel",
          "model_module_version": "1.2.0",
          "state": {
            "_model_module": "@jupyter-widgets/base",
            "_model_module_version": "1.2.0",
            "_model_name": "LayoutModel",
            "_view_count": null,
            "_view_module": "@jupyter-widgets/base",
            "_view_module_version": "1.2.0",
            "_view_name": "LayoutView",
            "align_content": null,
            "align_items": null,
            "align_self": null,
            "border": null,
            "bottom": null,
            "display": null,
            "flex": null,
            "flex_flow": null,
            "grid_area": null,
            "grid_auto_columns": null,
            "grid_auto_flow": null,
            "grid_auto_rows": null,
            "grid_column": null,
            "grid_gap": null,
            "grid_row": null,
            "grid_template_areas": null,
            "grid_template_columns": null,
            "grid_template_rows": null,
            "height": null,
            "justify_content": null,
            "justify_items": null,
            "left": null,
            "margin": null,
            "max_height": null,
            "max_width": null,
            "min_height": null,
            "min_width": null,
            "object_fit": null,
            "object_position": null,
            "order": null,
            "overflow": null,
            "overflow_x": null,
            "overflow_y": null,
            "padding": null,
            "right": null,
            "top": null,
            "visibility": null,
            "width": null
          }
        },
        "50a2de86ccfa4cf6b2a644d85c6ac27f": {
          "model_module": "@jupyter-widgets/base",
          "model_name": "LayoutModel",
          "model_module_version": "1.2.0",
          "state": {
            "_model_module": "@jupyter-widgets/base",
            "_model_module_version": "1.2.0",
            "_model_name": "LayoutModel",
            "_view_count": null,
            "_view_module": "@jupyter-widgets/base",
            "_view_module_version": "1.2.0",
            "_view_name": "LayoutView",
            "align_content": null,
            "align_items": null,
            "align_self": null,
            "border": null,
            "bottom": null,
            "display": null,
            "flex": null,
            "flex_flow": null,
            "grid_area": null,
            "grid_auto_columns": null,
            "grid_auto_flow": null,
            "grid_auto_rows": null,
            "grid_column": null,
            "grid_gap": null,
            "grid_row": null,
            "grid_template_areas": null,
            "grid_template_columns": null,
            "grid_template_rows": null,
            "height": null,
            "justify_content": null,
            "justify_items": null,
            "left": null,
            "margin": null,
            "max_height": null,
            "max_width": null,
            "min_height": null,
            "min_width": null,
            "object_fit": null,
            "object_position": null,
            "order": null,
            "overflow": null,
            "overflow_x": null,
            "overflow_y": null,
            "padding": null,
            "right": null,
            "top": null,
            "visibility": null,
            "width": null
          }
        },
        "8de12d5c004047a999bf3a5b98fed08e": {
          "model_module": "@jupyter-widgets/controls",
          "model_name": "DescriptionStyleModel",
          "model_module_version": "1.5.0",
          "state": {
            "_model_module": "@jupyter-widgets/controls",
            "_model_module_version": "1.5.0",
            "_model_name": "DescriptionStyleModel",
            "_view_count": null,
            "_view_module": "@jupyter-widgets/base",
            "_view_module_version": "1.2.0",
            "_view_name": "StyleView",
            "description_width": ""
          }
        },
        "340b5cad79774a89bdd22db7713d8121": {
          "model_module": "@jupyter-widgets/base",
          "model_name": "LayoutModel",
          "model_module_version": "1.2.0",
          "state": {
            "_model_module": "@jupyter-widgets/base",
            "_model_module_version": "1.2.0",
            "_model_name": "LayoutModel",
            "_view_count": null,
            "_view_module": "@jupyter-widgets/base",
            "_view_module_version": "1.2.0",
            "_view_name": "LayoutView",
            "align_content": null,
            "align_items": null,
            "align_self": null,
            "border": null,
            "bottom": null,
            "display": null,
            "flex": null,
            "flex_flow": null,
            "grid_area": null,
            "grid_auto_columns": null,
            "grid_auto_flow": null,
            "grid_auto_rows": null,
            "grid_column": null,
            "grid_gap": null,
            "grid_row": null,
            "grid_template_areas": null,
            "grid_template_columns": null,
            "grid_template_rows": null,
            "height": null,
            "justify_content": null,
            "justify_items": null,
            "left": null,
            "margin": null,
            "max_height": null,
            "max_width": null,
            "min_height": null,
            "min_width": null,
            "object_fit": null,
            "object_position": null,
            "order": null,
            "overflow": null,
            "overflow_x": null,
            "overflow_y": null,
            "padding": null,
            "right": null,
            "top": null,
            "visibility": null,
            "width": null
          }
        },
        "adccad45a01c4347b992414ed6a37500": {
          "model_module": "@jupyter-widgets/controls",
          "model_name": "ProgressStyleModel",
          "model_module_version": "1.5.0",
          "state": {
            "_model_module": "@jupyter-widgets/controls",
            "_model_module_version": "1.5.0",
            "_model_name": "ProgressStyleModel",
            "_view_count": null,
            "_view_module": "@jupyter-widgets/base",
            "_view_module_version": "1.2.0",
            "_view_name": "StyleView",
            "bar_color": null,
            "description_width": ""
          }
        },
        "5e9ed2b64dd146adb6f56ecd13260fde": {
          "model_module": "@jupyter-widgets/base",
          "model_name": "LayoutModel",
          "model_module_version": "1.2.0",
          "state": {
            "_model_module": "@jupyter-widgets/base",
            "_model_module_version": "1.2.0",
            "_model_name": "LayoutModel",
            "_view_count": null,
            "_view_module": "@jupyter-widgets/base",
            "_view_module_version": "1.2.0",
            "_view_name": "LayoutView",
            "align_content": null,
            "align_items": null,
            "align_self": null,
            "border": null,
            "bottom": null,
            "display": null,
            "flex": null,
            "flex_flow": null,
            "grid_area": null,
            "grid_auto_columns": null,
            "grid_auto_flow": null,
            "grid_auto_rows": null,
            "grid_column": null,
            "grid_gap": null,
            "grid_row": null,
            "grid_template_areas": null,
            "grid_template_columns": null,
            "grid_template_rows": null,
            "height": null,
            "justify_content": null,
            "justify_items": null,
            "left": null,
            "margin": null,
            "max_height": null,
            "max_width": null,
            "min_height": null,
            "min_width": null,
            "object_fit": null,
            "object_position": null,
            "order": null,
            "overflow": null,
            "overflow_x": null,
            "overflow_y": null,
            "padding": null,
            "right": null,
            "top": null,
            "visibility": null,
            "width": null
          }
        },
        "430688b6513746c8846709e744461f5a": {
          "model_module": "@jupyter-widgets/controls",
          "model_name": "DescriptionStyleModel",
          "model_module_version": "1.5.0",
          "state": {
            "_model_module": "@jupyter-widgets/controls",
            "_model_module_version": "1.5.0",
            "_model_name": "DescriptionStyleModel",
            "_view_count": null,
            "_view_module": "@jupyter-widgets/base",
            "_view_module_version": "1.2.0",
            "_view_name": "StyleView",
            "description_width": ""
          }
        },
        "8f3e4b2241114c4298aac87a636baeb1": {
          "model_module": "@jupyter-widgets/controls",
          "model_name": "HBoxModel",
          "model_module_version": "1.5.0",
          "state": {
            "_dom_classes": [],
            "_model_module": "@jupyter-widgets/controls",
            "_model_module_version": "1.5.0",
            "_model_name": "HBoxModel",
            "_view_count": null,
            "_view_module": "@jupyter-widgets/controls",
            "_view_module_version": "1.5.0",
            "_view_name": "HBoxView",
            "box_style": "",
            "children": [
              "IPY_MODEL_514fe1e940c642bcb7313daa6f34f36c",
              "IPY_MODEL_a0437e7784c34bb5bd85887413ff0df6",
              "IPY_MODEL_aa0ab1d9c2a14d828b9e354d762b93a1"
            ],
            "layout": "IPY_MODEL_91cdb6f49ad246dc9e95aa22950a42f4"
          }
        },
        "514fe1e940c642bcb7313daa6f34f36c": {
          "model_module": "@jupyter-widgets/controls",
          "model_name": "HTMLModel",
          "model_module_version": "1.5.0",
          "state": {
            "_dom_classes": [],
            "_model_module": "@jupyter-widgets/controls",
            "_model_module_version": "1.5.0",
            "_model_name": "HTMLModel",
            "_view_count": null,
            "_view_module": "@jupyter-widgets/controls",
            "_view_module_version": "1.5.0",
            "_view_name": "HTMLView",
            "description": "",
            "description_tooltip": null,
            "layout": "IPY_MODEL_55db7eae4ea5448689fe988a405f88b6",
            "placeholder": "​",
            "style": "IPY_MODEL_dbef40e200e04a85ba1dd800ab3bfc87",
            "value": "Downloading (…)okenizer_config.json: 100%"
          }
        },
        "a0437e7784c34bb5bd85887413ff0df6": {
          "model_module": "@jupyter-widgets/controls",
          "model_name": "FloatProgressModel",
          "model_module_version": "1.5.0",
          "state": {
            "_dom_classes": [],
            "_model_module": "@jupyter-widgets/controls",
            "_model_module_version": "1.5.0",
            "_model_name": "FloatProgressModel",
            "_view_count": null,
            "_view_module": "@jupyter-widgets/controls",
            "_view_module_version": "1.5.0",
            "_view_name": "ProgressView",
            "bar_style": "success",
            "description": "",
            "description_tooltip": null,
            "layout": "IPY_MODEL_f5e3f82bc0144ef791ad875549c814e5",
            "max": 529,
            "min": 0,
            "orientation": "horizontal",
            "style": "IPY_MODEL_2eb2f7bd469d462cb60283c0418877be",
            "value": 529
          }
        },
        "aa0ab1d9c2a14d828b9e354d762b93a1": {
          "model_module": "@jupyter-widgets/controls",
          "model_name": "HTMLModel",
          "model_module_version": "1.5.0",
          "state": {
            "_dom_classes": [],
            "_model_module": "@jupyter-widgets/controls",
            "_model_module_version": "1.5.0",
            "_model_name": "HTMLModel",
            "_view_count": null,
            "_view_module": "@jupyter-widgets/controls",
            "_view_module_version": "1.5.0",
            "_view_name": "HTMLView",
            "description": "",
            "description_tooltip": null,
            "layout": "IPY_MODEL_93863b3c269a4d5b95d0fd1c6197b63d",
            "placeholder": "​",
            "style": "IPY_MODEL_f41d446cedf34e5d98554d2a6ed94a4d",
            "value": " 529/529 [00:00&lt;00:00, 11.9kB/s]"
          }
        },
        "91cdb6f49ad246dc9e95aa22950a42f4": {
          "model_module": "@jupyter-widgets/base",
          "model_name": "LayoutModel",
          "model_module_version": "1.2.0",
          "state": {
            "_model_module": "@jupyter-widgets/base",
            "_model_module_version": "1.2.0",
            "_model_name": "LayoutModel",
            "_view_count": null,
            "_view_module": "@jupyter-widgets/base",
            "_view_module_version": "1.2.0",
            "_view_name": "LayoutView",
            "align_content": null,
            "align_items": null,
            "align_self": null,
            "border": null,
            "bottom": null,
            "display": null,
            "flex": null,
            "flex_flow": null,
            "grid_area": null,
            "grid_auto_columns": null,
            "grid_auto_flow": null,
            "grid_auto_rows": null,
            "grid_column": null,
            "grid_gap": null,
            "grid_row": null,
            "grid_template_areas": null,
            "grid_template_columns": null,
            "grid_template_rows": null,
            "height": null,
            "justify_content": null,
            "justify_items": null,
            "left": null,
            "margin": null,
            "max_height": null,
            "max_width": null,
            "min_height": null,
            "min_width": null,
            "object_fit": null,
            "object_position": null,
            "order": null,
            "overflow": null,
            "overflow_x": null,
            "overflow_y": null,
            "padding": null,
            "right": null,
            "top": null,
            "visibility": null,
            "width": null
          }
        },
        "55db7eae4ea5448689fe988a405f88b6": {
          "model_module": "@jupyter-widgets/base",
          "model_name": "LayoutModel",
          "model_module_version": "1.2.0",
          "state": {
            "_model_module": "@jupyter-widgets/base",
            "_model_module_version": "1.2.0",
            "_model_name": "LayoutModel",
            "_view_count": null,
            "_view_module": "@jupyter-widgets/base",
            "_view_module_version": "1.2.0",
            "_view_name": "LayoutView",
            "align_content": null,
            "align_items": null,
            "align_self": null,
            "border": null,
            "bottom": null,
            "display": null,
            "flex": null,
            "flex_flow": null,
            "grid_area": null,
            "grid_auto_columns": null,
            "grid_auto_flow": null,
            "grid_auto_rows": null,
            "grid_column": null,
            "grid_gap": null,
            "grid_row": null,
            "grid_template_areas": null,
            "grid_template_columns": null,
            "grid_template_rows": null,
            "height": null,
            "justify_content": null,
            "justify_items": null,
            "left": null,
            "margin": null,
            "max_height": null,
            "max_width": null,
            "min_height": null,
            "min_width": null,
            "object_fit": null,
            "object_position": null,
            "order": null,
            "overflow": null,
            "overflow_x": null,
            "overflow_y": null,
            "padding": null,
            "right": null,
            "top": null,
            "visibility": null,
            "width": null
          }
        },
        "dbef40e200e04a85ba1dd800ab3bfc87": {
          "model_module": "@jupyter-widgets/controls",
          "model_name": "DescriptionStyleModel",
          "model_module_version": "1.5.0",
          "state": {
            "_model_module": "@jupyter-widgets/controls",
            "_model_module_version": "1.5.0",
            "_model_name": "DescriptionStyleModel",
            "_view_count": null,
            "_view_module": "@jupyter-widgets/base",
            "_view_module_version": "1.2.0",
            "_view_name": "StyleView",
            "description_width": ""
          }
        },
        "f5e3f82bc0144ef791ad875549c814e5": {
          "model_module": "@jupyter-widgets/base",
          "model_name": "LayoutModel",
          "model_module_version": "1.2.0",
          "state": {
            "_model_module": "@jupyter-widgets/base",
            "_model_module_version": "1.2.0",
            "_model_name": "LayoutModel",
            "_view_count": null,
            "_view_module": "@jupyter-widgets/base",
            "_view_module_version": "1.2.0",
            "_view_name": "LayoutView",
            "align_content": null,
            "align_items": null,
            "align_self": null,
            "border": null,
            "bottom": null,
            "display": null,
            "flex": null,
            "flex_flow": null,
            "grid_area": null,
            "grid_auto_columns": null,
            "grid_auto_flow": null,
            "grid_auto_rows": null,
            "grid_column": null,
            "grid_gap": null,
            "grid_row": null,
            "grid_template_areas": null,
            "grid_template_columns": null,
            "grid_template_rows": null,
            "height": null,
            "justify_content": null,
            "justify_items": null,
            "left": null,
            "margin": null,
            "max_height": null,
            "max_width": null,
            "min_height": null,
            "min_width": null,
            "object_fit": null,
            "object_position": null,
            "order": null,
            "overflow": null,
            "overflow_x": null,
            "overflow_y": null,
            "padding": null,
            "right": null,
            "top": null,
            "visibility": null,
            "width": null
          }
        },
        "2eb2f7bd469d462cb60283c0418877be": {
          "model_module": "@jupyter-widgets/controls",
          "model_name": "ProgressStyleModel",
          "model_module_version": "1.5.0",
          "state": {
            "_model_module": "@jupyter-widgets/controls",
            "_model_module_version": "1.5.0",
            "_model_name": "ProgressStyleModel",
            "_view_count": null,
            "_view_module": "@jupyter-widgets/base",
            "_view_module_version": "1.2.0",
            "_view_name": "StyleView",
            "bar_color": null,
            "description_width": ""
          }
        },
        "93863b3c269a4d5b95d0fd1c6197b63d": {
          "model_module": "@jupyter-widgets/base",
          "model_name": "LayoutModel",
          "model_module_version": "1.2.0",
          "state": {
            "_model_module": "@jupyter-widgets/base",
            "_model_module_version": "1.2.0",
            "_model_name": "LayoutModel",
            "_view_count": null,
            "_view_module": "@jupyter-widgets/base",
            "_view_module_version": "1.2.0",
            "_view_name": "LayoutView",
            "align_content": null,
            "align_items": null,
            "align_self": null,
            "border": null,
            "bottom": null,
            "display": null,
            "flex": null,
            "flex_flow": null,
            "grid_area": null,
            "grid_auto_columns": null,
            "grid_auto_flow": null,
            "grid_auto_rows": null,
            "grid_column": null,
            "grid_gap": null,
            "grid_row": null,
            "grid_template_areas": null,
            "grid_template_columns": null,
            "grid_template_rows": null,
            "height": null,
            "justify_content": null,
            "justify_items": null,
            "left": null,
            "margin": null,
            "max_height": null,
            "max_width": null,
            "min_height": null,
            "min_width": null,
            "object_fit": null,
            "object_position": null,
            "order": null,
            "overflow": null,
            "overflow_x": null,
            "overflow_y": null,
            "padding": null,
            "right": null,
            "top": null,
            "visibility": null,
            "width": null
          }
        },
        "f41d446cedf34e5d98554d2a6ed94a4d": {
          "model_module": "@jupyter-widgets/controls",
          "model_name": "DescriptionStyleModel",
          "model_module_version": "1.5.0",
          "state": {
            "_model_module": "@jupyter-widgets/controls",
            "_model_module_version": "1.5.0",
            "_model_name": "DescriptionStyleModel",
            "_view_count": null,
            "_view_module": "@jupyter-widgets/base",
            "_view_module_version": "1.2.0",
            "_view_name": "StyleView",
            "description_width": ""
          }
        },
        "3ab02abe7dea440288b8c9a97852cb96": {
          "model_module": "@jupyter-widgets/controls",
          "model_name": "HBoxModel",
          "model_module_version": "1.5.0",
          "state": {
            "_dom_classes": [],
            "_model_module": "@jupyter-widgets/controls",
            "_model_module_version": "1.5.0",
            "_model_name": "HBoxModel",
            "_view_count": null,
            "_view_module": "@jupyter-widgets/controls",
            "_view_module_version": "1.5.0",
            "_view_name": "HBoxView",
            "box_style": "",
            "children": [
              "IPY_MODEL_fcbf6d8a39044a1d8ca7265b8ce90594",
              "IPY_MODEL_c1fbeb039c4740928b1d80ceeffbfb9f",
              "IPY_MODEL_be4c70e5b5c544fd932246368626df80"
            ],
            "layout": "IPY_MODEL_30d21c4487aa48568e6a4c5a81a3b0fb"
          }
        },
        "fcbf6d8a39044a1d8ca7265b8ce90594": {
          "model_module": "@jupyter-widgets/controls",
          "model_name": "HTMLModel",
          "model_module_version": "1.5.0",
          "state": {
            "_dom_classes": [],
            "_model_module": "@jupyter-widgets/controls",
            "_model_module_version": "1.5.0",
            "_model_name": "HTMLModel",
            "_view_count": null,
            "_view_module": "@jupyter-widgets/controls",
            "_view_module_version": "1.5.0",
            "_view_name": "HTMLView",
            "description": "",
            "description_tooltip": null,
            "layout": "IPY_MODEL_7313ed745df243d99780222c936634ae",
            "placeholder": "​",
            "style": "IPY_MODEL_d399c4c12c964e9490c9690a1e8b06df",
            "value": "Downloading (…)lve/main/config.json: 100%"
          }
        },
        "c1fbeb039c4740928b1d80ceeffbfb9f": {
          "model_module": "@jupyter-widgets/controls",
          "model_name": "FloatProgressModel",
          "model_module_version": "1.5.0",
          "state": {
            "_dom_classes": [],
            "_model_module": "@jupyter-widgets/controls",
            "_model_module_version": "1.5.0",
            "_model_name": "FloatProgressModel",
            "_view_count": null,
            "_view_module": "@jupyter-widgets/controls",
            "_view_module_version": "1.5.0",
            "_view_name": "ProgressView",
            "bar_style": "success",
            "description": "",
            "description_tooltip": null,
            "layout": "IPY_MODEL_9f0bdbd90dbc488aba7ceb32a198c734",
            "max": 1429,
            "min": 0,
            "orientation": "horizontal",
            "style": "IPY_MODEL_2e5c3f3cc0304c0d90eb466d210bd8f1",
            "value": 1429
          }
        },
        "be4c70e5b5c544fd932246368626df80": {
          "model_module": "@jupyter-widgets/controls",
          "model_name": "HTMLModel",
          "model_module_version": "1.5.0",
          "state": {
            "_dom_classes": [],
            "_model_module": "@jupyter-widgets/controls",
            "_model_module_version": "1.5.0",
            "_model_name": "HTMLModel",
            "_view_count": null,
            "_view_module": "@jupyter-widgets/controls",
            "_view_module_version": "1.5.0",
            "_view_name": "HTMLView",
            "description": "",
            "description_tooltip": null,
            "layout": "IPY_MODEL_1d956e663b2e45d5b46c294ed9b806a0",
            "placeholder": "​",
            "style": "IPY_MODEL_8959310eb39b458c9e301e4691425e8a",
            "value": " 1.43k/1.43k [00:00&lt;00:00, 53.8kB/s]"
          }
        },
        "30d21c4487aa48568e6a4c5a81a3b0fb": {
          "model_module": "@jupyter-widgets/base",
          "model_name": "LayoutModel",
          "model_module_version": "1.2.0",
          "state": {
            "_model_module": "@jupyter-widgets/base",
            "_model_module_version": "1.2.0",
            "_model_name": "LayoutModel",
            "_view_count": null,
            "_view_module": "@jupyter-widgets/base",
            "_view_module_version": "1.2.0",
            "_view_name": "LayoutView",
            "align_content": null,
            "align_items": null,
            "align_self": null,
            "border": null,
            "bottom": null,
            "display": null,
            "flex": null,
            "flex_flow": null,
            "grid_area": null,
            "grid_auto_columns": null,
            "grid_auto_flow": null,
            "grid_auto_rows": null,
            "grid_column": null,
            "grid_gap": null,
            "grid_row": null,
            "grid_template_areas": null,
            "grid_template_columns": null,
            "grid_template_rows": null,
            "height": null,
            "justify_content": null,
            "justify_items": null,
            "left": null,
            "margin": null,
            "max_height": null,
            "max_width": null,
            "min_height": null,
            "min_width": null,
            "object_fit": null,
            "object_position": null,
            "order": null,
            "overflow": null,
            "overflow_x": null,
            "overflow_y": null,
            "padding": null,
            "right": null,
            "top": null,
            "visibility": null,
            "width": null
          }
        },
        "7313ed745df243d99780222c936634ae": {
          "model_module": "@jupyter-widgets/base",
          "model_name": "LayoutModel",
          "model_module_version": "1.2.0",
          "state": {
            "_model_module": "@jupyter-widgets/base",
            "_model_module_version": "1.2.0",
            "_model_name": "LayoutModel",
            "_view_count": null,
            "_view_module": "@jupyter-widgets/base",
            "_view_module_version": "1.2.0",
            "_view_name": "LayoutView",
            "align_content": null,
            "align_items": null,
            "align_self": null,
            "border": null,
            "bottom": null,
            "display": null,
            "flex": null,
            "flex_flow": null,
            "grid_area": null,
            "grid_auto_columns": null,
            "grid_auto_flow": null,
            "grid_auto_rows": null,
            "grid_column": null,
            "grid_gap": null,
            "grid_row": null,
            "grid_template_areas": null,
            "grid_template_columns": null,
            "grid_template_rows": null,
            "height": null,
            "justify_content": null,
            "justify_items": null,
            "left": null,
            "margin": null,
            "max_height": null,
            "max_width": null,
            "min_height": null,
            "min_width": null,
            "object_fit": null,
            "object_position": null,
            "order": null,
            "overflow": null,
            "overflow_x": null,
            "overflow_y": null,
            "padding": null,
            "right": null,
            "top": null,
            "visibility": null,
            "width": null
          }
        },
        "d399c4c12c964e9490c9690a1e8b06df": {
          "model_module": "@jupyter-widgets/controls",
          "model_name": "DescriptionStyleModel",
          "model_module_version": "1.5.0",
          "state": {
            "_model_module": "@jupyter-widgets/controls",
            "_model_module_version": "1.5.0",
            "_model_name": "DescriptionStyleModel",
            "_view_count": null,
            "_view_module": "@jupyter-widgets/base",
            "_view_module_version": "1.2.0",
            "_view_name": "StyleView",
            "description_width": ""
          }
        },
        "9f0bdbd90dbc488aba7ceb32a198c734": {
          "model_module": "@jupyter-widgets/base",
          "model_name": "LayoutModel",
          "model_module_version": "1.2.0",
          "state": {
            "_model_module": "@jupyter-widgets/base",
            "_model_module_version": "1.2.0",
            "_model_name": "LayoutModel",
            "_view_count": null,
            "_view_module": "@jupyter-widgets/base",
            "_view_module_version": "1.2.0",
            "_view_name": "LayoutView",
            "align_content": null,
            "align_items": null,
            "align_self": null,
            "border": null,
            "bottom": null,
            "display": null,
            "flex": null,
            "flex_flow": null,
            "grid_area": null,
            "grid_auto_columns": null,
            "grid_auto_flow": null,
            "grid_auto_rows": null,
            "grid_column": null,
            "grid_gap": null,
            "grid_row": null,
            "grid_template_areas": null,
            "grid_template_columns": null,
            "grid_template_rows": null,
            "height": null,
            "justify_content": null,
            "justify_items": null,
            "left": null,
            "margin": null,
            "max_height": null,
            "max_width": null,
            "min_height": null,
            "min_width": null,
            "object_fit": null,
            "object_position": null,
            "order": null,
            "overflow": null,
            "overflow_x": null,
            "overflow_y": null,
            "padding": null,
            "right": null,
            "top": null,
            "visibility": null,
            "width": null
          }
        },
        "2e5c3f3cc0304c0d90eb466d210bd8f1": {
          "model_module": "@jupyter-widgets/controls",
          "model_name": "ProgressStyleModel",
          "model_module_version": "1.5.0",
          "state": {
            "_model_module": "@jupyter-widgets/controls",
            "_model_module_version": "1.5.0",
            "_model_name": "ProgressStyleModel",
            "_view_count": null,
            "_view_module": "@jupyter-widgets/base",
            "_view_module_version": "1.2.0",
            "_view_name": "StyleView",
            "bar_color": null,
            "description_width": ""
          }
        },
        "1d956e663b2e45d5b46c294ed9b806a0": {
          "model_module": "@jupyter-widgets/base",
          "model_name": "LayoutModel",
          "model_module_version": "1.2.0",
          "state": {
            "_model_module": "@jupyter-widgets/base",
            "_model_module_version": "1.2.0",
            "_model_name": "LayoutModel",
            "_view_count": null,
            "_view_module": "@jupyter-widgets/base",
            "_view_module_version": "1.2.0",
            "_view_name": "LayoutView",
            "align_content": null,
            "align_items": null,
            "align_self": null,
            "border": null,
            "bottom": null,
            "display": null,
            "flex": null,
            "flex_flow": null,
            "grid_area": null,
            "grid_auto_columns": null,
            "grid_auto_flow": null,
            "grid_auto_rows": null,
            "grid_column": null,
            "grid_gap": null,
            "grid_row": null,
            "grid_template_areas": null,
            "grid_template_columns": null,
            "grid_template_rows": null,
            "height": null,
            "justify_content": null,
            "justify_items": null,
            "left": null,
            "margin": null,
            "max_height": null,
            "max_width": null,
            "min_height": null,
            "min_width": null,
            "object_fit": null,
            "object_position": null,
            "order": null,
            "overflow": null,
            "overflow_x": null,
            "overflow_y": null,
            "padding": null,
            "right": null,
            "top": null,
            "visibility": null,
            "width": null
          }
        },
        "8959310eb39b458c9e301e4691425e8a": {
          "model_module": "@jupyter-widgets/controls",
          "model_name": "DescriptionStyleModel",
          "model_module_version": "1.5.0",
          "state": {
            "_model_module": "@jupyter-widgets/controls",
            "_model_module_version": "1.5.0",
            "_model_name": "DescriptionStyleModel",
            "_view_count": null,
            "_view_module": "@jupyter-widgets/base",
            "_view_module_version": "1.2.0",
            "_view_name": "StyleView",
            "description_width": ""
          }
        },
        "bd0bfdf8ac81449f947aa4b7a8dda056": {
          "model_module": "@jupyter-widgets/controls",
          "model_name": "HBoxModel",
          "model_module_version": "1.5.0",
          "state": {
            "_dom_classes": [],
            "_model_module": "@jupyter-widgets/controls",
            "_model_module_version": "1.5.0",
            "_model_name": "HBoxModel",
            "_view_count": null,
            "_view_module": "@jupyter-widgets/controls",
            "_view_module_version": "1.5.0",
            "_view_name": "HBoxView",
            "box_style": "",
            "children": [
              "IPY_MODEL_9f895687285a40c187da25e3b4584e82",
              "IPY_MODEL_411e3bbd0f394c59bd735c3b48c7a4b8",
              "IPY_MODEL_1c9607ae9a7543ccb226d1ab40e0b2ec"
            ],
            "layout": "IPY_MODEL_b2c20f5eb3f149e99bb737c4e553a5cc"
          }
        },
        "9f895687285a40c187da25e3b4584e82": {
          "model_module": "@jupyter-widgets/controls",
          "model_name": "HTMLModel",
          "model_module_version": "1.5.0",
          "state": {
            "_dom_classes": [],
            "_model_module": "@jupyter-widgets/controls",
            "_model_module_version": "1.5.0",
            "_model_name": "HTMLModel",
            "_view_count": null,
            "_view_module": "@jupyter-widgets/controls",
            "_view_module_version": "1.5.0",
            "_view_name": "HTMLView",
            "description": "",
            "description_tooltip": null,
            "layout": "IPY_MODEL_e25e412c28384a23ad818cfe8bf0219c",
            "placeholder": "​",
            "style": "IPY_MODEL_209be5c2ce174ea1a617ca6207567927",
            "value": "100%"
          }
        },
        "411e3bbd0f394c59bd735c3b48c7a4b8": {
          "model_module": "@jupyter-widgets/controls",
          "model_name": "FloatProgressModel",
          "model_module_version": "1.5.0",
          "state": {
            "_dom_classes": [],
            "_model_module": "@jupyter-widgets/controls",
            "_model_module_version": "1.5.0",
            "_model_name": "FloatProgressModel",
            "_view_count": null,
            "_view_module": "@jupyter-widgets/controls",
            "_view_module_version": "1.5.0",
            "_view_name": "ProgressView",
            "bar_style": "success",
            "description": "",
            "description_tooltip": null,
            "layout": "IPY_MODEL_e00b7514b7e94d0580958a11b2536ee2",
            "max": 203060,
            "min": 0,
            "orientation": "horizontal",
            "style": "IPY_MODEL_87ed1f10edb64fa6bcd62c306608103d",
            "value": 203060
          }
        },
        "1c9607ae9a7543ccb226d1ab40e0b2ec": {
          "model_module": "@jupyter-widgets/controls",
          "model_name": "HTMLModel",
          "model_module_version": "1.5.0",
          "state": {
            "_dom_classes": [],
            "_model_module": "@jupyter-widgets/controls",
            "_model_module_version": "1.5.0",
            "_model_name": "HTMLModel",
            "_view_count": null,
            "_view_module": "@jupyter-widgets/controls",
            "_view_module_version": "1.5.0",
            "_view_name": "HTMLView",
            "description": "",
            "description_tooltip": null,
            "layout": "IPY_MODEL_e1b3c453c7a343a08a69fc2fa30c28a6",
            "placeholder": "​",
            "style": "IPY_MODEL_076565af98b947f1981897e8c732d14d",
            "value": " 203060/203060 [01:10&lt;00:00, 3605.25it/s]"
          }
        },
        "b2c20f5eb3f149e99bb737c4e553a5cc": {
          "model_module": "@jupyter-widgets/base",
          "model_name": "LayoutModel",
          "model_module_version": "1.2.0",
          "state": {
            "_model_module": "@jupyter-widgets/base",
            "_model_module_version": "1.2.0",
            "_model_name": "LayoutModel",
            "_view_count": null,
            "_view_module": "@jupyter-widgets/base",
            "_view_module_version": "1.2.0",
            "_view_name": "LayoutView",
            "align_content": null,
            "align_items": null,
            "align_self": null,
            "border": null,
            "bottom": null,
            "display": null,
            "flex": null,
            "flex_flow": null,
            "grid_area": null,
            "grid_auto_columns": null,
            "grid_auto_flow": null,
            "grid_auto_rows": null,
            "grid_column": null,
            "grid_gap": null,
            "grid_row": null,
            "grid_template_areas": null,
            "grid_template_columns": null,
            "grid_template_rows": null,
            "height": null,
            "justify_content": null,
            "justify_items": null,
            "left": null,
            "margin": null,
            "max_height": null,
            "max_width": null,
            "min_height": null,
            "min_width": null,
            "object_fit": null,
            "object_position": null,
            "order": null,
            "overflow": null,
            "overflow_x": null,
            "overflow_y": null,
            "padding": null,
            "right": null,
            "top": null,
            "visibility": null,
            "width": null
          }
        },
        "e25e412c28384a23ad818cfe8bf0219c": {
          "model_module": "@jupyter-widgets/base",
          "model_name": "LayoutModel",
          "model_module_version": "1.2.0",
          "state": {
            "_model_module": "@jupyter-widgets/base",
            "_model_module_version": "1.2.0",
            "_model_name": "LayoutModel",
            "_view_count": null,
            "_view_module": "@jupyter-widgets/base",
            "_view_module_version": "1.2.0",
            "_view_name": "LayoutView",
            "align_content": null,
            "align_items": null,
            "align_self": null,
            "border": null,
            "bottom": null,
            "display": null,
            "flex": null,
            "flex_flow": null,
            "grid_area": null,
            "grid_auto_columns": null,
            "grid_auto_flow": null,
            "grid_auto_rows": null,
            "grid_column": null,
            "grid_gap": null,
            "grid_row": null,
            "grid_template_areas": null,
            "grid_template_columns": null,
            "grid_template_rows": null,
            "height": null,
            "justify_content": null,
            "justify_items": null,
            "left": null,
            "margin": null,
            "max_height": null,
            "max_width": null,
            "min_height": null,
            "min_width": null,
            "object_fit": null,
            "object_position": null,
            "order": null,
            "overflow": null,
            "overflow_x": null,
            "overflow_y": null,
            "padding": null,
            "right": null,
            "top": null,
            "visibility": null,
            "width": null
          }
        },
        "209be5c2ce174ea1a617ca6207567927": {
          "model_module": "@jupyter-widgets/controls",
          "model_name": "DescriptionStyleModel",
          "model_module_version": "1.5.0",
          "state": {
            "_model_module": "@jupyter-widgets/controls",
            "_model_module_version": "1.5.0",
            "_model_name": "DescriptionStyleModel",
            "_view_count": null,
            "_view_module": "@jupyter-widgets/base",
            "_view_module_version": "1.2.0",
            "_view_name": "StyleView",
            "description_width": ""
          }
        },
        "e00b7514b7e94d0580958a11b2536ee2": {
          "model_module": "@jupyter-widgets/base",
          "model_name": "LayoutModel",
          "model_module_version": "1.2.0",
          "state": {
            "_model_module": "@jupyter-widgets/base",
            "_model_module_version": "1.2.0",
            "_model_name": "LayoutModel",
            "_view_count": null,
            "_view_module": "@jupyter-widgets/base",
            "_view_module_version": "1.2.0",
            "_view_name": "LayoutView",
            "align_content": null,
            "align_items": null,
            "align_self": null,
            "border": null,
            "bottom": null,
            "display": null,
            "flex": null,
            "flex_flow": null,
            "grid_area": null,
            "grid_auto_columns": null,
            "grid_auto_flow": null,
            "grid_auto_rows": null,
            "grid_column": null,
            "grid_gap": null,
            "grid_row": null,
            "grid_template_areas": null,
            "grid_template_columns": null,
            "grid_template_rows": null,
            "height": null,
            "justify_content": null,
            "justify_items": null,
            "left": null,
            "margin": null,
            "max_height": null,
            "max_width": null,
            "min_height": null,
            "min_width": null,
            "object_fit": null,
            "object_position": null,
            "order": null,
            "overflow": null,
            "overflow_x": null,
            "overflow_y": null,
            "padding": null,
            "right": null,
            "top": null,
            "visibility": null,
            "width": null
          }
        },
        "87ed1f10edb64fa6bcd62c306608103d": {
          "model_module": "@jupyter-widgets/controls",
          "model_name": "ProgressStyleModel",
          "model_module_version": "1.5.0",
          "state": {
            "_model_module": "@jupyter-widgets/controls",
            "_model_module_version": "1.5.0",
            "_model_name": "ProgressStyleModel",
            "_view_count": null,
            "_view_module": "@jupyter-widgets/base",
            "_view_module_version": "1.2.0",
            "_view_name": "StyleView",
            "bar_color": null,
            "description_width": ""
          }
        },
        "e1b3c453c7a343a08a69fc2fa30c28a6": {
          "model_module": "@jupyter-widgets/base",
          "model_name": "LayoutModel",
          "model_module_version": "1.2.0",
          "state": {
            "_model_module": "@jupyter-widgets/base",
            "_model_module_version": "1.2.0",
            "_model_name": "LayoutModel",
            "_view_count": null,
            "_view_module": "@jupyter-widgets/base",
            "_view_module_version": "1.2.0",
            "_view_name": "LayoutView",
            "align_content": null,
            "align_items": null,
            "align_self": null,
            "border": null,
            "bottom": null,
            "display": null,
            "flex": null,
            "flex_flow": null,
            "grid_area": null,
            "grid_auto_columns": null,
            "grid_auto_flow": null,
            "grid_auto_rows": null,
            "grid_column": null,
            "grid_gap": null,
            "grid_row": null,
            "grid_template_areas": null,
            "grid_template_columns": null,
            "grid_template_rows": null,
            "height": null,
            "justify_content": null,
            "justify_items": null,
            "left": null,
            "margin": null,
            "max_height": null,
            "max_width": null,
            "min_height": null,
            "min_width": null,
            "object_fit": null,
            "object_position": null,
            "order": null,
            "overflow": null,
            "overflow_x": null,
            "overflow_y": null,
            "padding": null,
            "right": null,
            "top": null,
            "visibility": null,
            "width": null
          }
        },
        "076565af98b947f1981897e8c732d14d": {
          "model_module": "@jupyter-widgets/controls",
          "model_name": "DescriptionStyleModel",
          "model_module_version": "1.5.0",
          "state": {
            "_model_module": "@jupyter-widgets/controls",
            "_model_module_version": "1.5.0",
            "_model_name": "DescriptionStyleModel",
            "_view_count": null,
            "_view_module": "@jupyter-widgets/base",
            "_view_module_version": "1.2.0",
            "_view_name": "StyleView",
            "description_width": ""
          }
        },
        "10bd630013fa46a8b0caeb8ae8c0ce92": {
          "model_module": "@jupyter-widgets/controls",
          "model_name": "HBoxModel",
          "model_module_version": "1.5.0",
          "state": {
            "_dom_classes": [],
            "_model_module": "@jupyter-widgets/controls",
            "_model_module_version": "1.5.0",
            "_model_name": "HBoxModel",
            "_view_count": null,
            "_view_module": "@jupyter-widgets/controls",
            "_view_module_version": "1.5.0",
            "_view_name": "HBoxView",
            "box_style": "",
            "children": [
              "IPY_MODEL_61b042cbaae54a70a2dc3bb6b138f5e7",
              "IPY_MODEL_c33312cb75a74db38d672b36ef96f8da",
              "IPY_MODEL_616ec0020ef845a69d002aa62f46efbd"
            ],
            "layout": "IPY_MODEL_5d2cb16c4ad84644920a1a2c625b374a"
          }
        },
        "61b042cbaae54a70a2dc3bb6b138f5e7": {
          "model_module": "@jupyter-widgets/controls",
          "model_name": "HTMLModel",
          "model_module_version": "1.5.0",
          "state": {
            "_dom_classes": [],
            "_model_module": "@jupyter-widgets/controls",
            "_model_module_version": "1.5.0",
            "_model_name": "HTMLModel",
            "_view_count": null,
            "_view_module": "@jupyter-widgets/controls",
            "_view_module_version": "1.5.0",
            "_view_name": "HTMLView",
            "description": "",
            "description_tooltip": null,
            "layout": "IPY_MODEL_d9c4be0c834943f195f664f47e956f4a",
            "placeholder": "​",
            "style": "IPY_MODEL_1ca8c42ac0e9445e845988ad5035ed4c",
            "value": "100%"
          }
        },
        "c33312cb75a74db38d672b36ef96f8da": {
          "model_module": "@jupyter-widgets/controls",
          "model_name": "FloatProgressModel",
          "model_module_version": "1.5.0",
          "state": {
            "_dom_classes": [],
            "_model_module": "@jupyter-widgets/controls",
            "_model_module_version": "1.5.0",
            "_model_name": "FloatProgressModel",
            "_view_count": null,
            "_view_module": "@jupyter-widgets/controls",
            "_view_module_version": "1.5.0",
            "_view_name": "ProgressView",
            "bar_style": "success",
            "description": "",
            "description_tooltip": null,
            "layout": "IPY_MODEL_19b2b78ec268444db62423d196cd5053",
            "max": 465440,
            "min": 0,
            "orientation": "horizontal",
            "style": "IPY_MODEL_9d9e084e768d46a9a0b6a77a3cf144b9",
            "value": 465440
          }
        },
        "616ec0020ef845a69d002aa62f46efbd": {
          "model_module": "@jupyter-widgets/controls",
          "model_name": "HTMLModel",
          "model_module_version": "1.5.0",
          "state": {
            "_dom_classes": [],
            "_model_module": "@jupyter-widgets/controls",
            "_model_module_version": "1.5.0",
            "_model_name": "HTMLModel",
            "_view_count": null,
            "_view_module": "@jupyter-widgets/controls",
            "_view_module_version": "1.5.0",
            "_view_name": "HTMLView",
            "description": "",
            "description_tooltip": null,
            "layout": "IPY_MODEL_60f6d4370e4f4dc08f0e3021c59f5cb7",
            "placeholder": "​",
            "style": "IPY_MODEL_eb03eb8a64c7490e91f246fb42612c99",
            "value": " 465440/465440 [00:04&lt;00:00, 81968.43it/s]"
          }
        },
        "5d2cb16c4ad84644920a1a2c625b374a": {
          "model_module": "@jupyter-widgets/base",
          "model_name": "LayoutModel",
          "model_module_version": "1.2.0",
          "state": {
            "_model_module": "@jupyter-widgets/base",
            "_model_module_version": "1.2.0",
            "_model_name": "LayoutModel",
            "_view_count": null,
            "_view_module": "@jupyter-widgets/base",
            "_view_module_version": "1.2.0",
            "_view_name": "LayoutView",
            "align_content": null,
            "align_items": null,
            "align_self": null,
            "border": null,
            "bottom": null,
            "display": null,
            "flex": null,
            "flex_flow": null,
            "grid_area": null,
            "grid_auto_columns": null,
            "grid_auto_flow": null,
            "grid_auto_rows": null,
            "grid_column": null,
            "grid_gap": null,
            "grid_row": null,
            "grid_template_areas": null,
            "grid_template_columns": null,
            "grid_template_rows": null,
            "height": null,
            "justify_content": null,
            "justify_items": null,
            "left": null,
            "margin": null,
            "max_height": null,
            "max_width": null,
            "min_height": null,
            "min_width": null,
            "object_fit": null,
            "object_position": null,
            "order": null,
            "overflow": null,
            "overflow_x": null,
            "overflow_y": null,
            "padding": null,
            "right": null,
            "top": null,
            "visibility": null,
            "width": null
          }
        },
        "d9c4be0c834943f195f664f47e956f4a": {
          "model_module": "@jupyter-widgets/base",
          "model_name": "LayoutModel",
          "model_module_version": "1.2.0",
          "state": {
            "_model_module": "@jupyter-widgets/base",
            "_model_module_version": "1.2.0",
            "_model_name": "LayoutModel",
            "_view_count": null,
            "_view_module": "@jupyter-widgets/base",
            "_view_module_version": "1.2.0",
            "_view_name": "LayoutView",
            "align_content": null,
            "align_items": null,
            "align_self": null,
            "border": null,
            "bottom": null,
            "display": null,
            "flex": null,
            "flex_flow": null,
            "grid_area": null,
            "grid_auto_columns": null,
            "grid_auto_flow": null,
            "grid_auto_rows": null,
            "grid_column": null,
            "grid_gap": null,
            "grid_row": null,
            "grid_template_areas": null,
            "grid_template_columns": null,
            "grid_template_rows": null,
            "height": null,
            "justify_content": null,
            "justify_items": null,
            "left": null,
            "margin": null,
            "max_height": null,
            "max_width": null,
            "min_height": null,
            "min_width": null,
            "object_fit": null,
            "object_position": null,
            "order": null,
            "overflow": null,
            "overflow_x": null,
            "overflow_y": null,
            "padding": null,
            "right": null,
            "top": null,
            "visibility": null,
            "width": null
          }
        },
        "1ca8c42ac0e9445e845988ad5035ed4c": {
          "model_module": "@jupyter-widgets/controls",
          "model_name": "DescriptionStyleModel",
          "model_module_version": "1.5.0",
          "state": {
            "_model_module": "@jupyter-widgets/controls",
            "_model_module_version": "1.5.0",
            "_model_name": "DescriptionStyleModel",
            "_view_count": null,
            "_view_module": "@jupyter-widgets/base",
            "_view_module_version": "1.2.0",
            "_view_name": "StyleView",
            "description_width": ""
          }
        },
        "19b2b78ec268444db62423d196cd5053": {
          "model_module": "@jupyter-widgets/base",
          "model_name": "LayoutModel",
          "model_module_version": "1.2.0",
          "state": {
            "_model_module": "@jupyter-widgets/base",
            "_model_module_version": "1.2.0",
            "_model_name": "LayoutModel",
            "_view_count": null,
            "_view_module": "@jupyter-widgets/base",
            "_view_module_version": "1.2.0",
            "_view_name": "LayoutView",
            "align_content": null,
            "align_items": null,
            "align_self": null,
            "border": null,
            "bottom": null,
            "display": null,
            "flex": null,
            "flex_flow": null,
            "grid_area": null,
            "grid_auto_columns": null,
            "grid_auto_flow": null,
            "grid_auto_rows": null,
            "grid_column": null,
            "grid_gap": null,
            "grid_row": null,
            "grid_template_areas": null,
            "grid_template_columns": null,
            "grid_template_rows": null,
            "height": null,
            "justify_content": null,
            "justify_items": null,
            "left": null,
            "margin": null,
            "max_height": null,
            "max_width": null,
            "min_height": null,
            "min_width": null,
            "object_fit": null,
            "object_position": null,
            "order": null,
            "overflow": null,
            "overflow_x": null,
            "overflow_y": null,
            "padding": null,
            "right": null,
            "top": null,
            "visibility": null,
            "width": null
          }
        },
        "9d9e084e768d46a9a0b6a77a3cf144b9": {
          "model_module": "@jupyter-widgets/controls",
          "model_name": "ProgressStyleModel",
          "model_module_version": "1.5.0",
          "state": {
            "_model_module": "@jupyter-widgets/controls",
            "_model_module_version": "1.5.0",
            "_model_name": "ProgressStyleModel",
            "_view_count": null,
            "_view_module": "@jupyter-widgets/base",
            "_view_module_version": "1.2.0",
            "_view_name": "StyleView",
            "bar_color": null,
            "description_width": ""
          }
        },
        "60f6d4370e4f4dc08f0e3021c59f5cb7": {
          "model_module": "@jupyter-widgets/base",
          "model_name": "LayoutModel",
          "model_module_version": "1.2.0",
          "state": {
            "_model_module": "@jupyter-widgets/base",
            "_model_module_version": "1.2.0",
            "_model_name": "LayoutModel",
            "_view_count": null,
            "_view_module": "@jupyter-widgets/base",
            "_view_module_version": "1.2.0",
            "_view_name": "LayoutView",
            "align_content": null,
            "align_items": null,
            "align_self": null,
            "border": null,
            "bottom": null,
            "display": null,
            "flex": null,
            "flex_flow": null,
            "grid_area": null,
            "grid_auto_columns": null,
            "grid_auto_flow": null,
            "grid_auto_rows": null,
            "grid_column": null,
            "grid_gap": null,
            "grid_row": null,
            "grid_template_areas": null,
            "grid_template_columns": null,
            "grid_template_rows": null,
            "height": null,
            "justify_content": null,
            "justify_items": null,
            "left": null,
            "margin": null,
            "max_height": null,
            "max_width": null,
            "min_height": null,
            "min_width": null,
            "object_fit": null,
            "object_position": null,
            "order": null,
            "overflow": null,
            "overflow_x": null,
            "overflow_y": null,
            "padding": null,
            "right": null,
            "top": null,
            "visibility": null,
            "width": null
          }
        },
        "eb03eb8a64c7490e91f246fb42612c99": {
          "model_module": "@jupyter-widgets/controls",
          "model_name": "DescriptionStyleModel",
          "model_module_version": "1.5.0",
          "state": {
            "_model_module": "@jupyter-widgets/controls",
            "_model_module_version": "1.5.0",
            "_model_name": "DescriptionStyleModel",
            "_view_count": null,
            "_view_module": "@jupyter-widgets/base",
            "_view_module_version": "1.2.0",
            "_view_name": "StyleView",
            "description_width": ""
          }
        },
        "493b189c04cb43fe9c1924acef411d90": {
          "model_module": "@jupyter-widgets/controls",
          "model_name": "HBoxModel",
          "model_module_version": "1.5.0",
          "state": {
            "_dom_classes": [],
            "_model_module": "@jupyter-widgets/controls",
            "_model_module_version": "1.5.0",
            "_model_name": "HBoxModel",
            "_view_count": null,
            "_view_module": "@jupyter-widgets/controls",
            "_view_module_version": "1.5.0",
            "_view_name": "HBoxView",
            "box_style": "",
            "children": [
              "IPY_MODEL_2880b1df35b94e93a16f869663a1eff3",
              "IPY_MODEL_4c3b0d85879e46fa80a02ec4282928ad",
              "IPY_MODEL_0468cd46fecc43429f6564eb5ffb5095"
            ],
            "layout": "IPY_MODEL_9b60f851153d4f02802effdb48d98e48"
          }
        },
        "2880b1df35b94e93a16f869663a1eff3": {
          "model_module": "@jupyter-widgets/controls",
          "model_name": "HTMLModel",
          "model_module_version": "1.5.0",
          "state": {
            "_dom_classes": [],
            "_model_module": "@jupyter-widgets/controls",
            "_model_module_version": "1.5.0",
            "_model_name": "HTMLModel",
            "_view_count": null,
            "_view_module": "@jupyter-widgets/controls",
            "_view_module_version": "1.5.0",
            "_view_name": "HTMLView",
            "description": "",
            "description_tooltip": null,
            "layout": "IPY_MODEL_bac1f55cbb6847e48bb3c8faaa239d95",
            "placeholder": "​",
            "style": "IPY_MODEL_6bed1978d4004552861a8435529defb8",
            "value": " 22%"
          }
        },
        "4c3b0d85879e46fa80a02ec4282928ad": {
          "model_module": "@jupyter-widgets/controls",
          "model_name": "FloatProgressModel",
          "model_module_version": "1.5.0",
          "state": {
            "_dom_classes": [],
            "_model_module": "@jupyter-widgets/controls",
            "_model_module_version": "1.5.0",
            "_model_name": "FloatProgressModel",
            "_view_count": null,
            "_view_module": "@jupyter-widgets/controls",
            "_view_module_version": "1.5.0",
            "_view_name": "ProgressView",
            "bar_style": "danger",
            "description": "",
            "description_tooltip": null,
            "layout": "IPY_MODEL_5c6faa5178884246b6dac48758bbaee2",
            "max": 100000,
            "min": 0,
            "orientation": "horizontal",
            "style": "IPY_MODEL_020ce36a23154b8c904f803b9c61f28d",
            "value": 21818
          }
        },
        "0468cd46fecc43429f6564eb5ffb5095": {
          "model_module": "@jupyter-widgets/controls",
          "model_name": "HTMLModel",
          "model_module_version": "1.5.0",
          "state": {
            "_dom_classes": [],
            "_model_module": "@jupyter-widgets/controls",
            "_model_module_version": "1.5.0",
            "_model_name": "HTMLModel",
            "_view_count": null,
            "_view_module": "@jupyter-widgets/controls",
            "_view_module_version": "1.5.0",
            "_view_name": "HTMLView",
            "description": "",
            "description_tooltip": null,
            "layout": "IPY_MODEL_3db92dbdc6594e1e9111842816d64a4e",
            "placeholder": "​",
            "style": "IPY_MODEL_cfac8bfed4fa40d1985f0b31b3d9b9cb",
            "value": " 21818/100000 [00:35&lt;00:33, 2318.96it/s]"
          }
        },
        "9b60f851153d4f02802effdb48d98e48": {
          "model_module": "@jupyter-widgets/base",
          "model_name": "LayoutModel",
          "model_module_version": "1.2.0",
          "state": {
            "_model_module": "@jupyter-widgets/base",
            "_model_module_version": "1.2.0",
            "_model_name": "LayoutModel",
            "_view_count": null,
            "_view_module": "@jupyter-widgets/base",
            "_view_module_version": "1.2.0",
            "_view_name": "LayoutView",
            "align_content": null,
            "align_items": null,
            "align_self": null,
            "border": null,
            "bottom": null,
            "display": null,
            "flex": null,
            "flex_flow": null,
            "grid_area": null,
            "grid_auto_columns": null,
            "grid_auto_flow": null,
            "grid_auto_rows": null,
            "grid_column": null,
            "grid_gap": null,
            "grid_row": null,
            "grid_template_areas": null,
            "grid_template_columns": null,
            "grid_template_rows": null,
            "height": null,
            "justify_content": null,
            "justify_items": null,
            "left": null,
            "margin": null,
            "max_height": null,
            "max_width": null,
            "min_height": null,
            "min_width": null,
            "object_fit": null,
            "object_position": null,
            "order": null,
            "overflow": null,
            "overflow_x": null,
            "overflow_y": null,
            "padding": null,
            "right": null,
            "top": null,
            "visibility": null,
            "width": null
          }
        },
        "bac1f55cbb6847e48bb3c8faaa239d95": {
          "model_module": "@jupyter-widgets/base",
          "model_name": "LayoutModel",
          "model_module_version": "1.2.0",
          "state": {
            "_model_module": "@jupyter-widgets/base",
            "_model_module_version": "1.2.0",
            "_model_name": "LayoutModel",
            "_view_count": null,
            "_view_module": "@jupyter-widgets/base",
            "_view_module_version": "1.2.0",
            "_view_name": "LayoutView",
            "align_content": null,
            "align_items": null,
            "align_self": null,
            "border": null,
            "bottom": null,
            "display": null,
            "flex": null,
            "flex_flow": null,
            "grid_area": null,
            "grid_auto_columns": null,
            "grid_auto_flow": null,
            "grid_auto_rows": null,
            "grid_column": null,
            "grid_gap": null,
            "grid_row": null,
            "grid_template_areas": null,
            "grid_template_columns": null,
            "grid_template_rows": null,
            "height": null,
            "justify_content": null,
            "justify_items": null,
            "left": null,
            "margin": null,
            "max_height": null,
            "max_width": null,
            "min_height": null,
            "min_width": null,
            "object_fit": null,
            "object_position": null,
            "order": null,
            "overflow": null,
            "overflow_x": null,
            "overflow_y": null,
            "padding": null,
            "right": null,
            "top": null,
            "visibility": null,
            "width": null
          }
        },
        "6bed1978d4004552861a8435529defb8": {
          "model_module": "@jupyter-widgets/controls",
          "model_name": "DescriptionStyleModel",
          "model_module_version": "1.5.0",
          "state": {
            "_model_module": "@jupyter-widgets/controls",
            "_model_module_version": "1.5.0",
            "_model_name": "DescriptionStyleModel",
            "_view_count": null,
            "_view_module": "@jupyter-widgets/base",
            "_view_module_version": "1.2.0",
            "_view_name": "StyleView",
            "description_width": ""
          }
        },
        "5c6faa5178884246b6dac48758bbaee2": {
          "model_module": "@jupyter-widgets/base",
          "model_name": "LayoutModel",
          "model_module_version": "1.2.0",
          "state": {
            "_model_module": "@jupyter-widgets/base",
            "_model_module_version": "1.2.0",
            "_model_name": "LayoutModel",
            "_view_count": null,
            "_view_module": "@jupyter-widgets/base",
            "_view_module_version": "1.2.0",
            "_view_name": "LayoutView",
            "align_content": null,
            "align_items": null,
            "align_self": null,
            "border": null,
            "bottom": null,
            "display": null,
            "flex": null,
            "flex_flow": null,
            "grid_area": null,
            "grid_auto_columns": null,
            "grid_auto_flow": null,
            "grid_auto_rows": null,
            "grid_column": null,
            "grid_gap": null,
            "grid_row": null,
            "grid_template_areas": null,
            "grid_template_columns": null,
            "grid_template_rows": null,
            "height": null,
            "justify_content": null,
            "justify_items": null,
            "left": null,
            "margin": null,
            "max_height": null,
            "max_width": null,
            "min_height": null,
            "min_width": null,
            "object_fit": null,
            "object_position": null,
            "order": null,
            "overflow": null,
            "overflow_x": null,
            "overflow_y": null,
            "padding": null,
            "right": null,
            "top": null,
            "visibility": null,
            "width": null
          }
        },
        "020ce36a23154b8c904f803b9c61f28d": {
          "model_module": "@jupyter-widgets/controls",
          "model_name": "ProgressStyleModel",
          "model_module_version": "1.5.0",
          "state": {
            "_model_module": "@jupyter-widgets/controls",
            "_model_module_version": "1.5.0",
            "_model_name": "ProgressStyleModel",
            "_view_count": null,
            "_view_module": "@jupyter-widgets/base",
            "_view_module_version": "1.2.0",
            "_view_name": "StyleView",
            "bar_color": null,
            "description_width": ""
          }
        },
        "3db92dbdc6594e1e9111842816d64a4e": {
          "model_module": "@jupyter-widgets/base",
          "model_name": "LayoutModel",
          "model_module_version": "1.2.0",
          "state": {
            "_model_module": "@jupyter-widgets/base",
            "_model_module_version": "1.2.0",
            "_model_name": "LayoutModel",
            "_view_count": null,
            "_view_module": "@jupyter-widgets/base",
            "_view_module_version": "1.2.0",
            "_view_name": "LayoutView",
            "align_content": null,
            "align_items": null,
            "align_self": null,
            "border": null,
            "bottom": null,
            "display": null,
            "flex": null,
            "flex_flow": null,
            "grid_area": null,
            "grid_auto_columns": null,
            "grid_auto_flow": null,
            "grid_auto_rows": null,
            "grid_column": null,
            "grid_gap": null,
            "grid_row": null,
            "grid_template_areas": null,
            "grid_template_columns": null,
            "grid_template_rows": null,
            "height": null,
            "justify_content": null,
            "justify_items": null,
            "left": null,
            "margin": null,
            "max_height": null,
            "max_width": null,
            "min_height": null,
            "min_width": null,
            "object_fit": null,
            "object_position": null,
            "order": null,
            "overflow": null,
            "overflow_x": null,
            "overflow_y": null,
            "padding": null,
            "right": null,
            "top": null,
            "visibility": null,
            "width": null
          }
        },
        "cfac8bfed4fa40d1985f0b31b3d9b9cb": {
          "model_module": "@jupyter-widgets/controls",
          "model_name": "DescriptionStyleModel",
          "model_module_version": "1.5.0",
          "state": {
            "_model_module": "@jupyter-widgets/controls",
            "_model_module_version": "1.5.0",
            "_model_name": "DescriptionStyleModel",
            "_view_count": null,
            "_view_module": "@jupyter-widgets/base",
            "_view_module_version": "1.2.0",
            "_view_name": "StyleView",
            "description_width": ""
          }
        },
        "660ced0757da46a0877e577a510f6120": {
          "model_module": "@jupyter-widgets/controls",
          "model_name": "HBoxModel",
          "model_module_version": "1.5.0",
          "state": {
            "_dom_classes": [],
            "_model_module": "@jupyter-widgets/controls",
            "_model_module_version": "1.5.0",
            "_model_name": "HBoxModel",
            "_view_count": null,
            "_view_module": "@jupyter-widgets/controls",
            "_view_module_version": "1.5.0",
            "_view_name": "HBoxView",
            "box_style": "",
            "children": [
              "IPY_MODEL_c7756a24d9464c14ad95c01b4b19530c",
              "IPY_MODEL_11f0701014ec4bb2958ae4bca9186506",
              "IPY_MODEL_e00c7c4e1f7b4da49b9f3fa6fc89140c"
            ],
            "layout": "IPY_MODEL_6d6a3c04dcd44d1887faea060992ad65"
          }
        },
        "c7756a24d9464c14ad95c01b4b19530c": {
          "model_module": "@jupyter-widgets/controls",
          "model_name": "HTMLModel",
          "model_module_version": "1.5.0",
          "state": {
            "_dom_classes": [],
            "_model_module": "@jupyter-widgets/controls",
            "_model_module_version": "1.5.0",
            "_model_name": "HTMLModel",
            "_view_count": null,
            "_view_module": "@jupyter-widgets/controls",
            "_view_module_version": "1.5.0",
            "_view_name": "HTMLView",
            "description": "",
            "description_tooltip": null,
            "layout": "IPY_MODEL_69ece6041f2e466394230efd7a3e0386",
            "placeholder": "​",
            "style": "IPY_MODEL_8219158150354bacb70255366ae1f49c",
            "value": "100%"
          }
        },
        "11f0701014ec4bb2958ae4bca9186506": {
          "model_module": "@jupyter-widgets/controls",
          "model_name": "FloatProgressModel",
          "model_module_version": "1.5.0",
          "state": {
            "_dom_classes": [],
            "_model_module": "@jupyter-widgets/controls",
            "_model_module_version": "1.5.0",
            "_model_name": "FloatProgressModel",
            "_view_count": null,
            "_view_module": "@jupyter-widgets/controls",
            "_view_module_version": "1.5.0",
            "_view_name": "ProgressView",
            "bar_style": "success",
            "description": "",
            "description_tooltip": null,
            "layout": "IPY_MODEL_02cc88e0a06f4981922002b5415301e5",
            "max": 36437,
            "min": 0,
            "orientation": "horizontal",
            "style": "IPY_MODEL_901afe298f8144c3a54ad12e71ebb403",
            "value": 36437
          }
        },
        "e00c7c4e1f7b4da49b9f3fa6fc89140c": {
          "model_module": "@jupyter-widgets/controls",
          "model_name": "HTMLModel",
          "model_module_version": "1.5.0",
          "state": {
            "_dom_classes": [],
            "_model_module": "@jupyter-widgets/controls",
            "_model_module_version": "1.5.0",
            "_model_name": "HTMLModel",
            "_view_count": null,
            "_view_module": "@jupyter-widgets/controls",
            "_view_module_version": "1.5.0",
            "_view_name": "HTMLView",
            "description": "",
            "description_tooltip": null,
            "layout": "IPY_MODEL_4cf5e35d6c54453a9b18be7f37cd3f7d",
            "placeholder": "​",
            "style": "IPY_MODEL_45e72fd9fa2c4d629799d6b4c7e59ff7",
            "value": " 36437/36437 [00:25&lt;00:00, 10735.69it/s]"
          }
        },
        "6d6a3c04dcd44d1887faea060992ad65": {
          "model_module": "@jupyter-widgets/base",
          "model_name": "LayoutModel",
          "model_module_version": "1.2.0",
          "state": {
            "_model_module": "@jupyter-widgets/base",
            "_model_module_version": "1.2.0",
            "_model_name": "LayoutModel",
            "_view_count": null,
            "_view_module": "@jupyter-widgets/base",
            "_view_module_version": "1.2.0",
            "_view_name": "LayoutView",
            "align_content": null,
            "align_items": null,
            "align_self": null,
            "border": null,
            "bottom": null,
            "display": null,
            "flex": null,
            "flex_flow": null,
            "grid_area": null,
            "grid_auto_columns": null,
            "grid_auto_flow": null,
            "grid_auto_rows": null,
            "grid_column": null,
            "grid_gap": null,
            "grid_row": null,
            "grid_template_areas": null,
            "grid_template_columns": null,
            "grid_template_rows": null,
            "height": null,
            "justify_content": null,
            "justify_items": null,
            "left": null,
            "margin": null,
            "max_height": null,
            "max_width": null,
            "min_height": null,
            "min_width": null,
            "object_fit": null,
            "object_position": null,
            "order": null,
            "overflow": null,
            "overflow_x": null,
            "overflow_y": null,
            "padding": null,
            "right": null,
            "top": null,
            "visibility": null,
            "width": null
          }
        },
        "69ece6041f2e466394230efd7a3e0386": {
          "model_module": "@jupyter-widgets/base",
          "model_name": "LayoutModel",
          "model_module_version": "1.2.0",
          "state": {
            "_model_module": "@jupyter-widgets/base",
            "_model_module_version": "1.2.0",
            "_model_name": "LayoutModel",
            "_view_count": null,
            "_view_module": "@jupyter-widgets/base",
            "_view_module_version": "1.2.0",
            "_view_name": "LayoutView",
            "align_content": null,
            "align_items": null,
            "align_self": null,
            "border": null,
            "bottom": null,
            "display": null,
            "flex": null,
            "flex_flow": null,
            "grid_area": null,
            "grid_auto_columns": null,
            "grid_auto_flow": null,
            "grid_auto_rows": null,
            "grid_column": null,
            "grid_gap": null,
            "grid_row": null,
            "grid_template_areas": null,
            "grid_template_columns": null,
            "grid_template_rows": null,
            "height": null,
            "justify_content": null,
            "justify_items": null,
            "left": null,
            "margin": null,
            "max_height": null,
            "max_width": null,
            "min_height": null,
            "min_width": null,
            "object_fit": null,
            "object_position": null,
            "order": null,
            "overflow": null,
            "overflow_x": null,
            "overflow_y": null,
            "padding": null,
            "right": null,
            "top": null,
            "visibility": null,
            "width": null
          }
        },
        "8219158150354bacb70255366ae1f49c": {
          "model_module": "@jupyter-widgets/controls",
          "model_name": "DescriptionStyleModel",
          "model_module_version": "1.5.0",
          "state": {
            "_model_module": "@jupyter-widgets/controls",
            "_model_module_version": "1.5.0",
            "_model_name": "DescriptionStyleModel",
            "_view_count": null,
            "_view_module": "@jupyter-widgets/base",
            "_view_module_version": "1.2.0",
            "_view_name": "StyleView",
            "description_width": ""
          }
        },
        "02cc88e0a06f4981922002b5415301e5": {
          "model_module": "@jupyter-widgets/base",
          "model_name": "LayoutModel",
          "model_module_version": "1.2.0",
          "state": {
            "_model_module": "@jupyter-widgets/base",
            "_model_module_version": "1.2.0",
            "_model_name": "LayoutModel",
            "_view_count": null,
            "_view_module": "@jupyter-widgets/base",
            "_view_module_version": "1.2.0",
            "_view_name": "LayoutView",
            "align_content": null,
            "align_items": null,
            "align_self": null,
            "border": null,
            "bottom": null,
            "display": null,
            "flex": null,
            "flex_flow": null,
            "grid_area": null,
            "grid_auto_columns": null,
            "grid_auto_flow": null,
            "grid_auto_rows": null,
            "grid_column": null,
            "grid_gap": null,
            "grid_row": null,
            "grid_template_areas": null,
            "grid_template_columns": null,
            "grid_template_rows": null,
            "height": null,
            "justify_content": null,
            "justify_items": null,
            "left": null,
            "margin": null,
            "max_height": null,
            "max_width": null,
            "min_height": null,
            "min_width": null,
            "object_fit": null,
            "object_position": null,
            "order": null,
            "overflow": null,
            "overflow_x": null,
            "overflow_y": null,
            "padding": null,
            "right": null,
            "top": null,
            "visibility": null,
            "width": null
          }
        },
        "901afe298f8144c3a54ad12e71ebb403": {
          "model_module": "@jupyter-widgets/controls",
          "model_name": "ProgressStyleModel",
          "model_module_version": "1.5.0",
          "state": {
            "_model_module": "@jupyter-widgets/controls",
            "_model_module_version": "1.5.0",
            "_model_name": "ProgressStyleModel",
            "_view_count": null,
            "_view_module": "@jupyter-widgets/base",
            "_view_module_version": "1.2.0",
            "_view_name": "StyleView",
            "bar_color": null,
            "description_width": ""
          }
        },
        "4cf5e35d6c54453a9b18be7f37cd3f7d": {
          "model_module": "@jupyter-widgets/base",
          "model_name": "LayoutModel",
          "model_module_version": "1.2.0",
          "state": {
            "_model_module": "@jupyter-widgets/base",
            "_model_module_version": "1.2.0",
            "_model_name": "LayoutModel",
            "_view_count": null,
            "_view_module": "@jupyter-widgets/base",
            "_view_module_version": "1.2.0",
            "_view_name": "LayoutView",
            "align_content": null,
            "align_items": null,
            "align_self": null,
            "border": null,
            "bottom": null,
            "display": null,
            "flex": null,
            "flex_flow": null,
            "grid_area": null,
            "grid_auto_columns": null,
            "grid_auto_flow": null,
            "grid_auto_rows": null,
            "grid_column": null,
            "grid_gap": null,
            "grid_row": null,
            "grid_template_areas": null,
            "grid_template_columns": null,
            "grid_template_rows": null,
            "height": null,
            "justify_content": null,
            "justify_items": null,
            "left": null,
            "margin": null,
            "max_height": null,
            "max_width": null,
            "min_height": null,
            "min_width": null,
            "object_fit": null,
            "object_position": null,
            "order": null,
            "overflow": null,
            "overflow_x": null,
            "overflow_y": null,
            "padding": null,
            "right": null,
            "top": null,
            "visibility": null,
            "width": null
          }
        },
        "45e72fd9fa2c4d629799d6b4c7e59ff7": {
          "model_module": "@jupyter-widgets/controls",
          "model_name": "DescriptionStyleModel",
          "model_module_version": "1.5.0",
          "state": {
            "_model_module": "@jupyter-widgets/controls",
            "_model_module_version": "1.5.0",
            "_model_name": "DescriptionStyleModel",
            "_view_count": null,
            "_view_module": "@jupyter-widgets/base",
            "_view_module_version": "1.2.0",
            "_view_name": "StyleView",
            "description_width": ""
          }
        },
        "c853851b41fc44c686d27ba0262a00e1": {
          "model_module": "@jupyter-widgets/controls",
          "model_name": "HBoxModel",
          "model_module_version": "1.5.0",
          "state": {
            "_dom_classes": [],
            "_model_module": "@jupyter-widgets/controls",
            "_model_module_version": "1.5.0",
            "_model_name": "HBoxModel",
            "_view_count": null,
            "_view_module": "@jupyter-widgets/controls",
            "_view_module_version": "1.5.0",
            "_view_name": "HBoxView",
            "box_style": "",
            "children": [
              "IPY_MODEL_150f98392d2b42dfb909771fddede53c",
              "IPY_MODEL_cbc0dc8d9b2947dcae9252d0391265b1",
              "IPY_MODEL_5ec29a6ca2b54b2893fcb91f2edc15ec"
            ],
            "layout": "IPY_MODEL_7a653a1cdf07480486afa525fa1bbc68"
          }
        },
        "150f98392d2b42dfb909771fddede53c": {
          "model_module": "@jupyter-widgets/controls",
          "model_name": "HTMLModel",
          "model_module_version": "1.5.0",
          "state": {
            "_dom_classes": [],
            "_model_module": "@jupyter-widgets/controls",
            "_model_module_version": "1.5.0",
            "_model_name": "HTMLModel",
            "_view_count": null,
            "_view_module": "@jupyter-widgets/controls",
            "_view_module_version": "1.5.0",
            "_view_name": "HTMLView",
            "description": "",
            "description_tooltip": null,
            "layout": "IPY_MODEL_60deb8f2e9934aad81dfdcc28be5d5d9",
            "placeholder": "​",
            "style": "IPY_MODEL_b5ce54448536482baffc56228f73bd44",
            "value": "Downloading pytorch_model.bin: 100%"
          }
        },
        "cbc0dc8d9b2947dcae9252d0391265b1": {
          "model_module": "@jupyter-widgets/controls",
          "model_name": "FloatProgressModel",
          "model_module_version": "1.5.0",
          "state": {
            "_dom_classes": [],
            "_model_module": "@jupyter-widgets/controls",
            "_model_module_version": "1.5.0",
            "_model_name": "FloatProgressModel",
            "_view_count": null,
            "_view_module": "@jupyter-widgets/controls",
            "_view_module_version": "1.5.0",
            "_view_name": "ProgressView",
            "bar_style": "success",
            "description": "",
            "description_tooltip": null,
            "layout": "IPY_MODEL_ef33c14161fd48329999203e4c4a9f5e",
            "max": 2444714899,
            "min": 0,
            "orientation": "horizontal",
            "style": "IPY_MODEL_52c645658ac843b090bfd6df8800d566",
            "value": 2444714899
          }
        },
        "5ec29a6ca2b54b2893fcb91f2edc15ec": {
          "model_module": "@jupyter-widgets/controls",
          "model_name": "HTMLModel",
          "model_module_version": "1.5.0",
          "state": {
            "_dom_classes": [],
            "_model_module": "@jupyter-widgets/controls",
            "_model_module_version": "1.5.0",
            "_model_name": "HTMLModel",
            "_view_count": null,
            "_view_module": "@jupyter-widgets/controls",
            "_view_module_version": "1.5.0",
            "_view_name": "HTMLView",
            "description": "",
            "description_tooltip": null,
            "layout": "IPY_MODEL_a6b33685226445a7a5e428005292756b",
            "placeholder": "​",
            "style": "IPY_MODEL_9e6f415e42954ee0819dc2b0745459ca",
            "value": " 2.44G/2.44G [00:22&lt;00:00, 210MB/s]"
          }
        },
        "7a653a1cdf07480486afa525fa1bbc68": {
          "model_module": "@jupyter-widgets/base",
          "model_name": "LayoutModel",
          "model_module_version": "1.2.0",
          "state": {
            "_model_module": "@jupyter-widgets/base",
            "_model_module_version": "1.2.0",
            "_model_name": "LayoutModel",
            "_view_count": null,
            "_view_module": "@jupyter-widgets/base",
            "_view_module_version": "1.2.0",
            "_view_name": "LayoutView",
            "align_content": null,
            "align_items": null,
            "align_self": null,
            "border": null,
            "bottom": null,
            "display": null,
            "flex": null,
            "flex_flow": null,
            "grid_area": null,
            "grid_auto_columns": null,
            "grid_auto_flow": null,
            "grid_auto_rows": null,
            "grid_column": null,
            "grid_gap": null,
            "grid_row": null,
            "grid_template_areas": null,
            "grid_template_columns": null,
            "grid_template_rows": null,
            "height": null,
            "justify_content": null,
            "justify_items": null,
            "left": null,
            "margin": null,
            "max_height": null,
            "max_width": null,
            "min_height": null,
            "min_width": null,
            "object_fit": null,
            "object_position": null,
            "order": null,
            "overflow": null,
            "overflow_x": null,
            "overflow_y": null,
            "padding": null,
            "right": null,
            "top": null,
            "visibility": null,
            "width": null
          }
        },
        "60deb8f2e9934aad81dfdcc28be5d5d9": {
          "model_module": "@jupyter-widgets/base",
          "model_name": "LayoutModel",
          "model_module_version": "1.2.0",
          "state": {
            "_model_module": "@jupyter-widgets/base",
            "_model_module_version": "1.2.0",
            "_model_name": "LayoutModel",
            "_view_count": null,
            "_view_module": "@jupyter-widgets/base",
            "_view_module_version": "1.2.0",
            "_view_name": "LayoutView",
            "align_content": null,
            "align_items": null,
            "align_self": null,
            "border": null,
            "bottom": null,
            "display": null,
            "flex": null,
            "flex_flow": null,
            "grid_area": null,
            "grid_auto_columns": null,
            "grid_auto_flow": null,
            "grid_auto_rows": null,
            "grid_column": null,
            "grid_gap": null,
            "grid_row": null,
            "grid_template_areas": null,
            "grid_template_columns": null,
            "grid_template_rows": null,
            "height": null,
            "justify_content": null,
            "justify_items": null,
            "left": null,
            "margin": null,
            "max_height": null,
            "max_width": null,
            "min_height": null,
            "min_width": null,
            "object_fit": null,
            "object_position": null,
            "order": null,
            "overflow": null,
            "overflow_x": null,
            "overflow_y": null,
            "padding": null,
            "right": null,
            "top": null,
            "visibility": null,
            "width": null
          }
        },
        "b5ce54448536482baffc56228f73bd44": {
          "model_module": "@jupyter-widgets/controls",
          "model_name": "DescriptionStyleModel",
          "model_module_version": "1.5.0",
          "state": {
            "_model_module": "@jupyter-widgets/controls",
            "_model_module_version": "1.5.0",
            "_model_name": "DescriptionStyleModel",
            "_view_count": null,
            "_view_module": "@jupyter-widgets/base",
            "_view_module_version": "1.2.0",
            "_view_name": "StyleView",
            "description_width": ""
          }
        },
        "ef33c14161fd48329999203e4c4a9f5e": {
          "model_module": "@jupyter-widgets/base",
          "model_name": "LayoutModel",
          "model_module_version": "1.2.0",
          "state": {
            "_model_module": "@jupyter-widgets/base",
            "_model_module_version": "1.2.0",
            "_model_name": "LayoutModel",
            "_view_count": null,
            "_view_module": "@jupyter-widgets/base",
            "_view_module_version": "1.2.0",
            "_view_name": "LayoutView",
            "align_content": null,
            "align_items": null,
            "align_self": null,
            "border": null,
            "bottom": null,
            "display": null,
            "flex": null,
            "flex_flow": null,
            "grid_area": null,
            "grid_auto_columns": null,
            "grid_auto_flow": null,
            "grid_auto_rows": null,
            "grid_column": null,
            "grid_gap": null,
            "grid_row": null,
            "grid_template_areas": null,
            "grid_template_columns": null,
            "grid_template_rows": null,
            "height": null,
            "justify_content": null,
            "justify_items": null,
            "left": null,
            "margin": null,
            "max_height": null,
            "max_width": null,
            "min_height": null,
            "min_width": null,
            "object_fit": null,
            "object_position": null,
            "order": null,
            "overflow": null,
            "overflow_x": null,
            "overflow_y": null,
            "padding": null,
            "right": null,
            "top": null,
            "visibility": null,
            "width": null
          }
        },
        "52c645658ac843b090bfd6df8800d566": {
          "model_module": "@jupyter-widgets/controls",
          "model_name": "ProgressStyleModel",
          "model_module_version": "1.5.0",
          "state": {
            "_model_module": "@jupyter-widgets/controls",
            "_model_module_version": "1.5.0",
            "_model_name": "ProgressStyleModel",
            "_view_count": null,
            "_view_module": "@jupyter-widgets/base",
            "_view_module_version": "1.2.0",
            "_view_name": "StyleView",
            "bar_color": null,
            "description_width": ""
          }
        },
        "a6b33685226445a7a5e428005292756b": {
          "model_module": "@jupyter-widgets/base",
          "model_name": "LayoutModel",
          "model_module_version": "1.2.0",
          "state": {
            "_model_module": "@jupyter-widgets/base",
            "_model_module_version": "1.2.0",
            "_model_name": "LayoutModel",
            "_view_count": null,
            "_view_module": "@jupyter-widgets/base",
            "_view_module_version": "1.2.0",
            "_view_name": "LayoutView",
            "align_content": null,
            "align_items": null,
            "align_self": null,
            "border": null,
            "bottom": null,
            "display": null,
            "flex": null,
            "flex_flow": null,
            "grid_area": null,
            "grid_auto_columns": null,
            "grid_auto_flow": null,
            "grid_auto_rows": null,
            "grid_column": null,
            "grid_gap": null,
            "grid_row": null,
            "grid_template_areas": null,
            "grid_template_columns": null,
            "grid_template_rows": null,
            "height": null,
            "justify_content": null,
            "justify_items": null,
            "left": null,
            "margin": null,
            "max_height": null,
            "max_width": null,
            "min_height": null,
            "min_width": null,
            "object_fit": null,
            "object_position": null,
            "order": null,
            "overflow": null,
            "overflow_x": null,
            "overflow_y": null,
            "padding": null,
            "right": null,
            "top": null,
            "visibility": null,
            "width": null
          }
        },
        "9e6f415e42954ee0819dc2b0745459ca": {
          "model_module": "@jupyter-widgets/controls",
          "model_name": "DescriptionStyleModel",
          "model_module_version": "1.5.0",
          "state": {
            "_model_module": "@jupyter-widgets/controls",
            "_model_module_version": "1.5.0",
            "_model_name": "DescriptionStyleModel",
            "_view_count": null,
            "_view_module": "@jupyter-widgets/base",
            "_view_module_version": "1.2.0",
            "_view_name": "StyleView",
            "description_width": ""
          }
        },
        "d07919737e0b45759f71bab570fbeb67": {
          "model_module": "@jupyter-widgets/controls",
          "model_name": "HBoxModel",
          "model_module_version": "1.5.0",
          "state": {
            "_dom_classes": [],
            "_model_module": "@jupyter-widgets/controls",
            "_model_module_version": "1.5.0",
            "_model_name": "HBoxModel",
            "_view_count": null,
            "_view_module": "@jupyter-widgets/controls",
            "_view_module_version": "1.5.0",
            "_view_name": "HBoxView",
            "box_style": "",
            "children": [
              "IPY_MODEL_60d4cd675bf94dc8977f5d0a19d07f08",
              "IPY_MODEL_e6dd9a59c7d54c77b1768457f4d5508c",
              "IPY_MODEL_f658f71805dd4251b90f0d6f781b7a7e"
            ],
            "layout": "IPY_MODEL_bb75f8a61ea84d0da13b25c54aa3745e"
          }
        },
        "60d4cd675bf94dc8977f5d0a19d07f08": {
          "model_module": "@jupyter-widgets/controls",
          "model_name": "HTMLModel",
          "model_module_version": "1.5.0",
          "state": {
            "_dom_classes": [],
            "_model_module": "@jupyter-widgets/controls",
            "_model_module_version": "1.5.0",
            "_model_name": "HTMLModel",
            "_view_count": null,
            "_view_module": "@jupyter-widgets/controls",
            "_view_module_version": "1.5.0",
            "_view_name": "HTMLView",
            "description": "",
            "description_tooltip": null,
            "layout": "IPY_MODEL_72b510ced62d4557b5c0923f283c90b4",
            "placeholder": "​",
            "style": "IPY_MODEL_66344a41d4b948e2a7a6b8ea6fb1a6b9",
            "value": "Downloading (…)neration_config.json: 100%"
          }
        },
        "e6dd9a59c7d54c77b1768457f4d5508c": {
          "model_module": "@jupyter-widgets/controls",
          "model_name": "FloatProgressModel",
          "model_module_version": "1.5.0",
          "state": {
            "_dom_classes": [],
            "_model_module": "@jupyter-widgets/controls",
            "_model_module_version": "1.5.0",
            "_model_name": "FloatProgressModel",
            "_view_count": null,
            "_view_module": "@jupyter-widgets/controls",
            "_view_module_version": "1.5.0",
            "_view_name": "ProgressView",
            "bar_style": "success",
            "description": "",
            "description_tooltip": null,
            "layout": "IPY_MODEL_dd184c1f42954dcf9a3cb325ca9e68e6",
            "max": 261,
            "min": 0,
            "orientation": "horizontal",
            "style": "IPY_MODEL_179d12d57da746abbb1f5bcb910b992b",
            "value": 261
          }
        },
        "f658f71805dd4251b90f0d6f781b7a7e": {
          "model_module": "@jupyter-widgets/controls",
          "model_name": "HTMLModel",
          "model_module_version": "1.5.0",
          "state": {
            "_dom_classes": [],
            "_model_module": "@jupyter-widgets/controls",
            "_model_module_version": "1.5.0",
            "_model_name": "HTMLModel",
            "_view_count": null,
            "_view_module": "@jupyter-widgets/controls",
            "_view_module_version": "1.5.0",
            "_view_name": "HTMLView",
            "description": "",
            "description_tooltip": null,
            "layout": "IPY_MODEL_c3a8fa7d605d405882245b4c1e4ce9bf",
            "placeholder": "​",
            "style": "IPY_MODEL_92c9da8fe5a44b56a0f26a137e264e06",
            "value": " 261/261 [00:00&lt;00:00, 14.9kB/s]"
          }
        },
        "bb75f8a61ea84d0da13b25c54aa3745e": {
          "model_module": "@jupyter-widgets/base",
          "model_name": "LayoutModel",
          "model_module_version": "1.2.0",
          "state": {
            "_model_module": "@jupyter-widgets/base",
            "_model_module_version": "1.2.0",
            "_model_name": "LayoutModel",
            "_view_count": null,
            "_view_module": "@jupyter-widgets/base",
            "_view_module_version": "1.2.0",
            "_view_name": "LayoutView",
            "align_content": null,
            "align_items": null,
            "align_self": null,
            "border": null,
            "bottom": null,
            "display": null,
            "flex": null,
            "flex_flow": null,
            "grid_area": null,
            "grid_auto_columns": null,
            "grid_auto_flow": null,
            "grid_auto_rows": null,
            "grid_column": null,
            "grid_gap": null,
            "grid_row": null,
            "grid_template_areas": null,
            "grid_template_columns": null,
            "grid_template_rows": null,
            "height": null,
            "justify_content": null,
            "justify_items": null,
            "left": null,
            "margin": null,
            "max_height": null,
            "max_width": null,
            "min_height": null,
            "min_width": null,
            "object_fit": null,
            "object_position": null,
            "order": null,
            "overflow": null,
            "overflow_x": null,
            "overflow_y": null,
            "padding": null,
            "right": null,
            "top": null,
            "visibility": null,
            "width": null
          }
        },
        "72b510ced62d4557b5c0923f283c90b4": {
          "model_module": "@jupyter-widgets/base",
          "model_name": "LayoutModel",
          "model_module_version": "1.2.0",
          "state": {
            "_model_module": "@jupyter-widgets/base",
            "_model_module_version": "1.2.0",
            "_model_name": "LayoutModel",
            "_view_count": null,
            "_view_module": "@jupyter-widgets/base",
            "_view_module_version": "1.2.0",
            "_view_name": "LayoutView",
            "align_content": null,
            "align_items": null,
            "align_self": null,
            "border": null,
            "bottom": null,
            "display": null,
            "flex": null,
            "flex_flow": null,
            "grid_area": null,
            "grid_auto_columns": null,
            "grid_auto_flow": null,
            "grid_auto_rows": null,
            "grid_column": null,
            "grid_gap": null,
            "grid_row": null,
            "grid_template_areas": null,
            "grid_template_columns": null,
            "grid_template_rows": null,
            "height": null,
            "justify_content": null,
            "justify_items": null,
            "left": null,
            "margin": null,
            "max_height": null,
            "max_width": null,
            "min_height": null,
            "min_width": null,
            "object_fit": null,
            "object_position": null,
            "order": null,
            "overflow": null,
            "overflow_x": null,
            "overflow_y": null,
            "padding": null,
            "right": null,
            "top": null,
            "visibility": null,
            "width": null
          }
        },
        "66344a41d4b948e2a7a6b8ea6fb1a6b9": {
          "model_module": "@jupyter-widgets/controls",
          "model_name": "DescriptionStyleModel",
          "model_module_version": "1.5.0",
          "state": {
            "_model_module": "@jupyter-widgets/controls",
            "_model_module_version": "1.5.0",
            "_model_name": "DescriptionStyleModel",
            "_view_count": null,
            "_view_module": "@jupyter-widgets/base",
            "_view_module_version": "1.2.0",
            "_view_name": "StyleView",
            "description_width": ""
          }
        },
        "dd184c1f42954dcf9a3cb325ca9e68e6": {
          "model_module": "@jupyter-widgets/base",
          "model_name": "LayoutModel",
          "model_module_version": "1.2.0",
          "state": {
            "_model_module": "@jupyter-widgets/base",
            "_model_module_version": "1.2.0",
            "_model_name": "LayoutModel",
            "_view_count": null,
            "_view_module": "@jupyter-widgets/base",
            "_view_module_version": "1.2.0",
            "_view_name": "LayoutView",
            "align_content": null,
            "align_items": null,
            "align_self": null,
            "border": null,
            "bottom": null,
            "display": null,
            "flex": null,
            "flex_flow": null,
            "grid_area": null,
            "grid_auto_columns": null,
            "grid_auto_flow": null,
            "grid_auto_rows": null,
            "grid_column": null,
            "grid_gap": null,
            "grid_row": null,
            "grid_template_areas": null,
            "grid_template_columns": null,
            "grid_template_rows": null,
            "height": null,
            "justify_content": null,
            "justify_items": null,
            "left": null,
            "margin": null,
            "max_height": null,
            "max_width": null,
            "min_height": null,
            "min_width": null,
            "object_fit": null,
            "object_position": null,
            "order": null,
            "overflow": null,
            "overflow_x": null,
            "overflow_y": null,
            "padding": null,
            "right": null,
            "top": null,
            "visibility": null,
            "width": null
          }
        },
        "179d12d57da746abbb1f5bcb910b992b": {
          "model_module": "@jupyter-widgets/controls",
          "model_name": "ProgressStyleModel",
          "model_module_version": "1.5.0",
          "state": {
            "_model_module": "@jupyter-widgets/controls",
            "_model_module_version": "1.5.0",
            "_model_name": "ProgressStyleModel",
            "_view_count": null,
            "_view_module": "@jupyter-widgets/base",
            "_view_module_version": "1.2.0",
            "_view_name": "StyleView",
            "bar_color": null,
            "description_width": ""
          }
        },
        "c3a8fa7d605d405882245b4c1e4ce9bf": {
          "model_module": "@jupyter-widgets/base",
          "model_name": "LayoutModel",
          "model_module_version": "1.2.0",
          "state": {
            "_model_module": "@jupyter-widgets/base",
            "_model_module_version": "1.2.0",
            "_model_name": "LayoutModel",
            "_view_count": null,
            "_view_module": "@jupyter-widgets/base",
            "_view_module_version": "1.2.0",
            "_view_name": "LayoutView",
            "align_content": null,
            "align_items": null,
            "align_self": null,
            "border": null,
            "bottom": null,
            "display": null,
            "flex": null,
            "flex_flow": null,
            "grid_area": null,
            "grid_auto_columns": null,
            "grid_auto_flow": null,
            "grid_auto_rows": null,
            "grid_column": null,
            "grid_gap": null,
            "grid_row": null,
            "grid_template_areas": null,
            "grid_template_columns": null,
            "grid_template_rows": null,
            "height": null,
            "justify_content": null,
            "justify_items": null,
            "left": null,
            "margin": null,
            "max_height": null,
            "max_width": null,
            "min_height": null,
            "min_width": null,
            "object_fit": null,
            "object_position": null,
            "order": null,
            "overflow": null,
            "overflow_x": null,
            "overflow_y": null,
            "padding": null,
            "right": null,
            "top": null,
            "visibility": null,
            "width": null
          }
        },
        "92c9da8fe5a44b56a0f26a137e264e06": {
          "model_module": "@jupyter-widgets/controls",
          "model_name": "DescriptionStyleModel",
          "model_module_version": "1.5.0",
          "state": {
            "_model_module": "@jupyter-widgets/controls",
            "_model_module_version": "1.5.0",
            "_model_name": "DescriptionStyleModel",
            "_view_count": null,
            "_view_module": "@jupyter-widgets/base",
            "_view_module_version": "1.2.0",
            "_view_name": "StyleView",
            "description_width": ""
          }
        },
        "78d297ec9de94901b224bf16bd3a93a4": {
          "model_module": "@jupyter-widgets/controls",
          "model_name": "HBoxModel",
          "model_module_version": "1.5.0",
          "state": {
            "_dom_classes": [],
            "_model_module": "@jupyter-widgets/controls",
            "_model_module_version": "1.5.0",
            "_model_name": "HBoxModel",
            "_view_count": null,
            "_view_module": "@jupyter-widgets/controls",
            "_view_module_version": "1.5.0",
            "_view_name": "HBoxView",
            "box_style": "",
            "children": [
              "IPY_MODEL_ca07821e9eef4e4bb7003953a7c1afda",
              "IPY_MODEL_8bf6a5e9953344018bb380276faafdbb",
              "IPY_MODEL_7fc6f612d90a4ba1877ecd9fc82bd68d"
            ],
            "layout": "IPY_MODEL_d547d22074ba43fb95f1903329808eb2"
          }
        },
        "ca07821e9eef4e4bb7003953a7c1afda": {
          "model_module": "@jupyter-widgets/controls",
          "model_name": "HTMLModel",
          "model_module_version": "1.5.0",
          "state": {
            "_dom_classes": [],
            "_model_module": "@jupyter-widgets/controls",
            "_model_module_version": "1.5.0",
            "_model_name": "HTMLModel",
            "_view_count": null,
            "_view_module": "@jupyter-widgets/controls",
            "_view_module_version": "1.5.0",
            "_view_name": "HTMLView",
            "description": "",
            "description_tooltip": null,
            "layout": "IPY_MODEL_10f0fc5b226c4b3f850e1b5f7d7d2bd5",
            "placeholder": "​",
            "style": "IPY_MODEL_bcc3e3ed974345aa92c5c1223f0ba497",
            "value": "100%"
          }
        },
        "8bf6a5e9953344018bb380276faafdbb": {
          "model_module": "@jupyter-widgets/controls",
          "model_name": "FloatProgressModel",
          "model_module_version": "1.5.0",
          "state": {
            "_dom_classes": [],
            "_model_module": "@jupyter-widgets/controls",
            "_model_module_version": "1.5.0",
            "_model_name": "FloatProgressModel",
            "_view_count": null,
            "_view_module": "@jupyter-widgets/controls",
            "_view_module_version": "1.5.0",
            "_view_name": "ProgressView",
            "bar_style": "success",
            "description": "",
            "description_tooltip": null,
            "layout": "IPY_MODEL_c09bb8b6540b47b3a113d0edb21524d2",
            "max": 21818,
            "min": 0,
            "orientation": "horizontal",
            "style": "IPY_MODEL_c21a97d8e21347fe8ec82e2d730f88f9",
            "value": 21818
          }
        },
        "7fc6f612d90a4ba1877ecd9fc82bd68d": {
          "model_module": "@jupyter-widgets/controls",
          "model_name": "HTMLModel",
          "model_module_version": "1.5.0",
          "state": {
            "_dom_classes": [],
            "_model_module": "@jupyter-widgets/controls",
            "_model_module_version": "1.5.0",
            "_model_name": "HTMLModel",
            "_view_count": null,
            "_view_module": "@jupyter-widgets/controls",
            "_view_module_version": "1.5.0",
            "_view_name": "HTMLView",
            "description": "",
            "description_tooltip": null,
            "layout": "IPY_MODEL_4171debe61d44de4ae34ef03f55da480",
            "placeholder": "​",
            "style": "IPY_MODEL_6eb8d9d80b6a4c409d201b2e717f7a74",
            "value": " 21818/21818 [00:15&lt;00:00, 3817.01it/s]"
          }
        },
        "d547d22074ba43fb95f1903329808eb2": {
          "model_module": "@jupyter-widgets/base",
          "model_name": "LayoutModel",
          "model_module_version": "1.2.0",
          "state": {
            "_model_module": "@jupyter-widgets/base",
            "_model_module_version": "1.2.0",
            "_model_name": "LayoutModel",
            "_view_count": null,
            "_view_module": "@jupyter-widgets/base",
            "_view_module_version": "1.2.0",
            "_view_name": "LayoutView",
            "align_content": null,
            "align_items": null,
            "align_self": null,
            "border": null,
            "bottom": null,
            "display": null,
            "flex": null,
            "flex_flow": null,
            "grid_area": null,
            "grid_auto_columns": null,
            "grid_auto_flow": null,
            "grid_auto_rows": null,
            "grid_column": null,
            "grid_gap": null,
            "grid_row": null,
            "grid_template_areas": null,
            "grid_template_columns": null,
            "grid_template_rows": null,
            "height": null,
            "justify_content": null,
            "justify_items": null,
            "left": null,
            "margin": null,
            "max_height": null,
            "max_width": null,
            "min_height": null,
            "min_width": null,
            "object_fit": null,
            "object_position": null,
            "order": null,
            "overflow": null,
            "overflow_x": null,
            "overflow_y": null,
            "padding": null,
            "right": null,
            "top": null,
            "visibility": null,
            "width": null
          }
        },
        "10f0fc5b226c4b3f850e1b5f7d7d2bd5": {
          "model_module": "@jupyter-widgets/base",
          "model_name": "LayoutModel",
          "model_module_version": "1.2.0",
          "state": {
            "_model_module": "@jupyter-widgets/base",
            "_model_module_version": "1.2.0",
            "_model_name": "LayoutModel",
            "_view_count": null,
            "_view_module": "@jupyter-widgets/base",
            "_view_module_version": "1.2.0",
            "_view_name": "LayoutView",
            "align_content": null,
            "align_items": null,
            "align_self": null,
            "border": null,
            "bottom": null,
            "display": null,
            "flex": null,
            "flex_flow": null,
            "grid_area": null,
            "grid_auto_columns": null,
            "grid_auto_flow": null,
            "grid_auto_rows": null,
            "grid_column": null,
            "grid_gap": null,
            "grid_row": null,
            "grid_template_areas": null,
            "grid_template_columns": null,
            "grid_template_rows": null,
            "height": null,
            "justify_content": null,
            "justify_items": null,
            "left": null,
            "margin": null,
            "max_height": null,
            "max_width": null,
            "min_height": null,
            "min_width": null,
            "object_fit": null,
            "object_position": null,
            "order": null,
            "overflow": null,
            "overflow_x": null,
            "overflow_y": null,
            "padding": null,
            "right": null,
            "top": null,
            "visibility": null,
            "width": null
          }
        },
        "bcc3e3ed974345aa92c5c1223f0ba497": {
          "model_module": "@jupyter-widgets/controls",
          "model_name": "DescriptionStyleModel",
          "model_module_version": "1.5.0",
          "state": {
            "_model_module": "@jupyter-widgets/controls",
            "_model_module_version": "1.5.0",
            "_model_name": "DescriptionStyleModel",
            "_view_count": null,
            "_view_module": "@jupyter-widgets/base",
            "_view_module_version": "1.2.0",
            "_view_name": "StyleView",
            "description_width": ""
          }
        },
        "c09bb8b6540b47b3a113d0edb21524d2": {
          "model_module": "@jupyter-widgets/base",
          "model_name": "LayoutModel",
          "model_module_version": "1.2.0",
          "state": {
            "_model_module": "@jupyter-widgets/base",
            "_model_module_version": "1.2.0",
            "_model_name": "LayoutModel",
            "_view_count": null,
            "_view_module": "@jupyter-widgets/base",
            "_view_module_version": "1.2.0",
            "_view_name": "LayoutView",
            "align_content": null,
            "align_items": null,
            "align_self": null,
            "border": null,
            "bottom": null,
            "display": null,
            "flex": null,
            "flex_flow": null,
            "grid_area": null,
            "grid_auto_columns": null,
            "grid_auto_flow": null,
            "grid_auto_rows": null,
            "grid_column": null,
            "grid_gap": null,
            "grid_row": null,
            "grid_template_areas": null,
            "grid_template_columns": null,
            "grid_template_rows": null,
            "height": null,
            "justify_content": null,
            "justify_items": null,
            "left": null,
            "margin": null,
            "max_height": null,
            "max_width": null,
            "min_height": null,
            "min_width": null,
            "object_fit": null,
            "object_position": null,
            "order": null,
            "overflow": null,
            "overflow_x": null,
            "overflow_y": null,
            "padding": null,
            "right": null,
            "top": null,
            "visibility": null,
            "width": null
          }
        },
        "c21a97d8e21347fe8ec82e2d730f88f9": {
          "model_module": "@jupyter-widgets/controls",
          "model_name": "ProgressStyleModel",
          "model_module_version": "1.5.0",
          "state": {
            "_model_module": "@jupyter-widgets/controls",
            "_model_module_version": "1.5.0",
            "_model_name": "ProgressStyleModel",
            "_view_count": null,
            "_view_module": "@jupyter-widgets/base",
            "_view_module_version": "1.2.0",
            "_view_name": "StyleView",
            "bar_color": null,
            "description_width": ""
          }
        },
        "4171debe61d44de4ae34ef03f55da480": {
          "model_module": "@jupyter-widgets/base",
          "model_name": "LayoutModel",
          "model_module_version": "1.2.0",
          "state": {
            "_model_module": "@jupyter-widgets/base",
            "_model_module_version": "1.2.0",
            "_model_name": "LayoutModel",
            "_view_count": null,
            "_view_module": "@jupyter-widgets/base",
            "_view_module_version": "1.2.0",
            "_view_name": "LayoutView",
            "align_content": null,
            "align_items": null,
            "align_self": null,
            "border": null,
            "bottom": null,
            "display": null,
            "flex": null,
            "flex_flow": null,
            "grid_area": null,
            "grid_auto_columns": null,
            "grid_auto_flow": null,
            "grid_auto_rows": null,
            "grid_column": null,
            "grid_gap": null,
            "grid_row": null,
            "grid_template_areas": null,
            "grid_template_columns": null,
            "grid_template_rows": null,
            "height": null,
            "justify_content": null,
            "justify_items": null,
            "left": null,
            "margin": null,
            "max_height": null,
            "max_width": null,
            "min_height": null,
            "min_width": null,
            "object_fit": null,
            "object_position": null,
            "order": null,
            "overflow": null,
            "overflow_x": null,
            "overflow_y": null,
            "padding": null,
            "right": null,
            "top": null,
            "visibility": null,
            "width": null
          }
        },
        "6eb8d9d80b6a4c409d201b2e717f7a74": {
          "model_module": "@jupyter-widgets/controls",
          "model_name": "DescriptionStyleModel",
          "model_module_version": "1.5.0",
          "state": {
            "_model_module": "@jupyter-widgets/controls",
            "_model_module_version": "1.5.0",
            "_model_name": "DescriptionStyleModel",
            "_view_count": null,
            "_view_module": "@jupyter-widgets/base",
            "_view_module_version": "1.2.0",
            "_view_name": "StyleView",
            "description_width": ""
          }
        },
        "261bbf53f51840b491ffc91f125a0c7e": {
          "model_module": "@jupyter-widgets/controls",
          "model_name": "HBoxModel",
          "model_module_version": "1.5.0",
          "state": {
            "_dom_classes": [],
            "_model_module": "@jupyter-widgets/controls",
            "_model_module_version": "1.5.0",
            "_model_name": "HBoxModel",
            "_view_count": null,
            "_view_module": "@jupyter-widgets/controls",
            "_view_module_version": "1.5.0",
            "_view_name": "HBoxView",
            "box_style": "",
            "children": [
              "IPY_MODEL_a7585e1ba75b4f07b9689c460e26d23a",
              "IPY_MODEL_f0fc3478b81341afa3780283628f2417",
              "IPY_MODEL_00e82963c9ec45c08d25a21cade756e9"
            ],
            "layout": "IPY_MODEL_92f8ca9f39604855870978c95fce43de"
          }
        },
        "a7585e1ba75b4f07b9689c460e26d23a": {
          "model_module": "@jupyter-widgets/controls",
          "model_name": "HTMLModel",
          "model_module_version": "1.5.0",
          "state": {
            "_dom_classes": [],
            "_model_module": "@jupyter-widgets/controls",
            "_model_module_version": "1.5.0",
            "_model_name": "HTMLModel",
            "_view_count": null,
            "_view_module": "@jupyter-widgets/controls",
            "_view_module_version": "1.5.0",
            "_view_name": "HTMLView",
            "description": "",
            "description_tooltip": null,
            "layout": "IPY_MODEL_363cdab99f3b444caf5e41f8d30cde25",
            "placeholder": "​",
            "style": "IPY_MODEL_7223a249e9174fecbbe8b7d064035bd3",
            "value": "100%"
          }
        },
        "f0fc3478b81341afa3780283628f2417": {
          "model_module": "@jupyter-widgets/controls",
          "model_name": "FloatProgressModel",
          "model_module_version": "1.5.0",
          "state": {
            "_dom_classes": [],
            "_model_module": "@jupyter-widgets/controls",
            "_model_module_version": "1.5.0",
            "_model_name": "FloatProgressModel",
            "_view_count": null,
            "_view_module": "@jupyter-widgets/controls",
            "_view_module_version": "1.5.0",
            "_view_name": "ProgressView",
            "bar_style": "success",
            "description": "",
            "description_tooltip": null,
            "layout": "IPY_MODEL_31bae73e4cc44ae6ad19f7441a6c34c9",
            "max": 4554,
            "min": 0,
            "orientation": "horizontal",
            "style": "IPY_MODEL_59d82c8ab13547109f43300ec841ca44",
            "value": 4554
          }
        },
        "00e82963c9ec45c08d25a21cade756e9": {
          "model_module": "@jupyter-widgets/controls",
          "model_name": "HTMLModel",
          "model_module_version": "1.5.0",
          "state": {
            "_dom_classes": [],
            "_model_module": "@jupyter-widgets/controls",
            "_model_module_version": "1.5.0",
            "_model_name": "HTMLModel",
            "_view_count": null,
            "_view_module": "@jupyter-widgets/controls",
            "_view_module_version": "1.5.0",
            "_view_name": "HTMLView",
            "description": "",
            "description_tooltip": null,
            "layout": "IPY_MODEL_68b9bf7c58cd4e09a3e1bc144aedfa32",
            "placeholder": "​",
            "style": "IPY_MODEL_5dc6cbf0c54c4792b8afc4c948a20db9",
            "value": " 4554/4554 [39:27&lt;00:00,  1.63it/s]"
          }
        },
        "92f8ca9f39604855870978c95fce43de": {
          "model_module": "@jupyter-widgets/base",
          "model_name": "LayoutModel",
          "model_module_version": "1.2.0",
          "state": {
            "_model_module": "@jupyter-widgets/base",
            "_model_module_version": "1.2.0",
            "_model_name": "LayoutModel",
            "_view_count": null,
            "_view_module": "@jupyter-widgets/base",
            "_view_module_version": "1.2.0",
            "_view_name": "LayoutView",
            "align_content": null,
            "align_items": null,
            "align_self": null,
            "border": null,
            "bottom": null,
            "display": null,
            "flex": null,
            "flex_flow": null,
            "grid_area": null,
            "grid_auto_columns": null,
            "grid_auto_flow": null,
            "grid_auto_rows": null,
            "grid_column": null,
            "grid_gap": null,
            "grid_row": null,
            "grid_template_areas": null,
            "grid_template_columns": null,
            "grid_template_rows": null,
            "height": null,
            "justify_content": null,
            "justify_items": null,
            "left": null,
            "margin": null,
            "max_height": null,
            "max_width": null,
            "min_height": null,
            "min_width": null,
            "object_fit": null,
            "object_position": null,
            "order": null,
            "overflow": null,
            "overflow_x": null,
            "overflow_y": null,
            "padding": null,
            "right": null,
            "top": null,
            "visibility": null,
            "width": null
          }
        },
        "363cdab99f3b444caf5e41f8d30cde25": {
          "model_module": "@jupyter-widgets/base",
          "model_name": "LayoutModel",
          "model_module_version": "1.2.0",
          "state": {
            "_model_module": "@jupyter-widgets/base",
            "_model_module_version": "1.2.0",
            "_model_name": "LayoutModel",
            "_view_count": null,
            "_view_module": "@jupyter-widgets/base",
            "_view_module_version": "1.2.0",
            "_view_name": "LayoutView",
            "align_content": null,
            "align_items": null,
            "align_self": null,
            "border": null,
            "bottom": null,
            "display": null,
            "flex": null,
            "flex_flow": null,
            "grid_area": null,
            "grid_auto_columns": null,
            "grid_auto_flow": null,
            "grid_auto_rows": null,
            "grid_column": null,
            "grid_gap": null,
            "grid_row": null,
            "grid_template_areas": null,
            "grid_template_columns": null,
            "grid_template_rows": null,
            "height": null,
            "justify_content": null,
            "justify_items": null,
            "left": null,
            "margin": null,
            "max_height": null,
            "max_width": null,
            "min_height": null,
            "min_width": null,
            "object_fit": null,
            "object_position": null,
            "order": null,
            "overflow": null,
            "overflow_x": null,
            "overflow_y": null,
            "padding": null,
            "right": null,
            "top": null,
            "visibility": null,
            "width": null
          }
        },
        "7223a249e9174fecbbe8b7d064035bd3": {
          "model_module": "@jupyter-widgets/controls",
          "model_name": "DescriptionStyleModel",
          "model_module_version": "1.5.0",
          "state": {
            "_model_module": "@jupyter-widgets/controls",
            "_model_module_version": "1.5.0",
            "_model_name": "DescriptionStyleModel",
            "_view_count": null,
            "_view_module": "@jupyter-widgets/base",
            "_view_module_version": "1.2.0",
            "_view_name": "StyleView",
            "description_width": ""
          }
        },
        "31bae73e4cc44ae6ad19f7441a6c34c9": {
          "model_module": "@jupyter-widgets/base",
          "model_name": "LayoutModel",
          "model_module_version": "1.2.0",
          "state": {
            "_model_module": "@jupyter-widgets/base",
            "_model_module_version": "1.2.0",
            "_model_name": "LayoutModel",
            "_view_count": null,
            "_view_module": "@jupyter-widgets/base",
            "_view_module_version": "1.2.0",
            "_view_name": "LayoutView",
            "align_content": null,
            "align_items": null,
            "align_self": null,
            "border": null,
            "bottom": null,
            "display": null,
            "flex": null,
            "flex_flow": null,
            "grid_area": null,
            "grid_auto_columns": null,
            "grid_auto_flow": null,
            "grid_auto_rows": null,
            "grid_column": null,
            "grid_gap": null,
            "grid_row": null,
            "grid_template_areas": null,
            "grid_template_columns": null,
            "grid_template_rows": null,
            "height": null,
            "justify_content": null,
            "justify_items": null,
            "left": null,
            "margin": null,
            "max_height": null,
            "max_width": null,
            "min_height": null,
            "min_width": null,
            "object_fit": null,
            "object_position": null,
            "order": null,
            "overflow": null,
            "overflow_x": null,
            "overflow_y": null,
            "padding": null,
            "right": null,
            "top": null,
            "visibility": null,
            "width": null
          }
        },
        "59d82c8ab13547109f43300ec841ca44": {
          "model_module": "@jupyter-widgets/controls",
          "model_name": "ProgressStyleModel",
          "model_module_version": "1.5.0",
          "state": {
            "_model_module": "@jupyter-widgets/controls",
            "_model_module_version": "1.5.0",
            "_model_name": "ProgressStyleModel",
            "_view_count": null,
            "_view_module": "@jupyter-widgets/base",
            "_view_module_version": "1.2.0",
            "_view_name": "StyleView",
            "bar_color": null,
            "description_width": ""
          }
        },
        "68b9bf7c58cd4e09a3e1bc144aedfa32": {
          "model_module": "@jupyter-widgets/base",
          "model_name": "LayoutModel",
          "model_module_version": "1.2.0",
          "state": {
            "_model_module": "@jupyter-widgets/base",
            "_model_module_version": "1.2.0",
            "_model_name": "LayoutModel",
            "_view_count": null,
            "_view_module": "@jupyter-widgets/base",
            "_view_module_version": "1.2.0",
            "_view_name": "LayoutView",
            "align_content": null,
            "align_items": null,
            "align_self": null,
            "border": null,
            "bottom": null,
            "display": null,
            "flex": null,
            "flex_flow": null,
            "grid_area": null,
            "grid_auto_columns": null,
            "grid_auto_flow": null,
            "grid_auto_rows": null,
            "grid_column": null,
            "grid_gap": null,
            "grid_row": null,
            "grid_template_areas": null,
            "grid_template_columns": null,
            "grid_template_rows": null,
            "height": null,
            "justify_content": null,
            "justify_items": null,
            "left": null,
            "margin": null,
            "max_height": null,
            "max_width": null,
            "min_height": null,
            "min_width": null,
            "object_fit": null,
            "object_position": null,
            "order": null,
            "overflow": null,
            "overflow_x": null,
            "overflow_y": null,
            "padding": null,
            "right": null,
            "top": null,
            "visibility": null,
            "width": null
          }
        },
        "5dc6cbf0c54c4792b8afc4c948a20db9": {
          "model_module": "@jupyter-widgets/controls",
          "model_name": "DescriptionStyleModel",
          "model_module_version": "1.5.0",
          "state": {
            "_model_module": "@jupyter-widgets/controls",
            "_model_module_version": "1.5.0",
            "_model_name": "DescriptionStyleModel",
            "_view_count": null,
            "_view_module": "@jupyter-widgets/base",
            "_view_module_version": "1.2.0",
            "_view_name": "StyleView",
            "description_width": ""
          }
        },
        "e4c5668b0034457cbd9f67f7aee99923": {
          "model_module": "@jupyter-widgets/controls",
          "model_name": "HBoxModel",
          "model_module_version": "1.5.0",
          "state": {
            "_dom_classes": [],
            "_model_module": "@jupyter-widgets/controls",
            "_model_module_version": "1.5.0",
            "_model_name": "HBoxModel",
            "_view_count": null,
            "_view_module": "@jupyter-widgets/controls",
            "_view_module_version": "1.5.0",
            "_view_name": "HBoxView",
            "box_style": "",
            "children": [
              "IPY_MODEL_d57eed6bcc234141837dbbd8c84befb1",
              "IPY_MODEL_8b85c9958a1f4442a02de9ca13cb8a63",
              "IPY_MODEL_a55ef37ad05e41a5af06efb1c84ad3b7"
            ],
            "layout": "IPY_MODEL_cca86717ea8846d990c1f47652e380c2"
          }
        },
        "d57eed6bcc234141837dbbd8c84befb1": {
          "model_module": "@jupyter-widgets/controls",
          "model_name": "HTMLModel",
          "model_module_version": "1.5.0",
          "state": {
            "_dom_classes": [],
            "_model_module": "@jupyter-widgets/controls",
            "_model_module_version": "1.5.0",
            "_model_name": "HTMLModel",
            "_view_count": null,
            "_view_module": "@jupyter-widgets/controls",
            "_view_module_version": "1.5.0",
            "_view_name": "HTMLView",
            "description": "",
            "description_tooltip": null,
            "layout": "IPY_MODEL_4968248f2a48462dbee1c74a995c59bf",
            "placeholder": "​",
            "style": "IPY_MODEL_0f2aa27db04b430fb63f7eda4219bed2",
            "value": "100%"
          }
        },
        "8b85c9958a1f4442a02de9ca13cb8a63": {
          "model_module": "@jupyter-widgets/controls",
          "model_name": "FloatProgressModel",
          "model_module_version": "1.5.0",
          "state": {
            "_dom_classes": [],
            "_model_module": "@jupyter-widgets/controls",
            "_model_module_version": "1.5.0",
            "_model_name": "FloatProgressModel",
            "_view_count": null,
            "_view_module": "@jupyter-widgets/controls",
            "_view_module_version": "1.5.0",
            "_view_name": "ProgressView",
            "bar_style": "success",
            "description": "",
            "description_tooltip": null,
            "layout": "IPY_MODEL_69180c292186400ca014ff89018bf1df",
            "max": 4554,
            "min": 0,
            "orientation": "horizontal",
            "style": "IPY_MODEL_d949d6eaf8ba422db2d6bdb24eafb2c6",
            "value": 4554
          }
        },
        "a55ef37ad05e41a5af06efb1c84ad3b7": {
          "model_module": "@jupyter-widgets/controls",
          "model_name": "HTMLModel",
          "model_module_version": "1.5.0",
          "state": {
            "_dom_classes": [],
            "_model_module": "@jupyter-widgets/controls",
            "_model_module_version": "1.5.0",
            "_model_name": "HTMLModel",
            "_view_count": null,
            "_view_module": "@jupyter-widgets/controls",
            "_view_module_version": "1.5.0",
            "_view_name": "HTMLView",
            "description": "",
            "description_tooltip": null,
            "layout": "IPY_MODEL_9aff7e9154324c99a99c7791b6685682",
            "placeholder": "​",
            "style": "IPY_MODEL_8d5822b2d28f43f4a64e8bc06f59320f",
            "value": " 4554/4554 [39:22&lt;00:00,  2.23it/s]"
          }
        },
        "cca86717ea8846d990c1f47652e380c2": {
          "model_module": "@jupyter-widgets/base",
          "model_name": "LayoutModel",
          "model_module_version": "1.2.0",
          "state": {
            "_model_module": "@jupyter-widgets/base",
            "_model_module_version": "1.2.0",
            "_model_name": "LayoutModel",
            "_view_count": null,
            "_view_module": "@jupyter-widgets/base",
            "_view_module_version": "1.2.0",
            "_view_name": "LayoutView",
            "align_content": null,
            "align_items": null,
            "align_self": null,
            "border": null,
            "bottom": null,
            "display": null,
            "flex": null,
            "flex_flow": null,
            "grid_area": null,
            "grid_auto_columns": null,
            "grid_auto_flow": null,
            "grid_auto_rows": null,
            "grid_column": null,
            "grid_gap": null,
            "grid_row": null,
            "grid_template_areas": null,
            "grid_template_columns": null,
            "grid_template_rows": null,
            "height": null,
            "justify_content": null,
            "justify_items": null,
            "left": null,
            "margin": null,
            "max_height": null,
            "max_width": null,
            "min_height": null,
            "min_width": null,
            "object_fit": null,
            "object_position": null,
            "order": null,
            "overflow": null,
            "overflow_x": null,
            "overflow_y": null,
            "padding": null,
            "right": null,
            "top": null,
            "visibility": null,
            "width": null
          }
        },
        "4968248f2a48462dbee1c74a995c59bf": {
          "model_module": "@jupyter-widgets/base",
          "model_name": "LayoutModel",
          "model_module_version": "1.2.0",
          "state": {
            "_model_module": "@jupyter-widgets/base",
            "_model_module_version": "1.2.0",
            "_model_name": "LayoutModel",
            "_view_count": null,
            "_view_module": "@jupyter-widgets/base",
            "_view_module_version": "1.2.0",
            "_view_name": "LayoutView",
            "align_content": null,
            "align_items": null,
            "align_self": null,
            "border": null,
            "bottom": null,
            "display": null,
            "flex": null,
            "flex_flow": null,
            "grid_area": null,
            "grid_auto_columns": null,
            "grid_auto_flow": null,
            "grid_auto_rows": null,
            "grid_column": null,
            "grid_gap": null,
            "grid_row": null,
            "grid_template_areas": null,
            "grid_template_columns": null,
            "grid_template_rows": null,
            "height": null,
            "justify_content": null,
            "justify_items": null,
            "left": null,
            "margin": null,
            "max_height": null,
            "max_width": null,
            "min_height": null,
            "min_width": null,
            "object_fit": null,
            "object_position": null,
            "order": null,
            "overflow": null,
            "overflow_x": null,
            "overflow_y": null,
            "padding": null,
            "right": null,
            "top": null,
            "visibility": null,
            "width": null
          }
        },
        "0f2aa27db04b430fb63f7eda4219bed2": {
          "model_module": "@jupyter-widgets/controls",
          "model_name": "DescriptionStyleModel",
          "model_module_version": "1.5.0",
          "state": {
            "_model_module": "@jupyter-widgets/controls",
            "_model_module_version": "1.5.0",
            "_model_name": "DescriptionStyleModel",
            "_view_count": null,
            "_view_module": "@jupyter-widgets/base",
            "_view_module_version": "1.2.0",
            "_view_name": "StyleView",
            "description_width": ""
          }
        },
        "69180c292186400ca014ff89018bf1df": {
          "model_module": "@jupyter-widgets/base",
          "model_name": "LayoutModel",
          "model_module_version": "1.2.0",
          "state": {
            "_model_module": "@jupyter-widgets/base",
            "_model_module_version": "1.2.0",
            "_model_name": "LayoutModel",
            "_view_count": null,
            "_view_module": "@jupyter-widgets/base",
            "_view_module_version": "1.2.0",
            "_view_name": "LayoutView",
            "align_content": null,
            "align_items": null,
            "align_self": null,
            "border": null,
            "bottom": null,
            "display": null,
            "flex": null,
            "flex_flow": null,
            "grid_area": null,
            "grid_auto_columns": null,
            "grid_auto_flow": null,
            "grid_auto_rows": null,
            "grid_column": null,
            "grid_gap": null,
            "grid_row": null,
            "grid_template_areas": null,
            "grid_template_columns": null,
            "grid_template_rows": null,
            "height": null,
            "justify_content": null,
            "justify_items": null,
            "left": null,
            "margin": null,
            "max_height": null,
            "max_width": null,
            "min_height": null,
            "min_width": null,
            "object_fit": null,
            "object_position": null,
            "order": null,
            "overflow": null,
            "overflow_x": null,
            "overflow_y": null,
            "padding": null,
            "right": null,
            "top": null,
            "visibility": null,
            "width": null
          }
        },
        "d949d6eaf8ba422db2d6bdb24eafb2c6": {
          "model_module": "@jupyter-widgets/controls",
          "model_name": "ProgressStyleModel",
          "model_module_version": "1.5.0",
          "state": {
            "_model_module": "@jupyter-widgets/controls",
            "_model_module_version": "1.5.0",
            "_model_name": "ProgressStyleModel",
            "_view_count": null,
            "_view_module": "@jupyter-widgets/base",
            "_view_module_version": "1.2.0",
            "_view_name": "StyleView",
            "bar_color": null,
            "description_width": ""
          }
        },
        "9aff7e9154324c99a99c7791b6685682": {
          "model_module": "@jupyter-widgets/base",
          "model_name": "LayoutModel",
          "model_module_version": "1.2.0",
          "state": {
            "_model_module": "@jupyter-widgets/base",
            "_model_module_version": "1.2.0",
            "_model_name": "LayoutModel",
            "_view_count": null,
            "_view_module": "@jupyter-widgets/base",
            "_view_module_version": "1.2.0",
            "_view_name": "LayoutView",
            "align_content": null,
            "align_items": null,
            "align_self": null,
            "border": null,
            "bottom": null,
            "display": null,
            "flex": null,
            "flex_flow": null,
            "grid_area": null,
            "grid_auto_columns": null,
            "grid_auto_flow": null,
            "grid_auto_rows": null,
            "grid_column": null,
            "grid_gap": null,
            "grid_row": null,
            "grid_template_areas": null,
            "grid_template_columns": null,
            "grid_template_rows": null,
            "height": null,
            "justify_content": null,
            "justify_items": null,
            "left": null,
            "margin": null,
            "max_height": null,
            "max_width": null,
            "min_height": null,
            "min_width": null,
            "object_fit": null,
            "object_position": null,
            "order": null,
            "overflow": null,
            "overflow_x": null,
            "overflow_y": null,
            "padding": null,
            "right": null,
            "top": null,
            "visibility": null,
            "width": null
          }
        },
        "8d5822b2d28f43f4a64e8bc06f59320f": {
          "model_module": "@jupyter-widgets/controls",
          "model_name": "DescriptionStyleModel",
          "model_module_version": "1.5.0",
          "state": {
            "_model_module": "@jupyter-widgets/controls",
            "_model_module_version": "1.5.0",
            "_model_name": "DescriptionStyleModel",
            "_view_count": null,
            "_view_module": "@jupyter-widgets/base",
            "_view_module_version": "1.2.0",
            "_view_name": "StyleView",
            "description_width": ""
          }
        },
        "a7b2a548f7344ea3bc0cabed2c599c3c": {
          "model_module": "@jupyter-widgets/controls",
          "model_name": "HBoxModel",
          "model_module_version": "1.5.0",
          "state": {
            "_dom_classes": [],
            "_model_module": "@jupyter-widgets/controls",
            "_model_module_version": "1.5.0",
            "_model_name": "HBoxModel",
            "_view_count": null,
            "_view_module": "@jupyter-widgets/controls",
            "_view_module_version": "1.5.0",
            "_view_name": "HBoxView",
            "box_style": "",
            "children": [
              "IPY_MODEL_7985d3ae8bc34e9f8df12389cc687fe9",
              "IPY_MODEL_e95ba31a6b3c478283444a0f915391f0",
              "IPY_MODEL_409cc04b428f4ac1b1b856bd9fd51209"
            ],
            "layout": "IPY_MODEL_ecf2ea8ca2e942819de7e8ea5a255094"
          }
        },
        "7985d3ae8bc34e9f8df12389cc687fe9": {
          "model_module": "@jupyter-widgets/controls",
          "model_name": "HTMLModel",
          "model_module_version": "1.5.0",
          "state": {
            "_dom_classes": [],
            "_model_module": "@jupyter-widgets/controls",
            "_model_module_version": "1.5.0",
            "_model_name": "HTMLModel",
            "_view_count": null,
            "_view_module": "@jupyter-widgets/controls",
            "_view_module_version": "1.5.0",
            "_view_name": "HTMLView",
            "description": "",
            "description_tooltip": null,
            "layout": "IPY_MODEL_e954349068874f2b96e85cda41bc0dac",
            "placeholder": "​",
            "style": "IPY_MODEL_035f7b5b0a9f47bebe6cc0118be1e7ea",
            "value": "100%"
          }
        },
        "e95ba31a6b3c478283444a0f915391f0": {
          "model_module": "@jupyter-widgets/controls",
          "model_name": "FloatProgressModel",
          "model_module_version": "1.5.0",
          "state": {
            "_dom_classes": [],
            "_model_module": "@jupyter-widgets/controls",
            "_model_module_version": "1.5.0",
            "_model_name": "FloatProgressModel",
            "_view_count": null,
            "_view_module": "@jupyter-widgets/controls",
            "_view_module_version": "1.5.0",
            "_view_name": "ProgressView",
            "bar_style": "success",
            "description": "",
            "description_tooltip": null,
            "layout": "IPY_MODEL_cf7ae2257c234064a6548d2343bd4129",
            "max": 4554,
            "min": 0,
            "orientation": "horizontal",
            "style": "IPY_MODEL_dca57995a21e4bceb099b06bbb8f9f5e",
            "value": 4554
          }
        },
        "409cc04b428f4ac1b1b856bd9fd51209": {
          "model_module": "@jupyter-widgets/controls",
          "model_name": "HTMLModel",
          "model_module_version": "1.5.0",
          "state": {
            "_dom_classes": [],
            "_model_module": "@jupyter-widgets/controls",
            "_model_module_version": "1.5.0",
            "_model_name": "HTMLModel",
            "_view_count": null,
            "_view_module": "@jupyter-widgets/controls",
            "_view_module_version": "1.5.0",
            "_view_name": "HTMLView",
            "description": "",
            "description_tooltip": null,
            "layout": "IPY_MODEL_9b5525776d3841cb84bfa7202009964f",
            "placeholder": "​",
            "style": "IPY_MODEL_d0b1f40f65e149df846f1d8478e9beb2",
            "value": " 4554/4554 [39:20&lt;00:00,  2.10it/s]"
          }
        },
        "ecf2ea8ca2e942819de7e8ea5a255094": {
          "model_module": "@jupyter-widgets/base",
          "model_name": "LayoutModel",
          "model_module_version": "1.2.0",
          "state": {
            "_model_module": "@jupyter-widgets/base",
            "_model_module_version": "1.2.0",
            "_model_name": "LayoutModel",
            "_view_count": null,
            "_view_module": "@jupyter-widgets/base",
            "_view_module_version": "1.2.0",
            "_view_name": "LayoutView",
            "align_content": null,
            "align_items": null,
            "align_self": null,
            "border": null,
            "bottom": null,
            "display": null,
            "flex": null,
            "flex_flow": null,
            "grid_area": null,
            "grid_auto_columns": null,
            "grid_auto_flow": null,
            "grid_auto_rows": null,
            "grid_column": null,
            "grid_gap": null,
            "grid_row": null,
            "grid_template_areas": null,
            "grid_template_columns": null,
            "grid_template_rows": null,
            "height": null,
            "justify_content": null,
            "justify_items": null,
            "left": null,
            "margin": null,
            "max_height": null,
            "max_width": null,
            "min_height": null,
            "min_width": null,
            "object_fit": null,
            "object_position": null,
            "order": null,
            "overflow": null,
            "overflow_x": null,
            "overflow_y": null,
            "padding": null,
            "right": null,
            "top": null,
            "visibility": null,
            "width": null
          }
        },
        "e954349068874f2b96e85cda41bc0dac": {
          "model_module": "@jupyter-widgets/base",
          "model_name": "LayoutModel",
          "model_module_version": "1.2.0",
          "state": {
            "_model_module": "@jupyter-widgets/base",
            "_model_module_version": "1.2.0",
            "_model_name": "LayoutModel",
            "_view_count": null,
            "_view_module": "@jupyter-widgets/base",
            "_view_module_version": "1.2.0",
            "_view_name": "LayoutView",
            "align_content": null,
            "align_items": null,
            "align_self": null,
            "border": null,
            "bottom": null,
            "display": null,
            "flex": null,
            "flex_flow": null,
            "grid_area": null,
            "grid_auto_columns": null,
            "grid_auto_flow": null,
            "grid_auto_rows": null,
            "grid_column": null,
            "grid_gap": null,
            "grid_row": null,
            "grid_template_areas": null,
            "grid_template_columns": null,
            "grid_template_rows": null,
            "height": null,
            "justify_content": null,
            "justify_items": null,
            "left": null,
            "margin": null,
            "max_height": null,
            "max_width": null,
            "min_height": null,
            "min_width": null,
            "object_fit": null,
            "object_position": null,
            "order": null,
            "overflow": null,
            "overflow_x": null,
            "overflow_y": null,
            "padding": null,
            "right": null,
            "top": null,
            "visibility": null,
            "width": null
          }
        },
        "035f7b5b0a9f47bebe6cc0118be1e7ea": {
          "model_module": "@jupyter-widgets/controls",
          "model_name": "DescriptionStyleModel",
          "model_module_version": "1.5.0",
          "state": {
            "_model_module": "@jupyter-widgets/controls",
            "_model_module_version": "1.5.0",
            "_model_name": "DescriptionStyleModel",
            "_view_count": null,
            "_view_module": "@jupyter-widgets/base",
            "_view_module_version": "1.2.0",
            "_view_name": "StyleView",
            "description_width": ""
          }
        },
        "cf7ae2257c234064a6548d2343bd4129": {
          "model_module": "@jupyter-widgets/base",
          "model_name": "LayoutModel",
          "model_module_version": "1.2.0",
          "state": {
            "_model_module": "@jupyter-widgets/base",
            "_model_module_version": "1.2.0",
            "_model_name": "LayoutModel",
            "_view_count": null,
            "_view_module": "@jupyter-widgets/base",
            "_view_module_version": "1.2.0",
            "_view_name": "LayoutView",
            "align_content": null,
            "align_items": null,
            "align_self": null,
            "border": null,
            "bottom": null,
            "display": null,
            "flex": null,
            "flex_flow": null,
            "grid_area": null,
            "grid_auto_columns": null,
            "grid_auto_flow": null,
            "grid_auto_rows": null,
            "grid_column": null,
            "grid_gap": null,
            "grid_row": null,
            "grid_template_areas": null,
            "grid_template_columns": null,
            "grid_template_rows": null,
            "height": null,
            "justify_content": null,
            "justify_items": null,
            "left": null,
            "margin": null,
            "max_height": null,
            "max_width": null,
            "min_height": null,
            "min_width": null,
            "object_fit": null,
            "object_position": null,
            "order": null,
            "overflow": null,
            "overflow_x": null,
            "overflow_y": null,
            "padding": null,
            "right": null,
            "top": null,
            "visibility": null,
            "width": null
          }
        },
        "dca57995a21e4bceb099b06bbb8f9f5e": {
          "model_module": "@jupyter-widgets/controls",
          "model_name": "ProgressStyleModel",
          "model_module_version": "1.5.0",
          "state": {
            "_model_module": "@jupyter-widgets/controls",
            "_model_module_version": "1.5.0",
            "_model_name": "ProgressStyleModel",
            "_view_count": null,
            "_view_module": "@jupyter-widgets/base",
            "_view_module_version": "1.2.0",
            "_view_name": "StyleView",
            "bar_color": null,
            "description_width": ""
          }
        },
        "9b5525776d3841cb84bfa7202009964f": {
          "model_module": "@jupyter-widgets/base",
          "model_name": "LayoutModel",
          "model_module_version": "1.2.0",
          "state": {
            "_model_module": "@jupyter-widgets/base",
            "_model_module_version": "1.2.0",
            "_model_name": "LayoutModel",
            "_view_count": null,
            "_view_module": "@jupyter-widgets/base",
            "_view_module_version": "1.2.0",
            "_view_name": "LayoutView",
            "align_content": null,
            "align_items": null,
            "align_self": null,
            "border": null,
            "bottom": null,
            "display": null,
            "flex": null,
            "flex_flow": null,
            "grid_area": null,
            "grid_auto_columns": null,
            "grid_auto_flow": null,
            "grid_auto_rows": null,
            "grid_column": null,
            "grid_gap": null,
            "grid_row": null,
            "grid_template_areas": null,
            "grid_template_columns": null,
            "grid_template_rows": null,
            "height": null,
            "justify_content": null,
            "justify_items": null,
            "left": null,
            "margin": null,
            "max_height": null,
            "max_width": null,
            "min_height": null,
            "min_width": null,
            "object_fit": null,
            "object_position": null,
            "order": null,
            "overflow": null,
            "overflow_x": null,
            "overflow_y": null,
            "padding": null,
            "right": null,
            "top": null,
            "visibility": null,
            "width": null
          }
        },
        "d0b1f40f65e149df846f1d8478e9beb2": {
          "model_module": "@jupyter-widgets/controls",
          "model_name": "DescriptionStyleModel",
          "model_module_version": "1.5.0",
          "state": {
            "_model_module": "@jupyter-widgets/controls",
            "_model_module_version": "1.5.0",
            "_model_name": "DescriptionStyleModel",
            "_view_count": null,
            "_view_module": "@jupyter-widgets/base",
            "_view_module_version": "1.2.0",
            "_view_name": "StyleView",
            "description_width": ""
          }
        },
        "f68f19ea12e24edb81be684b3065249e": {
          "model_module": "@jupyter-widgets/controls",
          "model_name": "HBoxModel",
          "model_module_version": "1.5.0",
          "state": {
            "_dom_classes": [],
            "_model_module": "@jupyter-widgets/controls",
            "_model_module_version": "1.5.0",
            "_model_name": "HBoxModel",
            "_view_count": null,
            "_view_module": "@jupyter-widgets/controls",
            "_view_module_version": "1.5.0",
            "_view_name": "HBoxView",
            "box_style": "",
            "children": [
              "IPY_MODEL_e653ce28db354f44860ce720a739efdf",
              "IPY_MODEL_55d882bdd9b3485197cc86b90c5f1b52",
              "IPY_MODEL_1d1ed3d2c86c480fb5642610684493b6"
            ],
            "layout": "IPY_MODEL_ebe2a4a38ce54d9db9ada1601d295126"
          }
        },
        "e653ce28db354f44860ce720a739efdf": {
          "model_module": "@jupyter-widgets/controls",
          "model_name": "HTMLModel",
          "model_module_version": "1.5.0",
          "state": {
            "_dom_classes": [],
            "_model_module": "@jupyter-widgets/controls",
            "_model_module_version": "1.5.0",
            "_model_name": "HTMLModel",
            "_view_count": null,
            "_view_module": "@jupyter-widgets/controls",
            "_view_module_version": "1.5.0",
            "_view_name": "HTMLView",
            "description": "",
            "description_tooltip": null,
            "layout": "IPY_MODEL_9395520bd769467c9168089039343118",
            "placeholder": "​",
            "style": "IPY_MODEL_73e0352d0b824da48cf2a9819b23ded0",
            "value": "100%"
          }
        },
        "55d882bdd9b3485197cc86b90c5f1b52": {
          "model_module": "@jupyter-widgets/controls",
          "model_name": "FloatProgressModel",
          "model_module_version": "1.5.0",
          "state": {
            "_dom_classes": [],
            "_model_module": "@jupyter-widgets/controls",
            "_model_module_version": "1.5.0",
            "_model_name": "FloatProgressModel",
            "_view_count": null,
            "_view_module": "@jupyter-widgets/controls",
            "_view_module_version": "1.5.0",
            "_view_name": "ProgressView",
            "bar_style": "success",
            "description": "",
            "description_tooltip": null,
            "layout": "IPY_MODEL_a62f3663cb8143a2abb131f89b0adc9a",
            "max": 4554,
            "min": 0,
            "orientation": "horizontal",
            "style": "IPY_MODEL_f010c27192814fa48ef272d7aa3c37a0",
            "value": 4554
          }
        },
        "1d1ed3d2c86c480fb5642610684493b6": {
          "model_module": "@jupyter-widgets/controls",
          "model_name": "HTMLModel",
          "model_module_version": "1.5.0",
          "state": {
            "_dom_classes": [],
            "_model_module": "@jupyter-widgets/controls",
            "_model_module_version": "1.5.0",
            "_model_name": "HTMLModel",
            "_view_count": null,
            "_view_module": "@jupyter-widgets/controls",
            "_view_module_version": "1.5.0",
            "_view_name": "HTMLView",
            "description": "",
            "description_tooltip": null,
            "layout": "IPY_MODEL_3228c968f98643cfb1544f8d1c6a455d",
            "placeholder": "​",
            "style": "IPY_MODEL_3bb7d88e8d9741949a20a93cc43f06d6",
            "value": " 4554/4554 [39:21&lt;00:00,  1.90it/s]"
          }
        },
        "ebe2a4a38ce54d9db9ada1601d295126": {
          "model_module": "@jupyter-widgets/base",
          "model_name": "LayoutModel",
          "model_module_version": "1.2.0",
          "state": {
            "_model_module": "@jupyter-widgets/base",
            "_model_module_version": "1.2.0",
            "_model_name": "LayoutModel",
            "_view_count": null,
            "_view_module": "@jupyter-widgets/base",
            "_view_module_version": "1.2.0",
            "_view_name": "LayoutView",
            "align_content": null,
            "align_items": null,
            "align_self": null,
            "border": null,
            "bottom": null,
            "display": null,
            "flex": null,
            "flex_flow": null,
            "grid_area": null,
            "grid_auto_columns": null,
            "grid_auto_flow": null,
            "grid_auto_rows": null,
            "grid_column": null,
            "grid_gap": null,
            "grid_row": null,
            "grid_template_areas": null,
            "grid_template_columns": null,
            "grid_template_rows": null,
            "height": null,
            "justify_content": null,
            "justify_items": null,
            "left": null,
            "margin": null,
            "max_height": null,
            "max_width": null,
            "min_height": null,
            "min_width": null,
            "object_fit": null,
            "object_position": null,
            "order": null,
            "overflow": null,
            "overflow_x": null,
            "overflow_y": null,
            "padding": null,
            "right": null,
            "top": null,
            "visibility": null,
            "width": null
          }
        },
        "9395520bd769467c9168089039343118": {
          "model_module": "@jupyter-widgets/base",
          "model_name": "LayoutModel",
          "model_module_version": "1.2.0",
          "state": {
            "_model_module": "@jupyter-widgets/base",
            "_model_module_version": "1.2.0",
            "_model_name": "LayoutModel",
            "_view_count": null,
            "_view_module": "@jupyter-widgets/base",
            "_view_module_version": "1.2.0",
            "_view_name": "LayoutView",
            "align_content": null,
            "align_items": null,
            "align_self": null,
            "border": null,
            "bottom": null,
            "display": null,
            "flex": null,
            "flex_flow": null,
            "grid_area": null,
            "grid_auto_columns": null,
            "grid_auto_flow": null,
            "grid_auto_rows": null,
            "grid_column": null,
            "grid_gap": null,
            "grid_row": null,
            "grid_template_areas": null,
            "grid_template_columns": null,
            "grid_template_rows": null,
            "height": null,
            "justify_content": null,
            "justify_items": null,
            "left": null,
            "margin": null,
            "max_height": null,
            "max_width": null,
            "min_height": null,
            "min_width": null,
            "object_fit": null,
            "object_position": null,
            "order": null,
            "overflow": null,
            "overflow_x": null,
            "overflow_y": null,
            "padding": null,
            "right": null,
            "top": null,
            "visibility": null,
            "width": null
          }
        },
        "73e0352d0b824da48cf2a9819b23ded0": {
          "model_module": "@jupyter-widgets/controls",
          "model_name": "DescriptionStyleModel",
          "model_module_version": "1.5.0",
          "state": {
            "_model_module": "@jupyter-widgets/controls",
            "_model_module_version": "1.5.0",
            "_model_name": "DescriptionStyleModel",
            "_view_count": null,
            "_view_module": "@jupyter-widgets/base",
            "_view_module_version": "1.2.0",
            "_view_name": "StyleView",
            "description_width": ""
          }
        },
        "a62f3663cb8143a2abb131f89b0adc9a": {
          "model_module": "@jupyter-widgets/base",
          "model_name": "LayoutModel",
          "model_module_version": "1.2.0",
          "state": {
            "_model_module": "@jupyter-widgets/base",
            "_model_module_version": "1.2.0",
            "_model_name": "LayoutModel",
            "_view_count": null,
            "_view_module": "@jupyter-widgets/base",
            "_view_module_version": "1.2.0",
            "_view_name": "LayoutView",
            "align_content": null,
            "align_items": null,
            "align_self": null,
            "border": null,
            "bottom": null,
            "display": null,
            "flex": null,
            "flex_flow": null,
            "grid_area": null,
            "grid_auto_columns": null,
            "grid_auto_flow": null,
            "grid_auto_rows": null,
            "grid_column": null,
            "grid_gap": null,
            "grid_row": null,
            "grid_template_areas": null,
            "grid_template_columns": null,
            "grid_template_rows": null,
            "height": null,
            "justify_content": null,
            "justify_items": null,
            "left": null,
            "margin": null,
            "max_height": null,
            "max_width": null,
            "min_height": null,
            "min_width": null,
            "object_fit": null,
            "object_position": null,
            "order": null,
            "overflow": null,
            "overflow_x": null,
            "overflow_y": null,
            "padding": null,
            "right": null,
            "top": null,
            "visibility": null,
            "width": null
          }
        },
        "f010c27192814fa48ef272d7aa3c37a0": {
          "model_module": "@jupyter-widgets/controls",
          "model_name": "ProgressStyleModel",
          "model_module_version": "1.5.0",
          "state": {
            "_model_module": "@jupyter-widgets/controls",
            "_model_module_version": "1.5.0",
            "_model_name": "ProgressStyleModel",
            "_view_count": null,
            "_view_module": "@jupyter-widgets/base",
            "_view_module_version": "1.2.0",
            "_view_name": "StyleView",
            "bar_color": null,
            "description_width": ""
          }
        },
        "3228c968f98643cfb1544f8d1c6a455d": {
          "model_module": "@jupyter-widgets/base",
          "model_name": "LayoutModel",
          "model_module_version": "1.2.0",
          "state": {
            "_model_module": "@jupyter-widgets/base",
            "_model_module_version": "1.2.0",
            "_model_name": "LayoutModel",
            "_view_count": null,
            "_view_module": "@jupyter-widgets/base",
            "_view_module_version": "1.2.0",
            "_view_name": "LayoutView",
            "align_content": null,
            "align_items": null,
            "align_self": null,
            "border": null,
            "bottom": null,
            "display": null,
            "flex": null,
            "flex_flow": null,
            "grid_area": null,
            "grid_auto_columns": null,
            "grid_auto_flow": null,
            "grid_auto_rows": null,
            "grid_column": null,
            "grid_gap": null,
            "grid_row": null,
            "grid_template_areas": null,
            "grid_template_columns": null,
            "grid_template_rows": null,
            "height": null,
            "justify_content": null,
            "justify_items": null,
            "left": null,
            "margin": null,
            "max_height": null,
            "max_width": null,
            "min_height": null,
            "min_width": null,
            "object_fit": null,
            "object_position": null,
            "order": null,
            "overflow": null,
            "overflow_x": null,
            "overflow_y": null,
            "padding": null,
            "right": null,
            "top": null,
            "visibility": null,
            "width": null
          }
        },
        "3bb7d88e8d9741949a20a93cc43f06d6": {
          "model_module": "@jupyter-widgets/controls",
          "model_name": "DescriptionStyleModel",
          "model_module_version": "1.5.0",
          "state": {
            "_model_module": "@jupyter-widgets/controls",
            "_model_module_version": "1.5.0",
            "_model_name": "DescriptionStyleModel",
            "_view_count": null,
            "_view_module": "@jupyter-widgets/base",
            "_view_module_version": "1.2.0",
            "_view_name": "StyleView",
            "description_width": ""
          }
        },
        "f19e2a608c5f4cee9a0b30e8a7085674": {
          "model_module": "@jupyter-widgets/controls",
          "model_name": "HBoxModel",
          "model_module_version": "1.5.0",
          "state": {
            "_dom_classes": [],
            "_model_module": "@jupyter-widgets/controls",
            "_model_module_version": "1.5.0",
            "_model_name": "HBoxModel",
            "_view_count": null,
            "_view_module": "@jupyter-widgets/controls",
            "_view_module_version": "1.5.0",
            "_view_name": "HBoxView",
            "box_style": "",
            "children": [
              "IPY_MODEL_1d72190ac7554a8b80146c5936e100b4",
              "IPY_MODEL_f58af15e572f4352952186983d8bc229",
              "IPY_MODEL_8a1502d5efdb452f90849560a8f1db0d"
            ],
            "layout": "IPY_MODEL_0b14acd1abf44934943b6f084aa2eca8"
          }
        },
        "1d72190ac7554a8b80146c5936e100b4": {
          "model_module": "@jupyter-widgets/controls",
          "model_name": "HTMLModel",
          "model_module_version": "1.5.0",
          "state": {
            "_dom_classes": [],
            "_model_module": "@jupyter-widgets/controls",
            "_model_module_version": "1.5.0",
            "_model_name": "HTMLModel",
            "_view_count": null,
            "_view_module": "@jupyter-widgets/controls",
            "_view_module_version": "1.5.0",
            "_view_name": "HTMLView",
            "description": "",
            "description_tooltip": null,
            "layout": "IPY_MODEL_303b3ecb08b742ed9088a41312721044",
            "placeholder": "​",
            "style": "IPY_MODEL_a25f41a88c894a03b95a81b7158f3678",
            "value": "100%"
          }
        },
        "f58af15e572f4352952186983d8bc229": {
          "model_module": "@jupyter-widgets/controls",
          "model_name": "FloatProgressModel",
          "model_module_version": "1.5.0",
          "state": {
            "_dom_classes": [],
            "_model_module": "@jupyter-widgets/controls",
            "_model_module_version": "1.5.0",
            "_model_name": "FloatProgressModel",
            "_view_count": null,
            "_view_module": "@jupyter-widgets/controls",
            "_view_module_version": "1.5.0",
            "_view_name": "ProgressView",
            "bar_style": "success",
            "description": "",
            "description_tooltip": null,
            "layout": "IPY_MODEL_aeef655ef9da413ea286c0e84a76dc8d",
            "max": 4554,
            "min": 0,
            "orientation": "horizontal",
            "style": "IPY_MODEL_e324d2ad87ba42649ca5d20bea8be019",
            "value": 4554
          }
        },
        "8a1502d5efdb452f90849560a8f1db0d": {
          "model_module": "@jupyter-widgets/controls",
          "model_name": "HTMLModel",
          "model_module_version": "1.5.0",
          "state": {
            "_dom_classes": [],
            "_model_module": "@jupyter-widgets/controls",
            "_model_module_version": "1.5.0",
            "_model_name": "HTMLModel",
            "_view_count": null,
            "_view_module": "@jupyter-widgets/controls",
            "_view_module_version": "1.5.0",
            "_view_name": "HTMLView",
            "description": "",
            "description_tooltip": null,
            "layout": "IPY_MODEL_07d7b093c19a43b8826f53deb001e968",
            "placeholder": "​",
            "style": "IPY_MODEL_92f83dc501114fa7b74e6936f22def23",
            "value": " 4554/4554 [57:14&lt;00:00,  1.32it/s]"
          }
        },
        "0b14acd1abf44934943b6f084aa2eca8": {
          "model_module": "@jupyter-widgets/base",
          "model_name": "LayoutModel",
          "model_module_version": "1.2.0",
          "state": {
            "_model_module": "@jupyter-widgets/base",
            "_model_module_version": "1.2.0",
            "_model_name": "LayoutModel",
            "_view_count": null,
            "_view_module": "@jupyter-widgets/base",
            "_view_module_version": "1.2.0",
            "_view_name": "LayoutView",
            "align_content": null,
            "align_items": null,
            "align_self": null,
            "border": null,
            "bottom": null,
            "display": null,
            "flex": null,
            "flex_flow": null,
            "grid_area": null,
            "grid_auto_columns": null,
            "grid_auto_flow": null,
            "grid_auto_rows": null,
            "grid_column": null,
            "grid_gap": null,
            "grid_row": null,
            "grid_template_areas": null,
            "grid_template_columns": null,
            "grid_template_rows": null,
            "height": null,
            "justify_content": null,
            "justify_items": null,
            "left": null,
            "margin": null,
            "max_height": null,
            "max_width": null,
            "min_height": null,
            "min_width": null,
            "object_fit": null,
            "object_position": null,
            "order": null,
            "overflow": null,
            "overflow_x": null,
            "overflow_y": null,
            "padding": null,
            "right": null,
            "top": null,
            "visibility": null,
            "width": null
          }
        },
        "303b3ecb08b742ed9088a41312721044": {
          "model_module": "@jupyter-widgets/base",
          "model_name": "LayoutModel",
          "model_module_version": "1.2.0",
          "state": {
            "_model_module": "@jupyter-widgets/base",
            "_model_module_version": "1.2.0",
            "_model_name": "LayoutModel",
            "_view_count": null,
            "_view_module": "@jupyter-widgets/base",
            "_view_module_version": "1.2.0",
            "_view_name": "LayoutView",
            "align_content": null,
            "align_items": null,
            "align_self": null,
            "border": null,
            "bottom": null,
            "display": null,
            "flex": null,
            "flex_flow": null,
            "grid_area": null,
            "grid_auto_columns": null,
            "grid_auto_flow": null,
            "grid_auto_rows": null,
            "grid_column": null,
            "grid_gap": null,
            "grid_row": null,
            "grid_template_areas": null,
            "grid_template_columns": null,
            "grid_template_rows": null,
            "height": null,
            "justify_content": null,
            "justify_items": null,
            "left": null,
            "margin": null,
            "max_height": null,
            "max_width": null,
            "min_height": null,
            "min_width": null,
            "object_fit": null,
            "object_position": null,
            "order": null,
            "overflow": null,
            "overflow_x": null,
            "overflow_y": null,
            "padding": null,
            "right": null,
            "top": null,
            "visibility": null,
            "width": null
          }
        },
        "a25f41a88c894a03b95a81b7158f3678": {
          "model_module": "@jupyter-widgets/controls",
          "model_name": "DescriptionStyleModel",
          "model_module_version": "1.5.0",
          "state": {
            "_model_module": "@jupyter-widgets/controls",
            "_model_module_version": "1.5.0",
            "_model_name": "DescriptionStyleModel",
            "_view_count": null,
            "_view_module": "@jupyter-widgets/base",
            "_view_module_version": "1.2.0",
            "_view_name": "StyleView",
            "description_width": ""
          }
        },
        "aeef655ef9da413ea286c0e84a76dc8d": {
          "model_module": "@jupyter-widgets/base",
          "model_name": "LayoutModel",
          "model_module_version": "1.2.0",
          "state": {
            "_model_module": "@jupyter-widgets/base",
            "_model_module_version": "1.2.0",
            "_model_name": "LayoutModel",
            "_view_count": null,
            "_view_module": "@jupyter-widgets/base",
            "_view_module_version": "1.2.0",
            "_view_name": "LayoutView",
            "align_content": null,
            "align_items": null,
            "align_self": null,
            "border": null,
            "bottom": null,
            "display": null,
            "flex": null,
            "flex_flow": null,
            "grid_area": null,
            "grid_auto_columns": null,
            "grid_auto_flow": null,
            "grid_auto_rows": null,
            "grid_column": null,
            "grid_gap": null,
            "grid_row": null,
            "grid_template_areas": null,
            "grid_template_columns": null,
            "grid_template_rows": null,
            "height": null,
            "justify_content": null,
            "justify_items": null,
            "left": null,
            "margin": null,
            "max_height": null,
            "max_width": null,
            "min_height": null,
            "min_width": null,
            "object_fit": null,
            "object_position": null,
            "order": null,
            "overflow": null,
            "overflow_x": null,
            "overflow_y": null,
            "padding": null,
            "right": null,
            "top": null,
            "visibility": null,
            "width": null
          }
        },
        "e324d2ad87ba42649ca5d20bea8be019": {
          "model_module": "@jupyter-widgets/controls",
          "model_name": "ProgressStyleModel",
          "model_module_version": "1.5.0",
          "state": {
            "_model_module": "@jupyter-widgets/controls",
            "_model_module_version": "1.5.0",
            "_model_name": "ProgressStyleModel",
            "_view_count": null,
            "_view_module": "@jupyter-widgets/base",
            "_view_module_version": "1.2.0",
            "_view_name": "StyleView",
            "bar_color": null,
            "description_width": ""
          }
        },
        "07d7b093c19a43b8826f53deb001e968": {
          "model_module": "@jupyter-widgets/base",
          "model_name": "LayoutModel",
          "model_module_version": "1.2.0",
          "state": {
            "_model_module": "@jupyter-widgets/base",
            "_model_module_version": "1.2.0",
            "_model_name": "LayoutModel",
            "_view_count": null,
            "_view_module": "@jupyter-widgets/base",
            "_view_module_version": "1.2.0",
            "_view_name": "LayoutView",
            "align_content": null,
            "align_items": null,
            "align_self": null,
            "border": null,
            "bottom": null,
            "display": null,
            "flex": null,
            "flex_flow": null,
            "grid_area": null,
            "grid_auto_columns": null,
            "grid_auto_flow": null,
            "grid_auto_rows": null,
            "grid_column": null,
            "grid_gap": null,
            "grid_row": null,
            "grid_template_areas": null,
            "grid_template_columns": null,
            "grid_template_rows": null,
            "height": null,
            "justify_content": null,
            "justify_items": null,
            "left": null,
            "margin": null,
            "max_height": null,
            "max_width": null,
            "min_height": null,
            "min_width": null,
            "object_fit": null,
            "object_position": null,
            "order": null,
            "overflow": null,
            "overflow_x": null,
            "overflow_y": null,
            "padding": null,
            "right": null,
            "top": null,
            "visibility": null,
            "width": null
          }
        },
        "92f83dc501114fa7b74e6936f22def23": {
          "model_module": "@jupyter-widgets/controls",
          "model_name": "DescriptionStyleModel",
          "model_module_version": "1.5.0",
          "state": {
            "_model_module": "@jupyter-widgets/controls",
            "_model_module_version": "1.5.0",
            "_model_name": "DescriptionStyleModel",
            "_view_count": null,
            "_view_module": "@jupyter-widgets/base",
            "_view_module_version": "1.2.0",
            "_view_name": "StyleView",
            "description_width": ""
          }
        },
        "1fcb0dcb93154893963d88b1be88ee2b": {
          "model_module": "@jupyter-widgets/controls",
          "model_name": "HBoxModel",
          "model_module_version": "1.5.0",
          "state": {
            "_dom_classes": [],
            "_model_module": "@jupyter-widgets/controls",
            "_model_module_version": "1.5.0",
            "_model_name": "HBoxModel",
            "_view_count": null,
            "_view_module": "@jupyter-widgets/controls",
            "_view_module_version": "1.5.0",
            "_view_name": "HBoxView",
            "box_style": "",
            "children": [
              "IPY_MODEL_0b93bcb18986431fbbd0714388acfd68",
              "IPY_MODEL_e150419c12de4e5c9750d0bae4e057a3",
              "IPY_MODEL_cdd00820713b40679ab9a30bb5ef8df1"
            ],
            "layout": "IPY_MODEL_2d31130cb5fe420aa22bd2ce0eac6f97"
          }
        },
        "0b93bcb18986431fbbd0714388acfd68": {
          "model_module": "@jupyter-widgets/controls",
          "model_name": "HTMLModel",
          "model_module_version": "1.5.0",
          "state": {
            "_dom_classes": [],
            "_model_module": "@jupyter-widgets/controls",
            "_model_module_version": "1.5.0",
            "_model_name": "HTMLModel",
            "_view_count": null,
            "_view_module": "@jupyter-widgets/controls",
            "_view_module_version": "1.5.0",
            "_view_name": "HTMLView",
            "description": "",
            "description_tooltip": null,
            "layout": "IPY_MODEL_32aa53c3db8b4e4c8a0d14b0eb4aba6d",
            "placeholder": "​",
            "style": "IPY_MODEL_baf93ff3d1654132a84c82c8283df9b7",
            "value": "100%"
          }
        },
        "e150419c12de4e5c9750d0bae4e057a3": {
          "model_module": "@jupyter-widgets/controls",
          "model_name": "FloatProgressModel",
          "model_module_version": "1.5.0",
          "state": {
            "_dom_classes": [],
            "_model_module": "@jupyter-widgets/controls",
            "_model_module_version": "1.5.0",
            "_model_name": "FloatProgressModel",
            "_view_count": null,
            "_view_module": "@jupyter-widgets/controls",
            "_view_module_version": "1.5.0",
            "_view_name": "ProgressView",
            "bar_style": "success",
            "description": "",
            "description_tooltip": null,
            "layout": "IPY_MODEL_22ef8d3a91be4e019ce727688231e496",
            "max": 4554,
            "min": 0,
            "orientation": "horizontal",
            "style": "IPY_MODEL_a427d58f60444917bcb06db6169411ee",
            "value": 4554
          }
        },
        "cdd00820713b40679ab9a30bb5ef8df1": {
          "model_module": "@jupyter-widgets/controls",
          "model_name": "HTMLModel",
          "model_module_version": "1.5.0",
          "state": {
            "_dom_classes": [],
            "_model_module": "@jupyter-widgets/controls",
            "_model_module_version": "1.5.0",
            "_model_name": "HTMLModel",
            "_view_count": null,
            "_view_module": "@jupyter-widgets/controls",
            "_view_module_version": "1.5.0",
            "_view_name": "HTMLView",
            "description": "",
            "description_tooltip": null,
            "layout": "IPY_MODEL_f80f7a83a537483387b5911f0b6d5af5",
            "placeholder": "​",
            "style": "IPY_MODEL_9a46f402f82e4decb80cd2a6e91c47d9",
            "value": " 4554/4554 [57:17&lt;00:00,  1.17it/s]"
          }
        },
        "2d31130cb5fe420aa22bd2ce0eac6f97": {
          "model_module": "@jupyter-widgets/base",
          "model_name": "LayoutModel",
          "model_module_version": "1.2.0",
          "state": {
            "_model_module": "@jupyter-widgets/base",
            "_model_module_version": "1.2.0",
            "_model_name": "LayoutModel",
            "_view_count": null,
            "_view_module": "@jupyter-widgets/base",
            "_view_module_version": "1.2.0",
            "_view_name": "LayoutView",
            "align_content": null,
            "align_items": null,
            "align_self": null,
            "border": null,
            "bottom": null,
            "display": null,
            "flex": null,
            "flex_flow": null,
            "grid_area": null,
            "grid_auto_columns": null,
            "grid_auto_flow": null,
            "grid_auto_rows": null,
            "grid_column": null,
            "grid_gap": null,
            "grid_row": null,
            "grid_template_areas": null,
            "grid_template_columns": null,
            "grid_template_rows": null,
            "height": null,
            "justify_content": null,
            "justify_items": null,
            "left": null,
            "margin": null,
            "max_height": null,
            "max_width": null,
            "min_height": null,
            "min_width": null,
            "object_fit": null,
            "object_position": null,
            "order": null,
            "overflow": null,
            "overflow_x": null,
            "overflow_y": null,
            "padding": null,
            "right": null,
            "top": null,
            "visibility": null,
            "width": null
          }
        },
        "32aa53c3db8b4e4c8a0d14b0eb4aba6d": {
          "model_module": "@jupyter-widgets/base",
          "model_name": "LayoutModel",
          "model_module_version": "1.2.0",
          "state": {
            "_model_module": "@jupyter-widgets/base",
            "_model_module_version": "1.2.0",
            "_model_name": "LayoutModel",
            "_view_count": null,
            "_view_module": "@jupyter-widgets/base",
            "_view_module_version": "1.2.0",
            "_view_name": "LayoutView",
            "align_content": null,
            "align_items": null,
            "align_self": null,
            "border": null,
            "bottom": null,
            "display": null,
            "flex": null,
            "flex_flow": null,
            "grid_area": null,
            "grid_auto_columns": null,
            "grid_auto_flow": null,
            "grid_auto_rows": null,
            "grid_column": null,
            "grid_gap": null,
            "grid_row": null,
            "grid_template_areas": null,
            "grid_template_columns": null,
            "grid_template_rows": null,
            "height": null,
            "justify_content": null,
            "justify_items": null,
            "left": null,
            "margin": null,
            "max_height": null,
            "max_width": null,
            "min_height": null,
            "min_width": null,
            "object_fit": null,
            "object_position": null,
            "order": null,
            "overflow": null,
            "overflow_x": null,
            "overflow_y": null,
            "padding": null,
            "right": null,
            "top": null,
            "visibility": null,
            "width": null
          }
        },
        "baf93ff3d1654132a84c82c8283df9b7": {
          "model_module": "@jupyter-widgets/controls",
          "model_name": "DescriptionStyleModel",
          "model_module_version": "1.5.0",
          "state": {
            "_model_module": "@jupyter-widgets/controls",
            "_model_module_version": "1.5.0",
            "_model_name": "DescriptionStyleModel",
            "_view_count": null,
            "_view_module": "@jupyter-widgets/base",
            "_view_module_version": "1.2.0",
            "_view_name": "StyleView",
            "description_width": ""
          }
        },
        "22ef8d3a91be4e019ce727688231e496": {
          "model_module": "@jupyter-widgets/base",
          "model_name": "LayoutModel",
          "model_module_version": "1.2.0",
          "state": {
            "_model_module": "@jupyter-widgets/base",
            "_model_module_version": "1.2.0",
            "_model_name": "LayoutModel",
            "_view_count": null,
            "_view_module": "@jupyter-widgets/base",
            "_view_module_version": "1.2.0",
            "_view_name": "LayoutView",
            "align_content": null,
            "align_items": null,
            "align_self": null,
            "border": null,
            "bottom": null,
            "display": null,
            "flex": null,
            "flex_flow": null,
            "grid_area": null,
            "grid_auto_columns": null,
            "grid_auto_flow": null,
            "grid_auto_rows": null,
            "grid_column": null,
            "grid_gap": null,
            "grid_row": null,
            "grid_template_areas": null,
            "grid_template_columns": null,
            "grid_template_rows": null,
            "height": null,
            "justify_content": null,
            "justify_items": null,
            "left": null,
            "margin": null,
            "max_height": null,
            "max_width": null,
            "min_height": null,
            "min_width": null,
            "object_fit": null,
            "object_position": null,
            "order": null,
            "overflow": null,
            "overflow_x": null,
            "overflow_y": null,
            "padding": null,
            "right": null,
            "top": null,
            "visibility": null,
            "width": null
          }
        },
        "a427d58f60444917bcb06db6169411ee": {
          "model_module": "@jupyter-widgets/controls",
          "model_name": "ProgressStyleModel",
          "model_module_version": "1.5.0",
          "state": {
            "_model_module": "@jupyter-widgets/controls",
            "_model_module_version": "1.5.0",
            "_model_name": "ProgressStyleModel",
            "_view_count": null,
            "_view_module": "@jupyter-widgets/base",
            "_view_module_version": "1.2.0",
            "_view_name": "StyleView",
            "bar_color": null,
            "description_width": ""
          }
        },
        "f80f7a83a537483387b5911f0b6d5af5": {
          "model_module": "@jupyter-widgets/base",
          "model_name": "LayoutModel",
          "model_module_version": "1.2.0",
          "state": {
            "_model_module": "@jupyter-widgets/base",
            "_model_module_version": "1.2.0",
            "_model_name": "LayoutModel",
            "_view_count": null,
            "_view_module": "@jupyter-widgets/base",
            "_view_module_version": "1.2.0",
            "_view_name": "LayoutView",
            "align_content": null,
            "align_items": null,
            "align_self": null,
            "border": null,
            "bottom": null,
            "display": null,
            "flex": null,
            "flex_flow": null,
            "grid_area": null,
            "grid_auto_columns": null,
            "grid_auto_flow": null,
            "grid_auto_rows": null,
            "grid_column": null,
            "grid_gap": null,
            "grid_row": null,
            "grid_template_areas": null,
            "grid_template_columns": null,
            "grid_template_rows": null,
            "height": null,
            "justify_content": null,
            "justify_items": null,
            "left": null,
            "margin": null,
            "max_height": null,
            "max_width": null,
            "min_height": null,
            "min_width": null,
            "object_fit": null,
            "object_position": null,
            "order": null,
            "overflow": null,
            "overflow_x": null,
            "overflow_y": null,
            "padding": null,
            "right": null,
            "top": null,
            "visibility": null,
            "width": null
          }
        },
        "9a46f402f82e4decb80cd2a6e91c47d9": {
          "model_module": "@jupyter-widgets/controls",
          "model_name": "DescriptionStyleModel",
          "model_module_version": "1.5.0",
          "state": {
            "_model_module": "@jupyter-widgets/controls",
            "_model_module_version": "1.5.0",
            "_model_name": "DescriptionStyleModel",
            "_view_count": null,
            "_view_module": "@jupyter-widgets/base",
            "_view_module_version": "1.2.0",
            "_view_name": "StyleView",
            "description_width": ""
          }
        },
        "12e88b98855e4f928e0cdc924dde0531": {
          "model_module": "@jupyter-widgets/controls",
          "model_name": "HBoxModel",
          "model_module_version": "1.5.0",
          "state": {
            "_dom_classes": [],
            "_model_module": "@jupyter-widgets/controls",
            "_model_module_version": "1.5.0",
            "_model_name": "HBoxModel",
            "_view_count": null,
            "_view_module": "@jupyter-widgets/controls",
            "_view_module_version": "1.5.0",
            "_view_name": "HBoxView",
            "box_style": "",
            "children": [
              "IPY_MODEL_c2596f8957bf48ae9259b3eb6f031cbb",
              "IPY_MODEL_29985586eebd42bc9a545de122fd753c",
              "IPY_MODEL_92286d9716ae4fb4acf769e3c64e4a87"
            ],
            "layout": "IPY_MODEL_c09ea3062c424c1cb5563415c9c23aec"
          }
        },
        "c2596f8957bf48ae9259b3eb6f031cbb": {
          "model_module": "@jupyter-widgets/controls",
          "model_name": "HTMLModel",
          "model_module_version": "1.5.0",
          "state": {
            "_dom_classes": [],
            "_model_module": "@jupyter-widgets/controls",
            "_model_module_version": "1.5.0",
            "_model_name": "HTMLModel",
            "_view_count": null,
            "_view_module": "@jupyter-widgets/controls",
            "_view_module_version": "1.5.0",
            "_view_name": "HTMLView",
            "description": "",
            "description_tooltip": null,
            "layout": "IPY_MODEL_94b06a3f0c124d658498c3968bcc5f23",
            "placeholder": "​",
            "style": "IPY_MODEL_9c1160279504473da04344706afe5be5",
            "value": "100%"
          }
        },
        "29985586eebd42bc9a545de122fd753c": {
          "model_module": "@jupyter-widgets/controls",
          "model_name": "FloatProgressModel",
          "model_module_version": "1.5.0",
          "state": {
            "_dom_classes": [],
            "_model_module": "@jupyter-widgets/controls",
            "_model_module_version": "1.5.0",
            "_model_name": "FloatProgressModel",
            "_view_count": null,
            "_view_module": "@jupyter-widgets/controls",
            "_view_module_version": "1.5.0",
            "_view_name": "ProgressView",
            "bar_style": "success",
            "description": "",
            "description_tooltip": null,
            "layout": "IPY_MODEL_d12ef73a7c464a84a5690b21554bcc2b",
            "max": 4554,
            "min": 0,
            "orientation": "horizontal",
            "style": "IPY_MODEL_48ea6bcacbce490d8ec50d8b99f984d7",
            "value": 4554
          }
        },
        "92286d9716ae4fb4acf769e3c64e4a87": {
          "model_module": "@jupyter-widgets/controls",
          "model_name": "HTMLModel",
          "model_module_version": "1.5.0",
          "state": {
            "_dom_classes": [],
            "_model_module": "@jupyter-widgets/controls",
            "_model_module_version": "1.5.0",
            "_model_name": "HTMLModel",
            "_view_count": null,
            "_view_module": "@jupyter-widgets/controls",
            "_view_module_version": "1.5.0",
            "_view_name": "HTMLView",
            "description": "",
            "description_tooltip": null,
            "layout": "IPY_MODEL_e3c6761db5f043caa85842d86eda4b66",
            "placeholder": "​",
            "style": "IPY_MODEL_bdbef9864861424aa3270279e8b34c94",
            "value": " 4554/4554 [57:11&lt;00:00,  1.52it/s]"
          }
        },
        "c09ea3062c424c1cb5563415c9c23aec": {
          "model_module": "@jupyter-widgets/base",
          "model_name": "LayoutModel",
          "model_module_version": "1.2.0",
          "state": {
            "_model_module": "@jupyter-widgets/base",
            "_model_module_version": "1.2.0",
            "_model_name": "LayoutModel",
            "_view_count": null,
            "_view_module": "@jupyter-widgets/base",
            "_view_module_version": "1.2.0",
            "_view_name": "LayoutView",
            "align_content": null,
            "align_items": null,
            "align_self": null,
            "border": null,
            "bottom": null,
            "display": null,
            "flex": null,
            "flex_flow": null,
            "grid_area": null,
            "grid_auto_columns": null,
            "grid_auto_flow": null,
            "grid_auto_rows": null,
            "grid_column": null,
            "grid_gap": null,
            "grid_row": null,
            "grid_template_areas": null,
            "grid_template_columns": null,
            "grid_template_rows": null,
            "height": null,
            "justify_content": null,
            "justify_items": null,
            "left": null,
            "margin": null,
            "max_height": null,
            "max_width": null,
            "min_height": null,
            "min_width": null,
            "object_fit": null,
            "object_position": null,
            "order": null,
            "overflow": null,
            "overflow_x": null,
            "overflow_y": null,
            "padding": null,
            "right": null,
            "top": null,
            "visibility": null,
            "width": null
          }
        },
        "94b06a3f0c124d658498c3968bcc5f23": {
          "model_module": "@jupyter-widgets/base",
          "model_name": "LayoutModel",
          "model_module_version": "1.2.0",
          "state": {
            "_model_module": "@jupyter-widgets/base",
            "_model_module_version": "1.2.0",
            "_model_name": "LayoutModel",
            "_view_count": null,
            "_view_module": "@jupyter-widgets/base",
            "_view_module_version": "1.2.0",
            "_view_name": "LayoutView",
            "align_content": null,
            "align_items": null,
            "align_self": null,
            "border": null,
            "bottom": null,
            "display": null,
            "flex": null,
            "flex_flow": null,
            "grid_area": null,
            "grid_auto_columns": null,
            "grid_auto_flow": null,
            "grid_auto_rows": null,
            "grid_column": null,
            "grid_gap": null,
            "grid_row": null,
            "grid_template_areas": null,
            "grid_template_columns": null,
            "grid_template_rows": null,
            "height": null,
            "justify_content": null,
            "justify_items": null,
            "left": null,
            "margin": null,
            "max_height": null,
            "max_width": null,
            "min_height": null,
            "min_width": null,
            "object_fit": null,
            "object_position": null,
            "order": null,
            "overflow": null,
            "overflow_x": null,
            "overflow_y": null,
            "padding": null,
            "right": null,
            "top": null,
            "visibility": null,
            "width": null
          }
        },
        "9c1160279504473da04344706afe5be5": {
          "model_module": "@jupyter-widgets/controls",
          "model_name": "DescriptionStyleModel",
          "model_module_version": "1.5.0",
          "state": {
            "_model_module": "@jupyter-widgets/controls",
            "_model_module_version": "1.5.0",
            "_model_name": "DescriptionStyleModel",
            "_view_count": null,
            "_view_module": "@jupyter-widgets/base",
            "_view_module_version": "1.2.0",
            "_view_name": "StyleView",
            "description_width": ""
          }
        },
        "d12ef73a7c464a84a5690b21554bcc2b": {
          "model_module": "@jupyter-widgets/base",
          "model_name": "LayoutModel",
          "model_module_version": "1.2.0",
          "state": {
            "_model_module": "@jupyter-widgets/base",
            "_model_module_version": "1.2.0",
            "_model_name": "LayoutModel",
            "_view_count": null,
            "_view_module": "@jupyter-widgets/base",
            "_view_module_version": "1.2.0",
            "_view_name": "LayoutView",
            "align_content": null,
            "align_items": null,
            "align_self": null,
            "border": null,
            "bottom": null,
            "display": null,
            "flex": null,
            "flex_flow": null,
            "grid_area": null,
            "grid_auto_columns": null,
            "grid_auto_flow": null,
            "grid_auto_rows": null,
            "grid_column": null,
            "grid_gap": null,
            "grid_row": null,
            "grid_template_areas": null,
            "grid_template_columns": null,
            "grid_template_rows": null,
            "height": null,
            "justify_content": null,
            "justify_items": null,
            "left": null,
            "margin": null,
            "max_height": null,
            "max_width": null,
            "min_height": null,
            "min_width": null,
            "object_fit": null,
            "object_position": null,
            "order": null,
            "overflow": null,
            "overflow_x": null,
            "overflow_y": null,
            "padding": null,
            "right": null,
            "top": null,
            "visibility": null,
            "width": null
          }
        },
        "48ea6bcacbce490d8ec50d8b99f984d7": {
          "model_module": "@jupyter-widgets/controls",
          "model_name": "ProgressStyleModel",
          "model_module_version": "1.5.0",
          "state": {
            "_model_module": "@jupyter-widgets/controls",
            "_model_module_version": "1.5.0",
            "_model_name": "ProgressStyleModel",
            "_view_count": null,
            "_view_module": "@jupyter-widgets/base",
            "_view_module_version": "1.2.0",
            "_view_name": "StyleView",
            "bar_color": null,
            "description_width": ""
          }
        },
        "e3c6761db5f043caa85842d86eda4b66": {
          "model_module": "@jupyter-widgets/base",
          "model_name": "LayoutModel",
          "model_module_version": "1.2.0",
          "state": {
            "_model_module": "@jupyter-widgets/base",
            "_model_module_version": "1.2.0",
            "_model_name": "LayoutModel",
            "_view_count": null,
            "_view_module": "@jupyter-widgets/base",
            "_view_module_version": "1.2.0",
            "_view_name": "LayoutView",
            "align_content": null,
            "align_items": null,
            "align_self": null,
            "border": null,
            "bottom": null,
            "display": null,
            "flex": null,
            "flex_flow": null,
            "grid_area": null,
            "grid_auto_columns": null,
            "grid_auto_flow": null,
            "grid_auto_rows": null,
            "grid_column": null,
            "grid_gap": null,
            "grid_row": null,
            "grid_template_areas": null,
            "grid_template_columns": null,
            "grid_template_rows": null,
            "height": null,
            "justify_content": null,
            "justify_items": null,
            "left": null,
            "margin": null,
            "max_height": null,
            "max_width": null,
            "min_height": null,
            "min_width": null,
            "object_fit": null,
            "object_position": null,
            "order": null,
            "overflow": null,
            "overflow_x": null,
            "overflow_y": null,
            "padding": null,
            "right": null,
            "top": null,
            "visibility": null,
            "width": null
          }
        },
        "bdbef9864861424aa3270279e8b34c94": {
          "model_module": "@jupyter-widgets/controls",
          "model_name": "DescriptionStyleModel",
          "model_module_version": "1.5.0",
          "state": {
            "_model_module": "@jupyter-widgets/controls",
            "_model_module_version": "1.5.0",
            "_model_name": "DescriptionStyleModel",
            "_view_count": null,
            "_view_module": "@jupyter-widgets/base",
            "_view_module_version": "1.2.0",
            "_view_name": "StyleView",
            "description_width": ""
          }
        },
        "2a8c6da7346140b997824fb35d72d19c": {
          "model_module": "@jupyter-widgets/controls",
          "model_name": "HBoxModel",
          "model_module_version": "1.5.0",
          "state": {
            "_dom_classes": [],
            "_model_module": "@jupyter-widgets/controls",
            "_model_module_version": "1.5.0",
            "_model_name": "HBoxModel",
            "_view_count": null,
            "_view_module": "@jupyter-widgets/controls",
            "_view_module_version": "1.5.0",
            "_view_name": "HBoxView",
            "box_style": "",
            "children": [
              "IPY_MODEL_f35caa93487742a29c614edbf18f52fc",
              "IPY_MODEL_09215556ad0649a0af8304ac6a5f288a",
              "IPY_MODEL_c575691e8e59465a9b39b58d2b230f2b"
            ],
            "layout": "IPY_MODEL_43e265d051564b43a3e0691c76c6d39a"
          }
        },
        "f35caa93487742a29c614edbf18f52fc": {
          "model_module": "@jupyter-widgets/controls",
          "model_name": "HTMLModel",
          "model_module_version": "1.5.0",
          "state": {
            "_dom_classes": [],
            "_model_module": "@jupyter-widgets/controls",
            "_model_module_version": "1.5.0",
            "_model_name": "HTMLModel",
            "_view_count": null,
            "_view_module": "@jupyter-widgets/controls",
            "_view_module_version": "1.5.0",
            "_view_name": "HTMLView",
            "description": "",
            "description_tooltip": null,
            "layout": "IPY_MODEL_925b3480b05e4d7f9b9e7d579979ef89",
            "placeholder": "​",
            "style": "IPY_MODEL_fe673bd8d88f462cb1fd83a34f16d7e8",
            "value": "100%"
          }
        },
        "09215556ad0649a0af8304ac6a5f288a": {
          "model_module": "@jupyter-widgets/controls",
          "model_name": "FloatProgressModel",
          "model_module_version": "1.5.0",
          "state": {
            "_dom_classes": [],
            "_model_module": "@jupyter-widgets/controls",
            "_model_module_version": "1.5.0",
            "_model_name": "FloatProgressModel",
            "_view_count": null,
            "_view_module": "@jupyter-widgets/controls",
            "_view_module_version": "1.5.0",
            "_view_name": "ProgressView",
            "bar_style": "success",
            "description": "",
            "description_tooltip": null,
            "layout": "IPY_MODEL_04008e5e9e424aec88237df82a16f4bc",
            "max": 4554,
            "min": 0,
            "orientation": "horizontal",
            "style": "IPY_MODEL_36a229b4619244f1adfcc95a2b62aa37",
            "value": 4554
          }
        },
        "c575691e8e59465a9b39b58d2b230f2b": {
          "model_module": "@jupyter-widgets/controls",
          "model_name": "HTMLModel",
          "model_module_version": "1.5.0",
          "state": {
            "_dom_classes": [],
            "_model_module": "@jupyter-widgets/controls",
            "_model_module_version": "1.5.0",
            "_model_name": "HTMLModel",
            "_view_count": null,
            "_view_module": "@jupyter-widgets/controls",
            "_view_module_version": "1.5.0",
            "_view_name": "HTMLView",
            "description": "",
            "description_tooltip": null,
            "layout": "IPY_MODEL_310065c3ef78493a8fd76f5a92350460",
            "placeholder": "​",
            "style": "IPY_MODEL_ad9e5cae263f49478f87c389100fee09",
            "value": " 4554/4554 [57:26&lt;00:00,  1.27it/s]"
          }
        },
        "43e265d051564b43a3e0691c76c6d39a": {
          "model_module": "@jupyter-widgets/base",
          "model_name": "LayoutModel",
          "model_module_version": "1.2.0",
          "state": {
            "_model_module": "@jupyter-widgets/base",
            "_model_module_version": "1.2.0",
            "_model_name": "LayoutModel",
            "_view_count": null,
            "_view_module": "@jupyter-widgets/base",
            "_view_module_version": "1.2.0",
            "_view_name": "LayoutView",
            "align_content": null,
            "align_items": null,
            "align_self": null,
            "border": null,
            "bottom": null,
            "display": null,
            "flex": null,
            "flex_flow": null,
            "grid_area": null,
            "grid_auto_columns": null,
            "grid_auto_flow": null,
            "grid_auto_rows": null,
            "grid_column": null,
            "grid_gap": null,
            "grid_row": null,
            "grid_template_areas": null,
            "grid_template_columns": null,
            "grid_template_rows": null,
            "height": null,
            "justify_content": null,
            "justify_items": null,
            "left": null,
            "margin": null,
            "max_height": null,
            "max_width": null,
            "min_height": null,
            "min_width": null,
            "object_fit": null,
            "object_position": null,
            "order": null,
            "overflow": null,
            "overflow_x": null,
            "overflow_y": null,
            "padding": null,
            "right": null,
            "top": null,
            "visibility": null,
            "width": null
          }
        },
        "925b3480b05e4d7f9b9e7d579979ef89": {
          "model_module": "@jupyter-widgets/base",
          "model_name": "LayoutModel",
          "model_module_version": "1.2.0",
          "state": {
            "_model_module": "@jupyter-widgets/base",
            "_model_module_version": "1.2.0",
            "_model_name": "LayoutModel",
            "_view_count": null,
            "_view_module": "@jupyter-widgets/base",
            "_view_module_version": "1.2.0",
            "_view_name": "LayoutView",
            "align_content": null,
            "align_items": null,
            "align_self": null,
            "border": null,
            "bottom": null,
            "display": null,
            "flex": null,
            "flex_flow": null,
            "grid_area": null,
            "grid_auto_columns": null,
            "grid_auto_flow": null,
            "grid_auto_rows": null,
            "grid_column": null,
            "grid_gap": null,
            "grid_row": null,
            "grid_template_areas": null,
            "grid_template_columns": null,
            "grid_template_rows": null,
            "height": null,
            "justify_content": null,
            "justify_items": null,
            "left": null,
            "margin": null,
            "max_height": null,
            "max_width": null,
            "min_height": null,
            "min_width": null,
            "object_fit": null,
            "object_position": null,
            "order": null,
            "overflow": null,
            "overflow_x": null,
            "overflow_y": null,
            "padding": null,
            "right": null,
            "top": null,
            "visibility": null,
            "width": null
          }
        },
        "fe673bd8d88f462cb1fd83a34f16d7e8": {
          "model_module": "@jupyter-widgets/controls",
          "model_name": "DescriptionStyleModel",
          "model_module_version": "1.5.0",
          "state": {
            "_model_module": "@jupyter-widgets/controls",
            "_model_module_version": "1.5.0",
            "_model_name": "DescriptionStyleModel",
            "_view_count": null,
            "_view_module": "@jupyter-widgets/base",
            "_view_module_version": "1.2.0",
            "_view_name": "StyleView",
            "description_width": ""
          }
        },
        "04008e5e9e424aec88237df82a16f4bc": {
          "model_module": "@jupyter-widgets/base",
          "model_name": "LayoutModel",
          "model_module_version": "1.2.0",
          "state": {
            "_model_module": "@jupyter-widgets/base",
            "_model_module_version": "1.2.0",
            "_model_name": "LayoutModel",
            "_view_count": null,
            "_view_module": "@jupyter-widgets/base",
            "_view_module_version": "1.2.0",
            "_view_name": "LayoutView",
            "align_content": null,
            "align_items": null,
            "align_self": null,
            "border": null,
            "bottom": null,
            "display": null,
            "flex": null,
            "flex_flow": null,
            "grid_area": null,
            "grid_auto_columns": null,
            "grid_auto_flow": null,
            "grid_auto_rows": null,
            "grid_column": null,
            "grid_gap": null,
            "grid_row": null,
            "grid_template_areas": null,
            "grid_template_columns": null,
            "grid_template_rows": null,
            "height": null,
            "justify_content": null,
            "justify_items": null,
            "left": null,
            "margin": null,
            "max_height": null,
            "max_width": null,
            "min_height": null,
            "min_width": null,
            "object_fit": null,
            "object_position": null,
            "order": null,
            "overflow": null,
            "overflow_x": null,
            "overflow_y": null,
            "padding": null,
            "right": null,
            "top": null,
            "visibility": null,
            "width": null
          }
        },
        "36a229b4619244f1adfcc95a2b62aa37": {
          "model_module": "@jupyter-widgets/controls",
          "model_name": "ProgressStyleModel",
          "model_module_version": "1.5.0",
          "state": {
            "_model_module": "@jupyter-widgets/controls",
            "_model_module_version": "1.5.0",
            "_model_name": "ProgressStyleModel",
            "_view_count": null,
            "_view_module": "@jupyter-widgets/base",
            "_view_module_version": "1.2.0",
            "_view_name": "StyleView",
            "bar_color": null,
            "description_width": ""
          }
        },
        "310065c3ef78493a8fd76f5a92350460": {
          "model_module": "@jupyter-widgets/base",
          "model_name": "LayoutModel",
          "model_module_version": "1.2.0",
          "state": {
            "_model_module": "@jupyter-widgets/base",
            "_model_module_version": "1.2.0",
            "_model_name": "LayoutModel",
            "_view_count": null,
            "_view_module": "@jupyter-widgets/base",
            "_view_module_version": "1.2.0",
            "_view_name": "LayoutView",
            "align_content": null,
            "align_items": null,
            "align_self": null,
            "border": null,
            "bottom": null,
            "display": null,
            "flex": null,
            "flex_flow": null,
            "grid_area": null,
            "grid_auto_columns": null,
            "grid_auto_flow": null,
            "grid_auto_rows": null,
            "grid_column": null,
            "grid_gap": null,
            "grid_row": null,
            "grid_template_areas": null,
            "grid_template_columns": null,
            "grid_template_rows": null,
            "height": null,
            "justify_content": null,
            "justify_items": null,
            "left": null,
            "margin": null,
            "max_height": null,
            "max_width": null,
            "min_height": null,
            "min_width": null,
            "object_fit": null,
            "object_position": null,
            "order": null,
            "overflow": null,
            "overflow_x": null,
            "overflow_y": null,
            "padding": null,
            "right": null,
            "top": null,
            "visibility": null,
            "width": null
          }
        },
        "ad9e5cae263f49478f87c389100fee09": {
          "model_module": "@jupyter-widgets/controls",
          "model_name": "DescriptionStyleModel",
          "model_module_version": "1.5.0",
          "state": {
            "_model_module": "@jupyter-widgets/controls",
            "_model_module_version": "1.5.0",
            "_model_name": "DescriptionStyleModel",
            "_view_count": null,
            "_view_module": "@jupyter-widgets/base",
            "_view_module_version": "1.2.0",
            "_view_name": "StyleView",
            "description_width": ""
          }
        },
        "d4cd030f87a5494f880904741018eef4": {
          "model_module": "@jupyter-widgets/controls",
          "model_name": "HBoxModel",
          "model_module_version": "1.5.0",
          "state": {
            "_dom_classes": [],
            "_model_module": "@jupyter-widgets/controls",
            "_model_module_version": "1.5.0",
            "_model_name": "HBoxModel",
            "_view_count": null,
            "_view_module": "@jupyter-widgets/controls",
            "_view_module_version": "1.5.0",
            "_view_name": "HBoxView",
            "box_style": "",
            "children": [
              "IPY_MODEL_1e01c48354a34a4499d2ef0dd75243b1",
              "IPY_MODEL_d91be57441f9407bad9335071c5c2175",
              "IPY_MODEL_9329d5e234b84d408d87c7a35f50aef8"
            ],
            "layout": "IPY_MODEL_83e9438a81524f77b3ae66c6f6360c7d"
          }
        },
        "1e01c48354a34a4499d2ef0dd75243b1": {
          "model_module": "@jupyter-widgets/controls",
          "model_name": "HTMLModel",
          "model_module_version": "1.5.0",
          "state": {
            "_dom_classes": [],
            "_model_module": "@jupyter-widgets/controls",
            "_model_module_version": "1.5.0",
            "_model_name": "HTMLModel",
            "_view_count": null,
            "_view_module": "@jupyter-widgets/controls",
            "_view_module_version": "1.5.0",
            "_view_name": "HTMLView",
            "description": "",
            "description_tooltip": null,
            "layout": "IPY_MODEL_d4c754a9aff34ca58f926263af70e680",
            "placeholder": "​",
            "style": "IPY_MODEL_3e93232e03004defaea715a047a7a2c7",
            "value": "100%"
          }
        },
        "d91be57441f9407bad9335071c5c2175": {
          "model_module": "@jupyter-widgets/controls",
          "model_name": "FloatProgressModel",
          "model_module_version": "1.5.0",
          "state": {
            "_dom_classes": [],
            "_model_module": "@jupyter-widgets/controls",
            "_model_module_version": "1.5.0",
            "_model_name": "FloatProgressModel",
            "_view_count": null,
            "_view_module": "@jupyter-widgets/controls",
            "_view_module_version": "1.5.0",
            "_view_name": "ProgressView",
            "bar_style": "success",
            "description": "",
            "description_tooltip": null,
            "layout": "IPY_MODEL_a821e4efc11f4341aeebdf0785d3138c",
            "max": 1823,
            "min": 0,
            "orientation": "horizontal",
            "style": "IPY_MODEL_f0aa365e212247c69531e334c708c9ce",
            "value": 1823
          }
        },
        "9329d5e234b84d408d87c7a35f50aef8": {
          "model_module": "@jupyter-widgets/controls",
          "model_name": "HTMLModel",
          "model_module_version": "1.5.0",
          "state": {
            "_dom_classes": [],
            "_model_module": "@jupyter-widgets/controls",
            "_model_module_version": "1.5.0",
            "_model_name": "HTMLModel",
            "_view_count": null,
            "_view_module": "@jupyter-widgets/controls",
            "_view_module_version": "1.5.0",
            "_view_name": "HTMLView",
            "description": "",
            "description_tooltip": null,
            "layout": "IPY_MODEL_445974faf4024eeaa496a9dae39e94a1",
            "placeholder": "​",
            "style": "IPY_MODEL_56f539e14a0c4f37a07ab9d1dc28d9b4",
            "value": " 1823/1823 [26:31&lt;00:00,  1.48s/it]"
          }
        },
        "83e9438a81524f77b3ae66c6f6360c7d": {
          "model_module": "@jupyter-widgets/base",
          "model_name": "LayoutModel",
          "model_module_version": "1.2.0",
          "state": {
            "_model_module": "@jupyter-widgets/base",
            "_model_module_version": "1.2.0",
            "_model_name": "LayoutModel",
            "_view_count": null,
            "_view_module": "@jupyter-widgets/base",
            "_view_module_version": "1.2.0",
            "_view_name": "LayoutView",
            "align_content": null,
            "align_items": null,
            "align_self": null,
            "border": null,
            "bottom": null,
            "display": null,
            "flex": null,
            "flex_flow": null,
            "grid_area": null,
            "grid_auto_columns": null,
            "grid_auto_flow": null,
            "grid_auto_rows": null,
            "grid_column": null,
            "grid_gap": null,
            "grid_row": null,
            "grid_template_areas": null,
            "grid_template_columns": null,
            "grid_template_rows": null,
            "height": null,
            "justify_content": null,
            "justify_items": null,
            "left": null,
            "margin": null,
            "max_height": null,
            "max_width": null,
            "min_height": null,
            "min_width": null,
            "object_fit": null,
            "object_position": null,
            "order": null,
            "overflow": null,
            "overflow_x": null,
            "overflow_y": null,
            "padding": null,
            "right": null,
            "top": null,
            "visibility": null,
            "width": null
          }
        },
        "d4c754a9aff34ca58f926263af70e680": {
          "model_module": "@jupyter-widgets/base",
          "model_name": "LayoutModel",
          "model_module_version": "1.2.0",
          "state": {
            "_model_module": "@jupyter-widgets/base",
            "_model_module_version": "1.2.0",
            "_model_name": "LayoutModel",
            "_view_count": null,
            "_view_module": "@jupyter-widgets/base",
            "_view_module_version": "1.2.0",
            "_view_name": "LayoutView",
            "align_content": null,
            "align_items": null,
            "align_self": null,
            "border": null,
            "bottom": null,
            "display": null,
            "flex": null,
            "flex_flow": null,
            "grid_area": null,
            "grid_auto_columns": null,
            "grid_auto_flow": null,
            "grid_auto_rows": null,
            "grid_column": null,
            "grid_gap": null,
            "grid_row": null,
            "grid_template_areas": null,
            "grid_template_columns": null,
            "grid_template_rows": null,
            "height": null,
            "justify_content": null,
            "justify_items": null,
            "left": null,
            "margin": null,
            "max_height": null,
            "max_width": null,
            "min_height": null,
            "min_width": null,
            "object_fit": null,
            "object_position": null,
            "order": null,
            "overflow": null,
            "overflow_x": null,
            "overflow_y": null,
            "padding": null,
            "right": null,
            "top": null,
            "visibility": null,
            "width": null
          }
        },
        "3e93232e03004defaea715a047a7a2c7": {
          "model_module": "@jupyter-widgets/controls",
          "model_name": "DescriptionStyleModel",
          "model_module_version": "1.5.0",
          "state": {
            "_model_module": "@jupyter-widgets/controls",
            "_model_module_version": "1.5.0",
            "_model_name": "DescriptionStyleModel",
            "_view_count": null,
            "_view_module": "@jupyter-widgets/base",
            "_view_module_version": "1.2.0",
            "_view_name": "StyleView",
            "description_width": ""
          }
        },
        "a821e4efc11f4341aeebdf0785d3138c": {
          "model_module": "@jupyter-widgets/base",
          "model_name": "LayoutModel",
          "model_module_version": "1.2.0",
          "state": {
            "_model_module": "@jupyter-widgets/base",
            "_model_module_version": "1.2.0",
            "_model_name": "LayoutModel",
            "_view_count": null,
            "_view_module": "@jupyter-widgets/base",
            "_view_module_version": "1.2.0",
            "_view_name": "LayoutView",
            "align_content": null,
            "align_items": null,
            "align_self": null,
            "border": null,
            "bottom": null,
            "display": null,
            "flex": null,
            "flex_flow": null,
            "grid_area": null,
            "grid_auto_columns": null,
            "grid_auto_flow": null,
            "grid_auto_rows": null,
            "grid_column": null,
            "grid_gap": null,
            "grid_row": null,
            "grid_template_areas": null,
            "grid_template_columns": null,
            "grid_template_rows": null,
            "height": null,
            "justify_content": null,
            "justify_items": null,
            "left": null,
            "margin": null,
            "max_height": null,
            "max_width": null,
            "min_height": null,
            "min_width": null,
            "object_fit": null,
            "object_position": null,
            "order": null,
            "overflow": null,
            "overflow_x": null,
            "overflow_y": null,
            "padding": null,
            "right": null,
            "top": null,
            "visibility": null,
            "width": null
          }
        },
        "f0aa365e212247c69531e334c708c9ce": {
          "model_module": "@jupyter-widgets/controls",
          "model_name": "ProgressStyleModel",
          "model_module_version": "1.5.0",
          "state": {
            "_model_module": "@jupyter-widgets/controls",
            "_model_module_version": "1.5.0",
            "_model_name": "ProgressStyleModel",
            "_view_count": null,
            "_view_module": "@jupyter-widgets/base",
            "_view_module_version": "1.2.0",
            "_view_name": "StyleView",
            "bar_color": null,
            "description_width": ""
          }
        },
        "445974faf4024eeaa496a9dae39e94a1": {
          "model_module": "@jupyter-widgets/base",
          "model_name": "LayoutModel",
          "model_module_version": "1.2.0",
          "state": {
            "_model_module": "@jupyter-widgets/base",
            "_model_module_version": "1.2.0",
            "_model_name": "LayoutModel",
            "_view_count": null,
            "_view_module": "@jupyter-widgets/base",
            "_view_module_version": "1.2.0",
            "_view_name": "LayoutView",
            "align_content": null,
            "align_items": null,
            "align_self": null,
            "border": null,
            "bottom": null,
            "display": null,
            "flex": null,
            "flex_flow": null,
            "grid_area": null,
            "grid_auto_columns": null,
            "grid_auto_flow": null,
            "grid_auto_rows": null,
            "grid_column": null,
            "grid_gap": null,
            "grid_row": null,
            "grid_template_areas": null,
            "grid_template_columns": null,
            "grid_template_rows": null,
            "height": null,
            "justify_content": null,
            "justify_items": null,
            "left": null,
            "margin": null,
            "max_height": null,
            "max_width": null,
            "min_height": null,
            "min_width": null,
            "object_fit": null,
            "object_position": null,
            "order": null,
            "overflow": null,
            "overflow_x": null,
            "overflow_y": null,
            "padding": null,
            "right": null,
            "top": null,
            "visibility": null,
            "width": null
          }
        },
        "56f539e14a0c4f37a07ab9d1dc28d9b4": {
          "model_module": "@jupyter-widgets/controls",
          "model_name": "DescriptionStyleModel",
          "model_module_version": "1.5.0",
          "state": {
            "_model_module": "@jupyter-widgets/controls",
            "_model_module_version": "1.5.0",
            "_model_name": "DescriptionStyleModel",
            "_view_count": null,
            "_view_module": "@jupyter-widgets/base",
            "_view_module_version": "1.2.0",
            "_view_name": "StyleView",
            "description_width": ""
          }
        }
      }
    }
  },
  "nbformat": 4,
  "nbformat_minor": 5
}