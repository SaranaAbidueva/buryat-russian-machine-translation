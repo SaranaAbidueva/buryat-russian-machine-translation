{
  "cells": [
    {
      "cell_type": "markdown",
      "source": [
        "# Импорты"
      ],
      "metadata": {
        "id": "-8XAMxqXEpmb"
      },
      "id": "-8XAMxqXEpmb"
    },
    {
      "cell_type": "code",
      "execution_count": 18,
      "id": "09c76082",
      "metadata": {
        "id": "09c76082"
      },
      "outputs": [],
      "source": [
        "! pip install sentencepiece transformers sacrebleu HeapDict -q "
      ]
    },
    {
      "cell_type": "code",
      "execution_count": 2,
      "id": "32c3d966",
      "metadata": {
        "colab": {
          "base_uri": "https://localhost:8080/"
        },
        "id": "32c3d966",
        "outputId": "d45dbdd8-07ae-43dc-bd29-351ea18df2ef"
      },
      "outputs": [
        {
          "output_type": "stream",
          "name": "stdout",
          "text": [
            "--2023-05-14 10:24:53--  https://raw.githubusercontent.com/google/sentencepiece/master/src/sentencepiece_model.proto\n",
            "Resolving raw.githubusercontent.com (raw.githubusercontent.com)... 185.199.108.133, 185.199.109.133, 185.199.110.133, ...\n",
            "Connecting to raw.githubusercontent.com (raw.githubusercontent.com)|185.199.108.133|:443... connected.\n",
            "HTTP request sent, awaiting response... 200 OK\n",
            "Length: 13845 (14K) [text/plain]\n",
            "Saving to: ‘sentencepiece_model.proto’\n",
            "\n",
            "\r          sentencep   0%[                    ]       0  --.-KB/s               \rsentencepiece_model 100%[===================>]  13.52K  --.-KB/s    in 0s      \n",
            "\n",
            "2023-05-14 10:24:53 (104 MB/s) - ‘sentencepiece_model.proto’ saved [13845/13845]\n",
            "\n"
          ]
        }
      ],
      "source": [
        "! wget https://raw.githubusercontent.com/google/sentencepiece/master/src/sentencepiece_model.proto\n",
        "! protoc --python_out=. sentencepiece_model.proto"
      ]
    },
    {
      "cell_type": "code",
      "execution_count": 6,
      "id": "8f9f68ae",
      "metadata": {
        "id": "8f9f68ae"
      },
      "outputs": [],
      "source": [
        "import torch\n",
        "from transformers import MBartForConditionalGeneration, MBart50Tokenizer\n",
        "import json\n",
        "from collections import Counter, defaultdict\n",
        "from tqdm.auto import tqdm, trange\n",
        "import random\n",
        "import re\n",
        "from copy import deepcopy\n",
        "import pandas as pd"
      ]
    },
    {
      "cell_type": "markdown",
      "source": [
        "# Добавляю в модель токены бурятского языка"
      ],
      "metadata": {
        "id": "5ti1i7soD3CN"
      },
      "id": "5ti1i7soD3CN"
    },
    {
      "cell_type": "code",
      "execution_count": 5,
      "id": "3e6dfff6",
      "metadata": {
        "colab": {
          "base_uri": "https://localhost:8080/",
          "height": 0,
          "referenced_widgets": [
            "1f01e2d82f774a46a24e2dedd9e52e0e",
            "e2efc558eaf74c94bce55e43ddcd23ec",
            "7311c63639834a1d96a8b553e4ffb148",
            "245541ba4e9241288094b323aac57e29",
            "0fb26640cb0841b5a7ab0d30c8aa30a7",
            "1c27aa3684e64ab9a522d00695406181",
            "22dd587880fb4abc911cd2a1b9a93997",
            "530a7879e5a34732a690808a1b4f2e3c",
            "f45703630c4442ebb17056cb9ec7b3ea",
            "62435fc041ae421a8de7c14aef52dec7",
            "eb6666c9de86412988e562af3fd47aec",
            "1a2d672f0ba34197b54d40746d3e1396",
            "5e31f6e616e740daa1bccbfcb62dbb9e",
            "540db06ae4cf4d9d876823655576d633",
            "56502aee43de4e17b2913e743362c9b8",
            "b03b88008b044dde85cef444eccbde59",
            "52593a94a0ed42ca91aaa94749291ac7",
            "b54d3b75d0e2476fb641b981f3d3a9d7",
            "ef83598281d649199b1652b2910570b5",
            "3219fe536754498ab09b26adfa584a13",
            "46a7e50136584ac6ab357b20c918ebeb",
            "1e64ce560fa748c48398123f6403f021",
            "e7d8725a32dd4697bcc2dc076d0e4004",
            "3708ada85b214bebb2ff66f6d1b4b477",
            "2437cf03946a4752bfb72f811c62a782",
            "7a7dd252995a46bf8647ad7f652bb4cd",
            "b7fb70b4636f42c3be7dfcc0a4509ea5",
            "44e41906e1954de9bf4b96fb32b4ad22",
            "0cdee84a30ec4ab1b628311bfe7b4a6c",
            "97f4a5fa9bf64919b8f9ff40aded6482",
            "4f37b5cc2ff94914b7bec1952d2ebbd0",
            "5b81f6ff373a47aa8dbbd0cb9b0b7870",
            "a91e0e04a6d74f129fc126fbbc4c934e",
            "00685cd43b264cca846c55a7189526ed",
            "531c6c9061ba4fc9a72f31628026b891",
            "54628da954cf41de8aa2cd951adfb391",
            "ac7c3e8e5db64cb59e54d48f68d7e8f3",
            "1645ab344cff49a0b7007562f77aab91",
            "6a9c174f8d4f4e57a611f131cd556a18",
            "99a66c091ce8426399764d9ae4157d38",
            "17798b94aa1440bf895e3a3652a262d2",
            "baab199fb9f34fef9d10ac95c60447d7",
            "c63eeebf61574f8088f8553651db7a93",
            "25e1a458a07e44d0815309643ae3d857"
          ]
        },
        "id": "3e6dfff6",
        "outputId": "a1a7cdb2-0f6e-4a6a-ba84-711c8fa948ec"
      },
      "outputs": [
        {
          "output_type": "display_data",
          "data": {
            "text/plain": [
              "Downloading (…)tencepiece.bpe.model:   0%|          | 0.00/5.07M [00:00<?, ?B/s]"
            ],
            "application/vnd.jupyter.widget-view+json": {
              "version_major": 2,
              "version_minor": 0,
              "model_id": "1f01e2d82f774a46a24e2dedd9e52e0e"
            }
          },
          "metadata": {}
        },
        {
          "output_type": "display_data",
          "data": {
            "text/plain": [
              "Downloading (…)cial_tokens_map.json:   0%|          | 0.00/649 [00:00<?, ?B/s]"
            ],
            "application/vnd.jupyter.widget-view+json": {
              "version_major": 2,
              "version_minor": 0,
              "model_id": "1a2d672f0ba34197b54d40746d3e1396"
            }
          },
          "metadata": {}
        },
        {
          "output_type": "display_data",
          "data": {
            "text/plain": [
              "Downloading (…)okenizer_config.json:   0%|          | 0.00/529 [00:00<?, ?B/s]"
            ],
            "application/vnd.jupyter.widget-view+json": {
              "version_major": 2,
              "version_minor": 0,
              "model_id": "e7d8725a32dd4697bcc2dc076d0e4004"
            }
          },
          "metadata": {}
        },
        {
          "output_type": "display_data",
          "data": {
            "text/plain": [
              "Downloading (…)lve/main/config.json:   0%|          | 0.00/1.43k [00:00<?, ?B/s]"
            ],
            "application/vnd.jupyter.widget-view+json": {
              "version_major": 2,
              "version_minor": 0,
              "model_id": "00685cd43b264cca846c55a7189526ed"
            }
          },
          "metadata": {}
        }
      ],
      "source": [
        "tokenizer = MBart50Tokenizer.from_pretrained(\"facebook/mbart-large-50-many-to-many-mmt\")"
      ]
    },
    {
      "cell_type": "code",
      "execution_count": 7,
      "id": "6b9c5b46",
      "metadata": {
        "colab": {
          "base_uri": "https://localhost:8080/"
        },
        "id": "6b9c5b46",
        "outputId": "861144ca-f812-4530-c0fd-8c20d0786c1a"
      },
      "outputs": [
        {
          "output_type": "stream",
          "name": "stdout",
          "text": [
            "250054\n"
          ]
        }
      ],
      "source": [
        "print(tokenizer.vocab_size)"
      ]
    },
    {
      "cell_type": "code",
      "execution_count": 8,
      "id": "fb52c971",
      "metadata": {
        "id": "fb52c971"
      },
      "outputs": [],
      "source": [
        "with open ('bur_all.txt', 'r', encoding='utf-8') as f:\n",
        "   bur_all = f.readlines()"
      ]
    },
    {
      "cell_type": "code",
      "execution_count": 9,
      "id": "612bf35a",
      "metadata": {
        "colab": {
          "base_uri": "https://localhost:8080/"
        },
        "id": "612bf35a",
        "outputId": "bcea505b-ced5-43ae-9e5e-0efcc2b84e04"
      },
      "outputs": [
        {
          "output_type": "execute_result",
          "data": {
            "text/plain": [
              "203060"
            ]
          },
          "metadata": {},
          "execution_count": 9
        }
      ],
      "source": [
        "bur_all = set(bur_all)\n",
        "len(bur_all)"
      ]
    },
    {
      "cell_type": "code",
      "execution_count": 10,
      "id": "0890b140",
      "metadata": {
        "id": "0890b140"
      },
      "outputs": [],
      "source": [
        "def get_tokens(text, tokenizer, verbose=False):\n",
        "    toks = tokenizer.tokenize(text)\n",
        "    words = []\n",
        "    word = []\n",
        "    prev_punct = False\n",
        "    for tok in toks:\n",
        "        is_punct = tok.lstrip(SPACE) and all(c in PUNCT for c in tok.lstrip(SPACE))\n",
        "        if tok.startswith(SPACE) or prev_punct != is_punct:\n",
        "            if word:\n",
        "                words.append(word)\n",
        "            word = []\n",
        "        word.append(tok)\n",
        "        prev_punct = is_punct\n",
        "    if word:\n",
        "        words.append(word)\n",
        "    if verbose:\n",
        "        print(words)\n",
        "    res = words\n",
        "    # assert tokenizer.decode([tok for t in res for tok in t]) == text\n",
        "    return res"
      ]
    },
    {
      "cell_type": "code",
      "execution_count": 11,
      "id": "519fbf83",
      "metadata": {
        "colab": {
          "base_uri": "https://localhost:8080/",
          "height": 0,
          "referenced_widgets": [
            "c9c13b2b37da435a8382640f6ae1a454",
            "dc4bc5eedbe8489ca4ea2858d20d0477",
            "1bacc3586ffb4d919afd602c09646505",
            "46f57034a89b479e8db4c44beac548e5",
            "44343936c156423b9101b40cab004d0f",
            "f42ef1d5e5af470eb3adf5098059dab0",
            "caf62448170b4976a837018fcae09945",
            "d5ff3ec67a3a453ab5c9cfeb98a0d6df",
            "ce24e3c240ae408a977e88b036bdae71",
            "ebe3413ee99948edb58895e6999c9859",
            "3119c5764a5a4444ab62d832784e382a"
          ]
        },
        "id": "519fbf83",
        "outputId": "bb5e1b5e-c03c-4130-fa9d-0f3d70512d92"
      },
      "outputs": [
        {
          "output_type": "display_data",
          "data": {
            "text/plain": [
              "  0%|          | 0/203060 [00:00<?, ?it/s]"
            ],
            "application/vnd.jupyter.widget-view+json": {
              "version_major": 2,
              "version_minor": 0,
              "model_id": "c9c13b2b37da435a8382640f6ae1a454"
            }
          },
          "metadata": {}
        },
        {
          "output_type": "stream",
          "name": "stdout",
          "text": [
            "465440\n"
          ]
        }
      ],
      "source": [
        "PUNCT = '.,-—:)(»«!?–/;„\"“…*́№Ёҥ[]”^%+І=і•_􏰀²|}{#‘■>⁠’á<°\\§\\''\n",
        "SPACE = '▁'\n",
        "word_count = Counter()\n",
        "word2toks = {}\n",
        "for text in tqdm(bur_all):\n",
        "    for word_toks in get_tokens(text, tokenizer):\n",
        "        word = ''.join(word_toks)\n",
        "        word_count[word] += 1\n",
        "        word2toks[word] = word_toks\n",
        "print(len(word_count))"
      ]
    },
    {
      "cell_type": "code",
      "execution_count": 12,
      "id": "1ac59169",
      "metadata": {
        "id": "1ac59169"
      },
      "outputs": [],
      "source": [
        "word_count2 = deepcopy(word_count)\n",
        "word2toks2 = deepcopy(word2toks)"
      ]
    },
    {
      "cell_type": "code",
      "execution_count": 13,
      "id": "54fdac22",
      "metadata": {
        "id": "54fdac22"
      },
      "outputs": [],
      "source": [
        "word_count = deepcopy(word_count2)\n",
        "word2toks = deepcopy(word2toks2)"
      ]
    },
    {
      "cell_type": "code",
      "execution_count": 14,
      "id": "284eab24",
      "metadata": {
        "colab": {
          "base_uri": "https://localhost:8080/"
        },
        "id": "284eab24",
        "outputId": "c1d9b751-d184-4b05-bf33-07ef07d3866f"
      },
      "outputs": [
        {
          "output_type": "stream",
          "name": "stdout",
          "text": [
            "['▁гэж', 'э']\n",
            "['▁h', 'эн']\n",
            "['▁нэг', 'э']\n",
            "['▁тэр', 'э']\n",
            "['▁бай', 'h', 'ан']\n",
            "['▁л', 'э']\n",
            "['▁дээр', 'э']\n",
            "['▁е', 'х', 'э']\n"
          ]
        }
      ],
      "source": [
        "for k, v in word_count.most_common(30):\n",
        "    if len(word2toks[k]) > 1:\n",
        "        print(word2toks[k])"
      ]
    },
    {
      "cell_type": "code",
      "execution_count": 15,
      "id": "252269c3",
      "metadata": {
        "id": "252269c3"
      },
      "outputs": [],
      "source": [
        "steps = 100_000\n",
        "min_count = 30  \n",
        "# default:   0 new tokens, 30 lenght, 0% new tokens\n",
        "# 100 mindf: 6.6k new tokens, 22 length, 47% new tokens (of sentence length)\n",
        "# 30 mindf:  20k new tokens, 20 length, 58% new tokens\n",
        "# 10 mindf: 50K new tokens, 18.5 length, 64% new tokens\n",
        "extra_vocab = []\n",
        "extra_counts = []\n",
        "extra_pairs = []"
      ]
    },
    {
      "cell_type": "code",
      "execution_count": 16,
      "id": "c103309a",
      "metadata": {
        "colab": {
          "base_uri": "https://localhost:8080/",
          "height": 0,
          "referenced_widgets": [
            "2defa39cd21a49039c0ac641b137cf3f",
            "41d1bc0753df45a8ade04af26147bcd0",
            "f8ee19f525ad4a9799a0d5adf036535d",
            "7ef8d484094349329187356e343250fc",
            "ccd76224d44e4764a7ec5edb2abfdc32",
            "2d39880c2cff46ab8f5f754d2a2cd398",
            "ac82afdf9fb54497b9fd0d2d31b475e5",
            "5a4c62bd007d4ed7aa0f3a4137616724",
            "5cbe63360ae74c8da44e8f58854cd5d4",
            "2ae3048752e64e048f2355cc1c039c87",
            "5488b94474304fd6ad0ec92eed49ef69"
          ]
        },
        "id": "c103309a",
        "outputId": "d66592fe-9f76-4c11-9ab5-ac46d8811dc5"
      },
      "outputs": [
        {
          "output_type": "display_data",
          "data": {
            "text/plain": [
              "  0%|          | 0/465440 [00:00<?, ?it/s]"
            ],
            "application/vnd.jupyter.widget-view+json": {
              "version_major": 2,
              "version_minor": 0,
              "model_id": "2defa39cd21a49039c0ac641b137cf3f"
            }
          },
          "metadata": {}
        }
      ],
      "source": [
        "pairs_count = Counter()\n",
        "pair2word = defaultdict(set)\n",
        "for w, c in tqdm(word_count.items(), total=len(word_count)):\n",
        "    enc = word2toks[w]\n",
        "    for pair in zip(enc[:-1], enc[1:]):\n",
        "        pairs_count[pair] += c\n",
        "        pair2word[pair].add(w)"
      ]
    },
    {
      "cell_type": "code",
      "execution_count": 19,
      "id": "8545c5de",
      "metadata": {
        "id": "8545c5de"
      },
      "outputs": [],
      "source": [
        "from heapdict import heapdict\n",
        "hd = heapdict()\n",
        "for w, c in pairs_count.items():\n",
        "    hd[w] = -c"
      ]
    },
    {
      "cell_type": "code",
      "execution_count": 20,
      "id": "90a76b4c",
      "metadata": {
        "id": "90a76b4c"
      },
      "outputs": [],
      "source": [
        "def replace_pair(old_tokens, pair, new_token):\n",
        "    result = []\n",
        "    prev = old_tokens[0]\n",
        "    for tok in old_tokens[1:]:\n",
        "        if (prev, tok) == pair:\n",
        "            result.append(new_token)\n",
        "            prev = None\n",
        "        else:\n",
        "            if prev is not None:\n",
        "                result.append(prev)\n",
        "            prev = tok\n",
        "    if prev is not None:\n",
        "        result.append(prev)\n",
        "    return result"
      ]
    },
    {
      "cell_type": "code",
      "execution_count": 21,
      "id": "702db78e",
      "metadata": {
        "colab": {
          "base_uri": "https://localhost:8080/",
          "height": 0,
          "referenced_widgets": [
            "ce36edebf68b4519837299a34e09538a",
            "58ff04c820524c23a30201d8e0335cb1",
            "5331170ae6914782b630c30c63fa38e2",
            "b31dfe7fd8f440cdbbae6e43d65f4888",
            "3521ca91387b4c298ed86db01ccac445",
            "02e0c52e4fd44cb8b1f6ed948623aa1c",
            "e60a66e1673049509df8e701f0de95a5",
            "e25d5360c0724da39fca16aac5f0c66b",
            "5a7fa8d6dc054beb88a7bb1c667b2716",
            "a80732447109430ca16bdbf53f8eeab7",
            "74ea0177dbe2490e882963824edd1db4"
          ]
        },
        "id": "702db78e",
        "outputId": "a09118e7-9f1c-42f8-8e95-2d4fb6fbb35e"
      },
      "outputs": [
        {
          "output_type": "display_data",
          "data": {
            "text/plain": [
              "  0%|          | 0/100000 [00:00<?, ?it/s]"
            ],
            "application/vnd.jupyter.widget-view+json": {
              "version_major": 2,
              "version_minor": 0,
              "model_id": "ce36edebf68b4519837299a34e09538a"
            }
          },
          "metadata": {}
        }
      ],
      "source": [
        "for _ in trange(steps):\n",
        "    #pair, c = pairs_count.most_common(1)[0]  # это самая времязатратная операция\n",
        "    pair, c = hd.peekitem()\n",
        "    c = -c\n",
        "    \n",
        "    if c < min_count:\n",
        "        break\n",
        "    new_token = ''.join(pair) # instead of BERT-like pair[0] + pair[1][2:]\n",
        "    extra_vocab.append(pair)\n",
        "    extra_counts.append(c)\n",
        "    extra_pairs.append(pair)\n",
        "    \n",
        "    # update the vocabulary\n",
        "    #new_id = len(id2ids)\n",
        "    #tok2id[new_token] = new_id\n",
        "    #id2ids.append(id2ids[tok2id[pair[0]]] + id2ids[tok2id[pair[1]]]) \n",
        "    \n",
        "    # calculate the delta for the heap\n",
        "    delta = Counter()\n",
        "    for word in list(pair2word[pair]):\n",
        "        # calculate old and new ways to tokenize the word\n",
        "        old_toks = word2toks[word]\n",
        "        # new_toks = \" \".join(old_toks).replace(' '.join(pair), new_token).split(\" \")\n",
        "        new_toks = replace_pair(old_toks, pair, new_token)\n",
        "        word2toks[word] = new_toks\n",
        "        wc = word_count[word]\n",
        "        # update the index concerning the tokens of the word\n",
        "        for old_pair in zip(old_toks[:-1], old_toks[1:]):\n",
        "            #pairs_count[old_pair] -= wc\n",
        "            delta[old_pair] -= wc\n",
        "            if word in pair2word[old_pair]:\n",
        "                pair2word[old_pair].remove(word)\n",
        "        for new_pair in zip(new_toks[:-1], new_toks[1:]):\n",
        "            # pairs_count[new_pair] += wc\n",
        "            delta[new_pair] += wc\n",
        "            pair2word[new_pair].add(word)\n",
        "    # update the heap\n",
        "    for a_pair, a_delta in delta.items():\n",
        "        if a_delta == 0:\n",
        "            continue\n",
        "        if a_pair not in hd:\n",
        "            hd[a_pair] = 0\n",
        "        hd[a_pair] -= a_delta"
      ]
    },
    {
      "cell_type": "code",
      "execution_count": 22,
      "id": "71931ad6",
      "metadata": {
        "colab": {
          "base_uri": "https://localhost:8080/"
        },
        "id": "71931ad6",
        "outputId": "a1ea531e-1f07-4d51-bc49-4962d62a9c22"
      },
      "outputs": [
        {
          "output_type": "execute_result",
          "data": {
            "text/plain": [
              "21813"
            ]
          },
          "metadata": {},
          "execution_count": 22
        }
      ],
      "source": [
        "len(extra_pairs)"
      ]
    },
    {
      "cell_type": "code",
      "execution_count": 23,
      "id": "4e1b3177",
      "metadata": {
        "colab": {
          "base_uri": "https://localhost:8080/"
        },
        "id": "4e1b3177",
        "outputId": "62f7d3ec-03e2-4d9e-eb04-494aed91d204"
      },
      "outputs": [
        {
          "output_type": "execute_result",
          "data": {
            "text/plain": [
              "[('h', 'ан'),\n",
              " ('▁гэж', 'э'),\n",
              " ('h', 'эн'),\n",
              " ('х', 'э'),\n",
              " ('h', 'а'),\n",
              " ('б', 'э'),\n",
              " ('шь', 'е'),\n",
              " ('▁я', 'ба'),\n",
              " ('я', 'а'),\n",
              " ('h', 'аа')]"
            ]
          },
          "metadata": {},
          "execution_count": 23
        }
      ],
      "source": [
        "extra_pairs[:10]"
      ]
    },
    {
      "cell_type": "code",
      "execution_count": 24,
      "id": "35bb4cdd",
      "metadata": {
        "colab": {
          "base_uri": "https://localhost:8080/"
        },
        "id": "35bb4cdd",
        "outputId": "5a7cee3b-6da3-4607-a047-75a8c1336495"
      },
      "outputs": [
        {
          "output_type": "execute_result",
          "data": {
            "text/plain": [
              "('old_tokenizer/tokenizer_config.json',\n",
              " 'old_tokenizer/special_tokens_map.json',\n",
              " 'old_tokenizer/sentencepiece.bpe.model',\n",
              " 'old_tokenizer/added_tokens.json')"
            ]
          },
          "metadata": {},
          "execution_count": 24
        }
      ],
      "source": [
        "tokenizer.save_pretrained('old_tokenizer')"
      ]
    },
    {
      "cell_type": "code",
      "execution_count": null,
      "id": "b6f3aae0",
      "metadata": {
        "id": "b6f3aae0"
      },
      "outputs": [],
      "source": [
        "# with open('extra_pairs.json', 'w', encoding='utf-8') as f:\n",
        "#   json.dump(extra_pairs, f)"
      ]
    },
    {
      "cell_type": "code",
      "execution_count": null,
      "id": "a9b8ddfd",
      "metadata": {
        "id": "a9b8ddfd"
      },
      "outputs": [],
      "source": [
        "# with open('extra_vocab.json', 'w', encoding='utf-8') as f:\n",
        "#   json.dump(extra_vocab, f)"
      ]
    },
    {
      "cell_type": "code",
      "execution_count": null,
      "id": "9e23047f",
      "metadata": {
        "id": "9e23047f"
      },
      "outputs": [],
      "source": [
        "# with open('extra_vocab.json', 'r', encoding='utf-8') as f:\n",
        "#   extra_vocab = json.load(f)"
      ]
    },
    {
      "cell_type": "code",
      "execution_count": null,
      "id": "694b7a8d",
      "metadata": {
        "id": "694b7a8d"
      },
      "outputs": [],
      "source": [
        "# with open('extra_pairs.json', 'r', encoding='utf-8') as f:\n",
        "#   extra_pairs = json.load(f)"
      ]
    },
    {
      "cell_type": "code",
      "execution_count": 25,
      "id": "b7def3c1",
      "metadata": {
        "colab": {
          "base_uri": "https://localhost:8080/",
          "height": 0
        },
        "id": "b7def3c1",
        "outputId": "ad9dd620-03e0-44c8-80e8-fc0cc9b8bbc0"
      },
      "outputs": [
        {
          "output_type": "stream",
          "name": "stdout",
          "text": [
            "Looking in indexes: https://pypi.org/simple, https://us-python.pkg.dev/colab-wheels/public/simple/\n",
            "Collecting protobuf<=3.20.1\n",
            "  Downloading protobuf-3.20.1-cp310-cp310-manylinux_2_12_x86_64.manylinux2010_x86_64.whl (1.1 MB)\n",
            "\u001b[2K     \u001b[90m━━━━━━━━━━━━━━━━━━━━━━━━━━━━━━━━━━━━━━━━\u001b[0m \u001b[32m1.1/1.1 MB\u001b[0m \u001b[31m55.9 MB/s\u001b[0m eta \u001b[36m0:00:00\u001b[0m\n",
            "\u001b[?25hInstalling collected packages: protobuf\n",
            "  Attempting uninstall: protobuf\n",
            "    Found existing installation: protobuf 3.20.3\n",
            "    Uninstalling protobuf-3.20.3:\n",
            "      Successfully uninstalled protobuf-3.20.3\n",
            "\u001b[31mERROR: pip's dependency resolver does not currently take into account all the packages that are installed. This behaviour is the source of the following dependency conflicts.\n",
            "google-api-core 2.11.0 requires protobuf!=3.20.0,!=3.20.1,!=4.21.0,!=4.21.1,!=4.21.2,!=4.21.3,!=4.21.4,!=4.21.5,<5.0.0dev,>=3.19.5, but you have protobuf 3.20.1 which is incompatible.\n",
            "google-cloud-bigquery 3.9.0 requires protobuf!=3.20.0,!=3.20.1,!=4.21.0,!=4.21.1,!=4.21.2,!=4.21.3,!=4.21.4,!=4.21.5,<5.0.0dev,>=3.19.5, but you have protobuf 3.20.1 which is incompatible.\n",
            "google-cloud-bigquery-storage 2.19.1 requires protobuf!=3.20.0,!=3.20.1,!=4.21.0,!=4.21.1,!=4.21.2,!=4.21.3,!=4.21.4,!=4.21.5,<5.0.0dev,>=3.19.5, but you have protobuf 3.20.1 which is incompatible.\n",
            "google-cloud-datastore 2.15.1 requires protobuf!=3.20.0,!=3.20.1,!=4.21.0,!=4.21.1,!=4.21.2,!=4.21.3,!=4.21.4,!=4.21.5,<5.0.0dev,>=3.19.5, but you have protobuf 3.20.1 which is incompatible.\n",
            "google-cloud-firestore 2.11.0 requires protobuf!=3.20.0,!=3.20.1,!=4.21.0,!=4.21.1,!=4.21.2,!=4.21.3,!=4.21.4,!=4.21.5,<5.0.0dev,>=3.19.5, but you have protobuf 3.20.1 which is incompatible.\n",
            "google-cloud-language 2.9.1 requires protobuf!=3.20.0,!=3.20.1,!=4.21.0,!=4.21.1,!=4.21.2,!=4.21.3,!=4.21.4,!=4.21.5,<5.0.0dev,>=3.19.5, but you have protobuf 3.20.1 which is incompatible.\n",
            "google-cloud-translate 3.11.1 requires protobuf!=3.20.0,!=3.20.1,!=4.21.0,!=4.21.1,!=4.21.2,!=4.21.3,!=4.21.4,!=4.21.5,<5.0.0dev,>=3.19.5, but you have protobuf 3.20.1 which is incompatible.\n",
            "googleapis-common-protos 1.59.0 requires protobuf!=3.20.0,!=3.20.1,!=4.21.1,!=4.21.2,!=4.21.3,!=4.21.4,!=4.21.5,<5.0.0dev,>=3.19.5, but you have protobuf 3.20.1 which is incompatible.\n",
            "tensorflow 2.12.0 requires protobuf!=4.21.0,!=4.21.1,!=4.21.2,!=4.21.3,!=4.21.4,!=4.21.5,<5.0.0dev,>=3.20.3, but you have protobuf 3.20.1 which is incompatible.\n",
            "tensorflow-metadata 1.13.1 requires protobuf<5,>=3.20.3, but you have protobuf 3.20.1 which is incompatible.\u001b[0m\u001b[31m\n",
            "\u001b[0mSuccessfully installed protobuf-3.20.1\n"
          ]
        },
        {
          "output_type": "display_data",
          "data": {
            "application/vnd.colab-display-data+json": {
              "pip_warning": {
                "packages": [
                  "google"
                ]
              }
            }
          },
          "metadata": {}
        }
      ],
      "source": [
        "!pip install --upgrade \"protobuf<=3.20.1\""
      ]
    },
    {
      "cell_type": "code",
      "execution_count": 26,
      "id": "f7374a6e",
      "metadata": {
        "colab": {
          "base_uri": "https://localhost:8080/"
        },
        "id": "f7374a6e",
        "outputId": "c0c5b9bf-c50f-46a5-ad19-119ea099fc2b"
      },
      "outputs": [
        {
          "output_type": "execute_result",
          "data": {
            "text/plain": [
              "5069051"
            ]
          },
          "metadata": {},
          "execution_count": 26
        }
      ],
      "source": [
        "import sentencepiece_model_pb2 as model\n",
        "m = model.ModelProto()\n",
        "m.ParseFromString(open(\"old_tokenizer/sentencepiece.bpe.model\", \"rb\").read())"
      ]
    },
    {
      "cell_type": "code",
      "execution_count": 27,
      "id": "b5f1dd90",
      "metadata": {
        "id": "b5f1dd90"
      },
      "outputs": [],
      "source": [
        "scores = [p.score for p in m.pieces]\n",
        "min_score = min(scores)\n",
        "epsilon = 1e-4"
      ]
    },
    {
      "cell_type": "code",
      "execution_count": 28,
      "id": "9708a942",
      "metadata": {
        "id": "9708a942"
      },
      "outputs": [],
      "source": [
        "for i, pair in enumerate(extra_vocab):\n",
        "    new_token = model.ModelProto().SentencePiece()\n",
        "    new_token.piece = ''.join(pair)\n",
        "    new_token.score = min_score - epsilon * (i+1)\n",
        "    m.pieces.append(new_token)"
      ]
    },
    {
      "cell_type": "code",
      "execution_count": 29,
      "id": "53127238",
      "metadata": {
        "id": "53127238"
      },
      "outputs": [],
      "source": [
        "with open(\"old_tokenizer/sentencepiece.bpe.model\", 'wb') as f:\n",
        "    f.write(m.SerializeToString())"
      ]
    },
    {
      "cell_type": "code",
      "execution_count": 30,
      "id": "a12b727c",
      "metadata": {
        "id": "a12b727c"
      },
      "outputs": [],
      "source": [
        "tokenizer =  MBart50Tokenizer.from_pretrained(\n",
        "    \"old_tokenizer/\") "
      ]
    },
    {
      "cell_type": "code",
      "execution_count": 31,
      "id": "554f9868",
      "metadata": {
        "id": "554f9868"
      },
      "outputs": [],
      "source": [
        "new_tokenizer = MBart50Tokenizer.from_pretrained(\n",
        "    \"old_tokenizer/\", \n",
        "    additional_special_tokens = tokenizer.additional_special_tokens\n",
        ")"
      ]
    },
    {
      "cell_type": "code",
      "execution_count": 32,
      "id": "099a016a",
      "metadata": {
        "colab": {
          "base_uri": "https://localhost:8080/"
        },
        "id": "099a016a",
        "outputId": "744ead7f-f0a2-4dee-eb99-60cd22dbd725"
      },
      "outputs": [
        {
          "output_type": "execute_result",
          "data": {
            "text/plain": [
              "271867"
            ]
          },
          "metadata": {},
          "execution_count": 32
        }
      ],
      "source": [
        "new_tokenizer.vocab_size"
      ]
    },
    {
      "cell_type": "markdown",
      "id": "d137b5d2",
      "metadata": {
        "id": "d137b5d2"
      },
      "source": [
        "7893 новых токенов"
      ]
    },
    {
      "cell_type": "code",
      "execution_count": 33,
      "id": "f2cbd3b6",
      "metadata": {
        "id": "f2cbd3b6"
      },
      "outputs": [],
      "source": [
        "from transformers.models.mbart50.tokenization_mbart50 import FAIRSEQ_LANGUAGE_CODES"
      ]
    },
    {
      "cell_type": "code",
      "execution_count": 34,
      "id": "6d595ba8",
      "metadata": {
        "id": "6d595ba8"
      },
      "outputs": [],
      "source": [
        "self = new_tokenizer"
      ]
    },
    {
      "cell_type": "code",
      "execution_count": 35,
      "id": "0c88e630",
      "metadata": {
        "id": "0c88e630"
      },
      "outputs": [],
      "source": [
        "self.lang_code_to_id = {\n",
        "    code: self.sp_model_size + i + self.fairseq_offset for i, code in enumerate(FAIRSEQ_LANGUAGE_CODES + ['bxr_XX'])\n",
        "}\n",
        "self.id_to_lang_code = {v: k for k, v in self.lang_code_to_id.items()}\n",
        "self.fairseq_tokens_to_ids[\"<mask>\"] = len(self.sp_model) + len(self.lang_code_to_id) + self.fairseq_offset\n",
        "\n",
        "self.fairseq_tokens_to_ids.update(self.lang_code_to_id)\n",
        "self.fairseq_ids_to_tokens = {v: k for k, v in self.fairseq_tokens_to_ids.items()}"
      ]
    },
    {
      "cell_type": "code",
      "execution_count": 36,
      "id": "0b4b49fa",
      "metadata": {
        "id": "0b4b49fa"
      },
      "outputs": [],
      "source": [
        "new_tokenizer.additional_special_tokens.append('bxr_XX')"
      ]
    },
    {
      "cell_type": "code",
      "execution_count": 37,
      "id": "3f921ddf",
      "metadata": {
        "colab": {
          "base_uri": "https://localhost:8080/"
        },
        "id": "3f921ddf",
        "outputId": "3b42d7b5-e5e4-42d7-db6f-ba42f2a3eb15"
      },
      "outputs": [
        {
          "output_type": "execute_result",
          "data": {
            "text/plain": [
              "271868"
            ]
          },
          "metadata": {},
          "execution_count": 37
        }
      ],
      "source": [
        "# +1 токен для обозначения языка\n",
        "new_tokenizer.vocab_size"
      ]
    },
    {
      "cell_type": "code",
      "execution_count": 39,
      "id": "f4926727",
      "metadata": {
        "id": "f4926727"
      },
      "outputs": [],
      "source": [
        "tokenizer = MBart50Tokenizer.from_pretrained(\"facebook/mbart-large-50-many-to-many-mmt\")"
      ]
    },
    {
      "cell_type": "code",
      "execution_count": 40,
      "id": "2047f8e3",
      "metadata": {
        "colab": {
          "base_uri": "https://localhost:8080/"
        },
        "id": "2047f8e3",
        "outputId": "1cdb2e72-d9f4-4592-f0f9-527590863eed"
      },
      "outputs": [
        {
          "output_type": "stream",
          "name": "stdout",
          "text": [
            "['▁Ни', 'ма', '▁комисс', 'арт', 'ая', 'а', '▁з', 'эргэ', 'л', 'жэ', '▁ер', 'ээд', ':', '—', '▁Ни', 'ма', '▁Боро', 'евич', ',', '▁ямар', '▁h', 'ай', 'хан', '▁у', 'гле', 'ег', 'уур', '▁б', '▁э', '?', '—', 'г', 'энэ', '.', '—', '▁Хэ', 'л', 'э', 'шэ', 'гуй', '▁h', 'ай', 'хан', '!', '—', 'Ни', 'мын', '▁', 'саб', '▁са', 'га', 'ан', '▁шу', 'дэд', 'ын', 'ь', '▁', 'мун', '-', '▁', 'гэн', '▁тол', 'оор', '▁сай', 'рана', '.', 'Пар', 'ти', 'за', 'нска', '▁от', 'ряд', '▁та', 'ла', '▁газар', '▁гараж', 'а', '▁ер', 'эхэд', 'ээ', ',', '▁ж', 'эрэ', 'г', 'эр', '▁гоё', 'ор', '▁h', 'у', 'бар', 'я', 'ад', ',', '▁хар', 'гы', 'е', '▁да', 'ража', '▁бай', 'h', 'ан', '▁хур', '▁са', 'h', 'ые', '▁ху', 'с', 'э', 'тэ', '▁мор', 'и', '-', '▁до', 'йн', 'гоо', '▁тур', 'ууга', 'ар', '▁хам', 'хар', '▁ха', 'г', 'зар', '▁гэ', 'ш', 'хуу', 'лэн', '—', 'со', 'ёр', 'он', '▁со', 'ёр', 'он', '▁я', 'ба', '-', '▁', 'бад', '.']\n",
            "['▁Нима', '▁комисс', 'артаяа', '▁зэргэлжэ', '▁ерээд', ':', '—', '▁Нима', '▁Боро', 'евич', ',', '▁ямар', '▁hайхан', '▁у', 'гле', 'егуур', '▁б', '▁э', '?', '—', 'гэнэ', '.', '—', '▁Хэлэ', 'шэгуй', '▁hайхан', '!', '—', 'Ни', 'мын', '▁', 'саб', '▁сагаан', '▁шу', 'дэд', 'ын', 'ь', '▁', 'мун', '-', '▁', 'гэн', '▁тол', 'оор', '▁сай', 'рана', '.', 'Пар', 'ти', 'за', 'нска', '▁от', 'ряд', '▁та', 'ла', '▁газар', '▁гаража', '▁ерэхэдээ', ',', '▁ж', 'эрэг', 'эр', '▁гоёор', '▁hубар', 'я', 'ад', ',', '▁харгые', '▁да', 'ража', '▁байhан', '▁хур', '▁са', 'h', 'ые', '▁хусэ', 'тэ', '▁мор', 'и', '-', '▁до', 'йнгоо', '▁тур', 'уугаар', '▁хам', 'хар', '▁ха', 'г', 'зар', '▁гэшх', 'уулэн', '—', 'со', 'ёр', 'он', '▁соёр', 'он', '▁я', 'ба', '-', '▁', 'бад', '.']\n"
          ]
        }
      ],
      "source": [
        "print(tokenizer.tokenize(text))\n",
        "print(new_tokenizer.tokenize(text))"
      ]
    },
    {
      "cell_type": "code",
      "execution_count": 41,
      "id": "8d083e2f",
      "metadata": {
        "colab": {
          "base_uri": "https://localhost:8080/"
        },
        "id": "8d083e2f",
        "outputId": "50b70de9-4a23-4d30-80d4-f972c395ccd7"
      },
      "outputs": [
        {
          "output_type": "stream",
          "name": "stderr",
          "text": [
            "<ipython-input-41-aaaef8a53f32>:2: DeprecationWarning: Sampling from a set deprecated\n",
            "since Python 3.9 and will be removed in a subsequent version.\n",
            "  sample = random.sample(bur_all, 10000)\n"
          ]
        }
      ],
      "source": [
        "random.seed(1)\n",
        "sample = random.sample(bur_all, 10000)"
      ]
    },
    {
      "cell_type": "code",
      "execution_count": 42,
      "id": "f6522c92",
      "metadata": {
        "colab": {
          "base_uri": "https://localhost:8080/",
          "height": 0
        },
        "id": "f6522c92",
        "outputId": "5c43c643-5743-4a2c-ac7d-37799e7acb34"
      },
      "outputs": [
        {
          "output_type": "execute_result",
          "data": {
            "text/plain": [
              "                old           new\n",
              "count  10000.000000  10000.000000\n",
              "mean      54.835500     33.131200\n",
              "std       76.631259     46.535917\n",
              "min        2.000000      2.000000\n",
              "25%       20.000000     12.000000\n",
              "50%       35.000000     21.000000\n",
              "75%       63.000000     37.000000\n",
              "max     2339.000000   1370.000000"
            ],
            "text/html": [
              "\n",
              "  <div id=\"df-194e45de-d4a3-4b6c-9aa8-800c592f4f42\">\n",
              "    <div class=\"colab-df-container\">\n",
              "      <div>\n",
              "<style scoped>\n",
              "    .dataframe tbody tr th:only-of-type {\n",
              "        vertical-align: middle;\n",
              "    }\n",
              "\n",
              "    .dataframe tbody tr th {\n",
              "        vertical-align: top;\n",
              "    }\n",
              "\n",
              "    .dataframe thead th {\n",
              "        text-align: right;\n",
              "    }\n",
              "</style>\n",
              "<table border=\"1\" class=\"dataframe\">\n",
              "  <thead>\n",
              "    <tr style=\"text-align: right;\">\n",
              "      <th></th>\n",
              "      <th>old</th>\n",
              "      <th>new</th>\n",
              "    </tr>\n",
              "  </thead>\n",
              "  <tbody>\n",
              "    <tr>\n",
              "      <th>count</th>\n",
              "      <td>10000.000000</td>\n",
              "      <td>10000.000000</td>\n",
              "    </tr>\n",
              "    <tr>\n",
              "      <th>mean</th>\n",
              "      <td>54.835500</td>\n",
              "      <td>33.131200</td>\n",
              "    </tr>\n",
              "    <tr>\n",
              "      <th>std</th>\n",
              "      <td>76.631259</td>\n",
              "      <td>46.535917</td>\n",
              "    </tr>\n",
              "    <tr>\n",
              "      <th>min</th>\n",
              "      <td>2.000000</td>\n",
              "      <td>2.000000</td>\n",
              "    </tr>\n",
              "    <tr>\n",
              "      <th>25%</th>\n",
              "      <td>20.000000</td>\n",
              "      <td>12.000000</td>\n",
              "    </tr>\n",
              "    <tr>\n",
              "      <th>50%</th>\n",
              "      <td>35.000000</td>\n",
              "      <td>21.000000</td>\n",
              "    </tr>\n",
              "    <tr>\n",
              "      <th>75%</th>\n",
              "      <td>63.000000</td>\n",
              "      <td>37.000000</td>\n",
              "    </tr>\n",
              "    <tr>\n",
              "      <th>max</th>\n",
              "      <td>2339.000000</td>\n",
              "      <td>1370.000000</td>\n",
              "    </tr>\n",
              "  </tbody>\n",
              "</table>\n",
              "</div>\n",
              "      <button class=\"colab-df-convert\" onclick=\"convertToInteractive('df-194e45de-d4a3-4b6c-9aa8-800c592f4f42')\"\n",
              "              title=\"Convert this dataframe to an interactive table.\"\n",
              "              style=\"display:none;\">\n",
              "        \n",
              "  <svg xmlns=\"http://www.w3.org/2000/svg\" height=\"24px\"viewBox=\"0 0 24 24\"\n",
              "       width=\"24px\">\n",
              "    <path d=\"M0 0h24v24H0V0z\" fill=\"none\"/>\n",
              "    <path d=\"M18.56 5.44l.94 2.06.94-2.06 2.06-.94-2.06-.94-.94-2.06-.94 2.06-2.06.94zm-11 1L8.5 8.5l.94-2.06 2.06-.94-2.06-.94L8.5 2.5l-.94 2.06-2.06.94zm10 10l.94 2.06.94-2.06 2.06-.94-2.06-.94-.94-2.06-.94 2.06-2.06.94z\"/><path d=\"M17.41 7.96l-1.37-1.37c-.4-.4-.92-.59-1.43-.59-.52 0-1.04.2-1.43.59L10.3 9.45l-7.72 7.72c-.78.78-.78 2.05 0 2.83L4 21.41c.39.39.9.59 1.41.59.51 0 1.02-.2 1.41-.59l7.78-7.78 2.81-2.81c.8-.78.8-2.07 0-2.86zM5.41 20L4 18.59l7.72-7.72 1.47 1.35L5.41 20z\"/>\n",
              "  </svg>\n",
              "      </button>\n",
              "      \n",
              "  <style>\n",
              "    .colab-df-container {\n",
              "      display:flex;\n",
              "      flex-wrap:wrap;\n",
              "      gap: 12px;\n",
              "    }\n",
              "\n",
              "    .colab-df-convert {\n",
              "      background-color: #E8F0FE;\n",
              "      border: none;\n",
              "      border-radius: 50%;\n",
              "      cursor: pointer;\n",
              "      display: none;\n",
              "      fill: #1967D2;\n",
              "      height: 32px;\n",
              "      padding: 0 0 0 0;\n",
              "      width: 32px;\n",
              "    }\n",
              "\n",
              "    .colab-df-convert:hover {\n",
              "      background-color: #E2EBFA;\n",
              "      box-shadow: 0px 1px 2px rgba(60, 64, 67, 0.3), 0px 1px 3px 1px rgba(60, 64, 67, 0.15);\n",
              "      fill: #174EA6;\n",
              "    }\n",
              "\n",
              "    [theme=dark] .colab-df-convert {\n",
              "      background-color: #3B4455;\n",
              "      fill: #D2E3FC;\n",
              "    }\n",
              "\n",
              "    [theme=dark] .colab-df-convert:hover {\n",
              "      background-color: #434B5C;\n",
              "      box-shadow: 0px 1px 3px 1px rgba(0, 0, 0, 0.15);\n",
              "      filter: drop-shadow(0px 1px 2px rgba(0, 0, 0, 0.3));\n",
              "      fill: #FFFFFF;\n",
              "    }\n",
              "  </style>\n",
              "\n",
              "      <script>\n",
              "        const buttonEl =\n",
              "          document.querySelector('#df-194e45de-d4a3-4b6c-9aa8-800c592f4f42 button.colab-df-convert');\n",
              "        buttonEl.style.display =\n",
              "          google.colab.kernel.accessAllowed ? 'block' : 'none';\n",
              "\n",
              "        async function convertToInteractive(key) {\n",
              "          const element = document.querySelector('#df-194e45de-d4a3-4b6c-9aa8-800c592f4f42');\n",
              "          const dataTable =\n",
              "            await google.colab.kernel.invokeFunction('convertToInteractive',\n",
              "                                                     [key], {});\n",
              "          if (!dataTable) return;\n",
              "\n",
              "          const docLinkHtml = 'Like what you see? Visit the ' +\n",
              "            '<a target=\"_blank\" href=https://colab.research.google.com/notebooks/data_table.ipynb>data table notebook</a>'\n",
              "            + ' to learn more about interactive tables.';\n",
              "          element.innerHTML = '';\n",
              "          dataTable['output_type'] = 'display_data';\n",
              "          await google.colab.output.renderOutput(dataTable, element);\n",
              "          const docLink = document.createElement('div');\n",
              "          docLink.innerHTML = docLinkHtml;\n",
              "          element.appendChild(docLink);\n",
              "        }\n",
              "      </script>\n",
              "    </div>\n",
              "  </div>\n",
              "  "
            ]
          },
          "metadata": {},
          "execution_count": 42
        }
      ],
      "source": [
        "# по 10к предложений статистика длины токенов\n",
        "pd.DataFrame({\n",
        "    'old': [len(tokenizer.tokenize(text)) for text in sample], \n",
        "    'new': [len(new_tokenizer.tokenize(text)) for text in sample]\n",
        "}).describe()"
      ]
    },
    {
      "cell_type": "markdown",
      "id": "a33cb8d0",
      "metadata": {
        "id": "a33cb8d0"
      },
      "source": [
        "## Calculating tokens alignment"
      ]
    },
    {
      "cell_type": "code",
      "execution_count": 43,
      "id": "1abb56b6",
      "metadata": {
        "id": "1abb56b6"
      },
      "outputs": [],
      "source": [
        "with open('train.json', 'r', encoding='utf-8') as f:\n",
        "    all_pairs = json.load(f)"
      ]
    },
    {
      "cell_type": "code",
      "execution_count": 46,
      "id": "d6f9325e",
      "metadata": {
        "colab": {
          "base_uri": "https://localhost:8080/"
        },
        "id": "d6f9325e",
        "outputId": "e3654511-8501-42ce-828f-dd979f805b64"
      },
      "outputs": [
        {
          "output_type": "execute_result",
          "data": {
            "text/plain": [
              "['Площадь дээрэ хон жэн болобо.', 'Площадь опустела.']"
            ]
          },
          "metadata": {},
          "execution_count": 46
        }
      ],
      "source": [
        "random.choice(all_pairs)"
      ]
    },
    {
      "cell_type": "code",
      "execution_count": 47,
      "id": "375f29a5",
      "metadata": {
        "colab": {
          "base_uri": "https://localhost:8080/"
        },
        "id": "375f29a5",
        "outputId": "03b1f634-1461-4a4f-bb86-860d4accd041"
      },
      "outputs": [
        {
          "output_type": "execute_result",
          "data": {
            "text/plain": [
              "('длина параллельного текста (предложения и слова) ', 36437)"
            ]
          },
          "metadata": {},
          "execution_count": 47
        }
      ],
      "source": [
        "'длина параллельного текста (предложения и слова) ', len(all_pairs)"
      ]
    },
    {
      "cell_type": "code",
      "execution_count": 48,
      "id": "d0abce9d",
      "metadata": {
        "id": "d0abce9d"
      },
      "outputs": [],
      "source": [
        "from collections import defaultdict, Counter\n",
        "token_priors = Counter()\n",
        "token_to_others = defaultdict(Counter)"
      ]
    },
    {
      "cell_type": "code",
      "execution_count": 49,
      "id": "e1ee8fea",
      "metadata": {
        "colab": {
          "base_uri": "https://localhost:8080/",
          "height": 0,
          "referenced_widgets": [
            "3b2eb6d12e404122afb6a62f1af2817d",
            "ded7f8e7ea5d4acf9c0a70a9259aaabe",
            "b7a90b70876f4c81bb30c06cb323675e",
            "14f8aee20a99444f9e215ab147ddd87b",
            "c65f08c8429f49aa94716b1fce7770d9",
            "6ac2af500f9748c49ce0d235788df7ce",
            "e5c81f6b1dbd4f2d9d8e731bc1730eaf",
            "0b318be2f32045f997beab9377816f7f",
            "df97253a2aa540e587dd67681d44e20b",
            "0f7f26e0ed0f489fa25b2349086fe1da",
            "5108d6e5960d472a9be0d697d294afb7"
          ]
        },
        "id": "e1ee8fea",
        "outputId": "ece76fc4-2c66-4c24-eae5-aa8a6af48322"
      },
      "outputs": [
        {
          "output_type": "display_data",
          "data": {
            "text/plain": [
              "  0%|          | 0/36437 [00:00<?, ?it/s]"
            ],
            "application/vnd.jupyter.widget-view+json": {
              "version_major": 2,
              "version_minor": 0,
              "model_id": "3b2eb6d12e404122afb6a62f1af2817d"
            }
          },
          "metadata": {}
        }
      ],
      "source": [
        "for bur, ru in tqdm(all_pairs):\n",
        "    bur_toks = new_tokenizer.convert_tokens_to_ids(new_tokenizer.tokenize(bur))\n",
        "    ru_toks = tokenizer.convert_tokens_to_ids(tokenizer.tokenize(ru))\n",
        "    token_priors.update(ru_toks)\n",
        "    for bur_tok in bur_toks:\n",
        "        token_to_others[bur_tok].update(ru_toks)"
      ]
    },
    {
      "cell_type": "code",
      "execution_count": 50,
      "id": "101cc6a4",
      "metadata": {
        "id": "101cc6a4"
      },
      "outputs": [],
      "source": [
        "import numpy as np\n",
        "\n",
        "def get_ru_toks(bxr_tok):\n",
        "    ru_toks = []\n",
        "    ru_weights = []\n",
        "    for t, w in token_to_others[bxr_tok].items():\n",
        "        ru_toks.append(t)\n",
        "        ru_weights.append(w**2 / token_priors[t])\n",
        "    ru_weights = np.array(ru_weights)\n",
        "    ru_weights = ru_weights / (sum(ru_weights) + 1e-4)\n",
        "    return ru_weights, ru_toks"
      ]
    },
    {
      "cell_type": "code",
      "execution_count": 51,
      "id": "0d09782a",
      "metadata": {
        "colab": {
          "base_uri": "https://localhost:8080/"
        },
        "id": "0d09782a",
        "outputId": "d5838f1d-88a6-4520-cf53-a4d658bbe1cd"
      },
      "outputs": [
        {
          "output_type": "execute_result",
          "data": {
            "text/plain": [
              "('Хойто үдэрынь Иоанн баhал тэрэ hууридаа хоёр шабинартаяа хамта ерээд байба.',\n",
              " 'На другой день опять стоял Иоанн и двое из учеников его.')"
            ]
          },
          "metadata": {},
          "execution_count": 51
        }
      ],
      "source": [
        "bur, ru = random.choice(all_pairs)\n",
        "bur, ru"
      ]
    },
    {
      "cell_type": "code",
      "execution_count": 52,
      "id": "5517ac00",
      "metadata": {
        "colab": {
          "base_uri": "https://localhost:8080/"
        },
        "id": "5517ac00",
        "outputId": "89b87e85-5c93-4d72-d85d-75b2cbdf2a53"
      },
      "outputs": [
        {
          "output_type": "stream",
          "name": "stdout",
          "text": [
            "[253444, 6, 258622, 804, 197, 2155, 303, 250678, 250024, 255998, 21805, 260780, 251123, 21831, 59, 250253, 250082, 5]\n"
          ]
        }
      ],
      "source": [
        "print(new_tokenizer.convert_tokens_to_ids(new_tokenizer.tokenize(bur)))"
      ]
    },
    {
      "cell_type": "code",
      "execution_count": 53,
      "id": "f25a5d9b",
      "metadata": {
        "id": "f25a5d9b"
      },
      "outputs": [],
      "source": [
        "bur_token = 37976"
      ]
    },
    {
      "cell_type": "code",
      "execution_count": 54,
      "id": "b276a3ac",
      "metadata": {
        "colab": {
          "base_uri": "https://localhost:8080/"
        },
        "id": "b276a3ac",
        "outputId": "190f60f2-01fb-4c2c-f023-9a17d99316e3"
      },
      "outputs": [
        {
          "output_type": "execute_result",
          "data": {
            "text/plain": [
              "[(0.5936369129097556, 37976),\n",
              " (0.39575794193983704, 222149),\n",
              " (0.0060885837221513394, 42315),\n",
              " (0.002314373929472731, 17512),\n",
              " (0.0021626117045892737, 49517)]"
            ]
          },
          "metadata": {},
          "execution_count": 54
        }
      ],
      "source": [
        "sorted(zip(*get_ru_toks(bur_token)), reverse=True)[:5]"
      ]
    },
    {
      "cell_type": "code",
      "execution_count": 55,
      "id": "5952758e",
      "metadata": {
        "colab": {
          "base_uri": "https://localhost:8080/"
        },
        "id": "5952758e",
        "outputId": "ae7a5f38-b9cb-4bcb-a68d-6cdefd181713"
      },
      "outputs": [
        {
          "output_type": "execute_result",
          "data": {
            "text/plain": [
              "['▁демократ', '▁демократия', 'изация', 'изм', 'ический']"
            ]
          },
          "metadata": {},
          "execution_count": 55
        }
      ],
      "source": [
        "tokenizer.convert_ids_to_tokens([37976, 222149, 42315,  17512, 49517])"
      ]
    },
    {
      "cell_type": "markdown",
      "id": "bc33ea7a",
      "metadata": {
        "id": "bc33ea7a"
      },
      "source": [
        "## Updating the model embeddings"
      ]
    },
    {
      "cell_type": "code",
      "execution_count": 56,
      "id": "71f10ab1",
      "metadata": {
        "colab": {
          "base_uri": "https://localhost:8080/"
        },
        "id": "71f10ab1",
        "outputId": "56441da6-0e11-447b-bf93-12b7d1e44647"
      },
      "outputs": [
        {
          "output_type": "execute_result",
          "data": {
            "text/plain": [
              "271868"
            ]
          },
          "metadata": {},
          "execution_count": 56
        }
      ],
      "source": [
        "len(new_tokenizer)"
      ]
    },
    {
      "cell_type": "code",
      "execution_count": 57,
      "id": "aa61f630",
      "metadata": {
        "colab": {
          "base_uri": "https://localhost:8080/",
          "height": 0,
          "referenced_widgets": [
            "e78616f27e6742e38a19b0089126270d",
            "f8f7b641d6954b1a832b1ad8fb25b2df",
            "4f9d4e38930f41e0b8d21a0da2a0f8b3",
            "60ba1f0626a340d6b1a959030a466b8d",
            "2c631a91a3c347cca5d7bcf366a0cb10",
            "08a19d668f004a31a24f376e68e0a5c3",
            "2530b14d41244c8b913823acd24a388e",
            "5ca5bfe8ec8a49aaac518bf59098fe6a",
            "f117efcdc7bd4bbb8a4a78844d3946b7",
            "a589a165122c497b8067bfbd9674aeb8",
            "14574633fb50400c866e285d934373c3",
            "f72cdc05de45499593324fca0c23fe06",
            "99e874536d4a4f4fa06be818129e0017",
            "9f7f52fa92624bdcb2bd9aa671d244e2",
            "3dfdc3b868694631a0215e39f5b2d1a0",
            "b173be1865c04cc6aecb8a87c387a6c2",
            "498e8533ef6e40dcb5d39d3b0a97ec89",
            "6948b459799e4d65857993965f65be3f",
            "6d909daea49a4158a488f9bad119185d",
            "4842dd544abd44b287c57cfaa187f752",
            "48df9e360bac4b4a92dacd00b5620bd7",
            "c765f452e15c4e70a5c0976c87d4bb51"
          ]
        },
        "id": "aa61f630",
        "outputId": "8bd76acf-01f4-4b52-c309-0e05902107cd"
      },
      "outputs": [
        {
          "output_type": "display_data",
          "data": {
            "text/plain": [
              "Downloading pytorch_model.bin:   0%|          | 0.00/2.44G [00:00<?, ?B/s]"
            ],
            "application/vnd.jupyter.widget-view+json": {
              "version_major": 2,
              "version_minor": 0,
              "model_id": "e78616f27e6742e38a19b0089126270d"
            }
          },
          "metadata": {}
        },
        {
          "output_type": "display_data",
          "data": {
            "text/plain": [
              "Downloading (…)neration_config.json:   0%|          | 0.00/261 [00:00<?, ?B/s]"
            ],
            "application/vnd.jupyter.widget-view+json": {
              "version_major": 2,
              "version_minor": 0,
              "model_id": "f72cdc05de45499593324fca0c23fe06"
            }
          },
          "metadata": {}
        }
      ],
      "source": [
        "from transformers import MBartForConditionalGeneration, MBart50Tokenizer\n",
        "model = MBartForConditionalGeneration.from_pretrained(\"facebook/mbart-large-50-many-to-many-mmt\")"
      ]
    },
    {
      "cell_type": "code",
      "execution_count": 58,
      "id": "4b88ba4f",
      "metadata": {
        "colab": {
          "base_uri": "https://localhost:8080/"
        },
        "id": "4b88ba4f",
        "outputId": "e9ec44d6-cb12-40ff-82bd-087699a1e20e"
      },
      "outputs": [
        {
          "output_type": "execute_result",
          "data": {
            "text/plain": [
              "Embedding(250054, 1024, padding_idx=1)"
            ]
          },
          "metadata": {},
          "execution_count": 58
        }
      ],
      "source": [
        "model.model.shared"
      ]
    },
    {
      "cell_type": "code",
      "execution_count": 59,
      "id": "4ff81b7c",
      "metadata": {
        "colab": {
          "base_uri": "https://localhost:8080/"
        },
        "id": "4ff81b7c",
        "outputId": "92f6d760-5cda-4f6e-fb2e-e09d3423da3f"
      },
      "outputs": [
        {
          "output_type": "execute_result",
          "data": {
            "text/plain": [
              "Embedding(271868, 1024)"
            ]
          },
          "metadata": {},
          "execution_count": 59
        }
      ],
      "source": [
        "# изменяем размер токенов\n",
        "model.resize_token_embeddings(len(new_tokenizer))"
      ]
    },
    {
      "cell_type": "code",
      "execution_count": 60,
      "id": "9c62619e",
      "metadata": {
        "colab": {
          "base_uri": "https://localhost:8080/"
        },
        "id": "9c62619e",
        "outputId": "861f5a37-52c0-4258-adc7-cb79e5ef985d"
      },
      "outputs": [
        {
          "output_type": "stream",
          "name": "stdout",
          "text": [
            "21813\n"
          ]
        }
      ],
      "source": [
        "n_extra = len(extra_vocab)\n",
        "print(n_extra)\n",
        "old_vocab_size = len(tokenizer.sp_model) + 1"
      ]
    },
    {
      "cell_type": "code",
      "execution_count": 61,
      "id": "1b687529",
      "metadata": {
        "colab": {
          "base_uri": "https://localhost:8080/"
        },
        "id": "1b687529",
        "outputId": "f07b92aa-8796-4470-e5ab-fc72f06d347f"
      },
      "outputs": [
        {
          "output_type": "execute_result",
          "data": {
            "text/plain": [
              "250001"
            ]
          },
          "metadata": {},
          "execution_count": 61
        }
      ],
      "source": [
        "old_vocab_size"
      ]
    },
    {
      "cell_type": "code",
      "execution_count": 62,
      "id": "49228f05",
      "metadata": {
        "colab": {
          "base_uri": "https://localhost:8080/"
        },
        "id": "49228f05",
        "outputId": "4495ee2b-f0b6-4305-d774-d903b3a17178"
      },
      "outputs": [
        {
          "output_type": "stream",
          "name": "stdout",
          "text": [
            "250001 ar_AR 271814\n",
            "250002 cs_CZ 271815\n",
            "250003 de_DE 271816\n",
            "250004 en_XX 271817\n",
            "250005 es_XX 271818\n",
            "250006 et_EE 271819\n",
            "250007 fi_FI 271820\n",
            "250008 fr_XX 271821\n",
            "250009 gu_IN 271822\n",
            "250010 hi_IN 271823\n",
            "250011 it_IT 271824\n",
            "250012 ja_XX 271825\n",
            "250013 kk_KZ 271826\n",
            "250014 ko_KR 271827\n",
            "250015 lt_LT 271828\n",
            "250016 lv_LV 271829\n",
            "250017 my_MM 271830\n",
            "250018 ne_NP 271831\n",
            "250019 nl_XX 271832\n",
            "250020 ro_RO 271833\n",
            "250021 ru_RU 271834\n",
            "250022 si_LK 271835\n",
            "250023 tr_TR 271836\n",
            "250024 vi_VN 271837\n",
            "250025 zh_CN 271838\n",
            "250026 af_ZA 271839\n",
            "250027 az_AZ 271840\n",
            "250028 bn_IN 271841\n",
            "250029 fa_IR 271842\n",
            "250030 he_IL 271843\n",
            "250031 hr_HR 271844\n",
            "250032 id_ID 271845\n",
            "250033 ka_GE 271846\n",
            "250034 km_KH 271847\n",
            "250035 mk_MK 271848\n",
            "250036 ml_IN 271849\n",
            "250037 mn_MN 271850\n",
            "250038 mr_IN 271851\n",
            "250039 pl_PL 271852\n",
            "250040 ps_AF 271853\n",
            "250041 pt_XX 271854\n",
            "250042 sv_SE 271855\n",
            "250043 sw_KE 271856\n",
            "250044 ta_IN 271857\n",
            "250045 te_IN 271858\n",
            "250046 th_TH 271859\n",
            "250047 tl_XX 271860\n",
            "250048 uk_UA 271861\n",
            "250049 ur_PK 271862\n",
            "250050 xh_ZA 271863\n",
            "250051 gl_ES 271864\n",
            "250052 sl_SI 271865\n",
            "250053 <mask> 271867\n"
          ]
        }
      ],
      "source": [
        "# токены, кодирующие язык \"переместили\" в конец по айди\n",
        "\n",
        "for old_token_id in range(old_vocab_size, len(tokenizer)):\n",
        "    old_token = tokenizer.convert_ids_to_tokens(old_token_id)\n",
        "    new_token_id = new_tokenizer.convert_tokens_to_ids(old_token)\n",
        "    \n",
        "    print(old_token_id, old_token, new_token_id)\n",
        "    # model.model.shared.weight.data[i + n_extra] = model.model.shared.weight.data[i]\n",
        "    model.model.shared.weight.data[new_token_id] = model.model.shared.weight.data[old_token_id]"
      ]
    },
    {
      "cell_type": "markdown",
      "id": "56ff7ddf",
      "metadata": {
        "id": "56ff7ddf"
      },
      "source": [
        "~ 50 токенов для языков"
      ]
    },
    {
      "cell_type": "markdown",
      "id": "cb542034",
      "metadata": {
        "id": "cb542034"
      },
      "source": [
        "Because we have added one more language, its id must be computed separately, e.g. as an average of related languages"
      ]
    },
    {
      "cell_type": "code",
      "execution_count": 63,
      "id": "5fc34fef",
      "metadata": {
        "id": "5fc34fef"
      },
      "outputs": [],
      "source": [
        "model.model.shared.weight.data[new_tokenizer.convert_tokens_to_ids('bxr_XX')] = (\n",
        "    model.model.shared.weight.data[tokenizer.convert_tokens_to_ids('mn_MN')] * 0.45\n",
        "    + model.model.shared.weight.data[tokenizer.convert_tokens_to_ids('ru_RU')] * 0.45\n",
        ")"
      ]
    },
    {
      "cell_type": "markdown",
      "id": "08beae03",
      "metadata": {
        "id": "08beae03"
      },
      "source": [
        "Compute embeddings for newly added tokens"
      ]
    },
    {
      "cell_type": "code",
      "execution_count": 64,
      "id": "e86d91c5",
      "metadata": {
        "colab": {
          "base_uri": "https://localhost:8080/",
          "height": 0,
          "referenced_widgets": [
            "d2c6c3d88fb145aab1f044772c0060f6",
            "117e73107856405c8c693d6be00447cf",
            "ceb78be7ecd5444d8f9aaba007de1f0a",
            "34c3c2feb29b40019e19d1129614bb44",
            "f4056dbc33cd4279bb5a23b085a95657",
            "ea2274798e4146759df96394fee0df88",
            "886992ea92914ce3ba452b01e0b87577",
            "034d9cf06cf14ea09717e5ed614923e4",
            "b1f9392bbbac471aa7d3466615bacb0e",
            "7625cef147c64a9e8f53e82d66ba8769",
            "de568801604948208af17a8e2b8641c1"
          ]
        },
        "id": "e86d91c5",
        "outputId": "b10ac64a-bbee-4bf7-f880-a2198e91f1c3"
      },
      "outputs": [
        {
          "output_type": "display_data",
          "data": {
            "text/plain": [
              "  0%|          | 0/21813 [00:00<?, ?it/s]"
            ],
            "application/vnd.jupyter.widget-view+json": {
              "version_major": 2,
              "version_minor": 0,
              "model_id": "d2c6c3d88fb145aab1f044772c0060f6"
            }
          },
          "metadata": {}
        }
      ],
      "source": [
        "for i in trange(n_extra):\n",
        "    bxr_tok = i + old_vocab_size\n",
        "    ru_weights, ru_toks = get_ru_toks(bxr_tok)\n",
        "    if len(ru_toks) > 0:\n",
        "        new_embedding = (model.model.shared.weight.data[ru_toks].T * ru_weights).sum(1)\n",
        "        model.model.shared.weight.data[bxr_tok] = new_embedding"
      ]
    },
    {
      "cell_type": "code",
      "execution_count": null,
      "id": "1410c202",
      "metadata": {
        "id": "1410c202"
      },
      "outputs": [],
      "source": [
        "# from google.colab import drive\n",
        "# drive.mount('/content/drive', force_remount=True)"
      ]
    },
    {
      "cell_type": "code",
      "execution_count": null,
      "id": "d9f92178",
      "metadata": {
        "id": "d9f92178"
      },
      "outputs": [],
      "source": [
        "# new_model_path = '/content/drive/MyDrive/ml_models/bxr/mbart-large-50-bxr-v0'"
      ]
    },
    {
      "cell_type": "code",
      "execution_count": null,
      "id": "c3905a58",
      "metadata": {
        "id": "c3905a58"
      },
      "outputs": [],
      "source": [
        "# model.save_pretrained(new_model_path)\n",
        "# new_tokenizer.save_pretrained(new_model_path)"
      ]
    },
    {
      "cell_type": "code",
      "execution_count": null,
      "id": "ef9a2a5c",
      "metadata": {
        "id": "ef9a2a5c"
      },
      "outputs": [],
      "source": [
        "# !ls -alsh $new_model_path"
      ]
    },
    {
      "cell_type": "code",
      "execution_count": 65,
      "id": "e2b7ab36",
      "metadata": {
        "colab": {
          "base_uri": "https://localhost:8080/"
        },
        "id": "e2b7ab36",
        "outputId": "a67c44a3-1c85-4656-ccf0-98ff20f0dd95"
      },
      "outputs": [
        {
          "output_type": "execute_result",
          "data": {
            "text/plain": [
              "[\"Le chef de la mission de l 'ONU a déclaré qu 'il n' y a pas de solution militaire en Syria.\"]"
            ]
          },
          "metadata": {},
          "execution_count": 65
        }
      ],
      "source": [
        "# проверяю, что модель не разучилась переводить (код из доки mbart)\n",
        "\n",
        "article_hi = \"संयुक्त राष्ट्र के प्रमुख का कहना है कि सीरिया में कोई सैन्य समाधान नहीं है\"\n",
        "\n",
        "# translate Hindi to French\n",
        "new_tokenizer.src_lang = \"hi_IN\"\n",
        "encoded_hi = new_tokenizer(article_hi, return_tensors=\"pt\")\n",
        "generated_tokens = model.generate(\n",
        "    **encoded_hi,\n",
        "    forced_bos_token_id=new_tokenizer.lang_code_to_id[\"fr_XX\"], \n",
        "    max_length=30, \n",
        "    num_beams=1\n",
        ")\n",
        "new_tokenizer.batch_decode(generated_tokens, skip_special_tokens=True)\n",
        "# => \"Le chef de l 'ONU affirme qu 'il n 'y a pas de solution militaire dans la Syrie.\""
      ]
    },
    {
      "cell_type": "markdown",
      "id": "c0be95f7",
      "metadata": {
        "id": "c0be95f7"
      },
      "source": [
        "перевела немного другими словами, но судя по гугл переводчику, смысл сохранила точно"
      ]
    },
    {
      "cell_type": "code",
      "execution_count": 66,
      "id": "d33188d5",
      "metadata": {
        "colab": {
          "base_uri": "https://localhost:8080/"
        },
        "id": "d33188d5",
        "outputId": "ac6d4e80-b153-4709-8c5d-8ebf7ab97520"
      },
      "outputs": [
        {
          "output_type": "execute_result",
          "data": {
            "text/plain": [
              "[\"Доржихэ The head of the United Nations says there's no military solution in Syria. < s > Relatedнгее: http://www\"]"
            ]
          },
          "metadata": {},
          "execution_count": 66
        }
      ],
      "source": [
        "generated_tokens = model.generate(\n",
        "    **encoded_hi,\n",
        "    forced_bos_token_id=new_tokenizer.lang_code_to_id[\"ru_RU\"], \n",
        "    max_length=30, \n",
        "    num_beams=5,\n",
        "    repetition_penalty=30.0,\n",
        ")\n",
        "new_tokenizer.batch_decode(generated_tokens, skip_special_tokens=True)\n",
        "# => \"Le chef de l 'ONU affirme qu 'il n 'y a pas de solution militaire dans la Syrie.\""
      ]
    },
    {
      "cell_type": "markdown",
      "id": "4a676282",
      "metadata": {
        "id": "4a676282"
      },
      "source": [
        "модель разучилась переводить на русский из-за того, что бурятские токены похожи на русские. Даже если заблокировать новые токены"
      ]
    },
    {
      "cell_type": "code",
      "execution_count": 67,
      "id": "acb606aa",
      "metadata": {
        "colab": {
          "base_uri": "https://localhost:8080/"
        },
        "id": "acb606aa",
        "outputId": "d1b658f9-6e81-4a15-8b7f-247ed48d689a"
      },
      "outputs": [
        {
          "output_type": "execute_result",
          "data": {
            "text/plain": [
              "[\"«They don 't want to know what' s going on in the region, but they think that there is a lot of\"]"
            ]
          },
          "metadata": {},
          "execution_count": 67
        }
      ],
      "source": [
        "generated_tokens = model.generate(\n",
        "    **encoded_hi,\n",
        "    forced_bos_token_id=new_tokenizer.lang_code_to_id[\"ru_RU\"], \n",
        "    max_length=30, \n",
        "    num_beams=5,\n",
        "    repetition_penalty=30.0,\n",
        "    bad_words_ids=[[t] for t in range(n_extra, n_extra+old_vocab_size)]\n",
        ")\n",
        "new_tokenizer.batch_decode(generated_tokens, skip_special_tokens=True)\n",
        "# => \"Le chef de l 'ONU affirme qu 'il n 'y a pas de solution militaire dans la Syrie.\""
      ]
    },
    {
      "cell_type": "code",
      "execution_count": 72,
      "id": "c15197a6",
      "metadata": {
        "colab": {
          "base_uri": "https://localhost:8080/"
        },
        "id": "c15197a6",
        "outputId": "dcb728a2-e6e1-4dda-9e14-50a6572d36ae"
      },
      "outputs": [
        {
          "output_type": "execute_result",
          "data": {
            "text/plain": [
              "('Минин hэшхэл сэбэр байгаа, би судhаа айгаа үгыб, тиигэбэшье, инагтайгаа золгохо минутамни, магадгүй, хэдэн hараар хойшолбо гэжэ hанахадаа зосоом муу болоо hэн.',\n",
              " 'Совесть моя была чиста; я суда не боялся; но мысль отсрочить минуту сладкого свидания, может быть, на несколько еще месяцев — устрашала меня.')"
            ]
          },
          "metadata": {},
          "execution_count": 72
        }
      ],
      "source": [
        "bxr, ru = random.choice(all_pairs)\n",
        "bxr, ru"
      ]
    },
    {
      "cell_type": "code",
      "execution_count": 73,
      "id": "3a1e0d9d",
      "metadata": {
        "colab": {
          "base_uri": "https://localhost:8080/"
        },
        "id": "3a1e0d9d",
        "outputId": "6e275a93-a590-4b28-9af1-cb3e05b88148"
      },
      "outputs": [
        {
          "output_type": "execute_result",
          "data": {
            "text/plain": [
              "[\"тyрэжэ It's pure, I will say it for a few minutes with my mom and dad; maybe some of the sweet things\"]"
            ]
          },
          "metadata": {},
          "execution_count": 73
        }
      ],
      "source": [
        "new_tokenizer.src_lang = \"bxr_XX\"\n",
        "encoded_hi = new_tokenizer(bxr, return_tensors=\"pt\")\n",
        "generated_tokens = model.generate(\n",
        "    **encoded_hi,\n",
        "    forced_bos_token_id=new_tokenizer.lang_code_to_id[\"ru_RU\"], \n",
        "    max_length=30, \n",
        "    num_beams=5,\n",
        "    repetition_penalty=30.0\n",
        ")\n",
        "new_tokenizer.batch_decode(generated_tokens, skip_special_tokens=True)"
      ]
    },
    {
      "cell_type": "code",
      "execution_count": null,
      "id": "8fda2c61",
      "metadata": {
        "id": "8fda2c61"
      },
      "outputs": [],
      "source": []
    },
    {
      "cell_type": "markdown",
      "id": "98d160f1",
      "metadata": {
        "id": "98d160f1"
      },
      "source": [
        "# Обучение модели на машинный перевод"
      ]
    },
    {
      "cell_type": "code",
      "execution_count": null,
      "id": "7801d2c2",
      "metadata": {
        "id": "7801d2c2"
      },
      "outputs": [],
      "source": [
        "# from google.colab import drive\n",
        "# drive.mount('/content/drive')"
      ]
    },
    {
      "cell_type": "code",
      "execution_count": null,
      "id": "ac497465",
      "metadata": {
        "colab": {
          "base_uri": "https://localhost:8080/"
        },
        "id": "ac497465",
        "outputId": "7a3fe693-2eb3-40a1-ccff-2d2c60408e98"
      },
      "outputs": [
        {
          "name": "stdout",
          "output_type": "stream",
          "text": [
            "\u001b[33mWARNING: Running pip as the 'root' user can result in broken permissions and conflicting behaviour with the system package manager. It is recommended to use a virtual environment instead: https://pip.pypa.io/warnings/venv\u001b[0m\u001b[33m\n",
            "\u001b[0m\n",
            "\u001b[1m[\u001b[0m\u001b[34;49mnotice\u001b[0m\u001b[1;39;49m]\u001b[0m\u001b[39;49m A new release of pip available: \u001b[0m\u001b[31;49m22.3.1\u001b[0m\u001b[39;49m -> \u001b[0m\u001b[32;49m23.1.2\u001b[0m\n",
            "\u001b[1m[\u001b[0m\u001b[34;49mnotice\u001b[0m\u001b[1;39;49m]\u001b[0m\u001b[39;49m To update, run: \u001b[0m\u001b[32;49mpython -m pip install --upgrade pip\u001b[0m\n"
          ]
        }
      ],
      "source": [
        "!pip install transformers sentencepiece sacrebleu -q"
      ]
    },
    {
      "cell_type": "code",
      "execution_count": 74,
      "id": "3d1bfbbe",
      "metadata": {
        "id": "3d1bfbbe"
      },
      "outputs": [],
      "source": [
        "import os\n",
        "import numpy as np\n",
        "import pandas as pd\n",
        "from tqdm.auto import tqdm, trange\n",
        "import json\n",
        "import random\n",
        "import torch\n",
        "from transformers.optimization import Adafactor\n",
        "from transformers import MBartForConditionalGeneration, MBart50Tokenizer"
      ]
    },
    {
      "cell_type": "code",
      "execution_count": null,
      "id": "3df89fba",
      "metadata": {
        "id": "3df89fba"
      },
      "outputs": [],
      "source": [
        "# base_model_path = '/content/drive/MyDrive/ml_models/bxr/mbart-large-50-bxr-v0'"
      ]
    },
    {
      "cell_type": "code",
      "execution_count": 75,
      "id": "9ff330b1",
      "metadata": {
        "id": "9ff330b1"
      },
      "outputs": [],
      "source": [
        "# tokenizer = MBart50Tokenizer.from_pretrained(base_model_path)\n",
        "# model = MBartForConditionalGeneration.from_pretrained(base_model_path)\n",
        "\n",
        "tokenizer = new_tokenizer\n",
        "# model = model"
      ]
    },
    {
      "cell_type": "code",
      "execution_count": 76,
      "id": "0f13bf60",
      "metadata": {
        "colab": {
          "base_uri": "https://localhost:8080/"
        },
        "id": "0f13bf60",
        "outputId": "a855d4fd-5c16-468d-ca38-6a4e2357728f"
      },
      "outputs": [
        {
          "output_type": "execute_result",
          "data": {
            "text/plain": [
              "271868"
            ]
          },
          "metadata": {},
          "execution_count": 76
        }
      ],
      "source": [
        "old_len = len(tokenizer)\n",
        "old_len"
      ]
    },
    {
      "cell_type": "code",
      "execution_count": 77,
      "id": "af4ee61c",
      "metadata": {
        "id": "af4ee61c"
      },
      "outputs": [],
      "source": [
        "tokenizer.lang_code_to_id['bxr_XX'] = old_len-1\n",
        "tokenizer.id_to_lang_code[old_len-1] = 'bxr_XX'\n",
        "tokenizer.fairseq_tokens_to_ids[\"<mask>\"] = len(tokenizer.sp_model) + len(tokenizer.lang_code_to_id) + tokenizer.fairseq_offset\n",
        "\n",
        "tokenizer.fairseq_tokens_to_ids.update(tokenizer.lang_code_to_id)\n",
        "tokenizer.fairseq_ids_to_tokens = {v: k for k, v in tokenizer.fairseq_tokens_to_ids.items()}\n",
        "if 'bxr_XX' not in tokenizer.additional_special_tokens:\n",
        "    tokenizer.additional_special_tokens.append('bxr_XX')"
      ]
    },
    {
      "cell_type": "code",
      "execution_count": 78,
      "id": "f7d515f0",
      "metadata": {
        "colab": {
          "base_uri": "https://localhost:8080/"
        },
        "id": "f7d515f0",
        "outputId": "0477e604-78c0-4d59-ce88-e844b315aa61"
      },
      "outputs": [
        {
          "output_type": "stream",
          "name": "stdout",
          "text": [
            "36437\n"
          ]
        }
      ],
      "source": [
        "with open('train.json', 'r') as f:\n",
        "    all_pairs = json.load(f)\n",
        "print(len(all_pairs))"
      ]
    },
    {
      "cell_type": "code",
      "execution_count": 79,
      "id": "05c9b41c",
      "metadata": {
        "id": "05c9b41c"
      },
      "outputs": [],
      "source": [
        "import gc\n",
        "\n",
        "def cleanup():\n",
        "    gc.collect()\n",
        "    torch.cuda.empty_cache()\n",
        "    \n",
        "cleanup()"
      ]
    },
    {
      "cell_type": "code",
      "execution_count": 80,
      "id": "4d90f36e",
      "metadata": {
        "id": "4d90f36e"
      },
      "outputs": [],
      "source": [
        "model.cuda();"
      ]
    },
    {
      "cell_type": "markdown",
      "id": "992800a5",
      "metadata": {
        "id": "992800a5"
      },
      "source": [
        "## First, update just the new embeddings"
      ]
    },
    {
      "cell_type": "code",
      "execution_count": 81,
      "id": "0681908d",
      "metadata": {
        "id": "0681908d"
      },
      "outputs": [],
      "source": [
        "for p in model.parameters():\n",
        "    p.requires_grad = False\n",
        "for p in model.model.shared.parameters():\n",
        "    p.requires_grad = True"
      ]
    },
    {
      "cell_type": "code",
      "execution_count": 82,
      "id": "a4335016",
      "metadata": {
        "id": "a4335016"
      },
      "outputs": [],
      "source": [
        "optimizer = Adafactor(\n",
        "    [p for p in model.parameters() if p.requires_grad], \n",
        "    scale_parameter=False, \n",
        "    relative_step=False, \n",
        "    lr=1e-5,\n",
        "    clip_threshold=1.0\n",
        ")"
      ]
    },
    {
      "cell_type": "code",
      "execution_count": 83,
      "id": "f74d9db6",
      "metadata": {
        "id": "f74d9db6"
      },
      "outputs": [],
      "source": [
        "batch_size = 8  \n",
        "report_steps = 500 \n",
        "epochs = 4\n",
        "losses = []"
      ]
    },
    {
      "cell_type": "code",
      "execution_count": 84,
      "id": "849d78b3",
      "metadata": {
        "id": "849d78b3"
      },
      "outputs": [],
      "source": [
        "tokenizer.src_lang = \"bxr_XX\"\n",
        "tokenizer.tgt_lang = \"ru_RU\""
      ]
    },
    {
      "cell_type": "code",
      "execution_count": 85,
      "id": "f3366b3f",
      "metadata": {
        "colab": {
          "base_uri": "https://localhost:8080/",
          "height": 964,
          "referenced_widgets": [
            "cbc915bd12d84fa794ae689a7b6813a2",
            "9706de2e490340d89b7e5d3561b83173",
            "0afd64e61157464b9b0449cff9446382",
            "101deca26ec24dbab71531585bb63f44",
            "8a91929fc23241ea8df03c3da3fcbed9",
            "7f1740f3e3b64bf38e048dddc9b4baec",
            "4997da96b0304f30b45ab34a15652ee2",
            "ded1ca6f9c75474f8e68ed3837b1a474",
            "f27f87ba30b14706a495fe64a9ad23a7",
            "e7c592e370374610bebb55b41ad7cb12",
            "881fbed704b7487da0081554aecb2f05",
            "ef737a337ffd430a97ebec90bd179653",
            "cf8c7fbb7fef44f2921bb2d2d1380307",
            "6911539aa26a4cd396ccb4bb120bae95",
            "7c4341ae1ec14e5a83ab6a1a2377ef4c",
            "0a6dc721e88e45cfac71103d8c84490a",
            "8c3265cafb8c4160b4f6dd79d2b9faa0",
            "90305e6b7f5a42abb49ef18c71e3e3e7",
            "f80a68359e9c471587fce7391adc8594",
            "395e0f2d55254ecf96e703ba7d3c4cd2",
            "461aa01f93fe4af990d1f6092220e1c2",
            "b66dfc8a27704b9ba81aacb464b3b2b2",
            "8bba13ad0121412aa090d6cbf13ff26b",
            "81341b3a7d39471ba8b1c970da6e5873",
            "87456c618ced4484b602f48a727ccdd7",
            "fd7eff682f2d40e0b20b12e3463d2350",
            "47a1e788c57f4a948500cc8ba3c50852",
            "e07ef0e5ce4148f9800fed59222a2943",
            "294170baf0c54bfeafa1f763cfb2b0d1",
            "263ae26587854020bf655e12dcd935d9",
            "4dae86d96033416b824a80637d495755",
            "6a40de8a208a4c5a88dc91eb26c96d94",
            "e6007a1fe34042c1950150c0ed4381b2",
            "39013130fb8b40338b4267b5b9abf83a",
            "f3695b50614845d38c8f13dfeeee9d86",
            "07023e1217904727820a18cebe21e6f0",
            "f8fde235928d4a379e60fe56bb0559b3",
            "4ed7705d72b24fb2b9c68aec5a2db02d",
            "c8efd4d3bf904cc59a6bea07685e67a1",
            "3927aa0936fb4bb3b6507ef995079ddf",
            "835cf91130eb4158b04d2a011f131302",
            "b943ddada6a2469d901f3bfb59657b66",
            "d501bf5f799e412cbf1d38da41e4d219",
            "8fb946a591a04b7c8572bda7a846305d"
          ]
        },
        "id": "f3366b3f",
        "outputId": "5d1d8385-60bb-4e0b-d8c5-f9e3abc3f88a"
      },
      "outputs": [
        {
          "output_type": "stream",
          "name": "stdout",
          "text": [
            "EPOCH 0\n"
          ]
        },
        {
          "output_type": "display_data",
          "data": {
            "text/plain": [
              "  0%|          | 0/4554 [00:00<?, ?it/s]"
            ],
            "application/vnd.jupyter.widget-view+json": {
              "version_major": 2,
              "version_minor": 0,
              "model_id": "cbc915bd12d84fa794ae689a7b6813a2"
            }
          },
          "metadata": {}
        },
        {
          "output_type": "stream",
          "name": "stderr",
          "text": [
            "/usr/local/lib/python3.10/dist-packages/transformers/tokenization_utils_base.py:3606: UserWarning: `as_target_tokenizer` is deprecated and will be removed in v5 of Transformers. You can tokenize your labels by using the argument `text_target` of the regular `__call__` method (either in the same call as your input texts if you use the same keyword arguments, or in a separate call.\n",
            "  warnings.warn(\n"
          ]
        },
        {
          "output_type": "stream",
          "name": "stdout",
          "text": [
            "step 0 loss 15.77662181854248\n",
            "step 500 loss 10.59159854221344\n",
            "step 1000 loss 4.490712319374085\n",
            "step 1500 loss 2.8923881096839903\n",
            "step 2000 loss 2.5756740545034407\n",
            "step 2500 loss 2.4237900059223176\n",
            "step 3000 loss 2.2154502459168435\n",
            "step 3500 loss 2.036098480582237\n",
            "step 4000 loss 1.8253128360509872\n",
            "step 4500 loss 1.7150565382242202\n",
            "EPOCH 1\n"
          ]
        },
        {
          "output_type": "display_data",
          "data": {
            "text/plain": [
              "  0%|          | 0/4554 [00:00<?, ?it/s]"
            ],
            "application/vnd.jupyter.widget-view+json": {
              "version_major": 2,
              "version_minor": 0,
              "model_id": "ef737a337ffd430a97ebec90bd179653"
            }
          },
          "metadata": {}
        },
        {
          "output_type": "stream",
          "name": "stdout",
          "text": [
            "step 0 loss 1.7017908302545548\n",
            "step 500 loss 1.5834364320039749\n",
            "step 1000 loss 1.4598621760606765\n",
            "step 1500 loss 1.4340089834928513\n",
            "step 2000 loss 1.4069299819469452\n",
            "step 2500 loss 1.374360696196556\n",
            "step 3000 loss 1.3946025168299676\n",
            "step 3500 loss 1.3310277310609817\n",
            "step 4000 loss 1.3600527442097663\n",
            "step 4500 loss 1.3357408097982406\n",
            "EPOCH 2\n"
          ]
        },
        {
          "output_type": "display_data",
          "data": {
            "text/plain": [
              "  0%|          | 0/4554 [00:00<?, ?it/s]"
            ],
            "application/vnd.jupyter.widget-view+json": {
              "version_major": 2,
              "version_minor": 0,
              "model_id": "8bba13ad0121412aa090d6cbf13ff26b"
            }
          },
          "metadata": {}
        },
        {
          "output_type": "stream",
          "name": "stdout",
          "text": [
            "step 0 loss 1.3166998267173766\n",
            "step 500 loss 1.2622009674310684\n",
            "step 1000 loss 1.2742853374779224\n",
            "step 1500 loss 1.2636208040714263\n",
            "step 2000 loss 1.230006088256836\n",
            "step 2500 loss 1.2218612053394318\n",
            "step 3000 loss 1.2449593628644944\n",
            "step 3500 loss 1.2148082329034806\n",
            "step 4000 loss 1.2210364276766776\n",
            "step 4500 loss 1.1903757581710814\n",
            "EPOCH 3\n"
          ]
        },
        {
          "output_type": "display_data",
          "data": {
            "text/plain": [
              "  0%|          | 0/4554 [00:00<?, ?it/s]"
            ],
            "application/vnd.jupyter.widget-view+json": {
              "version_major": 2,
              "version_minor": 0,
              "model_id": "39013130fb8b40338b4267b5b9abf83a"
            }
          },
          "metadata": {}
        },
        {
          "output_type": "stream",
          "name": "stdout",
          "text": [
            "step 0 loss 1.1872863041162491\n",
            "step 500 loss 1.1629867973327637\n",
            "step 1000 loss 1.1496959295868874\n",
            "step 1500 loss 1.162190193593502\n",
            "step 2000 loss 1.1208381942510606\n",
            "step 2500 loss 1.117202311515808\n",
            "step 3000 loss 1.1096558654904365\n",
            "step 3500 loss 1.1574165059030057\n",
            "step 4000 loss 1.1421412770152093\n",
            "step 4500 loss 1.1229557861685753\n"
          ]
        }
      ],
      "source": [
        "cleanup()\n",
        "model.train()\n",
        "\n",
        "for epoch in range(epochs):\n",
        "    print('EPOCH', epoch)\n",
        "    random.shuffle(all_pairs)\n",
        "    for i in trange(0, int(len(all_pairs) / batch_size)):\n",
        "        batch = all_pairs[i * batch_size: (i + 1) * batch_size]\n",
        "        # кодируем вопрос и ответ \n",
        "        x = tokenizer([p[0] for p in batch], return_tensors='pt', padding=True, truncation=True, max_length=256).to(model.device)\n",
        "        with tokenizer.as_target_tokenizer():\n",
        "            y = tokenizer([p[1] for p in batch], return_tensors='pt', padding=True, truncation=True, max_length=256).to(model.device)\n",
        "        # -100 - специальное значение, позволяющее не учитывать токены\n",
        "        y.input_ids[y.input_ids == 0] = -100\n",
        "        # вычисляем функцию потерь\n",
        "        try:\n",
        "            loss = model(\n",
        "                input_ids=x.input_ids,\n",
        "                attention_mask=x.attention_mask,\n",
        "                labels=y.input_ids,\n",
        "                decoder_attention_mask=y.attention_mask,\n",
        "                return_dict=True\n",
        "            ).loss\n",
        "            # делаем шаг градиентного спуска\n",
        "            loss.backward()\n",
        "            optimizer.step()\n",
        "            optimizer.zero_grad(set_to_none=True)\n",
        "        except RuntimeError as e:\n",
        "            print('error')\n",
        "            loss = None\n",
        "            optimizer.zero_grad(set_to_none=True)\n",
        "            cleanup()\n",
        "            continue\n",
        "\n",
        "        # печатаем скользящее среднее значение функции потерь\n",
        "        losses.append(loss.item())\n",
        "        if i % report_steps == 0:\n",
        "            print('step', i, 'loss', np.mean(losses[-report_steps:]))"
      ]
    },
    {
      "cell_type": "code",
      "execution_count": null,
      "id": "29ecd146",
      "metadata": {
        "id": "29ecd146"
      },
      "outputs": [],
      "source": [
        "# save_model_path = '/content/drive/MyDrive/ml_models/bxr/mbart-large-50-bxr-v11'"
      ]
    },
    {
      "cell_type": "code",
      "execution_count": null,
      "id": "c1ee135e",
      "metadata": {
        "id": "c1ee135e"
      },
      "outputs": [],
      "source": [
        "# model.save_pretrained(save_model_path)\n",
        "# tokenizer.save_pretrained(save_model_path)"
      ]
    },
    {
      "cell_type": "code",
      "execution_count": 86,
      "id": "2489b0f6",
      "metadata": {
        "colab": {
          "base_uri": "https://localhost:8080/",
          "height": 430
        },
        "id": "2489b0f6",
        "outputId": "0defa46c-760c-4986-ffe1-138a5aebc138"
      },
      "outputs": [
        {
          "output_type": "display_data",
          "data": {
            "text/plain": [
              "<Figure size 640x480 with 1 Axes>"
            ],
            "image/png": "[encoded data removed]"
          },
          "metadata": {}
        }
      ],
      "source": [
        "import matplotlib.pyplot as plt\n",
        "pd.Series(losses).ewm(100).mean().plot();\n",
        "plt.yscale('log');"
      ]
    },
    {
      "cell_type": "markdown",
      "id": "da430f42",
      "metadata": {
        "id": "da430f42"
      },
      "source": [
        "# Now update the whole model, with embeddings and transformer layers."
      ]
    },
    {
      "cell_type": "code",
      "execution_count": null,
      "id": "bfc2112c",
      "metadata": {
        "id": "bfc2112c"
      },
      "outputs": [],
      "source": [
        "# save_model_path = '/content/drive/MyDrive/ml_models/bxr/mbart-large-50-bxr-v11'"
      ]
    },
    {
      "cell_type": "code",
      "execution_count": null,
      "id": "ed3e55d4",
      "metadata": {
        "id": "ed3e55d4"
      },
      "outputs": [],
      "source": [
        "# model = MBartForConditionalGeneration.from_pretrained(save_model_path)\n",
        "# tokenizer = MBart50Tokenizer.from_pretrained(save_model_path)"
      ]
    },
    {
      "cell_type": "code",
      "execution_count": 87,
      "id": "e23584b4",
      "metadata": {
        "id": "e23584b4"
      },
      "outputs": [],
      "source": [
        "model.cuda();"
      ]
    },
    {
      "cell_type": "code",
      "execution_count": 88,
      "id": "f93877bd",
      "metadata": {
        "id": "f93877bd"
      },
      "outputs": [],
      "source": [
        "loss = None\n",
        "optimizer.zero_grad(set_to_none=True)\n",
        "optimizer = None\n",
        "cleanup()"
      ]
    },
    {
      "cell_type": "code",
      "execution_count": 89,
      "id": "c89850db",
      "metadata": {
        "id": "c89850db"
      },
      "outputs": [],
      "source": [
        "for p in model.parameters():\n",
        "    p.requires_grad = True"
      ]
    },
    {
      "cell_type": "code",
      "execution_count": 90,
      "id": "8da96cd9",
      "metadata": {
        "id": "8da96cd9"
      },
      "outputs": [],
      "source": [
        "from transformers.optimization import Adafactor\n",
        "optimizer = Adafactor(\n",
        "    [p for p in model.parameters() if p.requires_grad], \n",
        "    scale_parameter=False, \n",
        "    relative_step=False, \n",
        "    lr=1e-6,\n",
        "    clip_threshold=1.0\n",
        ")"
      ]
    },
    {
      "cell_type": "code",
      "execution_count": 91,
      "id": "d449c540",
      "metadata": {
        "id": "d449c540"
      },
      "outputs": [],
      "source": [
        "batch_size = 8\n",
        "report_steps = 500 \n",
        "epochs = 10\n",
        "losses = []"
      ]
    },
    {
      "cell_type": "markdown",
      "id": "6834d86c",
      "metadata": {
        "id": "6834d86c"
      },
      "source": [
        "\n",
        "Optimizing all parameters takes x2 longer than just embeddings: about 1h per epoch."
      ]
    },
    {
      "cell_type": "code",
      "execution_count": 92,
      "id": "aa8eb75b",
      "metadata": {
        "colab": {
          "base_uri": "https://localhost:8080/",
          "height": 1000,
          "referenced_widgets": [
            "0dbd27ed802d4319b84130096c8d772a",
            "22c70cf1eba84950a2201067b196a6e6",
            "43263f6fc8de43ac965658a5308ffbbe",
            "b50f6dbb325d4d43b1cc81a46d638c28",
            "20ae8e67c22c41e882ba6458c2ed8953",
            "e5569cd4d2ef4b3e9d2a9498fa7d9204",
            "1c10cfe9f3ca4cfd8087ab02c145bced",
            "4c6771238d9343049ab4f0cbe048ab32",
            "f548843bb981450abf530458a368fa95",
            "663298e772044661b4bbf93abc946118",
            "25b42a857e7b4d5099f00c4dfb3d7ee8",
            "b6b1a5e4b95446f38b9daab8f77151eb",
            "4f964ab7fa0545e6a7410b9f0235f423",
            "4a178e7cf69646aebc139c0e87c24e79",
            "97899ff7fc354d1790271b4c257e5945",
            "e578c6aca29146d7beb257cd0cbd9d29",
            "1043e970f8914695b4a3f8051bdb5730",
            "d9de53ef35dd4040a47a19e486649542",
            "d7b93431ccef4763b62936cb4a34ca83",
            "d2431b699d0346e38eb72b747404c46b",
            "9b5100e01c9b48bfbbdce6c65fde5b53",
            "39e566fd6fc947d08f0b8426a3557547",
            "85b76298035c4b90b6ae26d596a86b9e",
            "caca7821f12e4dc08fe742090366c469",
            "2891d1cfd85d43f3add132aaff80c05f",
            "1c7d2fc1aaa3492ebfe8088a14c11afe",
            "6bc01f39b2024888bb1307d155ea5008",
            "85608cf4fcfa4592adc95c034f8b4b98",
            "5fdc4d094d8c4d9e8bf32cec0453fd14",
            "5a07ae7defe44457831f78d1cb9a553e",
            "8e927e1524d64e54a25c6b1ee157018f",
            "90795593c7524055a6554bb48f917587",
            "9e89d67b367d4403929017f8b5e05952"
          ]
        },
        "id": "aa8eb75b",
        "outputId": "ffca6c5a-b3c0-4f0f-b885-6d7be50502ce"
      },
      "outputs": [
        {
          "output_type": "stream",
          "name": "stdout",
          "text": [
            "EPOCH 0\n"
          ]
        },
        {
          "output_type": "display_data",
          "data": {
            "text/plain": [
              "  0%|          | 0/4554 [00:00<?, ?it/s]"
            ],
            "application/vnd.jupyter.widget-view+json": {
              "version_major": 2,
              "version_minor": 0,
              "model_id": "0dbd27ed802d4319b84130096c8d772a"
            }
          },
          "metadata": {}
        },
        {
          "output_type": "stream",
          "name": "stderr",
          "text": [
            "/usr/local/lib/python3.10/dist-packages/transformers/tokenization_utils_base.py:3606: UserWarning: `as_target_tokenizer` is deprecated and will be removed in v5 of Transformers. You can tokenize your labels by using the argument `text_target` of the regular `__call__` method (either in the same call as your input texts if you use the same keyword arguments, or in a separate call.\n",
            "  warnings.warn(\n"
          ]
        },
        {
          "output_type": "stream",
          "name": "stdout",
          "text": [
            "step 0 loss 0.9538692235946655\n",
            "step 500 loss 1.0387907318472862\n",
            "step 1000 loss 1.0486903620958328\n",
            "step 1500 loss 1.0414791787862778\n",
            "step 2000 loss 1.0313097581267356\n",
            "step 2500 loss 1.019704513221979\n",
            "step 3000 loss 1.0041165587007999\n",
            "step 3500 loss 1.013749116420746\n",
            "step 4000 loss 1.0145788292884828\n",
            "step 4500 loss 0.9992561968266964\n",
            "EPOCH 1\n"
          ]
        },
        {
          "output_type": "display_data",
          "data": {
            "text/plain": [
              "  0%|          | 0/4554 [00:00<?, ?it/s]"
            ],
            "application/vnd.jupyter.widget-view+json": {
              "version_major": 2,
              "version_minor": 0,
              "model_id": "b6b1a5e4b95446f38b9daab8f77151eb"
            }
          },
          "metadata": {}
        },
        {
          "output_type": "stream",
          "name": "stdout",
          "text": [
            "step 0 loss 0.9842112250626087\n",
            "step 500 loss 1.0104942086935043\n",
            "step 1000 loss 0.9697150909304619\n",
            "step 1500 loss 0.9859778600633144\n",
            "step 2000 loss 0.9427432830929756\n",
            "step 2500 loss 0.9633601409196854\n",
            "step 3000 loss 0.9735920842289925\n",
            "step 3500 loss 0.9937979790568352\n",
            "step 4000 loss 0.9692025517225266\n",
            "step 4500 loss 0.9518478450477124\n",
            "EPOCH 2\n"
          ]
        },
        {
          "output_type": "display_data",
          "data": {
            "text/plain": [
              "  0%|          | 0/4554 [00:00<?, ?it/s]"
            ],
            "application/vnd.jupyter.widget-view+json": {
              "version_major": 2,
              "version_minor": 0,
              "model_id": "85b76298035c4b90b6ae26d596a86b9e"
            }
          },
          "metadata": {}
        },
        {
          "output_type": "stream",
          "name": "stdout",
          "text": [
            "step 0 loss 0.9542072132527828\n",
            "step 500 loss 0.9320243346691132\n",
            "step 1000 loss 0.9261045728921891\n",
            "step 1500 loss 0.9513380925953389\n",
            "step 2000 loss 0.9507859521210194\n",
            "step 2500 loss 0.9283210136592388\n",
            "step 3000 loss 0.9406496258974075\n",
            "step 3500 loss 0.9362165288180113\n",
            "step 4000 loss 0.943440494209528\n",
            "step 4500 loss 0.9400227806270123\n"
          ]
        },
        {
          "output_type": "error",
          "ename": "KeyboardInterrupt",
          "evalue": "ignored",
          "traceback": [
            "\u001b[0;31m---------------------------------------------------------------------------\u001b[0m",
            "\u001b[0;31mKeyboardInterrupt\u001b[0m                         Traceback (most recent call last)",
            "\u001b[0;32m<ipython-input-92-0d999d2e2f90>\u001b[0m in \u001b[0;36m<cell line: 4>\u001b[0;34m()\u001b[0m\n\u001b[1;32m     24\u001b[0m             \u001b[0;31m# делаем шаг градиентного спуска\u001b[0m\u001b[0;34m\u001b[0m\u001b[0;34m\u001b[0m\u001b[0m\n\u001b[1;32m     25\u001b[0m             \u001b[0mloss\u001b[0m\u001b[0;34m.\u001b[0m\u001b[0mbackward\u001b[0m\u001b[0;34m(\u001b[0m\u001b[0;34m)\u001b[0m\u001b[0;34m\u001b[0m\u001b[0;34m\u001b[0m\u001b[0m\n\u001b[0;32m---> 26\u001b[0;31m             \u001b[0moptimizer\u001b[0m\u001b[0;34m.\u001b[0m\u001b[0mstep\u001b[0m\u001b[0;34m(\u001b[0m\u001b[0;34m)\u001b[0m\u001b[0;34m\u001b[0m\u001b[0;34m\u001b[0m\u001b[0m\n\u001b[0m\u001b[1;32m     27\u001b[0m             \u001b[0moptimizer\u001b[0m\u001b[0;34m.\u001b[0m\u001b[0mzero_grad\u001b[0m\u001b[0;34m(\u001b[0m\u001b[0mset_to_none\u001b[0m\u001b[0;34m=\u001b[0m\u001b[0;32mTrue\u001b[0m\u001b[0;34m)\u001b[0m\u001b[0;34m\u001b[0m\u001b[0;34m\u001b[0m\u001b[0m\n\u001b[1;32m     28\u001b[0m         \u001b[0;32mexcept\u001b[0m \u001b[0mRuntimeError\u001b[0m \u001b[0;32mas\u001b[0m \u001b[0me\u001b[0m\u001b[0;34m:\u001b[0m\u001b[0;34m\u001b[0m\u001b[0;34m\u001b[0m\u001b[0m\n",
            "\u001b[0;32m/usr/local/lib/python3.10/dist-packages/torch/optim/optimizer.py\u001b[0m in \u001b[0;36mwrapper\u001b[0;34m(*args, **kwargs)\u001b[0m\n\u001b[1;32m    278\u001b[0m                                                f\"but got {result}.\")\n\u001b[1;32m    279\u001b[0m \u001b[0;34m\u001b[0m\u001b[0m\n\u001b[0;32m--> 280\u001b[0;31m                 \u001b[0mout\u001b[0m \u001b[0;34m=\u001b[0m \u001b[0mfunc\u001b[0m\u001b[0;34m(\u001b[0m\u001b[0;34m*\u001b[0m\u001b[0margs\u001b[0m\u001b[0;34m,\u001b[0m \u001b[0;34m**\u001b[0m\u001b[0mkwargs\u001b[0m\u001b[0;34m)\u001b[0m\u001b[0;34m\u001b[0m\u001b[0;34m\u001b[0m\u001b[0m\n\u001b[0m\u001b[1;32m    281\u001b[0m                 \u001b[0mself\u001b[0m\u001b[0;34m.\u001b[0m\u001b[0m_optimizer_step_code\u001b[0m\u001b[0;34m(\u001b[0m\u001b[0;34m)\u001b[0m\u001b[0;34m\u001b[0m\u001b[0;34m\u001b[0m\u001b[0m\n\u001b[1;32m    282\u001b[0m \u001b[0;34m\u001b[0m\u001b[0m\n",
            "\u001b[0;32m/usr/local/lib/python3.10/dist-packages/transformers/optimization.py\u001b[0m in \u001b[0;36mstep\u001b[0;34m(self, closure)\u001b[0m\n\u001b[1;32m    698\u001b[0m \u001b[0;34m\u001b[0m\u001b[0m\n\u001b[1;32m    699\u001b[0m                     \u001b[0;31m# Approximation of exponential moving average of square of gradient\u001b[0m\u001b[0;34m\u001b[0m\u001b[0;34m\u001b[0m\u001b[0m\n\u001b[0;32m--> 700\u001b[0;31m                     \u001b[0mupdate\u001b[0m \u001b[0;34m=\u001b[0m \u001b[0mself\u001b[0m\u001b[0;34m.\u001b[0m\u001b[0m_approx_sq_grad\u001b[0m\u001b[0;34m(\u001b[0m\u001b[0mexp_avg_sq_row\u001b[0m\u001b[0;34m,\u001b[0m \u001b[0mexp_avg_sq_col\u001b[0m\u001b[0;34m)\u001b[0m\u001b[0;34m\u001b[0m\u001b[0;34m\u001b[0m\u001b[0m\n\u001b[0m\u001b[1;32m    701\u001b[0m                     \u001b[0mupdate\u001b[0m\u001b[0;34m.\u001b[0m\u001b[0mmul_\u001b[0m\u001b[0;34m(\u001b[0m\u001b[0mgrad\u001b[0m\u001b[0;34m)\u001b[0m\u001b[0;34m\u001b[0m\u001b[0;34m\u001b[0m\u001b[0m\n\u001b[1;32m    702\u001b[0m                 \u001b[0;32melse\u001b[0m\u001b[0;34m:\u001b[0m\u001b[0;34m\u001b[0m\u001b[0;34m\u001b[0m\u001b[0m\n",
            "\u001b[0;32m/usr/local/lib/python3.10/dist-packages/transformers/optimization.py\u001b[0m in \u001b[0;36m_approx_sq_grad\u001b[0;34m(exp_avg_sq_row, exp_avg_sq_col)\u001b[0m\n\u001b[1;32m    629\u001b[0m         \u001b[0mr_factor\u001b[0m \u001b[0;34m=\u001b[0m \u001b[0;34m(\u001b[0m\u001b[0mexp_avg_sq_row\u001b[0m \u001b[0;34m/\u001b[0m \u001b[0mexp_avg_sq_row\u001b[0m\u001b[0;34m.\u001b[0m\u001b[0mmean\u001b[0m\u001b[0;34m(\u001b[0m\u001b[0mdim\u001b[0m\u001b[0;34m=\u001b[0m\u001b[0;34m-\u001b[0m\u001b[0;36m1\u001b[0m\u001b[0;34m,\u001b[0m \u001b[0mkeepdim\u001b[0m\u001b[0;34m=\u001b[0m\u001b[0;32mTrue\u001b[0m\u001b[0;34m)\u001b[0m\u001b[0;34m)\u001b[0m\u001b[0;34m.\u001b[0m\u001b[0mrsqrt_\u001b[0m\u001b[0;34m(\u001b[0m\u001b[0;34m)\u001b[0m\u001b[0;34m.\u001b[0m\u001b[0munsqueeze\u001b[0m\u001b[0;34m(\u001b[0m\u001b[0;34m-\u001b[0m\u001b[0;36m1\u001b[0m\u001b[0;34m)\u001b[0m\u001b[0;34m\u001b[0m\u001b[0;34m\u001b[0m\u001b[0m\n\u001b[1;32m    630\u001b[0m         \u001b[0mc_factor\u001b[0m \u001b[0;34m=\u001b[0m \u001b[0mexp_avg_sq_col\u001b[0m\u001b[0;34m.\u001b[0m\u001b[0munsqueeze\u001b[0m\u001b[0;34m(\u001b[0m\u001b[0;34m-\u001b[0m\u001b[0;36m2\u001b[0m\u001b[0;34m)\u001b[0m\u001b[0;34m.\u001b[0m\u001b[0mrsqrt\u001b[0m\u001b[0;34m(\u001b[0m\u001b[0;34m)\u001b[0m\u001b[0;34m\u001b[0m\u001b[0;34m\u001b[0m\u001b[0m\n\u001b[0;32m--> 631\u001b[0;31m         \u001b[0;32mreturn\u001b[0m \u001b[0mtorch\u001b[0m\u001b[0;34m.\u001b[0m\u001b[0mmul\u001b[0m\u001b[0;34m(\u001b[0m\u001b[0mr_factor\u001b[0m\u001b[0;34m,\u001b[0m \u001b[0mc_factor\u001b[0m\u001b[0;34m)\u001b[0m\u001b[0;34m\u001b[0m\u001b[0;34m\u001b[0m\u001b[0m\n\u001b[0m\u001b[1;32m    632\u001b[0m \u001b[0;34m\u001b[0m\u001b[0m\n\u001b[1;32m    633\u001b[0m     \u001b[0;32mdef\u001b[0m \u001b[0mstep\u001b[0m\u001b[0;34m(\u001b[0m\u001b[0mself\u001b[0m\u001b[0;34m,\u001b[0m \u001b[0mclosure\u001b[0m\u001b[0;34m=\u001b[0m\u001b[0;32mNone\u001b[0m\u001b[0;34m)\u001b[0m\u001b[0;34m:\u001b[0m\u001b[0;34m\u001b[0m\u001b[0;34m\u001b[0m\u001b[0m\n",
            "\u001b[0;31mKeyboardInterrupt\u001b[0m: "
          ]
        }
      ],
      "source": [
        "cleanup()\n",
        "model.train()\n",
        "\n",
        "for epoch in range(epochs):\n",
        "    print('EPOCH', epoch)\n",
        "    random.shuffle(all_pairs)\n",
        "    for i in trange(0, int(len(all_pairs) / batch_size)):\n",
        "        batch = all_pairs[i * batch_size: (i + 1) * batch_size]\n",
        "        # кодируем вопрос и ответ \n",
        "        x = tokenizer([p[0] for p in batch], return_tensors='pt', padding=True, truncation=True, max_length=256).to(model.device)\n",
        "        with tokenizer.as_target_tokenizer():\n",
        "            y = tokenizer([p[1] for p in batch], return_tensors='pt', padding=True, truncation=True, max_length=256).to(model.device)\n",
        "        # -100 - специальное значение, позволяющее не учитывать токены\n",
        "        y.input_ids[y.input_ids == 0] = -100\n",
        "        # вычисляем функцию потерь\n",
        "        try:\n",
        "            loss = model(\n",
        "                input_ids=x.input_ids,\n",
        "                attention_mask=x.attention_mask,\n",
        "                labels=y.input_ids,\n",
        "                decoder_attention_mask=y.attention_mask,\n",
        "                return_dict=True\n",
        "            ).loss\n",
        "            # делаем шаг градиентного спуска\n",
        "            loss.backward()\n",
        "            optimizer.step()\n",
        "            optimizer.zero_grad(set_to_none=True)\n",
        "        except RuntimeError as e:\n",
        "            print('error')\n",
        "            loss = None\n",
        "            optimizer.zero_grad(set_to_none=True)\n",
        "            cleanup()\n",
        "            continue\n",
        "\n",
        "        # печатаем скользящее среднее значение функции потерь\n",
        "        losses.append(loss.item())\n",
        "        if i % report_steps == 0:\n",
        "            print('step', i, 'loss', np.mean(losses[-report_steps:]))"
      ]
    },
    {
      "cell_type": "code",
      "execution_count": 93,
      "id": "ce0a53a3",
      "metadata": {
        "id": "ce0a53a3",
        "colab": {
          "base_uri": "https://localhost:8080/",
          "height": 430
        },
        "outputId": "24542b3f-57c0-4aa5-9351-79cc5275afc8"
      },
      "outputs": [
        {
          "output_type": "display_data",
          "data": {
            "text/plain": [
              "<Figure size 640x480 with 1 Axes>"
            ],
            "image/png": "[encoded data removed]"
          },
          "metadata": {}
        }
      ],
      "source": [
        "pd.Series(losses).ewm(100).mean().plot();\n",
        "plt.yscale('log');"
      ]
    },
    {
      "cell_type": "code",
      "execution_count": null,
      "id": "4b1a7063",
      "metadata": {
        "id": "4b1a7063"
      },
      "outputs": [],
      "source": [
        "# save_model_path = '/content/drive/MyDrive/ml_models/bxr/mbart-large-50-bxr-v12'"
      ]
    },
    {
      "cell_type": "code",
      "execution_count": null,
      "id": "76ca7cd5",
      "metadata": {
        "id": "76ca7cd5"
      },
      "outputs": [],
      "source": [
        "# model.save_pretrained(save_model_path)\n",
        "# tokenizer.save_pretrained(save_model_path)"
      ]
    },
    {
      "cell_type": "code",
      "execution_count": 94,
      "id": "fc203440",
      "metadata": {
        "id": "fc203440"
      },
      "outputs": [],
      "source": [
        "model.eval();"
      ]
    },
    {
      "cell_type": "code",
      "execution_count": 95,
      "id": "9f3a32e2",
      "metadata": {
        "id": "9f3a32e2",
        "colab": {
          "base_uri": "https://localhost:8080/"
        },
        "outputId": "adb8bdc4-5a44-4acb-fd59-b2e451f5d54b"
      },
      "outputs": [
        {
          "output_type": "execute_result",
          "data": {
            "text/plain": [
              "('нилсайлгаха', 'расплющивать, разминать')"
            ]
          },
          "metadata": {},
          "execution_count": 95
        }
      ],
      "source": [
        "bxr, ru = random.choice(all_pairs)\n",
        "bxr, ru"
      ]
    },
    {
      "cell_type": "code",
      "execution_count": 96,
      "id": "d726f257",
      "metadata": {
        "id": "d726f257",
        "colab": {
          "base_uri": "https://localhost:8080/",
          "height": 35
        },
        "outputId": "d8a8501b-dd7b-4994-eb39-395dc27e6e59"
      },
      "outputs": [
        {
          "output_type": "execute_result",
          "data": {
            "text/plain": [
              "'сжимать, щёлкать'"
            ],
            "application/vnd.google.colaboratory.intrinsic+json": {
              "type": "string"
            }
          },
          "metadata": {},
          "execution_count": 96
        }
      ],
      "source": [
        "def translate(text, src='bxr_XX', trg='ru_RU', max_length=200, num_beams=5, repetition_penalty=5.0, **kwargs):\n",
        "    tokenizer.src_lang = src\n",
        "    encoded = tokenizer(text, return_tensors=\"pt\")\n",
        "    generated_tokens = model.generate(\n",
        "        **encoded.to(model.device),\n",
        "        forced_bos_token_id=tokenizer.lang_code_to_id[trg], \n",
        "        max_length=max_length, \n",
        "        num_beams=num_beams,\n",
        "        repetition_penalty=repetition_penalty,\n",
        "        # early_stopping=True,\n",
        "    )\n",
        "    return tokenizer.batch_decode(generated_tokens, skip_special_tokens=True)[0]\n",
        "\n",
        "translate(bxr)"
      ]
    },
    {
      "cell_type": "code",
      "execution_count": 97,
      "id": "978fc6cb",
      "metadata": {
        "id": "978fc6cb"
      },
      "outputs": [],
      "source": [
        "loss = None\n",
        "optimizer.zero_grad(set_to_none=True)\n",
        "optimizer = None\n",
        "cleanup()     "
      ]
    },
    {
      "cell_type": "code",
      "source": [
        "import os\n",
        "os.makedirs(\"mbart-large-50-bxr-v12\")\n",
        "model.save_pretrained(\"mbart-large-50-bxr-v12\")"
      ],
      "metadata": {
        "id": "0zhKd4sIxpjf"
      },
      "id": "0zhKd4sIxpjf",
      "execution_count": 98,
      "outputs": []
    },
    {
      "cell_type": "code",
      "source": [
        "tokenizer.save_pretrained('mbart-large-50-bxr-v12')"
      ],
      "metadata": {
        "colab": {
          "base_uri": "https://localhost:8080/"
        },
        "id": "YPRVGrZVxqeZ",
        "outputId": "84e5ef7e-665a-4620-8453-a139f47c0cea"
      },
      "id": "YPRVGrZVxqeZ",
      "execution_count": 99,
      "outputs": [
        {
          "output_type": "execute_result",
          "data": {
            "text/plain": [
              "('mbart-large-50-bxr-v12/tokenizer_config.json',\n",
              " 'mbart-large-50-bxr-v12/special_tokens_map.json',\n",
              " 'mbart-large-50-bxr-v12/sentencepiece.bpe.model',\n",
              " 'mbart-large-50-bxr-v12/added_tokens.json')"
            ]
          },
          "metadata": {},
          "execution_count": 99
        }
      ]
    },
    {
      "cell_type": "markdown",
      "id": "65a8f828",
      "metadata": {
        "id": "65a8f828"
      },
      "source": [
        "# Evaluate"
      ]
    },
    {
      "cell_type": "code",
      "execution_count": 100,
      "id": "7b5472d0",
      "metadata": {
        "id": "7b5472d0"
      },
      "outputs": [],
      "source": [
        "with open('test.json', 'r') as f:\n",
        "    test = json.load(f)"
      ]
    },
    {
      "cell_type": "code",
      "source": [
        "test[0]"
      ],
      "metadata": {
        "colab": {
          "base_uri": "https://localhost:8080/"
        },
        "id": "GPYMqGe0xuSZ",
        "outputId": "af1f0e78-4380-44b8-f928-6100fcd5bb39"
      },
      "id": "GPYMqGe0xuSZ",
      "execution_count": 102,
      "outputs": [
        {
          "output_type": "execute_result",
          "data": {
            "text/plain": [
              "['Таанад өөhэдөө ехэл сэсэн ухаантай, тиин тэнэг үбэштэй зондо ехэл тэсэбэритэй байдаг ха юмта!',\n",
              " 'Ибо вы, люди разумные, охотно терпите неразумных:']"
            ]
          },
          "metadata": {},
          "execution_count": 102
        }
      ]
    },
    {
      "cell_type": "code",
      "source": [
        "target = [ru for bxr, ru in test]"
      ],
      "metadata": {
        "id": "ZxuWG6Qi_ICR"
      },
      "id": "ZxuWG6Qi_ICR",
      "execution_count": 103,
      "outputs": []
    },
    {
      "cell_type": "code",
      "source": [
        "translated = [translate(bxr) for bxr, ru in tqdm(test)]"
      ],
      "metadata": {
        "colab": {
          "base_uri": "https://localhost:8080/",
          "height": 49,
          "referenced_widgets": [
            "7267bcd754114369b7621e7f4f371715",
            "ea1496202c454b7bafe64d88a8b8c954",
            "36c9fc7a6eda4737b4d1aeeb80281cde",
            "f24ddb03966b45539cfb0a1d52bdc9a2",
            "b1968a5d0d774bf5bb955f5855584db7",
            "0549a94c83f846fda9a4d490adfa30c4",
            "00d8e049a2704bf782ba07450b30c7b1",
            "6a977c7c0cb74c2792c6bab32a3e7436",
            "58415365d86f416a90980acac82ebea6",
            "3440eb8180d24d799273443a873b1072",
            "eac32682758d418c8e9b40b87e3b0c69"
          ]
        },
        "id": "ogjdJoikx3FL",
        "outputId": "139bfbcb-b55e-4fb9-8388-fb151ed3dbd8"
      },
      "id": "ogjdJoikx3FL",
      "execution_count": 116,
      "outputs": [
        {
          "output_type": "display_data",
          "data": {
            "text/plain": [
              "  0%|          | 0/1823 [00:00<?, ?it/s]"
            ],
            "application/vnd.jupyter.widget-view+json": {
              "version_major": 2,
              "version_minor": 0,
              "model_id": "7267bcd754114369b7621e7f4f371715"
            }
          },
          "metadata": {}
        }
      ]
    },
    {
      "cell_type": "code",
      "source": [
        "from sacrebleu import BLEU, CHRF\n",
        "chrf = CHRF()\n",
        "bleu = BLEU()"
      ],
      "metadata": {
        "id": "TVIfmD7ox8H_"
      },
      "id": "TVIfmD7ox8H_",
      "execution_count": 117,
      "outputs": []
    },
    {
      "cell_type": "code",
      "source": [
        "print('chrF: ', chrf.corpus_score(translated, target).score,\n",
        "      'BLEU: ', bleu.corpus_score(translated, target).score)"
      ],
      "metadata": {
        "colab": {
          "base_uri": "https://localhost:8080/"
        },
        "id": "cDZbplUuyTbx",
        "outputId": "853221a9-82de-4f3e-f06e-77bd15913e97"
      },
      "id": "cDZbplUuyTbx",
      "execution_count": 118,
      "outputs": [
        {
          "output_type": "stream",
          "name": "stdout",
          "text": [
            "chrF:  7.042253521126761 BLEU:  1.1158121339543965\n"
          ]
        }
      ]
    },
    {
      "cell_type": "code",
      "source": [
        "for i in range(len(test)):\n",
        "  if i%50==0:\n",
        "        print(test[i][0])\n",
        "        print('эталон: ', test[i][1])\n",
        "        print('перевод: ', translated[i])\n",
        "        print()"
      ],
      "metadata": {
        "colab": {
          "base_uri": "https://localhost:8080/"
        },
        "id": "flFKzVwfyYSN",
        "outputId": "0c2739d2-d10a-4622-d6bc-4e09effdaba6"
      },
      "id": "flFKzVwfyYSN",
      "execution_count": 125,
      "outputs": [
        {
          "output_type": "stream",
          "name": "stdout",
          "text": [
            "Таанад өөhэдөө ехэл сэсэн ухаантай, тиин тэнэг үбэштэй зондо ехэл тэсэбэритэй байдаг ха юмта!\n",
            "эталон:  Ибо вы, люди разумные, охотно терпите неразумных:\n",
            "перевод:  Вы же мудрые, но терпите сумасшедших.\n",
            "\n",
            "Тиихэдэнь hохор хүн: «Давидай үри hадаhан Иисус, намайе үршөөжэ хайрлыш!» – гэжэ хашхарба. \n",
            "эталон:  Тогда он закричал: Иисус, Сын Давидов! помилуй меня.\n",
            "перевод:  И закричал слепой: помилуй меня Иисус, Сын Давидов.\n",
            "\n",
            "Мүнөө ажамидаржа байhан хүнүүдэй бултанайнь үхэжэ үрдеэгүй байхада минии таанадта хэлэhэн бүхэн тохёолдохо гэжэ таанадта баталан хэлэнэб.\n",
            "эталон:  Истинно говорю вам: не прейдет род сей, как все сие будет;\n",
            "перевод:  Истинно говорю вам: все, что Я сказал вам, придет ко всем нынешним.\n",
            "\n",
            "Би тэдэндэ мүнхэ наhа үгэнэб, тэдэ хэзээшье хосорхогүй, тэдэниие намhаа хэншье буляажа абахагүй.\n",
            "эталон:  И Я даю им жизнь вечную, и не погибнут вовек; и никто не похитит их из руки Моей.\n",
            "перевод:  Я дам им вечную жизнь; они не погибнут, и никто их не защитит от Меня.\n",
            "\n",
            "Тиигэжэл таанадые магтаhан үгэнүүдни хооhон үгэнүүд байшахагүйн тула би hүзэглэгшэ дүүнэрээ таанадта ябуулаа хүм.Харин минии хэлээшээр таанад туhаламжынгаа мүнгэ бэлдээд байгаарайгты. \n",
            "эталон:  Братьев же послал я для того, чтобы похвала моя о вас не оказалась тщетною в сем случае, но чтобы вы, как я говорил, были приготовлены,\n",
            "перевод:  Итак, братия мои, чтобы не напасть на пустые слова, которые Я сказал вам, но вы сотворите из Моего имени.\n",
            "\n",
            "Энэ урмашуулhан бэшэг уншаад, зон угаа ехээр баярлаа.\n",
            "эталон:  Они же, прочитав, возрадовались о сем наставлении.\n",
            "перевод:  Прочитав это утешение, люди обрадовались.\n",
            "\n",
            "Зүгөөр Иисус тэдэнтэй дары дуугаралсан: «Зоригтой байгты.Энэ биб, бү айгты», – гэбэ. \n",
            "эталон:  Но Иисус тотчас заговорил с ними и сказал: ободритесь; это Я, не бойтесь.\n",
            "перевод:  Но Он сказал им в ответ: будьте мужественны; это Я, не бойтесь.\n",
            "\n",
            "Хаан шэрээдэ Һуугша иигэжэ хэлээ: «Харалши, би баран шэнэ юумэ хэнэб!» Тиигээд тэрэ иигэжэ хэлэбэ: «Буулгажа бэшээд аба, эдэ үгэнүүдтэ этигэхэдэ болохо, юундэб гэбэл, эдэ бүхы үгэнүүд үнэн зүб юм». \n",
            "эталон:  И сказал Сидящий на престоле: се, творю все новое. И говорит мне: напиши; ибо слова сии истинны и верны.\n",
            "перевод:  И, сидя на престоле, сказал: вот, я делаю что-то новое. И сказал: вверьте все слова сии, ибо они суть истины.\n",
            "\n",
            "Харин зүрхэ сэдьхэлдээ Дээдын Эзэн Христосые аргагүй хүндэлжэ ябагты.Ямаршье хүнэй ажамидаралайтнай найдал тухай hурабалнь, хэзээшье харюу үгэхэдэ бэлэн байгты. \n",
            "эталон:  Господа Бога святите в сердцах ваших; будьте всегда готовы всякому, требующему у вас отчета в вашем уповании, дать ответ с кротостью и благоговением.\n",
            "перевод:  но с сердцем бодрствуйте Господа нашего Иисуса Христа, и будьте всегда готовы к всякому назиданию.\n",
            "\n",
            "«Бултанай шамайе орхёошье hаань, би шамhаа хэзээшье арсахагүйб», – гэжэ Пётр тэрээндэ хэлэбэ.\n",
            "эталон:  Петр сказал Ему: если и все соблазнятся, но не я.\n",
            "перевод:  Петр же сказал ему: если оставишь Меня, Я никогда не отрекусь от Тебя.\n",
            "\n",
            " Таанадай намда бэшэhэн юумэн тухай хэлэбэл, эрэ хүнэй hамга абаагүй hаань hайн юм.\n",
            "эталон:  А о чем вы писали ко мне, то хорошо человеку не касаться женщины.\n",
            "перевод:  Ибо, как написано вам, лучше жениться на эрэме.\n",
            "\n",
            "Таанар hайндэртээ ошогты.Би тэрэ найрта ошохогүйб, минии саг үшөө ерээдүй байна. \n",
            "эталон:  Вы пойдите на праздник сей; а Я еще не пойду на сей праздник, потому что Мое время еще не исполнилось.\n",
            "перевод:  Пойдите на праздник, ибо я приду на праздник; и время мое еще близко.\n",
            "\n",
            "– Павелые Зүблэлэй гэшүүдтэ абаашахые шамhаа гуйха тухай еврейнүүд хоорондоо үгэсэн хэлсэбэд, – гэжэ хүбүүн харюусаба.– Тэдэ Павелай хэрэгые дахин шалгажа хараха hанаатайбди гэhэн хэбэр үзүүлхэ. \n",
            "эталон:  Он отвечал, что Иудеи согласились просить тебя, чтобы ты завтра вывел Павла пред синедрион, как будто они хотят точнее исследовать дело о нем.\n",
            "перевод:  И сказал ему: иудеи говорили между собою о том, чтобы Я послал Павла к вам в синедрион. Они же сказали мне, что они еще более уразумели слово его.\n",
            "\n",
            "Гэбэшье Памфилида тэдэниие хаяжа, хэрэгыень бүтээлсэхэеэ арсаhан Маркые Павел абажа ябаха дурагүй байгаа.\n",
            "эталон:  Но Павел полагал не брать отставшего от них в Памфилии и не шедшего с ними на дело, на которое они были посланы.\n",
            "перевод:  Но Памфилида не захотела, чтобы Павел взял их и привел к Марку.\n",
            "\n",
            "Гэбэшье, аха дүүнэрни, таанадай, танай захирагшадай үйлэдэhэн юумые мэдэхэгүй байhан дээрэhээл тэрэ буруу ябадал хээт гэжэ би мэдэнэб.\n",
            "эталон:  Впрочем я знаю, братия, что вы, как и начальники ваши, сделали это по неведению;\n",
            "перевод:  Но знаю, братия мои, что вы не знаете, что делаете правители ваши.\n",
            "\n",
            "Ямаршье юумэ хэхэдээ, би өөрынгөө hайн hайханай түлөө бэшэ, харин бүхы хүнүүдэй абарагдахын тула тэдэнэй hайн hайханай түлөө оролдодогби.\n",
            "эталон:  так, как и я угождаю всем во всем, ища не своей пользы, но пользы многих, чтобы они спаслись.\n",
            "перевод:  Ибо я стараюсь, чтобы все были спасены, а не ради имени Моего.\n",
            "\n",
            "Бодожо, хэбтэреэ заhаад, унта, — гэжэ Дулгар хүгшэн шангаар дуугарба.\n",
            "эталон:  Чего ты на полу-то, лег бы в кровать, — громко сказала Дулгар, и это разбудило старика.\n",
            "перевод:  Она залегла в постели и спала, — громким голосом сказала она.\n",
            "\n",
            "Һүүлээрнь хуурмаг нэрэтэ баригдаба, походоо зогсоогты гэжэ мэдээ Зурин абаба.\n",
            "эталон:  Наконец Зурин получил известие о поимке самозванца, а вместе с тем и повеление остановиться.\n",
            "перевод:  Наконец он узнал, что самозванец остановил поход.\n",
            "\n",
            "— Хайран үри бэемни, амиды мэндэ гээшэ гү!\n",
            "эталон:  — Где моя дочка? — тихо стонала старуха.\n",
            "перевод:  — Я живу, сын мой!\n",
            "\n",
            "- Бай, бай, убсанса абгай, арайшье тиигээд бү хэлэжэ орхигты!\n",
            "эталон:  — Погодите, хозяйка, тут одно с другим крепко связано...\n",
            "перевод:  - Ну, отпусти ее. ~~~ — Нет!\n",
            "\n",
            "Би тэрэ үеынгөө бүхы мэдэрэлые дэлбэлжэ бэшэхэ үгыб.\n",
            "эталон:  Что чувствовал я, того не стану описывать.\n",
            "перевод:  Я хотел бы изложить все чувства тех дней в следующей редакции.\n",
            "\n",
            "Швабрин Алексей Иванович хүниие алаhанай түлөө заруулаад, табадахи жэлээ эндэ байгша.\n",
            "эталон:  Швабрин Алексей Иваныч вот уж пятый год как к нам переведен за смертоубийство.\n",
            "перевод:  Швабрин Алексей Иваныч забил человека, а пятый век здесь.\n",
            "\n",
            "Та юун гэжэ hананат? — гээд, Бадан Мүнхын нюур шарай шалангяар хараба.\n",
            "эталон:  Лучше ли будет?\n",
            "перевод:  Что ты думаешь? ~~~ — Бадан взглянул на него с нетерпением.\n",
            "\n",
            "Савельич уй хай болохоёо зааш таhараагүйшье hаа, намhаа гээгдэнэгүй.\n",
            "эталон:  Савельич от меня не отставал, не прерывая жалобных своих молений.\n",
            "перевод:  Савельич не знал меня, если бы он не умер от утешения.\n",
            "\n",
            "«Ай, ай, ай! – гэнэ генерал; – Тэрэ муу, тоншье муу.\n",
            "эталон:  «Ай, ай, ай! — заметил генерал. ~~~ — Это плохо, очень плохо.\n",
            "перевод:  «Ах, ах, ах!» — закричал генерал.\n",
            "\n",
            "— Петруша, хүбүүн минии, — гэнэ эжымни: ~~~ — Бурхан шамай хаанаhаа гаргажа асараа гээшэб?\n",
            "эталон:  — Петруша, друг мой, (говорила) матушка. ~~~ Как тебя господь привел!\n",
            "перевод:  — Петруша, сын мой, — сказала матушка. ~~~ — Откуда Бог вывел тебя?\n",
            "\n",
            "Минии шэхэн үбдэнэ. \n",
            "эталон:  У меня болит ухо. \n",
            "перевод:  Мой Тэг болен.\n",
            "\n",
            "Мүнөөдэр сентябриин нэгэн. \n",
            "эталон:  Сегодня первое сентября. \n",
            "перевод:  Сегодня первый.\n",
            "\n",
            "Гансахан энээхэн наhандаа Гажархаш, хүхихэш сагтай уулзахаш.\n",
            "эталон:  За эту единственную жизнь И с радостью успеха, и с невгодами столкнешься.\n",
            "перевод:  Взгляди на этот день с горьким смехом и веселием.\n",
            "\n",
            "түүниие урдуул мэдээд, шамайе гэмнээгүй», гээл намда минии ухаан.\n",
            "эталон:  тэрэ нюуса бэшэгые анхан эхэнэрнүүдһээ абаа: галабуудай эхинһээ тэдэ нангин һүөөр бэшэдэг лэ нээлгээтэй ягаан саарһаншуу нялха нарайнуудай уралнууд дээрэ, арбаад жэлнүүдэй үнгэрһэн хойно түбеэр гоё ордонгуудай бодоод, хүхюун дуунуудай зэдэлхын түлөө.\n",
            "перевод:  Я не осуждаю тебя в том, что ты узнал меня.\n",
            "\n",
            "одо зурагша хүүхэн\n",
            "эталон:  девочка, рисовавшая звезды\n",
            "перевод:  одо зурагшаэ\n",
            "\n",
            "Анха XVI зуунда европошууд эрьэень нээхэhээ үмэнэ, Делавэртэ унаган америкынхидай хэд хэдэн бүлэг оршон hуужа байhанай дотор хойто зүгтэ Линапе, урда зүгтэ Нантикоке омогойхид нютаглажа байба.\n",
            "эталон:  До прихода европейцев территорию штата заселяли алгонкинские племена ленапе (более известные как делавары), занимавшие всю Делавэрскую равнину, и нантикоки, жившие вдоль рек, впадающих в Чесапикский залив.\n",
            "перевод:  В начале XVI века, когда началась европейская оккупация, на северо-востоке Линапе и на юго-востоке Нантикоке находились несколько индейцев из штата Делавэр.\n",
            "\n",
            "АНУ, Канада, Бразил, Германи руу сагаашалhан хүнэй тоо үсөөнгүй.\n",
            "эталон:  Крупные общины присутствуют в США, Канаде, Бразилии, Германии.\n",
            "перевод:  В США, Канаде, Бразилии и Германии проживало немало людей.\n",
            "\n",
            "Техас түүхэ, соёлой хубида Америкын Урдын ойро холбоотой.\n",
            "эталон:  В 1876 году была принята современная конституция Техаса.\n",
            "перевод:  Техас связан с историческим и культурным центром Америки.\n",
            "\n",
            "1289 ондо эхилээд XV зуун жэлэй эсэс хүрэтэр баригдаhан готик янзын собор сүмэ, VI зуун жэлдэ баригдаhан базилика болон энэ гадна Санта-Мария-дель-Мар сүмэ зэргын готик янзын hайхан байшан харагдажа байна.\n",
            "эталон:  В том же году к мировому наследию ЮНЕСКО были отнесены следующие творения Гауди: храм Святого Семейства (фасад Рождества и крипта), дом Висенс, парк Гуэля, Дом Бальо («Дом костей») и дом Мила («Каменоломня»).\n",
            "перевод:  Здание собора построено с 1289 года до конца XV века, в нём находится басилика VI века и наряду с ним находятся современные готики Санта-Мария-дель-Мар.\n",
            "\n",
            "гэhэн мүр удаадахи мүрөөр hэлгэхэ.\n",
            "эталон:  В связи с кадровыми изменениями в исполнительных органах государственной власти Республики Бурятия Правительство Республики Бурятия постановляет.\n",
            "перевод:  Позицию «20» заменить.\n",
            "\n",
            "-дэхи пунктда «гүрэнэй бүридхэлэй,» гэhэн үгэнүүдые хаhаха.\n",
            "эталон:  В пункте 4.1 слова «государственного учета,» исключить.\n",
            "перевод:  В пункте 4 слова «Государственные перевороты» исключить.\n",
            "\n"
          ]
        }
      ]
    },
    {
      "cell_type": "code",
      "source": [
        "with open('bur_all.txt', 'r') as f:\n",
        "    all_sentences = f.readlines()\n",
        "print(len(all_sentences))\n",
        "random.seed(1)\n",
        "random.shuffle(all_sentences)"
      ],
      "metadata": {
        "colab": {
          "base_uri": "https://localhost:8080/"
        },
        "id": "nNS_bcnOAvxE",
        "outputId": "888578a6-88b2-4c25-b53e-59f9256b2991"
      },
      "id": "nNS_bcnOAvxE",
      "execution_count": 130,
      "outputs": [
        {
          "output_type": "stream",
          "name": "stdout",
          "text": [
            "219597\n"
          ]
        }
      ]
    },
    {
      "cell_type": "code",
      "source": [
        "def translate_batch(texts, src='bxr_XX', trg='ru_RU', max_length='auto', num_beams=5, repetition_penalty=5.0, **kwargs):\n",
        "    tokenizer.src_lang = src\n",
        "    encoded = tokenizer(texts, padding=True, truncation=True, max_length=256, return_tensors=\"pt\")\n",
        "    if max_length == 'auto':\n",
        "        max_length = int(10 + encoded.input_ids.shape[1] * 1.5)\n",
        "    generated_tokens = model.generate(\n",
        "        **encoded.to(model.device),\n",
        "        forced_bos_token_id=tokenizer.lang_code_to_id[trg], \n",
        "        max_length=max_length, \n",
        "        num_beams=num_beams,\n",
        "        repetition_penalty=repetition_penalty,\n",
        "        # early_stopping=True,\n",
        "    )\n",
        "    return tokenizer.batch_decode(generated_tokens, skip_special_tokens=True)"
      ],
      "metadata": {
        "id": "DF8C1drJROSf"
      },
      "id": "DF8C1drJROSf",
      "execution_count": 131,
      "outputs": []
    },
    {
      "cell_type": "code",
      "source": [
        "translate_batch(all_sentences[:4])"
      ],
      "metadata": {
        "colab": {
          "base_uri": "https://localhost:8080/"
        },
        "id": "WtdNKFtxRbv8",
        "outputId": "b29536e1-2cfc-4b81-ca5d-e29a80bfac5f"
      },
      "id": "WtdNKFtxRbv8",
      "execution_count": 132,
      "outputs": [
        {
          "output_type": "execute_result",
          "data": {
            "text/plain": [
              "['(Л. Лисин, 1974, No 2). БОрсОлхо — труп нарываться над облаками и сушиться в тень по земле (вялить мясо).',\n",
              " 'Он покупает их в магазине, растирает макитами и вертит на них кукурузы.',\n",
              " 'Старик с радостью посмотрел на Него, покаяясь в маме.',\n",
              " 'В студенческий час я пошел за ним. — Ча-хү-хү!']"
            ]
          },
          "metadata": {},
          "execution_count": 132
        }
      ]
    },
    {
      "cell_type": "code",
      "source": [
        "batch_size = 16\n",
        "all_translated = []"
      ],
      "metadata": {
        "id": "XHsjczQwR7dZ"
      },
      "id": "XHsjczQwR7dZ",
      "execution_count": 133,
      "outputs": []
    },
    {
      "cell_type": "code",
      "source": [
        "cleanup()\n",
        "\n",
        "for i in trange(0, len(all_sentences), batch_size):\n",
        "    batch = all_sentences[i: i + batch_size]\n",
        "    if all_translated[i: i + batch_size]:\n",
        "        continue\n",
        "    try:\n",
        "        all_translated.extend(translate_batch(batch))\n",
        "    except RuntimeError:\n",
        "        print('error at', i)\n",
        "        cleanup()\n",
        "        bb = []\n",
        "        for b in batch:\n",
        "            try:\n",
        "                bb.append(translate_batch([b])[0])\n",
        "            except RuntimeError:\n",
        "                print('mega error!')\n",
        "                bb.append(b)\n",
        "                cleanup()\n",
        "        all_translated.extend(bb)\n",
        "\n",
        "    if i and (i // batch_size) % 100 == 0:\n",
        "        with open('back_translated.json', 'w') as f:\n",
        "            json.dump({'original': all_sentences, 'translated': all_translated}, f, ensure_ascii=False, indent=2)\n",
        "        print(i, 'saving...')"
      ],
      "metadata": {
        "colab": {
          "base_uri": "https://localhost:8080/",
          "height": 534,
          "referenced_widgets": [
            "3666efa098f248f6a52b3a9fc0ce32b9",
            "f3753e79f2ae432588b7d7d98598de64",
            "e1d1ef9291c54d9b95ec31998aa55fff",
            "bc4a56b6d8fe41aabde919f3f9956ace",
            "affe06fd497c48b2ba3b4d18b7518763",
            "fbbc4d8e637443ab85ea2548a09ebb8a",
            "0143c4962a924f5c87cdbbf8566c78bb",
            "50161c29eef9411c8f6dbe4d18b05050",
            "4ff1f0ef80bf4b7db819bd38b71e5718",
            "2038f4cf25214f738ee7e853a0720255",
            "2b2576886a9744f7a1caae2b6ff1bf91"
          ]
        },
        "id": "18HxS3OeSC5X",
        "outputId": "b77157dd-078b-495a-fa71-61b548306122"
      },
      "id": "18HxS3OeSC5X",
      "execution_count": 134,
      "outputs": [
        {
          "output_type": "display_data",
          "data": {
            "text/plain": [
              "  0%|          | 0/13725 [00:00<?, ?it/s]"
            ],
            "application/vnd.jupyter.widget-view+json": {
              "version_major": 2,
              "version_minor": 0,
              "model_id": "3666efa098f248f6a52b3a9fc0ce32b9"
            }
          },
          "metadata": {}
        },
        {
          "output_type": "stream",
          "name": "stdout",
          "text": [
            "1600 saving...\n",
            "3200 saving...\n",
            "4800 saving...\n",
            "6400 saving...\n",
            "8000 saving...\n",
            "9600 saving...\n",
            "11200 saving...\n"
          ]
        },
        {
          "output_type": "error",
          "ename": "KeyboardInterrupt",
          "evalue": "ignored",
          "traceback": [
            "\u001b[0;31m---------------------------------------------------------------------------\u001b[0m",
            "\u001b[0;31mKeyboardInterrupt\u001b[0m                         Traceback (most recent call last)",
            "\u001b[0;32m<ipython-input-134-61e6b7a8c3e3>\u001b[0m in \u001b[0;36m<cell line: 3>\u001b[0;34m()\u001b[0m\n\u001b[1;32m      6\u001b[0m         \u001b[0;32mcontinue\u001b[0m\u001b[0;34m\u001b[0m\u001b[0;34m\u001b[0m\u001b[0m\n\u001b[1;32m      7\u001b[0m     \u001b[0;32mtry\u001b[0m\u001b[0;34m:\u001b[0m\u001b[0;34m\u001b[0m\u001b[0;34m\u001b[0m\u001b[0m\n\u001b[0;32m----> 8\u001b[0;31m         \u001b[0mall_translated\u001b[0m\u001b[0;34m.\u001b[0m\u001b[0mextend\u001b[0m\u001b[0;34m(\u001b[0m\u001b[0mtranslate_batch\u001b[0m\u001b[0;34m(\u001b[0m\u001b[0mbatch\u001b[0m\u001b[0;34m)\u001b[0m\u001b[0;34m)\u001b[0m\u001b[0;34m\u001b[0m\u001b[0;34m\u001b[0m\u001b[0m\n\u001b[0m\u001b[1;32m      9\u001b[0m     \u001b[0;32mexcept\u001b[0m \u001b[0mRuntimeError\u001b[0m\u001b[0;34m:\u001b[0m\u001b[0;34m\u001b[0m\u001b[0;34m\u001b[0m\u001b[0m\n\u001b[1;32m     10\u001b[0m         \u001b[0mprint\u001b[0m\u001b[0;34m(\u001b[0m\u001b[0;34m'error at'\u001b[0m\u001b[0;34m,\u001b[0m \u001b[0mi\u001b[0m\u001b[0;34m)\u001b[0m\u001b[0;34m\u001b[0m\u001b[0;34m\u001b[0m\u001b[0m\n",
            "\u001b[0;32m<ipython-input-131-6807eed7c03f>\u001b[0m in \u001b[0;36mtranslate_batch\u001b[0;34m(texts, src, trg, max_length, num_beams, repetition_penalty, **kwargs)\u001b[0m\n\u001b[1;32m      4\u001b[0m     \u001b[0;32mif\u001b[0m \u001b[0mmax_length\u001b[0m \u001b[0;34m==\u001b[0m \u001b[0;34m'auto'\u001b[0m\u001b[0;34m:\u001b[0m\u001b[0;34m\u001b[0m\u001b[0;34m\u001b[0m\u001b[0m\n\u001b[1;32m      5\u001b[0m         \u001b[0mmax_length\u001b[0m \u001b[0;34m=\u001b[0m \u001b[0mint\u001b[0m\u001b[0;34m(\u001b[0m\u001b[0;36m10\u001b[0m \u001b[0;34m+\u001b[0m \u001b[0mencoded\u001b[0m\u001b[0;34m.\u001b[0m\u001b[0minput_ids\u001b[0m\u001b[0;34m.\u001b[0m\u001b[0mshape\u001b[0m\u001b[0;34m[\u001b[0m\u001b[0;36m1\u001b[0m\u001b[0;34m]\u001b[0m \u001b[0;34m*\u001b[0m \u001b[0;36m1.5\u001b[0m\u001b[0;34m)\u001b[0m\u001b[0;34m\u001b[0m\u001b[0;34m\u001b[0m\u001b[0m\n\u001b[0;32m----> 6\u001b[0;31m     generated_tokens = model.generate(\n\u001b[0m\u001b[1;32m      7\u001b[0m         \u001b[0;34m**\u001b[0m\u001b[0mencoded\u001b[0m\u001b[0;34m.\u001b[0m\u001b[0mto\u001b[0m\u001b[0;34m(\u001b[0m\u001b[0mmodel\u001b[0m\u001b[0;34m.\u001b[0m\u001b[0mdevice\u001b[0m\u001b[0;34m)\u001b[0m\u001b[0;34m,\u001b[0m\u001b[0;34m\u001b[0m\u001b[0;34m\u001b[0m\u001b[0m\n\u001b[1;32m      8\u001b[0m         \u001b[0mforced_bos_token_id\u001b[0m\u001b[0;34m=\u001b[0m\u001b[0mtokenizer\u001b[0m\u001b[0;34m.\u001b[0m\u001b[0mlang_code_to_id\u001b[0m\u001b[0;34m[\u001b[0m\u001b[0mtrg\u001b[0m\u001b[0;34m]\u001b[0m\u001b[0;34m,\u001b[0m\u001b[0;34m\u001b[0m\u001b[0;34m\u001b[0m\u001b[0m\n",
            "\u001b[0;32m/usr/local/lib/python3.10/dist-packages/torch/utils/_contextlib.py\u001b[0m in \u001b[0;36mdecorate_context\u001b[0;34m(*args, **kwargs)\u001b[0m\n\u001b[1;32m    113\u001b[0m     \u001b[0;32mdef\u001b[0m \u001b[0mdecorate_context\u001b[0m\u001b[0;34m(\u001b[0m\u001b[0;34m*\u001b[0m\u001b[0margs\u001b[0m\u001b[0;34m,\u001b[0m \u001b[0;34m**\u001b[0m\u001b[0mkwargs\u001b[0m\u001b[0;34m)\u001b[0m\u001b[0;34m:\u001b[0m\u001b[0;34m\u001b[0m\u001b[0;34m\u001b[0m\u001b[0m\n\u001b[1;32m    114\u001b[0m         \u001b[0;32mwith\u001b[0m \u001b[0mctx_factory\u001b[0m\u001b[0;34m(\u001b[0m\u001b[0;34m)\u001b[0m\u001b[0;34m:\u001b[0m\u001b[0;34m\u001b[0m\u001b[0;34m\u001b[0m\u001b[0m\n\u001b[0;32m--> 115\u001b[0;31m             \u001b[0;32mreturn\u001b[0m \u001b[0mfunc\u001b[0m\u001b[0;34m(\u001b[0m\u001b[0;34m*\u001b[0m\u001b[0margs\u001b[0m\u001b[0;34m,\u001b[0m \u001b[0;34m**\u001b[0m\u001b[0mkwargs\u001b[0m\u001b[0;34m)\u001b[0m\u001b[0;34m\u001b[0m\u001b[0;34m\u001b[0m\u001b[0m\n\u001b[0m\u001b[1;32m    116\u001b[0m \u001b[0;34m\u001b[0m\u001b[0m\n\u001b[1;32m    117\u001b[0m     \u001b[0;32mreturn\u001b[0m \u001b[0mdecorate_context\u001b[0m\u001b[0;34m\u001b[0m\u001b[0;34m\u001b[0m\u001b[0m\n",
            "\u001b[0;32m/usr/local/lib/python3.10/dist-packages/transformers/generation/utils.py\u001b[0m in \u001b[0;36mgenerate\u001b[0;34m(self, inputs, generation_config, logits_processor, stopping_criteria, prefix_allowed_tokens_fn, synced_gpus, assistant_model, streamer, **kwargs)\u001b[0m\n\u001b[1;32m   1602\u001b[0m             )\n\u001b[1;32m   1603\u001b[0m             \u001b[0;31m# 13. run beam search\u001b[0m\u001b[0;34m\u001b[0m\u001b[0;34m\u001b[0m\u001b[0m\n\u001b[0;32m-> 1604\u001b[0;31m             return self.beam_search(\n\u001b[0m\u001b[1;32m   1605\u001b[0m                 \u001b[0minput_ids\u001b[0m\u001b[0;34m,\u001b[0m\u001b[0;34m\u001b[0m\u001b[0;34m\u001b[0m\u001b[0m\n\u001b[1;32m   1606\u001b[0m                 \u001b[0mbeam_scorer\u001b[0m\u001b[0;34m,\u001b[0m\u001b[0;34m\u001b[0m\u001b[0;34m\u001b[0m\u001b[0m\n",
            "\u001b[0;32m/usr/local/lib/python3.10/dist-packages/transformers/generation/utils.py\u001b[0m in \u001b[0;36mbeam_search\u001b[0;34m(self, input_ids, beam_scorer, logits_processor, stopping_criteria, max_length, pad_token_id, eos_token_id, output_attentions, output_hidden_states, output_scores, return_dict_in_generate, synced_gpus, **model_kwargs)\u001b[0m\n\u001b[1;32m   2953\u001b[0m \u001b[0;34m\u001b[0m\u001b[0m\n\u001b[1;32m   2954\u001b[0m             \u001b[0;31m# stateless\u001b[0m\u001b[0;34m\u001b[0m\u001b[0;34m\u001b[0m\u001b[0m\n\u001b[0;32m-> 2955\u001b[0;31m             beam_outputs = beam_scorer.process(\n\u001b[0m\u001b[1;32m   2956\u001b[0m                 \u001b[0minput_ids\u001b[0m\u001b[0;34m,\u001b[0m\u001b[0;34m\u001b[0m\u001b[0;34m\u001b[0m\u001b[0m\n\u001b[1;32m   2957\u001b[0m                 \u001b[0mnext_token_scores\u001b[0m\u001b[0;34m,\u001b[0m\u001b[0;34m\u001b[0m\u001b[0;34m\u001b[0m\u001b[0m\n",
            "\u001b[0;32m/usr/local/lib/python3.10/dist-packages/transformers/generation/beam_search.py\u001b[0m in \u001b[0;36mprocess\u001b[0;34m(self, input_ids, next_scores, next_tokens, next_indices, pad_token_id, eos_token_id, beam_indices)\u001b[0m\n\u001b[1;32m    237\u001b[0m         \u001b[0;32mfor\u001b[0m \u001b[0mbatch_idx\u001b[0m\u001b[0;34m,\u001b[0m \u001b[0mbeam_hyp\u001b[0m \u001b[0;32min\u001b[0m \u001b[0menumerate\u001b[0m\u001b[0;34m(\u001b[0m\u001b[0mself\u001b[0m\u001b[0;34m.\u001b[0m\u001b[0m_beam_hyps\u001b[0m\u001b[0;34m)\u001b[0m\u001b[0;34m:\u001b[0m\u001b[0;34m\u001b[0m\u001b[0;34m\u001b[0m\u001b[0m\n\u001b[1;32m    238\u001b[0m             \u001b[0;32mif\u001b[0m \u001b[0mself\u001b[0m\u001b[0;34m.\u001b[0m\u001b[0m_done\u001b[0m\u001b[0;34m[\u001b[0m\u001b[0mbatch_idx\u001b[0m\u001b[0;34m]\u001b[0m\u001b[0;34m:\u001b[0m\u001b[0;34m\u001b[0m\u001b[0;34m\u001b[0m\u001b[0m\n\u001b[0;32m--> 239\u001b[0;31m                 \u001b[0;32mif\u001b[0m \u001b[0mself\u001b[0m\u001b[0;34m.\u001b[0m\u001b[0mnum_beams\u001b[0m \u001b[0;34m<\u001b[0m \u001b[0mlen\u001b[0m\u001b[0;34m(\u001b[0m\u001b[0mbeam_hyp\u001b[0m\u001b[0;34m)\u001b[0m\u001b[0;34m:\u001b[0m\u001b[0;34m\u001b[0m\u001b[0;34m\u001b[0m\u001b[0m\n\u001b[0m\u001b[1;32m    240\u001b[0m                     \u001b[0;32mraise\u001b[0m \u001b[0mValueError\u001b[0m\u001b[0;34m(\u001b[0m\u001b[0;34mf\"Batch can only be done if at least {self.num_beams} beams have been generated\"\u001b[0m\u001b[0;34m)\u001b[0m\u001b[0;34m\u001b[0m\u001b[0;34m\u001b[0m\u001b[0m\n\u001b[1;32m    241\u001b[0m                 \u001b[0;32mif\u001b[0m \u001b[0meos_token_id\u001b[0m \u001b[0;32mis\u001b[0m \u001b[0;32mNone\u001b[0m \u001b[0;32mor\u001b[0m \u001b[0mpad_token_id\u001b[0m \u001b[0;32mis\u001b[0m \u001b[0;32mNone\u001b[0m\u001b[0;34m:\u001b[0m\u001b[0;34m\u001b[0m\u001b[0;34m\u001b[0m\u001b[0m\n",
            "\u001b[0;32m/usr/local/lib/python3.10/dist-packages/transformers/generation/beam_search.py\u001b[0m in \u001b[0;36m__len__\u001b[0;34m(self)\u001b[0m\n\u001b[1;32m    877\u001b[0m             )\n\u001b[1;32m    878\u001b[0m \u001b[0;34m\u001b[0m\u001b[0m\n\u001b[0;32m--> 879\u001b[0;31m     \u001b[0;32mdef\u001b[0m \u001b[0m__len__\u001b[0m\u001b[0;34m(\u001b[0m\u001b[0mself\u001b[0m\u001b[0;34m)\u001b[0m\u001b[0;34m:\u001b[0m\u001b[0;34m\u001b[0m\u001b[0;34m\u001b[0m\u001b[0m\n\u001b[0m\u001b[1;32m    880\u001b[0m         \"\"\"\n\u001b[1;32m    881\u001b[0m         \u001b[0mNumber\u001b[0m \u001b[0mof\u001b[0m \u001b[0mhypotheses\u001b[0m \u001b[0;32min\u001b[0m \u001b[0mthe\u001b[0m \u001b[0mlist\u001b[0m\u001b[0;34m.\u001b[0m\u001b[0;34m\u001b[0m\u001b[0;34m\u001b[0m\u001b[0m\n",
            "\u001b[0;31mKeyboardInterrupt\u001b[0m: "
          ]
        }
      ]
    },
    {
      "cell_type": "code",
      "source": [
        "with open('back_translated.json', 'w') as f:\n",
        "    json.dump({'original': all_sentences, 'translated': all_translated}, f, ensure_ascii=False, indent=2)"
      ],
      "metadata": {
        "id": "U6bq4is1SYc0"
      },
      "id": "U6bq4is1SYc0",
      "execution_count": null,
      "outputs": []
    },
    {
      "cell_type": "code",
      "source": [
        "for i in range(100):\n",
        "  print(all_translated[i])\n",
        "  print(all_sentences[i])\n",
        "  print()"
      ],
      "metadata": {
        "colab": {
          "base_uri": "https://localhost:8080/"
        },
        "id": "t3gAAZm7TdTm",
        "outputId": "a5018394-dabd-4b54-d656-25a3d439d00f"
      },
      "id": "t3gAAZm7TdTm",
      "execution_count": 135,
      "outputs": [
        {
          "output_type": "stream",
          "name": "stdout",
          "text": [
            "(Л. Лисин, 1974, No 2). БОрсОлхо — труп нарываться над облаками и сушиться в тень по земле (вялить мясо).\n",
            "(Л. Линховоин, 1974, № 2).БОрсОлХО —  мяха зурагар наринуудаар зүhэжэ, hүүдэр газарта хатааха (вялить мясо).\n",
            "\n",
            "\n",
            "Он покупает их в магазине, растирает макитами и вертит на них кукурузы.\n",
            "Нагаса тэрэ таряалангай газарта арбай тарижа, арбайе арьбижуулжа, ехэ болгоhондо, тэрэ арбай та-ряагаар ехэ мяха худалдажа абаад, сагаан арбайгаар гурил хэжэ, хара арбайгаар дараса болгон шанаба.\n",
            "\n",
            "\n",
            "Старик с радостью посмотрел на Него, покаяясь в маме.\n",
            "Степан миhэд гээд Этигэлмаае энэрхыгээр харана.\n",
            "\n",
            "\n",
            "В студенческий час я пошел за ним. — Ча-хү-хү!\n",
            "Городой үүлэн нюдэтэй басагантай бурят хүн хэзээшье нэгэдэхэгүй гэжэ бодоошье hаа Ошор тэрэнэй гарыень табинагүй.УХоёрдохи дабхарта буугаад орхихолоорнь тэдэнэй урдаhаань Бамбаадиг ябажа ябаба.—Хү-хү-хү!\n",
            "\n",
            "\n",
            "Подъехав с места, он поднялся на гору и узнав, что не в силах выскочить из скалы.\n",
            "Шулуунуудай хоорондуур годирон, доошоо ороhон хүндын oёophoo булган өөдөө, галай урдаhаа hyгa hүрэжэ гараха аргагүйдөө гэжэ таахаар байба.\n",
            "\n",
            "\n",
            "Все бледят!» — сказал он.\n",
            "Хүнэй дутаhандал!» - гээ бэлэй.\n",
            "\n",
            "\n",
            "Посему и те, которые были в Риме, не могли помнить.\n",
            "Тиимэhээ шэлынхид Бүмөөдэйе оройдоо мартажархёо ёhотой.\n",
            "\n",
            "\n",
            "В период между этими годами был написан ряд стихов: «Волны Балтики», «Тебе, Байкалу», «Приветствую от чистого сердца», «Северу». Кроме этих двух фраз он также пишет иллюстрации к событиям Второй мировой войны: «По зову матери» и «Четыре года».\n",
            "Гадна эдэ жэлнуудэй туршада Ж. Тумунов «Балтикын долгин» («Волны Балтики»), «Байгал, шамдаа» («Тебе, Байкал»), «Арюун бодо- лоор уттаналби» («Приветствую от чистого сердца»), «Хойто зуг» («Север») болон бусад шулэгуудые бэшэhэн байна.Эдэ бутэдэнhөө гадна Ж. Тумунов дайнай уеын жэлнуудтэ «Эхын юрөөлөөр» («По зову матери») болон «Дурбэн жэл» («Четыре года») гэhэн поэмэнуудые зохёогоо hэн.Энэ хугасаада бэшэгдэhэн шулэгууд ба поэмэнуудынь дайнай уеын оршон байдалые унэншэмэ тодоор харуулhан байна.\n",
            "\n",
            "\n",
            "~~~ Женщины моей любимой музыки — «Слава мира» — пишут мне жалобу на то, что у меня нет времени для отдыха с кем-л. Стражные страсти доказывают, что мой отец живет в стране, а не в Бусалтане. ~~~ Любовь к своим близким и родным возлагается на них. ~~~ Отличительная дружба между ними основана на том, что они любят друг друга.\n",
            "22I  х у б и                                   Т y р э л  н ю т а гБУУСАМНИ«Баруун Хоройн» эреэхэн сээжэдэБуусамни борсойходожо hанаандам дуурана,Балшар наhанайм жаргалай орондо Бодолым уряалан, баяр асарна.Үхибүүхэн ябаhыем hануулан тодорно,Баруунхан хадамни халюуран толорно,Бусалтагүй ошоhон гүлмэрхэн хаhыем Үлгыхэн үргөөмни энхэрэн дуулана.Бууралхан буусаяа магтан түүрээнэб,Булгилан байгаа зүрхэндөө хүндэлнэб,Буурашагүй заяатай сэдьхэлэйм гуламта Бусахыем хүлеэдэг буусахан тоонто.\n",
            "\n",
            "\n",
            "Ибо мы знаем, что от колена начальства разогревались животные, и опалили дом.\n",
            "Бүри дээдэ үеһөө хүн түрэлтэн амитанай арһа элдэжэ, тэрээгээр хубсаһа оёжо, мүн гэр байраяа дулаасуулжа ябаа гэжэ бидэ мэдэнэбди.\n",
            "\n",
            "\n",
            "Слышишь, что рядом с ним останавливаются крики — ревнолюбивый бурят.\n",
            "Ханын хажуугаар зогсоhон бэреэдые Харасашни шэрбэнэ гү даа -                                                                   жүтөөрхэнэм.\n",
            "\n",
            "\n",
            "Для опасности все необходимо сделать руками своими.\n",
            "Наадахадаа хэрэглэхэ хамаг бүхы хэрэгсэлнүүдые хуу өөрынгөө гараар бүтээхэ хэрэгтэй.\n",
            "\n",
            "\n",
            "А теперь нет иного пути, кроме как придти вслед всем своим мужьям и женам с двумя коровами на попечении.\n",
            "Мүнөө юушье ондоо болгохын арга гэжэ үгы, гэр бүлэhөөнь хамаг юумыень  хуу буляажа абаха, hамга үхи-бүүдынь хооhон талада хоолойгоо тэжээхэ хоёр үхэртэй үлэхэ.\n",
            "\n",
            "\n",
            "Из-за зимней нестабильности в домах раздутся вечеринки.\n",
            "Зарим дулаан сагуудта январиин hyyл багаар шье тyрyyшын дуhалнууд гэрэй оройhоо урдаhан байгша.\n",
            "\n",
            "\n",
            "И, выйдя из дома, он взглянул на входные окна.\n",
            "Тэрэ эдеэнэйнгээ таhалгада yлooд, мага-зин ошохоёо гэрhээ гарагшадые сонхоороо харана.\n",
            "\n",
            "\n",
            "Встречается в городе Умаразу, на севере оттуда. ~~~ Соединяясь с другими мундравьями, дети разговаривают друг с другом по бильярдной траве. ~~~ Слишком быстро перебрасывают конь и бросают его в город. ~~~ Находясь там, они ловко управляют своими лошадьми. ~~~ Позже их выкидают из-за обрыва рельсов. ~~~ Оказывается, что это не то же самое, что было сделано при взятии Византийской империи. ~~~ Во время Первой мировой войны русские пытались проникнуть в страну за счёт мятежа. ~~~ Из-за того, что монголы подвергались бомбардировкам башкирских станций, были вынуждены отправиться в горнолыжные походы. ~~~ После окончания Второй мировой войны военные войска вторглись в Первую мировую столицу — Мексику. ~~~ Под командованием генерала Хусейна Бушеева была сформирована компания «Транспорт» («Транспорт»).\n",
            "Х үрьhэтэ газарта увдэhэеэ шэнгээhэн,Х үдэр муш хуу hалаануудаа hарбайhан, Вуржагар набша малгайгаа хиидхэhэн,Б уга hогоонуудые hүрэгөөрвь бэлшээhэн Хүшэтэ мододууд Уралай ташаланда Хүүен дүүен дуулан оршоно.2Хүүеэ дүүеэ бартаа тайгануудые Хүндэлэн утаашань нэбтэлэн үвгэрhэн,1)Умаразү  г—хойто зүг.53 Хүhөө ш улуун бэерхүү мундаргануудые Хүү сүмэ нухэлэн ходорhон Түмэр харгын булад рельснуүд Түмэн модые холбон зурыеа.Хүйдэ булад рельснүудые хотолзуулан Х үсэтэ паровоз уухилан дабхина.Х усэтэ энэ паровозые ш аш хуулаа Х үдэр машинист урагш аа яарана.Монгол арадай содо түлөөлэгшэдые Москва, Лениндэ хүргэжэ абаашана.3Үндэр үндэр башнияуудайнгаа үзүурыө Үүлэтэ тэнгэридэ тулатарнь ёрбойлгон, Хадатай жэшэмэ гэрнүүдэйнгээ донхые Хараани Холоhоо ошоторнь яларуулан, Нэлэнхы талын хүндэтэ айлшадые Ниислэл Мозква уггаж а абаба.Угалзата утаhата гуталаа үмдэнхэй, Улаан дурдам буhэеэ бүhэлэнхэй,Мүнгэн хутага арадаа зүүихэй,Магнал торгон малгайгаа hэхэнхэй—  Урматай золтой холын айлшад Улаан талмай дээгуур алхалалдана.4Түмэн арадай зурхэн болоhон Түүхэ түрын hүрые бадаруулhан Б уурал Кремльдэ монголшууд дохибо, Буулгаж а хутагаа, богоhыень алхаба.\n",
            "\n",
            "\n",
            "Средний Бата-57 годов.\n",
            "Дундань Бата-Мүнхэ Лодонов.\n",
            "\n",
            "\n",
            "Впервые Ган-Тель оскорбил нас, и мы услышали его голос.\n",
            "Тиихэдэ  түрүүшынхиеэ  Ган-Буладай  hог-тон алдаhыень , уяран  дуу дуулаhыень  мартангүй  hанадагби .\n",
            "\n",
            "\n",
            "В 1996 году в г. Улан-Удэ открылась специализированная выставка «Профессиональный товаропроизводитель».\n",
            "1996. 4. «Мэргэд гарахын орон» (“Источник мудрецов:») Улаан-Удэ.\n",
            "\n",
            "\n",
            "200 — нудно ли это?\n",
            "200– Яаhан хашартайгаар ороhон бодол бэ?\n",
            "\n",
            "\n",
            "— Она, вероятно, старая?\n",
            "– Она, наверное, старая?\n",
            "\n",
            "\n",
            "У входа в юрту стояло два или три барана, одна на западе, а другая на юге.\n",
            "Болдогой урда хониной нэгэ отара, баруун тээнь нэгэ гүүртэ, зүүн тээнь нэгэ доро хоёр-гурбан гүүртэ зуhадаг байгаа.\n",
            "\n",
            "\n",
            "После окончания Николаевского университета начал писать стихи для преподавателя русского языка и драматургии 4А. Ж. Доноева, который впоследствии стал редактором его первого сборника стихов.\n",
            "Николай нютагайнгаа hургуулида hуража ябаха үедөө түрэлхи хэлэнэй болон уран зохёолой багша  4А. Ж. Доноевай эмхидхэhэн уран зохёолой бүлэгэмдэ эдэбхитэйгээр хабаадажа, түрүүшынгөө шүлэгэй мүрнүүдые саарhан дээрэ аржылгаhан түүхэтэй.\n",
            "\n",
            "\n",
            "В эту ночь девчонки-солдатницы уже не держали?.\n",
            "Мүнөө үдэшэ басагад hамга- дай хүргөөшэн болоhоор үнгэрхэ гээлтэйб?.\n",
            "\n",
            "\n",
            "— Нет, батюшка не должен был простить нас.\n",
            "– Нээрээшье , баа-баймнай  маанадаа  хүлисөө  гэжэ  тоолоод , үнгэрхэ  ёhогүйбди .\n",
            "\n",
            "\n",
            "Одной части было весело, а другой — великолепно.\n",
            "Нэгэ  талаhаа  энеэдэтэйшье , нүгөө  талаhаа  гайха -мааршье  сүүд  болоо  hэн.\n",
            "\n",
            "\n",
            "Сказываю вам, Господи! ~~~ Не сбудьте скорбь вспоминаниям о нашей жизни.\n",
            "Эзэн хаанай зарлигтай,Эхэ хатанай үреэлтэйЭнхэ жаргадаг нютагнай,Энэл һайхан Буряаднай!\n",
            "\n",
            "\n",
            "Ну, что ж? — спросила мать.\n",
            "Тиигээд, битнай удахагүй ерээдш ошохоёо ядахагүйб.\n",
            "\n",
            "\n",
            "В эту минуту он думает, что у него не только умная мысль, но и внезапный отъезд из коммуны на другую сторону света.\n",
            "Тиихэ зуураа мичии ухаан бодолдо туруушынхеэ гэнтэ Сэсэгнай иигээд лэ гэр мал боложо, ондоо замай ургэн зургэ дээрэ гарахань гэhэн бодол шэбшэгдэ- бэ.\n",
            "\n",
            "\n",
            "Как правило, еду и пищу хранят в упаковке.\n",
            "Наймаашан эхэнэрнyyд хyнyyдые алад гаргахагyй гэжэ эд товар болон эдихэ, ууха юумэнyyдээ магтана, дурадхана.\n",
            "\n",
            "\n",
            "- Он нас оставит... завтра.\n",
            "– Олхонуудта ошохобди… үглөөдэр.\n",
            "\n",
            "\n",
            "19-20-е дни заседания Комитета по случаю победы Кубка России.\n",
            "Ородой Кубогта хүртэхын түлөө мүрысөөнэй 1-дэхи шата ноябриин 19-20-ой үдэрнүүдтэ үнгэргэгдэхэнь.\n",
            "\n",
            "\n",
            "Я строго возвращался.\n",
            "Тэмүүжэн эрид эгсэ hөөргөө эрьебэ.\n",
            "\n",
            "\n",
            "Если же вы отвергнетесь, то дам вам проказ.\n",
            "Хэрбээ арсаа хадашни, бухы энэ хэрэгыетнай сүүдтэ үгэхэб.\n",
            "\n",
            "\n",
            "~~~ Старик отпустил свою тележку и сказал: «Откуда вы приехали? — спросил старик.\n",
            "Аяга сай ууhанайнгаа хойно Нима үбгэн асууба:— Хүлэг мориёо хүлэрүүлжэ, хүдэр хүбүүдээ дахуулжа, хаанаhаа хайшаа зорижо ябаhан хүнүүд гээшэбта?ГоМ бо.\n",
            "\n",
            "\n",
            "Что это за злодеяние?»\n",
            "Ямар тиимэ хара үйлэ үйлдэhэн юм бэ?» — гэбэ.\n",
            "\n",
            "\n",
            "Из-за этого он думает, что у него нет времени. ~~~ — Завистился и завидовал.\n",
            "Ешигмаае наhатай болоод, ори гансааран байна гy, али нyхэртэй болонхой гy гэжэ hанаагаа зобо -догшье, атаархадагшье.\n",
            "\n",
            "\n",
            "Мы отпустили его и, приближаясь, умолчали.\n",
            "Бидэ энэ yдэрэй байдал тухай хѳѳрэлдѳѳд, ерээдyй сагаа мартаад ябанабди.\n",
            "\n",
            "\n",
            "Лице белого детёныха с чистой шерстью, как у новорождённого.\n",
            "Гүн сагаан мананда хүльбэрhэнҺүниин түрэл дайдадамШэнэ түрэhэн хүнэйШэнгэхэн уйлаанШэрд гэжэШэртэhэн мэтээр хадхажархина.\n",
            "\n",
            "\n",
            "Сказав, что Бадан был на северо-западе Булана, он взял с собою коня и обвинил его в убийстве.\n",
            "Тиихэдэнь ошон Зохирхо аабза гэнэ.Байшанайнь баруун хойто Булан соонь орожо,Хара Сроо морииень Хазаарыень абажа хаэаарлажа, Тохомыень абажа тохожо,Тохой мүнгэн эмээлыень эмааллвна Арбан уламаар Атыса татана,Хорин уламаар Хотойсо татана.Зай иигээд байхадаа Бэеынь түхеэргэ хүсэбэ, Моринойньшье түхеэргэ хүсэбэ.\n",
            "\n",
            "\n",
            "Он понял, что тай- ай не может быть лидером.\n",
            "Мүнөө жэлэй ехэ аба хайдагта, Хүхэ чугэй тэрээндэ дуулгаhаар, хүлеэгдэhэн зоной хахадыншье суглараагүй гэжэ мэдэхэдээ тайчууд ай ударидагша боложо шадахагүйень тэрэ эсэслэн ойлгобо.\n",
            "\n",
            "\n",
            "Если же вы не можете одиночествовать, то возвестите мужелюбие к вам.\n",
            "Таанад ганса эрэтэй байжа шададаггүй тула таанарта ехээр дурлаhан эрэшүүлые hалгаадаг гээшэ хат.\n",
            "\n",
            "\n",
            "и мы исполнены всякого долга.\n",
            "Мүн баһа бидэшье өөһэдынгөө уялга дүүргэхэ ёһотойбди.\n",
            "\n",
            "\n",
            "— Издали, батюшка. ~~~ Она вышла за пределы страны и встретила мать-авнушку.\n",
            "Бухыншни тур уун холын аянда ябаhандал үзэгдэбэл ,—  г эж э тэрэ \\  ' ’ ран байба.— У рд х  эсэг hамгатай h уугаа hэм.\n",
            "\n",
            "\n",
            "Ибо всякий человек, именем которого говоришь, не может быть поколебан ни в чем.\n",
            "Хүнэй нэрэ хүндэ ямаршье барюубшагүй, ямаршье бэлэхэнээр алдагдашадаг юм гээшэб даа.\n",
            "\n",
            "\n",
            "Пришло время...\n",
            "Жаргал ерээ гээшэ...\n",
            "\n",
            "\n",
            "Что это за сумасшедший, о-ёо! ~~~ Железный ветер и холодная вода не согревают; капельчатый шарман: 172 — Вы уули ли стограмм?\n",
            "Ямар муухай юм гээшэб, о -ёо!Доронь таз табяад, хүйтэн уhанда норгоhон бүдөе; толгойень жэгнэхэ үедөө:172 — Али зуун грамм уужархиха гүт?\n",
            "\n",
            "\n",
            "В конце 1920-х — начале 1930-х годов, в связи с переходом к федеральному управлению вооружёнными силами, начались бои за независимость.\n",
            "Жэшээлбэл, загаһашадай байдал харуулхын түлөө 1940-1960-аад онуудай гүльмэнүүдые, загаһа дабһалха боошхо, онгосо бэдэржэ олообди.\n",
            "\n",
            "\n",
            "О, свет! — закричала она.\n",
            "Гэрэл ехэ болго!  – гэжэ сэрэгшэндэ hамганиинь  хашхарба.\n",
            "\n",
            "\n",
            "Берегать голову каждый раз.\n",
            "Хyлэгэ hooргoo толгойгоо yбэдхooжэл hалаба.\n",
            "\n",
            "\n",
            "Оуглаан возвращается.\n",
            "8. Оуглаан эхилээ.\n",
            "\n",
            "\n",
            "Я вошел в дом, сел и ел.\n",
            "Би гэртээ орожо, сай, эдеэ бэлдэхэмни.\n",
            "\n",
            "\n",
            "Ибо все, что было в том же отряде -- неверие или лжесвидетельства. Но когда-то потребовали нового начальника и протащить его на работу.\n",
            "Нээрээhээ Соёлой министерствын yсooхэн тоото эрэшyyлынь барандаа тэндэ ажаллажа yзэhэн байгаа гy, али худалаар хэлэгдэhэн гy, бy мэдэе, теэд, яахабши, шэнэ ажалшан ха -даа, дарга-ноёнойнгоо yгынь дуулажа, ажаллахал баатай болобоб.\n",
            "\n",
            "\n",
            "Хо-хо-хо-хо...\n",
            "Хо-хо-хо-хо…\n",
            "\n",
            "\n",
            "Что ж, батюшка? ~~~ — спросил я его с трепетом. ~~~ Он сказал: «Нет».\n",
            "Харанхы хушэгэдэ халхалагдаад.  таншдахагүйдөө найража, нэгэ хүн намаар наа-  да хэхэ hанаатай татана гу?— Бү тата!— гэжэ ууртайгаар бадашабаб.\n",
            "\n",
            "\n",
            "И вот, слышат голос электричества и дела современного дня... Вспомни городские утренний! Кремлинский часовой; ибо он человек.\n",
            "170Үглөөнэй электричкынхуугайлха абяантай урилдан,хүнүүдэй ухаандаүдэрэйнь хэрэгүүд hэрибэ...Солгёон даа ехэ хотын үглөө!Кремлиин  часы сагаа тооложол  байна.Сохисынь хүндэ гээшэнь!\n",
            "\n",
            "\n",
            "Слушай, Захаре!\n",
            "Дууланагши , Захар !\n",
            "\n",
            "\n",
            "Поэтому я с интересом знакомился со всеми произведениями, написанными на бурятском языке, и думаю, что их авторы делают большой вклад в национальную культуру, уже выбирая язык, язык своего творчества.\n",
            "Поэтому я с интересом знакомлюсь с любыми произведениями, написанными на бурятском, и, думаю, что их авторы делают большой вклад в национальную культуру, уже выбирая бурятский язык, языком своего творчества.\n",
            "\n",
            "\n",
            "К вечеру у меня дрожало здоровье.\n",
            "Бэень орой- hоон уладаа хүрэтэр шэшэрбэ.\n",
            "\n",
            "\n",
            "смеялись, кричали и веселились в моем саду.\n",
            "Yхибyyдэй энеэлдээн, хашхаралдаан, шугы соогуур бэе бэеэ оогололсоон минии досоо нэгэ ямар бэ даа дулаа-гаар жэгнэжэ, баясуулжа байгаа.\n",
            "\n",
            "\n",
            "— Куда?\n",
            "– Хайшаа?!\n",
            "\n",
            "\n",
            "Что это за беспокойство?\n",
            "Энээгээр  hанаагаа  заhаха  юм гү даа?\n",
            "\n",
            "\n",
            "— Мысль о том, что сеть разрушается, растёт далеко от детей.\n",
            "– Сайтнуудай һайнаар хүдэлөөл һаань, хүүгэднай холоһоо һуража ядахагүй байна.\n",
            "\n",
            "\n",
            "Без труда не может быть ни одного человека.\n",
            "Ажал хэнгуй байха арга оройдоо угы ха юм.\n",
            "\n",
            "\n",
            "Причастность к активному сообществу, как и причастность к другим видам деятельности, способствующему демократическому управлению свободным обществом, приносит многочисленные награды.\n",
            "Ниигэмэй эдэбхи -тэй гэшүүн байhан юм гэжэ, Эдэй засагай сүлөөтэй ниигэмлиг зэргэ дээ дэ засагай газарай эрхилhэн бусад ажаябуулгануудта хабаадал-са жа, олон шагнал хайра хүртэhөөрнь ойлгожо болохо.\n",
            "\n",
            "\n",
            "Из-за усталости спешу попрощать о том, чтобы добраться до аэропорта.\n",
            "Yглooгyyр гэрhээ гарахадаа, машинаа-раа аэропорт хyргэхэ тухай Ринчимаада хэлэhэн Ринчин ажалдаа удаашарна.\n",
            "\n",
            "\n",
            "В длинном дыме поднялся курильщик, размахивая разноцветными листьями.\n",
            "Уданшьегүй хүхэбтэр утаан өөдөө сорьежо, элдэб үнгын угалзануудые hиилэхэ гэhэндэл, хойшо урагшаа hэлбэлзэнэ.\n",
            "\n",
            "\n",
            "На самбаре Союза красно-белых армян был выставлен настоящий свидетель войны.\n",
            "Улаан-Үдэдэ Буркоопсоюзай Хүндэлэлэй самбарта фото-зурагайнь үгтэнхэй байһаниинь оролдосотой ажалайнь үнэн гэршэ болонхой бшуу.\n",
            "\n",
            "\n",
            "Ты попадешь в пастбище, и войди. — Небезпечь упадет на голову мою, — воскликнул он своему пьянному товарищу. — О нет! ты отпустишься.\n",
            "Унша уншаhаар тархияа урадхуулхаш.—Урадахадаа минии тархи урдуужан даа,— гээд Ошор hогтошоhон нүхэрhөө жэрхэнэ.—Зай, Бамбаадигшни болёо.\n",
            "\n",
            "\n",
            "Приведите меня к слову, или простого человека.\n",
            "Колхозой удамаршын гү, али юрын багшын үгэ газетэдэ хэрэгтэй болохол даа.\n",
            "\n",
            "\n",
            "У него были два хороших мужика, которые вышли на скотоводство с небольшими пожертвованиями и изготавливать несколько овец — все было очень плохо.\n",
            "Хоёр hайн62 моридынь газааhаа угы болошоh.он, мяха татабарида хэдэн малаа тушааhан, хэдэн хонидынь убдэжэ ухэhэн —нэгэ угеер хэлэхэдэ, Дамбатанда ехэ урагшагуй намар болоhон байба.\n",
            "\n",
            "\n",
            "Проект представлен Министерством экономики Республики Бурятия.\n",
            "Тиимэһээ энэ түлэб манда ехэ удха шанартай.\n",
            "\n",
            "\n",
            "Но, в конце концов, он думает: «Кто будет такой вечер на 8°»? — Ну!\n",
            "Шал нороhон хубсаhаа тайлажа байхадаа, «сарай соомнай иимэ орой хэн байха юм?» гэжэ hанаба.- Пээ!\n",
            "\n",
            "\n",
            "Когда же Петр начал пить, то сказал ему: придешь к нему и к Ивану; ибо они собрали пищу и покорили стол.\n",
            "Hама хyгшэн аша басагандаа Пётр Ивановичай болон эсэгынь ажалдаа ошоод ерэхэ дyтэл hэн ту-хай хэлэбэ.Тэдэ гурбуулан эдеэ хоол бэлдэжэ, заал соохи стол дээгyyр та-бина.\n",
            "\n",
            "\n",
            "Юменка кусает девушку...\n",
            "Юhэтэй басаганда торохо гэжэ...\n",
            "\n",
            "\n",
            "Но по какой-то причине она оставила его.\n",
            "Но по какой-то причине она его остави-ла.\n",
            "\n",
            "\n",
            "Она вытащила шелковый халат и вышла на балкон.\n",
            "Надела этот шелковый халат и вышла на балкон.\n",
            "\n",
            "\n",
            "В тот же час у него расставались ноги, и он ослабел.\n",
            "Эгээл тэрэ үедэ хүл гарни һалганажа, һанаагаа зобожо эхилээб.\n",
            "\n",
            "\n",
            "423 тысячелетие железной массы Т титан, ц о т и н а ть...\n",
            "423Түмэн       түмэн           түмэр              тахын Түбэрөөн,       түбэрөөн,            түбэрөөн...\n",
            "\n",
            "\n",
            "Хари!\n",
            "Хари!\n",
            "\n",
            "\n",
            "Но тотчас, в ту Пасху и долгое время держаясь за кого-нибудь, поднялся на колени и пошел к нему с твердым намерением: «Люди злословят меня».\n",
            "Теэд мунее тэрэ энэ заншалаа баримталангуй, уни удаан хэниие комиссар болгохые бодожо ябаhандал, бодожо ерээд, эрид сэхээр, шуумар тургэнеер:— Нима Бороевые гэжэ дурадханаб, — гэбэ.Хунууд бугэдэ Нима тээшэ нюдее хандуулна.\n",
            "\n",
            "\n",
            "— Зай, товарищи, домашние родные. ~~~ Старик все равно рассердился и стал ждать, доколе он не отпустит свою вину из-за того, что она была подавляющим большинством голосов.\n",
            "Юмжэд хүгшэн hанаанай хэнтэг боложо, үнеэ буруугаа үhэ зүhөөрнь эрижэ, бусаажа абаха hанаатай, үшөө хүлеэжэ, үүдэнэй тэндэ hуугаад, түрүүлэгшын столой ойро байгшадай шарайнуудые ээлжээгээр ажаглан шэртэнэ.- Зай, нүхэд, түрүүшымнай зүйл дүүрэбэ.\n",
            "\n",
            "\n",
            "В этой книге говорится о том, что Евангелие не только имеет важное значение для чтения, но и является важным доказательством того, почему оно необходимо.\n",
            "Эдэнэй эндэ ерэ -hэн шухала уялга Евангели ном буряадта түхөөжэ, удха шанарые мэ -дүүлжэ, хэрээс зүүлгэхэ гэhэн юм.\n",
            "\n",
            "\n",
            "Итак, пойдём вместе с батюшками. ~~~ Все вскочили и бросили наружу коня.\n",
            "Тиимэhээ  Жаргал  Света  хоёр  баабайтаяа  заабол  ошолдохо , буусаяа  түхеэрхэ  талаар  ажалаа  эхилхые  бодохо  ёhотой  гэжэ  бултадаа  нэгэн  дуугаар  шиидээд , булта  хамсыгаа  шуужа , хөөрсэгэнэлдөөншье  эхилшэбэ .\n",
            "\n",
            "\n",
            "Не надо мешать черному, — шагнул он.\n",
            "Орхижо hаатуулжа болохогүй, —  гээд ябашаба.\n",
            "\n",
            "\n",
            "«Страстижность в музыке усиливается».\n",
            "«Булад галда улам хатуужадаг» гэжэ yгэ бии.\n",
            "\n",
            "\n",
            "Однажды в одиночестве ужинал я и думал, что буду работать на студенческом поединке с кем-нибудь другим — бездомным, бедным или простодушным.\n",
            "Нэгэ  үглөөгүүр  ори гансаараа  хэбтэри  соогоо  одоол  hэрихэдэнь , юу-мэн хуу хуушаараа  болошонхой , үнөөхил  хооhон , үгытэй , хододоо  үлэн  юрын  оюутан  болошоод  байхаб  гэжэ  hанахадаа , энэ бодолоо  ухаанайн -гаа эгээл  холын  углуухан  руу оро hэегүй  үлдэхые  hэдэдэг  hэн.\n",
            "\n",
            "\n",
            "В углу, где ни на что не пойдешь, укрой камнями.\n",
            "Hyyлдэнь, хyй -тэн газар болохо зэргээрнь хонхойлгожо, Хэрмэчыгээ хyдooлyyлжэ, дээрэhээнь шулуунуудаар хушаба.\n",
            "\n",
            "\n",
            "Вся семья и работники ели вместе за одним большим столом, пища была обильна.\n",
            "Вся семья и работники питались вместе за одним большим столом, еда была обильная.\n",
            "\n",
            "\n",
            "«Отпустите меня, как отцов үрей, и не каплюйте ни капли на землю...»\n",
            "«Хони үрлэдэгтөө адляар намайе үрлэ, нэгэшье дуhал шуhым газарта бү дуhаа!» гэжэ…\n",
            "\n",
            "\n",
            "В книге «Структура» и других сборниках содержится ряд историй, в том числе: «Лучшие книги», «Любовь белая пчела», «Транспортная юрта», «Текущая книга», «Опыты моей жизни».\n",
            "“Шажан мүргэл”, “Сагай сууряан”, “Аян замай дэбтэрһээ”, “Зүүн зүгэй зүнтэйхэн зүгы”, “Урлал бэлигэй угалзанууд”, “Шэнэ номууд”, “Уншагшадаймнай туршалгануудһаа” гэһэн ниитэ гаршагууд доро бүгэдэ Буряадай уншагшадай хужарлан уншамаар толилолгонууд хэблэгдээ.\n",
            "\n",
            "\n",
            "Он сказал им в ответ: вот, так велика вода.\n",
            "«Энэ юртэмсэдэ иимэ ехэ уhан байдаг юм байна.\n",
            "\n",
            "\n",
            "Я не понял, что это с ним происходит. ~~~ Он был в недоумении.\n",
            "Томо санаартантай нэгэ адли шатада, адли мэдэсэтэйгээр hанамжаяа хубаалдан хөөрэлдэхэдэнь, үнэн дээрээ, юушье ойлгоогүй би ямар хүнтэй харгын хани ябаhанаа гайхан мэдэрээ бэлэйб.Хоердохи гайхал.\n",
            "\n",
            "\n",
            "И этологично, ведь кто-то жил здесь до прихода старообрядцев?\n",
            "И это логично, ведь кто-то же жил здесь до прихода старообрядцев?\n",
            "\n",
            "\n",
            "И... свиньи льются и убивают.\n",
            "Мyнѳѳ тиихэдэ... гахай шэнгеэр хадараад лэ, хюдаад лэ байдаг болошоо.\n",
            "\n",
            "\n",
            "Удалился он от дороги, где лежали полкамья с красотою и украшением.\n",
            "Басагад бэреэдүүдые уран гоё зүүбшэ гоёолтонуудаар шэмэглэн, холо ойгуур нэрэтэй болоо бэлэй.\n",
            "\n",
            "\n",
            "Не хочу, чтобы он менял...\n",
            "Тэрээнhээ бэшэ нyгэл yбгэндэмни байха бэшэ...\n",
            "\n",
            "\n",
            "Эх даа, после семидневного пребывания мы будем искать ее и страдать от болезней.\n",
            "Эх даа, үерэй hүүлдэ  бидэ булта тэрэнээ бэдэрээбди гэжэ зобохо, тулнхал хаб-  ди.\n",
            "\n",
            "\n",
            "сильный и тяжёлый ветер прорвался, набрасывая воды.\n",
            "У дангүй дошхон, зэрлиг hалхин эшхэрэн буугаад, удаа дараалан уhа ехэтэй аадар адхаршаба.\n",
            "\n",
            "\n",
            "Николай Некрасов, Ветхого сотника «Кому на Русь жить хорошо», когда-то исключил из жизни семь товарищей — родных городов, деревень, сельских селений и других районов, Арбантанай Замбалан, Далантанай, Дэнгэн, храмовый Жар, духовное соединение, отделение.\n",
            "Николай Некрасов, “Кому на Руси жить хорошо”         I          Хорин нэгэдэхи зуунай,  Хабарай hэн гү, зунай  Дулаахан нэгэтэ хаhа бэлэй,   Долоон нүхэд уулзашалай  —    Энэ багаархи можонуудай,  Элдэб хотон hууринуудай,  Эндэхи хүдөө нютагуудай,    Элдин янзын аймагуудай Амгалантын Амгалан,  Арьбантанай Замбалан,  Далантанай  Данзан,  Баянголой Дэнгэн,  Үшөө Һүтэйн  Жамбал,  Үлзытэнэй Жаргал,  Жаргалантын Хубисхал.\n",
            "\n",
            "\n"
          ]
        }
      ]
    },
    {
      "cell_type": "code",
      "source": [],
      "metadata": {
        "id": "1453n7xVlpTe"
      },
      "id": "1453n7xVlpTe",
      "execution_count": null,
      "outputs": []
    }
  ],
  "metadata": {
    "accelerator": "GPU",
    "colab": {
      "provenance": []
    },
    "gpuClass": "standard",
    "kernelspec": {
      "display_name": "Python 3 (ipykernel)",
      "language": "python",
      "name": "python3"
    },
    "language_info": {
      "codemirror_mode": {
        "name": "ipython",
        "version": 3
      },
      "file_extension": ".py",
      "mimetype": "text/x-python",
      "name": "python",
      "nbconvert_exporter": "python",
      "pygments_lexer": "ipython3",
      "version": "3.8.10"
    },
    "widgets": {
      "application/vnd.jupyter.widget-state+json": {
        "1f01e2d82f774a46a24e2dedd9e52e0e": {
          "model_module": "@jupyter-widgets/controls",
          "model_name": "HBoxModel",
          "model_module_version": "1.5.0",
          "state": {
            "_dom_classes": [],
            "_model_module": "@jupyter-widgets/controls",
            "_model_module_version": "1.5.0",
            "_model_name": "HBoxModel",
            "_view_count": null,
            "_view_module": "@jupyter-widgets/controls",
            "_view_module_version": "1.5.0",
            "_view_name": "HBoxView",
            "box_style": "",
            "children": [
              "IPY_MODEL_e2efc558eaf74c94bce55e43ddcd23ec",
              "IPY_MODEL_7311c63639834a1d96a8b553e4ffb148",
              "IPY_MODEL_245541ba4e9241288094b323aac57e29"
            ],
            "layout": "IPY_MODEL_0fb26640cb0841b5a7ab0d30c8aa30a7"
          }
        },
        "e2efc558eaf74c94bce55e43ddcd23ec": {
          "model_module": "@jupyter-widgets/controls",
          "model_name": "HTMLModel",
          "model_module_version": "1.5.0",
          "state": {
            "_dom_classes": [],
            "_model_module": "@jupyter-widgets/controls",
            "_model_module_version": "1.5.0",
            "_model_name": "HTMLModel",
            "_view_count": null,
            "_view_module": "@jupyter-widgets/controls",
            "_view_module_version": "1.5.0",
            "_view_name": "HTMLView",
            "description": "",
            "description_tooltip": null,
            "layout": "IPY_MODEL_1c27aa3684e64ab9a522d00695406181",
            "placeholder": "​",
            "style": "IPY_MODEL_22dd587880fb4abc911cd2a1b9a93997",
            "value": "Downloading (…)tencepiece.bpe.model: 100%"
          }
        },
        "7311c63639834a1d96a8b553e4ffb148": {
          "model_module": "@jupyter-widgets/controls",
          "model_name": "FloatProgressModel",
          "model_module_version": "1.5.0",
          "state": {
            "_dom_classes": [],
            "_model_module": "@jupyter-widgets/controls",
            "_model_module_version": "1.5.0",
            "_model_name": "FloatProgressModel",
            "_view_count": null,
            "_view_module": "@jupyter-widgets/controls",
            "_view_module_version": "1.5.0",
            "_view_name": "ProgressView",
            "bar_style": "success",
            "description": "",
            "description_tooltip": null,
            "layout": "IPY_MODEL_530a7879e5a34732a690808a1b4f2e3c",
            "max": 5069051,
            "min": 0,
            "orientation": "horizontal",
            "style": "IPY_MODEL_f45703630c4442ebb17056cb9ec7b3ea",
            "value": 5069051
          }
        },
        "245541ba4e9241288094b323aac57e29": {
          "model_module": "@jupyter-widgets/controls",
          "model_name": "HTMLModel",
          "model_module_version": "1.5.0",
          "state": {
            "_dom_classes": [],
            "_model_module": "@jupyter-widgets/controls",
            "_model_module_version": "1.5.0",
            "_model_name": "HTMLModel",
            "_view_count": null,
            "_view_module": "@jupyter-widgets/controls",
            "_view_module_version": "1.5.0",
            "_view_name": "HTMLView",
            "description": "",
            "description_tooltip": null,
            "layout": "IPY_MODEL_62435fc041ae421a8de7c14aef52dec7",
            "placeholder": "​",
            "style": "IPY_MODEL_eb6666c9de86412988e562af3fd47aec",
            "value": " 5.07M/5.07M [00:00&lt;00:00, 86.5MB/s]"
          }
        },
        "0fb26640cb0841b5a7ab0d30c8aa30a7": {
          "model_module": "@jupyter-widgets/base",
          "model_name": "LayoutModel",
          "model_module_version": "1.2.0",
          "state": {
            "_model_module": "@jupyter-widgets/base",
            "_model_module_version": "1.2.0",
            "_model_name": "LayoutModel",
            "_view_count": null,
            "_view_module": "@jupyter-widgets/base",
            "_view_module_version": "1.2.0",
            "_view_name": "LayoutView",
            "align_content": null,
            "align_items": null,
            "align_self": null,
            "border": null,
            "bottom": null,
            "display": null,
            "flex": null,
            "flex_flow": null,
            "grid_area": null,
            "grid_auto_columns": null,
            "grid_auto_flow": null,
            "grid_auto_rows": null,
            "grid_column": null,
            "grid_gap": null,
            "grid_row": null,
            "grid_template_areas": null,
            "grid_template_columns": null,
            "grid_template_rows": null,
            "height": null,
            "justify_content": null,
            "justify_items": null,
            "left": null,
            "margin": null,
            "max_height": null,
            "max_width": null,
            "min_height": null,
            "min_width": null,
            "object_fit": null,
            "object_position": null,
            "order": null,
            "overflow": null,
            "overflow_x": null,
            "overflow_y": null,
            "padding": null,
            "right": null,
            "top": null,
            "visibility": null,
            "width": null
          }
        },
        "1c27aa3684e64ab9a522d00695406181": {
          "model_module": "@jupyter-widgets/base",
          "model_name": "LayoutModel",
          "model_module_version": "1.2.0",
          "state": {
            "_model_module": "@jupyter-widgets/base",
            "_model_module_version": "1.2.0",
            "_model_name": "LayoutModel",
            "_view_count": null,
            "_view_module": "@jupyter-widgets/base",
            "_view_module_version": "1.2.0",
            "_view_name": "LayoutView",
            "align_content": null,
            "align_items": null,
            "align_self": null,
            "border": null,
            "bottom": null,
            "display": null,
            "flex": null,
            "flex_flow": null,
            "grid_area": null,
            "grid_auto_columns": null,
            "grid_auto_flow": null,
            "grid_auto_rows": null,
            "grid_column": null,
            "grid_gap": null,
            "grid_row": null,
            "grid_template_areas": null,
            "grid_template_columns": null,
            "grid_template_rows": null,
            "height": null,
            "justify_content": null,
            "justify_items": null,
            "left": null,
            "margin": null,
            "max_height": null,
            "max_width": null,
            "min_height": null,
            "min_width": null,
            "object_fit": null,
            "object_position": null,
            "order": null,
            "overflow": null,
            "overflow_x": null,
            "overflow_y": null,
            "padding": null,
            "right": null,
            "top": null,
            "visibility": null,
            "width": null
          }
        },
        "22dd587880fb4abc911cd2a1b9a93997": {
          "model_module": "@jupyter-widgets/controls",
          "model_name": "DescriptionStyleModel",
          "model_module_version": "1.5.0",
          "state": {
            "_model_module": "@jupyter-widgets/controls",
            "_model_module_version": "1.5.0",
            "_model_name": "DescriptionStyleModel",
            "_view_count": null,
            "_view_module": "@jupyter-widgets/base",
            "_view_module_version": "1.2.0",
            "_view_name": "StyleView",
            "description_width": ""
          }
        },
        "530a7879e5a34732a690808a1b4f2e3c": {
          "model_module": "@jupyter-widgets/base",
          "model_name": "LayoutModel",
          "model_module_version": "1.2.0",
          "state": {
            "_model_module": "@jupyter-widgets/base",
            "_model_module_version": "1.2.0",
            "_model_name": "LayoutModel",
            "_view_count": null,
            "_view_module": "@jupyter-widgets/base",
            "_view_module_version": "1.2.0",
            "_view_name": "LayoutView",
            "align_content": null,
            "align_items": null,
            "align_self": null,
            "border": null,
            "bottom": null,
            "display": null,
            "flex": null,
            "flex_flow": null,
            "grid_area": null,
            "grid_auto_columns": null,
            "grid_auto_flow": null,
            "grid_auto_rows": null,
            "grid_column": null,
            "grid_gap": null,
            "grid_row": null,
            "grid_template_areas": null,
            "grid_template_columns": null,
            "grid_template_rows": null,
            "height": null,
            "justify_content": null,
            "justify_items": null,
            "left": null,
            "margin": null,
            "max_height": null,
            "max_width": null,
            "min_height": null,
            "min_width": null,
            "object_fit": null,
            "object_position": null,
            "order": null,
            "overflow": null,
            "overflow_x": null,
            "overflow_y": null,
            "padding": null,
            "right": null,
            "top": null,
            "visibility": null,
            "width": null
          }
        },
        "f45703630c4442ebb17056cb9ec7b3ea": {
          "model_module": "@jupyter-widgets/controls",
          "model_name": "ProgressStyleModel",
          "model_module_version": "1.5.0",
          "state": {
            "_model_module": "@jupyter-widgets/controls",
            "_model_module_version": "1.5.0",
            "_model_name": "ProgressStyleModel",
            "_view_count": null,
            "_view_module": "@jupyter-widgets/base",
            "_view_module_version": "1.2.0",
            "_view_name": "StyleView",
            "bar_color": null,
            "description_width": ""
          }
        },
        "62435fc041ae421a8de7c14aef52dec7": {
          "model_module": "@jupyter-widgets/base",
          "model_name": "LayoutModel",
          "model_module_version": "1.2.0",
          "state": {
            "_model_module": "@jupyter-widgets/base",
            "_model_module_version": "1.2.0",
            "_model_name": "LayoutModel",
            "_view_count": null,
            "_view_module": "@jupyter-widgets/base",
            "_view_module_version": "1.2.0",
            "_view_name": "LayoutView",
            "align_content": null,
            "align_items": null,
            "align_self": null,
            "border": null,
            "bottom": null,
            "display": null,
            "flex": null,
            "flex_flow": null,
            "grid_area": null,
            "grid_auto_columns": null,
            "grid_auto_flow": null,
            "grid_auto_rows": null,
            "grid_column": null,
            "grid_gap": null,
            "grid_row": null,
            "grid_template_areas": null,
            "grid_template_columns": null,
            "grid_template_rows": null,
            "height": null,
            "justify_content": null,
            "justify_items": null,
            "left": null,
            "margin": null,
            "max_height": null,
            "max_width": null,
            "min_height": null,
            "min_width": null,
            "object_fit": null,
            "object_position": null,
            "order": null,
            "overflow": null,
            "overflow_x": null,
            "overflow_y": null,
            "padding": null,
            "right": null,
            "top": null,
            "visibility": null,
            "width": null
          }
        },
        "eb6666c9de86412988e562af3fd47aec": {
          "model_module": "@jupyter-widgets/controls",
          "model_name": "DescriptionStyleModel",
          "model_module_version": "1.5.0",
          "state": {
            "_model_module": "@jupyter-widgets/controls",
            "_model_module_version": "1.5.0",
            "_model_name": "DescriptionStyleModel",
            "_view_count": null,
            "_view_module": "@jupyter-widgets/base",
            "_view_module_version": "1.2.0",
            "_view_name": "StyleView",
            "description_width": ""
          }
        },
        "1a2d672f0ba34197b54d40746d3e1396": {
          "model_module": "@jupyter-widgets/controls",
          "model_name": "HBoxModel",
          "model_module_version": "1.5.0",
          "state": {
            "_dom_classes": [],
            "_model_module": "@jupyter-widgets/controls",
            "_model_module_version": "1.5.0",
            "_model_name": "HBoxModel",
            "_view_count": null,
            "_view_module": "@jupyter-widgets/controls",
            "_view_module_version": "1.5.0",
            "_view_name": "HBoxView",
            "box_style": "",
            "children": [
              "IPY_MODEL_5e31f6e616e740daa1bccbfcb62dbb9e",
              "IPY_MODEL_540db06ae4cf4d9d876823655576d633",
              "IPY_MODEL_56502aee43de4e17b2913e743362c9b8"
            ],
            "layout": "IPY_MODEL_b03b88008b044dde85cef444eccbde59"
          }
        },
        "5e31f6e616e740daa1bccbfcb62dbb9e": {
          "model_module": "@jupyter-widgets/controls",
          "model_name": "HTMLModel",
          "model_module_version": "1.5.0",
          "state": {
            "_dom_classes": [],
            "_model_module": "@jupyter-widgets/controls",
            "_model_module_version": "1.5.0",
            "_model_name": "HTMLModel",
            "_view_count": null,
            "_view_module": "@jupyter-widgets/controls",
            "_view_module_version": "1.5.0",
            "_view_name": "HTMLView",
            "description": "",
            "description_tooltip": null,
            "layout": "IPY_MODEL_52593a94a0ed42ca91aaa94749291ac7",
            "placeholder": "​",
            "style": "IPY_MODEL_b54d3b75d0e2476fb641b981f3d3a9d7",
            "value": "Downloading (…)cial_tokens_map.json: 100%"
          }
        },
        "540db06ae4cf4d9d876823655576d633": {
          "model_module": "@jupyter-widgets/controls",
          "model_name": "FloatProgressModel",
          "model_module_version": "1.5.0",
          "state": {
            "_dom_classes": [],
            "_model_module": "@jupyter-widgets/controls",
            "_model_module_version": "1.5.0",
            "_model_name": "FloatProgressModel",
            "_view_count": null,
            "_view_module": "@jupyter-widgets/controls",
            "_view_module_version": "1.5.0",
            "_view_name": "ProgressView",
            "bar_style": "success",
            "description": "",
            "description_tooltip": null,
            "layout": "IPY_MODEL_ef83598281d649199b1652b2910570b5",
            "max": 649,
            "min": 0,
            "orientation": "horizontal",
            "style": "IPY_MODEL_3219fe536754498ab09b26adfa584a13",
            "value": 649
          }
        },
        "56502aee43de4e17b2913e743362c9b8": {
          "model_module": "@jupyter-widgets/controls",
          "model_name": "HTMLModel",
          "model_module_version": "1.5.0",
          "state": {
            "_dom_classes": [],
            "_model_module": "@jupyter-widgets/controls",
            "_model_module_version": "1.5.0",
            "_model_name": "HTMLModel",
            "_view_count": null,
            "_view_module": "@jupyter-widgets/controls",
            "_view_module_version": "1.5.0",
            "_view_name": "HTMLView",
            "description": "",
            "description_tooltip": null,
            "layout": "IPY_MODEL_46a7e50136584ac6ab357b20c918ebeb",
            "placeholder": "​",
            "style": "IPY_MODEL_1e64ce560fa748c48398123f6403f021",
            "value": " 649/649 [00:00&lt;00:00, 38.6kB/s]"
          }
        },
        "b03b88008b044dde85cef444eccbde59": {
          "model_module": "@jupyter-widgets/base",
          "model_name": "LayoutModel",
          "model_module_version": "1.2.0",
          "state": {
            "_model_module": "@jupyter-widgets/base",
            "_model_module_version": "1.2.0",
            "_model_name": "LayoutModel",
            "_view_count": null,
            "_view_module": "@jupyter-widgets/base",
            "_view_module_version": "1.2.0",
            "_view_name": "LayoutView",
            "align_content": null,
            "align_items": null,
            "align_self": null,
            "border": null,
            "bottom": null,
            "display": null,
            "flex": null,
            "flex_flow": null,
            "grid_area": null,
            "grid_auto_columns": null,
            "grid_auto_flow": null,
            "grid_auto_rows": null,
            "grid_column": null,
            "grid_gap": null,
            "grid_row": null,
            "grid_template_areas": null,
            "grid_template_columns": null,
            "grid_template_rows": null,
            "height": null,
            "justify_content": null,
            "justify_items": null,
            "left": null,
            "margin": null,
            "max_height": null,
            "max_width": null,
            "min_height": null,
            "min_width": null,
            "object_fit": null,
            "object_position": null,
            "order": null,
            "overflow": null,
            "overflow_x": null,
            "overflow_y": null,
            "padding": null,
            "right": null,
            "top": null,
            "visibility": null,
            "width": null
          }
        },
        "52593a94a0ed42ca91aaa94749291ac7": {
          "model_module": "@jupyter-widgets/base",
          "model_name": "LayoutModel",
          "model_module_version": "1.2.0",
          "state": {
            "_model_module": "@jupyter-widgets/base",
            "_model_module_version": "1.2.0",
            "_model_name": "LayoutModel",
            "_view_count": null,
            "_view_module": "@jupyter-widgets/base",
            "_view_module_version": "1.2.0",
            "_view_name": "LayoutView",
            "align_content": null,
            "align_items": null,
            "align_self": null,
            "border": null,
            "bottom": null,
            "display": null,
            "flex": null,
            "flex_flow": null,
            "grid_area": null,
            "grid_auto_columns": null,
            "grid_auto_flow": null,
            "grid_auto_rows": null,
            "grid_column": null,
            "grid_gap": null,
            "grid_row": null,
            "grid_template_areas": null,
            "grid_template_columns": null,
            "grid_template_rows": null,
            "height": null,
            "justify_content": null,
            "justify_items": null,
            "left": null,
            "margin": null,
            "max_height": null,
            "max_width": null,
            "min_height": null,
            "min_width": null,
            "object_fit": null,
            "object_position": null,
            "order": null,
            "overflow": null,
            "overflow_x": null,
            "overflow_y": null,
            "padding": null,
            "right": null,
            "top": null,
            "visibility": null,
            "width": null
          }
        },
        "b54d3b75d0e2476fb641b981f3d3a9d7": {
          "model_module": "@jupyter-widgets/controls",
          "model_name": "DescriptionStyleModel",
          "model_module_version": "1.5.0",
          "state": {
            "_model_module": "@jupyter-widgets/controls",
            "_model_module_version": "1.5.0",
            "_model_name": "DescriptionStyleModel",
            "_view_count": null,
            "_view_module": "@jupyter-widgets/base",
            "_view_module_version": "1.2.0",
            "_view_name": "StyleView",
            "description_width": ""
          }
        },
        "ef83598281d649199b1652b2910570b5": {
          "model_module": "@jupyter-widgets/base",
          "model_name": "LayoutModel",
          "model_module_version": "1.2.0",
          "state": {
            "_model_module": "@jupyter-widgets/base",
            "_model_module_version": "1.2.0",
            "_model_name": "LayoutModel",
            "_view_count": null,
            "_view_module": "@jupyter-widgets/base",
            "_view_module_version": "1.2.0",
            "_view_name": "LayoutView",
            "align_content": null,
            "align_items": null,
            "align_self": null,
            "border": null,
            "bottom": null,
            "display": null,
            "flex": null,
            "flex_flow": null,
            "grid_area": null,
            "grid_auto_columns": null,
            "grid_auto_flow": null,
            "grid_auto_rows": null,
            "grid_column": null,
            "grid_gap": null,
            "grid_row": null,
            "grid_template_areas": null,
            "grid_template_columns": null,
            "grid_template_rows": null,
            "height": null,
            "justify_content": null,
            "justify_items": null,
            "left": null,
            "margin": null,
            "max_height": null,
            "max_width": null,
            "min_height": null,
            "min_width": null,
            "object_fit": null,
            "object_position": null,
            "order": null,
            "overflow": null,
            "overflow_x": null,
            "overflow_y": null,
            "padding": null,
            "right": null,
            "top": null,
            "visibility": null,
            "width": null
          }
        },
        "3219fe536754498ab09b26adfa584a13": {
          "model_module": "@jupyter-widgets/controls",
          "model_name": "ProgressStyleModel",
          "model_module_version": "1.5.0",
          "state": {
            "_model_module": "@jupyter-widgets/controls",
            "_model_module_version": "1.5.0",
            "_model_name": "ProgressStyleModel",
            "_view_count": null,
            "_view_module": "@jupyter-widgets/base",
            "_view_module_version": "1.2.0",
            "_view_name": "StyleView",
            "bar_color": null,
            "description_width": ""
          }
        },
        "46a7e50136584ac6ab357b20c918ebeb": {
          "model_module": "@jupyter-widgets/base",
          "model_name": "LayoutModel",
          "model_module_version": "1.2.0",
          "state": {
            "_model_module": "@jupyter-widgets/base",
            "_model_module_version": "1.2.0",
            "_model_name": "LayoutModel",
            "_view_count": null,
            "_view_module": "@jupyter-widgets/base",
            "_view_module_version": "1.2.0",
            "_view_name": "LayoutView",
            "align_content": null,
            "align_items": null,
            "align_self": null,
            "border": null,
            "bottom": null,
            "display": null,
            "flex": null,
            "flex_flow": null,
            "grid_area": null,
            "grid_auto_columns": null,
            "grid_auto_flow": null,
            "grid_auto_rows": null,
            "grid_column": null,
            "grid_gap": null,
            "grid_row": null,
            "grid_template_areas": null,
            "grid_template_columns": null,
            "grid_template_rows": null,
            "height": null,
            "justify_content": null,
            "justify_items": null,
            "left": null,
            "margin": null,
            "max_height": null,
            "max_width": null,
            "min_height": null,
            "min_width": null,
            "object_fit": null,
            "object_position": null,
            "order": null,
            "overflow": null,
            "overflow_x": null,
            "overflow_y": null,
            "padding": null,
            "right": null,
            "top": null,
            "visibility": null,
            "width": null
          }
        },
        "1e64ce560fa748c48398123f6403f021": {
          "model_module": "@jupyter-widgets/controls",
          "model_name": "DescriptionStyleModel",
          "model_module_version": "1.5.0",
          "state": {
            "_model_module": "@jupyter-widgets/controls",
            "_model_module_version": "1.5.0",
            "_model_name": "DescriptionStyleModel",
            "_view_count": null,
            "_view_module": "@jupyter-widgets/base",
            "_view_module_version": "1.2.0",
            "_view_name": "StyleView",
            "description_width": ""
          }
        },
        "e7d8725a32dd4697bcc2dc076d0e4004": {
          "model_module": "@jupyter-widgets/controls",
          "model_name": "HBoxModel",
          "model_module_version": "1.5.0",
          "state": {
            "_dom_classes": [],
            "_model_module": "@jupyter-widgets/controls",
            "_model_module_version": "1.5.0",
            "_model_name": "HBoxModel",
            "_view_count": null,
            "_view_module": "@jupyter-widgets/controls",
            "_view_module_version": "1.5.0",
            "_view_name": "HBoxView",
            "box_style": "",
            "children": [
              "IPY_MODEL_3708ada85b214bebb2ff66f6d1b4b477",
              "IPY_MODEL_2437cf03946a4752bfb72f811c62a782",
              "IPY_MODEL_7a7dd252995a46bf8647ad7f652bb4cd"
            ],
            "layout": "IPY_MODEL_b7fb70b4636f42c3be7dfcc0a4509ea5"
          }
        },
        "3708ada85b214bebb2ff66f6d1b4b477": {
          "model_module": "@jupyter-widgets/controls",
          "model_name": "HTMLModel",
          "model_module_version": "1.5.0",
          "state": {
            "_dom_classes": [],
            "_model_module": "@jupyter-widgets/controls",
            "_model_module_version": "1.5.0",
            "_model_name": "HTMLModel",
            "_view_count": null,
            "_view_module": "@jupyter-widgets/controls",
            "_view_module_version": "1.5.0",
            "_view_name": "HTMLView",
            "description": "",
            "description_tooltip": null,
            "layout": "IPY_MODEL_44e41906e1954de9bf4b96fb32b4ad22",
            "placeholder": "​",
            "style": "IPY_MODEL_0cdee84a30ec4ab1b628311bfe7b4a6c",
            "value": "Downloading (…)okenizer_config.json: 100%"
          }
        },
        "2437cf03946a4752bfb72f811c62a782": {
          "model_module": "@jupyter-widgets/controls",
          "model_name": "FloatProgressModel",
          "model_module_version": "1.5.0",
          "state": {
            "_dom_classes": [],
            "_model_module": "@jupyter-widgets/controls",
            "_model_module_version": "1.5.0",
            "_model_name": "FloatProgressModel",
            "_view_count": null,
            "_view_module": "@jupyter-widgets/controls",
            "_view_module_version": "1.5.0",
            "_view_name": "ProgressView",
            "bar_style": "success",
            "description": "",
            "description_tooltip": null,
            "layout": "IPY_MODEL_97f4a5fa9bf64919b8f9ff40aded6482",
            "max": 529,
            "min": 0,
            "orientation": "horizontal",
            "style": "IPY_MODEL_4f37b5cc2ff94914b7bec1952d2ebbd0",
            "value": 529
          }
        },
        "7a7dd252995a46bf8647ad7f652bb4cd": {
          "model_module": "@jupyter-widgets/controls",
          "model_name": "HTMLModel",
          "model_module_version": "1.5.0",
          "state": {
            "_dom_classes": [],
            "_model_module": "@jupyter-widgets/controls",
            "_model_module_version": "1.5.0",
            "_model_name": "HTMLModel",
            "_view_count": null,
            "_view_module": "@jupyter-widgets/controls",
            "_view_module_version": "1.5.0",
            "_view_name": "HTMLView",
            "description": "",
            "description_tooltip": null,
            "layout": "IPY_MODEL_5b81f6ff373a47aa8dbbd0cb9b0b7870",
            "placeholder": "​",
            "style": "IPY_MODEL_a91e0e04a6d74f129fc126fbbc4c934e",
            "value": " 529/529 [00:00&lt;00:00, 27.7kB/s]"
          }
        },
        "b7fb70b4636f42c3be7dfcc0a4509ea5": {
          "model_module": "@jupyter-widgets/base",
          "model_name": "LayoutModel",
          "model_module_version": "1.2.0",
          "state": {
            "_model_module": "@jupyter-widgets/base",
            "_model_module_version": "1.2.0",
            "_model_name": "LayoutModel",
            "_view_count": null,
            "_view_module": "@jupyter-widgets/base",
            "_view_module_version": "1.2.0",
            "_view_name": "LayoutView",
            "align_content": null,
            "align_items": null,
            "align_self": null,
            "border": null,
            "bottom": null,
            "display": null,
            "flex": null,
            "flex_flow": null,
            "grid_area": null,
            "grid_auto_columns": null,
            "grid_auto_flow": null,
            "grid_auto_rows": null,
            "grid_column": null,
            "grid_gap": null,
            "grid_row": null,
            "grid_template_areas": null,
            "grid_template_columns": null,
            "grid_template_rows": null,
            "height": null,
            "justify_content": null,
            "justify_items": null,
            "left": null,
            "margin": null,
            "max_height": null,
            "max_width": null,
            "min_height": null,
            "min_width": null,
            "object_fit": null,
            "object_position": null,
            "order": null,
            "overflow": null,
            "overflow_x": null,
            "overflow_y": null,
            "padding": null,
            "right": null,
            "top": null,
            "visibility": null,
            "width": null
          }
        },
        "44e41906e1954de9bf4b96fb32b4ad22": {
          "model_module": "@jupyter-widgets/base",
          "model_name": "LayoutModel",
          "model_module_version": "1.2.0",
          "state": {
            "_model_module": "@jupyter-widgets/base",
            "_model_module_version": "1.2.0",
            "_model_name": "LayoutModel",
            "_view_count": null,
            "_view_module": "@jupyter-widgets/base",
            "_view_module_version": "1.2.0",
            "_view_name": "LayoutView",
            "align_content": null,
            "align_items": null,
            "align_self": null,
            "border": null,
            "bottom": null,
            "display": null,
            "flex": null,
            "flex_flow": null,
            "grid_area": null,
            "grid_auto_columns": null,
            "grid_auto_flow": null,
            "grid_auto_rows": null,
            "grid_column": null,
            "grid_gap": null,
            "grid_row": null,
            "grid_template_areas": null,
            "grid_template_columns": null,
            "grid_template_rows": null,
            "height": null,
            "justify_content": null,
            "justify_items": null,
            "left": null,
            "margin": null,
            "max_height": null,
            "max_width": null,
            "min_height": null,
            "min_width": null,
            "object_fit": null,
            "object_position": null,
            "order": null,
            "overflow": null,
            "overflow_x": null,
            "overflow_y": null,
            "padding": null,
            "right": null,
            "top": null,
            "visibility": null,
            "width": null
          }
        },
        "0cdee84a30ec4ab1b628311bfe7b4a6c": {
          "model_module": "@jupyter-widgets/controls",
          "model_name": "DescriptionStyleModel",
          "model_module_version": "1.5.0",
          "state": {
            "_model_module": "@jupyter-widgets/controls",
            "_model_module_version": "1.5.0",
            "_model_name": "DescriptionStyleModel",
            "_view_count": null,
            "_view_module": "@jupyter-widgets/base",
            "_view_module_version": "1.2.0",
            "_view_name": "StyleView",
            "description_width": ""
          }
        },
        "97f4a5fa9bf64919b8f9ff40aded6482": {
          "model_module": "@jupyter-widgets/base",
          "model_name": "LayoutModel",
          "model_module_version": "1.2.0",
          "state": {
            "_model_module": "@jupyter-widgets/base",
            "_model_module_version": "1.2.0",
            "_model_name": "LayoutModel",
            "_view_count": null,
            "_view_module": "@jupyter-widgets/base",
            "_view_module_version": "1.2.0",
            "_view_name": "LayoutView",
            "align_content": null,
            "align_items": null,
            "align_self": null,
            "border": null,
            "bottom": null,
            "display": null,
            "flex": null,
            "flex_flow": null,
            "grid_area": null,
            "grid_auto_columns": null,
            "grid_auto_flow": null,
            "grid_auto_rows": null,
            "grid_column": null,
            "grid_gap": null,
            "grid_row": null,
            "grid_template_areas": null,
            "grid_template_columns": null,
            "grid_template_rows": null,
            "height": null,
            "justify_content": null,
            "justify_items": null,
            "left": null,
            "margin": null,
            "max_height": null,
            "max_width": null,
            "min_height": null,
            "min_width": null,
            "object_fit": null,
            "object_position": null,
            "order": null,
            "overflow": null,
            "overflow_x": null,
            "overflow_y": null,
            "padding": null,
            "right": null,
            "top": null,
            "visibility": null,
            "width": null
          }
        },
        "4f37b5cc2ff94914b7bec1952d2ebbd0": {
          "model_module": "@jupyter-widgets/controls",
          "model_name": "ProgressStyleModel",
          "model_module_version": "1.5.0",
          "state": {
            "_model_module": "@jupyter-widgets/controls",
            "_model_module_version": "1.5.0",
            "_model_name": "ProgressStyleModel",
            "_view_count": null,
            "_view_module": "@jupyter-widgets/base",
            "_view_module_version": "1.2.0",
            "_view_name": "StyleView",
            "bar_color": null,
            "description_width": ""
          }
        },
        "5b81f6ff373a47aa8dbbd0cb9b0b7870": {
          "model_module": "@jupyter-widgets/base",
          "model_name": "LayoutModel",
          "model_module_version": "1.2.0",
          "state": {
            "_model_module": "@jupyter-widgets/base",
            "_model_module_version": "1.2.0",
            "_model_name": "LayoutModel",
            "_view_count": null,
            "_view_module": "@jupyter-widgets/base",
            "_view_module_version": "1.2.0",
            "_view_name": "LayoutView",
            "align_content": null,
            "align_items": null,
            "align_self": null,
            "border": null,
            "bottom": null,
            "display": null,
            "flex": null,
            "flex_flow": null,
            "grid_area": null,
            "grid_auto_columns": null,
            "grid_auto_flow": null,
            "grid_auto_rows": null,
            "grid_column": null,
            "grid_gap": null,
            "grid_row": null,
            "grid_template_areas": null,
            "grid_template_columns": null,
            "grid_template_rows": null,
            "height": null,
            "justify_content": null,
            "justify_items": null,
            "left": null,
            "margin": null,
            "max_height": null,
            "max_width": null,
            "min_height": null,
            "min_width": null,
            "object_fit": null,
            "object_position": null,
            "order": null,
            "overflow": null,
            "overflow_x": null,
            "overflow_y": null,
            "padding": null,
            "right": null,
            "top": null,
            "visibility": null,
            "width": null
          }
        },
        "a91e0e04a6d74f129fc126fbbc4c934e": {
          "model_module": "@jupyter-widgets/controls",
          "model_name": "DescriptionStyleModel",
          "model_module_version": "1.5.0",
          "state": {
            "_model_module": "@jupyter-widgets/controls",
            "_model_module_version": "1.5.0",
            "_model_name": "DescriptionStyleModel",
            "_view_count": null,
            "_view_module": "@jupyter-widgets/base",
            "_view_module_version": "1.2.0",
            "_view_name": "StyleView",
            "description_width": ""
          }
        },
        "00685cd43b264cca846c55a7189526ed": {
          "model_module": "@jupyter-widgets/controls",
          "model_name": "HBoxModel",
          "model_module_version": "1.5.0",
          "state": {
            "_dom_classes": [],
            "_model_module": "@jupyter-widgets/controls",
            "_model_module_version": "1.5.0",
            "_model_name": "HBoxModel",
            "_view_count": null,
            "_view_module": "@jupyter-widgets/controls",
            "_view_module_version": "1.5.0",
            "_view_name": "HBoxView",
            "box_style": "",
            "children": [
              "IPY_MODEL_531c6c9061ba4fc9a72f31628026b891",
              "IPY_MODEL_54628da954cf41de8aa2cd951adfb391",
              "IPY_MODEL_ac7c3e8e5db64cb59e54d48f68d7e8f3"
            ],
            "layout": "IPY_MODEL_1645ab344cff49a0b7007562f77aab91"
          }
        },
        "531c6c9061ba4fc9a72f31628026b891": {
          "model_module": "@jupyter-widgets/controls",
          "model_name": "HTMLModel",
          "model_module_version": "1.5.0",
          "state": {
            "_dom_classes": [],
            "_model_module": "@jupyter-widgets/controls",
            "_model_module_version": "1.5.0",
            "_model_name": "HTMLModel",
            "_view_count": null,
            "_view_module": "@jupyter-widgets/controls",
            "_view_module_version": "1.5.0",
            "_view_name": "HTMLView",
            "description": "",
            "description_tooltip": null,
            "layout": "IPY_MODEL_6a9c174f8d4f4e57a611f131cd556a18",
            "placeholder": "​",
            "style": "IPY_MODEL_99a66c091ce8426399764d9ae4157d38",
            "value": "Downloading (…)lve/main/config.json: 100%"
          }
        },
        "54628da954cf41de8aa2cd951adfb391": {
          "model_module": "@jupyter-widgets/controls",
          "model_name": "FloatProgressModel",
          "model_module_version": "1.5.0",
          "state": {
            "_dom_classes": [],
            "_model_module": "@jupyter-widgets/controls",
            "_model_module_version": "1.5.0",
            "_model_name": "FloatProgressModel",
            "_view_count": null,
            "_view_module": "@jupyter-widgets/controls",
            "_view_module_version": "1.5.0",
            "_view_name": "ProgressView",
            "bar_style": "success",
            "description": "",
            "description_tooltip": null,
            "layout": "IPY_MODEL_17798b94aa1440bf895e3a3652a262d2",
            "max": 1429,
            "min": 0,
            "orientation": "horizontal",
            "style": "IPY_MODEL_baab199fb9f34fef9d10ac95c60447d7",
            "value": 1429
          }
        },
        "ac7c3e8e5db64cb59e54d48f68d7e8f3": {
          "model_module": "@jupyter-widgets/controls",
          "model_name": "HTMLModel",
          "model_module_version": "1.5.0",
          "state": {
            "_dom_classes": [],
            "_model_module": "@jupyter-widgets/controls",
            "_model_module_version": "1.5.0",
            "_model_name": "HTMLModel",
            "_view_count": null,
            "_view_module": "@jupyter-widgets/controls",
            "_view_module_version": "1.5.0",
            "_view_name": "HTMLView",
            "description": "",
            "description_tooltip": null,
            "layout": "IPY_MODEL_c63eeebf61574f8088f8553651db7a93",
            "placeholder": "​",
            "style": "IPY_MODEL_25e1a458a07e44d0815309643ae3d857",
            "value": " 1.43k/1.43k [00:00&lt;00:00, 80.4kB/s]"
          }
        },
        "1645ab344cff49a0b7007562f77aab91": {
          "model_module": "@jupyter-widgets/base",
          "model_name": "LayoutModel",
          "model_module_version": "1.2.0",
          "state": {
            "_model_module": "@jupyter-widgets/base",
            "_model_module_version": "1.2.0",
            "_model_name": "LayoutModel",
            "_view_count": null,
            "_view_module": "@jupyter-widgets/base",
            "_view_module_version": "1.2.0",
            "_view_name": "LayoutView",
            "align_content": null,
            "align_items": null,
            "align_self": null,
            "border": null,
            "bottom": null,
            "display": null,
            "flex": null,
            "flex_flow": null,
            "grid_area": null,
            "grid_auto_columns": null,
            "grid_auto_flow": null,
            "grid_auto_rows": null,
            "grid_column": null,
            "grid_gap": null,
            "grid_row": null,
            "grid_template_areas": null,
            "grid_template_columns": null,
            "grid_template_rows": null,
            "height": null,
            "justify_content": null,
            "justify_items": null,
            "left": null,
            "margin": null,
            "max_height": null,
            "max_width": null,
            "min_height": null,
            "min_width": null,
            "object_fit": null,
            "object_position": null,
            "order": null,
            "overflow": null,
            "overflow_x": null,
            "overflow_y": null,
            "padding": null,
            "right": null,
            "top": null,
            "visibility": null,
            "width": null
          }
        },
        "6a9c174f8d4f4e57a611f131cd556a18": {
          "model_module": "@jupyter-widgets/base",
          "model_name": "LayoutModel",
          "model_module_version": "1.2.0",
          "state": {
            "_model_module": "@jupyter-widgets/base",
            "_model_module_version": "1.2.0",
            "_model_name": "LayoutModel",
            "_view_count": null,
            "_view_module": "@jupyter-widgets/base",
            "_view_module_version": "1.2.0",
            "_view_name": "LayoutView",
            "align_content": null,
            "align_items": null,
            "align_self": null,
            "border": null,
            "bottom": null,
            "display": null,
            "flex": null,
            "flex_flow": null,
            "grid_area": null,
            "grid_auto_columns": null,
            "grid_auto_flow": null,
            "grid_auto_rows": null,
            "grid_column": null,
            "grid_gap": null,
            "grid_row": null,
            "grid_template_areas": null,
            "grid_template_columns": null,
            "grid_template_rows": null,
            "height": null,
            "justify_content": null,
            "justify_items": null,
            "left": null,
            "margin": null,
            "max_height": null,
            "max_width": null,
            "min_height": null,
            "min_width": null,
            "object_fit": null,
            "object_position": null,
            "order": null,
            "overflow": null,
            "overflow_x": null,
            "overflow_y": null,
            "padding": null,
            "right": null,
            "top": null,
            "visibility": null,
            "width": null
          }
        },
        "99a66c091ce8426399764d9ae4157d38": {
          "model_module": "@jupyter-widgets/controls",
          "model_name": "DescriptionStyleModel",
          "model_module_version": "1.5.0",
          "state": {
            "_model_module": "@jupyter-widgets/controls",
            "_model_module_version": "1.5.0",
            "_model_name": "DescriptionStyleModel",
            "_view_count": null,
            "_view_module": "@jupyter-widgets/base",
            "_view_module_version": "1.2.0",
            "_view_name": "StyleView",
            "description_width": ""
          }
        },
        "17798b94aa1440bf895e3a3652a262d2": {
          "model_module": "@jupyter-widgets/base",
          "model_name": "LayoutModel",
          "model_module_version": "1.2.0",
          "state": {
            "_model_module": "@jupyter-widgets/base",
            "_model_module_version": "1.2.0",
            "_model_name": "LayoutModel",
            "_view_count": null,
            "_view_module": "@jupyter-widgets/base",
            "_view_module_version": "1.2.0",
            "_view_name": "LayoutView",
            "align_content": null,
            "align_items": null,
            "align_self": null,
            "border": null,
            "bottom": null,
            "display": null,
            "flex": null,
            "flex_flow": null,
            "grid_area": null,
            "grid_auto_columns": null,
            "grid_auto_flow": null,
            "grid_auto_rows": null,
            "grid_column": null,
            "grid_gap": null,
            "grid_row": null,
            "grid_template_areas": null,
            "grid_template_columns": null,
            "grid_template_rows": null,
            "height": null,
            "justify_content": null,
            "justify_items": null,
            "left": null,
            "margin": null,
            "max_height": null,
            "max_width": null,
            "min_height": null,
            "min_width": null,
            "object_fit": null,
            "object_position": null,
            "order": null,
            "overflow": null,
            "overflow_x": null,
            "overflow_y": null,
            "padding": null,
            "right": null,
            "top": null,
            "visibility": null,
            "width": null
          }
        },
        "baab199fb9f34fef9d10ac95c60447d7": {
          "model_module": "@jupyter-widgets/controls",
          "model_name": "ProgressStyleModel",
          "model_module_version": "1.5.0",
          "state": {
            "_model_module": "@jupyter-widgets/controls",
            "_model_module_version": "1.5.0",
            "_model_name": "ProgressStyleModel",
            "_view_count": null,
            "_view_module": "@jupyter-widgets/base",
            "_view_module_version": "1.2.0",
            "_view_name": "StyleView",
            "bar_color": null,
            "description_width": ""
          }
        },
        "c63eeebf61574f8088f8553651db7a93": {
          "model_module": "@jupyter-widgets/base",
          "model_name": "LayoutModel",
          "model_module_version": "1.2.0",
          "state": {
            "_model_module": "@jupyter-widgets/base",
            "_model_module_version": "1.2.0",
            "_model_name": "LayoutModel",
            "_view_count": null,
            "_view_module": "@jupyter-widgets/base",
            "_view_module_version": "1.2.0",
            "_view_name": "LayoutView",
            "align_content": null,
            "align_items": null,
            "align_self": null,
            "border": null,
            "bottom": null,
            "display": null,
            "flex": null,
            "flex_flow": null,
            "grid_area": null,
            "grid_auto_columns": null,
            "grid_auto_flow": null,
            "grid_auto_rows": null,
            "grid_column": null,
            "grid_gap": null,
            "grid_row": null,
            "grid_template_areas": null,
            "grid_template_columns": null,
            "grid_template_rows": null,
            "height": null,
            "justify_content": null,
            "justify_items": null,
            "left": null,
            "margin": null,
            "max_height": null,
            "max_width": null,
            "min_height": null,
            "min_width": null,
            "object_fit": null,
            "object_position": null,
            "order": null,
            "overflow": null,
            "overflow_x": null,
            "overflow_y": null,
            "padding": null,
            "right": null,
            "top": null,
            "visibility": null,
            "width": null
          }
        },
        "25e1a458a07e44d0815309643ae3d857": {
          "model_module": "@jupyter-widgets/controls",
          "model_name": "DescriptionStyleModel",
          "model_module_version": "1.5.0",
          "state": {
            "_model_module": "@jupyter-widgets/controls",
            "_model_module_version": "1.5.0",
            "_model_name": "DescriptionStyleModel",
            "_view_count": null,
            "_view_module": "@jupyter-widgets/base",
            "_view_module_version": "1.2.0",
            "_view_name": "StyleView",
            "description_width": ""
          }
        },
        "c9c13b2b37da435a8382640f6ae1a454": {
          "model_module": "@jupyter-widgets/controls",
          "model_name": "HBoxModel",
          "model_module_version": "1.5.0",
          "state": {
            "_dom_classes": [],
            "_model_module": "@jupyter-widgets/controls",
            "_model_module_version": "1.5.0",
            "_model_name": "HBoxModel",
            "_view_count": null,
            "_view_module": "@jupyter-widgets/controls",
            "_view_module_version": "1.5.0",
            "_view_name": "HBoxView",
            "box_style": "",
            "children": [
              "IPY_MODEL_dc4bc5eedbe8489ca4ea2858d20d0477",
              "IPY_MODEL_1bacc3586ffb4d919afd602c09646505",
              "IPY_MODEL_46f57034a89b479e8db4c44beac548e5"
            ],
            "layout": "IPY_MODEL_44343936c156423b9101b40cab004d0f"
          }
        },
        "dc4bc5eedbe8489ca4ea2858d20d0477": {
          "model_module": "@jupyter-widgets/controls",
          "model_name": "HTMLModel",
          "model_module_version": "1.5.0",
          "state": {
            "_dom_classes": [],
            "_model_module": "@jupyter-widgets/controls",
            "_model_module_version": "1.5.0",
            "_model_name": "HTMLModel",
            "_view_count": null,
            "_view_module": "@jupyter-widgets/controls",
            "_view_module_version": "1.5.0",
            "_view_name": "HTMLView",
            "description": "",
            "description_tooltip": null,
            "layout": "IPY_MODEL_f42ef1d5e5af470eb3adf5098059dab0",
            "placeholder": "​",
            "style": "IPY_MODEL_caf62448170b4976a837018fcae09945",
            "value": "100%"
          }
        },
        "1bacc3586ffb4d919afd602c09646505": {
          "model_module": "@jupyter-widgets/controls",
          "model_name": "FloatProgressModel",
          "model_module_version": "1.5.0",
          "state": {
            "_dom_classes": [],
            "_model_module": "@jupyter-widgets/controls",
            "_model_module_version": "1.5.0",
            "_model_name": "FloatProgressModel",
            "_view_count": null,
            "_view_module": "@jupyter-widgets/controls",
            "_view_module_version": "1.5.0",
            "_view_name": "ProgressView",
            "bar_style": "success",
            "description": "",
            "description_tooltip": null,
            "layout": "IPY_MODEL_d5ff3ec67a3a453ab5c9cfeb98a0d6df",
            "max": 203060,
            "min": 0,
            "orientation": "horizontal",
            "style": "IPY_MODEL_ce24e3c240ae408a977e88b036bdae71",
            "value": 203060
          }
        },
        "46f57034a89b479e8db4c44beac548e5": {
          "model_module": "@jupyter-widgets/controls",
          "model_name": "HTMLModel",
          "model_module_version": "1.5.0",
          "state": {
            "_dom_classes": [],
            "_model_module": "@jupyter-widgets/controls",
            "_model_module_version": "1.5.0",
            "_model_name": "HTMLModel",
            "_view_count": null,
            "_view_module": "@jupyter-widgets/controls",
            "_view_module_version": "1.5.0",
            "_view_name": "HTMLView",
            "description": "",
            "description_tooltip": null,
            "layout": "IPY_MODEL_ebe3413ee99948edb58895e6999c9859",
            "placeholder": "​",
            "style": "IPY_MODEL_3119c5764a5a4444ab62d832784e382a",
            "value": " 203060/203060 [00:58&lt;00:00, 4319.90it/s]"
          }
        },
        "44343936c156423b9101b40cab004d0f": {
          "model_module": "@jupyter-widgets/base",
          "model_name": "LayoutModel",
          "model_module_version": "1.2.0",
          "state": {
            "_model_module": "@jupyter-widgets/base",
            "_model_module_version": "1.2.0",
            "_model_name": "LayoutModel",
            "_view_count": null,
            "_view_module": "@jupyter-widgets/base",
            "_view_module_version": "1.2.0",
            "_view_name": "LayoutView",
            "align_content": null,
            "align_items": null,
            "align_self": null,
            "border": null,
            "bottom": null,
            "display": null,
            "flex": null,
            "flex_flow": null,
            "grid_area": null,
            "grid_auto_columns": null,
            "grid_auto_flow": null,
            "grid_auto_rows": null,
            "grid_column": null,
            "grid_gap": null,
            "grid_row": null,
            "grid_template_areas": null,
            "grid_template_columns": null,
            "grid_template_rows": null,
            "height": null,
            "justify_content": null,
            "justify_items": null,
            "left": null,
            "margin": null,
            "max_height": null,
            "max_width": null,
            "min_height": null,
            "min_width": null,
            "object_fit": null,
            "object_position": null,
            "order": null,
            "overflow": null,
            "overflow_x": null,
            "overflow_y": null,
            "padding": null,
            "right": null,
            "top": null,
            "visibility": null,
            "width": null
          }
        },
        "f42ef1d5e5af470eb3adf5098059dab0": {
          "model_module": "@jupyter-widgets/base",
          "model_name": "LayoutModel",
          "model_module_version": "1.2.0",
          "state": {
            "_model_module": "@jupyter-widgets/base",
            "_model_module_version": "1.2.0",
            "_model_name": "LayoutModel",
            "_view_count": null,
            "_view_module": "@jupyter-widgets/base",
            "_view_module_version": "1.2.0",
            "_view_name": "LayoutView",
            "align_content": null,
            "align_items": null,
            "align_self": null,
            "border": null,
            "bottom": null,
            "display": null,
            "flex": null,
            "flex_flow": null,
            "grid_area": null,
            "grid_auto_columns": null,
            "grid_auto_flow": null,
            "grid_auto_rows": null,
            "grid_column": null,
            "grid_gap": null,
            "grid_row": null,
            "grid_template_areas": null,
            "grid_template_columns": null,
            "grid_template_rows": null,
            "height": null,
            "justify_content": null,
            "justify_items": null,
            "left": null,
            "margin": null,
            "max_height": null,
            "max_width": null,
            "min_height": null,
            "min_width": null,
            "object_fit": null,
            "object_position": null,
            "order": null,
            "overflow": null,
            "overflow_x": null,
            "overflow_y": null,
            "padding": null,
            "right": null,
            "top": null,
            "visibility": null,
            "width": null
          }
        },
        "caf62448170b4976a837018fcae09945": {
          "model_module": "@jupyter-widgets/controls",
          "model_name": "DescriptionStyleModel",
          "model_module_version": "1.5.0",
          "state": {
            "_model_module": "@jupyter-widgets/controls",
            "_model_module_version": "1.5.0",
            "_model_name": "DescriptionStyleModel",
            "_view_count": null,
            "_view_module": "@jupyter-widgets/base",
            "_view_module_version": "1.2.0",
            "_view_name": "StyleView",
            "description_width": ""
          }
        },
        "d5ff3ec67a3a453ab5c9cfeb98a0d6df": {
          "model_module": "@jupyter-widgets/base",
          "model_name": "LayoutModel",
          "model_module_version": "1.2.0",
          "state": {
            "_model_module": "@jupyter-widgets/base",
            "_model_module_version": "1.2.0",
            "_model_name": "LayoutModel",
            "_view_count": null,
            "_view_module": "@jupyter-widgets/base",
            "_view_module_version": "1.2.0",
            "_view_name": "LayoutView",
            "align_content": null,
            "align_items": null,
            "align_self": null,
            "border": null,
            "bottom": null,
            "display": null,
            "flex": null,
            "flex_flow": null,
            "grid_area": null,
            "grid_auto_columns": null,
            "grid_auto_flow": null,
            "grid_auto_rows": null,
            "grid_column": null,
            "grid_gap": null,
            "grid_row": null,
            "grid_template_areas": null,
            "grid_template_columns": null,
            "grid_template_rows": null,
            "height": null,
            "justify_content": null,
            "justify_items": null,
            "left": null,
            "margin": null,
            "max_height": null,
            "max_width": null,
            "min_height": null,
            "min_width": null,
            "object_fit": null,
            "object_position": null,
            "order": null,
            "overflow": null,
            "overflow_x": null,
            "overflow_y": null,
            "padding": null,
            "right": null,
            "top": null,
            "visibility": null,
            "width": null
          }
        },
        "ce24e3c240ae408a977e88b036bdae71": {
          "model_module": "@jupyter-widgets/controls",
          "model_name": "ProgressStyleModel",
          "model_module_version": "1.5.0",
          "state": {
            "_model_module": "@jupyter-widgets/controls",
            "_model_module_version": "1.5.0",
            "_model_name": "ProgressStyleModel",
            "_view_count": null,
            "_view_module": "@jupyter-widgets/base",
            "_view_module_version": "1.2.0",
            "_view_name": "StyleView",
            "bar_color": null,
            "description_width": ""
          }
        },
        "ebe3413ee99948edb58895e6999c9859": {
          "model_module": "@jupyter-widgets/base",
          "model_name": "LayoutModel",
          "model_module_version": "1.2.0",
          "state": {
            "_model_module": "@jupyter-widgets/base",
            "_model_module_version": "1.2.0",
            "_model_name": "LayoutModel",
            "_view_count": null,
            "_view_module": "@jupyter-widgets/base",
            "_view_module_version": "1.2.0",
            "_view_name": "LayoutView",
            "align_content": null,
            "align_items": null,
            "align_self": null,
            "border": null,
            "bottom": null,
            "display": null,
            "flex": null,
            "flex_flow": null,
            "grid_area": null,
            "grid_auto_columns": null,
            "grid_auto_flow": null,
            "grid_auto_rows": null,
            "grid_column": null,
            "grid_gap": null,
            "grid_row": null,
            "grid_template_areas": null,
            "grid_template_columns": null,
            "grid_template_rows": null,
            "height": null,
            "justify_content": null,
            "justify_items": null,
            "left": null,
            "margin": null,
            "max_height": null,
            "max_width": null,
            "min_height": null,
            "min_width": null,
            "object_fit": null,
            "object_position": null,
            "order": null,
            "overflow": null,
            "overflow_x": null,
            "overflow_y": null,
            "padding": null,
            "right": null,
            "top": null,
            "visibility": null,
            "width": null
          }
        },
        "3119c5764a5a4444ab62d832784e382a": {
          "model_module": "@jupyter-widgets/controls",
          "model_name": "DescriptionStyleModel",
          "model_module_version": "1.5.0",
          "state": {
            "_model_module": "@jupyter-widgets/controls",
            "_model_module_version": "1.5.0",
            "_model_name": "DescriptionStyleModel",
            "_view_count": null,
            "_view_module": "@jupyter-widgets/base",
            "_view_module_version": "1.2.0",
            "_view_name": "StyleView",
            "description_width": ""
          }
        },
        "2defa39cd21a49039c0ac641b137cf3f": {
          "model_module": "@jupyter-widgets/controls",
          "model_name": "HBoxModel",
          "model_module_version": "1.5.0",
          "state": {
            "_dom_classes": [],
            "_model_module": "@jupyter-widgets/controls",
            "_model_module_version": "1.5.0",
            "_model_name": "HBoxModel",
            "_view_count": null,
            "_view_module": "@jupyter-widgets/controls",
            "_view_module_version": "1.5.0",
            "_view_name": "HBoxView",
            "box_style": "",
            "children": [
              "IPY_MODEL_41d1bc0753df45a8ade04af26147bcd0",
              "IPY_MODEL_f8ee19f525ad4a9799a0d5adf036535d",
              "IPY_MODEL_7ef8d484094349329187356e343250fc"
            ],
            "layout": "IPY_MODEL_ccd76224d44e4764a7ec5edb2abfdc32"
          }
        },
        "41d1bc0753df45a8ade04af26147bcd0": {
          "model_module": "@jupyter-widgets/controls",
          "model_name": "HTMLModel",
          "model_module_version": "1.5.0",
          "state": {
            "_dom_classes": [],
            "_model_module": "@jupyter-widgets/controls",
            "_model_module_version": "1.5.0",
            "_model_name": "HTMLModel",
            "_view_count": null,
            "_view_module": "@jupyter-widgets/controls",
            "_view_module_version": "1.5.0",
            "_view_name": "HTMLView",
            "description": "",
            "description_tooltip": null,
            "layout": "IPY_MODEL_2d39880c2cff46ab8f5f754d2a2cd398",
            "placeholder": "​",
            "style": "IPY_MODEL_ac82afdf9fb54497b9fd0d2d31b475e5",
            "value": "100%"
          }
        },
        "f8ee19f525ad4a9799a0d5adf036535d": {
          "model_module": "@jupyter-widgets/controls",
          "model_name": "FloatProgressModel",
          "model_module_version": "1.5.0",
          "state": {
            "_dom_classes": [],
            "_model_module": "@jupyter-widgets/controls",
            "_model_module_version": "1.5.0",
            "_model_name": "FloatProgressModel",
            "_view_count": null,
            "_view_module": "@jupyter-widgets/controls",
            "_view_module_version": "1.5.0",
            "_view_name": "ProgressView",
            "bar_style": "success",
            "description": "",
            "description_tooltip": null,
            "layout": "IPY_MODEL_5a4c62bd007d4ed7aa0f3a4137616724",
            "max": 465440,
            "min": 0,
            "orientation": "horizontal",
            "style": "IPY_MODEL_5cbe63360ae74c8da44e8f58854cd5d4",
            "value": 465440
          }
        },
        "7ef8d484094349329187356e343250fc": {
          "model_module": "@jupyter-widgets/controls",
          "model_name": "HTMLModel",
          "model_module_version": "1.5.0",
          "state": {
            "_dom_classes": [],
            "_model_module": "@jupyter-widgets/controls",
            "_model_module_version": "1.5.0",
            "_model_name": "HTMLModel",
            "_view_count": null,
            "_view_module": "@jupyter-widgets/controls",
            "_view_module_version": "1.5.0",
            "_view_name": "HTMLView",
            "description": "",
            "description_tooltip": null,
            "layout": "IPY_MODEL_2ae3048752e64e048f2355cc1c039c87",
            "placeholder": "​",
            "style": "IPY_MODEL_5488b94474304fd6ad0ec92eed49ef69",
            "value": " 465440/465440 [00:03&lt;00:00, 145938.36it/s]"
          }
        },
        "ccd76224d44e4764a7ec5edb2abfdc32": {
          "model_module": "@jupyter-widgets/base",
          "model_name": "LayoutModel",
          "model_module_version": "1.2.0",
          "state": {
            "_model_module": "@jupyter-widgets/base",
            "_model_module_version": "1.2.0",
            "_model_name": "LayoutModel",
            "_view_count": null,
            "_view_module": "@jupyter-widgets/base",
            "_view_module_version": "1.2.0",
            "_view_name": "LayoutView",
            "align_content": null,
            "align_items": null,
            "align_self": null,
            "border": null,
            "bottom": null,
            "display": null,
            "flex": null,
            "flex_flow": null,
            "grid_area": null,
            "grid_auto_columns": null,
            "grid_auto_flow": null,
            "grid_auto_rows": null,
            "grid_column": null,
            "grid_gap": null,
            "grid_row": null,
            "grid_template_areas": null,
            "grid_template_columns": null,
            "grid_template_rows": null,
            "height": null,
            "justify_content": null,
            "justify_items": null,
            "left": null,
            "margin": null,
            "max_height": null,
            "max_width": null,
            "min_height": null,
            "min_width": null,
            "object_fit": null,
            "object_position": null,
            "order": null,
            "overflow": null,
            "overflow_x": null,
            "overflow_y": null,
            "padding": null,
            "right": null,
            "top": null,
            "visibility": null,
            "width": null
          }
        },
        "2d39880c2cff46ab8f5f754d2a2cd398": {
          "model_module": "@jupyter-widgets/base",
          "model_name": "LayoutModel",
          "model_module_version": "1.2.0",
          "state": {
            "_model_module": "@jupyter-widgets/base",
            "_model_module_version": "1.2.0",
            "_model_name": "LayoutModel",
            "_view_count": null,
            "_view_module": "@jupyter-widgets/base",
            "_view_module_version": "1.2.0",
            "_view_name": "LayoutView",
            "align_content": null,
            "align_items": null,
            "align_self": null,
            "border": null,
            "bottom": null,
            "display": null,
            "flex": null,
            "flex_flow": null,
            "grid_area": null,
            "grid_auto_columns": null,
            "grid_auto_flow": null,
            "grid_auto_rows": null,
            "grid_column": null,
            "grid_gap": null,
            "grid_row": null,
            "grid_template_areas": null,
            "grid_template_columns": null,
            "grid_template_rows": null,
            "height": null,
            "justify_content": null,
            "justify_items": null,
            "left": null,
            "margin": null,
            "max_height": null,
            "max_width": null,
            "min_height": null,
            "min_width": null,
            "object_fit": null,
            "object_position": null,
            "order": null,
            "overflow": null,
            "overflow_x": null,
            "overflow_y": null,
            "padding": null,
            "right": null,
            "top": null,
            "visibility": null,
            "width": null
          }
        },
        "ac82afdf9fb54497b9fd0d2d31b475e5": {
          "model_module": "@jupyter-widgets/controls",
          "model_name": "DescriptionStyleModel",
          "model_module_version": "1.5.0",
          "state": {
            "_model_module": "@jupyter-widgets/controls",
            "_model_module_version": "1.5.0",
            "_model_name": "DescriptionStyleModel",
            "_view_count": null,
            "_view_module": "@jupyter-widgets/base",
            "_view_module_version": "1.2.0",
            "_view_name": "StyleView",
            "description_width": ""
          }
        },
        "5a4c62bd007d4ed7aa0f3a4137616724": {
          "model_module": "@jupyter-widgets/base",
          "model_name": "LayoutModel",
          "model_module_version": "1.2.0",
          "state": {
            "_model_module": "@jupyter-widgets/base",
            "_model_module_version": "1.2.0",
            "_model_name": "LayoutModel",
            "_view_count": null,
            "_view_module": "@jupyter-widgets/base",
            "_view_module_version": "1.2.0",
            "_view_name": "LayoutView",
            "align_content": null,
            "align_items": null,
            "align_self": null,
            "border": null,
            "bottom": null,
            "display": null,
            "flex": null,
            "flex_flow": null,
            "grid_area": null,
            "grid_auto_columns": null,
            "grid_auto_flow": null,
            "grid_auto_rows": null,
            "grid_column": null,
            "grid_gap": null,
            "grid_row": null,
            "grid_template_areas": null,
            "grid_template_columns": null,
            "grid_template_rows": null,
            "height": null,
            "justify_content": null,
            "justify_items": null,
            "left": null,
            "margin": null,
            "max_height": null,
            "max_width": null,
            "min_height": null,
            "min_width": null,
            "object_fit": null,
            "object_position": null,
            "order": null,
            "overflow": null,
            "overflow_x": null,
            "overflow_y": null,
            "padding": null,
            "right": null,
            "top": null,
            "visibility": null,
            "width": null
          }
        },
        "5cbe63360ae74c8da44e8f58854cd5d4": {
          "model_module": "@jupyter-widgets/controls",
          "model_name": "ProgressStyleModel",
          "model_module_version": "1.5.0",
          "state": {
            "_model_module": "@jupyter-widgets/controls",
            "_model_module_version": "1.5.0",
            "_model_name": "ProgressStyleModel",
            "_view_count": null,
            "_view_module": "@jupyter-widgets/base",
            "_view_module_version": "1.2.0",
            "_view_name": "StyleView",
            "bar_color": null,
            "description_width": ""
          }
        },
        "2ae3048752e64e048f2355cc1c039c87": {
          "model_module": "@jupyter-widgets/base",
          "model_name": "LayoutModel",
          "model_module_version": "1.2.0",
          "state": {
            "_model_module": "@jupyter-widgets/base",
            "_model_module_version": "1.2.0",
            "_model_name": "LayoutModel",
            "_view_count": null,
            "_view_module": "@jupyter-widgets/base",
            "_view_module_version": "1.2.0",
            "_view_name": "LayoutView",
            "align_content": null,
            "align_items": null,
            "align_self": null,
            "border": null,
            "bottom": null,
            "display": null,
            "flex": null,
            "flex_flow": null,
            "grid_area": null,
            "grid_auto_columns": null,
            "grid_auto_flow": null,
            "grid_auto_rows": null,
            "grid_column": null,
            "grid_gap": null,
            "grid_row": null,
            "grid_template_areas": null,
            "grid_template_columns": null,
            "grid_template_rows": null,
            "height": null,
            "justify_content": null,
            "justify_items": null,
            "left": null,
            "margin": null,
            "max_height": null,
            "max_width": null,
            "min_height": null,
            "min_width": null,
            "object_fit": null,
            "object_position": null,
            "order": null,
            "overflow": null,
            "overflow_x": null,
            "overflow_y": null,
            "padding": null,
            "right": null,
            "top": null,
            "visibility": null,
            "width": null
          }
        },
        "5488b94474304fd6ad0ec92eed49ef69": {
          "model_module": "@jupyter-widgets/controls",
          "model_name": "DescriptionStyleModel",
          "model_module_version": "1.5.0",
          "state": {
            "_model_module": "@jupyter-widgets/controls",
            "_model_module_version": "1.5.0",
            "_model_name": "DescriptionStyleModel",
            "_view_count": null,
            "_view_module": "@jupyter-widgets/base",
            "_view_module_version": "1.2.0",
            "_view_name": "StyleView",
            "description_width": ""
          }
        },
        "ce36edebf68b4519837299a34e09538a": {
          "model_module": "@jupyter-widgets/controls",
          "model_name": "HBoxModel",
          "model_module_version": "1.5.0",
          "state": {
            "_dom_classes": [],
            "_model_module": "@jupyter-widgets/controls",
            "_model_module_version": "1.5.0",
            "_model_name": "HBoxModel",
            "_view_count": null,
            "_view_module": "@jupyter-widgets/controls",
            "_view_module_version": "1.5.0",
            "_view_name": "HBoxView",
            "box_style": "",
            "children": [
              "IPY_MODEL_58ff04c820524c23a30201d8e0335cb1",
              "IPY_MODEL_5331170ae6914782b630c30c63fa38e2",
              "IPY_MODEL_b31dfe7fd8f440cdbbae6e43d65f4888"
            ],
            "layout": "IPY_MODEL_3521ca91387b4c298ed86db01ccac445"
          }
        },
        "58ff04c820524c23a30201d8e0335cb1": {
          "model_module": "@jupyter-widgets/controls",
          "model_name": "HTMLModel",
          "model_module_version": "1.5.0",
          "state": {
            "_dom_classes": [],
            "_model_module": "@jupyter-widgets/controls",
            "_model_module_version": "1.5.0",
            "_model_name": "HTMLModel",
            "_view_count": null,
            "_view_module": "@jupyter-widgets/controls",
            "_view_module_version": "1.5.0",
            "_view_name": "HTMLView",
            "description": "",
            "description_tooltip": null,
            "layout": "IPY_MODEL_02e0c52e4fd44cb8b1f6ed948623aa1c",
            "placeholder": "​",
            "style": "IPY_MODEL_e60a66e1673049509df8e701f0de95a5",
            "value": " 22%"
          }
        },
        "5331170ae6914782b630c30c63fa38e2": {
          "model_module": "@jupyter-widgets/controls",
          "model_name": "FloatProgressModel",
          "model_module_version": "1.5.0",
          "state": {
            "_dom_classes": [],
            "_model_module": "@jupyter-widgets/controls",
            "_model_module_version": "1.5.0",
            "_model_name": "FloatProgressModel",
            "_view_count": null,
            "_view_module": "@jupyter-widgets/controls",
            "_view_module_version": "1.5.0",
            "_view_name": "ProgressView",
            "bar_style": "danger",
            "description": "",
            "description_tooltip": null,
            "layout": "IPY_MODEL_e25d5360c0724da39fca16aac5f0c66b",
            "max": 100000,
            "min": 0,
            "orientation": "horizontal",
            "style": "IPY_MODEL_5a7fa8d6dc054beb88a7bb1c667b2716",
            "value": 21813
          }
        },
        "b31dfe7fd8f440cdbbae6e43d65f4888": {
          "model_module": "@jupyter-widgets/controls",
          "model_name": "HTMLModel",
          "model_module_version": "1.5.0",
          "state": {
            "_dom_classes": [],
            "_model_module": "@jupyter-widgets/controls",
            "_model_module_version": "1.5.0",
            "_model_name": "HTMLModel",
            "_view_count": null,
            "_view_module": "@jupyter-widgets/controls",
            "_view_module_version": "1.5.0",
            "_view_name": "HTMLView",
            "description": "",
            "description_tooltip": null,
            "layout": "IPY_MODEL_a80732447109430ca16bdbf53f8eeab7",
            "placeholder": "​",
            "style": "IPY_MODEL_74ea0177dbe2490e882963824edd1db4",
            "value": " 21813/100000 [00:34&lt;00:34, 2298.95it/s]"
          }
        },
        "3521ca91387b4c298ed86db01ccac445": {
          "model_module": "@jupyter-widgets/base",
          "model_name": "LayoutModel",
          "model_module_version": "1.2.0",
          "state": {
            "_model_module": "@jupyter-widgets/base",
            "_model_module_version": "1.2.0",
            "_model_name": "LayoutModel",
            "_view_count": null,
            "_view_module": "@jupyter-widgets/base",
            "_view_module_version": "1.2.0",
            "_view_name": "LayoutView",
            "align_content": null,
            "align_items": null,
            "align_self": null,
            "border": null,
            "bottom": null,
            "display": null,
            "flex": null,
            "flex_flow": null,
            "grid_area": null,
            "grid_auto_columns": null,
            "grid_auto_flow": null,
            "grid_auto_rows": null,
            "grid_column": null,
            "grid_gap": null,
            "grid_row": null,
            "grid_template_areas": null,
            "grid_template_columns": null,
            "grid_template_rows": null,
            "height": null,
            "justify_content": null,
            "justify_items": null,
            "left": null,
            "margin": null,
            "max_height": null,
            "max_width": null,
            "min_height": null,
            "min_width": null,
            "object_fit": null,
            "object_position": null,
            "order": null,
            "overflow": null,
            "overflow_x": null,
            "overflow_y": null,
            "padding": null,
            "right": null,
            "top": null,
            "visibility": null,
            "width": null
          }
        },
        "02e0c52e4fd44cb8b1f6ed948623aa1c": {
          "model_module": "@jupyter-widgets/base",
          "model_name": "LayoutModel",
          "model_module_version": "1.2.0",
          "state": {
            "_model_module": "@jupyter-widgets/base",
            "_model_module_version": "1.2.0",
            "_model_name": "LayoutModel",
            "_view_count": null,
            "_view_module": "@jupyter-widgets/base",
            "_view_module_version": "1.2.0",
            "_view_name": "LayoutView",
            "align_content": null,
            "align_items": null,
            "align_self": null,
            "border": null,
            "bottom": null,
            "display": null,
            "flex": null,
            "flex_flow": null,
            "grid_area": null,
            "grid_auto_columns": null,
            "grid_auto_flow": null,
            "grid_auto_rows": null,
            "grid_column": null,
            "grid_gap": null,
            "grid_row": null,
            "grid_template_areas": null,
            "grid_template_columns": null,
            "grid_template_rows": null,
            "height": null,
            "justify_content": null,
            "justify_items": null,
            "left": null,
            "margin": null,
            "max_height": null,
            "max_width": null,
            "min_height": null,
            "min_width": null,
            "object_fit": null,
            "object_position": null,
            "order": null,
            "overflow": null,
            "overflow_x": null,
            "overflow_y": null,
            "padding": null,
            "right": null,
            "top": null,
            "visibility": null,
            "width": null
          }
        },
        "e60a66e1673049509df8e701f0de95a5": {
          "model_module": "@jupyter-widgets/controls",
          "model_name": "DescriptionStyleModel",
          "model_module_version": "1.5.0",
          "state": {
            "_model_module": "@jupyter-widgets/controls",
            "_model_module_version": "1.5.0",
            "_model_name": "DescriptionStyleModel",
            "_view_count": null,
            "_view_module": "@jupyter-widgets/base",
            "_view_module_version": "1.2.0",
            "_view_name": "StyleView",
            "description_width": ""
          }
        },
        "e25d5360c0724da39fca16aac5f0c66b": {
          "model_module": "@jupyter-widgets/base",
          "model_name": "LayoutModel",
          "model_module_version": "1.2.0",
          "state": {
            "_model_module": "@jupyter-widgets/base",
            "_model_module_version": "1.2.0",
            "_model_name": "LayoutModel",
            "_view_count": null,
            "_view_module": "@jupyter-widgets/base",
            "_view_module_version": "1.2.0",
            "_view_name": "LayoutView",
            "align_content": null,
            "align_items": null,
            "align_self": null,
            "border": null,
            "bottom": null,
            "display": null,
            "flex": null,
            "flex_flow": null,
            "grid_area": null,
            "grid_auto_columns": null,
            "grid_auto_flow": null,
            "grid_auto_rows": null,
            "grid_column": null,
            "grid_gap": null,
            "grid_row": null,
            "grid_template_areas": null,
            "grid_template_columns": null,
            "grid_template_rows": null,
            "height": null,
            "justify_content": null,
            "justify_items": null,
            "left": null,
            "margin": null,
            "max_height": null,
            "max_width": null,
            "min_height": null,
            "min_width": null,
            "object_fit": null,
            "object_position": null,
            "order": null,
            "overflow": null,
            "overflow_x": null,
            "overflow_y": null,
            "padding": null,
            "right": null,
            "top": null,
            "visibility": null,
            "width": null
          }
        },
        "5a7fa8d6dc054beb88a7bb1c667b2716": {
          "model_module": "@jupyter-widgets/controls",
          "model_name": "ProgressStyleModel",
          "model_module_version": "1.5.0",
          "state": {
            "_model_module": "@jupyter-widgets/controls",
            "_model_module_version": "1.5.0",
            "_model_name": "ProgressStyleModel",
            "_view_count": null,
            "_view_module": "@jupyter-widgets/base",
            "_view_module_version": "1.2.0",
            "_view_name": "StyleView",
            "bar_color": null,
            "description_width": ""
          }
        },
        "a80732447109430ca16bdbf53f8eeab7": {
          "model_module": "@jupyter-widgets/base",
          "model_name": "LayoutModel",
          "model_module_version": "1.2.0",
          "state": {
            "_model_module": "@jupyter-widgets/base",
            "_model_module_version": "1.2.0",
            "_model_name": "LayoutModel",
            "_view_count": null,
            "_view_module": "@jupyter-widgets/base",
            "_view_module_version": "1.2.0",
            "_view_name": "LayoutView",
            "align_content": null,
            "align_items": null,
            "align_self": null,
            "border": null,
            "bottom": null,
            "display": null,
            "flex": null,
            "flex_flow": null,
            "grid_area": null,
            "grid_auto_columns": null,
            "grid_auto_flow": null,
            "grid_auto_rows": null,
            "grid_column": null,
            "grid_gap": null,
            "grid_row": null,
            "grid_template_areas": null,
            "grid_template_columns": null,
            "grid_template_rows": null,
            "height": null,
            "justify_content": null,
            "justify_items": null,
            "left": null,
            "margin": null,
            "max_height": null,
            "max_width": null,
            "min_height": null,
            "min_width": null,
            "object_fit": null,
            "object_position": null,
            "order": null,
            "overflow": null,
            "overflow_x": null,
            "overflow_y": null,
            "padding": null,
            "right": null,
            "top": null,
            "visibility": null,
            "width": null
          }
        },
        "74ea0177dbe2490e882963824edd1db4": {
          "model_module": "@jupyter-widgets/controls",
          "model_name": "DescriptionStyleModel",
          "model_module_version": "1.5.0",
          "state": {
            "_model_module": "@jupyter-widgets/controls",
            "_model_module_version": "1.5.0",
            "_model_name": "DescriptionStyleModel",
            "_view_count": null,
            "_view_module": "@jupyter-widgets/base",
            "_view_module_version": "1.2.0",
            "_view_name": "StyleView",
            "description_width": ""
          }
        },
        "3b2eb6d12e404122afb6a62f1af2817d": {
          "model_module": "@jupyter-widgets/controls",
          "model_name": "HBoxModel",
          "model_module_version": "1.5.0",
          "state": {
            "_dom_classes": [],
            "_model_module": "@jupyter-widgets/controls",
            "_model_module_version": "1.5.0",
            "_model_name": "HBoxModel",
            "_view_count": null,
            "_view_module": "@jupyter-widgets/controls",
            "_view_module_version": "1.5.0",
            "_view_name": "HBoxView",
            "box_style": "",
            "children": [
              "IPY_MODEL_ded7f8e7ea5d4acf9c0a70a9259aaabe",
              "IPY_MODEL_b7a90b70876f4c81bb30c06cb323675e",
              "IPY_MODEL_14f8aee20a99444f9e215ab147ddd87b"
            ],
            "layout": "IPY_MODEL_c65f08c8429f49aa94716b1fce7770d9"
          }
        },
        "ded7f8e7ea5d4acf9c0a70a9259aaabe": {
          "model_module": "@jupyter-widgets/controls",
          "model_name": "HTMLModel",
          "model_module_version": "1.5.0",
          "state": {
            "_dom_classes": [],
            "_model_module": "@jupyter-widgets/controls",
            "_model_module_version": "1.5.0",
            "_model_name": "HTMLModel",
            "_view_count": null,
            "_view_module": "@jupyter-widgets/controls",
            "_view_module_version": "1.5.0",
            "_view_name": "HTMLView",
            "description": "",
            "description_tooltip": null,
            "layout": "IPY_MODEL_6ac2af500f9748c49ce0d235788df7ce",
            "placeholder": "​",
            "style": "IPY_MODEL_e5c81f6b1dbd4f2d9d8e731bc1730eaf",
            "value": "100%"
          }
        },
        "b7a90b70876f4c81bb30c06cb323675e": {
          "model_module": "@jupyter-widgets/controls",
          "model_name": "FloatProgressModel",
          "model_module_version": "1.5.0",
          "state": {
            "_dom_classes": [],
            "_model_module": "@jupyter-widgets/controls",
            "_model_module_version": "1.5.0",
            "_model_name": "FloatProgressModel",
            "_view_count": null,
            "_view_module": "@jupyter-widgets/controls",
            "_view_module_version": "1.5.0",
            "_view_name": "ProgressView",
            "bar_style": "success",
            "description": "",
            "description_tooltip": null,
            "layout": "IPY_MODEL_0b318be2f32045f997beab9377816f7f",
            "max": 36437,
            "min": 0,
            "orientation": "horizontal",
            "style": "IPY_MODEL_df97253a2aa540e587dd67681d44e20b",
            "value": 36437
          }
        },
        "14f8aee20a99444f9e215ab147ddd87b": {
          "model_module": "@jupyter-widgets/controls",
          "model_name": "HTMLModel",
          "model_module_version": "1.5.0",
          "state": {
            "_dom_classes": [],
            "_model_module": "@jupyter-widgets/controls",
            "_model_module_version": "1.5.0",
            "_model_name": "HTMLModel",
            "_view_count": null,
            "_view_module": "@jupyter-widgets/controls",
            "_view_module_version": "1.5.0",
            "_view_name": "HTMLView",
            "description": "",
            "description_tooltip": null,
            "layout": "IPY_MODEL_0f7f26e0ed0f489fa25b2349086fe1da",
            "placeholder": "​",
            "style": "IPY_MODEL_5108d6e5960d472a9be0d697d294afb7",
            "value": " 36437/36437 [00:11&lt;00:00, 10272.00it/s]"
          }
        },
        "c65f08c8429f49aa94716b1fce7770d9": {
          "model_module": "@jupyter-widgets/base",
          "model_name": "LayoutModel",
          "model_module_version": "1.2.0",
          "state": {
            "_model_module": "@jupyter-widgets/base",
            "_model_module_version": "1.2.0",
            "_model_name": "LayoutModel",
            "_view_count": null,
            "_view_module": "@jupyter-widgets/base",
            "_view_module_version": "1.2.0",
            "_view_name": "LayoutView",
            "align_content": null,
            "align_items": null,
            "align_self": null,
            "border": null,
            "bottom": null,
            "display": null,
            "flex": null,
            "flex_flow": null,
            "grid_area": null,
            "grid_auto_columns": null,
            "grid_auto_flow": null,
            "grid_auto_rows": null,
            "grid_column": null,
            "grid_gap": null,
            "grid_row": null,
            "grid_template_areas": null,
            "grid_template_columns": null,
            "grid_template_rows": null,
            "height": null,
            "justify_content": null,
            "justify_items": null,
            "left": null,
            "margin": null,
            "max_height": null,
            "max_width": null,
            "min_height": null,
            "min_width": null,
            "object_fit": null,
            "object_position": null,
            "order": null,
            "overflow": null,
            "overflow_x": null,
            "overflow_y": null,
            "padding": null,
            "right": null,
            "top": null,
            "visibility": null,
            "width": null
          }
        },
        "6ac2af500f9748c49ce0d235788df7ce": {
          "model_module": "@jupyter-widgets/base",
          "model_name": "LayoutModel",
          "model_module_version": "1.2.0",
          "state": {
            "_model_module": "@jupyter-widgets/base",
            "_model_module_version": "1.2.0",
            "_model_name": "LayoutModel",
            "_view_count": null,
            "_view_module": "@jupyter-widgets/base",
            "_view_module_version": "1.2.0",
            "_view_name": "LayoutView",
            "align_content": null,
            "align_items": null,
            "align_self": null,
            "border": null,
            "bottom": null,
            "display": null,
            "flex": null,
            "flex_flow": null,
            "grid_area": null,
            "grid_auto_columns": null,
            "grid_auto_flow": null,
            "grid_auto_rows": null,
            "grid_column": null,
            "grid_gap": null,
            "grid_row": null,
            "grid_template_areas": null,
            "grid_template_columns": null,
            "grid_template_rows": null,
            "height": null,
            "justify_content": null,
            "justify_items": null,
            "left": null,
            "margin": null,
            "max_height": null,
            "max_width": null,
            "min_height": null,
            "min_width": null,
            "object_fit": null,
            "object_position": null,
            "order": null,
            "overflow": null,
            "overflow_x": null,
            "overflow_y": null,
            "padding": null,
            "right": null,
            "top": null,
            "visibility": null,
            "width": null
          }
        },
        "e5c81f6b1dbd4f2d9d8e731bc1730eaf": {
          "model_module": "@jupyter-widgets/controls",
          "model_name": "DescriptionStyleModel",
          "model_module_version": "1.5.0",
          "state": {
            "_model_module": "@jupyter-widgets/controls",
            "_model_module_version": "1.5.0",
            "_model_name": "DescriptionStyleModel",
            "_view_count": null,
            "_view_module": "@jupyter-widgets/base",
            "_view_module_version": "1.2.0",
            "_view_name": "StyleView",
            "description_width": ""
          }
        },
        "0b318be2f32045f997beab9377816f7f": {
          "model_module": "@jupyter-widgets/base",
          "model_name": "LayoutModel",
          "model_module_version": "1.2.0",
          "state": {
            "_model_module": "@jupyter-widgets/base",
            "_model_module_version": "1.2.0",
            "_model_name": "LayoutModel",
            "_view_count": null,
            "_view_module": "@jupyter-widgets/base",
            "_view_module_version": "1.2.0",
            "_view_name": "LayoutView",
            "align_content": null,
            "align_items": null,
            "align_self": null,
            "border": null,
            "bottom": null,
            "display": null,
            "flex": null,
            "flex_flow": null,
            "grid_area": null,
            "grid_auto_columns": null,
            "grid_auto_flow": null,
            "grid_auto_rows": null,
            "grid_column": null,
            "grid_gap": null,
            "grid_row": null,
            "grid_template_areas": null,
            "grid_template_columns": null,
            "grid_template_rows": null,
            "height": null,
            "justify_content": null,
            "justify_items": null,
            "left": null,
            "margin": null,
            "max_height": null,
            "max_width": null,
            "min_height": null,
            "min_width": null,
            "object_fit": null,
            "object_position": null,
            "order": null,
            "overflow": null,
            "overflow_x": null,
            "overflow_y": null,
            "padding": null,
            "right": null,
            "top": null,
            "visibility": null,
            "width": null
          }
        },
        "df97253a2aa540e587dd67681d44e20b": {
          "model_module": "@jupyter-widgets/controls",
          "model_name": "ProgressStyleModel",
          "model_module_version": "1.5.0",
          "state": {
            "_model_module": "@jupyter-widgets/controls",
            "_model_module_version": "1.5.0",
            "_model_name": "ProgressStyleModel",
            "_view_count": null,
            "_view_module": "@jupyter-widgets/base",
            "_view_module_version": "1.2.0",
            "_view_name": "StyleView",
            "bar_color": null,
            "description_width": ""
          }
        },
        "0f7f26e0ed0f489fa25b2349086fe1da": {
          "model_module": "@jupyter-widgets/base",
          "model_name": "LayoutModel",
          "model_module_version": "1.2.0",
          "state": {
            "_model_module": "@jupyter-widgets/base",
            "_model_module_version": "1.2.0",
            "_model_name": "LayoutModel",
            "_view_count": null,
            "_view_module": "@jupyter-widgets/base",
            "_view_module_version": "1.2.0",
            "_view_name": "LayoutView",
            "align_content": null,
            "align_items": null,
            "align_self": null,
            "border": null,
            "bottom": null,
            "display": null,
            "flex": null,
            "flex_flow": null,
            "grid_area": null,
            "grid_auto_columns": null,
            "grid_auto_flow": null,
            "grid_auto_rows": null,
            "grid_column": null,
            "grid_gap": null,
            "grid_row": null,
            "grid_template_areas": null,
            "grid_template_columns": null,
            "grid_template_rows": null,
            "height": null,
            "justify_content": null,
            "justify_items": null,
            "left": null,
            "margin": null,
            "max_height": null,
            "max_width": null,
            "min_height": null,
            "min_width": null,
            "object_fit": null,
            "object_position": null,
            "order": null,
            "overflow": null,
            "overflow_x": null,
            "overflow_y": null,
            "padding": null,
            "right": null,
            "top": null,
            "visibility": null,
            "width": null
          }
        },
        "5108d6e5960d472a9be0d697d294afb7": {
          "model_module": "@jupyter-widgets/controls",
          "model_name": "DescriptionStyleModel",
          "model_module_version": "1.5.0",
          "state": {
            "_model_module": "@jupyter-widgets/controls",
            "_model_module_version": "1.5.0",
            "_model_name": "DescriptionStyleModel",
            "_view_count": null,
            "_view_module": "@jupyter-widgets/base",
            "_view_module_version": "1.2.0",
            "_view_name": "StyleView",
            "description_width": ""
          }
        },
        "e78616f27e6742e38a19b0089126270d": {
          "model_module": "@jupyter-widgets/controls",
          "model_name": "HBoxModel",
          "model_module_version": "1.5.0",
          "state": {
            "_dom_classes": [],
            "_model_module": "@jupyter-widgets/controls",
            "_model_module_version": "1.5.0",
            "_model_name": "HBoxModel",
            "_view_count": null,
            "_view_module": "@jupyter-widgets/controls",
            "_view_module_version": "1.5.0",
            "_view_name": "HBoxView",
            "box_style": "",
            "children": [
              "IPY_MODEL_f8f7b641d6954b1a832b1ad8fb25b2df",
              "IPY_MODEL_4f9d4e38930f41e0b8d21a0da2a0f8b3",
              "IPY_MODEL_60ba1f0626a340d6b1a959030a466b8d"
            ],
            "layout": "IPY_MODEL_2c631a91a3c347cca5d7bcf366a0cb10"
          }
        },
        "f8f7b641d6954b1a832b1ad8fb25b2df": {
          "model_module": "@jupyter-widgets/controls",
          "model_name": "HTMLModel",
          "model_module_version": "1.5.0",
          "state": {
            "_dom_classes": [],
            "_model_module": "@jupyter-widgets/controls",
            "_model_module_version": "1.5.0",
            "_model_name": "HTMLModel",
            "_view_count": null,
            "_view_module": "@jupyter-widgets/controls",
            "_view_module_version": "1.5.0",
            "_view_name": "HTMLView",
            "description": "",
            "description_tooltip": null,
            "layout": "IPY_MODEL_08a19d668f004a31a24f376e68e0a5c3",
            "placeholder": "​",
            "style": "IPY_MODEL_2530b14d41244c8b913823acd24a388e",
            "value": "Downloading pytorch_model.bin: 100%"
          }
        },
        "4f9d4e38930f41e0b8d21a0da2a0f8b3": {
          "model_module": "@jupyter-widgets/controls",
          "model_name": "FloatProgressModel",
          "model_module_version": "1.5.0",
          "state": {
            "_dom_classes": [],
            "_model_module": "@jupyter-widgets/controls",
            "_model_module_version": "1.5.0",
            "_model_name": "FloatProgressModel",
            "_view_count": null,
            "_view_module": "@jupyter-widgets/controls",
            "_view_module_version": "1.5.0",
            "_view_name": "ProgressView",
            "bar_style": "success",
            "description": "",
            "description_tooltip": null,
            "layout": "IPY_MODEL_5ca5bfe8ec8a49aaac518bf59098fe6a",
            "max": 2444714899,
            "min": 0,
            "orientation": "horizontal",
            "style": "IPY_MODEL_f117efcdc7bd4bbb8a4a78844d3946b7",
            "value": 2444714899
          }
        },
        "60ba1f0626a340d6b1a959030a466b8d": {
          "model_module": "@jupyter-widgets/controls",
          "model_name": "HTMLModel",
          "model_module_version": "1.5.0",
          "state": {
            "_dom_classes": [],
            "_model_module": "@jupyter-widgets/controls",
            "_model_module_version": "1.5.0",
            "_model_name": "HTMLModel",
            "_view_count": null,
            "_view_module": "@jupyter-widgets/controls",
            "_view_module_version": "1.5.0",
            "_view_name": "HTMLView",
            "description": "",
            "description_tooltip": null,
            "layout": "IPY_MODEL_a589a165122c497b8067bfbd9674aeb8",
            "placeholder": "​",
            "style": "IPY_MODEL_14574633fb50400c866e285d934373c3",
            "value": " 2.44G/2.44G [00:16&lt;00:00, 308MB/s]"
          }
        },
        "2c631a91a3c347cca5d7bcf366a0cb10": {
          "model_module": "@jupyter-widgets/base",
          "model_name": "LayoutModel",
          "model_module_version": "1.2.0",
          "state": {
            "_model_module": "@jupyter-widgets/base",
            "_model_module_version": "1.2.0",
            "_model_name": "LayoutModel",
            "_view_count": null,
            "_view_module": "@jupyter-widgets/base",
            "_view_module_version": "1.2.0",
            "_view_name": "LayoutView",
            "align_content": null,
            "align_items": null,
            "align_self": null,
            "border": null,
            "bottom": null,
            "display": null,
            "flex": null,
            "flex_flow": null,
            "grid_area": null,
            "grid_auto_columns": null,
            "grid_auto_flow": null,
            "grid_auto_rows": null,
            "grid_column": null,
            "grid_gap": null,
            "grid_row": null,
            "grid_template_areas": null,
            "grid_template_columns": null,
            "grid_template_rows": null,
            "height": null,
            "justify_content": null,
            "justify_items": null,
            "left": null,
            "margin": null,
            "max_height": null,
            "max_width": null,
            "min_height": null,
            "min_width": null,
            "object_fit": null,
            "object_position": null,
            "order": null,
            "overflow": null,
            "overflow_x": null,
            "overflow_y": null,
            "padding": null,
            "right": null,
            "top": null,
            "visibility": null,
            "width": null
          }
        },
        "08a19d668f004a31a24f376e68e0a5c3": {
          "model_module": "@jupyter-widgets/base",
          "model_name": "LayoutModel",
          "model_module_version": "1.2.0",
          "state": {
            "_model_module": "@jupyter-widgets/base",
            "_model_module_version": "1.2.0",
            "_model_name": "LayoutModel",
            "_view_count": null,
            "_view_module": "@jupyter-widgets/base",
            "_view_module_version": "1.2.0",
            "_view_name": "LayoutView",
            "align_content": null,
            "align_items": null,
            "align_self": null,
            "border": null,
            "bottom": null,
            "display": null,
            "flex": null,
            "flex_flow": null,
            "grid_area": null,
            "grid_auto_columns": null,
            "grid_auto_flow": null,
            "grid_auto_rows": null,
            "grid_column": null,
            "grid_gap": null,
            "grid_row": null,
            "grid_template_areas": null,
            "grid_template_columns": null,
            "grid_template_rows": null,
            "height": null,
            "justify_content": null,
            "justify_items": null,
            "left": null,
            "margin": null,
            "max_height": null,
            "max_width": null,
            "min_height": null,
            "min_width": null,
            "object_fit": null,
            "object_position": null,
            "order": null,
            "overflow": null,
            "overflow_x": null,
            "overflow_y": null,
            "padding": null,
            "right": null,
            "top": null,
            "visibility": null,
            "width": null
          }
        },
        "2530b14d41244c8b913823acd24a388e": {
          "model_module": "@jupyter-widgets/controls",
          "model_name": "DescriptionStyleModel",
          "model_module_version": "1.5.0",
          "state": {
            "_model_module": "@jupyter-widgets/controls",
            "_model_module_version": "1.5.0",
            "_model_name": "DescriptionStyleModel",
            "_view_count": null,
            "_view_module": "@jupyter-widgets/base",
            "_view_module_version": "1.2.0",
            "_view_name": "StyleView",
            "description_width": ""
          }
        },
        "5ca5bfe8ec8a49aaac518bf59098fe6a": {
          "model_module": "@jupyter-widgets/base",
          "model_name": "LayoutModel",
          "model_module_version": "1.2.0",
          "state": {
            "_model_module": "@jupyter-widgets/base",
            "_model_module_version": "1.2.0",
            "_model_name": "LayoutModel",
            "_view_count": null,
            "_view_module": "@jupyter-widgets/base",
            "_view_module_version": "1.2.0",
            "_view_name": "LayoutView",
            "align_content": null,
            "align_items": null,
            "align_self": null,
            "border": null,
            "bottom": null,
            "display": null,
            "flex": null,
            "flex_flow": null,
            "grid_area": null,
            "grid_auto_columns": null,
            "grid_auto_flow": null,
            "grid_auto_rows": null,
            "grid_column": null,
            "grid_gap": null,
            "grid_row": null,
            "grid_template_areas": null,
            "grid_template_columns": null,
            "grid_template_rows": null,
            "height": null,
            "justify_content": null,
            "justify_items": null,
            "left": null,
            "margin": null,
            "max_height": null,
            "max_width": null,
            "min_height": null,
            "min_width": null,
            "object_fit": null,
            "object_position": null,
            "order": null,
            "overflow": null,
            "overflow_x": null,
            "overflow_y": null,
            "padding": null,
            "right": null,
            "top": null,
            "visibility": null,
            "width": null
          }
        },
        "f117efcdc7bd4bbb8a4a78844d3946b7": {
          "model_module": "@jupyter-widgets/controls",
          "model_name": "ProgressStyleModel",
          "model_module_version": "1.5.0",
          "state": {
            "_model_module": "@jupyter-widgets/controls",
            "_model_module_version": "1.5.0",
            "_model_name": "ProgressStyleModel",
            "_view_count": null,
            "_view_module": "@jupyter-widgets/base",
            "_view_module_version": "1.2.0",
            "_view_name": "StyleView",
            "bar_color": null,
            "description_width": ""
          }
        },
        "a589a165122c497b8067bfbd9674aeb8": {
          "model_module": "@jupyter-widgets/base",
          "model_name": "LayoutModel",
          "model_module_version": "1.2.0",
          "state": {
            "_model_module": "@jupyter-widgets/base",
            "_model_module_version": "1.2.0",
            "_model_name": "LayoutModel",
            "_view_count": null,
            "_view_module": "@jupyter-widgets/base",
            "_view_module_version": "1.2.0",
            "_view_name": "LayoutView",
            "align_content": null,
            "align_items": null,
            "align_self": null,
            "border": null,
            "bottom": null,
            "display": null,
            "flex": null,
            "flex_flow": null,
            "grid_area": null,
            "grid_auto_columns": null,
            "grid_auto_flow": null,
            "grid_auto_rows": null,
            "grid_column": null,
            "grid_gap": null,
            "grid_row": null,
            "grid_template_areas": null,
            "grid_template_columns": null,
            "grid_template_rows": null,
            "height": null,
            "justify_content": null,
            "justify_items": null,
            "left": null,
            "margin": null,
            "max_height": null,
            "max_width": null,
            "min_height": null,
            "min_width": null,
            "object_fit": null,
            "object_position": null,
            "order": null,
            "overflow": null,
            "overflow_x": null,
            "overflow_y": null,
            "padding": null,
            "right": null,
            "top": null,
            "visibility": null,
            "width": null
          }
        },
        "14574633fb50400c866e285d934373c3": {
          "model_module": "@jupyter-widgets/controls",
          "model_name": "DescriptionStyleModel",
          "model_module_version": "1.5.0",
          "state": {
            "_model_module": "@jupyter-widgets/controls",
            "_model_module_version": "1.5.0",
            "_model_name": "DescriptionStyleModel",
            "_view_count": null,
            "_view_module": "@jupyter-widgets/base",
            "_view_module_version": "1.2.0",
            "_view_name": "StyleView",
            "description_width": ""
          }
        },
        "f72cdc05de45499593324fca0c23fe06": {
          "model_module": "@jupyter-widgets/controls",
          "model_name": "HBoxModel",
          "model_module_version": "1.5.0",
          "state": {
            "_dom_classes": [],
            "_model_module": "@jupyter-widgets/controls",
            "_model_module_version": "1.5.0",
            "_model_name": "HBoxModel",
            "_view_count": null,
            "_view_module": "@jupyter-widgets/controls",
            "_view_module_version": "1.5.0",
            "_view_name": "HBoxView",
            "box_style": "",
            "children": [
              "IPY_MODEL_99e874536d4a4f4fa06be818129e0017",
              "IPY_MODEL_9f7f52fa92624bdcb2bd9aa671d244e2",
              "IPY_MODEL_3dfdc3b868694631a0215e39f5b2d1a0"
            ],
            "layout": "IPY_MODEL_b173be1865c04cc6aecb8a87c387a6c2"
          }
        },
        "99e874536d4a4f4fa06be818129e0017": {
          "model_module": "@jupyter-widgets/controls",
          "model_name": "HTMLModel",
          "model_module_version": "1.5.0",
          "state": {
            "_dom_classes": [],
            "_model_module": "@jupyter-widgets/controls",
            "_model_module_version": "1.5.0",
            "_model_name": "HTMLModel",
            "_view_count": null,
            "_view_module": "@jupyter-widgets/controls",
            "_view_module_version": "1.5.0",
            "_view_name": "HTMLView",
            "description": "",
            "description_tooltip": null,
            "layout": "IPY_MODEL_498e8533ef6e40dcb5d39d3b0a97ec89",
            "placeholder": "​",
            "style": "IPY_MODEL_6948b459799e4d65857993965f65be3f",
            "value": "Downloading (…)neration_config.json: 100%"
          }
        },
        "9f7f52fa92624bdcb2bd9aa671d244e2": {
          "model_module": "@jupyter-widgets/controls",
          "model_name": "FloatProgressModel",
          "model_module_version": "1.5.0",
          "state": {
            "_dom_classes": [],
            "_model_module": "@jupyter-widgets/controls",
            "_model_module_version": "1.5.0",
            "_model_name": "FloatProgressModel",
            "_view_count": null,
            "_view_module": "@jupyter-widgets/controls",
            "_view_module_version": "1.5.0",
            "_view_name": "ProgressView",
            "bar_style": "success",
            "description": "",
            "description_tooltip": null,
            "layout": "IPY_MODEL_6d909daea49a4158a488f9bad119185d",
            "max": 261,
            "min": 0,
            "orientation": "horizontal",
            "style": "IPY_MODEL_4842dd544abd44b287c57cfaa187f752",
            "value": 261
          }
        },
        "3dfdc3b868694631a0215e39f5b2d1a0": {
          "model_module": "@jupyter-widgets/controls",
          "model_name": "HTMLModel",
          "model_module_version": "1.5.0",
          "state": {
            "_dom_classes": [],
            "_model_module": "@jupyter-widgets/controls",
            "_model_module_version": "1.5.0",
            "_model_name": "HTMLModel",
            "_view_count": null,
            "_view_module": "@jupyter-widgets/controls",
            "_view_module_version": "1.5.0",
            "_view_name": "HTMLView",
            "description": "",
            "description_tooltip": null,
            "layout": "IPY_MODEL_48df9e360bac4b4a92dacd00b5620bd7",
            "placeholder": "​",
            "style": "IPY_MODEL_c765f452e15c4e70a5c0976c87d4bb51",
            "value": " 261/261 [00:00&lt;00:00, 19.9kB/s]"
          }
        },
        "b173be1865c04cc6aecb8a87c387a6c2": {
          "model_module": "@jupyter-widgets/base",
          "model_name": "LayoutModel",
          "model_module_version": "1.2.0",
          "state": {
            "_model_module": "@jupyter-widgets/base",
            "_model_module_version": "1.2.0",
            "_model_name": "LayoutModel",
            "_view_count": null,
            "_view_module": "@jupyter-widgets/base",
            "_view_module_version": "1.2.0",
            "_view_name": "LayoutView",
            "align_content": null,
            "align_items": null,
            "align_self": null,
            "border": null,
            "bottom": null,
            "display": null,
            "flex": null,
            "flex_flow": null,
            "grid_area": null,
            "grid_auto_columns": null,
            "grid_auto_flow": null,
            "grid_auto_rows": null,
            "grid_column": null,
            "grid_gap": null,
            "grid_row": null,
            "grid_template_areas": null,
            "grid_template_columns": null,
            "grid_template_rows": null,
            "height": null,
            "justify_content": null,
            "justify_items": null,
            "left": null,
            "margin": null,
            "max_height": null,
            "max_width": null,
            "min_height": null,
            "min_width": null,
            "object_fit": null,
            "object_position": null,
            "order": null,
            "overflow": null,
            "overflow_x": null,
            "overflow_y": null,
            "padding": null,
            "right": null,
            "top": null,
            "visibility": null,
            "width": null
          }
        },
        "498e8533ef6e40dcb5d39d3b0a97ec89": {
          "model_module": "@jupyter-widgets/base",
          "model_name": "LayoutModel",
          "model_module_version": "1.2.0",
          "state": {
            "_model_module": "@jupyter-widgets/base",
            "_model_module_version": "1.2.0",
            "_model_name": "LayoutModel",
            "_view_count": null,
            "_view_module": "@jupyter-widgets/base",
            "_view_module_version": "1.2.0",
            "_view_name": "LayoutView",
            "align_content": null,
            "align_items": null,
            "align_self": null,
            "border": null,
            "bottom": null,
            "display": null,
            "flex": null,
            "flex_flow": null,
            "grid_area": null,
            "grid_auto_columns": null,
            "grid_auto_flow": null,
            "grid_auto_rows": null,
            "grid_column": null,
            "grid_gap": null,
            "grid_row": null,
            "grid_template_areas": null,
            "grid_template_columns": null,
            "grid_template_rows": null,
            "height": null,
            "justify_content": null,
            "justify_items": null,
            "left": null,
            "margin": null,
            "max_height": null,
            "max_width": null,
            "min_height": null,
            "min_width": null,
            "object_fit": null,
            "object_position": null,
            "order": null,
            "overflow": null,
            "overflow_x": null,
            "overflow_y": null,
            "padding": null,
            "right": null,
            "top": null,
            "visibility": null,
            "width": null
          }
        },
        "6948b459799e4d65857993965f65be3f": {
          "model_module": "@jupyter-widgets/controls",
          "model_name": "DescriptionStyleModel",
          "model_module_version": "1.5.0",
          "state": {
            "_model_module": "@jupyter-widgets/controls",
            "_model_module_version": "1.5.0",
            "_model_name": "DescriptionStyleModel",
            "_view_count": null,
            "_view_module": "@jupyter-widgets/base",
            "_view_module_version": "1.2.0",
            "_view_name": "StyleView",
            "description_width": ""
          }
        },
        "6d909daea49a4158a488f9bad119185d": {
          "model_module": "@jupyter-widgets/base",
          "model_name": "LayoutModel",
          "model_module_version": "1.2.0",
          "state": {
            "_model_module": "@jupyter-widgets/base",
            "_model_module_version": "1.2.0",
            "_model_name": "LayoutModel",
            "_view_count": null,
            "_view_module": "@jupyter-widgets/base",
            "_view_module_version": "1.2.0",
            "_view_name": "LayoutView",
            "align_content": null,
            "align_items": null,
            "align_self": null,
            "border": null,
            "bottom": null,
            "display": null,
            "flex": null,
            "flex_flow": null,
            "grid_area": null,
            "grid_auto_columns": null,
            "grid_auto_flow": null,
            "grid_auto_rows": null,
            "grid_column": null,
            "grid_gap": null,
            "grid_row": null,
            "grid_template_areas": null,
            "grid_template_columns": null,
            "grid_template_rows": null,
            "height": null,
            "justify_content": null,
            "justify_items": null,
            "left": null,
            "margin": null,
            "max_height": null,
            "max_width": null,
            "min_height": null,
            "min_width": null,
            "object_fit": null,
            "object_position": null,
            "order": null,
            "overflow": null,
            "overflow_x": null,
            "overflow_y": null,
            "padding": null,
            "right": null,
            "top": null,
            "visibility": null,
            "width": null
          }
        },
        "4842dd544abd44b287c57cfaa187f752": {
          "model_module": "@jupyter-widgets/controls",
          "model_name": "ProgressStyleModel",
          "model_module_version": "1.5.0",
          "state": {
            "_model_module": "@jupyter-widgets/controls",
            "_model_module_version": "1.5.0",
            "_model_name": "ProgressStyleModel",
            "_view_count": null,
            "_view_module": "@jupyter-widgets/base",
            "_view_module_version": "1.2.0",
            "_view_name": "StyleView",
            "bar_color": null,
            "description_width": ""
          }
        },
        "48df9e360bac4b4a92dacd00b5620bd7": {
          "model_module": "@jupyter-widgets/base",
          "model_name": "LayoutModel",
          "model_module_version": "1.2.0",
          "state": {
            "_model_module": "@jupyter-widgets/base",
            "_model_module_version": "1.2.0",
            "_model_name": "LayoutModel",
            "_view_count": null,
            "_view_module": "@jupyter-widgets/base",
            "_view_module_version": "1.2.0",
            "_view_name": "LayoutView",
            "align_content": null,
            "align_items": null,
            "align_self": null,
            "border": null,
            "bottom": null,
            "display": null,
            "flex": null,
            "flex_flow": null,
            "grid_area": null,
            "grid_auto_columns": null,
            "grid_auto_flow": null,
            "grid_auto_rows": null,
            "grid_column": null,
            "grid_gap": null,
            "grid_row": null,
            "grid_template_areas": null,
            "grid_template_columns": null,
            "grid_template_rows": null,
            "height": null,
            "justify_content": null,
            "justify_items": null,
            "left": null,
            "margin": null,
            "max_height": null,
            "max_width": null,
            "min_height": null,
            "min_width": null,
            "object_fit": null,
            "object_position": null,
            "order": null,
            "overflow": null,
            "overflow_x": null,
            "overflow_y": null,
            "padding": null,
            "right": null,
            "top": null,
            "visibility": null,
            "width": null
          }
        },
        "c765f452e15c4e70a5c0976c87d4bb51": {
          "model_module": "@jupyter-widgets/controls",
          "model_name": "DescriptionStyleModel",
          "model_module_version": "1.5.0",
          "state": {
            "_model_module": "@jupyter-widgets/controls",
            "_model_module_version": "1.5.0",
            "_model_name": "DescriptionStyleModel",
            "_view_count": null,
            "_view_module": "@jupyter-widgets/base",
            "_view_module_version": "1.2.0",
            "_view_name": "StyleView",
            "description_width": ""
          }
        },
        "d2c6c3d88fb145aab1f044772c0060f6": {
          "model_module": "@jupyter-widgets/controls",
          "model_name": "HBoxModel",
          "model_module_version": "1.5.0",
          "state": {
            "_dom_classes": [],
            "_model_module": "@jupyter-widgets/controls",
            "_model_module_version": "1.5.0",
            "_model_name": "HBoxModel",
            "_view_count": null,
            "_view_module": "@jupyter-widgets/controls",
            "_view_module_version": "1.5.0",
            "_view_name": "HBoxView",
            "box_style": "",
            "children": [
              "IPY_MODEL_117e73107856405c8c693d6be00447cf",
              "IPY_MODEL_ceb78be7ecd5444d8f9aaba007de1f0a",
              "IPY_MODEL_34c3c2feb29b40019e19d1129614bb44"
            ],
            "layout": "IPY_MODEL_f4056dbc33cd4279bb5a23b085a95657"
          }
        },
        "117e73107856405c8c693d6be00447cf": {
          "model_module": "@jupyter-widgets/controls",
          "model_name": "HTMLModel",
          "model_module_version": "1.5.0",
          "state": {
            "_dom_classes": [],
            "_model_module": "@jupyter-widgets/controls",
            "_model_module_version": "1.5.0",
            "_model_name": "HTMLModel",
            "_view_count": null,
            "_view_module": "@jupyter-widgets/controls",
            "_view_module_version": "1.5.0",
            "_view_name": "HTMLView",
            "description": "",
            "description_tooltip": null,
            "layout": "IPY_MODEL_ea2274798e4146759df96394fee0df88",
            "placeholder": "​",
            "style": "IPY_MODEL_886992ea92914ce3ba452b01e0b87577",
            "value": "100%"
          }
        },
        "ceb78be7ecd5444d8f9aaba007de1f0a": {
          "model_module": "@jupyter-widgets/controls",
          "model_name": "FloatProgressModel",
          "model_module_version": "1.5.0",
          "state": {
            "_dom_classes": [],
            "_model_module": "@jupyter-widgets/controls",
            "_model_module_version": "1.5.0",
            "_model_name": "FloatProgressModel",
            "_view_count": null,
            "_view_module": "@jupyter-widgets/controls",
            "_view_module_version": "1.5.0",
            "_view_name": "ProgressView",
            "bar_style": "success",
            "description": "",
            "description_tooltip": null,
            "layout": "IPY_MODEL_034d9cf06cf14ea09717e5ed614923e4",
            "max": 21813,
            "min": 0,
            "orientation": "horizontal",
            "style": "IPY_MODEL_b1f9392bbbac471aa7d3466615bacb0e",
            "value": 21813
          }
        },
        "34c3c2feb29b40019e19d1129614bb44": {
          "model_module": "@jupyter-widgets/controls",
          "model_name": "HTMLModel",
          "model_module_version": "1.5.0",
          "state": {
            "_dom_classes": [],
            "_model_module": "@jupyter-widgets/controls",
            "_model_module_version": "1.5.0",
            "_model_name": "HTMLModel",
            "_view_count": null,
            "_view_module": "@jupyter-widgets/controls",
            "_view_module_version": "1.5.0",
            "_view_name": "HTMLView",
            "description": "",
            "description_tooltip": null,
            "layout": "IPY_MODEL_7625cef147c64a9e8f53e82d66ba8769",
            "placeholder": "​",
            "style": "IPY_MODEL_de568801604948208af17a8e2b8641c1",
            "value": " 21813/21813 [00:15&lt;00:00, 4045.90it/s]"
          }
        },
        "f4056dbc33cd4279bb5a23b085a95657": {
          "model_module": "@jupyter-widgets/base",
          "model_name": "LayoutModel",
          "model_module_version": "1.2.0",
          "state": {
            "_model_module": "@jupyter-widgets/base",
            "_model_module_version": "1.2.0",
            "_model_name": "LayoutModel",
            "_view_count": null,
            "_view_module": "@jupyter-widgets/base",
            "_view_module_version": "1.2.0",
            "_view_name": "LayoutView",
            "align_content": null,
            "align_items": null,
            "align_self": null,
            "border": null,
            "bottom": null,
            "display": null,
            "flex": null,
            "flex_flow": null,
            "grid_area": null,
            "grid_auto_columns": null,
            "grid_auto_flow": null,
            "grid_auto_rows": null,
            "grid_column": null,
            "grid_gap": null,
            "grid_row": null,
            "grid_template_areas": null,
            "grid_template_columns": null,
            "grid_template_rows": null,
            "height": null,
            "justify_content": null,
            "justify_items": null,
            "left": null,
            "margin": null,
            "max_height": null,
            "max_width": null,
            "min_height": null,
            "min_width": null,
            "object_fit": null,
            "object_position": null,
            "order": null,
            "overflow": null,
            "overflow_x": null,
            "overflow_y": null,
            "padding": null,
            "right": null,
            "top": null,
            "visibility": null,
            "width": null
          }
        },
        "ea2274798e4146759df96394fee0df88": {
          "model_module": "@jupyter-widgets/base",
          "model_name": "LayoutModel",
          "model_module_version": "1.2.0",
          "state": {
            "_model_module": "@jupyter-widgets/base",
            "_model_module_version": "1.2.0",
            "_model_name": "LayoutModel",
            "_view_count": null,
            "_view_module": "@jupyter-widgets/base",
            "_view_module_version": "1.2.0",
            "_view_name": "LayoutView",
            "align_content": null,
            "align_items": null,
            "align_self": null,
            "border": null,
            "bottom": null,
            "display": null,
            "flex": null,
            "flex_flow": null,
            "grid_area": null,
            "grid_auto_columns": null,
            "grid_auto_flow": null,
            "grid_auto_rows": null,
            "grid_column": null,
            "grid_gap": null,
            "grid_row": null,
            "grid_template_areas": null,
            "grid_template_columns": null,
            "grid_template_rows": null,
            "height": null,
            "justify_content": null,
            "justify_items": null,
            "left": null,
            "margin": null,
            "max_height": null,
            "max_width": null,
            "min_height": null,
            "min_width": null,
            "object_fit": null,
            "object_position": null,
            "order": null,
            "overflow": null,
            "overflow_x": null,
            "overflow_y": null,
            "padding": null,
            "right": null,
            "top": null,
            "visibility": null,
            "width": null
          }
        },
        "886992ea92914ce3ba452b01e0b87577": {
          "model_module": "@jupyter-widgets/controls",
          "model_name": "DescriptionStyleModel",
          "model_module_version": "1.5.0",
          "state": {
            "_model_module": "@jupyter-widgets/controls",
            "_model_module_version": "1.5.0",
            "_model_name": "DescriptionStyleModel",
            "_view_count": null,
            "_view_module": "@jupyter-widgets/base",
            "_view_module_version": "1.2.0",
            "_view_name": "StyleView",
            "description_width": ""
          }
        },
        "034d9cf06cf14ea09717e5ed614923e4": {
          "model_module": "@jupyter-widgets/base",
          "model_name": "LayoutModel",
          "model_module_version": "1.2.0",
          "state": {
            "_model_module": "@jupyter-widgets/base",
            "_model_module_version": "1.2.0",
            "_model_name": "LayoutModel",
            "_view_count": null,
            "_view_module": "@jupyter-widgets/base",
            "_view_module_version": "1.2.0",
            "_view_name": "LayoutView",
            "align_content": null,
            "align_items": null,
            "align_self": null,
            "border": null,
            "bottom": null,
            "display": null,
            "flex": null,
            "flex_flow": null,
            "grid_area": null,
            "grid_auto_columns": null,
            "grid_auto_flow": null,
            "grid_auto_rows": null,
            "grid_column": null,
            "grid_gap": null,
            "grid_row": null,
            "grid_template_areas": null,
            "grid_template_columns": null,
            "grid_template_rows": null,
            "height": null,
            "justify_content": null,
            "justify_items": null,
            "left": null,
            "margin": null,
            "max_height": null,
            "max_width": null,
            "min_height": null,
            "min_width": null,
            "object_fit": null,
            "object_position": null,
            "order": null,
            "overflow": null,
            "overflow_x": null,
            "overflow_y": null,
            "padding": null,
            "right": null,
            "top": null,
            "visibility": null,
            "width": null
          }
        },
        "b1f9392bbbac471aa7d3466615bacb0e": {
          "model_module": "@jupyter-widgets/controls",
          "model_name": "ProgressStyleModel",
          "model_module_version": "1.5.0",
          "state": {
            "_model_module": "@jupyter-widgets/controls",
            "_model_module_version": "1.5.0",
            "_model_name": "ProgressStyleModel",
            "_view_count": null,
            "_view_module": "@jupyter-widgets/base",
            "_view_module_version": "1.2.0",
            "_view_name": "StyleView",
            "bar_color": null,
            "description_width": ""
          }
        },
        "7625cef147c64a9e8f53e82d66ba8769": {
          "model_module": "@jupyter-widgets/base",
          "model_name": "LayoutModel",
          "model_module_version": "1.2.0",
          "state": {
            "_model_module": "@jupyter-widgets/base",
            "_model_module_version": "1.2.0",
            "_model_name": "LayoutModel",
            "_view_count": null,
            "_view_module": "@jupyter-widgets/base",
            "_view_module_version": "1.2.0",
            "_view_name": "LayoutView",
            "align_content": null,
            "align_items": null,
            "align_self": null,
            "border": null,
            "bottom": null,
            "display": null,
            "flex": null,
            "flex_flow": null,
            "grid_area": null,
            "grid_auto_columns": null,
            "grid_auto_flow": null,
            "grid_auto_rows": null,
            "grid_column": null,
            "grid_gap": null,
            "grid_row": null,
            "grid_template_areas": null,
            "grid_template_columns": null,
            "grid_template_rows": null,
            "height": null,
            "justify_content": null,
            "justify_items": null,
            "left": null,
            "margin": null,
            "max_height": null,
            "max_width": null,
            "min_height": null,
            "min_width": null,
            "object_fit": null,
            "object_position": null,
            "order": null,
            "overflow": null,
            "overflow_x": null,
            "overflow_y": null,
            "padding": null,
            "right": null,
            "top": null,
            "visibility": null,
            "width": null
          }
        },
        "de568801604948208af17a8e2b8641c1": {
          "model_module": "@jupyter-widgets/controls",
          "model_name": "DescriptionStyleModel",
          "model_module_version": "1.5.0",
          "state": {
            "_model_module": "@jupyter-widgets/controls",
            "_model_module_version": "1.5.0",
            "_model_name": "DescriptionStyleModel",
            "_view_count": null,
            "_view_module": "@jupyter-widgets/base",
            "_view_module_version": "1.2.0",
            "_view_name": "StyleView",
            "description_width": ""
          }
        },
        "cbc915bd12d84fa794ae689a7b6813a2": {
          "model_module": "@jupyter-widgets/controls",
          "model_name": "HBoxModel",
          "model_module_version": "1.5.0",
          "state": {
            "_dom_classes": [],
            "_model_module": "@jupyter-widgets/controls",
            "_model_module_version": "1.5.0",
            "_model_name": "HBoxModel",
            "_view_count": null,
            "_view_module": "@jupyter-widgets/controls",
            "_view_module_version": "1.5.0",
            "_view_name": "HBoxView",
            "box_style": "",
            "children": [
              "IPY_MODEL_9706de2e490340d89b7e5d3561b83173",
              "IPY_MODEL_0afd64e61157464b9b0449cff9446382",
              "IPY_MODEL_101deca26ec24dbab71531585bb63f44"
            ],
            "layout": "IPY_MODEL_8a91929fc23241ea8df03c3da3fcbed9"
          }
        },
        "9706de2e490340d89b7e5d3561b83173": {
          "model_module": "@jupyter-widgets/controls",
          "model_name": "HTMLModel",
          "model_module_version": "1.5.0",
          "state": {
            "_dom_classes": [],
            "_model_module": "@jupyter-widgets/controls",
            "_model_module_version": "1.5.0",
            "_model_name": "HTMLModel",
            "_view_count": null,
            "_view_module": "@jupyter-widgets/controls",
            "_view_module_version": "1.5.0",
            "_view_name": "HTMLView",
            "description": "",
            "description_tooltip": null,
            "layout": "IPY_MODEL_7f1740f3e3b64bf38e048dddc9b4baec",
            "placeholder": "​",
            "style": "IPY_MODEL_4997da96b0304f30b45ab34a15652ee2",
            "value": "100%"
          }
        },
        "0afd64e61157464b9b0449cff9446382": {
          "model_module": "@jupyter-widgets/controls",
          "model_name": "FloatProgressModel",
          "model_module_version": "1.5.0",
          "state": {
            "_dom_classes": [],
            "_model_module": "@jupyter-widgets/controls",
            "_model_module_version": "1.5.0",
            "_model_name": "FloatProgressModel",
            "_view_count": null,
            "_view_module": "@jupyter-widgets/controls",
            "_view_module_version": "1.5.0",
            "_view_name": "ProgressView",
            "bar_style": "success",
            "description": "",
            "description_tooltip": null,
            "layout": "IPY_MODEL_ded1ca6f9c75474f8e68ed3837b1a474",
            "max": 4554,
            "min": 0,
            "orientation": "horizontal",
            "style": "IPY_MODEL_f27f87ba30b14706a495fe64a9ad23a7",
            "value": 4554
          }
        },
        "101deca26ec24dbab71531585bb63f44": {
          "model_module": "@jupyter-widgets/controls",
          "model_name": "HTMLModel",
          "model_module_version": "1.5.0",
          "state": {
            "_dom_classes": [],
            "_model_module": "@jupyter-widgets/controls",
            "_model_module_version": "1.5.0",
            "_model_name": "HTMLModel",
            "_view_count": null,
            "_view_module": "@jupyter-widgets/controls",
            "_view_module_version": "1.5.0",
            "_view_name": "HTMLView",
            "description": "",
            "description_tooltip": null,
            "layout": "IPY_MODEL_e7c592e370374610bebb55b41ad7cb12",
            "placeholder": "​",
            "style": "IPY_MODEL_881fbed704b7487da0081554aecb2f05",
            "value": " 4554/4554 [38:00&lt;00:00,  2.18it/s]"
          }
        },
        "8a91929fc23241ea8df03c3da3fcbed9": {
          "model_module": "@jupyter-widgets/base",
          "model_name": "LayoutModel",
          "model_module_version": "1.2.0",
          "state": {
            "_model_module": "@jupyter-widgets/base",
            "_model_module_version": "1.2.0",
            "_model_name": "LayoutModel",
            "_view_count": null,
            "_view_module": "@jupyter-widgets/base",
            "_view_module_version": "1.2.0",
            "_view_name": "LayoutView",
            "align_content": null,
            "align_items": null,
            "align_self": null,
            "border": null,
            "bottom": null,
            "display": null,
            "flex": null,
            "flex_flow": null,
            "grid_area": null,
            "grid_auto_columns": null,
            "grid_auto_flow": null,
            "grid_auto_rows": null,
            "grid_column": null,
            "grid_gap": null,
            "grid_row": null,
            "grid_template_areas": null,
            "grid_template_columns": null,
            "grid_template_rows": null,
            "height": null,
            "justify_content": null,
            "justify_items": null,
            "left": null,
            "margin": null,
            "max_height": null,
            "max_width": null,
            "min_height": null,
            "min_width": null,
            "object_fit": null,
            "object_position": null,
            "order": null,
            "overflow": null,
            "overflow_x": null,
            "overflow_y": null,
            "padding": null,
            "right": null,
            "top": null,
            "visibility": null,
            "width": null
          }
        },
        "7f1740f3e3b64bf38e048dddc9b4baec": {
          "model_module": "@jupyter-widgets/base",
          "model_name": "LayoutModel",
          "model_module_version": "1.2.0",
          "state": {
            "_model_module": "@jupyter-widgets/base",
            "_model_module_version": "1.2.0",
            "_model_name": "LayoutModel",
            "_view_count": null,
            "_view_module": "@jupyter-widgets/base",
            "_view_module_version": "1.2.0",
            "_view_name": "LayoutView",
            "align_content": null,
            "align_items": null,
            "align_self": null,
            "border": null,
            "bottom": null,
            "display": null,
            "flex": null,
            "flex_flow": null,
            "grid_area": null,
            "grid_auto_columns": null,
            "grid_auto_flow": null,
            "grid_auto_rows": null,
            "grid_column": null,
            "grid_gap": null,
            "grid_row": null,
            "grid_template_areas": null,
            "grid_template_columns": null,
            "grid_template_rows": null,
            "height": null,
            "justify_content": null,
            "justify_items": null,
            "left": null,
            "margin": null,
            "max_height": null,
            "max_width": null,
            "min_height": null,
            "min_width": null,
            "object_fit": null,
            "object_position": null,
            "order": null,
            "overflow": null,
            "overflow_x": null,
            "overflow_y": null,
            "padding": null,
            "right": null,
            "top": null,
            "visibility": null,
            "width": null
          }
        },
        "4997da96b0304f30b45ab34a15652ee2": {
          "model_module": "@jupyter-widgets/controls",
          "model_name": "DescriptionStyleModel",
          "model_module_version": "1.5.0",
          "state": {
            "_model_module": "@jupyter-widgets/controls",
            "_model_module_version": "1.5.0",
            "_model_name": "DescriptionStyleModel",
            "_view_count": null,
            "_view_module": "@jupyter-widgets/base",
            "_view_module_version": "1.2.0",
            "_view_name": "StyleView",
            "description_width": ""
          }
        },
        "ded1ca6f9c75474f8e68ed3837b1a474": {
          "model_module": "@jupyter-widgets/base",
          "model_name": "LayoutModel",
          "model_module_version": "1.2.0",
          "state": {
            "_model_module": "@jupyter-widgets/base",
            "_model_module_version": "1.2.0",
            "_model_name": "LayoutModel",
            "_view_count": null,
            "_view_module": "@jupyter-widgets/base",
            "_view_module_version": "1.2.0",
            "_view_name": "LayoutView",
            "align_content": null,
            "align_items": null,
            "align_self": null,
            "border": null,
            "bottom": null,
            "display": null,
            "flex": null,
            "flex_flow": null,
            "grid_area": null,
            "grid_auto_columns": null,
            "grid_auto_flow": null,
            "grid_auto_rows": null,
            "grid_column": null,
            "grid_gap": null,
            "grid_row": null,
            "grid_template_areas": null,
            "grid_template_columns": null,
            "grid_template_rows": null,
            "height": null,
            "justify_content": null,
            "justify_items": null,
            "left": null,
            "margin": null,
            "max_height": null,
            "max_width": null,
            "min_height": null,
            "min_width": null,
            "object_fit": null,
            "object_position": null,
            "order": null,
            "overflow": null,
            "overflow_x": null,
            "overflow_y": null,
            "padding": null,
            "right": null,
            "top": null,
            "visibility": null,
            "width": null
          }
        },
        "f27f87ba30b14706a495fe64a9ad23a7": {
          "model_module": "@jupyter-widgets/controls",
          "model_name": "ProgressStyleModel",
          "model_module_version": "1.5.0",
          "state": {
            "_model_module": "@jupyter-widgets/controls",
            "_model_module_version": "1.5.0",
            "_model_name": "ProgressStyleModel",
            "_view_count": null,
            "_view_module": "@jupyter-widgets/base",
            "_view_module_version": "1.2.0",
            "_view_name": "StyleView",
            "bar_color": null,
            "description_width": ""
          }
        },
        "e7c592e370374610bebb55b41ad7cb12": {
          "model_module": "@jupyter-widgets/base",
          "model_name": "LayoutModel",
          "model_module_version": "1.2.0",
          "state": {
            "_model_module": "@jupyter-widgets/base",
            "_model_module_version": "1.2.0",
            "_model_name": "LayoutModel",
            "_view_count": null,
            "_view_module": "@jupyter-widgets/base",
            "_view_module_version": "1.2.0",
            "_view_name": "LayoutView",
            "align_content": null,
            "align_items": null,
            "align_self": null,
            "border": null,
            "bottom": null,
            "display": null,
            "flex": null,
            "flex_flow": null,
            "grid_area": null,
            "grid_auto_columns": null,
            "grid_auto_flow": null,
            "grid_auto_rows": null,
            "grid_column": null,
            "grid_gap": null,
            "grid_row": null,
            "grid_template_areas": null,
            "grid_template_columns": null,
            "grid_template_rows": null,
            "height": null,
            "justify_content": null,
            "justify_items": null,
            "left": null,
            "margin": null,
            "max_height": null,
            "max_width": null,
            "min_height": null,
            "min_width": null,
            "object_fit": null,
            "object_position": null,
            "order": null,
            "overflow": null,
            "overflow_x": null,
            "overflow_y": null,
            "padding": null,
            "right": null,
            "top": null,
            "visibility": null,
            "width": null
          }
        },
        "881fbed704b7487da0081554aecb2f05": {
          "model_module": "@jupyter-widgets/controls",
          "model_name": "DescriptionStyleModel",
          "model_module_version": "1.5.0",
          "state": {
            "_model_module": "@jupyter-widgets/controls",
            "_model_module_version": "1.5.0",
            "_model_name": "DescriptionStyleModel",
            "_view_count": null,
            "_view_module": "@jupyter-widgets/base",
            "_view_module_version": "1.2.0",
            "_view_name": "StyleView",
            "description_width": ""
          }
        },
        "ef737a337ffd430a97ebec90bd179653": {
          "model_module": "@jupyter-widgets/controls",
          "model_name": "HBoxModel",
          "model_module_version": "1.5.0",
          "state": {
            "_dom_classes": [],
            "_model_module": "@jupyter-widgets/controls",
            "_model_module_version": "1.5.0",
            "_model_name": "HBoxModel",
            "_view_count": null,
            "_view_module": "@jupyter-widgets/controls",
            "_view_module_version": "1.5.0",
            "_view_name": "HBoxView",
            "box_style": "",
            "children": [
              "IPY_MODEL_cf8c7fbb7fef44f2921bb2d2d1380307",
              "IPY_MODEL_6911539aa26a4cd396ccb4bb120bae95",
              "IPY_MODEL_7c4341ae1ec14e5a83ab6a1a2377ef4c"
            ],
            "layout": "IPY_MODEL_0a6dc721e88e45cfac71103d8c84490a"
          }
        },
        "cf8c7fbb7fef44f2921bb2d2d1380307": {
          "model_module": "@jupyter-widgets/controls",
          "model_name": "HTMLModel",
          "model_module_version": "1.5.0",
          "state": {
            "_dom_classes": [],
            "_model_module": "@jupyter-widgets/controls",
            "_model_module_version": "1.5.0",
            "_model_name": "HTMLModel",
            "_view_count": null,
            "_view_module": "@jupyter-widgets/controls",
            "_view_module_version": "1.5.0",
            "_view_name": "HTMLView",
            "description": "",
            "description_tooltip": null,
            "layout": "IPY_MODEL_8c3265cafb8c4160b4f6dd79d2b9faa0",
            "placeholder": "​",
            "style": "IPY_MODEL_90305e6b7f5a42abb49ef18c71e3e3e7",
            "value": "100%"
          }
        },
        "6911539aa26a4cd396ccb4bb120bae95": {
          "model_module": "@jupyter-widgets/controls",
          "model_name": "FloatProgressModel",
          "model_module_version": "1.5.0",
          "state": {
            "_dom_classes": [],
            "_model_module": "@jupyter-widgets/controls",
            "_model_module_version": "1.5.0",
            "_model_name": "FloatProgressModel",
            "_view_count": null,
            "_view_module": "@jupyter-widgets/controls",
            "_view_module_version": "1.5.0",
            "_view_name": "ProgressView",
            "bar_style": "success",
            "description": "",
            "description_tooltip": null,
            "layout": "IPY_MODEL_f80a68359e9c471587fce7391adc8594",
            "max": 4554,
            "min": 0,
            "orientation": "horizontal",
            "style": "IPY_MODEL_395e0f2d55254ecf96e703ba7d3c4cd2",
            "value": 4554
          }
        },
        "7c4341ae1ec14e5a83ab6a1a2377ef4c": {
          "model_module": "@jupyter-widgets/controls",
          "model_name": "HTMLModel",
          "model_module_version": "1.5.0",
          "state": {
            "_dom_classes": [],
            "_model_module": "@jupyter-widgets/controls",
            "_model_module_version": "1.5.0",
            "_model_name": "HTMLModel",
            "_view_count": null,
            "_view_module": "@jupyter-widgets/controls",
            "_view_module_version": "1.5.0",
            "_view_name": "HTMLView",
            "description": "",
            "description_tooltip": null,
            "layout": "IPY_MODEL_461aa01f93fe4af990d1f6092220e1c2",
            "placeholder": "​",
            "style": "IPY_MODEL_b66dfc8a27704b9ba81aacb464b3b2b2",
            "value": " 4554/4554 [38:14&lt;00:00,  2.16it/s]"
          }
        },
        "0a6dc721e88e45cfac71103d8c84490a": {
          "model_module": "@jupyter-widgets/base",
          "model_name": "LayoutModel",
          "model_module_version": "1.2.0",
          "state": {
            "_model_module": "@jupyter-widgets/base",
            "_model_module_version": "1.2.0",
            "_model_name": "LayoutModel",
            "_view_count": null,
            "_view_module": "@jupyter-widgets/base",
            "_view_module_version": "1.2.0",
            "_view_name": "LayoutView",
            "align_content": null,
            "align_items": null,
            "align_self": null,
            "border": null,
            "bottom": null,
            "display": null,
            "flex": null,
            "flex_flow": null,
            "grid_area": null,
            "grid_auto_columns": null,
            "grid_auto_flow": null,
            "grid_auto_rows": null,
            "grid_column": null,
            "grid_gap": null,
            "grid_row": null,
            "grid_template_areas": null,
            "grid_template_columns": null,
            "grid_template_rows": null,
            "height": null,
            "justify_content": null,
            "justify_items": null,
            "left": null,
            "margin": null,
            "max_height": null,
            "max_width": null,
            "min_height": null,
            "min_width": null,
            "object_fit": null,
            "object_position": null,
            "order": null,
            "overflow": null,
            "overflow_x": null,
            "overflow_y": null,
            "padding": null,
            "right": null,
            "top": null,
            "visibility": null,
            "width": null
          }
        },
        "8c3265cafb8c4160b4f6dd79d2b9faa0": {
          "model_module": "@jupyter-widgets/base",
          "model_name": "LayoutModel",
          "model_module_version": "1.2.0",
          "state": {
            "_model_module": "@jupyter-widgets/base",
            "_model_module_version": "1.2.0",
            "_model_name": "LayoutModel",
            "_view_count": null,
            "_view_module": "@jupyter-widgets/base",
            "_view_module_version": "1.2.0",
            "_view_name": "LayoutView",
            "align_content": null,
            "align_items": null,
            "align_self": null,
            "border": null,
            "bottom": null,
            "display": null,
            "flex": null,
            "flex_flow": null,
            "grid_area": null,
            "grid_auto_columns": null,
            "grid_auto_flow": null,
            "grid_auto_rows": null,
            "grid_column": null,
            "grid_gap": null,
            "grid_row": null,
            "grid_template_areas": null,
            "grid_template_columns": null,
            "grid_template_rows": null,
            "height": null,
            "justify_content": null,
            "justify_items": null,
            "left": null,
            "margin": null,
            "max_height": null,
            "max_width": null,
            "min_height": null,
            "min_width": null,
            "object_fit": null,
            "object_position": null,
            "order": null,
            "overflow": null,
            "overflow_x": null,
            "overflow_y": null,
            "padding": null,
            "right": null,
            "top": null,
            "visibility": null,
            "width": null
          }
        },
        "90305e6b7f5a42abb49ef18c71e3e3e7": {
          "model_module": "@jupyter-widgets/controls",
          "model_name": "DescriptionStyleModel",
          "model_module_version": "1.5.0",
          "state": {
            "_model_module": "@jupyter-widgets/controls",
            "_model_module_version": "1.5.0",
            "_model_name": "DescriptionStyleModel",
            "_view_count": null,
            "_view_module": "@jupyter-widgets/base",
            "_view_module_version": "1.2.0",
            "_view_name": "StyleView",
            "description_width": ""
          }
        },
        "f80a68359e9c471587fce7391adc8594": {
          "model_module": "@jupyter-widgets/base",
          "model_name": "LayoutModel",
          "model_module_version": "1.2.0",
          "state": {
            "_model_module": "@jupyter-widgets/base",
            "_model_module_version": "1.2.0",
            "_model_name": "LayoutModel",
            "_view_count": null,
            "_view_module": "@jupyter-widgets/base",
            "_view_module_version": "1.2.0",
            "_view_name": "LayoutView",
            "align_content": null,
            "align_items": null,
            "align_self": null,
            "border": null,
            "bottom": null,
            "display": null,
            "flex": null,
            "flex_flow": null,
            "grid_area": null,
            "grid_auto_columns": null,
            "grid_auto_flow": null,
            "grid_auto_rows": null,
            "grid_column": null,
            "grid_gap": null,
            "grid_row": null,
            "grid_template_areas": null,
            "grid_template_columns": null,
            "grid_template_rows": null,
            "height": null,
            "justify_content": null,
            "justify_items": null,
            "left": null,
            "margin": null,
            "max_height": null,
            "max_width": null,
            "min_height": null,
            "min_width": null,
            "object_fit": null,
            "object_position": null,
            "order": null,
            "overflow": null,
            "overflow_x": null,
            "overflow_y": null,
            "padding": null,
            "right": null,
            "top": null,
            "visibility": null,
            "width": null
          }
        },
        "395e0f2d55254ecf96e703ba7d3c4cd2": {
          "model_module": "@jupyter-widgets/controls",
          "model_name": "ProgressStyleModel",
          "model_module_version": "1.5.0",
          "state": {
            "_model_module": "@jupyter-widgets/controls",
            "_model_module_version": "1.5.0",
            "_model_name": "ProgressStyleModel",
            "_view_count": null,
            "_view_module": "@jupyter-widgets/base",
            "_view_module_version": "1.2.0",
            "_view_name": "StyleView",
            "bar_color": null,
            "description_width": ""
          }
        },
        "461aa01f93fe4af990d1f6092220e1c2": {
          "model_module": "@jupyter-widgets/base",
          "model_name": "LayoutModel",
          "model_module_version": "1.2.0",
          "state": {
            "_model_module": "@jupyter-widgets/base",
            "_model_module_version": "1.2.0",
            "_model_name": "LayoutModel",
            "_view_count": null,
            "_view_module": "@jupyter-widgets/base",
            "_view_module_version": "1.2.0",
            "_view_name": "LayoutView",
            "align_content": null,
            "align_items": null,
            "align_self": null,
            "border": null,
            "bottom": null,
            "display": null,
            "flex": null,
            "flex_flow": null,
            "grid_area": null,
            "grid_auto_columns": null,
            "grid_auto_flow": null,
            "grid_auto_rows": null,
            "grid_column": null,
            "grid_gap": null,
            "grid_row": null,
            "grid_template_areas": null,
            "grid_template_columns": null,
            "grid_template_rows": null,
            "height": null,
            "justify_content": null,
            "justify_items": null,
            "left": null,
            "margin": null,
            "max_height": null,
            "max_width": null,
            "min_height": null,
            "min_width": null,
            "object_fit": null,
            "object_position": null,
            "order": null,
            "overflow": null,
            "overflow_x": null,
            "overflow_y": null,
            "padding": null,
            "right": null,
            "top": null,
            "visibility": null,
            "width": null
          }
        },
        "b66dfc8a27704b9ba81aacb464b3b2b2": {
          "model_module": "@jupyter-widgets/controls",
          "model_name": "DescriptionStyleModel",
          "model_module_version": "1.5.0",
          "state": {
            "_model_module": "@jupyter-widgets/controls",
            "_model_module_version": "1.5.0",
            "_model_name": "DescriptionStyleModel",
            "_view_count": null,
            "_view_module": "@jupyter-widgets/base",
            "_view_module_version": "1.2.0",
            "_view_name": "StyleView",
            "description_width": ""
          }
        },
        "8bba13ad0121412aa090d6cbf13ff26b": {
          "model_module": "@jupyter-widgets/controls",
          "model_name": "HBoxModel",
          "model_module_version": "1.5.0",
          "state": {
            "_dom_classes": [],
            "_model_module": "@jupyter-widgets/controls",
            "_model_module_version": "1.5.0",
            "_model_name": "HBoxModel",
            "_view_count": null,
            "_view_module": "@jupyter-widgets/controls",
            "_view_module_version": "1.5.0",
            "_view_name": "HBoxView",
            "box_style": "",
            "children": [
              "IPY_MODEL_81341b3a7d39471ba8b1c970da6e5873",
              "IPY_MODEL_87456c618ced4484b602f48a727ccdd7",
              "IPY_MODEL_fd7eff682f2d40e0b20b12e3463d2350"
            ],
            "layout": "IPY_MODEL_47a1e788c57f4a948500cc8ba3c50852"
          }
        },
        "81341b3a7d39471ba8b1c970da6e5873": {
          "model_module": "@jupyter-widgets/controls",
          "model_name": "HTMLModel",
          "model_module_version": "1.5.0",
          "state": {
            "_dom_classes": [],
            "_model_module": "@jupyter-widgets/controls",
            "_model_module_version": "1.5.0",
            "_model_name": "HTMLModel",
            "_view_count": null,
            "_view_module": "@jupyter-widgets/controls",
            "_view_module_version": "1.5.0",
            "_view_name": "HTMLView",
            "description": "",
            "description_tooltip": null,
            "layout": "IPY_MODEL_e07ef0e5ce4148f9800fed59222a2943",
            "placeholder": "​",
            "style": "IPY_MODEL_294170baf0c54bfeafa1f763cfb2b0d1",
            "value": "100%"
          }
        },
        "87456c618ced4484b602f48a727ccdd7": {
          "model_module": "@jupyter-widgets/controls",
          "model_name": "FloatProgressModel",
          "model_module_version": "1.5.0",
          "state": {
            "_dom_classes": [],
            "_model_module": "@jupyter-widgets/controls",
            "_model_module_version": "1.5.0",
            "_model_name": "FloatProgressModel",
            "_view_count": null,
            "_view_module": "@jupyter-widgets/controls",
            "_view_module_version": "1.5.0",
            "_view_name": "ProgressView",
            "bar_style": "success",
            "description": "",
            "description_tooltip": null,
            "layout": "IPY_MODEL_263ae26587854020bf655e12dcd935d9",
            "max": 4554,
            "min": 0,
            "orientation": "horizontal",
            "style": "IPY_MODEL_4dae86d96033416b824a80637d495755",
            "value": 4554
          }
        },
        "fd7eff682f2d40e0b20b12e3463d2350": {
          "model_module": "@jupyter-widgets/controls",
          "model_name": "HTMLModel",
          "model_module_version": "1.5.0",
          "state": {
            "_dom_classes": [],
            "_model_module": "@jupyter-widgets/controls",
            "_model_module_version": "1.5.0",
            "_model_name": "HTMLModel",
            "_view_count": null,
            "_view_module": "@jupyter-widgets/controls",
            "_view_module_version": "1.5.0",
            "_view_name": "HTMLView",
            "description": "",
            "description_tooltip": null,
            "layout": "IPY_MODEL_6a40de8a208a4c5a88dc91eb26c96d94",
            "placeholder": "​",
            "style": "IPY_MODEL_e6007a1fe34042c1950150c0ed4381b2",
            "value": " 4554/4554 [38:09&lt;00:00,  2.03it/s]"
          }
        },
        "47a1e788c57f4a948500cc8ba3c50852": {
          "model_module": "@jupyter-widgets/base",
          "model_name": "LayoutModel",
          "model_module_version": "1.2.0",
          "state": {
            "_model_module": "@jupyter-widgets/base",
            "_model_module_version": "1.2.0",
            "_model_name": "LayoutModel",
            "_view_count": null,
            "_view_module": "@jupyter-widgets/base",
            "_view_module_version": "1.2.0",
            "_view_name": "LayoutView",
            "align_content": null,
            "align_items": null,
            "align_self": null,
            "border": null,
            "bottom": null,
            "display": null,
            "flex": null,
            "flex_flow": null,
            "grid_area": null,
            "grid_auto_columns": null,
            "grid_auto_flow": null,
            "grid_auto_rows": null,
            "grid_column": null,
            "grid_gap": null,
            "grid_row": null,
            "grid_template_areas": null,
            "grid_template_columns": null,
            "grid_template_rows": null,
            "height": null,
            "justify_content": null,
            "justify_items": null,
            "left": null,
            "margin": null,
            "max_height": null,
            "max_width": null,
            "min_height": null,
            "min_width": null,
            "object_fit": null,
            "object_position": null,
            "order": null,
            "overflow": null,
            "overflow_x": null,
            "overflow_y": null,
            "padding": null,
            "right": null,
            "top": null,
            "visibility": null,
            "width": null
          }
        },
        "e07ef0e5ce4148f9800fed59222a2943": {
          "model_module": "@jupyter-widgets/base",
          "model_name": "LayoutModel",
          "model_module_version": "1.2.0",
          "state": {
            "_model_module": "@jupyter-widgets/base",
            "_model_module_version": "1.2.0",
            "_model_name": "LayoutModel",
            "_view_count": null,
            "_view_module": "@jupyter-widgets/base",
            "_view_module_version": "1.2.0",
            "_view_name": "LayoutView",
            "align_content": null,
            "align_items": null,
            "align_self": null,
            "border": null,
            "bottom": null,
            "display": null,
            "flex": null,
            "flex_flow": null,
            "grid_area": null,
            "grid_auto_columns": null,
            "grid_auto_flow": null,
            "grid_auto_rows": null,
            "grid_column": null,
            "grid_gap": null,
            "grid_row": null,
            "grid_template_areas": null,
            "grid_template_columns": null,
            "grid_template_rows": null,
            "height": null,
            "justify_content": null,
            "justify_items": null,
            "left": null,
            "margin": null,
            "max_height": null,
            "max_width": null,
            "min_height": null,
            "min_width": null,
            "object_fit": null,
            "object_position": null,
            "order": null,
            "overflow": null,
            "overflow_x": null,
            "overflow_y": null,
            "padding": null,
            "right": null,
            "top": null,
            "visibility": null,
            "width": null
          }
        },
        "294170baf0c54bfeafa1f763cfb2b0d1": {
          "model_module": "@jupyter-widgets/controls",
          "model_name": "DescriptionStyleModel",
          "model_module_version": "1.5.0",
          "state": {
            "_model_module": "@jupyter-widgets/controls",
            "_model_module_version": "1.5.0",
            "_model_name": "DescriptionStyleModel",
            "_view_count": null,
            "_view_module": "@jupyter-widgets/base",
            "_view_module_version": "1.2.0",
            "_view_name": "StyleView",
            "description_width": ""
          }
        },
        "263ae26587854020bf655e12dcd935d9": {
          "model_module": "@jupyter-widgets/base",
          "model_name": "LayoutModel",
          "model_module_version": "1.2.0",
          "state": {
            "_model_module": "@jupyter-widgets/base",
            "_model_module_version": "1.2.0",
            "_model_name": "LayoutModel",
            "_view_count": null,
            "_view_module": "@jupyter-widgets/base",
            "_view_module_version": "1.2.0",
            "_view_name": "LayoutView",
            "align_content": null,
            "align_items": null,
            "align_self": null,
            "border": null,
            "bottom": null,
            "display": null,
            "flex": null,
            "flex_flow": null,
            "grid_area": null,
            "grid_auto_columns": null,
            "grid_auto_flow": null,
            "grid_auto_rows": null,
            "grid_column": null,
            "grid_gap": null,
            "grid_row": null,
            "grid_template_areas": null,
            "grid_template_columns": null,
            "grid_template_rows": null,
            "height": null,
            "justify_content": null,
            "justify_items": null,
            "left": null,
            "margin": null,
            "max_height": null,
            "max_width": null,
            "min_height": null,
            "min_width": null,
            "object_fit": null,
            "object_position": null,
            "order": null,
            "overflow": null,
            "overflow_x": null,
            "overflow_y": null,
            "padding": null,
            "right": null,
            "top": null,
            "visibility": null,
            "width": null
          }
        },
        "4dae86d96033416b824a80637d495755": {
          "model_module": "@jupyter-widgets/controls",
          "model_name": "ProgressStyleModel",
          "model_module_version": "1.5.0",
          "state": {
            "_model_module": "@jupyter-widgets/controls",
            "_model_module_version": "1.5.0",
            "_model_name": "ProgressStyleModel",
            "_view_count": null,
            "_view_module": "@jupyter-widgets/base",
            "_view_module_version": "1.2.0",
            "_view_name": "StyleView",
            "bar_color": null,
            "description_width": ""
          }
        },
        "6a40de8a208a4c5a88dc91eb26c96d94": {
          "model_module": "@jupyter-widgets/base",
          "model_name": "LayoutModel",
          "model_module_version": "1.2.0",
          "state": {
            "_model_module": "@jupyter-widgets/base",
            "_model_module_version": "1.2.0",
            "_model_name": "LayoutModel",
            "_view_count": null,
            "_view_module": "@jupyter-widgets/base",
            "_view_module_version": "1.2.0",
            "_view_name": "LayoutView",
            "align_content": null,
            "align_items": null,
            "align_self": null,
            "border": null,
            "bottom": null,
            "display": null,
            "flex": null,
            "flex_flow": null,
            "grid_area": null,
            "grid_auto_columns": null,
            "grid_auto_flow": null,
            "grid_auto_rows": null,
            "grid_column": null,
            "grid_gap": null,
            "grid_row": null,
            "grid_template_areas": null,
            "grid_template_columns": null,
            "grid_template_rows": null,
            "height": null,
            "justify_content": null,
            "justify_items": null,
            "left": null,
            "margin": null,
            "max_height": null,
            "max_width": null,
            "min_height": null,
            "min_width": null,
            "object_fit": null,
            "object_position": null,
            "order": null,
            "overflow": null,
            "overflow_x": null,
            "overflow_y": null,
            "padding": null,
            "right": null,
            "top": null,
            "visibility": null,
            "width": null
          }
        },
        "e6007a1fe34042c1950150c0ed4381b2": {
          "model_module": "@jupyter-widgets/controls",
          "model_name": "DescriptionStyleModel",
          "model_module_version": "1.5.0",
          "state": {
            "_model_module": "@jupyter-widgets/controls",
            "_model_module_version": "1.5.0",
            "_model_name": "DescriptionStyleModel",
            "_view_count": null,
            "_view_module": "@jupyter-widgets/base",
            "_view_module_version": "1.2.0",
            "_view_name": "StyleView",
            "description_width": ""
          }
        },
        "39013130fb8b40338b4267b5b9abf83a": {
          "model_module": "@jupyter-widgets/controls",
          "model_name": "HBoxModel",
          "model_module_version": "1.5.0",
          "state": {
            "_dom_classes": [],
            "_model_module": "@jupyter-widgets/controls",
            "_model_module_version": "1.5.0",
            "_model_name": "HBoxModel",
            "_view_count": null,
            "_view_module": "@jupyter-widgets/controls",
            "_view_module_version": "1.5.0",
            "_view_name": "HBoxView",
            "box_style": "",
            "children": [
              "IPY_MODEL_f3695b50614845d38c8f13dfeeee9d86",
              "IPY_MODEL_07023e1217904727820a18cebe21e6f0",
              "IPY_MODEL_f8fde235928d4a379e60fe56bb0559b3"
            ],
            "layout": "IPY_MODEL_4ed7705d72b24fb2b9c68aec5a2db02d"
          }
        },
        "f3695b50614845d38c8f13dfeeee9d86": {
          "model_module": "@jupyter-widgets/controls",
          "model_name": "HTMLModel",
          "model_module_version": "1.5.0",
          "state": {
            "_dom_classes": [],
            "_model_module": "@jupyter-widgets/controls",
            "_model_module_version": "1.5.0",
            "_model_name": "HTMLModel",
            "_view_count": null,
            "_view_module": "@jupyter-widgets/controls",
            "_view_module_version": "1.5.0",
            "_view_name": "HTMLView",
            "description": "",
            "description_tooltip": null,
            "layout": "IPY_MODEL_c8efd4d3bf904cc59a6bea07685e67a1",
            "placeholder": "​",
            "style": "IPY_MODEL_3927aa0936fb4bb3b6507ef995079ddf",
            "value": "100%"
          }
        },
        "07023e1217904727820a18cebe21e6f0": {
          "model_module": "@jupyter-widgets/controls",
          "model_name": "FloatProgressModel",
          "model_module_version": "1.5.0",
          "state": {
            "_dom_classes": [],
            "_model_module": "@jupyter-widgets/controls",
            "_model_module_version": "1.5.0",
            "_model_name": "FloatProgressModel",
            "_view_count": null,
            "_view_module": "@jupyter-widgets/controls",
            "_view_module_version": "1.5.0",
            "_view_name": "ProgressView",
            "bar_style": "success",
            "description": "",
            "description_tooltip": null,
            "layout": "IPY_MODEL_835cf91130eb4158b04d2a011f131302",
            "max": 4554,
            "min": 0,
            "orientation": "horizontal",
            "style": "IPY_MODEL_b943ddada6a2469d901f3bfb59657b66",
            "value": 4554
          }
        },
        "f8fde235928d4a379e60fe56bb0559b3": {
          "model_module": "@jupyter-widgets/controls",
          "model_name": "HTMLModel",
          "model_module_version": "1.5.0",
          "state": {
            "_dom_classes": [],
            "_model_module": "@jupyter-widgets/controls",
            "_model_module_version": "1.5.0",
            "_model_name": "HTMLModel",
            "_view_count": null,
            "_view_module": "@jupyter-widgets/controls",
            "_view_module_version": "1.5.0",
            "_view_name": "HTMLView",
            "description": "",
            "description_tooltip": null,
            "layout": "IPY_MODEL_d501bf5f799e412cbf1d38da41e4d219",
            "placeholder": "​",
            "style": "IPY_MODEL_8fb946a591a04b7c8572bda7a846305d",
            "value": " 4554/4554 [38:05&lt;00:00,  1.75it/s]"
          }
        },
        "4ed7705d72b24fb2b9c68aec5a2db02d": {
          "model_module": "@jupyter-widgets/base",
          "model_name": "LayoutModel",
          "model_module_version": "1.2.0",
          "state": {
            "_model_module": "@jupyter-widgets/base",
            "_model_module_version": "1.2.0",
            "_model_name": "LayoutModel",
            "_view_count": null,
            "_view_module": "@jupyter-widgets/base",
            "_view_module_version": "1.2.0",
            "_view_name": "LayoutView",
            "align_content": null,
            "align_items": null,
            "align_self": null,
            "border": null,
            "bottom": null,
            "display": null,
            "flex": null,
            "flex_flow": null,
            "grid_area": null,
            "grid_auto_columns": null,
            "grid_auto_flow": null,
            "grid_auto_rows": null,
            "grid_column": null,
            "grid_gap": null,
            "grid_row": null,
            "grid_template_areas": null,
            "grid_template_columns": null,
            "grid_template_rows": null,
            "height": null,
            "justify_content": null,
            "justify_items": null,
            "left": null,
            "margin": null,
            "max_height": null,
            "max_width": null,
            "min_height": null,
            "min_width": null,
            "object_fit": null,
            "object_position": null,
            "order": null,
            "overflow": null,
            "overflow_x": null,
            "overflow_y": null,
            "padding": null,
            "right": null,
            "top": null,
            "visibility": null,
            "width": null
          }
        },
        "c8efd4d3bf904cc59a6bea07685e67a1": {
          "model_module": "@jupyter-widgets/base",
          "model_name": "LayoutModel",
          "model_module_version": "1.2.0",
          "state": {
            "_model_module": "@jupyter-widgets/base",
            "_model_module_version": "1.2.0",
            "_model_name": "LayoutModel",
            "_view_count": null,
            "_view_module": "@jupyter-widgets/base",
            "_view_module_version": "1.2.0",
            "_view_name": "LayoutView",
            "align_content": null,
            "align_items": null,
            "align_self": null,
            "border": null,
            "bottom": null,
            "display": null,
            "flex": null,
            "flex_flow": null,
            "grid_area": null,
            "grid_auto_columns": null,
            "grid_auto_flow": null,
            "grid_auto_rows": null,
            "grid_column": null,
            "grid_gap": null,
            "grid_row": null,
            "grid_template_areas": null,
            "grid_template_columns": null,
            "grid_template_rows": null,
            "height": null,
            "justify_content": null,
            "justify_items": null,
            "left": null,
            "margin": null,
            "max_height": null,
            "max_width": null,
            "min_height": null,
            "min_width": null,
            "object_fit": null,
            "object_position": null,
            "order": null,
            "overflow": null,
            "overflow_x": null,
            "overflow_y": null,
            "padding": null,
            "right": null,
            "top": null,
            "visibility": null,
            "width": null
          }
        },
        "3927aa0936fb4bb3b6507ef995079ddf": {
          "model_module": "@jupyter-widgets/controls",
          "model_name": "DescriptionStyleModel",
          "model_module_version": "1.5.0",
          "state": {
            "_model_module": "@jupyter-widgets/controls",
            "_model_module_version": "1.5.0",
            "_model_name": "DescriptionStyleModel",
            "_view_count": null,
            "_view_module": "@jupyter-widgets/base",
            "_view_module_version": "1.2.0",
            "_view_name": "StyleView",
            "description_width": ""
          }
        },
        "835cf91130eb4158b04d2a011f131302": {
          "model_module": "@jupyter-widgets/base",
          "model_name": "LayoutModel",
          "model_module_version": "1.2.0",
          "state": {
            "_model_module": "@jupyter-widgets/base",
            "_model_module_version": "1.2.0",
            "_model_name": "LayoutModel",
            "_view_count": null,
            "_view_module": "@jupyter-widgets/base",
            "_view_module_version": "1.2.0",
            "_view_name": "LayoutView",
            "align_content": null,
            "align_items": null,
            "align_self": null,
            "border": null,
            "bottom": null,
            "display": null,
            "flex": null,
            "flex_flow": null,
            "grid_area": null,
            "grid_auto_columns": null,
            "grid_auto_flow": null,
            "grid_auto_rows": null,
            "grid_column": null,
            "grid_gap": null,
            "grid_row": null,
            "grid_template_areas": null,
            "grid_template_columns": null,
            "grid_template_rows": null,
            "height": null,
            "justify_content": null,
            "justify_items": null,
            "left": null,
            "margin": null,
            "max_height": null,
            "max_width": null,
            "min_height": null,
            "min_width": null,
            "object_fit": null,
            "object_position": null,
            "order": null,
            "overflow": null,
            "overflow_x": null,
            "overflow_y": null,
            "padding": null,
            "right": null,
            "top": null,
            "visibility": null,
            "width": null
          }
        },
        "b943ddada6a2469d901f3bfb59657b66": {
          "model_module": "@jupyter-widgets/controls",
          "model_name": "ProgressStyleModel",
          "model_module_version": "1.5.0",
          "state": {
            "_model_module": "@jupyter-widgets/controls",
            "_model_module_version": "1.5.0",
            "_model_name": "ProgressStyleModel",
            "_view_count": null,
            "_view_module": "@jupyter-widgets/base",
            "_view_module_version": "1.2.0",
            "_view_name": "StyleView",
            "bar_color": null,
            "description_width": ""
          }
        },
        "d501bf5f799e412cbf1d38da41e4d219": {
          "model_module": "@jupyter-widgets/base",
          "model_name": "LayoutModel",
          "model_module_version": "1.2.0",
          "state": {
            "_model_module": "@jupyter-widgets/base",
            "_model_module_version": "1.2.0",
            "_model_name": "LayoutModel",
            "_view_count": null,
            "_view_module": "@jupyter-widgets/base",
            "_view_module_version": "1.2.0",
            "_view_name": "LayoutView",
            "align_content": null,
            "align_items": null,
            "align_self": null,
            "border": null,
            "bottom": null,
            "display": null,
            "flex": null,
            "flex_flow": null,
            "grid_area": null,
            "grid_auto_columns": null,
            "grid_auto_flow": null,
            "grid_auto_rows": null,
            "grid_column": null,
            "grid_gap": null,
            "grid_row": null,
            "grid_template_areas": null,
            "grid_template_columns": null,
            "grid_template_rows": null,
            "height": null,
            "justify_content": null,
            "justify_items": null,
            "left": null,
            "margin": null,
            "max_height": null,
            "max_width": null,
            "min_height": null,
            "min_width": null,
            "object_fit": null,
            "object_position": null,
            "order": null,
            "overflow": null,
            "overflow_x": null,
            "overflow_y": null,
            "padding": null,
            "right": null,
            "top": null,
            "visibility": null,
            "width": null
          }
        },
        "8fb946a591a04b7c8572bda7a846305d": {
          "model_module": "@jupyter-widgets/controls",
          "model_name": "DescriptionStyleModel",
          "model_module_version": "1.5.0",
          "state": {
            "_model_module": "@jupyter-widgets/controls",
            "_model_module_version": "1.5.0",
            "_model_name": "DescriptionStyleModel",
            "_view_count": null,
            "_view_module": "@jupyter-widgets/base",
            "_view_module_version": "1.2.0",
            "_view_name": "StyleView",
            "description_width": ""
          }
        },
        "0dbd27ed802d4319b84130096c8d772a": {
          "model_module": "@jupyter-widgets/controls",
          "model_name": "HBoxModel",
          "model_module_version": "1.5.0",
          "state": {
            "_dom_classes": [],
            "_model_module": "@jupyter-widgets/controls",
            "_model_module_version": "1.5.0",
            "_model_name": "HBoxModel",
            "_view_count": null,
            "_view_module": "@jupyter-widgets/controls",
            "_view_module_version": "1.5.0",
            "_view_name": "HBoxView",
            "box_style": "",
            "children": [
              "IPY_MODEL_22c70cf1eba84950a2201067b196a6e6",
              "IPY_MODEL_43263f6fc8de43ac965658a5308ffbbe",
              "IPY_MODEL_b50f6dbb325d4d43b1cc81a46d638c28"
            ],
            "layout": "IPY_MODEL_20ae8e67c22c41e882ba6458c2ed8953"
          }
        },
        "22c70cf1eba84950a2201067b196a6e6": {
          "model_module": "@jupyter-widgets/controls",
          "model_name": "HTMLModel",
          "model_module_version": "1.5.0",
          "state": {
            "_dom_classes": [],
            "_model_module": "@jupyter-widgets/controls",
            "_model_module_version": "1.5.0",
            "_model_name": "HTMLModel",
            "_view_count": null,
            "_view_module": "@jupyter-widgets/controls",
            "_view_module_version": "1.5.0",
            "_view_name": "HTMLView",
            "description": "",
            "description_tooltip": null,
            "layout": "IPY_MODEL_e5569cd4d2ef4b3e9d2a9498fa7d9204",
            "placeholder": "​",
            "style": "IPY_MODEL_1c10cfe9f3ca4cfd8087ab02c145bced",
            "value": "100%"
          }
        },
        "43263f6fc8de43ac965658a5308ffbbe": {
          "model_module": "@jupyter-widgets/controls",
          "model_name": "FloatProgressModel",
          "model_module_version": "1.5.0",
          "state": {
            "_dom_classes": [],
            "_model_module": "@jupyter-widgets/controls",
            "_model_module_version": "1.5.0",
            "_model_name": "FloatProgressModel",
            "_view_count": null,
            "_view_module": "@jupyter-widgets/controls",
            "_view_module_version": "1.5.0",
            "_view_name": "ProgressView",
            "bar_style": "success",
            "description": "",
            "description_tooltip": null,
            "layout": "IPY_MODEL_4c6771238d9343049ab4f0cbe048ab32",
            "max": 4554,
            "min": 0,
            "orientation": "horizontal",
            "style": "IPY_MODEL_f548843bb981450abf530458a368fa95",
            "value": 4554
          }
        },
        "b50f6dbb325d4d43b1cc81a46d638c28": {
          "model_module": "@jupyter-widgets/controls",
          "model_name": "HTMLModel",
          "model_module_version": "1.5.0",
          "state": {
            "_dom_classes": [],
            "_model_module": "@jupyter-widgets/controls",
            "_model_module_version": "1.5.0",
            "_model_name": "HTMLModel",
            "_view_count": null,
            "_view_module": "@jupyter-widgets/controls",
            "_view_module_version": "1.5.0",
            "_view_name": "HTMLView",
            "description": "",
            "description_tooltip": null,
            "layout": "IPY_MODEL_663298e772044661b4bbf93abc946118",
            "placeholder": "​",
            "style": "IPY_MODEL_25b42a857e7b4d5099f00c4dfb3d7ee8",
            "value": " 4554/4554 [55:35&lt;00:00,  1.48it/s]"
          }
        },
        "20ae8e67c22c41e882ba6458c2ed8953": {
          "model_module": "@jupyter-widgets/base",
          "model_name": "LayoutModel",
          "model_module_version": "1.2.0",
          "state": {
            "_model_module": "@jupyter-widgets/base",
            "_model_module_version": "1.2.0",
            "_model_name": "LayoutModel",
            "_view_count": null,
            "_view_module": "@jupyter-widgets/base",
            "_view_module_version": "1.2.0",
            "_view_name": "LayoutView",
            "align_content": null,
            "align_items": null,
            "align_self": null,
            "border": null,
            "bottom": null,
            "display": null,
            "flex": null,
            "flex_flow": null,
            "grid_area": null,
            "grid_auto_columns": null,
            "grid_auto_flow": null,
            "grid_auto_rows": null,
            "grid_column": null,
            "grid_gap": null,
            "grid_row": null,
            "grid_template_areas": null,
            "grid_template_columns": null,
            "grid_template_rows": null,
            "height": null,
            "justify_content": null,
            "justify_items": null,
            "left": null,
            "margin": null,
            "max_height": null,
            "max_width": null,
            "min_height": null,
            "min_width": null,
            "object_fit": null,
            "object_position": null,
            "order": null,
            "overflow": null,
            "overflow_x": null,
            "overflow_y": null,
            "padding": null,
            "right": null,
            "top": null,
            "visibility": null,
            "width": null
          }
        },
        "e5569cd4d2ef4b3e9d2a9498fa7d9204": {
          "model_module": "@jupyter-widgets/base",
          "model_name": "LayoutModel",
          "model_module_version": "1.2.0",
          "state": {
            "_model_module": "@jupyter-widgets/base",
            "_model_module_version": "1.2.0",
            "_model_name": "LayoutModel",
            "_view_count": null,
            "_view_module": "@jupyter-widgets/base",
            "_view_module_version": "1.2.0",
            "_view_name": "LayoutView",
            "align_content": null,
            "align_items": null,
            "align_self": null,
            "border": null,
            "bottom": null,
            "display": null,
            "flex": null,
            "flex_flow": null,
            "grid_area": null,
            "grid_auto_columns": null,
            "grid_auto_flow": null,
            "grid_auto_rows": null,
            "grid_column": null,
            "grid_gap": null,
            "grid_row": null,
            "grid_template_areas": null,
            "grid_template_columns": null,
            "grid_template_rows": null,
            "height": null,
            "justify_content": null,
            "justify_items": null,
            "left": null,
            "margin": null,
            "max_height": null,
            "max_width": null,
            "min_height": null,
            "min_width": null,
            "object_fit": null,
            "object_position": null,
            "order": null,
            "overflow": null,
            "overflow_x": null,
            "overflow_y": null,
            "padding": null,
            "right": null,
            "top": null,
            "visibility": null,
            "width": null
          }
        },
        "1c10cfe9f3ca4cfd8087ab02c145bced": {
          "model_module": "@jupyter-widgets/controls",
          "model_name": "DescriptionStyleModel",
          "model_module_version": "1.5.0",
          "state": {
            "_model_module": "@jupyter-widgets/controls",
            "_model_module_version": "1.5.0",
            "_model_name": "DescriptionStyleModel",
            "_view_count": null,
            "_view_module": "@jupyter-widgets/base",
            "_view_module_version": "1.2.0",
            "_view_name": "StyleView",
            "description_width": ""
          }
        },
        "4c6771238d9343049ab4f0cbe048ab32": {
          "model_module": "@jupyter-widgets/base",
          "model_name": "LayoutModel",
          "model_module_version": "1.2.0",
          "state": {
            "_model_module": "@jupyter-widgets/base",
            "_model_module_version": "1.2.0",
            "_model_name": "LayoutModel",
            "_view_count": null,
            "_view_module": "@jupyter-widgets/base",
            "_view_module_version": "1.2.0",
            "_view_name": "LayoutView",
            "align_content": null,
            "align_items": null,
            "align_self": null,
            "border": null,
            "bottom": null,
            "display": null,
            "flex": null,
            "flex_flow": null,
            "grid_area": null,
            "grid_auto_columns": null,
            "grid_auto_flow": null,
            "grid_auto_rows": null,
            "grid_column": null,
            "grid_gap": null,
            "grid_row": null,
            "grid_template_areas": null,
            "grid_template_columns": null,
            "grid_template_rows": null,
            "height": null,
            "justify_content": null,
            "justify_items": null,
            "left": null,
            "margin": null,
            "max_height": null,
            "max_width": null,
            "min_height": null,
            "min_width": null,
            "object_fit": null,
            "object_position": null,
            "order": null,
            "overflow": null,
            "overflow_x": null,
            "overflow_y": null,
            "padding": null,
            "right": null,
            "top": null,
            "visibility": null,
            "width": null
          }
        },
        "f548843bb981450abf530458a368fa95": {
          "model_module": "@jupyter-widgets/controls",
          "model_name": "ProgressStyleModel",
          "model_module_version": "1.5.0",
          "state": {
            "_model_module": "@jupyter-widgets/controls",
            "_model_module_version": "1.5.0",
            "_model_name": "ProgressStyleModel",
            "_view_count": null,
            "_view_module": "@jupyter-widgets/base",
            "_view_module_version": "1.2.0",
            "_view_name": "StyleView",
            "bar_color": null,
            "description_width": ""
          }
        },
        "663298e772044661b4bbf93abc946118": {
          "model_module": "@jupyter-widgets/base",
          "model_name": "LayoutModel",
          "model_module_version": "1.2.0",
          "state": {
            "_model_module": "@jupyter-widgets/base",
            "_model_module_version": "1.2.0",
            "_model_name": "LayoutModel",
            "_view_count": null,
            "_view_module": "@jupyter-widgets/base",
            "_view_module_version": "1.2.0",
            "_view_name": "LayoutView",
            "align_content": null,
            "align_items": null,
            "align_self": null,
            "border": null,
            "bottom": null,
            "display": null,
            "flex": null,
            "flex_flow": null,
            "grid_area": null,
            "grid_auto_columns": null,
            "grid_auto_flow": null,
            "grid_auto_rows": null,
            "grid_column": null,
            "grid_gap": null,
            "grid_row": null,
            "grid_template_areas": null,
            "grid_template_columns": null,
            "grid_template_rows": null,
            "height": null,
            "justify_content": null,
            "justify_items": null,
            "left": null,
            "margin": null,
            "max_height": null,
            "max_width": null,
            "min_height": null,
            "min_width": null,
            "object_fit": null,
            "object_position": null,
            "order": null,
            "overflow": null,
            "overflow_x": null,
            "overflow_y": null,
            "padding": null,
            "right": null,
            "top": null,
            "visibility": null,
            "width": null
          }
        },
        "25b42a857e7b4d5099f00c4dfb3d7ee8": {
          "model_module": "@jupyter-widgets/controls",
          "model_name": "DescriptionStyleModel",
          "model_module_version": "1.5.0",
          "state": {
            "_model_module": "@jupyter-widgets/controls",
            "_model_module_version": "1.5.0",
            "_model_name": "DescriptionStyleModel",
            "_view_count": null,
            "_view_module": "@jupyter-widgets/base",
            "_view_module_version": "1.2.0",
            "_view_name": "StyleView",
            "description_width": ""
          }
        },
        "b6b1a5e4b95446f38b9daab8f77151eb": {
          "model_module": "@jupyter-widgets/controls",
          "model_name": "HBoxModel",
          "model_module_version": "1.5.0",
          "state": {
            "_dom_classes": [],
            "_model_module": "@jupyter-widgets/controls",
            "_model_module_version": "1.5.0",
            "_model_name": "HBoxModel",
            "_view_count": null,
            "_view_module": "@jupyter-widgets/controls",
            "_view_module_version": "1.5.0",
            "_view_name": "HBoxView",
            "box_style": "",
            "children": [
              "IPY_MODEL_4f964ab7fa0545e6a7410b9f0235f423",
              "IPY_MODEL_4a178e7cf69646aebc139c0e87c24e79",
              "IPY_MODEL_97899ff7fc354d1790271b4c257e5945"
            ],
            "layout": "IPY_MODEL_e578c6aca29146d7beb257cd0cbd9d29"
          }
        },
        "4f964ab7fa0545e6a7410b9f0235f423": {
          "model_module": "@jupyter-widgets/controls",
          "model_name": "HTMLModel",
          "model_module_version": "1.5.0",
          "state": {
            "_dom_classes": [],
            "_model_module": "@jupyter-widgets/controls",
            "_model_module_version": "1.5.0",
            "_model_name": "HTMLModel",
            "_view_count": null,
            "_view_module": "@jupyter-widgets/controls",
            "_view_module_version": "1.5.0",
            "_view_name": "HTMLView",
            "description": "",
            "description_tooltip": null,
            "layout": "IPY_MODEL_1043e970f8914695b4a3f8051bdb5730",
            "placeholder": "​",
            "style": "IPY_MODEL_d9de53ef35dd4040a47a19e486649542",
            "value": "100%"
          }
        },
        "4a178e7cf69646aebc139c0e87c24e79": {
          "model_module": "@jupyter-widgets/controls",
          "model_name": "FloatProgressModel",
          "model_module_version": "1.5.0",
          "state": {
            "_dom_classes": [],
            "_model_module": "@jupyter-widgets/controls",
            "_model_module_version": "1.5.0",
            "_model_name": "FloatProgressModel",
            "_view_count": null,
            "_view_module": "@jupyter-widgets/controls",
            "_view_module_version": "1.5.0",
            "_view_name": "ProgressView",
            "bar_style": "success",
            "description": "",
            "description_tooltip": null,
            "layout": "IPY_MODEL_d7b93431ccef4763b62936cb4a34ca83",
            "max": 4554,
            "min": 0,
            "orientation": "horizontal",
            "style": "IPY_MODEL_d2431b699d0346e38eb72b747404c46b",
            "value": 4554
          }
        },
        "97899ff7fc354d1790271b4c257e5945": {
          "model_module": "@jupyter-widgets/controls",
          "model_name": "HTMLModel",
          "model_module_version": "1.5.0",
          "state": {
            "_dom_classes": [],
            "_model_module": "@jupyter-widgets/controls",
            "_model_module_version": "1.5.0",
            "_model_name": "HTMLModel",
            "_view_count": null,
            "_view_module": "@jupyter-widgets/controls",
            "_view_module_version": "1.5.0",
            "_view_name": "HTMLView",
            "description": "",
            "description_tooltip": null,
            "layout": "IPY_MODEL_9b5100e01c9b48bfbbdce6c65fde5b53",
            "placeholder": "​",
            "style": "IPY_MODEL_39e566fd6fc947d08f0b8426a3557547",
            "value": " 4554/4554 [55:35&lt;00:00,  1.06s/it]"
          }
        },
        "e578c6aca29146d7beb257cd0cbd9d29": {
          "model_module": "@jupyter-widgets/base",
          "model_name": "LayoutModel",
          "model_module_version": "1.2.0",
          "state": {
            "_model_module": "@jupyter-widgets/base",
            "_model_module_version": "1.2.0",
            "_model_name": "LayoutModel",
            "_view_count": null,
            "_view_module": "@jupyter-widgets/base",
            "_view_module_version": "1.2.0",
            "_view_name": "LayoutView",
            "align_content": null,
            "align_items": null,
            "align_self": null,
            "border": null,
            "bottom": null,
            "display": null,
            "flex": null,
            "flex_flow": null,
            "grid_area": null,
            "grid_auto_columns": null,
            "grid_auto_flow": null,
            "grid_auto_rows": null,
            "grid_column": null,
            "grid_gap": null,
            "grid_row": null,
            "grid_template_areas": null,
            "grid_template_columns": null,
            "grid_template_rows": null,
            "height": null,
            "justify_content": null,
            "justify_items": null,
            "left": null,
            "margin": null,
            "max_height": null,
            "max_width": null,
            "min_height": null,
            "min_width": null,
            "object_fit": null,
            "object_position": null,
            "order": null,
            "overflow": null,
            "overflow_x": null,
            "overflow_y": null,
            "padding": null,
            "right": null,
            "top": null,
            "visibility": null,
            "width": null
          }
        },
        "1043e970f8914695b4a3f8051bdb5730": {
          "model_module": "@jupyter-widgets/base",
          "model_name": "LayoutModel",
          "model_module_version": "1.2.0",
          "state": {
            "_model_module": "@jupyter-widgets/base",
            "_model_module_version": "1.2.0",
            "_model_name": "LayoutModel",
            "_view_count": null,
            "_view_module": "@jupyter-widgets/base",
            "_view_module_version": "1.2.0",
            "_view_name": "LayoutView",
            "align_content": null,
            "align_items": null,
            "align_self": null,
            "border": null,
            "bottom": null,
            "display": null,
            "flex": null,
            "flex_flow": null,
            "grid_area": null,
            "grid_auto_columns": null,
            "grid_auto_flow": null,
            "grid_auto_rows": null,
            "grid_column": null,
            "grid_gap": null,
            "grid_row": null,
            "grid_template_areas": null,
            "grid_template_columns": null,
            "grid_template_rows": null,
            "height": null,
            "justify_content": null,
            "justify_items": null,
            "left": null,
            "margin": null,
            "max_height": null,
            "max_width": null,
            "min_height": null,
            "min_width": null,
            "object_fit": null,
            "object_position": null,
            "order": null,
            "overflow": null,
            "overflow_x": null,
            "overflow_y": null,
            "padding": null,
            "right": null,
            "top": null,
            "visibility": null,
            "width": null
          }
        },
        "d9de53ef35dd4040a47a19e486649542": {
          "model_module": "@jupyter-widgets/controls",
          "model_name": "DescriptionStyleModel",
          "model_module_version": "1.5.0",
          "state": {
            "_model_module": "@jupyter-widgets/controls",
            "_model_module_version": "1.5.0",
            "_model_name": "DescriptionStyleModel",
            "_view_count": null,
            "_view_module": "@jupyter-widgets/base",
            "_view_module_version": "1.2.0",
            "_view_name": "StyleView",
            "description_width": ""
          }
        },
        "d7b93431ccef4763b62936cb4a34ca83": {
          "model_module": "@jupyter-widgets/base",
          "model_name": "LayoutModel",
          "model_module_version": "1.2.0",
          "state": {
            "_model_module": "@jupyter-widgets/base",
            "_model_module_version": "1.2.0",
            "_model_name": "LayoutModel",
            "_view_count": null,
            "_view_module": "@jupyter-widgets/base",
            "_view_module_version": "1.2.0",
            "_view_name": "LayoutView",
            "align_content": null,
            "align_items": null,
            "align_self": null,
            "border": null,
            "bottom": null,
            "display": null,
            "flex": null,
            "flex_flow": null,
            "grid_area": null,
            "grid_auto_columns": null,
            "grid_auto_flow": null,
            "grid_auto_rows": null,
            "grid_column": null,
            "grid_gap": null,
            "grid_row": null,
            "grid_template_areas": null,
            "grid_template_columns": null,
            "grid_template_rows": null,
            "height": null,
            "justify_content": null,
            "justify_items": null,
            "left": null,
            "margin": null,
            "max_height": null,
            "max_width": null,
            "min_height": null,
            "min_width": null,
            "object_fit": null,
            "object_position": null,
            "order": null,
            "overflow": null,
            "overflow_x": null,
            "overflow_y": null,
            "padding": null,
            "right": null,
            "top": null,
            "visibility": null,
            "width": null
          }
        },
        "d2431b699d0346e38eb72b747404c46b": {
          "model_module": "@jupyter-widgets/controls",
          "model_name": "ProgressStyleModel",
          "model_module_version": "1.5.0",
          "state": {
            "_model_module": "@jupyter-widgets/controls",
            "_model_module_version": "1.5.0",
            "_model_name": "ProgressStyleModel",
            "_view_count": null,
            "_view_module": "@jupyter-widgets/base",
            "_view_module_version": "1.2.0",
            "_view_name": "StyleView",
            "bar_color": null,
            "description_width": ""
          }
        },
        "9b5100e01c9b48bfbbdce6c65fde5b53": {
          "model_module": "@jupyter-widgets/base",
          "model_name": "LayoutModel",
          "model_module_version": "1.2.0",
          "state": {
            "_model_module": "@jupyter-widgets/base",
            "_model_module_version": "1.2.0",
            "_model_name": "LayoutModel",
            "_view_count": null,
            "_view_module": "@jupyter-widgets/base",
            "_view_module_version": "1.2.0",
            "_view_name": "LayoutView",
            "align_content": null,
            "align_items": null,
            "align_self": null,
            "border": null,
            "bottom": null,
            "display": null,
            "flex": null,
            "flex_flow": null,
            "grid_area": null,
            "grid_auto_columns": null,
            "grid_auto_flow": null,
            "grid_auto_rows": null,
            "grid_column": null,
            "grid_gap": null,
            "grid_row": null,
            "grid_template_areas": null,
            "grid_template_columns": null,
            "grid_template_rows": null,
            "height": null,
            "justify_content": null,
            "justify_items": null,
            "left": null,
            "margin": null,
            "max_height": null,
            "max_width": null,
            "min_height": null,
            "min_width": null,
            "object_fit": null,
            "object_position": null,
            "order": null,
            "overflow": null,
            "overflow_x": null,
            "overflow_y": null,
            "padding": null,
            "right": null,
            "top": null,
            "visibility": null,
            "width": null
          }
        },
        "39e566fd6fc947d08f0b8426a3557547": {
          "model_module": "@jupyter-widgets/controls",
          "model_name": "DescriptionStyleModel",
          "model_module_version": "1.5.0",
          "state": {
            "_model_module": "@jupyter-widgets/controls",
            "_model_module_version": "1.5.0",
            "_model_name": "DescriptionStyleModel",
            "_view_count": null,
            "_view_module": "@jupyter-widgets/base",
            "_view_module_version": "1.2.0",
            "_view_name": "StyleView",
            "description_width": ""
          }
        },
        "85b76298035c4b90b6ae26d596a86b9e": {
          "model_module": "@jupyter-widgets/controls",
          "model_name": "HBoxModel",
          "model_module_version": "1.5.0",
          "state": {
            "_dom_classes": [],
            "_model_module": "@jupyter-widgets/controls",
            "_model_module_version": "1.5.0",
            "_model_name": "HBoxModel",
            "_view_count": null,
            "_view_module": "@jupyter-widgets/controls",
            "_view_module_version": "1.5.0",
            "_view_name": "HBoxView",
            "box_style": "",
            "children": [
              "IPY_MODEL_caca7821f12e4dc08fe742090366c469",
              "IPY_MODEL_2891d1cfd85d43f3add132aaff80c05f",
              "IPY_MODEL_1c7d2fc1aaa3492ebfe8088a14c11afe"
            ],
            "layout": "IPY_MODEL_6bc01f39b2024888bb1307d155ea5008"
          }
        },
        "caca7821f12e4dc08fe742090366c469": {
          "model_module": "@jupyter-widgets/controls",
          "model_name": "HTMLModel",
          "model_module_version": "1.5.0",
          "state": {
            "_dom_classes": [],
            "_model_module": "@jupyter-widgets/controls",
            "_model_module_version": "1.5.0",
            "_model_name": "HTMLModel",
            "_view_count": null,
            "_view_module": "@jupyter-widgets/controls",
            "_view_module_version": "1.5.0",
            "_view_name": "HTMLView",
            "description": "",
            "description_tooltip": null,
            "layout": "IPY_MODEL_85608cf4fcfa4592adc95c034f8b4b98",
            "placeholder": "​",
            "style": "IPY_MODEL_5fdc4d094d8c4d9e8bf32cec0453fd14",
            "value": " 99%"
          }
        },
        "2891d1cfd85d43f3add132aaff80c05f": {
          "model_module": "@jupyter-widgets/controls",
          "model_name": "FloatProgressModel",
          "model_module_version": "1.5.0",
          "state": {
            "_dom_classes": [],
            "_model_module": "@jupyter-widgets/controls",
            "_model_module_version": "1.5.0",
            "_model_name": "FloatProgressModel",
            "_view_count": null,
            "_view_module": "@jupyter-widgets/controls",
            "_view_module_version": "1.5.0",
            "_view_name": "ProgressView",
            "bar_style": "danger",
            "description": "",
            "description_tooltip": null,
            "layout": "IPY_MODEL_5a07ae7defe44457831f78d1cb9a553e",
            "max": 4554,
            "min": 0,
            "orientation": "horizontal",
            "style": "IPY_MODEL_8e927e1524d64e54a25c6b1ee157018f",
            "value": 4528
          }
        },
        "1c7d2fc1aaa3492ebfe8088a14c11afe": {
          "model_module": "@jupyter-widgets/controls",
          "model_name": "HTMLModel",
          "model_module_version": "1.5.0",
          "state": {
            "_dom_classes": [],
            "_model_module": "@jupyter-widgets/controls",
            "_model_module_version": "1.5.0",
            "_model_name": "HTMLModel",
            "_view_count": null,
            "_view_module": "@jupyter-widgets/controls",
            "_view_module_version": "1.5.0",
            "_view_name": "HTMLView",
            "description": "",
            "description_tooltip": null,
            "layout": "IPY_MODEL_90795593c7524055a6554bb48f917587",
            "placeholder": "​",
            "style": "IPY_MODEL_9e89d67b367d4403929017f8b5e05952",
            "value": " 4528/4554 [55:09&lt;00:19,  1.35it/s]"
          }
        },
        "6bc01f39b2024888bb1307d155ea5008": {
          "model_module": "@jupyter-widgets/base",
          "model_name": "LayoutModel",
          "model_module_version": "1.2.0",
          "state": {
            "_model_module": "@jupyter-widgets/base",
            "_model_module_version": "1.2.0",
            "_model_name": "LayoutModel",
            "_view_count": null,
            "_view_module": "@jupyter-widgets/base",
            "_view_module_version": "1.2.0",
            "_view_name": "LayoutView",
            "align_content": null,
            "align_items": null,
            "align_self": null,
            "border": null,
            "bottom": null,
            "display": null,
            "flex": null,
            "flex_flow": null,
            "grid_area": null,
            "grid_auto_columns": null,
            "grid_auto_flow": null,
            "grid_auto_rows": null,
            "grid_column": null,
            "grid_gap": null,
            "grid_row": null,
            "grid_template_areas": null,
            "grid_template_columns": null,
            "grid_template_rows": null,
            "height": null,
            "justify_content": null,
            "justify_items": null,
            "left": null,
            "margin": null,
            "max_height": null,
            "max_width": null,
            "min_height": null,
            "min_width": null,
            "object_fit": null,
            "object_position": null,
            "order": null,
            "overflow": null,
            "overflow_x": null,
            "overflow_y": null,
            "padding": null,
            "right": null,
            "top": null,
            "visibility": null,
            "width": null
          }
        },
        "85608cf4fcfa4592adc95c034f8b4b98": {
          "model_module": "@jupyter-widgets/base",
          "model_name": "LayoutModel",
          "model_module_version": "1.2.0",
          "state": {
            "_model_module": "@jupyter-widgets/base",
            "_model_module_version": "1.2.0",
            "_model_name": "LayoutModel",
            "_view_count": null,
            "_view_module": "@jupyter-widgets/base",
            "_view_module_version": "1.2.0",
            "_view_name": "LayoutView",
            "align_content": null,
            "align_items": null,
            "align_self": null,
            "border": null,
            "bottom": null,
            "display": null,
            "flex": null,
            "flex_flow": null,
            "grid_area": null,
            "grid_auto_columns": null,
            "grid_auto_flow": null,
            "grid_auto_rows": null,
            "grid_column": null,
            "grid_gap": null,
            "grid_row": null,
            "grid_template_areas": null,
            "grid_template_columns": null,
            "grid_template_rows": null,
            "height": null,
            "justify_content": null,
            "justify_items": null,
            "left": null,
            "margin": null,
            "max_height": null,
            "max_width": null,
            "min_height": null,
            "min_width": null,
            "object_fit": null,
            "object_position": null,
            "order": null,
            "overflow": null,
            "overflow_x": null,
            "overflow_y": null,
            "padding": null,
            "right": null,
            "top": null,
            "visibility": null,
            "width": null
          }
        },
        "5fdc4d094d8c4d9e8bf32cec0453fd14": {
          "model_module": "@jupyter-widgets/controls",
          "model_name": "DescriptionStyleModel",
          "model_module_version": "1.5.0",
          "state": {
            "_model_module": "@jupyter-widgets/controls",
            "_model_module_version": "1.5.0",
            "_model_name": "DescriptionStyleModel",
            "_view_count": null,
            "_view_module": "@jupyter-widgets/base",
            "_view_module_version": "1.2.0",
            "_view_name": "StyleView",
            "description_width": ""
          }
        },
        "5a07ae7defe44457831f78d1cb9a553e": {
          "model_module": "@jupyter-widgets/base",
          "model_name": "LayoutModel",
          "model_module_version": "1.2.0",
          "state": {
            "_model_module": "@jupyter-widgets/base",
            "_model_module_version": "1.2.0",
            "_model_name": "LayoutModel",
            "_view_count": null,
            "_view_module": "@jupyter-widgets/base",
            "_view_module_version": "1.2.0",
            "_view_name": "LayoutView",
            "align_content": null,
            "align_items": null,
            "align_self": null,
            "border": null,
            "bottom": null,
            "display": null,
            "flex": null,
            "flex_flow": null,
            "grid_area": null,
            "grid_auto_columns": null,
            "grid_auto_flow": null,
            "grid_auto_rows": null,
            "grid_column": null,
            "grid_gap": null,
            "grid_row": null,
            "grid_template_areas": null,
            "grid_template_columns": null,
            "grid_template_rows": null,
            "height": null,
            "justify_content": null,
            "justify_items": null,
            "left": null,
            "margin": null,
            "max_height": null,
            "max_width": null,
            "min_height": null,
            "min_width": null,
            "object_fit": null,
            "object_position": null,
            "order": null,
            "overflow": null,
            "overflow_x": null,
            "overflow_y": null,
            "padding": null,
            "right": null,
            "top": null,
            "visibility": null,
            "width": null
          }
        },
        "8e927e1524d64e54a25c6b1ee157018f": {
          "model_module": "@jupyter-widgets/controls",
          "model_name": "ProgressStyleModel",
          "model_module_version": "1.5.0",
          "state": {
            "_model_module": "@jupyter-widgets/controls",
            "_model_module_version": "1.5.0",
            "_model_name": "ProgressStyleModel",
            "_view_count": null,
            "_view_module": "@jupyter-widgets/base",
            "_view_module_version": "1.2.0",
            "_view_name": "StyleView",
            "bar_color": null,
            "description_width": ""
          }
        },
        "90795593c7524055a6554bb48f917587": {
          "model_module": "@jupyter-widgets/base",
          "model_name": "LayoutModel",
          "model_module_version": "1.2.0",
          "state": {
            "_model_module": "@jupyter-widgets/base",
            "_model_module_version": "1.2.0",
            "_model_name": "LayoutModel",
            "_view_count": null,
            "_view_module": "@jupyter-widgets/base",
            "_view_module_version": "1.2.0",
            "_view_name": "LayoutView",
            "align_content": null,
            "align_items": null,
            "align_self": null,
            "border": null,
            "bottom": null,
            "display": null,
            "flex": null,
            "flex_flow": null,
            "grid_area": null,
            "grid_auto_columns": null,
            "grid_auto_flow": null,
            "grid_auto_rows": null,
            "grid_column": null,
            "grid_gap": null,
            "grid_row": null,
            "grid_template_areas": null,
            "grid_template_columns": null,
            "grid_template_rows": null,
            "height": null,
            "justify_content": null,
            "justify_items": null,
            "left": null,
            "margin": null,
            "max_height": null,
            "max_width": null,
            "min_height": null,
            "min_width": null,
            "object_fit": null,
            "object_position": null,
            "order": null,
            "overflow": null,
            "overflow_x": null,
            "overflow_y": null,
            "padding": null,
            "right": null,
            "top": null,
            "visibility": null,
            "width": null
          }
        },
        "9e89d67b367d4403929017f8b5e05952": {
          "model_module": "@jupyter-widgets/controls",
          "model_name": "DescriptionStyleModel",
          "model_module_version": "1.5.0",
          "state": {
            "_model_module": "@jupyter-widgets/controls",
            "_model_module_version": "1.5.0",
            "_model_name": "DescriptionStyleModel",
            "_view_count": null,
            "_view_module": "@jupyter-widgets/base",
            "_view_module_version": "1.2.0",
            "_view_name": "StyleView",
            "description_width": ""
          }
        },
        "7267bcd754114369b7621e7f4f371715": {
          "model_module": "@jupyter-widgets/controls",
          "model_name": "HBoxModel",
          "model_module_version": "1.5.0",
          "state": {
            "_dom_classes": [],
            "_model_module": "@jupyter-widgets/controls",
            "_model_module_version": "1.5.0",
            "_model_name": "HBoxModel",
            "_view_count": null,
            "_view_module": "@jupyter-widgets/controls",
            "_view_module_version": "1.5.0",
            "_view_name": "HBoxView",
            "box_style": "",
            "children": [
              "IPY_MODEL_ea1496202c454b7bafe64d88a8b8c954",
              "IPY_MODEL_36c9fc7a6eda4737b4d1aeeb80281cde",
              "IPY_MODEL_f24ddb03966b45539cfb0a1d52bdc9a2"
            ],
            "layout": "IPY_MODEL_b1968a5d0d774bf5bb955f5855584db7"
          }
        },
        "ea1496202c454b7bafe64d88a8b8c954": {
          "model_module": "@jupyter-widgets/controls",
          "model_name": "HTMLModel",
          "model_module_version": "1.5.0",
          "state": {
            "_dom_classes": [],
            "_model_module": "@jupyter-widgets/controls",
            "_model_module_version": "1.5.0",
            "_model_name": "HTMLModel",
            "_view_count": null,
            "_view_module": "@jupyter-widgets/controls",
            "_view_module_version": "1.5.0",
            "_view_name": "HTMLView",
            "description": "",
            "description_tooltip": null,
            "layout": "IPY_MODEL_0549a94c83f846fda9a4d490adfa30c4",
            "placeholder": "​",
            "style": "IPY_MODEL_00d8e049a2704bf782ba07450b30c7b1",
            "value": "100%"
          }
        },
        "36c9fc7a6eda4737b4d1aeeb80281cde": {
          "model_module": "@jupyter-widgets/controls",
          "model_name": "FloatProgressModel",
          "model_module_version": "1.5.0",
          "state": {
            "_dom_classes": [],
            "_model_module": "@jupyter-widgets/controls",
            "_model_module_version": "1.5.0",
            "_model_name": "FloatProgressModel",
            "_view_count": null,
            "_view_module": "@jupyter-widgets/controls",
            "_view_module_version": "1.5.0",
            "_view_name": "ProgressView",
            "bar_style": "success",
            "description": "",
            "description_tooltip": null,
            "layout": "IPY_MODEL_6a977c7c0cb74c2792c6bab32a3e7436",
            "max": 1823,
            "min": 0,
            "orientation": "horizontal",
            "style": "IPY_MODEL_58415365d86f416a90980acac82ebea6",
            "value": 1823
          }
        },
        "f24ddb03966b45539cfb0a1d52bdc9a2": {
          "model_module": "@jupyter-widgets/controls",
          "model_name": "HTMLModel",
          "model_module_version": "1.5.0",
          "state": {
            "_dom_classes": [],
            "_model_module": "@jupyter-widgets/controls",
            "_model_module_version": "1.5.0",
            "_model_name": "HTMLModel",
            "_view_count": null,
            "_view_module": "@jupyter-widgets/controls",
            "_view_module_version": "1.5.0",
            "_view_name": "HTMLView",
            "description": "",
            "description_tooltip": null,
            "layout": "IPY_MODEL_3440eb8180d24d799273443a873b1072",
            "placeholder": "​",
            "style": "IPY_MODEL_eac32682758d418c8e9b40b87e3b0c69",
            "value": " 1823/1823 [23:08&lt;00:00,  1.13s/it]"
          }
        },
        "b1968a5d0d774bf5bb955f5855584db7": {
          "model_module": "@jupyter-widgets/base",
          "model_name": "LayoutModel",
          "model_module_version": "1.2.0",
          "state": {
            "_model_module": "@jupyter-widgets/base",
            "_model_module_version": "1.2.0",
            "_model_name": "LayoutModel",
            "_view_count": null,
            "_view_module": "@jupyter-widgets/base",
            "_view_module_version": "1.2.0",
            "_view_name": "LayoutView",
            "align_content": null,
            "align_items": null,
            "align_self": null,
            "border": null,
            "bottom": null,
            "display": null,
            "flex": null,
            "flex_flow": null,
            "grid_area": null,
            "grid_auto_columns": null,
            "grid_auto_flow": null,
            "grid_auto_rows": null,
            "grid_column": null,
            "grid_gap": null,
            "grid_row": null,
            "grid_template_areas": null,
            "grid_template_columns": null,
            "grid_template_rows": null,
            "height": null,
            "justify_content": null,
            "justify_items": null,
            "left": null,
            "margin": null,
            "max_height": null,
            "max_width": null,
            "min_height": null,
            "min_width": null,
            "object_fit": null,
            "object_position": null,
            "order": null,
            "overflow": null,
            "overflow_x": null,
            "overflow_y": null,
            "padding": null,
            "right": null,
            "top": null,
            "visibility": null,
            "width": null
          }
        },
        "0549a94c83f846fda9a4d490adfa30c4": {
          "model_module": "@jupyter-widgets/base",
          "model_name": "LayoutModel",
          "model_module_version": "1.2.0",
          "state": {
            "_model_module": "@jupyter-widgets/base",
            "_model_module_version": "1.2.0",
            "_model_name": "LayoutModel",
            "_view_count": null,
            "_view_module": "@jupyter-widgets/base",
            "_view_module_version": "1.2.0",
            "_view_name": "LayoutView",
            "align_content": null,
            "align_items": null,
            "align_self": null,
            "border": null,
            "bottom": null,
            "display": null,
            "flex": null,
            "flex_flow": null,
            "grid_area": null,
            "grid_auto_columns": null,
            "grid_auto_flow": null,
            "grid_auto_rows": null,
            "grid_column": null,
            "grid_gap": null,
            "grid_row": null,
            "grid_template_areas": null,
            "grid_template_columns": null,
            "grid_template_rows": null,
            "height": null,
            "justify_content": null,
            "justify_items": null,
            "left": null,
            "margin": null,
            "max_height": null,
            "max_width": null,
            "min_height": null,
            "min_width": null,
            "object_fit": null,
            "object_position": null,
            "order": null,
            "overflow": null,
            "overflow_x": null,
            "overflow_y": null,
            "padding": null,
            "right": null,
            "top": null,
            "visibility": null,
            "width": null
          }
        },
        "00d8e049a2704bf782ba07450b30c7b1": {
          "model_module": "@jupyter-widgets/controls",
          "model_name": "DescriptionStyleModel",
          "model_module_version": "1.5.0",
          "state": {
            "_model_module": "@jupyter-widgets/controls",
            "_model_module_version": "1.5.0",
            "_model_name": "DescriptionStyleModel",
            "_view_count": null,
            "_view_module": "@jupyter-widgets/base",
            "_view_module_version": "1.2.0",
            "_view_name": "StyleView",
            "description_width": ""
          }
        },
        "6a977c7c0cb74c2792c6bab32a3e7436": {
          "model_module": "@jupyter-widgets/base",
          "model_name": "LayoutModel",
          "model_module_version": "1.2.0",
          "state": {
            "_model_module": "@jupyter-widgets/base",
            "_model_module_version": "1.2.0",
            "_model_name": "LayoutModel",
            "_view_count": null,
            "_view_module": "@jupyter-widgets/base",
            "_view_module_version": "1.2.0",
            "_view_name": "LayoutView",
            "align_content": null,
            "align_items": null,
            "align_self": null,
            "border": null,
            "bottom": null,
            "display": null,
            "flex": null,
            "flex_flow": null,
            "grid_area": null,
            "grid_auto_columns": null,
            "grid_auto_flow": null,
            "grid_auto_rows": null,
            "grid_column": null,
            "grid_gap": null,
            "grid_row": null,
            "grid_template_areas": null,
            "grid_template_columns": null,
            "grid_template_rows": null,
            "height": null,
            "justify_content": null,
            "justify_items": null,
            "left": null,
            "margin": null,
            "max_height": null,
            "max_width": null,
            "min_height": null,
            "min_width": null,
            "object_fit": null,
            "object_position": null,
            "order": null,
            "overflow": null,
            "overflow_x": null,
            "overflow_y": null,
            "padding": null,
            "right": null,
            "top": null,
            "visibility": null,
            "width": null
          }
        },
        "58415365d86f416a90980acac82ebea6": {
          "model_module": "@jupyter-widgets/controls",
          "model_name": "ProgressStyleModel",
          "model_module_version": "1.5.0",
          "state": {
            "_model_module": "@jupyter-widgets/controls",
            "_model_module_version": "1.5.0",
            "_model_name": "ProgressStyleModel",
            "_view_count": null,
            "_view_module": "@jupyter-widgets/base",
            "_view_module_version": "1.2.0",
            "_view_name": "StyleView",
            "bar_color": null,
            "description_width": ""
          }
        },
        "3440eb8180d24d799273443a873b1072": {
          "model_module": "@jupyter-widgets/base",
          "model_name": "LayoutModel",
          "model_module_version": "1.2.0",
          "state": {
            "_model_module": "@jupyter-widgets/base",
            "_model_module_version": "1.2.0",
            "_model_name": "LayoutModel",
            "_view_count": null,
            "_view_module": "@jupyter-widgets/base",
            "_view_module_version": "1.2.0",
            "_view_name": "LayoutView",
            "align_content": null,
            "align_items": null,
            "align_self": null,
            "border": null,
            "bottom": null,
            "display": null,
            "flex": null,
            "flex_flow": null,
            "grid_area": null,
            "grid_auto_columns": null,
            "grid_auto_flow": null,
            "grid_auto_rows": null,
            "grid_column": null,
            "grid_gap": null,
            "grid_row": null,
            "grid_template_areas": null,
            "grid_template_columns": null,
            "grid_template_rows": null,
            "height": null,
            "justify_content": null,
            "justify_items": null,
            "left": null,
            "margin": null,
            "max_height": null,
            "max_width": null,
            "min_height": null,
            "min_width": null,
            "object_fit": null,
            "object_position": null,
            "order": null,
            "overflow": null,
            "overflow_x": null,
            "overflow_y": null,
            "padding": null,
            "right": null,
            "top": null,
            "visibility": null,
            "width": null
          }
        },
        "eac32682758d418c8e9b40b87e3b0c69": {
          "model_module": "@jupyter-widgets/controls",
          "model_name": "DescriptionStyleModel",
          "model_module_version": "1.5.0",
          "state": {
            "_model_module": "@jupyter-widgets/controls",
            "_model_module_version": "1.5.0",
            "_model_name": "DescriptionStyleModel",
            "_view_count": null,
            "_view_module": "@jupyter-widgets/base",
            "_view_module_version": "1.2.0",
            "_view_name": "StyleView",
            "description_width": ""
          }
        },
        "3666efa098f248f6a52b3a9fc0ce32b9": {
          "model_module": "@jupyter-widgets/controls",
          "model_name": "HBoxModel",
          "model_module_version": "1.5.0",
          "state": {
            "_dom_classes": [],
            "_model_module": "@jupyter-widgets/controls",
            "_model_module_version": "1.5.0",
            "_model_name": "HBoxModel",
            "_view_count": null,
            "_view_module": "@jupyter-widgets/controls",
            "_view_module_version": "1.5.0",
            "_view_name": "HBoxView",
            "box_style": "",
            "children": [
              "IPY_MODEL_f3753e79f2ae432588b7d7d98598de64",
              "IPY_MODEL_e1d1ef9291c54d9b95ec31998aa55fff",
              "IPY_MODEL_bc4a56b6d8fe41aabde919f3f9956ace"
            ],
            "layout": "IPY_MODEL_affe06fd497c48b2ba3b4d18b7518763"
          }
        },
        "f3753e79f2ae432588b7d7d98598de64": {
          "model_module": "@jupyter-widgets/controls",
          "model_name": "HTMLModel",
          "model_module_version": "1.5.0",
          "state": {
            "_dom_classes": [],
            "_model_module": "@jupyter-widgets/controls",
            "_model_module_version": "1.5.0",
            "_model_name": "HTMLModel",
            "_view_count": null,
            "_view_module": "@jupyter-widgets/controls",
            "_view_module_version": "1.5.0",
            "_view_name": "HTMLView",
            "description": "",
            "description_tooltip": null,
            "layout": "IPY_MODEL_fbbc4d8e637443ab85ea2548a09ebb8a",
            "placeholder": "​",
            "style": "IPY_MODEL_0143c4962a924f5c87cdbbf8566c78bb",
            "value": "  5%"
          }
        },
        "e1d1ef9291c54d9b95ec31998aa55fff": {
          "model_module": "@jupyter-widgets/controls",
          "model_name": "FloatProgressModel",
          "model_module_version": "1.5.0",
          "state": {
            "_dom_classes": [],
            "_model_module": "@jupyter-widgets/controls",
            "_model_module_version": "1.5.0",
            "_model_name": "FloatProgressModel",
            "_view_count": null,
            "_view_module": "@jupyter-widgets/controls",
            "_view_module_version": "1.5.0",
            "_view_name": "ProgressView",
            "bar_style": "danger",
            "description": "",
            "description_tooltip": null,
            "layout": "IPY_MODEL_50161c29eef9411c8f6dbe4d18b05050",
            "max": 13725,
            "min": 0,
            "orientation": "horizontal",
            "style": "IPY_MODEL_4ff1f0ef80bf4b7db819bd38b71e5718",
            "value": 727
          }
        },
        "bc4a56b6d8fe41aabde919f3f9956ace": {
          "model_module": "@jupyter-widgets/controls",
          "model_name": "HTMLModel",
          "model_module_version": "1.5.0",
          "state": {
            "_dom_classes": [],
            "_model_module": "@jupyter-widgets/controls",
            "_model_module_version": "1.5.0",
            "_model_name": "HTMLModel",
            "_view_count": null,
            "_view_module": "@jupyter-widgets/controls",
            "_view_module_version": "1.5.0",
            "_view_name": "HTMLView",
            "description": "",
            "description_tooltip": null,
            "layout": "IPY_MODEL_2038f4cf25214f738ee7e853a0720255",
            "placeholder": "​",
            "style": "IPY_MODEL_2b2576886a9744f7a1caae2b6ff1bf91",
            "value": " 727/13725 [1:38:10&lt;35:33:31,  9.85s/it]"
          }
        },
        "affe06fd497c48b2ba3b4d18b7518763": {
          "model_module": "@jupyter-widgets/base",
          "model_name": "LayoutModel",
          "model_module_version": "1.2.0",
          "state": {
            "_model_module": "@jupyter-widgets/base",
            "_model_module_version": "1.2.0",
            "_model_name": "LayoutModel",
            "_view_count": null,
            "_view_module": "@jupyter-widgets/base",
            "_view_module_version": "1.2.0",
            "_view_name": "LayoutView",
            "align_content": null,
            "align_items": null,
            "align_self": null,
            "border": null,
            "bottom": null,
            "display": null,
            "flex": null,
            "flex_flow": null,
            "grid_area": null,
            "grid_auto_columns": null,
            "grid_auto_flow": null,
            "grid_auto_rows": null,
            "grid_column": null,
            "grid_gap": null,
            "grid_row": null,
            "grid_template_areas": null,
            "grid_template_columns": null,
            "grid_template_rows": null,
            "height": null,
            "justify_content": null,
            "justify_items": null,
            "left": null,
            "margin": null,
            "max_height": null,
            "max_width": null,
            "min_height": null,
            "min_width": null,
            "object_fit": null,
            "object_position": null,
            "order": null,
            "overflow": null,
            "overflow_x": null,
            "overflow_y": null,
            "padding": null,
            "right": null,
            "top": null,
            "visibility": null,
            "width": null
          }
        },
        "fbbc4d8e637443ab85ea2548a09ebb8a": {
          "model_module": "@jupyter-widgets/base",
          "model_name": "LayoutModel",
          "model_module_version": "1.2.0",
          "state": {
            "_model_module": "@jupyter-widgets/base",
            "_model_module_version": "1.2.0",
            "_model_name": "LayoutModel",
            "_view_count": null,
            "_view_module": "@jupyter-widgets/base",
            "_view_module_version": "1.2.0",
            "_view_name": "LayoutView",
            "align_content": null,
            "align_items": null,
            "align_self": null,
            "border": null,
            "bottom": null,
            "display": null,
            "flex": null,
            "flex_flow": null,
            "grid_area": null,
            "grid_auto_columns": null,
            "grid_auto_flow": null,
            "grid_auto_rows": null,
            "grid_column": null,
            "grid_gap": null,
            "grid_row": null,
            "grid_template_areas": null,
            "grid_template_columns": null,
            "grid_template_rows": null,
            "height": null,
            "justify_content": null,
            "justify_items": null,
            "left": null,
            "margin": null,
            "max_height": null,
            "max_width": null,
            "min_height": null,
            "min_width": null,
            "object_fit": null,
            "object_position": null,
            "order": null,
            "overflow": null,
            "overflow_x": null,
            "overflow_y": null,
            "padding": null,
            "right": null,
            "top": null,
            "visibility": null,
            "width": null
          }
        },
        "0143c4962a924f5c87cdbbf8566c78bb": {
          "model_module": "@jupyter-widgets/controls",
          "model_name": "DescriptionStyleModel",
          "model_module_version": "1.5.0",
          "state": {
            "_model_module": "@jupyter-widgets/controls",
            "_model_module_version": "1.5.0",
            "_model_name": "DescriptionStyleModel",
            "_view_count": null,
            "_view_module": "@jupyter-widgets/base",
            "_view_module_version": "1.2.0",
            "_view_name": "StyleView",
            "description_width": ""
          }
        },
        "50161c29eef9411c8f6dbe4d18b05050": {
          "model_module": "@jupyter-widgets/base",
          "model_name": "LayoutModel",
          "model_module_version": "1.2.0",
          "state": {
            "_model_module": "@jupyter-widgets/base",
            "_model_module_version": "1.2.0",
            "_model_name": "LayoutModel",
            "_view_count": null,
            "_view_module": "@jupyter-widgets/base",
            "_view_module_version": "1.2.0",
            "_view_name": "LayoutView",
            "align_content": null,
            "align_items": null,
            "align_self": null,
            "border": null,
            "bottom": null,
            "display": null,
            "flex": null,
            "flex_flow": null,
            "grid_area": null,
            "grid_auto_columns": null,
            "grid_auto_flow": null,
            "grid_auto_rows": null,
            "grid_column": null,
            "grid_gap": null,
            "grid_row": null,
            "grid_template_areas": null,
            "grid_template_columns": null,
            "grid_template_rows": null,
            "height": null,
            "justify_content": null,
            "justify_items": null,
            "left": null,
            "margin": null,
            "max_height": null,
            "max_width": null,
            "min_height": null,
            "min_width": null,
            "object_fit": null,
            "object_position": null,
            "order": null,
            "overflow": null,
            "overflow_x": null,
            "overflow_y": null,
            "padding": null,
            "right": null,
            "top": null,
            "visibility": null,
            "width": null
          }
        },
        "4ff1f0ef80bf4b7db819bd38b71e5718": {
          "model_module": "@jupyter-widgets/controls",
          "model_name": "ProgressStyleModel",
          "model_module_version": "1.5.0",
          "state": {
            "_model_module": "@jupyter-widgets/controls",
            "_model_module_version": "1.5.0",
            "_model_name": "ProgressStyleModel",
            "_view_count": null,
            "_view_module": "@jupyter-widgets/base",
            "_view_module_version": "1.2.0",
            "_view_name": "StyleView",
            "bar_color": null,
            "description_width": ""
          }
        },
        "2038f4cf25214f738ee7e853a0720255": {
          "model_module": "@jupyter-widgets/base",
          "model_name": "LayoutModel",
          "model_module_version": "1.2.0",
          "state": {
            "_model_module": "@jupyter-widgets/base",
            "_model_module_version": "1.2.0",
            "_model_name": "LayoutModel",
            "_view_count": null,
            "_view_module": "@jupyter-widgets/base",
            "_view_module_version": "1.2.0",
            "_view_name": "LayoutView",
            "align_content": null,
            "align_items": null,
            "align_self": null,
            "border": null,
            "bottom": null,
            "display": null,
            "flex": null,
            "flex_flow": null,
            "grid_area": null,
            "grid_auto_columns": null,
            "grid_auto_flow": null,
            "grid_auto_rows": null,
            "grid_column": null,
            "grid_gap": null,
            "grid_row": null,
            "grid_template_areas": null,
            "grid_template_columns": null,
            "grid_template_rows": null,
            "height": null,
            "justify_content": null,
            "justify_items": null,
            "left": null,
            "margin": null,
            "max_height": null,
            "max_width": null,
            "min_height": null,
            "min_width": null,
            "object_fit": null,
            "object_position": null,
            "order": null,
            "overflow": null,
            "overflow_x": null,
            "overflow_y": null,
            "padding": null,
            "right": null,
            "top": null,
            "visibility": null,
            "width": null
          }
        },
        "2b2576886a9744f7a1caae2b6ff1bf91": {
          "model_module": "@jupyter-widgets/controls",
          "model_name": "DescriptionStyleModel",
          "model_module_version": "1.5.0",
          "state": {
            "_model_module": "@jupyter-widgets/controls",
            "_model_module_version": "1.5.0",
            "_model_name": "DescriptionStyleModel",
            "_view_count": null,
            "_view_module": "@jupyter-widgets/base",
            "_view_module_version": "1.2.0",
            "_view_name": "StyleView",
            "description_width": ""
          }
        }
      }
    }
  },
  "nbformat": 4,
  "nbformat_minor": 5
}