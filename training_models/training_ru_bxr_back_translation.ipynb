{
  "cells": [
    {
      "cell_type": "markdown",
      "source": [
        "# Импорты"
      ],
      "metadata": {
        "id": "-8XAMxqXEpmb"
      },
      "id": "-8XAMxqXEpmb"
    },
    {
      "cell_type": "code",
      "execution_count": 1,
      "id": "09c76082",
      "metadata": {
        "id": "09c76082",
        "colab": {
          "base_uri": "https://localhost:8080/"
        },
        "outputId": "844a78fc-5260-4c98-8f2b-d04b93100ee1"
      },
      "outputs": [
        {
          "output_type": "stream",
          "name": "stdout",
          "text": [
            "\u001b[2K     \u001b[90m━━━━━━━━━━━━━━━━━━━━━━━━━━━━━━━━━━━━━━━━\u001b[0m \u001b[32m1.3/1.3 MB\u001b[0m \u001b[31m62.4 MB/s\u001b[0m eta \u001b[36m0:00:00\u001b[0m\n",
            "\u001b[2K     \u001b[90m━━━━━━━━━━━━━━━━━━━━━━━━━━━━━━━━━━━━━━━━\u001b[0m \u001b[32m7.1/7.1 MB\u001b[0m \u001b[31m80.5 MB/s\u001b[0m eta \u001b[36m0:00:00\u001b[0m\n",
            "\u001b[2K     \u001b[90m━━━━━━━━━━━━━━━━━━━━━━━━━━━━━━━━━━━━━━\u001b[0m \u001b[32m118.9/118.9 kB\u001b[0m \u001b[31m16.0 MB/s\u001b[0m eta \u001b[36m0:00:00\u001b[0m\n",
            "\u001b[2K     \u001b[90m━━━━━━━━━━━━━━━━━━━━━━━━━━━━━━━━━━━━━━\u001b[0m \u001b[32m224.5/224.5 kB\u001b[0m \u001b[31m25.3 MB/s\u001b[0m eta \u001b[36m0:00:00\u001b[0m\n",
            "\u001b[2K     \u001b[90m━━━━━━━━━━━━━━━━━━━━━━━━━━━━━━━━━━━━━━━━\u001b[0m \u001b[32m7.8/7.8 MB\u001b[0m \u001b[31m107.4 MB/s\u001b[0m eta \u001b[36m0:00:00\u001b[0m\n",
            "\u001b[?25h"
          ]
        }
      ],
      "source": [
        "! pip install sentencepiece transformers sacrebleu HeapDict -q "
      ]
    },
    {
      "cell_type": "code",
      "execution_count": 2,
      "id": "32c3d966",
      "metadata": {
        "colab": {
          "base_uri": "https://localhost:8080/"
        },
        "id": "32c3d966",
        "outputId": "7c927ef1-bd2b-4482-a974-e1f29c8d8903"
      },
      "outputs": [
        {
          "output_type": "stream",
          "name": "stdout",
          "text": [
            "--2023-05-16 07:39:27--  https://raw.githubusercontent.com/google/sentencepiece/master/src/sentencepiece_model.proto\n",
            "Resolving raw.githubusercontent.com (raw.githubusercontent.com)... 185.199.108.133, 185.199.109.133, 185.199.110.133, ...\n",
            "Connecting to raw.githubusercontent.com (raw.githubusercontent.com)|185.199.108.133|:443... connected.\n",
            "HTTP request sent, awaiting response... 200 OK\n",
            "Length: 13845 (14K) [text/plain]\n",
            "Saving to: ‘sentencepiece_model.proto’\n",
            "\n",
            "sentencepiece_model 100%[===================>]  13.52K  --.-KB/s    in 0s      \n",
            "\n",
            "2023-05-16 07:39:27 (120 MB/s) - ‘sentencepiece_model.proto’ saved [13845/13845]\n",
            "\n"
          ]
        }
      ],
      "source": [
        "! wget https://raw.githubusercontent.com/google/sentencepiece/master/src/sentencepiece_model.proto\n",
        "! protoc --python_out=. sentencepiece_model.proto"
      ]
    },
    {
      "cell_type": "code",
      "execution_count": 3,
      "id": "8f9f68ae",
      "metadata": {
        "id": "8f9f68ae"
      },
      "outputs": [],
      "source": [
        "import torch\n",
        "from transformers import MBartForConditionalGeneration, MBart50Tokenizer\n",
        "import json\n",
        "from collections import Counter, defaultdict\n",
        "from tqdm.auto import tqdm, trange\n",
        "import random\n",
        "import re\n",
        "from copy import deepcopy\n",
        "import pandas as pd"
      ]
    },
    {
      "cell_type": "markdown",
      "source": [
        "# Добавляю в модель токены бурятского языка"
      ],
      "metadata": {
        "id": "5ti1i7soD3CN"
      },
      "id": "5ti1i7soD3CN"
    },
    {
      "cell_type": "code",
      "execution_count": 4,
      "id": "3e6dfff6",
      "metadata": {
        "colab": {
          "base_uri": "https://localhost:8080/",
          "height": 145,
          "referenced_widgets": [
            "535e78abfcf14e34923b2f13bfc420a3",
            "e117e8313b684555992506953440b21a",
            "a57bce2b052141f8bd72baa036174859",
            "ae361996869d4aab9e3e8eba89abe01b",
            "920c60dcc42a4bf4a449b4170d97e173",
            "e469fc5c8da9451aa0708906eb53da60",
            "5731ba890b214313850147c168caefde",
            "30fbfbac880b4e3c8523e95336235567",
            "cbe8be8b406b43d59721712946a5e350",
            "81d3350880b94f698dac9df88efa2310",
            "40091961904845c8a9ee2c376e29e924",
            "182159657ff54127a5a83edfcc0b17c5",
            "3cbcd9230eff4ee28124d86e39765eff",
            "c9a3c779c9a2489b839c74713b0c7dab",
            "30595caf3bf24350990d9e69ca90e680",
            "52df24747e5c41b3a6210e6015502b8e",
            "bc41b750478949909b200c3c60baba38",
            "4743421845ae422e8e333b69ad23bd32",
            "1f414a280f054dd2ae91cf7d0b88ad22",
            "d4af2fa6851e40dca0781f84e4a630fa",
            "e12a99c9f5be4a9a8b1d2f698e2d27d6",
            "53ad56b70fec4c268db7b6aa723a940e",
            "84ce3e70e14140f4b673162878a293a6",
            "870f5f5a1d904b389a12248292801cd0",
            "0291b62fbf4c43baa46685a113922c2f",
            "1b38bf7b3dca43d6a6387c838813e68c",
            "cad022d4331e44f4ba71458c8cf0111c",
            "d1afc4d93ace43f88de9d08c757fabcf",
            "75f3eb01bc96474fbad078c3b1ca64a6",
            "6257781047b84286946c7e2016154f1c",
            "4f65c66e223049ef8382cb0bde24c5de",
            "8103aaa3e8a44a3d99805ae76e59e9ad",
            "68eeb209213a4c56bde1b9b3f1322c9d",
            "040e0860f8c4452799da62a212a95887",
            "6d1f089d9c3744b388de443ce3f12c42",
            "1414ef0379ee4809b74301775ce7b7d5",
            "febfbcd680064ce5bb9d00b2646d12d3",
            "ec65e2b5efef4497aa3ca5cf090e462a",
            "b927ea0ea5e841fe86247be9b697c7b3",
            "72a43ffa8b9b4ca2a5de4851bfee52cc",
            "61ae826445284c668a24771f72a960f5",
            "db7a520a08b248af9df72e63d316cf25",
            "854c18d3651b4fb28411c8b9911783d8",
            "0c717925c67741a791ad039020144a98"
          ]
        },
        "id": "3e6dfff6",
        "outputId": "10e41627-0f03-41d2-b165-e6a7eea5adb7"
      },
      "outputs": [
        {
          "output_type": "display_data",
          "data": {
            "text/plain": [
              "Downloading (…)tencepiece.bpe.model:   0%|          | 0.00/5.07M [00:00<?, ?B/s]"
            ],
            "application/vnd.jupyter.widget-view+json": {
              "version_major": 2,
              "version_minor": 0,
              "model_id": "535e78abfcf14e34923b2f13bfc420a3"
            }
          },
          "metadata": {}
        },
        {
          "output_type": "display_data",
          "data": {
            "text/plain": [
              "Downloading (…)cial_tokens_map.json:   0%|          | 0.00/649 [00:00<?, ?B/s]"
            ],
            "application/vnd.jupyter.widget-view+json": {
              "version_major": 2,
              "version_minor": 0,
              "model_id": "182159657ff54127a5a83edfcc0b17c5"
            }
          },
          "metadata": {}
        },
        {
          "output_type": "display_data",
          "data": {
            "text/plain": [
              "Downloading (…)okenizer_config.json:   0%|          | 0.00/529 [00:00<?, ?B/s]"
            ],
            "application/vnd.jupyter.widget-view+json": {
              "version_major": 2,
              "version_minor": 0,
              "model_id": "84ce3e70e14140f4b673162878a293a6"
            }
          },
          "metadata": {}
        },
        {
          "output_type": "display_data",
          "data": {
            "text/plain": [
              "Downloading (…)lve/main/config.json:   0%|          | 0.00/1.43k [00:00<?, ?B/s]"
            ],
            "application/vnd.jupyter.widget-view+json": {
              "version_major": 2,
              "version_minor": 0,
              "model_id": "040e0860f8c4452799da62a212a95887"
            }
          },
          "metadata": {}
        }
      ],
      "source": [
        "tokenizer = MBart50Tokenizer.from_pretrained(\"facebook/mbart-large-50-many-to-many-mmt\")"
      ]
    },
    {
      "cell_type": "code",
      "execution_count": 5,
      "id": "6b9c5b46",
      "metadata": {
        "colab": {
          "base_uri": "https://localhost:8080/"
        },
        "id": "6b9c5b46",
        "outputId": "9a6752fb-100a-4f57-a590-d8c47dd35702"
      },
      "outputs": [
        {
          "output_type": "stream",
          "name": "stdout",
          "text": [
            "250054\n"
          ]
        }
      ],
      "source": [
        "print(tokenizer.vocab_size)"
      ]
    },
    {
      "cell_type": "code",
      "execution_count": 6,
      "id": "fb52c971",
      "metadata": {
        "id": "fb52c971"
      },
      "outputs": [],
      "source": [
        "with open ('bur_all.txt', 'r', encoding='utf-8') as f:\n",
        "   bur_all = f.readlines()"
      ]
    },
    {
      "cell_type": "code",
      "execution_count": 7,
      "id": "612bf35a",
      "metadata": {
        "colab": {
          "base_uri": "https://localhost:8080/"
        },
        "id": "612bf35a",
        "outputId": "235c7712-94bb-4d70-f821-987028382ffc"
      },
      "outputs": [
        {
          "output_type": "execute_result",
          "data": {
            "text/plain": [
              "203060"
            ]
          },
          "metadata": {},
          "execution_count": 7
        }
      ],
      "source": [
        "bur_all = set(bur_all)\n",
        "len(bur_all)"
      ]
    },
    {
      "cell_type": "code",
      "execution_count": 8,
      "id": "0890b140",
      "metadata": {
        "id": "0890b140"
      },
      "outputs": [],
      "source": [
        "def get_tokens(text, tokenizer, verbose=False):\n",
        "    toks = tokenizer.tokenize(text)\n",
        "    words = []\n",
        "    word = []\n",
        "    prev_punct = False\n",
        "    for tok in toks:\n",
        "        is_punct = tok.lstrip(SPACE) and all(c in PUNCT for c in tok.lstrip(SPACE))\n",
        "        if tok.startswith(SPACE) or prev_punct != is_punct:\n",
        "            if word:\n",
        "                words.append(word)\n",
        "            word = []\n",
        "        word.append(tok)\n",
        "        prev_punct = is_punct\n",
        "    if word:\n",
        "        words.append(word)\n",
        "    if verbose:\n",
        "        print(words)\n",
        "    res = words\n",
        "    # assert tokenizer.decode([tok for t in res for tok in t]) == text\n",
        "    return res"
      ]
    },
    {
      "cell_type": "code",
      "execution_count": 9,
      "id": "519fbf83",
      "metadata": {
        "colab": {
          "base_uri": "https://localhost:8080/",
          "height": 66,
          "referenced_widgets": [
            "01c2d395cbdf4c6bbf90a1f4061933bf",
            "6812bc94841b4a56847dfb11719e5c72",
            "496391c8c9e94f828f0f3362b2f61abd",
            "65115527b65b42139fbcd3ce92fe2f92",
            "a2d9236d4a6c497f84225acaed7905b1",
            "9f760bce9efd4ad996877d33e77e4704",
            "0b8e219507ec4666be6d2349611cd4e2",
            "e379d030ffa04f4ea2d188d4261b797f",
            "597b90d4abc7431ab8e4c02723350617",
            "0a30a0d4023e470fa01b3ec18c66e35a",
            "c5b3158ae2a8474d9bcb0ab4c52e3a02"
          ]
        },
        "id": "519fbf83",
        "outputId": "488c11aa-c323-4210-c1a1-50b0d7e40ee5"
      },
      "outputs": [
        {
          "output_type": "display_data",
          "data": {
            "text/plain": [
              "  0%|          | 0/203060 [00:00<?, ?it/s]"
            ],
            "application/vnd.jupyter.widget-view+json": {
              "version_major": 2,
              "version_minor": 0,
              "model_id": "01c2d395cbdf4c6bbf90a1f4061933bf"
            }
          },
          "metadata": {}
        },
        {
          "output_type": "stream",
          "name": "stdout",
          "text": [
            "465440\n"
          ]
        }
      ],
      "source": [
        "PUNCT = '.,-—:)(»«!?–/;„\"“…*́№Ёҥ[]”^%+І=і•_􏰀²|}{#‘■>⁠’á<°\\§\\''\n",
        "SPACE = '▁'\n",
        "word_count = Counter()\n",
        "word2toks = {}\n",
        "for text in tqdm(bur_all):\n",
        "    for word_toks in get_tokens(text, tokenizer):\n",
        "        word = ''.join(word_toks)\n",
        "        word_count[word] += 1\n",
        "        word2toks[word] = word_toks\n",
        "print(len(word_count))"
      ]
    },
    {
      "cell_type": "code",
      "execution_count": 10,
      "id": "1ac59169",
      "metadata": {
        "id": "1ac59169"
      },
      "outputs": [],
      "source": [
        "word_count2 = deepcopy(word_count)\n",
        "word2toks2 = deepcopy(word2toks)\n",
        "\n",
        "word_count = deepcopy(word_count2)\n",
        "word2toks = deepcopy(word2toks2)"
      ]
    },
    {
      "cell_type": "code",
      "execution_count": 11,
      "id": "284eab24",
      "metadata": {
        "colab": {
          "base_uri": "https://localhost:8080/"
        },
        "id": "284eab24",
        "outputId": "abae6802-9e92-445f-a77e-55e6977a7ca5"
      },
      "outputs": [
        {
          "output_type": "stream",
          "name": "stdout",
          "text": [
            "['▁гэж', 'э']\n",
            "['▁h', 'эн']\n",
            "['▁нэг', 'э']\n",
            "['▁тэр', 'э']\n",
            "['▁бай', 'h', 'ан']\n",
            "['▁л', 'э']\n",
            "['▁дээр', 'э']\n",
            "['▁е', 'х', 'э']\n"
          ]
        }
      ],
      "source": [
        "for k, v in word_count.most_common(30):\n",
        "    if len(word2toks[k]) > 1:\n",
        "        print(word2toks[k])"
      ]
    },
    {
      "cell_type": "code",
      "execution_count": 12,
      "id": "252269c3",
      "metadata": {
        "id": "252269c3"
      },
      "outputs": [],
      "source": [
        "steps = 100_000\n",
        "min_count = 30  \n",
        "extra_vocab = []\n",
        "extra_counts = []\n",
        "extra_pairs = []"
      ]
    },
    {
      "cell_type": "code",
      "execution_count": 13,
      "id": "c103309a",
      "metadata": {
        "colab": {
          "base_uri": "https://localhost:8080/",
          "height": 49,
          "referenced_widgets": [
            "a55e22bfcaf643649a74d250100c079a",
            "1358f51705854eca8fada07559b4ff29",
            "7818ed678d2b4010822baa4e4677b964",
            "2d5a863098ce4def9e30204d058539ca",
            "2154f3930fbd44e190c4d417e7ac5afc",
            "4537e57ad8d645afad266cc93348da5e",
            "ac6c2a258d4845e9b33ff451d930aae5",
            "8b677d2fe86c4274a0e6f2c97ed97ec6",
            "a06fa0b7c8434a81b6b6ca716d1a3faf",
            "ae9b3047413548d8be7bda4fd0ab036a",
            "959e894415bd4185b770893e40f4f318"
          ]
        },
        "id": "c103309a",
        "outputId": "202ee48b-8912-4257-e4b5-0b505fc5d6ab"
      },
      "outputs": [
        {
          "output_type": "display_data",
          "data": {
            "text/plain": [
              "  0%|          | 0/465440 [00:00<?, ?it/s]"
            ],
            "application/vnd.jupyter.widget-view+json": {
              "version_major": 2,
              "version_minor": 0,
              "model_id": "a55e22bfcaf643649a74d250100c079a"
            }
          },
          "metadata": {}
        }
      ],
      "source": [
        "pairs_count = Counter()\n",
        "pair2word = defaultdict(set)\n",
        "for w, c in tqdm(word_count.items(), total=len(word_count)):\n",
        "    enc = word2toks[w]\n",
        "    for pair in zip(enc[:-1], enc[1:]):\n",
        "        pairs_count[pair] += c\n",
        "        pair2word[pair].add(w)"
      ]
    },
    {
      "cell_type": "code",
      "execution_count": 14,
      "id": "8545c5de",
      "metadata": {
        "id": "8545c5de"
      },
      "outputs": [],
      "source": [
        "from heapdict import heapdict\n",
        "hd = heapdict()\n",
        "for w, c in pairs_count.items():\n",
        "    hd[w] = -c"
      ]
    },
    {
      "cell_type": "code",
      "execution_count": 15,
      "id": "90a76b4c",
      "metadata": {
        "id": "90a76b4c"
      },
      "outputs": [],
      "source": [
        "def replace_pair(old_tokens, pair, new_token):\n",
        "    result = []\n",
        "    prev = old_tokens[0]\n",
        "    for tok in old_tokens[1:]:\n",
        "        if (prev, tok) == pair:\n",
        "            result.append(new_token)\n",
        "            prev = None\n",
        "        else:\n",
        "            if prev is not None:\n",
        "                result.append(prev)\n",
        "            prev = tok\n",
        "    if prev is not None:\n",
        "        result.append(prev)\n",
        "    return result"
      ]
    },
    {
      "cell_type": "code",
      "execution_count": 16,
      "id": "702db78e",
      "metadata": {
        "colab": {
          "base_uri": "https://localhost:8080/",
          "height": 49,
          "referenced_widgets": [
            "50cc81c152824961bdda3fc461ada086",
            "6268644d49024010a015dd7f637f0056",
            "0cc7037b1aec45558ec5e391248a8637",
            "ac8c8cf6f6504871a59aee22010472aa",
            "7a46fde37b934951bfd06295ccc4e4aa",
            "236dcbfaa73349718d655cfc1cac43ba",
            "00659f83c37845a592a511d05683926a",
            "145bb5b6fedb4b85b17c1bc5cd7fddc1",
            "2353a835b53b4319a8a61bde853f8dc6",
            "6e2937d765814753853f743390e2a5a6",
            "ed8d806df04e43fcb272b86281884fad"
          ]
        },
        "id": "702db78e",
        "outputId": "93c9eb3c-a411-4e2c-d3be-70ce3631e748"
      },
      "outputs": [
        {
          "output_type": "display_data",
          "data": {
            "text/plain": [
              "  0%|          | 0/100000 [00:00<?, ?it/s]"
            ],
            "application/vnd.jupyter.widget-view+json": {
              "version_major": 2,
              "version_minor": 0,
              "model_id": "50cc81c152824961bdda3fc461ada086"
            }
          },
          "metadata": {}
        }
      ],
      "source": [
        "for _ in trange(steps):\n",
        "    #pair, c = pairs_count.most_common(1)[0]  # это самая времязатратная операция\n",
        "    pair, c = hd.peekitem()\n",
        "    c = -c\n",
        "    \n",
        "    if c < min_count:\n",
        "        break\n",
        "    new_token = ''.join(pair) # instead of BERT-like pair[0] + pair[1][2:]\n",
        "    extra_vocab.append(pair)\n",
        "    extra_counts.append(c)\n",
        "    extra_pairs.append(pair)\n",
        "    \n",
        "    # update the vocabulary\n",
        "    #new_id = len(id2ids)\n",
        "    #tok2id[new_token] = new_id\n",
        "    #id2ids.append(id2ids[tok2id[pair[0]]] + id2ids[tok2id[pair[1]]]) \n",
        "    \n",
        "    # calculate the delta for the heap\n",
        "    delta = Counter()\n",
        "    for word in list(pair2word[pair]):\n",
        "        # calculate old and new ways to tokenize the word\n",
        "        old_toks = word2toks[word]\n",
        "        # new_toks = \" \".join(old_toks).replace(' '.join(pair), new_token).split(\" \")\n",
        "        new_toks = replace_pair(old_toks, pair, new_token)\n",
        "        word2toks[word] = new_toks\n",
        "        wc = word_count[word]\n",
        "        # update the index concerning the tokens of the word\n",
        "        for old_pair in zip(old_toks[:-1], old_toks[1:]):\n",
        "            #pairs_count[old_pair] -= wc\n",
        "            delta[old_pair] -= wc\n",
        "            if word in pair2word[old_pair]:\n",
        "                pair2word[old_pair].remove(word)\n",
        "        for new_pair in zip(new_toks[:-1], new_toks[1:]):\n",
        "            # pairs_count[new_pair] += wc\n",
        "            delta[new_pair] += wc\n",
        "            pair2word[new_pair].add(word)\n",
        "    # update the heap\n",
        "    for a_pair, a_delta in delta.items():\n",
        "        if a_delta == 0:\n",
        "            continue\n",
        "        if a_pair not in hd:\n",
        "            hd[a_pair] = 0\n",
        "        hd[a_pair] -= a_delta"
      ]
    },
    {
      "cell_type": "code",
      "execution_count": 17,
      "id": "71931ad6",
      "metadata": {
        "colab": {
          "base_uri": "https://localhost:8080/"
        },
        "id": "71931ad6",
        "outputId": "7fea184c-7088-488f-8e36-9036ec5145f9"
      },
      "outputs": [
        {
          "output_type": "execute_result",
          "data": {
            "text/plain": [
              "21810"
            ]
          },
          "metadata": {},
          "execution_count": 17
        }
      ],
      "source": [
        "len(extra_pairs)"
      ]
    },
    {
      "cell_type": "code",
      "execution_count": 18,
      "id": "4e1b3177",
      "metadata": {
        "colab": {
          "base_uri": "https://localhost:8080/"
        },
        "id": "4e1b3177",
        "outputId": "1fb56767-c19e-4553-c2bd-d71d800659ca"
      },
      "outputs": [
        {
          "output_type": "execute_result",
          "data": {
            "text/plain": [
              "[('h', 'ан'),\n",
              " ('▁гэж', 'э'),\n",
              " ('h', 'эн'),\n",
              " ('х', 'э'),\n",
              " ('h', 'а'),\n",
              " ('б', 'э'),\n",
              " ('шь', 'е'),\n",
              " ('▁я', 'ба'),\n",
              " ('я', 'а'),\n",
              " ('h', 'аа')]"
            ]
          },
          "metadata": {},
          "execution_count": 18
        }
      ],
      "source": [
        "extra_pairs[:10]"
      ]
    },
    {
      "cell_type": "code",
      "execution_count": 19,
      "id": "35bb4cdd",
      "metadata": {
        "colab": {
          "base_uri": "https://localhost:8080/"
        },
        "id": "35bb4cdd",
        "outputId": "9913bab9-0cf6-4dd7-c90a-1d366f4fca6e"
      },
      "outputs": [
        {
          "output_type": "execute_result",
          "data": {
            "text/plain": [
              "('old_tokenizer/tokenizer_config.json',\n",
              " 'old_tokenizer/special_tokens_map.json',\n",
              " 'old_tokenizer/sentencepiece.bpe.model',\n",
              " 'old_tokenizer/added_tokens.json')"
            ]
          },
          "metadata": {},
          "execution_count": 19
        }
      ],
      "source": [
        "tokenizer.save_pretrained('old_tokenizer')"
      ]
    },
    {
      "cell_type": "code",
      "execution_count": 20,
      "id": "f7374a6e",
      "metadata": {
        "colab": {
          "base_uri": "https://localhost:8080/"
        },
        "id": "f7374a6e",
        "outputId": "99d4affb-51cb-49a5-8d93-115b6b366f8a"
      },
      "outputs": [
        {
          "output_type": "execute_result",
          "data": {
            "text/plain": [
              "5069051"
            ]
          },
          "metadata": {},
          "execution_count": 20
        }
      ],
      "source": [
        "import sentencepiece_model_pb2 as model\n",
        "m = model.ModelProto()\n",
        "m.ParseFromString(open(\"old_tokenizer/sentencepiece.bpe.model\", \"rb\").read())"
      ]
    },
    {
      "cell_type": "code",
      "execution_count": 21,
      "id": "b5f1dd90",
      "metadata": {
        "id": "b5f1dd90"
      },
      "outputs": [],
      "source": [
        "scores = [p.score for p in m.pieces]\n",
        "min_score = min(scores)\n",
        "epsilon = 1e-4"
      ]
    },
    {
      "cell_type": "code",
      "execution_count": 22,
      "id": "9708a942",
      "metadata": {
        "id": "9708a942"
      },
      "outputs": [],
      "source": [
        "for i, pair in enumerate(extra_vocab):\n",
        "    new_token = model.ModelProto().SentencePiece()\n",
        "    new_token.piece = ''.join(pair)\n",
        "    new_token.score = min_score - epsilon * (i+1)\n",
        "    m.pieces.append(new_token)"
      ]
    },
    {
      "cell_type": "code",
      "execution_count": 23,
      "id": "53127238",
      "metadata": {
        "id": "53127238"
      },
      "outputs": [],
      "source": [
        "with open(\"old_tokenizer/sentencepiece.bpe.model\", 'wb') as f:\n",
        "    f.write(m.SerializeToString())"
      ]
    },
    {
      "cell_type": "code",
      "execution_count": 25,
      "id": "a12b727c",
      "metadata": {
        "id": "a12b727c",
        "colab": {
          "base_uri": "https://localhost:8080/",
          "height": 345
        },
        "outputId": "c6345266-f613-4ee3-ffc6-966816b080b0"
      },
      "outputs": [
        {
          "output_type": "error",
          "ename": "RuntimeError",
          "evalue": "ignored",
          "traceback": [
            "\u001b[0;31m---------------------------------------------------------------------------\u001b[0m",
            "\u001b[0;31mRuntimeError\u001b[0m                              Traceback (most recent call last)",
            "\u001b[0;32m<ipython-input-25-aae14aba6e61>\u001b[0m in \u001b[0;36m<cell line: 1>\u001b[0;34m()\u001b[0m\n\u001b[0;32m----> 1\u001b[0;31m tokenizer =  MBart50Tokenizer.from_pretrained(\n\u001b[0m\u001b[1;32m      2\u001b[0m     \"old_tokenizer/\") \n",
            "\u001b[0;32m/usr/local/lib/python3.10/dist-packages/transformers/tokenization_utils_base.py\u001b[0m in \u001b[0;36mfrom_pretrained\u001b[0;34m(cls, pretrained_model_name_or_path, *init_inputs, **kwargs)\u001b[0m\n\u001b[1;32m   1810\u001b[0m                 \u001b[0mlogger\u001b[0m\u001b[0;34m.\u001b[0m\u001b[0minfo\u001b[0m\u001b[0;34m(\u001b[0m\u001b[0;34mf\"loading file {file_path} from cache at {resolved_vocab_files[file_id]}\"\u001b[0m\u001b[0;34m)\u001b[0m\u001b[0;34m\u001b[0m\u001b[0;34m\u001b[0m\u001b[0m\n\u001b[1;32m   1811\u001b[0m \u001b[0;34m\u001b[0m\u001b[0m\n\u001b[0;32m-> 1812\u001b[0;31m         return cls._from_pretrained(\n\u001b[0m\u001b[1;32m   1813\u001b[0m             \u001b[0mresolved_vocab_files\u001b[0m\u001b[0;34m,\u001b[0m\u001b[0;34m\u001b[0m\u001b[0;34m\u001b[0m\u001b[0m\n\u001b[1;32m   1814\u001b[0m             \u001b[0mpretrained_model_name_or_path\u001b[0m\u001b[0;34m,\u001b[0m\u001b[0;34m\u001b[0m\u001b[0;34m\u001b[0m\u001b[0m\n",
            "\u001b[0;32m/usr/local/lib/python3.10/dist-packages/transformers/tokenization_utils_base.py\u001b[0m in \u001b[0;36m_from_pretrained\u001b[0;34m(cls, resolved_vocab_files, pretrained_model_name_or_path, init_configuration, use_auth_token, cache_dir, local_files_only, _commit_hash, _is_local, *init_inputs, **kwargs)\u001b[0m\n\u001b[1;32m   1973\u001b[0m         \u001b[0;31m# Instantiate tokenizer.\u001b[0m\u001b[0;34m\u001b[0m\u001b[0;34m\u001b[0m\u001b[0m\n\u001b[1;32m   1974\u001b[0m         \u001b[0;32mtry\u001b[0m\u001b[0;34m:\u001b[0m\u001b[0;34m\u001b[0m\u001b[0;34m\u001b[0m\u001b[0m\n\u001b[0;32m-> 1975\u001b[0;31m             \u001b[0mtokenizer\u001b[0m \u001b[0;34m=\u001b[0m \u001b[0mcls\u001b[0m\u001b[0;34m(\u001b[0m\u001b[0;34m*\u001b[0m\u001b[0minit_inputs\u001b[0m\u001b[0;34m,\u001b[0m \u001b[0;34m**\u001b[0m\u001b[0minit_kwargs\u001b[0m\u001b[0;34m)\u001b[0m\u001b[0;34m\u001b[0m\u001b[0;34m\u001b[0m\u001b[0m\n\u001b[0m\u001b[1;32m   1976\u001b[0m         \u001b[0;32mexcept\u001b[0m \u001b[0mOSError\u001b[0m\u001b[0;34m:\u001b[0m\u001b[0;34m\u001b[0m\u001b[0;34m\u001b[0m\u001b[0m\n\u001b[1;32m   1977\u001b[0m             raise OSError(\n",
            "\u001b[0;32m/usr/local/lib/python3.10/dist-packages/transformers/models/mbart50/tokenization_mbart50.py\u001b[0m in \u001b[0;36m__init__\u001b[0;34m(self, vocab_file, src_lang, tgt_lang, eos_token, sep_token, cls_token, unk_token, pad_token, mask_token, sp_model_kwargs, **kwargs)\u001b[0m\n\u001b[1;32m    152\u001b[0m \u001b[0;34m\u001b[0m\u001b[0m\n\u001b[1;32m    153\u001b[0m         \u001b[0mself\u001b[0m\u001b[0;34m.\u001b[0m\u001b[0msp_model\u001b[0m \u001b[0;34m=\u001b[0m \u001b[0mspm\u001b[0m\u001b[0;34m.\u001b[0m\u001b[0mSentencePieceProcessor\u001b[0m\u001b[0;34m(\u001b[0m\u001b[0;34m**\u001b[0m\u001b[0mself\u001b[0m\u001b[0;34m.\u001b[0m\u001b[0msp_model_kwargs\u001b[0m\u001b[0;34m)\u001b[0m\u001b[0;34m\u001b[0m\u001b[0;34m\u001b[0m\u001b[0m\n\u001b[0;32m--> 154\u001b[0;31m         \u001b[0mself\u001b[0m\u001b[0;34m.\u001b[0m\u001b[0msp_model\u001b[0m\u001b[0;34m.\u001b[0m\u001b[0mLoad\u001b[0m\u001b[0;34m(\u001b[0m\u001b[0mstr\u001b[0m\u001b[0;34m(\u001b[0m\u001b[0mvocab_file\u001b[0m\u001b[0;34m)\u001b[0m\u001b[0;34m)\u001b[0m\u001b[0;34m\u001b[0m\u001b[0;34m\u001b[0m\u001b[0m\n\u001b[0m\u001b[1;32m    155\u001b[0m         \u001b[0mself\u001b[0m\u001b[0;34m.\u001b[0m\u001b[0mvocab_file\u001b[0m \u001b[0;34m=\u001b[0m \u001b[0mvocab_file\u001b[0m\u001b[0;34m\u001b[0m\u001b[0;34m\u001b[0m\u001b[0m\n\u001b[1;32m    156\u001b[0m \u001b[0;34m\u001b[0m\u001b[0m\n",
            "\u001b[0;32m/usr/local/lib/python3.10/dist-packages/sentencepiece/__init__.py\u001b[0m in \u001b[0;36mLoad\u001b[0;34m(self, model_file, model_proto)\u001b[0m\n\u001b[1;32m    903\u001b[0m       \u001b[0;32mif\u001b[0m \u001b[0mmodel_proto\u001b[0m\u001b[0;34m:\u001b[0m\u001b[0;34m\u001b[0m\u001b[0;34m\u001b[0m\u001b[0m\n\u001b[1;32m    904\u001b[0m         \u001b[0;32mreturn\u001b[0m \u001b[0mself\u001b[0m\u001b[0;34m.\u001b[0m\u001b[0mLoadFromSerializedProto\u001b[0m\u001b[0;34m(\u001b[0m\u001b[0mmodel_proto\u001b[0m\u001b[0;34m)\u001b[0m\u001b[0;34m\u001b[0m\u001b[0;34m\u001b[0m\u001b[0m\n\u001b[0;32m--> 905\u001b[0;31m       \u001b[0;32mreturn\u001b[0m \u001b[0mself\u001b[0m\u001b[0;34m.\u001b[0m\u001b[0mLoadFromFile\u001b[0m\u001b[0;34m(\u001b[0m\u001b[0mmodel_file\u001b[0m\u001b[0;34m)\u001b[0m\u001b[0;34m\u001b[0m\u001b[0;34m\u001b[0m\u001b[0m\n\u001b[0m\u001b[1;32m    906\u001b[0m \u001b[0;34m\u001b[0m\u001b[0m\n\u001b[1;32m    907\u001b[0m \u001b[0;34m\u001b[0m\u001b[0m\n",
            "\u001b[0;32m/usr/local/lib/python3.10/dist-packages/sentencepiece/__init__.py\u001b[0m in \u001b[0;36mLoadFromFile\u001b[0;34m(self, arg)\u001b[0m\n\u001b[1;32m    308\u001b[0m \u001b[0;34m\u001b[0m\u001b[0m\n\u001b[1;32m    309\u001b[0m     \u001b[0;32mdef\u001b[0m \u001b[0mLoadFromFile\u001b[0m\u001b[0;34m(\u001b[0m\u001b[0mself\u001b[0m\u001b[0;34m,\u001b[0m \u001b[0marg\u001b[0m\u001b[0;34m)\u001b[0m\u001b[0;34m:\u001b[0m\u001b[0;34m\u001b[0m\u001b[0;34m\u001b[0m\u001b[0m\n\u001b[0;32m--> 310\u001b[0;31m         \u001b[0;32mreturn\u001b[0m \u001b[0m_sentencepiece\u001b[0m\u001b[0;34m.\u001b[0m\u001b[0mSentencePieceProcessor_LoadFromFile\u001b[0m\u001b[0;34m(\u001b[0m\u001b[0mself\u001b[0m\u001b[0;34m,\u001b[0m \u001b[0marg\u001b[0m\u001b[0;34m)\u001b[0m\u001b[0;34m\u001b[0m\u001b[0;34m\u001b[0m\u001b[0m\n\u001b[0m\u001b[1;32m    311\u001b[0m \u001b[0;34m\u001b[0m\u001b[0m\n\u001b[1;32m    312\u001b[0m     \u001b[0;32mdef\u001b[0m \u001b[0m_EncodeAsIds\u001b[0m\u001b[0;34m(\u001b[0m\u001b[0mself\u001b[0m\u001b[0;34m,\u001b[0m \u001b[0mtext\u001b[0m\u001b[0;34m,\u001b[0m \u001b[0menable_sampling\u001b[0m\u001b[0;34m,\u001b[0m \u001b[0mnbest_size\u001b[0m\u001b[0;34m,\u001b[0m \u001b[0malpha\u001b[0m\u001b[0;34m,\u001b[0m \u001b[0madd_bos\u001b[0m\u001b[0;34m,\u001b[0m \u001b[0madd_eos\u001b[0m\u001b[0;34m,\u001b[0m \u001b[0mreverse\u001b[0m\u001b[0;34m,\u001b[0m \u001b[0memit_unk_piece\u001b[0m\u001b[0;34m)\u001b[0m\u001b[0;34m:\u001b[0m\u001b[0;34m\u001b[0m\u001b[0;34m\u001b[0m\u001b[0m\n",
            "\u001b[0;31mRuntimeError\u001b[0m: Internal: ............................... is already defined."
          ]
        }
      ],
      "source": [
        "# tokenizer =  MBart50Tokenizer.from_pretrained(\n",
        "#     \"old_tokenizer/\") "
      ]
    },
    {
      "cell_type": "code",
      "execution_count": 29,
      "id": "554f9868",
      "metadata": {
        "id": "554f9868"
      },
      "outputs": [],
      "source": [
        "new_tokenizer = tokenizer"
      ]
    },
    {
      "cell_type": "code",
      "execution_count": 30,
      "id": "099a016a",
      "metadata": {
        "colab": {
          "base_uri": "https://localhost:8080/"
        },
        "id": "099a016a",
        "outputId": "06ca9b27-f56d-4961-e0d6-966dde0a132d"
      },
      "outputs": [
        {
          "output_type": "execute_result",
          "data": {
            "text/plain": [
              "250054"
            ]
          },
          "metadata": {},
          "execution_count": 30
        }
      ],
      "source": [
        "new_tokenizer.vocab_size"
      ]
    },
    {
      "cell_type": "markdown",
      "id": "d137b5d2",
      "metadata": {
        "id": "d137b5d2"
      },
      "source": [
        "7893 новых токенов"
      ]
    },
    {
      "cell_type": "code",
      "execution_count": 31,
      "id": "f2cbd3b6",
      "metadata": {
        "id": "f2cbd3b6"
      },
      "outputs": [],
      "source": [
        "from transformers.models.mbart50.tokenization_mbart50 import FAIRSEQ_LANGUAGE_CODES"
      ]
    },
    {
      "cell_type": "code",
      "execution_count": 32,
      "id": "6d595ba8",
      "metadata": {
        "id": "6d595ba8"
      },
      "outputs": [],
      "source": [
        "self = new_tokenizer"
      ]
    },
    {
      "cell_type": "code",
      "execution_count": 33,
      "id": "0c88e630",
      "metadata": {
        "id": "0c88e630"
      },
      "outputs": [],
      "source": [
        "self.lang_code_to_id = {\n",
        "    code: self.sp_model_size + i + self.fairseq_offset for i, code in enumerate(FAIRSEQ_LANGUAGE_CODES + ['bxr_XX'])\n",
        "}\n",
        "self.id_to_lang_code = {v: k for k, v in self.lang_code_to_id.items()}\n",
        "self.fairseq_tokens_to_ids[\"<mask>\"] = len(self.sp_model) + len(self.lang_code_to_id) + self.fairseq_offset\n",
        "\n",
        "self.fairseq_tokens_to_ids.update(self.lang_code_to_id)\n",
        "self.fairseq_ids_to_tokens = {v: k for k, v in self.fairseq_tokens_to_ids.items()}"
      ]
    },
    {
      "cell_type": "code",
      "execution_count": 34,
      "id": "0b4b49fa",
      "metadata": {
        "id": "0b4b49fa"
      },
      "outputs": [],
      "source": [
        "new_tokenizer.additional_special_tokens.append('bxr_XX')"
      ]
    },
    {
      "cell_type": "code",
      "execution_count": 35,
      "id": "3f921ddf",
      "metadata": {
        "colab": {
          "base_uri": "https://localhost:8080/"
        },
        "id": "3f921ddf",
        "outputId": "97b993e3-cd36-4fbc-b1f2-8772fc0b785b"
      },
      "outputs": [
        {
          "output_type": "execute_result",
          "data": {
            "text/plain": [
              "250055"
            ]
          },
          "metadata": {},
          "execution_count": 35
        }
      ],
      "source": [
        "# +1 токен для обозначения языка\n",
        "new_tokenizer.vocab_size"
      ]
    },
    {
      "cell_type": "code",
      "execution_count": 36,
      "id": "f4926727",
      "metadata": {
        "id": "f4926727"
      },
      "outputs": [],
      "source": [
        "tokenizer = MBart50Tokenizer.from_pretrained(\"facebook/mbart-large-50-many-to-many-mmt\")"
      ]
    },
    {
      "cell_type": "code",
      "execution_count": 37,
      "id": "2047f8e3",
      "metadata": {
        "colab": {
          "base_uri": "https://localhost:8080/"
        },
        "id": "2047f8e3",
        "outputId": "97b52b30-99dc-47bb-bf2c-3c999c3341cd"
      },
      "outputs": [
        {
          "output_type": "stream",
          "name": "stdout",
          "text": [
            "['▁5', '28', 'уха', 'андаа', '▁оруул', 'аагүй', '▁юу', 'мэ', 'е', 'э', '▁дуу', 'гар', 'жар', 'хи', 'ба', '.']\n",
            "['▁5', '28', 'уха', 'андаа', '▁оруул', 'аагүй', '▁юу', 'мэ', 'е', 'э', '▁дуу', 'гар', 'жар', 'хи', 'ба', '.']\n"
          ]
        }
      ],
      "source": [
        "print(tokenizer.tokenize(text))\n",
        "print(new_tokenizer.tokenize(text))"
      ]
    },
    {
      "cell_type": "code",
      "execution_count": 38,
      "id": "8d083e2f",
      "metadata": {
        "colab": {
          "base_uri": "https://localhost:8080/"
        },
        "id": "8d083e2f",
        "outputId": "4643ff14-b39f-4294-868a-2a6945919c39"
      },
      "outputs": [
        {
          "output_type": "stream",
          "name": "stderr",
          "text": [
            "<ipython-input-38-aaaef8a53f32>:2: DeprecationWarning: Sampling from a set deprecated\n",
            "since Python 3.9 and will be removed in a subsequent version.\n",
            "  sample = random.sample(bur_all, 10000)\n"
          ]
        }
      ],
      "source": [
        "random.seed(1)\n",
        "sample = random.sample(bur_all, 10000)"
      ]
    },
    {
      "cell_type": "code",
      "execution_count": 39,
      "id": "f6522c92",
      "metadata": {
        "colab": {
          "base_uri": "https://localhost:8080/",
          "height": 300
        },
        "id": "f6522c92",
        "outputId": "95f64075-1261-4eb0-9136-f5edd0a67ccf"
      },
      "outputs": [
        {
          "output_type": "execute_result",
          "data": {
            "text/plain": [
              "                old           new\n",
              "count  10000.000000  10000.000000\n",
              "mean      54.807300     54.807300\n",
              "std       74.959117     74.959117\n",
              "min        2.000000      2.000000\n",
              "25%       20.000000     20.000000\n",
              "50%       35.000000     35.000000\n",
              "75%       61.000000     61.000000\n",
              "max     3162.000000   3162.000000"
            ],
            "text/html": [
              "\n",
              "  <div id=\"df-147b4fd6-b230-4dc3-b4c4-86215c2c1c11\">\n",
              "    <div class=\"colab-df-container\">\n",
              "      <div>\n",
              "<style scoped>\n",
              "    .dataframe tbody tr th:only-of-type {\n",
              "        vertical-align: middle;\n",
              "    }\n",
              "\n",
              "    .dataframe tbody tr th {\n",
              "        vertical-align: top;\n",
              "    }\n",
              "\n",
              "    .dataframe thead th {\n",
              "        text-align: right;\n",
              "    }\n",
              "</style>\n",
              "<table border=\"1\" class=\"dataframe\">\n",
              "  <thead>\n",
              "    <tr style=\"text-align: right;\">\n",
              "      <th></th>\n",
              "      <th>old</th>\n",
              "      <th>new</th>\n",
              "    </tr>\n",
              "  </thead>\n",
              "  <tbody>\n",
              "    <tr>\n",
              "      <th>count</th>\n",
              "      <td>10000.000000</td>\n",
              "      <td>10000.000000</td>\n",
              "    </tr>\n",
              "    <tr>\n",
              "      <th>mean</th>\n",
              "      <td>54.807300</td>\n",
              "      <td>54.807300</td>\n",
              "    </tr>\n",
              "    <tr>\n",
              "      <th>std</th>\n",
              "      <td>74.959117</td>\n",
              "      <td>74.959117</td>\n",
              "    </tr>\n",
              "    <tr>\n",
              "      <th>min</th>\n",
              "      <td>2.000000</td>\n",
              "      <td>2.000000</td>\n",
              "    </tr>\n",
              "    <tr>\n",
              "      <th>25%</th>\n",
              "      <td>20.000000</td>\n",
              "      <td>20.000000</td>\n",
              "    </tr>\n",
              "    <tr>\n",
              "      <th>50%</th>\n",
              "      <td>35.000000</td>\n",
              "      <td>35.000000</td>\n",
              "    </tr>\n",
              "    <tr>\n",
              "      <th>75%</th>\n",
              "      <td>61.000000</td>\n",
              "      <td>61.000000</td>\n",
              "    </tr>\n",
              "    <tr>\n",
              "      <th>max</th>\n",
              "      <td>3162.000000</td>\n",
              "      <td>3162.000000</td>\n",
              "    </tr>\n",
              "  </tbody>\n",
              "</table>\n",
              "</div>\n",
              "      <button class=\"colab-df-convert\" onclick=\"convertToInteractive('df-147b4fd6-b230-4dc3-b4c4-86215c2c1c11')\"\n",
              "              title=\"Convert this dataframe to an interactive table.\"\n",
              "              style=\"display:none;\">\n",
              "        \n",
              "  <svg xmlns=\"http://www.w3.org/2000/svg\" height=\"24px\"viewBox=\"0 0 24 24\"\n",
              "       width=\"24px\">\n",
              "    <path d=\"M0 0h24v24H0V0z\" fill=\"none\"/>\n",
              "    <path d=\"M18.56 5.44l.94 2.06.94-2.06 2.06-.94-2.06-.94-.94-2.06-.94 2.06-2.06.94zm-11 1L8.5 8.5l.94-2.06 2.06-.94-2.06-.94L8.5 2.5l-.94 2.06-2.06.94zm10 10l.94 2.06.94-2.06 2.06-.94-2.06-.94-.94-2.06-.94 2.06-2.06.94z\"/><path d=\"M17.41 7.96l-1.37-1.37c-.4-.4-.92-.59-1.43-.59-.52 0-1.04.2-1.43.59L10.3 9.45l-7.72 7.72c-.78.78-.78 2.05 0 2.83L4 21.41c.39.39.9.59 1.41.59.51 0 1.02-.2 1.41-.59l7.78-7.78 2.81-2.81c.8-.78.8-2.07 0-2.86zM5.41 20L4 18.59l7.72-7.72 1.47 1.35L5.41 20z\"/>\n",
              "  </svg>\n",
              "      </button>\n",
              "      \n",
              "  <style>\n",
              "    .colab-df-container {\n",
              "      display:flex;\n",
              "      flex-wrap:wrap;\n",
              "      gap: 12px;\n",
              "    }\n",
              "\n",
              "    .colab-df-convert {\n",
              "      background-color: #E8F0FE;\n",
              "      border: none;\n",
              "      border-radius: 50%;\n",
              "      cursor: pointer;\n",
              "      display: none;\n",
              "      fill: #1967D2;\n",
              "      height: 32px;\n",
              "      padding: 0 0 0 0;\n",
              "      width: 32px;\n",
              "    }\n",
              "\n",
              "    .colab-df-convert:hover {\n",
              "      background-color: #E2EBFA;\n",
              "      box-shadow: 0px 1px 2px rgba(60, 64, 67, 0.3), 0px 1px 3px 1px rgba(60, 64, 67, 0.15);\n",
              "      fill: #174EA6;\n",
              "    }\n",
              "\n",
              "    [theme=dark] .colab-df-convert {\n",
              "      background-color: #3B4455;\n",
              "      fill: #D2E3FC;\n",
              "    }\n",
              "\n",
              "    [theme=dark] .colab-df-convert:hover {\n",
              "      background-color: #434B5C;\n",
              "      box-shadow: 0px 1px 3px 1px rgba(0, 0, 0, 0.15);\n",
              "      filter: drop-shadow(0px 1px 2px rgba(0, 0, 0, 0.3));\n",
              "      fill: #FFFFFF;\n",
              "    }\n",
              "  </style>\n",
              "\n",
              "      <script>\n",
              "        const buttonEl =\n",
              "          document.querySelector('#df-147b4fd6-b230-4dc3-b4c4-86215c2c1c11 button.colab-df-convert');\n",
              "        buttonEl.style.display =\n",
              "          google.colab.kernel.accessAllowed ? 'block' : 'none';\n",
              "\n",
              "        async function convertToInteractive(key) {\n",
              "          const element = document.querySelector('#df-147b4fd6-b230-4dc3-b4c4-86215c2c1c11');\n",
              "          const dataTable =\n",
              "            await google.colab.kernel.invokeFunction('convertToInteractive',\n",
              "                                                     [key], {});\n",
              "          if (!dataTable) return;\n",
              "\n",
              "          const docLinkHtml = 'Like what you see? Visit the ' +\n",
              "            '<a target=\"_blank\" href=https://colab.research.google.com/notebooks/data_table.ipynb>data table notebook</a>'\n",
              "            + ' to learn more about interactive tables.';\n",
              "          element.innerHTML = '';\n",
              "          dataTable['output_type'] = 'display_data';\n",
              "          await google.colab.output.renderOutput(dataTable, element);\n",
              "          const docLink = document.createElement('div');\n",
              "          docLink.innerHTML = docLinkHtml;\n",
              "          element.appendChild(docLink);\n",
              "        }\n",
              "      </script>\n",
              "    </div>\n",
              "  </div>\n",
              "  "
            ]
          },
          "metadata": {},
          "execution_count": 39
        }
      ],
      "source": [
        "# по 10к предложений статистика длины токенов\n",
        "pd.DataFrame({\n",
        "    'old': [len(tokenizer.tokenize(text)) for text in sample], \n",
        "    'new': [len(new_tokenizer.tokenize(text)) for text in sample]\n",
        "}).describe()"
      ]
    },
    {
      "cell_type": "markdown",
      "id": "a33cb8d0",
      "metadata": {
        "id": "a33cb8d0"
      },
      "source": [
        "## Calculating tokens alignment"
      ]
    },
    {
      "cell_type": "code",
      "execution_count": 40,
      "id": "1abb56b6",
      "metadata": {
        "id": "1abb56b6"
      },
      "outputs": [],
      "source": [
        "with open('train.json', 'r', encoding='utf-8') as f:\n",
        "    all_pairs = json.load(f)"
      ]
    },
    {
      "cell_type": "code",
      "source": [
        "with open('back_translated.json', 'r') as f:\n",
        "    back_translated = json.load(f)\n",
        "translated_pairs = list(zip(back_translated['original'], back_translated['translated']))"
      ],
      "metadata": {
        "id": "Ok0MczbYzkWj"
      },
      "id": "Ok0MczbYzkWj",
      "execution_count": 41,
      "outputs": []
    },
    {
      "cell_type": "code",
      "execution_count": 42,
      "id": "d6f9325e",
      "metadata": {
        "colab": {
          "base_uri": "https://localhost:8080/"
        },
        "id": "d6f9325e",
        "outputId": "82c55625-d62b-48ef-a886-5d10c41687a6"
      },
      "outputs": [
        {
          "output_type": "execute_result",
          "data": {
            "text/plain": [
              "['Буряад Уласай Засагай газарай 2022.04.07-ой №187 тогтоолоор БАТАЛАГДАА',\n",
              " '(тыс. рублей) УТВЕРЖДЕНО постановлением Правительства Республики Бурятия от 07.04.2022 № 187']"
            ]
          },
          "metadata": {},
          "execution_count": 42
        }
      ],
      "source": [
        "random.choice(all_pairs)"
      ]
    },
    {
      "cell_type": "code",
      "source": [
        "random.choice(translated_pairs)"
      ],
      "metadata": {
        "colab": {
          "base_uri": "https://localhost:8080/"
        },
        "id": "bwUlFg0Xz6Mb",
        "outputId": "5e10f09b-9128-4050-f62e-951df9981fdf"
      },
      "id": "bwUlFg0Xz6Mb",
      "execution_count": 43,
      "outputs": [
        {
          "output_type": "execute_result",
          "data": {
            "text/plain": [
              "('261                         Үглөөнэй наранаар эхэ нютагаа эрьен харахадам, Үнгэ бүриин дэльбэтэйҮзэсхэлэн hайхан сэсэгүүд амаршална намайе.Амар сайн, аглаг дайдымни сэсэгүүд!Бальжан гарма, тэмээн табгай, бамбагаа,Алаг нюдэн, сагаан дали, улаалзай —Эхэ нютагаймни шэмэг.Үрэжэлтэ газарай үрэ зүрхэнhөө түрэhэнИрагуу hайхан дуунууд мэтэлта.Эреэлнэ ногоорhон сэсэгтэ нугаяа харахадаа,Нюдэмни баясана,Хангал hайхан үнэрыень үнэсэн ябахадаа, Сэдьхэлни уярна.Үнгэрhэн сагта элдин таладаа үеэ тэнииhэнҮбгэ эсэгэнэрэймнай үрэ зүрхэнhөө ургаа ха гү?Али үе наhаараа үгытэй ядуу,Хараалта замбида хашагдаhан баhуулhанҺаруул hайхан сэдьхэлтэйДууша хүнэй алагхан нюдэнhөөМүндэлөө ха гү эдэ сэсэгүүд?...Хэрбээ тиимэ юм hаа,Һайхан лэ үбгэ эсэгэнэртэй байгаа хабди даа.\\n',\n",
              " '261 Добро утро, родной мой, у меня цветутся лепестки красного голода. Откуда доброе и милые цветы! нежная трава, верблюд, розовый костер, глаза белые, крылатые — Родина 1940 года. Рожденные в селениях прекрасные песни о любви. Видя старую маму Ереэлну, я радуюсь ее благоволением, любопытством. Каковы же плоды моих похотей за временные браки? А разве это отличие нищеты, происхождения из уст добрых праведников?... Если так, то будем иметь приятные предки.')"
            ]
          },
          "metadata": {},
          "execution_count": 43
        }
      ]
    },
    {
      "cell_type": "code",
      "source": [
        "all_pairs += translated_pairs"
      ],
      "metadata": {
        "id": "DNpAJOXlz31a"
      },
      "id": "DNpAJOXlz31a",
      "execution_count": 44,
      "outputs": []
    },
    {
      "cell_type": "code",
      "execution_count": 45,
      "id": "375f29a5",
      "metadata": {
        "colab": {
          "base_uri": "https://localhost:8080/"
        },
        "id": "375f29a5",
        "outputId": "2d767290-93b0-4081-bcd4-8d181c7b8ead"
      },
      "outputs": [
        {
          "output_type": "execute_result",
          "data": {
            "text/plain": [
              "('длина параллельного текста (предложения и слова) ', 47653)"
            ]
          },
          "metadata": {},
          "execution_count": 45
        }
      ],
      "source": [
        "'длина параллельного текста (предложения и слова) ', len(all_pairs)"
      ]
    },
    {
      "cell_type": "code",
      "execution_count": 46,
      "id": "d0abce9d",
      "metadata": {
        "id": "d0abce9d"
      },
      "outputs": [],
      "source": [
        "from collections import defaultdict, Counter\n",
        "token_priors = Counter()\n",
        "token_to_others = defaultdict(Counter)"
      ]
    },
    {
      "cell_type": "code",
      "execution_count": 48,
      "id": "e1ee8fea",
      "metadata": {
        "colab": {
          "base_uri": "https://localhost:8080/",
          "height": 49,
          "referenced_widgets": [
            "2fdf4363fbc04b3ea22a366601eadfeb",
            "c15222b1a08e49e2b419ef143a974237",
            "4048c874d2654df0a321f60d94187423",
            "28652963f0c8474ab993b6dae7bd8112",
            "f7f89f12533f43c182f775a99ec401b8",
            "5558fdbc7a304d4dbdd7ea675f6974da",
            "33ade4d398ac4323b6090517f9ed4e8d",
            "bd74929e8cae4221959960bc0f944057",
            "a701d2619b6e423bbdaa8b5f96a6d186",
            "9e925d5ec5e44d4a9e5a90bfb61e1da8",
            "bc4d0355b0ee420786a360c3f2c35aeb"
          ]
        },
        "id": "e1ee8fea",
        "outputId": "72b589dc-2271-4db4-c1cb-c2623d6566a6"
      },
      "outputs": [
        {
          "output_type": "display_data",
          "data": {
            "text/plain": [
              "  0%|          | 0/47653 [00:00<?, ?it/s]"
            ],
            "application/vnd.jupyter.widget-view+json": {
              "version_major": 2,
              "version_minor": 0,
              "model_id": "2fdf4363fbc04b3ea22a366601eadfeb"
            }
          },
          "metadata": {}
        }
      ],
      "source": [
        "for bur, ru in tqdm(all_pairs):\n",
        "    bur_toks = new_tokenizer.convert_tokens_to_ids(new_tokenizer.tokenize(bur))\n",
        "    ru_toks = tokenizer.convert_tokens_to_ids(tokenizer.tokenize(ru))\n",
        "    token_priors.update(ru_toks)\n",
        "    for bur_tok in bur_toks:\n",
        "        token_to_others[bur_tok].update(ru_toks)"
      ]
    },
    {
      "cell_type": "code",
      "execution_count": 49,
      "id": "101cc6a4",
      "metadata": {
        "id": "101cc6a4"
      },
      "outputs": [],
      "source": [
        "import numpy as np\n",
        "\n",
        "def get_ru_toks(bxr_tok):\n",
        "    ru_toks = []\n",
        "    ru_weights = []\n",
        "    for t, w in token_to_others[bxr_tok].items():\n",
        "        ru_toks.append(t)\n",
        "        ru_weights.append(w**2 / token_priors[t])\n",
        "    ru_weights = np.array(ru_weights)\n",
        "    ru_weights = ru_weights / (sum(ru_weights) + 1e-4)\n",
        "    return ru_weights, ru_toks"
      ]
    },
    {
      "cell_type": "code",
      "execution_count": 50,
      "id": "0d09782a",
      "metadata": {
        "colab": {
          "base_uri": "https://localhost:8080/"
        },
        "id": "0d09782a",
        "outputId": "b9921cd7-2a7d-4ba1-a5c3-a8007fa7b4a9"
      },
      "outputs": [
        {
          "output_type": "execute_result",
          "data": {
            "text/plain": [
              "('Площадь дээрэ хон жэн болобо.', 'Площадь опустела.')"
            ]
          },
          "metadata": {},
          "execution_count": 50
        }
      ],
      "source": [
        "bur, ru = random.choice(all_pairs)\n",
        "bur, ru"
      ]
    },
    {
      "cell_type": "code",
      "execution_count": 51,
      "id": "5517ac00",
      "metadata": {
        "colab": {
          "base_uri": "https://localhost:8080/"
        },
        "id": "5517ac00",
        "outputId": "09ea279a-c7cf-4428-a555-5ec13a14df84"
      },
      "outputs": [
        {
          "output_type": "stream",
          "name": "stdout",
          "text": [
            "[89007, 4653, 40535, 13349, 8618, 6, 49368, 2637, 8763, 2849, 113009, 5]\n"
          ]
        }
      ],
      "source": [
        "print(new_tokenizer.convert_tokens_to_ids(new_tokenizer.tokenize(bur)))"
      ]
    },
    {
      "cell_type": "code",
      "execution_count": 52,
      "id": "f25a5d9b",
      "metadata": {
        "id": "f25a5d9b"
      },
      "outputs": [],
      "source": [
        "bur_token = 37976"
      ]
    },
    {
      "cell_type": "code",
      "execution_count": 53,
      "id": "b276a3ac",
      "metadata": {
        "colab": {
          "base_uri": "https://localhost:8080/"
        },
        "id": "b276a3ac",
        "outputId": "01e63907-4258-4bd4-902c-09557ea6b1b4"
      },
      "outputs": [
        {
          "output_type": "execute_result",
          "data": {
            "text/plain": [
              "[(0.6349098684971944, 37976),\n",
              " (0.19436016382567178, 222149),\n",
              " (0.024295020478208973, 180079),\n",
              " (0.021595573758407975, 177462),\n",
              " (0.017669105802333798, 78917)]"
            ]
          },
          "metadata": {},
          "execution_count": 53
        }
      ],
      "source": [
        "sorted(zip(*get_ru_toks(bur_token)), reverse=True)[:5]"
      ]
    },
    {
      "cell_type": "code",
      "execution_count": 54,
      "id": "5952758e",
      "metadata": {
        "colab": {
          "base_uri": "https://localhost:8080/"
        },
        "id": "5952758e",
        "outputId": "a7244b9f-939d-4a0a-ddb4-92c8788595af"
      },
      "outputs": [
        {
          "output_type": "execute_result",
          "data": {
            "text/plain": [
              "['▁демократ', '▁демократия', 'изация', 'изм', 'ический']"
            ]
          },
          "metadata": {},
          "execution_count": 54
        }
      ],
      "source": [
        "tokenizer.convert_ids_to_tokens([37976, 222149, 42315,  17512, 49517])"
      ]
    },
    {
      "cell_type": "markdown",
      "id": "bc33ea7a",
      "metadata": {
        "id": "bc33ea7a"
      },
      "source": [
        "## Updating the model embeddings"
      ]
    },
    {
      "cell_type": "code",
      "execution_count": 55,
      "id": "71f10ab1",
      "metadata": {
        "colab": {
          "base_uri": "https://localhost:8080/"
        },
        "id": "71f10ab1",
        "outputId": "ca3e8e48-12f6-455a-87a1-4a666dd3faea"
      },
      "outputs": [
        {
          "output_type": "execute_result",
          "data": {
            "text/plain": [
              "250055"
            ]
          },
          "metadata": {},
          "execution_count": 55
        }
      ],
      "source": [
        "len(new_tokenizer)"
      ]
    },
    {
      "cell_type": "code",
      "execution_count": 56,
      "id": "aa61f630",
      "metadata": {
        "colab": {
          "base_uri": "https://localhost:8080/",
          "height": 81,
          "referenced_widgets": [
            "5d336c1bd89143198a7c40c88346fda4",
            "03d633d84d83429091e0ad0b2d8054fb",
            "1b564f5f2d8d450ab224e4be471f45c9",
            "9bd9865ee72040309f00bfd2fa860c4b",
            "d3cfde4f07a24868b263eeb184af31d0",
            "c2db7e9a3273432db2fc29134821d9be",
            "6cbd40e360a543fd856ac830fe67ecb5",
            "b7fe9ac6b41f459db8fb124c10356a65",
            "63385f8d10ce406497a5ac0816e029e2",
            "e0bed9f4fc614e4c9396a1a862a93276",
            "b21d7085c4e5493b8517e846c1d1f489",
            "e505e00bb8ec43c297dc0ed135499035",
            "4f3f7ac9d45041f2bbf269a803eda62e",
            "73b39e40bce24e5992e3392673161030",
            "5714d29122c04e40895f4803154afdae",
            "7773e7e6fb254b90978cde99fabf440a",
            "f97bca6d2d8b4d6380199f3081715af5",
            "eebaca1f5f914d2ab5a49390f27cb720",
            "8bc9cd01473242d7a987af7fe0f36b36",
            "9c8eeebd9a6741cfba00aca8de9c6659",
            "af7b1f88085e43ab8c71f3d58fa38e52",
            "dab4cae941cc467f9b40421aea56cd56"
          ]
        },
        "id": "aa61f630",
        "outputId": "2544eeb2-84ef-44b3-8223-1f6e3349d896"
      },
      "outputs": [
        {
          "output_type": "display_data",
          "data": {
            "text/plain": [
              "Downloading pytorch_model.bin:   0%|          | 0.00/2.44G [00:00<?, ?B/s]"
            ],
            "application/vnd.jupyter.widget-view+json": {
              "version_major": 2,
              "version_minor": 0,
              "model_id": "5d336c1bd89143198a7c40c88346fda4"
            }
          },
          "metadata": {}
        },
        {
          "output_type": "display_data",
          "data": {
            "text/plain": [
              "Downloading (…)neration_config.json:   0%|          | 0.00/261 [00:00<?, ?B/s]"
            ],
            "application/vnd.jupyter.widget-view+json": {
              "version_major": 2,
              "version_minor": 0,
              "model_id": "e505e00bb8ec43c297dc0ed135499035"
            }
          },
          "metadata": {}
        }
      ],
      "source": [
        "from transformers import MBartForConditionalGeneration, MBart50Tokenizer\n",
        "model = MBartForConditionalGeneration.from_pretrained(\"facebook/mbart-large-50-many-to-many-mmt\")"
      ]
    },
    {
      "cell_type": "code",
      "execution_count": 57,
      "id": "4b88ba4f",
      "metadata": {
        "colab": {
          "base_uri": "https://localhost:8080/"
        },
        "id": "4b88ba4f",
        "outputId": "a6e17c78-d176-4718-926f-a0b677592f94"
      },
      "outputs": [
        {
          "output_type": "execute_result",
          "data": {
            "text/plain": [
              "Embedding(250054, 1024, padding_idx=1)"
            ]
          },
          "metadata": {},
          "execution_count": 57
        }
      ],
      "source": [
        "model.model.shared"
      ]
    },
    {
      "cell_type": "code",
      "execution_count": 58,
      "id": "4ff81b7c",
      "metadata": {
        "colab": {
          "base_uri": "https://localhost:8080/"
        },
        "id": "4ff81b7c",
        "outputId": "85935280-36de-454d-bb69-4f7f00667a2e"
      },
      "outputs": [
        {
          "output_type": "execute_result",
          "data": {
            "text/plain": [
              "Embedding(250055, 1024)"
            ]
          },
          "metadata": {},
          "execution_count": 58
        }
      ],
      "source": [
        "# изменяем размер токенов\n",
        "model.resize_token_embeddings(len(new_tokenizer))"
      ]
    },
    {
      "cell_type": "code",
      "execution_count": 59,
      "id": "9c62619e",
      "metadata": {
        "colab": {
          "base_uri": "https://localhost:8080/"
        },
        "id": "9c62619e",
        "outputId": "f899674a-a68a-407e-b511-3cddf8cdebda"
      },
      "outputs": [
        {
          "output_type": "stream",
          "name": "stdout",
          "text": [
            "21810\n"
          ]
        }
      ],
      "source": [
        "n_extra = len(extra_vocab)\n",
        "print(n_extra)\n",
        "old_vocab_size = len(tokenizer.sp_model) + 1"
      ]
    },
    {
      "cell_type": "code",
      "execution_count": 60,
      "id": "1b687529",
      "metadata": {
        "colab": {
          "base_uri": "https://localhost:8080/"
        },
        "id": "1b687529",
        "outputId": "a9147e15-875c-4e7c-aa70-1e6af0b363d8"
      },
      "outputs": [
        {
          "output_type": "execute_result",
          "data": {
            "text/plain": [
              "250001"
            ]
          },
          "metadata": {},
          "execution_count": 60
        }
      ],
      "source": [
        "old_vocab_size"
      ]
    },
    {
      "cell_type": "code",
      "execution_count": 61,
      "id": "49228f05",
      "metadata": {
        "colab": {
          "base_uri": "https://localhost:8080/"
        },
        "id": "49228f05",
        "outputId": "51c95498-72ee-4495-a349-750d4cb45f41"
      },
      "outputs": [
        {
          "output_type": "stream",
          "name": "stdout",
          "text": [
            "250001 ar_AR 250001\n",
            "250002 cs_CZ 250002\n",
            "250003 de_DE 250003\n",
            "250004 en_XX 250004\n",
            "250005 es_XX 250005\n",
            "250006 et_EE 250006\n",
            "250007 fi_FI 250007\n",
            "250008 fr_XX 250008\n",
            "250009 gu_IN 250009\n",
            "250010 hi_IN 250010\n",
            "250011 it_IT 250011\n",
            "250012 ja_XX 250012\n",
            "250013 kk_KZ 250013\n",
            "250014 ko_KR 250014\n",
            "250015 lt_LT 250015\n",
            "250016 lv_LV 250016\n",
            "250017 my_MM 250017\n",
            "250018 ne_NP 250018\n",
            "250019 nl_XX 250019\n",
            "250020 ro_RO 250020\n",
            "250021 ru_RU 250021\n",
            "250022 si_LK 250022\n",
            "250023 tr_TR 250023\n",
            "250024 vi_VN 250024\n",
            "250025 zh_CN 250025\n",
            "250026 af_ZA 250026\n",
            "250027 az_AZ 250027\n",
            "250028 bn_IN 250028\n",
            "250029 fa_IR 250029\n",
            "250030 he_IL 250030\n",
            "250031 hr_HR 250031\n",
            "250032 id_ID 250032\n",
            "250033 ka_GE 250033\n",
            "250034 km_KH 250034\n",
            "250035 mk_MK 250035\n",
            "250036 ml_IN 250036\n",
            "250037 mn_MN 250037\n",
            "250038 mr_IN 250038\n",
            "250039 pl_PL 250039\n",
            "250040 ps_AF 250040\n",
            "250041 pt_XX 250041\n",
            "250042 sv_SE 250042\n",
            "250043 sw_KE 250043\n",
            "250044 ta_IN 250044\n",
            "250045 te_IN 250045\n",
            "250046 th_TH 250046\n",
            "250047 tl_XX 250047\n",
            "250048 uk_UA 250048\n",
            "250049 ur_PK 250049\n",
            "250050 xh_ZA 250050\n",
            "250051 gl_ES 250051\n",
            "250052 sl_SI 250052\n",
            "250053 <mask> 250054\n"
          ]
        }
      ],
      "source": [
        "# токены, кодирующие язык \"переместили\" в конец по айди\n",
        "\n",
        "for old_token_id in range(old_vocab_size, len(tokenizer)):\n",
        "    old_token = tokenizer.convert_ids_to_tokens(old_token_id)\n",
        "    new_token_id = new_tokenizer.convert_tokens_to_ids(old_token)\n",
        "    \n",
        "    print(old_token_id, old_token, new_token_id)\n",
        "    # model.model.shared.weight.data[i + n_extra] = model.model.shared.weight.data[i]\n",
        "    model.model.shared.weight.data[new_token_id] = model.model.shared.weight.data[old_token_id]"
      ]
    },
    {
      "cell_type": "markdown",
      "id": "56ff7ddf",
      "metadata": {
        "id": "56ff7ddf"
      },
      "source": [
        "~ 50 токенов для языков"
      ]
    },
    {
      "cell_type": "markdown",
      "id": "cb542034",
      "metadata": {
        "id": "cb542034"
      },
      "source": [
        "Because we have added one more language, its id must be computed separately, e.g. as an average of related languages"
      ]
    },
    {
      "cell_type": "code",
      "execution_count": 62,
      "id": "5fc34fef",
      "metadata": {
        "id": "5fc34fef"
      },
      "outputs": [],
      "source": [
        "model.model.shared.weight.data[new_tokenizer.convert_tokens_to_ids('bxr_XX')] = (\n",
        "    model.model.shared.weight.data[tokenizer.convert_tokens_to_ids('mn_MN')] * 0.45\n",
        "    + model.model.shared.weight.data[tokenizer.convert_tokens_to_ids('ru_RU')] * 0.45\n",
        ")"
      ]
    },
    {
      "cell_type": "markdown",
      "id": "08beae03",
      "metadata": {
        "id": "08beae03"
      },
      "source": [
        "Compute embeddings for newly added tokens"
      ]
    },
    {
      "cell_type": "code",
      "execution_count": 63,
      "id": "e86d91c5",
      "metadata": {
        "colab": {
          "base_uri": "https://localhost:8080/",
          "height": 49,
          "referenced_widgets": [
            "d0c90bb0348042f2a5b7afd1819ba63b",
            "2f8d898966e14c84982622d7428c7470",
            "b7902e5feb41431b8f1b7361b9138268",
            "4a0dd2e84c694917a34ef5f53773483c",
            "e034be208f584fc69e42d3fb185864a8",
            "afffb594153044c4b9655371a8456043",
            "b91bd2de47db4dadabba6aea9fea5a28",
            "6146286f594a48e88313d01e3b153e2b",
            "5c80e26c50374c7e94200b6771fbf0e7",
            "e1b53cb78c5b45939a7684a9fcc2197d",
            "4b70377290554a06b25e9b2178fbe780"
          ]
        },
        "id": "e86d91c5",
        "outputId": "8234c938-713c-4152-fefd-acf843e9eaf5"
      },
      "outputs": [
        {
          "output_type": "display_data",
          "data": {
            "text/plain": [
              "  0%|          | 0/21810 [00:00<?, ?it/s]"
            ],
            "application/vnd.jupyter.widget-view+json": {
              "version_major": 2,
              "version_minor": 0,
              "model_id": "d0c90bb0348042f2a5b7afd1819ba63b"
            }
          },
          "metadata": {}
        }
      ],
      "source": [
        "for i in trange(n_extra):\n",
        "    bxr_tok = i + old_vocab_size\n",
        "    ru_weights, ru_toks = get_ru_toks(bxr_tok)\n",
        "    if len(ru_toks) > 0:\n",
        "        new_embedding = (model.model.shared.weight.data[ru_toks].T * ru_weights).sum(1)\n",
        "        model.model.shared.weight.data[bxr_tok] = new_embedding"
      ]
    },
    {
      "cell_type": "code",
      "execution_count": 64,
      "id": "1410c202",
      "metadata": {
        "id": "1410c202"
      },
      "outputs": [],
      "source": [
        "# from google.colab import drive\n",
        "# drive.mount('/content/drive', force_remount=True)"
      ]
    },
    {
      "cell_type": "code",
      "execution_count": 65,
      "id": "d9f92178",
      "metadata": {
        "id": "d9f92178"
      },
      "outputs": [],
      "source": [
        "# new_model_path = '/content/drive/MyDrive/ml_models/bxr/mbart-large-50-bxr-v0'"
      ]
    },
    {
      "cell_type": "code",
      "execution_count": 66,
      "id": "c3905a58",
      "metadata": {
        "id": "c3905a58"
      },
      "outputs": [],
      "source": [
        "# model.save_pretrained(new_model_path)\n",
        "# new_tokenizer.save_pretrained(new_model_path)"
      ]
    },
    {
      "cell_type": "code",
      "execution_count": 67,
      "id": "ef9a2a5c",
      "metadata": {
        "id": "ef9a2a5c"
      },
      "outputs": [],
      "source": [
        "# !ls -alsh $new_model_path"
      ]
    },
    {
      "cell_type": "code",
      "execution_count": 67,
      "id": "8fda2c61",
      "metadata": {
        "id": "8fda2c61"
      },
      "outputs": [],
      "source": []
    },
    {
      "cell_type": "markdown",
      "id": "98d160f1",
      "metadata": {
        "id": "98d160f1"
      },
      "source": [
        "# Обучение модели на машинный перевод"
      ]
    },
    {
      "cell_type": "code",
      "execution_count": 68,
      "id": "7801d2c2",
      "metadata": {
        "id": "7801d2c2"
      },
      "outputs": [],
      "source": [
        "# from google.colab import drive\n",
        "# drive.mount('/content/drive')"
      ]
    },
    {
      "cell_type": "code",
      "execution_count": 69,
      "id": "ac497465",
      "metadata": {
        "id": "ac497465"
      },
      "outputs": [],
      "source": [
        "!pip install transformers sentencepiece sacrebleu -q"
      ]
    },
    {
      "cell_type": "code",
      "execution_count": 70,
      "id": "3d1bfbbe",
      "metadata": {
        "id": "3d1bfbbe"
      },
      "outputs": [],
      "source": [
        "import os\n",
        "import numpy as np\n",
        "import pandas as pd\n",
        "from tqdm.auto import tqdm, trange\n",
        "import json\n",
        "import random\n",
        "import torch\n",
        "from transformers.optimization import Adafactor\n",
        "from transformers import MBartForConditionalGeneration, MBart50Tokenizer"
      ]
    },
    {
      "cell_type": "code",
      "execution_count": 71,
      "id": "3df89fba",
      "metadata": {
        "id": "3df89fba"
      },
      "outputs": [],
      "source": [
        "# base_model_path = '/content/drive/MyDrive/ml_models/bxr/mbart-large-50-bxr-v0'"
      ]
    },
    {
      "cell_type": "code",
      "execution_count": 72,
      "id": "9ff330b1",
      "metadata": {
        "id": "9ff330b1"
      },
      "outputs": [],
      "source": [
        "# tokenizer = MBart50Tokenizer.from_pretrained(base_model_path)\n",
        "# model = MBartForConditionalGeneration.from_pretrained(base_model_path)\n",
        "\n",
        "tokenizer = new_tokenizer\n",
        "# model = model"
      ]
    },
    {
      "cell_type": "code",
      "execution_count": 73,
      "id": "0f13bf60",
      "metadata": {
        "colab": {
          "base_uri": "https://localhost:8080/"
        },
        "id": "0f13bf60",
        "outputId": "98e1c26f-1de1-4d5e-f0d8-273edd63ac5b"
      },
      "outputs": [
        {
          "output_type": "execute_result",
          "data": {
            "text/plain": [
              "250055"
            ]
          },
          "metadata": {},
          "execution_count": 73
        }
      ],
      "source": [
        "old_len = len(tokenizer)\n",
        "old_len"
      ]
    },
    {
      "cell_type": "code",
      "execution_count": 74,
      "id": "af4ee61c",
      "metadata": {
        "id": "af4ee61c"
      },
      "outputs": [],
      "source": [
        "tokenizer.lang_code_to_id['bxr_XX'] = old_len-1\n",
        "tokenizer.id_to_lang_code[old_len-1] = 'bxr_XX'\n",
        "tokenizer.fairseq_tokens_to_ids[\"<mask>\"] = len(tokenizer.sp_model) + len(tokenizer.lang_code_to_id) + tokenizer.fairseq_offset\n",
        "\n",
        "tokenizer.fairseq_tokens_to_ids.update(tokenizer.lang_code_to_id)\n",
        "tokenizer.fairseq_ids_to_tokens = {v: k for k, v in tokenizer.fairseq_tokens_to_ids.items()}\n",
        "if 'bxr_XX' not in tokenizer.additional_special_tokens:\n",
        "    tokenizer.additional_special_tokens.append('bxr_XX')"
      ]
    },
    {
      "cell_type": "code",
      "execution_count": 75,
      "id": "05c9b41c",
      "metadata": {
        "id": "05c9b41c"
      },
      "outputs": [],
      "source": [
        "import gc\n",
        "\n",
        "def cleanup():\n",
        "    gc.collect()\n",
        "    torch.cuda.empty_cache()\n",
        "    \n",
        "cleanup()"
      ]
    },
    {
      "cell_type": "code",
      "execution_count": 76,
      "id": "4d90f36e",
      "metadata": {
        "id": "4d90f36e"
      },
      "outputs": [],
      "source": [
        "model.cuda();"
      ]
    },
    {
      "cell_type": "markdown",
      "id": "992800a5",
      "metadata": {
        "id": "992800a5"
      },
      "source": [
        "## First, update just the new embeddings"
      ]
    },
    {
      "cell_type": "code",
      "execution_count": 77,
      "id": "0681908d",
      "metadata": {
        "id": "0681908d"
      },
      "outputs": [],
      "source": [
        "for p in model.parameters():\n",
        "    p.requires_grad = False\n",
        "for p in model.model.shared.parameters():\n",
        "    p.requires_grad = True"
      ]
    },
    {
      "cell_type": "code",
      "execution_count": 78,
      "id": "a4335016",
      "metadata": {
        "id": "a4335016"
      },
      "outputs": [],
      "source": [
        "optimizer = Adafactor(\n",
        "    [p for p in model.parameters() if p.requires_grad], \n",
        "    scale_parameter=False, \n",
        "    relative_step=False, \n",
        "    lr=1e-5,\n",
        "    clip_threshold=1.0\n",
        ")"
      ]
    },
    {
      "cell_type": "code",
      "execution_count": 79,
      "id": "f74d9db6",
      "metadata": {
        "id": "f74d9db6"
      },
      "outputs": [],
      "source": [
        "batch_size = 8  \n",
        "report_steps = 500 \n",
        "epochs = 4\n",
        "losses = []"
      ]
    },
    {
      "cell_type": "code",
      "execution_count": 80,
      "id": "849d78b3",
      "metadata": {
        "id": "849d78b3"
      },
      "outputs": [],
      "source": [
        "tokenizer.src_lang = \"ru_RU\"\n",
        "tokenizer.tgt_lang = \"bxr_XX\""
      ]
    },
    {
      "cell_type": "code",
      "execution_count": 81,
      "id": "f3366b3f",
      "metadata": {
        "colab": {
          "base_uri": "https://localhost:8080/",
          "height": 1000,
          "referenced_widgets": [
            "c68ef319e8e54a0585466621e316e1f6",
            "0abbd5d0d5de4057b5369857cece1728",
            "d8d8ee54bdb141c488aec055934d46f9",
            "04643864aa83467db4e1267a88e07c66",
            "1ef270ee8b92463da07401a1c6d7e0dd",
            "b2f4d3af558b46f0ade621028c30598f",
            "c633cb4daddb4059a49b6d980243a885",
            "548bc8ca1cdf4a99a2e479e6579738a3",
            "c215c6c355ff4b2b8ffb582c51bfda14",
            "33b7da08b18a40b5ae2e05e2cb05cdc7",
            "8bc887904b8a47ff88223feafc67fbfc",
            "5c1511ca20f044cd89a9cc789dc61db7",
            "b60a7ef44c874bb4853b1015aefe279e",
            "90c85d9a0a73447eb7b71001da584435",
            "f2cf74035eb44bd5836fa301ce8da503",
            "e1343e89e3164346a9bd9dab851a13db",
            "daaf23f3d4954a51b0b45c0e8fefe16d",
            "f92d856b41f242d7991728a302d3d933",
            "4ca3fcbf3c634a5cbdf82cec6df913e0",
            "063562972a374b6885032a7db545b2a1",
            "5cd2191036c145f39afe792a8153ef0f",
            "dd96cd4467e44f4eb4fb347b34fbbc8a",
            "9c4ee2963f7c4efa97ab347b1fb4d830",
            "012054d3429542caaa7c7e1d5c41f5b2",
            "37cb79fb18ab4afb8e126709bd39184a",
            "4edd179be5054019b75a3e8b7362f9c0",
            "5e2e2f3f9857439cbbce00efe84a6120",
            "6d1dc70f78b849009f5dc04dd0958e9b",
            "d774f3ee8e9f473bb29e728ba091c449",
            "fbeb3943f3064efc8e0bce9532395444",
            "74c2af3e5b6042af9391e9291267f733",
            "57a19745e7094eb7acb586765f3e6ac2",
            "cbe365794ae14af7ab5b7034322c6749",
            "755e51357e5f42ae870dcc8a666b05d5",
            "be2fe63fae1443c68bba618fac32e88e",
            "7022655a046943b6bccddba52a7a0bf3",
            "8a3c40b913a444089abaa4b01bd318f7",
            "19f86ec0169844f088330bb86dd6009b",
            "897955ea60dc4211a6fb7559120392fa",
            "9586fcc1920a42ba8a7d8f948af61a24",
            "9e1936e1ef40473dbb492a040eabad7c",
            "99bef208b79f4705962e0f6fd7d8b51e",
            "08ff82df83984dc4b00ea8cecc79567c",
            "685c677495bf439b86defc5110d36ee9"
          ]
        },
        "id": "f3366b3f",
        "outputId": "40aaafd2-b410-4003-e436-6596fd515442"
      },
      "outputs": [
        {
          "output_type": "stream",
          "name": "stdout",
          "text": [
            "EPOCH 0\n"
          ]
        },
        {
          "output_type": "display_data",
          "data": {
            "text/plain": [
              "  0%|          | 0/5956 [00:00<?, ?it/s]"
            ],
            "application/vnd.jupyter.widget-view+json": {
              "version_major": 2,
              "version_minor": 0,
              "model_id": "c68ef319e8e54a0585466621e316e1f6"
            }
          },
          "metadata": {}
        },
        {
          "output_type": "stream",
          "name": "stderr",
          "text": [
            "/usr/local/lib/python3.10/dist-packages/transformers/tokenization_utils_base.py:3606: UserWarning: `as_target_tokenizer` is deprecated and will be removed in v5 of Transformers. You can tokenize your labels by using the argument `text_target` of the regular `__call__` method (either in the same call as your input texts if you use the same keyword arguments, or in a separate call.\n",
            "  warnings.warn(\n"
          ]
        },
        {
          "output_type": "stream",
          "name": "stdout",
          "text": [
            "step 0 loss 11.78807544708252\n",
            "step 500 loss 7.261041706562042\n",
            "step 1000 loss 2.4222366300821303\n",
            "step 1500 loss 2.152054183125496\n",
            "step 2000 loss 1.9862252214550973\n",
            "step 2500 loss 1.8879481703042984\n",
            "step 3000 loss 1.783840047955513\n",
            "step 3500 loss 1.784573824763298\n",
            "step 4000 loss 1.6840968772768974\n",
            "step 4500 loss 1.6205798506736755\n",
            "step 5000 loss 1.5801862246990204\n",
            "step 5500 loss 1.566697073698044\n",
            "EPOCH 1\n"
          ]
        },
        {
          "output_type": "display_data",
          "data": {
            "text/plain": [
              "  0%|          | 0/5956 [00:00<?, ?it/s]"
            ],
            "application/vnd.jupyter.widget-view+json": {
              "version_major": 2,
              "version_minor": 0,
              "model_id": "5c1511ca20f044cd89a9cc789dc61db7"
            }
          },
          "metadata": {}
        },
        {
          "output_type": "stream",
          "name": "stdout",
          "text": [
            "step 0 loss 1.5318407356739043\n",
            "step 500 loss 1.4765507913827896\n",
            "step 1000 loss 1.413771530687809\n",
            "step 1500 loss 1.4539427443742752\n",
            "step 2000 loss 1.4105621874332428\n",
            "step 2500 loss 1.380649227619171\n",
            "step 3000 loss 1.4363280398845673\n",
            "step 3500 loss 1.3705035232305527\n",
            "step 4000 loss 1.3680256792902947\n",
            "step 4500 loss 1.3614908777475356\n",
            "step 5000 loss 1.3594503543376923\n",
            "step 5500 loss 1.3103276081085204\n",
            "EPOCH 2\n"
          ]
        },
        {
          "output_type": "display_data",
          "data": {
            "text/plain": [
              "  0%|          | 0/5956 [00:00<?, ?it/s]"
            ],
            "application/vnd.jupyter.widget-view+json": {
              "version_major": 2,
              "version_minor": 0,
              "model_id": "9c4ee2963f7c4efa97ab347b1fb4d830"
            }
          },
          "metadata": {}
        },
        {
          "output_type": "stream",
          "name": "stdout",
          "text": [
            "step 0 loss 1.337297295808792\n",
            "step 500 loss 1.2858124445676804\n",
            "step 1000 loss 1.2876294751167296\n",
            "step 1500 loss 1.263392131447792\n",
            "step 2000 loss 1.3049893181324006\n",
            "step 2500 loss 1.2634118482470513\n",
            "step 3000 loss 1.2468127725124358\n",
            "step 3500 loss 1.2301768769025803\n",
            "step 4000 loss 1.249074606835842\n",
            "step 4500 loss 1.233545943260193\n",
            "step 5000 loss 1.222830299973488\n",
            "step 5500 loss 1.2181104841828345\n",
            "EPOCH 3\n"
          ]
        },
        {
          "output_type": "display_data",
          "data": {
            "text/plain": [
              "  0%|          | 0/5956 [00:00<?, ?it/s]"
            ],
            "application/vnd.jupyter.widget-view+json": {
              "version_major": 2,
              "version_minor": 0,
              "model_id": "755e51357e5f42ae870dcc8a666b05d5"
            }
          },
          "metadata": {}
        },
        {
          "output_type": "stream",
          "name": "stdout",
          "text": [
            "step 0 loss 1.2029695031046868\n",
            "step 500 loss 1.2186796696782112\n",
            "step 1000 loss 1.2001191049218178\n",
            "step 1500 loss 1.1892058224081994\n",
            "step 2000 loss 1.1898695251345635\n",
            "step 2500 loss 1.1712221555113793\n",
            "step 3000 loss 1.1803500745296478\n",
            "step 3500 loss 1.1647666898369788\n",
            "step 4000 loss 1.1753366801738738\n",
            "step 4500 loss 1.156037923514843\n",
            "step 5000 loss 1.1658434275984764\n",
            "step 5500 loss 1.1520080677866935\n"
          ]
        }
      ],
      "source": [
        "cleanup()\n",
        "model.train()\n",
        "\n",
        "for epoch in range(epochs):\n",
        "    print('EPOCH', epoch)\n",
        "    random.shuffle(all_pairs)\n",
        "    for i in trange(0, int(len(all_pairs) / batch_size)):\n",
        "        batch = all_pairs[i * batch_size: (i + 1) * batch_size]\n",
        "        # кодируем вопрос и ответ \n",
        "        x = tokenizer([p[1] for p in batch], return_tensors='pt', padding=True, truncation=True, max_length=256).to(model.device)\n",
        "        with tokenizer.as_target_tokenizer():\n",
        "            y = tokenizer([p[0] for p in batch], return_tensors='pt', padding=True, truncation=True, max_length=256).to(model.device)\n",
        "        # -100 - специальное значение, позволяющее не учитывать токены\n",
        "        y.input_ids[y.input_ids == 0] = -100\n",
        "        # вычисляем функцию потерь\n",
        "        try:\n",
        "            loss = model(\n",
        "                input_ids=x.input_ids,\n",
        "                attention_mask=x.attention_mask,\n",
        "                labels=y.input_ids,\n",
        "                decoder_attention_mask=y.attention_mask,\n",
        "                return_dict=True\n",
        "            ).loss\n",
        "            # делаем шаг градиентного спуска\n",
        "            loss.backward()\n",
        "            optimizer.step()\n",
        "            optimizer.zero_grad(set_to_none=True)\n",
        "        except RuntimeError as e:\n",
        "            print('error')\n",
        "            loss = None\n",
        "            optimizer.zero_grad(set_to_none=True)\n",
        "            cleanup()\n",
        "            continue\n",
        "\n",
        "        # печатаем скользящее среднее значение функции потерь\n",
        "        losses.append(loss.item())\n",
        "        if i % report_steps == 0:\n",
        "            print('step', i, 'loss', np.mean(losses[-report_steps:]))"
      ]
    },
    {
      "cell_type": "code",
      "execution_count": 82,
      "id": "29ecd146",
      "metadata": {
        "id": "29ecd146"
      },
      "outputs": [],
      "source": [
        "# save_model_path = '/content/drive/MyDrive/ml_models/bxr/mbart-large-50-bxr-v11'"
      ]
    },
    {
      "cell_type": "code",
      "execution_count": 83,
      "id": "c1ee135e",
      "metadata": {
        "id": "c1ee135e"
      },
      "outputs": [],
      "source": [
        "# model.save_pretrained(save_model_path)\n",
        "# tokenizer.save_pretrained(save_model_path)"
      ]
    },
    {
      "cell_type": "code",
      "source": [],
      "metadata": {
        "id": "lHZ-QbkdTLe0"
      },
      "id": "lHZ-QbkdTLe0",
      "execution_count": 83,
      "outputs": []
    },
    {
      "cell_type": "code",
      "execution_count": 84,
      "id": "2489b0f6",
      "metadata": {
        "id": "2489b0f6",
        "colab": {
          "base_uri": "https://localhost:8080/",
          "height": 430
        },
        "outputId": "e94166eb-7ba5-46af-fcbc-a5125d176a83"
      },
      "outputs": [
        {
          "output_type": "display_data",
          "data": {
            "text/plain": [
              "<Figure size 640x480 with 1 Axes>"
            ],
            "image/png": "[encoded data removed]"
          },
          "metadata": {}
        }
      ],
      "source": [
        "import matplotlib.pyplot as plt\n",
        "pd.Series(losses).ewm(100).mean().plot();\n",
        "plt.yscale('log');"
      ]
    },
    {
      "cell_type": "markdown",
      "id": "da430f42",
      "metadata": {
        "id": "da430f42"
      },
      "source": [
        "# Now update the whole model, with embeddings and transformer layers."
      ]
    },
    {
      "cell_type": "code",
      "execution_count": 85,
      "id": "bfc2112c",
      "metadata": {
        "id": "bfc2112c"
      },
      "outputs": [],
      "source": [
        "# save_model_path = '/content/drive/MyDrive/ml_models/bxr/mbart-large-50-bxr-v11'"
      ]
    },
    {
      "cell_type": "code",
      "execution_count": 86,
      "id": "ed3e55d4",
      "metadata": {
        "id": "ed3e55d4"
      },
      "outputs": [],
      "source": [
        "# model = MBartForConditionalGeneration.from_pretrained(save_model_path)\n",
        "# tokenizer = MBart50Tokenizer.from_pretrained(save_model_path)"
      ]
    },
    {
      "cell_type": "code",
      "execution_count": 87,
      "id": "e23584b4",
      "metadata": {
        "id": "e23584b4"
      },
      "outputs": [],
      "source": [
        "model.cuda();"
      ]
    },
    {
      "cell_type": "code",
      "execution_count": 88,
      "id": "f93877bd",
      "metadata": {
        "id": "f93877bd"
      },
      "outputs": [],
      "source": [
        "loss = None\n",
        "optimizer.zero_grad(set_to_none=True)\n",
        "optimizer = None\n",
        "cleanup()"
      ]
    },
    {
      "cell_type": "code",
      "execution_count": 89,
      "id": "c89850db",
      "metadata": {
        "id": "c89850db"
      },
      "outputs": [],
      "source": [
        "for p in model.parameters():\n",
        "    p.requires_grad = True"
      ]
    },
    {
      "cell_type": "code",
      "execution_count": 90,
      "id": "8da96cd9",
      "metadata": {
        "id": "8da96cd9"
      },
      "outputs": [],
      "source": [
        "from transformers.optimization import Adafactor\n",
        "optimizer = Adafactor(\n",
        "    [p for p in model.parameters() if p.requires_grad], \n",
        "    scale_parameter=False, \n",
        "    relative_step=False, \n",
        "    lr=1e-6,\n",
        "    clip_threshold=1.0\n",
        ")"
      ]
    },
    {
      "cell_type": "code",
      "execution_count": 91,
      "id": "d449c540",
      "metadata": {
        "id": "d449c540"
      },
      "outputs": [],
      "source": [
        "batch_size = 8\n",
        "report_steps = 500 \n",
        "epochs = 4\n",
        "losses = []"
      ]
    },
    {
      "cell_type": "markdown",
      "id": "6834d86c",
      "metadata": {
        "id": "6834d86c"
      },
      "source": [
        "\n",
        "Optimizing all parameters takes x2 longer than just embeddings: about 1h per epoch."
      ]
    },
    {
      "cell_type": "code",
      "execution_count": 92,
      "id": "aa8eb75b",
      "metadata": {
        "id": "aa8eb75b",
        "colab": {
          "base_uri": "https://localhost:8080/",
          "height": 606,
          "referenced_widgets": [
            "5981ec3c6e44471882bfab20b6aa2691",
            "3a63eb00807d436dbe528ff535d3b70e",
            "8a5a66b2626e47fcb748f64cc7e19d55",
            "f0aab507b5dd4d7396ca84f7d756491e",
            "f22d33df94454c88ae000be4bb494c70",
            "705489b62a114ba1adefaf9e1e245ce1",
            "6a870d66a2264a65a27b79141dd17529",
            "0e074811189a479a8104033d096fc491",
            "ee2ce778da924e60a05e24bbbca29c8b",
            "3aaffb29ef3e449d94e07066d124e76d",
            "ac2ad6cd34534ce49b8129a2bb2dcda9"
          ]
        },
        "outputId": "9ae6cbb6-0283-4e25-a5a4-c1524b160417"
      },
      "outputs": [
        {
          "output_type": "stream",
          "name": "stdout",
          "text": [
            "EPOCH 0\n"
          ]
        },
        {
          "output_type": "display_data",
          "data": {
            "text/plain": [
              "  0%|          | 0/5956 [00:00<?, ?it/s]"
            ],
            "application/vnd.jupyter.widget-view+json": {
              "version_major": 2,
              "version_minor": 0,
              "model_id": "5981ec3c6e44471882bfab20b6aa2691"
            }
          },
          "metadata": {}
        },
        {
          "output_type": "stream",
          "name": "stderr",
          "text": [
            "/usr/local/lib/python3.10/dist-packages/transformers/tokenization_utils_base.py:3606: UserWarning: `as_target_tokenizer` is deprecated and will be removed in v5 of Transformers. You can tokenize your labels by using the argument `text_target` of the regular `__call__` method (either in the same call as your input texts if you use the same keyword arguments, or in a separate call.\n",
            "  warnings.warn(\n"
          ]
        },
        {
          "output_type": "stream",
          "name": "stdout",
          "text": [
            "step 0 loss 1.0588572025299072\n",
            "step 500 loss 1.1127823711037637\n",
            "step 1000 loss 1.0852957809567452\n",
            "step 1500 loss 1.096561305642128\n",
            "step 2000 loss 1.0930037916600703\n",
            "step 2500 loss 1.0846326129436492\n",
            "step 3000 loss 1.056806948721409\n"
          ]
        },
        {
          "output_type": "error",
          "ename": "KeyboardInterrupt",
          "evalue": "ignored",
          "traceback": [
            "\u001b[0;31m---------------------------------------------------------------------------\u001b[0m",
            "\u001b[0;31mKeyboardInterrupt\u001b[0m                         Traceback (most recent call last)",
            "\u001b[0;32m<ipython-input-92-483c9e44b508>\u001b[0m in \u001b[0;36m<cell line: 4>\u001b[0;34m()\u001b[0m\n\u001b[1;32m     23\u001b[0m             ).loss\n\u001b[1;32m     24\u001b[0m             \u001b[0;31m# делаем шаг градиентного спуска\u001b[0m\u001b[0;34m\u001b[0m\u001b[0;34m\u001b[0m\u001b[0m\n\u001b[0;32m---> 25\u001b[0;31m             \u001b[0mloss\u001b[0m\u001b[0;34m.\u001b[0m\u001b[0mbackward\u001b[0m\u001b[0;34m(\u001b[0m\u001b[0;34m)\u001b[0m\u001b[0;34m\u001b[0m\u001b[0;34m\u001b[0m\u001b[0m\n\u001b[0m\u001b[1;32m     26\u001b[0m             \u001b[0moptimizer\u001b[0m\u001b[0;34m.\u001b[0m\u001b[0mstep\u001b[0m\u001b[0;34m(\u001b[0m\u001b[0;34m)\u001b[0m\u001b[0;34m\u001b[0m\u001b[0;34m\u001b[0m\u001b[0m\n\u001b[1;32m     27\u001b[0m             \u001b[0moptimizer\u001b[0m\u001b[0;34m.\u001b[0m\u001b[0mzero_grad\u001b[0m\u001b[0;34m(\u001b[0m\u001b[0mset_to_none\u001b[0m\u001b[0;34m=\u001b[0m\u001b[0;32mTrue\u001b[0m\u001b[0;34m)\u001b[0m\u001b[0;34m\u001b[0m\u001b[0;34m\u001b[0m\u001b[0m\n",
            "\u001b[0;32m/usr/local/lib/python3.10/dist-packages/torch/_tensor.py\u001b[0m in \u001b[0;36mbackward\u001b[0;34m(self, gradient, retain_graph, create_graph, inputs)\u001b[0m\n\u001b[1;32m    485\u001b[0m                 \u001b[0minputs\u001b[0m\u001b[0;34m=\u001b[0m\u001b[0minputs\u001b[0m\u001b[0;34m,\u001b[0m\u001b[0;34m\u001b[0m\u001b[0;34m\u001b[0m\u001b[0m\n\u001b[1;32m    486\u001b[0m             )\n\u001b[0;32m--> 487\u001b[0;31m         torch.autograd.backward(\n\u001b[0m\u001b[1;32m    488\u001b[0m             \u001b[0mself\u001b[0m\u001b[0;34m,\u001b[0m \u001b[0mgradient\u001b[0m\u001b[0;34m,\u001b[0m \u001b[0mretain_graph\u001b[0m\u001b[0;34m,\u001b[0m \u001b[0mcreate_graph\u001b[0m\u001b[0;34m,\u001b[0m \u001b[0minputs\u001b[0m\u001b[0;34m=\u001b[0m\u001b[0minputs\u001b[0m\u001b[0;34m\u001b[0m\u001b[0;34m\u001b[0m\u001b[0m\n\u001b[1;32m    489\u001b[0m         )\n",
            "\u001b[0;32m/usr/local/lib/python3.10/dist-packages/torch/autograd/__init__.py\u001b[0m in \u001b[0;36mbackward\u001b[0;34m(tensors, grad_tensors, retain_graph, create_graph, grad_variables, inputs)\u001b[0m\n\u001b[1;32m    198\u001b[0m     \u001b[0;31m# some Python versions print out the first line of a multi-line function\u001b[0m\u001b[0;34m\u001b[0m\u001b[0;34m\u001b[0m\u001b[0m\n\u001b[1;32m    199\u001b[0m     \u001b[0;31m# calls in the traceback and some print out the last line\u001b[0m\u001b[0;34m\u001b[0m\u001b[0;34m\u001b[0m\u001b[0m\n\u001b[0;32m--> 200\u001b[0;31m     Variable._execution_engine.run_backward(  # Calls into the C++ engine to run the backward pass\n\u001b[0m\u001b[1;32m    201\u001b[0m         \u001b[0mtensors\u001b[0m\u001b[0;34m,\u001b[0m \u001b[0mgrad_tensors_\u001b[0m\u001b[0;34m,\u001b[0m \u001b[0mretain_graph\u001b[0m\u001b[0;34m,\u001b[0m \u001b[0mcreate_graph\u001b[0m\u001b[0;34m,\u001b[0m \u001b[0minputs\u001b[0m\u001b[0;34m,\u001b[0m\u001b[0;34m\u001b[0m\u001b[0;34m\u001b[0m\u001b[0m\n\u001b[1;32m    202\u001b[0m         allow_unreachable=True, accumulate_grad=True)  # Calls into the C++ engine to run the backward pass\n",
            "\u001b[0;31mKeyboardInterrupt\u001b[0m: "
          ]
        }
      ],
      "source": [
        "cleanup()\n",
        "model.train()\n",
        "\n",
        "for epoch in range(epochs):\n",
        "    print('EPOCH', epoch)\n",
        "    random.shuffle(all_pairs)\n",
        "    for i in trange(0, int(len(all_pairs) / batch_size)):\n",
        "        batch = all_pairs[i * batch_size: (i + 1) * batch_size]\n",
        "        # кодируем вопрос и ответ \n",
        "        x = tokenizer([p[1] for p in batch], return_tensors='pt', padding=True, truncation=True, max_length=256).to(model.device)\n",
        "        with tokenizer.as_target_tokenizer():\n",
        "            y = tokenizer([p[0] for p in batch], return_tensors='pt', padding=True, truncation=True, max_length=256).to(model.device)\n",
        "        # -100 - специальное значение, позволяющее не учитывать токены\n",
        "        y.input_ids[y.input_ids == 0] = -100\n",
        "        # вычисляем функцию потерь\n",
        "        try:\n",
        "            loss = model(\n",
        "                input_ids=x.input_ids,\n",
        "                attention_mask=x.attention_mask,\n",
        "                labels=y.input_ids,\n",
        "                decoder_attention_mask=y.attention_mask,\n",
        "                return_dict=True\n",
        "            ).loss\n",
        "            # делаем шаг градиентного спуска\n",
        "            loss.backward()\n",
        "            optimizer.step()\n",
        "            optimizer.zero_grad(set_to_none=True)\n",
        "        except RuntimeError as e:\n",
        "            print('error')\n",
        "            loss = None\n",
        "            optimizer.zero_grad(set_to_none=True)\n",
        "            cleanup()\n",
        "            continue\n",
        "\n",
        "        # печатаем скользящее среднее значение функции потерь\n",
        "        losses.append(loss.item())\n",
        "        if i % report_steps == 0:\n",
        "            print('step', i, 'loss', np.mean(losses[-report_steps:]))"
      ]
    },
    {
      "cell_type": "code",
      "source": [
        "pd.Series(losses).ewm(100).mean().plot();\n",
        "plt.yscale('log');"
      ],
      "metadata": {
        "colab": {
          "base_uri": "https://localhost:8080/",
          "height": 430
        },
        "id": "07tdeyPZw0Ix",
        "outputId": "ca7c5ed6-cfa3-42f8-ee27-b55a1e008688"
      },
      "id": "07tdeyPZw0Ix",
      "execution_count": 93,
      "outputs": [
        {
          "output_type": "display_data",
          "data": {
            "text/plain": [
              "<Figure size 640x480 with 1 Axes>"
            ],
            "image/png": "[encoded data removed]"
          },
          "metadata": {}
        }
      ]
    },
    {
      "cell_type": "code",
      "source": [
        "model.eval()"
      ],
      "metadata": {
        "colab": {
          "base_uri": "https://localhost:8080/"
        },
        "id": "E591nd89w9yV",
        "outputId": "f37dfe10-e4ea-44bb-d217-434665d2593b"
      },
      "id": "E591nd89w9yV",
      "execution_count": 94,
      "outputs": [
        {
          "output_type": "execute_result",
          "data": {
            "text/plain": [
              "MBartForConditionalGeneration(\n",
              "  (model): MBartModel(\n",
              "    (shared): Embedding(250055, 1024)\n",
              "    (encoder): MBartEncoder(\n",
              "      (embed_tokens): Embedding(250055, 1024)\n",
              "      (embed_positions): MBartLearnedPositionalEmbedding(1026, 1024)\n",
              "      (layers): ModuleList(\n",
              "        (0-11): 12 x MBartEncoderLayer(\n",
              "          (self_attn): MBartAttention(\n",
              "            (k_proj): Linear(in_features=1024, out_features=1024, bias=True)\n",
              "            (v_proj): Linear(in_features=1024, out_features=1024, bias=True)\n",
              "            (q_proj): Linear(in_features=1024, out_features=1024, bias=True)\n",
              "            (out_proj): Linear(in_features=1024, out_features=1024, bias=True)\n",
              "          )\n",
              "          (self_attn_layer_norm): LayerNorm((1024,), eps=1e-05, elementwise_affine=True)\n",
              "          (activation_fn): ReLU()\n",
              "          (fc1): Linear(in_features=1024, out_features=4096, bias=True)\n",
              "          (fc2): Linear(in_features=4096, out_features=1024, bias=True)\n",
              "          (final_layer_norm): LayerNorm((1024,), eps=1e-05, elementwise_affine=True)\n",
              "        )\n",
              "      )\n",
              "      (layernorm_embedding): LayerNorm((1024,), eps=1e-05, elementwise_affine=True)\n",
              "      (layer_norm): LayerNorm((1024,), eps=1e-05, elementwise_affine=True)\n",
              "    )\n",
              "    (decoder): MBartDecoder(\n",
              "      (embed_tokens): Embedding(250055, 1024)\n",
              "      (embed_positions): MBartLearnedPositionalEmbedding(1026, 1024)\n",
              "      (layers): ModuleList(\n",
              "        (0-11): 12 x MBartDecoderLayer(\n",
              "          (self_attn): MBartAttention(\n",
              "            (k_proj): Linear(in_features=1024, out_features=1024, bias=True)\n",
              "            (v_proj): Linear(in_features=1024, out_features=1024, bias=True)\n",
              "            (q_proj): Linear(in_features=1024, out_features=1024, bias=True)\n",
              "            (out_proj): Linear(in_features=1024, out_features=1024, bias=True)\n",
              "          )\n",
              "          (activation_fn): ReLU()\n",
              "          (self_attn_layer_norm): LayerNorm((1024,), eps=1e-05, elementwise_affine=True)\n",
              "          (encoder_attn): MBartAttention(\n",
              "            (k_proj): Linear(in_features=1024, out_features=1024, bias=True)\n",
              "            (v_proj): Linear(in_features=1024, out_features=1024, bias=True)\n",
              "            (q_proj): Linear(in_features=1024, out_features=1024, bias=True)\n",
              "            (out_proj): Linear(in_features=1024, out_features=1024, bias=True)\n",
              "          )\n",
              "          (encoder_attn_layer_norm): LayerNorm((1024,), eps=1e-05, elementwise_affine=True)\n",
              "          (fc1): Linear(in_features=1024, out_features=4096, bias=True)\n",
              "          (fc2): Linear(in_features=4096, out_features=1024, bias=True)\n",
              "          (final_layer_norm): LayerNorm((1024,), eps=1e-05, elementwise_affine=True)\n",
              "        )\n",
              "      )\n",
              "      (layernorm_embedding): LayerNorm((1024,), eps=1e-05, elementwise_affine=True)\n",
              "      (layer_norm): LayerNorm((1024,), eps=1e-05, elementwise_affine=True)\n",
              "    )\n",
              "  )\n",
              "  (lm_head): Linear(in_features=1024, out_features=250055, bias=False)\n",
              ")"
            ]
          },
          "metadata": {},
          "execution_count": 94
        }
      ]
    },
    {
      "cell_type": "code",
      "source": [
        "bxr, ru = random.choice(all_pairs)\n",
        "bxr, ru"
      ],
      "metadata": {
        "colab": {
          "base_uri": "https://localhost:8080/"
        },
        "id": "VO8lEyx2w_Xi",
        "outputId": "5caf11fe-8949-4b3c-dd88-e6165a5ba036"
      },
      "id": "VO8lEyx2w_Xi",
      "execution_count": 95,
      "outputs": [
        {
          "output_type": "execute_result",
          "data": {
            "text/plain": [
              "('чинарын hүүдэр.', 'чинара.')"
            ]
          },
          "metadata": {},
          "execution_count": 95
        }
      ]
    },
    {
      "cell_type": "code",
      "source": [
        "def translate(text, src='ru_RU', trg='bxr_XX', max_length=200, num_beams=5, repetition_penalty=5.0, **kwargs):\n",
        "    tokenizer.src_lang = src\n",
        "    encoded = tokenizer(text, return_tensors=\"pt\")\n",
        "    generated_tokens = model.generate(\n",
        "        **encoded.to(model.device),\n",
        "        forced_bos_token_id=tokenizer.lang_code_to_id[trg], \n",
        "        max_length=max_length, \n",
        "        num_beams=num_beams,\n",
        "        repetition_penalty=repetition_penalty,\n",
        "        # early_stopping=True,\n",
        "    )\n",
        "    return tokenizer.batch_decode(generated_tokens, skip_special_tokens=True)[0]\n",
        "\n",
        "translate(bxr)"
      ],
      "metadata": {
        "colab": {
          "base_uri": "https://localhost:8080/",
          "height": 35
        },
        "id": "Ho63m9oCxDuS",
        "outputId": "53addc6a-8111-42d7-fb63-5ed2405b1817"
      },
      "id": "Ho63m9oCxDuS",
      "execution_count": 96,
      "outputs": [
        {
          "output_type": "execute_result",
          "data": {
            "text/plain": [
              "'чинарын hүүдэр.'"
            ],
            "application/vnd.google.colaboratory.intrinsic+json": {
              "type": "string"
            }
          },
          "metadata": {},
          "execution_count": 96
        }
      ]
    },
    {
      "cell_type": "code",
      "source": [
        "import os\n",
        "os.makedirs(\"mbart-large-50-bxr-v13\")\n",
        "model.save_pretrained(\"mbart-large-50-bxr-v13\")"
      ],
      "metadata": {
        "id": "_uQ4FMYixPPr"
      },
      "id": "_uQ4FMYixPPr",
      "execution_count": 97,
      "outputs": []
    },
    {
      "cell_type": "code",
      "source": [
        "tokenizer.save_pretrained('mbart-large-50-bxr-v13')"
      ],
      "metadata": {
        "colab": {
          "base_uri": "https://localhost:8080/"
        },
        "id": "8J3h5zYXxa6r",
        "outputId": "64571d72-b4b7-4ae9-e715-25b0a957ba02"
      },
      "id": "8J3h5zYXxa6r",
      "execution_count": 98,
      "outputs": [
        {
          "output_type": "execute_result",
          "data": {
            "text/plain": [
              "('mbart-large-50-bxr-v13/tokenizer_config.json',\n",
              " 'mbart-large-50-bxr-v13/special_tokens_map.json',\n",
              " 'mbart-large-50-bxr-v13/sentencepiece.bpe.model',\n",
              " 'mbart-large-50-bxr-v13/added_tokens.json')"
            ]
          },
          "metadata": {},
          "execution_count": 98
        }
      ]
    },
    {
      "cell_type": "code",
      "source": [
        "with open('test.json', 'r') as f:\n",
        "    test = json.load(f)"
      ],
      "metadata": {
        "id": "Z0R9WUVCxwkV"
      },
      "id": "Z0R9WUVCxwkV",
      "execution_count": 99,
      "outputs": []
    },
    {
      "cell_type": "code",
      "source": [
        "target = [bxr for bxr, ru in test]"
      ],
      "metadata": {
        "id": "sZTy68DpOHCw"
      },
      "id": "sZTy68DpOHCw",
      "execution_count": 119,
      "outputs": []
    },
    {
      "cell_type": "code",
      "source": [
        "translated = [translate(ru) for bxr, ru in tqdm(test)]"
      ],
      "metadata": {
        "colab": {
          "base_uri": "https://localhost:8080/",
          "height": 360,
          "referenced_widgets": [
            "72650e747c134b6982fff0fe5ade1f00",
            "1f62394c50a1467ba49419c025be307c",
            "535269f2926746fc9c691e88faa8933f",
            "84a782a601e4400bab281e0777aa345a",
            "6addf917c23b4ee6a652c3d1503d6257",
            "109ac0a31a4e4c6185e2728cea9ca29c",
            "7a2f1e6caaa04e5c9e28e2acfee9fc93",
            "f43cebfd1c234f2c85d27536bcf47d6f",
            "275efd54de3e448586673c780103cf34",
            "35e74ba3501742e19e7ef2741107c89d",
            "a975ff43dae34f5da077ba6def17677f"
          ]
        },
        "id": "WdEgYVXGx8pe",
        "outputId": "5846cd57-cdb2-4cfa-f459-69e093f22a4d"
      },
      "id": "WdEgYVXGx8pe",
      "execution_count": 117,
      "outputs": [
        {
          "output_type": "display_data",
          "data": {
            "text/plain": [
              "  0%|          | 0/1823 [00:00<?, ?it/s]"
            ],
            "application/vnd.jupyter.widget-view+json": {
              "version_major": 2,
              "version_minor": 0,
              "model_id": "72650e747c134b6982fff0fe5ade1f00"
            }
          },
          "metadata": {}
        },
        {
          "output_type": "error",
          "ename": "KeyboardInterrupt",
          "evalue": "ignored",
          "traceback": [
            "\u001b[0;31m---------------------------------------------------------------------------\u001b[0m",
            "\u001b[0;31mKeyboardInterrupt\u001b[0m                         Traceback (most recent call last)",
            "\u001b[0;32m<ipython-input-117-9ad2db4ad744>\u001b[0m in \u001b[0;36m<cell line: 2>\u001b[0;34m()\u001b[0m\n\u001b[1;32m      1\u001b[0m \u001b[0mtarget\u001b[0m \u001b[0;34m=\u001b[0m \u001b[0;34m[\u001b[0m\u001b[0mbxr\u001b[0m \u001b[0;32mfor\u001b[0m \u001b[0mbxr\u001b[0m\u001b[0;34m,\u001b[0m \u001b[0mru\u001b[0m \u001b[0;32min\u001b[0m \u001b[0mtest\u001b[0m\u001b[0;34m]\u001b[0m\u001b[0;34m\u001b[0m\u001b[0;34m\u001b[0m\u001b[0m\n\u001b[0;32m----> 2\u001b[0;31m \u001b[0mtranslated\u001b[0m \u001b[0;34m=\u001b[0m \u001b[0;34m[\u001b[0m\u001b[0mtranslate\u001b[0m\u001b[0;34m(\u001b[0m\u001b[0mru\u001b[0m\u001b[0;34m)\u001b[0m \u001b[0;32mfor\u001b[0m \u001b[0mbxr\u001b[0m\u001b[0;34m,\u001b[0m \u001b[0mru\u001b[0m \u001b[0;32min\u001b[0m \u001b[0mtqdm\u001b[0m\u001b[0;34m(\u001b[0m\u001b[0mtest\u001b[0m\u001b[0;34m)\u001b[0m\u001b[0;34m]\u001b[0m\u001b[0;34m\u001b[0m\u001b[0;34m\u001b[0m\u001b[0m\n\u001b[0m",
            "\u001b[0;32m<ipython-input-117-9ad2db4ad744>\u001b[0m in \u001b[0;36m<listcomp>\u001b[0;34m(.0)\u001b[0m\n\u001b[1;32m      1\u001b[0m \u001b[0mtarget\u001b[0m \u001b[0;34m=\u001b[0m \u001b[0;34m[\u001b[0m\u001b[0mbxr\u001b[0m \u001b[0;32mfor\u001b[0m \u001b[0mbxr\u001b[0m\u001b[0;34m,\u001b[0m \u001b[0mru\u001b[0m \u001b[0;32min\u001b[0m \u001b[0mtest\u001b[0m\u001b[0;34m]\u001b[0m\u001b[0;34m\u001b[0m\u001b[0;34m\u001b[0m\u001b[0m\n\u001b[0;32m----> 2\u001b[0;31m \u001b[0mtranslated\u001b[0m \u001b[0;34m=\u001b[0m \u001b[0;34m[\u001b[0m\u001b[0mtranslate\u001b[0m\u001b[0;34m(\u001b[0m\u001b[0mru\u001b[0m\u001b[0;34m)\u001b[0m \u001b[0;32mfor\u001b[0m \u001b[0mbxr\u001b[0m\u001b[0;34m,\u001b[0m \u001b[0mru\u001b[0m \u001b[0;32min\u001b[0m \u001b[0mtqdm\u001b[0m\u001b[0;34m(\u001b[0m\u001b[0mtest\u001b[0m\u001b[0;34m)\u001b[0m\u001b[0;34m]\u001b[0m\u001b[0;34m\u001b[0m\u001b[0;34m\u001b[0m\u001b[0m\n\u001b[0m",
            "\u001b[0;32m<ipython-input-96-8fa2d52ed2d9>\u001b[0m in \u001b[0;36mtranslate\u001b[0;34m(text, src, trg, max_length, num_beams, repetition_penalty, **kwargs)\u001b[0m\n\u001b[1;32m      2\u001b[0m     \u001b[0mtokenizer\u001b[0m\u001b[0;34m.\u001b[0m\u001b[0msrc_lang\u001b[0m \u001b[0;34m=\u001b[0m \u001b[0msrc\u001b[0m\u001b[0;34m\u001b[0m\u001b[0;34m\u001b[0m\u001b[0m\n\u001b[1;32m      3\u001b[0m     \u001b[0mencoded\u001b[0m \u001b[0;34m=\u001b[0m \u001b[0mtokenizer\u001b[0m\u001b[0;34m(\u001b[0m\u001b[0mtext\u001b[0m\u001b[0;34m,\u001b[0m \u001b[0mreturn_tensors\u001b[0m\u001b[0;34m=\u001b[0m\u001b[0;34m\"pt\"\u001b[0m\u001b[0;34m)\u001b[0m\u001b[0;34m\u001b[0m\u001b[0;34m\u001b[0m\u001b[0m\n\u001b[0;32m----> 4\u001b[0;31m     generated_tokens = model.generate(\n\u001b[0m\u001b[1;32m      5\u001b[0m         \u001b[0;34m**\u001b[0m\u001b[0mencoded\u001b[0m\u001b[0;34m.\u001b[0m\u001b[0mto\u001b[0m\u001b[0;34m(\u001b[0m\u001b[0mmodel\u001b[0m\u001b[0;34m.\u001b[0m\u001b[0mdevice\u001b[0m\u001b[0;34m)\u001b[0m\u001b[0;34m,\u001b[0m\u001b[0;34m\u001b[0m\u001b[0;34m\u001b[0m\u001b[0m\n\u001b[1;32m      6\u001b[0m         \u001b[0mforced_bos_token_id\u001b[0m\u001b[0;34m=\u001b[0m\u001b[0mtokenizer\u001b[0m\u001b[0;34m.\u001b[0m\u001b[0mlang_code_to_id\u001b[0m\u001b[0;34m[\u001b[0m\u001b[0mtrg\u001b[0m\u001b[0;34m]\u001b[0m\u001b[0;34m,\u001b[0m\u001b[0;34m\u001b[0m\u001b[0;34m\u001b[0m\u001b[0m\n",
            "\u001b[0;32m/usr/local/lib/python3.10/dist-packages/torch/utils/_contextlib.py\u001b[0m in \u001b[0;36mdecorate_context\u001b[0;34m(*args, **kwargs)\u001b[0m\n\u001b[1;32m    113\u001b[0m     \u001b[0;32mdef\u001b[0m \u001b[0mdecorate_context\u001b[0m\u001b[0;34m(\u001b[0m\u001b[0;34m*\u001b[0m\u001b[0margs\u001b[0m\u001b[0;34m,\u001b[0m \u001b[0;34m**\u001b[0m\u001b[0mkwargs\u001b[0m\u001b[0;34m)\u001b[0m\u001b[0;34m:\u001b[0m\u001b[0;34m\u001b[0m\u001b[0;34m\u001b[0m\u001b[0m\n\u001b[1;32m    114\u001b[0m         \u001b[0;32mwith\u001b[0m \u001b[0mctx_factory\u001b[0m\u001b[0;34m(\u001b[0m\u001b[0;34m)\u001b[0m\u001b[0;34m:\u001b[0m\u001b[0;34m\u001b[0m\u001b[0;34m\u001b[0m\u001b[0m\n\u001b[0;32m--> 115\u001b[0;31m             \u001b[0;32mreturn\u001b[0m \u001b[0mfunc\u001b[0m\u001b[0;34m(\u001b[0m\u001b[0;34m*\u001b[0m\u001b[0margs\u001b[0m\u001b[0;34m,\u001b[0m \u001b[0;34m**\u001b[0m\u001b[0mkwargs\u001b[0m\u001b[0;34m)\u001b[0m\u001b[0;34m\u001b[0m\u001b[0;34m\u001b[0m\u001b[0m\n\u001b[0m\u001b[1;32m    116\u001b[0m \u001b[0;34m\u001b[0m\u001b[0m\n\u001b[1;32m    117\u001b[0m     \u001b[0;32mreturn\u001b[0m \u001b[0mdecorate_context\u001b[0m\u001b[0;34m\u001b[0m\u001b[0;34m\u001b[0m\u001b[0m\n",
            "\u001b[0;32m/usr/local/lib/python3.10/dist-packages/transformers/generation/utils.py\u001b[0m in \u001b[0;36mgenerate\u001b[0;34m(self, inputs, generation_config, logits_processor, stopping_criteria, prefix_allowed_tokens_fn, synced_gpus, assistant_model, streamer, **kwargs)\u001b[0m\n\u001b[1;32m   1602\u001b[0m             )\n\u001b[1;32m   1603\u001b[0m             \u001b[0;31m# 13. run beam search\u001b[0m\u001b[0;34m\u001b[0m\u001b[0;34m\u001b[0m\u001b[0m\n\u001b[0;32m-> 1604\u001b[0;31m             return self.beam_search(\n\u001b[0m\u001b[1;32m   1605\u001b[0m                 \u001b[0minput_ids\u001b[0m\u001b[0;34m,\u001b[0m\u001b[0;34m\u001b[0m\u001b[0;34m\u001b[0m\u001b[0m\n\u001b[1;32m   1606\u001b[0m                 \u001b[0mbeam_scorer\u001b[0m\u001b[0;34m,\u001b[0m\u001b[0;34m\u001b[0m\u001b[0;34m\u001b[0m\u001b[0m\n",
            "\u001b[0;32m/usr/local/lib/python3.10/dist-packages/transformers/generation/utils.py\u001b[0m in \u001b[0;36mbeam_search\u001b[0;34m(self, input_ids, beam_scorer, logits_processor, stopping_criteria, max_length, pad_token_id, eos_token_id, output_attentions, output_hidden_states, output_scores, return_dict_in_generate, synced_gpus, **model_kwargs)\u001b[0m\n\u001b[1;32m   2900\u001b[0m             \u001b[0mmodel_inputs\u001b[0m \u001b[0;34m=\u001b[0m \u001b[0mself\u001b[0m\u001b[0;34m.\u001b[0m\u001b[0mprepare_inputs_for_generation\u001b[0m\u001b[0;34m(\u001b[0m\u001b[0minput_ids\u001b[0m\u001b[0;34m,\u001b[0m \u001b[0;34m**\u001b[0m\u001b[0mmodel_kwargs\u001b[0m\u001b[0;34m)\u001b[0m\u001b[0;34m\u001b[0m\u001b[0;34m\u001b[0m\u001b[0m\n\u001b[1;32m   2901\u001b[0m \u001b[0;34m\u001b[0m\u001b[0m\n\u001b[0;32m-> 2902\u001b[0;31m             outputs = self(\n\u001b[0m\u001b[1;32m   2903\u001b[0m                 \u001b[0;34m**\u001b[0m\u001b[0mmodel_inputs\u001b[0m\u001b[0;34m,\u001b[0m\u001b[0;34m\u001b[0m\u001b[0;34m\u001b[0m\u001b[0m\n\u001b[1;32m   2904\u001b[0m                 \u001b[0mreturn_dict\u001b[0m\u001b[0;34m=\u001b[0m\u001b[0;32mTrue\u001b[0m\u001b[0;34m,\u001b[0m\u001b[0;34m\u001b[0m\u001b[0;34m\u001b[0m\u001b[0m\n",
            "\u001b[0;32m/usr/local/lib/python3.10/dist-packages/torch/nn/modules/module.py\u001b[0m in \u001b[0;36m_call_impl\u001b[0;34m(self, *args, **kwargs)\u001b[0m\n\u001b[1;32m   1499\u001b[0m                 \u001b[0;32mor\u001b[0m \u001b[0m_global_backward_pre_hooks\u001b[0m \u001b[0;32mor\u001b[0m \u001b[0m_global_backward_hooks\u001b[0m\u001b[0;34m\u001b[0m\u001b[0;34m\u001b[0m\u001b[0m\n\u001b[1;32m   1500\u001b[0m                 or _global_forward_hooks or _global_forward_pre_hooks):\n\u001b[0;32m-> 1501\u001b[0;31m             \u001b[0;32mreturn\u001b[0m \u001b[0mforward_call\u001b[0m\u001b[0;34m(\u001b[0m\u001b[0;34m*\u001b[0m\u001b[0margs\u001b[0m\u001b[0;34m,\u001b[0m \u001b[0;34m**\u001b[0m\u001b[0mkwargs\u001b[0m\u001b[0;34m)\u001b[0m\u001b[0;34m\u001b[0m\u001b[0;34m\u001b[0m\u001b[0m\n\u001b[0m\u001b[1;32m   1502\u001b[0m         \u001b[0;31m# Do not call functions when jit is used\u001b[0m\u001b[0;34m\u001b[0m\u001b[0;34m\u001b[0m\u001b[0m\n\u001b[1;32m   1503\u001b[0m         \u001b[0mfull_backward_hooks\u001b[0m\u001b[0;34m,\u001b[0m \u001b[0mnon_full_backward_hooks\u001b[0m \u001b[0;34m=\u001b[0m \u001b[0;34m[\u001b[0m\u001b[0;34m]\u001b[0m\u001b[0;34m,\u001b[0m \u001b[0;34m[\u001b[0m\u001b[0;34m]\u001b[0m\u001b[0;34m\u001b[0m\u001b[0;34m\u001b[0m\u001b[0m\n",
            "\u001b[0;32m/usr/local/lib/python3.10/dist-packages/transformers/models/mbart/modeling_mbart.py\u001b[0m in \u001b[0;36mforward\u001b[0;34m(self, input_ids, attention_mask, decoder_input_ids, decoder_attention_mask, head_mask, decoder_head_mask, cross_attn_head_mask, encoder_outputs, past_key_values, inputs_embeds, decoder_inputs_embeds, labels, use_cache, output_attentions, output_hidden_states, return_dict)\u001b[0m\n\u001b[1;32m   1356\u001b[0m                 \u001b[0mdecoder_input_ids\u001b[0m \u001b[0;34m=\u001b[0m \u001b[0mshift_tokens_right\u001b[0m\u001b[0;34m(\u001b[0m\u001b[0mlabels\u001b[0m\u001b[0;34m,\u001b[0m \u001b[0mself\u001b[0m\u001b[0;34m.\u001b[0m\u001b[0mconfig\u001b[0m\u001b[0;34m.\u001b[0m\u001b[0mpad_token_id\u001b[0m\u001b[0;34m)\u001b[0m\u001b[0;34m\u001b[0m\u001b[0;34m\u001b[0m\u001b[0m\n\u001b[1;32m   1357\u001b[0m \u001b[0;34m\u001b[0m\u001b[0m\n\u001b[0;32m-> 1358\u001b[0;31m         outputs = self.model(\n\u001b[0m\u001b[1;32m   1359\u001b[0m             \u001b[0minput_ids\u001b[0m\u001b[0;34m,\u001b[0m\u001b[0;34m\u001b[0m\u001b[0;34m\u001b[0m\u001b[0m\n\u001b[1;32m   1360\u001b[0m             \u001b[0mattention_mask\u001b[0m\u001b[0;34m=\u001b[0m\u001b[0mattention_mask\u001b[0m\u001b[0;34m,\u001b[0m\u001b[0;34m\u001b[0m\u001b[0;34m\u001b[0m\u001b[0m\n",
            "\u001b[0;32m/usr/local/lib/python3.10/dist-packages/torch/nn/modules/module.py\u001b[0m in \u001b[0;36m_call_impl\u001b[0;34m(self, *args, **kwargs)\u001b[0m\n\u001b[1;32m   1499\u001b[0m                 \u001b[0;32mor\u001b[0m \u001b[0m_global_backward_pre_hooks\u001b[0m \u001b[0;32mor\u001b[0m \u001b[0m_global_backward_hooks\u001b[0m\u001b[0;34m\u001b[0m\u001b[0;34m\u001b[0m\u001b[0m\n\u001b[1;32m   1500\u001b[0m                 or _global_forward_hooks or _global_forward_pre_hooks):\n\u001b[0;32m-> 1501\u001b[0;31m             \u001b[0;32mreturn\u001b[0m \u001b[0mforward_call\u001b[0m\u001b[0;34m(\u001b[0m\u001b[0;34m*\u001b[0m\u001b[0margs\u001b[0m\u001b[0;34m,\u001b[0m \u001b[0;34m**\u001b[0m\u001b[0mkwargs\u001b[0m\u001b[0;34m)\u001b[0m\u001b[0;34m\u001b[0m\u001b[0;34m\u001b[0m\u001b[0m\n\u001b[0m\u001b[1;32m   1502\u001b[0m         \u001b[0;31m# Do not call functions when jit is used\u001b[0m\u001b[0;34m\u001b[0m\u001b[0;34m\u001b[0m\u001b[0m\n\u001b[1;32m   1503\u001b[0m         \u001b[0mfull_backward_hooks\u001b[0m\u001b[0;34m,\u001b[0m \u001b[0mnon_full_backward_hooks\u001b[0m \u001b[0;34m=\u001b[0m \u001b[0;34m[\u001b[0m\u001b[0;34m]\u001b[0m\u001b[0;34m,\u001b[0m \u001b[0;34m[\u001b[0m\u001b[0;34m]\u001b[0m\u001b[0;34m\u001b[0m\u001b[0;34m\u001b[0m\u001b[0m\n",
            "\u001b[0;32m/usr/local/lib/python3.10/dist-packages/transformers/models/mbart/modeling_mbart.py\u001b[0m in \u001b[0;36mforward\u001b[0;34m(self, input_ids, attention_mask, decoder_input_ids, decoder_attention_mask, head_mask, decoder_head_mask, cross_attn_head_mask, encoder_outputs, past_key_values, inputs_embeds, decoder_inputs_embeds, use_cache, output_attentions, output_hidden_states, return_dict)\u001b[0m\n\u001b[1;32m   1236\u001b[0m \u001b[0;34m\u001b[0m\u001b[0m\n\u001b[1;32m   1237\u001b[0m         \u001b[0;31m# decoder outputs consists of (dec_features, past_key_value, dec_hidden, dec_attn)\u001b[0m\u001b[0;34m\u001b[0m\u001b[0;34m\u001b[0m\u001b[0m\n\u001b[0;32m-> 1238\u001b[0;31m         decoder_outputs = self.decoder(\n\u001b[0m\u001b[1;32m   1239\u001b[0m             \u001b[0minput_ids\u001b[0m\u001b[0;34m=\u001b[0m\u001b[0mdecoder_input_ids\u001b[0m\u001b[0;34m,\u001b[0m\u001b[0;34m\u001b[0m\u001b[0;34m\u001b[0m\u001b[0m\n\u001b[1;32m   1240\u001b[0m             \u001b[0mattention_mask\u001b[0m\u001b[0;34m=\u001b[0m\u001b[0mdecoder_attention_mask\u001b[0m\u001b[0;34m,\u001b[0m\u001b[0;34m\u001b[0m\u001b[0;34m\u001b[0m\u001b[0m\n",
            "\u001b[0;32m/usr/local/lib/python3.10/dist-packages/torch/nn/modules/module.py\u001b[0m in \u001b[0;36m_call_impl\u001b[0;34m(self, *args, **kwargs)\u001b[0m\n\u001b[1;32m   1499\u001b[0m                 \u001b[0;32mor\u001b[0m \u001b[0m_global_backward_pre_hooks\u001b[0m \u001b[0;32mor\u001b[0m \u001b[0m_global_backward_hooks\u001b[0m\u001b[0;34m\u001b[0m\u001b[0;34m\u001b[0m\u001b[0m\n\u001b[1;32m   1500\u001b[0m                 or _global_forward_hooks or _global_forward_pre_hooks):\n\u001b[0;32m-> 1501\u001b[0;31m             \u001b[0;32mreturn\u001b[0m \u001b[0mforward_call\u001b[0m\u001b[0;34m(\u001b[0m\u001b[0;34m*\u001b[0m\u001b[0margs\u001b[0m\u001b[0;34m,\u001b[0m \u001b[0;34m**\u001b[0m\u001b[0mkwargs\u001b[0m\u001b[0;34m)\u001b[0m\u001b[0;34m\u001b[0m\u001b[0;34m\u001b[0m\u001b[0m\n\u001b[0m\u001b[1;32m   1502\u001b[0m         \u001b[0;31m# Do not call functions when jit is used\u001b[0m\u001b[0;34m\u001b[0m\u001b[0;34m\u001b[0m\u001b[0m\n\u001b[1;32m   1503\u001b[0m         \u001b[0mfull_backward_hooks\u001b[0m\u001b[0;34m,\u001b[0m \u001b[0mnon_full_backward_hooks\u001b[0m \u001b[0;34m=\u001b[0m \u001b[0;34m[\u001b[0m\u001b[0;34m]\u001b[0m\u001b[0;34m,\u001b[0m \u001b[0;34m[\u001b[0m\u001b[0;34m]\u001b[0m\u001b[0;34m\u001b[0m\u001b[0;34m\u001b[0m\u001b[0m\n",
            "\u001b[0;32m/usr/local/lib/python3.10/dist-packages/transformers/models/mbart/modeling_mbart.py\u001b[0m in \u001b[0;36mforward\u001b[0;34m(self, input_ids, attention_mask, encoder_hidden_states, encoder_attention_mask, head_mask, cross_attn_head_mask, past_key_values, inputs_embeds, use_cache, output_attentions, output_hidden_states, return_dict)\u001b[0m\n\u001b[1;32m   1101\u001b[0m                 )\n\u001b[1;32m   1102\u001b[0m             \u001b[0;32melse\u001b[0m\u001b[0;34m:\u001b[0m\u001b[0;34m\u001b[0m\u001b[0;34m\u001b[0m\u001b[0m\n\u001b[0;32m-> 1103\u001b[0;31m                 layer_outputs = decoder_layer(\n\u001b[0m\u001b[1;32m   1104\u001b[0m                     \u001b[0mhidden_states\u001b[0m\u001b[0;34m,\u001b[0m\u001b[0;34m\u001b[0m\u001b[0;34m\u001b[0m\u001b[0m\n\u001b[1;32m   1105\u001b[0m                     \u001b[0mattention_mask\u001b[0m\u001b[0;34m=\u001b[0m\u001b[0mattention_mask\u001b[0m\u001b[0;34m,\u001b[0m\u001b[0;34m\u001b[0m\u001b[0;34m\u001b[0m\u001b[0m\n",
            "\u001b[0;32m/usr/local/lib/python3.10/dist-packages/torch/nn/modules/module.py\u001b[0m in \u001b[0;36m_call_impl\u001b[0;34m(self, *args, **kwargs)\u001b[0m\n\u001b[1;32m   1499\u001b[0m                 \u001b[0;32mor\u001b[0m \u001b[0m_global_backward_pre_hooks\u001b[0m \u001b[0;32mor\u001b[0m \u001b[0m_global_backward_hooks\u001b[0m\u001b[0;34m\u001b[0m\u001b[0;34m\u001b[0m\u001b[0m\n\u001b[1;32m   1500\u001b[0m                 or _global_forward_hooks or _global_forward_pre_hooks):\n\u001b[0;32m-> 1501\u001b[0;31m             \u001b[0;32mreturn\u001b[0m \u001b[0mforward_call\u001b[0m\u001b[0;34m(\u001b[0m\u001b[0;34m*\u001b[0m\u001b[0margs\u001b[0m\u001b[0;34m,\u001b[0m \u001b[0;34m**\u001b[0m\u001b[0mkwargs\u001b[0m\u001b[0;34m)\u001b[0m\u001b[0;34m\u001b[0m\u001b[0;34m\u001b[0m\u001b[0m\n\u001b[0m\u001b[1;32m   1502\u001b[0m         \u001b[0;31m# Do not call functions when jit is used\u001b[0m\u001b[0;34m\u001b[0m\u001b[0;34m\u001b[0m\u001b[0m\n\u001b[1;32m   1503\u001b[0m         \u001b[0mfull_backward_hooks\u001b[0m\u001b[0;34m,\u001b[0m \u001b[0mnon_full_backward_hooks\u001b[0m \u001b[0;34m=\u001b[0m \u001b[0;34m[\u001b[0m\u001b[0;34m]\u001b[0m\u001b[0;34m,\u001b[0m \u001b[0;34m[\u001b[0m\u001b[0;34m]\u001b[0m\u001b[0;34m\u001b[0m\u001b[0;34m\u001b[0m\u001b[0m\n",
            "\u001b[0;32m/usr/local/lib/python3.10/dist-packages/transformers/models/mbart/modeling_mbart.py\u001b[0m in \u001b[0;36mforward\u001b[0;34m(self, hidden_states, attention_mask, encoder_hidden_states, encoder_attention_mask, layer_head_mask, cross_attn_layer_head_mask, past_key_value, output_attentions, use_cache)\u001b[0m\n\u001b[1;32m    442\u001b[0m             \u001b[0;31m# cross_attn cached key/values tuple is at positions 3,4 of present_key_value tuple\u001b[0m\u001b[0;34m\u001b[0m\u001b[0;34m\u001b[0m\u001b[0m\n\u001b[1;32m    443\u001b[0m             \u001b[0mcross_attn_past_key_value\u001b[0m \u001b[0;34m=\u001b[0m \u001b[0mpast_key_value\u001b[0m\u001b[0;34m[\u001b[0m\u001b[0;34m-\u001b[0m\u001b[0;36m2\u001b[0m\u001b[0;34m:\u001b[0m\u001b[0;34m]\u001b[0m \u001b[0;32mif\u001b[0m \u001b[0mpast_key_value\u001b[0m \u001b[0;32mis\u001b[0m \u001b[0;32mnot\u001b[0m \u001b[0;32mNone\u001b[0m \u001b[0;32melse\u001b[0m \u001b[0;32mNone\u001b[0m\u001b[0;34m\u001b[0m\u001b[0;34m\u001b[0m\u001b[0m\n\u001b[0;32m--> 444\u001b[0;31m             hidden_states, cross_attn_weights, cross_attn_present_key_value = self.encoder_attn(\n\u001b[0m\u001b[1;32m    445\u001b[0m                 \u001b[0mhidden_states\u001b[0m\u001b[0;34m=\u001b[0m\u001b[0mhidden_states\u001b[0m\u001b[0;34m,\u001b[0m\u001b[0;34m\u001b[0m\u001b[0;34m\u001b[0m\u001b[0m\n\u001b[1;32m    446\u001b[0m                 \u001b[0mkey_value_states\u001b[0m\u001b[0;34m=\u001b[0m\u001b[0mencoder_hidden_states\u001b[0m\u001b[0;34m,\u001b[0m\u001b[0;34m\u001b[0m\u001b[0;34m\u001b[0m\u001b[0m\n",
            "\u001b[0;32m/usr/local/lib/python3.10/dist-packages/torch/nn/modules/module.py\u001b[0m in \u001b[0;36m_call_impl\u001b[0;34m(self, *args, **kwargs)\u001b[0m\n\u001b[1;32m   1499\u001b[0m                 \u001b[0;32mor\u001b[0m \u001b[0m_global_backward_pre_hooks\u001b[0m \u001b[0;32mor\u001b[0m \u001b[0m_global_backward_hooks\u001b[0m\u001b[0;34m\u001b[0m\u001b[0;34m\u001b[0m\u001b[0m\n\u001b[1;32m   1500\u001b[0m                 or _global_forward_hooks or _global_forward_pre_hooks):\n\u001b[0;32m-> 1501\u001b[0;31m             \u001b[0;32mreturn\u001b[0m \u001b[0mforward_call\u001b[0m\u001b[0;34m(\u001b[0m\u001b[0;34m*\u001b[0m\u001b[0margs\u001b[0m\u001b[0;34m,\u001b[0m \u001b[0;34m**\u001b[0m\u001b[0mkwargs\u001b[0m\u001b[0;34m)\u001b[0m\u001b[0;34m\u001b[0m\u001b[0;34m\u001b[0m\u001b[0m\n\u001b[0m\u001b[1;32m   1502\u001b[0m         \u001b[0;31m# Do not call functions when jit is used\u001b[0m\u001b[0;34m\u001b[0m\u001b[0;34m\u001b[0m\u001b[0m\n\u001b[1;32m   1503\u001b[0m         \u001b[0mfull_backward_hooks\u001b[0m\u001b[0;34m,\u001b[0m \u001b[0mnon_full_backward_hooks\u001b[0m \u001b[0;34m=\u001b[0m \u001b[0;34m[\u001b[0m\u001b[0;34m]\u001b[0m\u001b[0;34m,\u001b[0m \u001b[0;34m[\u001b[0m\u001b[0;34m]\u001b[0m\u001b[0;34m\u001b[0m\u001b[0;34m\u001b[0m\u001b[0m\n",
            "\u001b[0;32m/usr/local/lib/python3.10/dist-packages/transformers/models/mbart/modeling_mbart.py\u001b[0m in \u001b[0;36mforward\u001b[0;34m(self, hidden_states, key_value_states, past_key_value, attention_mask, layer_head_mask, output_attentions)\u001b[0m\n\u001b[1;32m    188\u001b[0m \u001b[0;34m\u001b[0m\u001b[0m\n\u001b[1;32m    189\u001b[0m         \u001b[0;31m# get query proj\u001b[0m\u001b[0;34m\u001b[0m\u001b[0;34m\u001b[0m\u001b[0m\n\u001b[0;32m--> 190\u001b[0;31m         \u001b[0mquery_states\u001b[0m \u001b[0;34m=\u001b[0m \u001b[0mself\u001b[0m\u001b[0;34m.\u001b[0m\u001b[0mq_proj\u001b[0m\u001b[0;34m(\u001b[0m\u001b[0mhidden_states\u001b[0m\u001b[0;34m)\u001b[0m \u001b[0;34m*\u001b[0m \u001b[0mself\u001b[0m\u001b[0;34m.\u001b[0m\u001b[0mscaling\u001b[0m\u001b[0;34m\u001b[0m\u001b[0;34m\u001b[0m\u001b[0m\n\u001b[0m\u001b[1;32m    191\u001b[0m         \u001b[0;31m# get key, value proj\u001b[0m\u001b[0;34m\u001b[0m\u001b[0;34m\u001b[0m\u001b[0m\n\u001b[1;32m    192\u001b[0m         \u001b[0;31m# `past_key_value[0].shape[2] == key_value_states.shape[1]`\u001b[0m\u001b[0;34m\u001b[0m\u001b[0;34m\u001b[0m\u001b[0m\n",
            "\u001b[0;32m/usr/local/lib/python3.10/dist-packages/torch/nn/modules/module.py\u001b[0m in \u001b[0;36m_call_impl\u001b[0;34m(self, *args, **kwargs)\u001b[0m\n\u001b[1;32m   1499\u001b[0m                 \u001b[0;32mor\u001b[0m \u001b[0m_global_backward_pre_hooks\u001b[0m \u001b[0;32mor\u001b[0m \u001b[0m_global_backward_hooks\u001b[0m\u001b[0;34m\u001b[0m\u001b[0;34m\u001b[0m\u001b[0m\n\u001b[1;32m   1500\u001b[0m                 or _global_forward_hooks or _global_forward_pre_hooks):\n\u001b[0;32m-> 1501\u001b[0;31m             \u001b[0;32mreturn\u001b[0m \u001b[0mforward_call\u001b[0m\u001b[0;34m(\u001b[0m\u001b[0;34m*\u001b[0m\u001b[0margs\u001b[0m\u001b[0;34m,\u001b[0m \u001b[0;34m**\u001b[0m\u001b[0mkwargs\u001b[0m\u001b[0;34m)\u001b[0m\u001b[0;34m\u001b[0m\u001b[0;34m\u001b[0m\u001b[0m\n\u001b[0m\u001b[1;32m   1502\u001b[0m         \u001b[0;31m# Do not call functions when jit is used\u001b[0m\u001b[0;34m\u001b[0m\u001b[0;34m\u001b[0m\u001b[0m\n\u001b[1;32m   1503\u001b[0m         \u001b[0mfull_backward_hooks\u001b[0m\u001b[0;34m,\u001b[0m \u001b[0mnon_full_backward_hooks\u001b[0m \u001b[0;34m=\u001b[0m \u001b[0;34m[\u001b[0m\u001b[0;34m]\u001b[0m\u001b[0;34m,\u001b[0m \u001b[0;34m[\u001b[0m\u001b[0;34m]\u001b[0m\u001b[0;34m\u001b[0m\u001b[0;34m\u001b[0m\u001b[0m\n",
            "\u001b[0;32m/usr/local/lib/python3.10/dist-packages/torch/nn/modules/linear.py\u001b[0m in \u001b[0;36mforward\u001b[0;34m(self, input)\u001b[0m\n\u001b[1;32m    112\u001b[0m \u001b[0;34m\u001b[0m\u001b[0m\n\u001b[1;32m    113\u001b[0m     \u001b[0;32mdef\u001b[0m \u001b[0mforward\u001b[0m\u001b[0;34m(\u001b[0m\u001b[0mself\u001b[0m\u001b[0;34m,\u001b[0m \u001b[0minput\u001b[0m\u001b[0;34m:\u001b[0m \u001b[0mTensor\u001b[0m\u001b[0;34m)\u001b[0m \u001b[0;34m->\u001b[0m \u001b[0mTensor\u001b[0m\u001b[0;34m:\u001b[0m\u001b[0;34m\u001b[0m\u001b[0;34m\u001b[0m\u001b[0m\n\u001b[0;32m--> 114\u001b[0;31m         \u001b[0;32mreturn\u001b[0m \u001b[0mF\u001b[0m\u001b[0;34m.\u001b[0m\u001b[0mlinear\u001b[0m\u001b[0;34m(\u001b[0m\u001b[0minput\u001b[0m\u001b[0;34m,\u001b[0m \u001b[0mself\u001b[0m\u001b[0;34m.\u001b[0m\u001b[0mweight\u001b[0m\u001b[0;34m,\u001b[0m \u001b[0mself\u001b[0m\u001b[0;34m.\u001b[0m\u001b[0mbias\u001b[0m\u001b[0;34m)\u001b[0m\u001b[0;34m\u001b[0m\u001b[0;34m\u001b[0m\u001b[0m\n\u001b[0m\u001b[1;32m    115\u001b[0m \u001b[0;34m\u001b[0m\u001b[0m\n\u001b[1;32m    116\u001b[0m     \u001b[0;32mdef\u001b[0m \u001b[0mextra_repr\u001b[0m\u001b[0;34m(\u001b[0m\u001b[0mself\u001b[0m\u001b[0;34m)\u001b[0m \u001b[0;34m->\u001b[0m \u001b[0mstr\u001b[0m\u001b[0;34m:\u001b[0m\u001b[0;34m\u001b[0m\u001b[0;34m\u001b[0m\u001b[0m\n",
            "\u001b[0;31mKeyboardInterrupt\u001b[0m: "
          ]
        }
      ]
    },
    {
      "cell_type": "code",
      "source": [
        "from sacrebleu import BLEU, CHRF\n",
        "chrf = CHRF()\n",
        "bleu = BLEU()"
      ],
      "metadata": {
        "id": "u8g6oPMUyD2J"
      },
      "id": "u8g6oPMUyD2J",
      "execution_count": 120,
      "outputs": []
    },
    {
      "cell_type": "code",
      "source": [
        "print('chrF: ', chrf.corpus_score(translated, target).score,\n",
        "      'BLEU: ', bleu.corpus_score(translated, target).score)"
      ],
      "metadata": {
        "colab": {
          "base_uri": "https://localhost:8080/"
        },
        "id": "9S6OZkNPyFtG",
        "outputId": "6d23662f-c4a2-487a-9b75-48ab89747efa"
      },
      "id": "9S6OZkNPyFtG",
      "execution_count": 121,
      "outputs": [
        {
          "output_type": "stream",
          "name": "stdout",
          "text": [
            "chrF:  4.411764705882352 BLEU:  0.7762449678617828\n"
          ]
        }
      ]
    },
    {
      "cell_type": "code",
      "source": [
        "print('библия',\n",
        "      'chrF: ', chrf.corpus_score(translated[:751], target[:751]).score,\n",
        "      'BLEU: ', bleu.corpus_score(translated[:751], target[:751]).score)\n",
        "print('книги',\n",
        "      'chrF: ', chrf.corpus_score(translated[751:1277], target[751:1277]).score,\n",
        "      'BLEU: ', bleu.corpus_score(translated[751:1277], target[751:1277]).score)\n",
        "print('tatoeba',\n",
        "      'chrF: ', chrf.corpus_score(translated[1277:1364], target[1277:1364]).score,\n",
        "      'BLEU: ', bleu.corpus_score(translated[1277:1364], target[1277:1364]).score)\n",
        "print('стихи',\n",
        "      'chrF: ', chrf.corpus_score(translated[1364:1527], target[1364:1527]).score,\n",
        "      'BLEU: ', bleu.corpus_score(translated[1364:1527], target[1364:1527]).score)\n",
        "print('Википедия',\n",
        "      'chrF: ', chrf.corpus_score(translated[1527:1716], target[1527:1716]).score,\n",
        "      'BLEU: ', bleu.corpus_score(translated[1527:1716], target[1527:1716]).score)\n",
        "print('законы',\n",
        "      'chrF: ', chrf.corpus_score(translated[1716:], target[1716:]).score,\n",
        "      'BLEU: ', bleu.corpus_score(translated[1716:], target[1716:]).score)"
      ],
      "metadata": {
        "colab": {
          "base_uri": "https://localhost:8080/"
        },
        "id": "Mus08YGQL_bh",
        "outputId": "9c471535-aa61-4064-cb26-cf51493048b8"
      },
      "id": "Mus08YGQL_bh",
      "execution_count": 122,
      "outputs": [
        {
          "output_type": "stream",
          "name": "stdout",
          "text": [
            "библия chrF:  3.888299752562743 BLEU:  0.1696222319443435\n",
            "книги chrF:  10.56338028169014 BLEU:  0.9178248246402589\n",
            "tatoeba chrF:  18.918918918918916 BLEU:  1.7354371729873994\n",
            "стихи chrF:  8.771929824561402 BLEU:  1.1158754615530424\n",
            "Википедия chrF:  5.248284214775939 BLEU:  0.19505961211904183\n",
            "законы chrF:  3.2397408207343408 BLEU:  0.7005953383943448\n"
          ]
        }
      ]
    },
    {
      "cell_type": "code",
      "source": [
        "for i in range(len(test)):\n",
        "  if i%50==0:\n",
        "        print(int(i/50)+1, ') ', test[i][1])\n",
        "        print('эталон: ', test[i][0])\n",
        "        print('перевод: ', translated[i])\n",
        "        print()"
      ],
      "metadata": {
        "colab": {
          "base_uri": "https://localhost:8080/"
        },
        "id": "FuK_QTEUyO-J",
        "outputId": "8061a842-ad9b-4da0-cacb-b41be321f2a4"
      },
      "id": "FuK_QTEUyO-J",
      "execution_count": 114,
      "outputs": [
        {
          "output_type": "stream",
          "name": "stdout",
          "text": [
            "1 )  Ибо вы, люди разумные, охотно терпите неразумных:\n",
            "эталон:  Таанад өөhэдөө ехэл сэсэн ухаантай, тиин тэнэг үбэштэй зондо ехэл тэсэбэритэй байдаг ха юмта!\n",
            "перевод:  Юундэб гэхэдэ, таанад hүзэглэгшэд хүнүүд юм.Тиимэhээ тэнэг юумэнүүдые тэсэхэ дуратай байнат.\n",
            "\n",
            "2 )  Тогда он закричал: Иисус, Сын Давидов! помилуй меня.\n",
            "эталон:  Тиихэдэнь hохор хүн: «Давидай үри hадаhан Иисус, намайе үршөөжэ хайрлыш!» – гэжэ хашхарба. \n",
            "перевод:  Тиихэдэнь Иисус: «Иисус, Давидай Хүбүүн! Намайе хайрлажа байгты», – гэжэ хашхаралдаба.\n",
            "\n",
            "3 )  Истинно говорю вам: не прейдет род сей, как все сие будет;\n",
            "эталон:  Мүнөө ажамидаржа байhан хүнүүдэй бултанайнь үхэжэ үрдеэгүй байхада минии таанадта хэлэhэн бүхэн тохёолдохо гэжэ таанадта баталан хэлэнэб.\n",
            "перевод:  Тиимэhээ би таанадта үнэн зүбөөр хэлэбэ: «Бурханай бүлгэм энэ дэлхэйн бүхы юумэнүүдээр дамжан байхагүй», – гэбэ.\n",
            "\n",
            "4 )  И Я даю им жизнь вечную, и не погибнут вовек; и никто не похитит их из руки Моей.\n",
            "эталон:  Би тэдэндэ мүнхэ наhа үгэнэб, тэдэ хэзээшье хосорхогүй, тэдэниие намhаа хэншье буляажа абахагүй.\n",
            "перевод:  Тиимэhээ би тэдэниие амидыруулнаб. Тэдэнэр хэзээшье үхэхэгүй, минии гартаа хэншье тэдэниие алахагүйт.\n",
            "\n",
            "5 )  Братьев же послал я для того, чтобы похвала моя о вас не оказалась тщетною в сем случае, но чтобы вы, как я говорил, были приготовлены,\n",
            "эталон:  Тиигэжэл таанадые магтаhан үгэнүүдни хооhон үгэнүүд байшахагүйн тула би hүзэглэгшэ дүүнэрээ таанадта ябуулаа хүм.Харин минии хэлээшээр таанад туhаламжынгаа мүнгэ бэлдээд байгаарайгты. \n",
            "перевод:  Аха дүүнэрhээ таанад тухай минии дуулажа үгэхэ ёhотой болохо гэжэ, би тэдэниие иигэжэ захирагшагта байгааб. Тиихэдэнь танай бүлгэмэй hүзэглэгшэд бэелүүлхэ аргатай байхын тулаар би тэдэниие харюусаба.\n",
            "\n",
            "6 )  Они же, прочитав, возрадовались о сем наставлении.\n",
            "эталон:  Энэ урмашуулhан бэшэг уншаад, зон угаа ехээр баярлаа.\n",
            "перевод:  Тиихэдэнь тэдэнэр уншаhан, энэ ёhотой заабарииетэ баярлажа байба.\n",
            "\n",
            "7 )  Но Иисус тотчас заговорил с ними и сказал: ободритесь; это Я, не бойтесь.\n",
            "эталон:  Зүгөөр Иисус тэдэнтэй дары дуугаралсан: «Зоригтой байгты.Энэ биб, бү айгты», – гэбэ. \n",
            "перевод:  Тиихэдэнь Иисус тэдэниие хэлэбэ: «Энэ би байна, айшагты», – гэбэ.\n",
            "\n",
            "8 )  И сказал Сидящий на престоле: се, творю все новое. И говорит мне: напиши; ибо слова сии истинны и верны.\n",
            "эталон:  Хаан шэрээдэ Һуугша иигэжэ хэлээ: «Харалши, би баран шэнэ юумэ хэнэб!» Тиигээд тэрэ иигэжэ хэлэбэ: «Буулгажа бэшээд аба, эдэ үгэнүүдтэ этигэхэдэ болохо, юундэб гэбэл, эдэ бүхы үгэнүүд үнэн зүб юм». \n",
            "перевод:  Тиимэhээ шэрээ дээрэ hуужа байhан хүн: «Би бүхы юумэнүүдые бэелүүлбэ», – гэжэ хэлэбэ.Тиихэдэнь намда: «Энээниие бэшэгты», – гэжэ хэлэбэ.Тэндэ этигэлтэй, үнэн сэдьхэл юм.\n",
            "\n",
            "9 )  Господа Бога святите в сердцах ваших; будьте всегда готовы всякому, требующему у вас отчета в вашем уповании, дать ответ с кротостью и благоговением.\n",
            "эталон:  Харин зүрхэ сэдьхэлдээ Дээдын Эзэн Христосые аргагүй хүндэлжэ ябагты.Ямаршье хүнэй ажамидаралайтнай найдал тухай hурабалнь, хэзээшье харюу үгэхэдэ бэлэн байгты. \n",
            "перевод:  Бурханай Дээдын Эзэнүүдые hүзэглэгшэд байгты.Тиимэhээ таанадта найдуулха ёhотой хүсэhэн хүн бүхэндэ бүриин мүнөө хандажа, үнэн сэхэ зохёолтой ба магтаалтайгаар хандажа байгты.\n",
            "\n",
            "10 )  Петр сказал Ему: если и все соблазнятся, но не я.\n",
            "эталон:  «Бултанай шамайе орхёошье hаань, би шамhаа хэзээшье арсахагүйб», – гэжэ Пётр тэрээндэ хэлэбэ.\n",
            "перевод:  Тиигээд Пётр:– Хэрбээшье бүхы хүнэй нүхэршэхэ, харин би бэшэ.\n",
            "\n",
            "11 )  А о чем вы писали ко мне, то хорошо человеку не касаться женщины.\n",
            "эталон:   Таанадай намда бэшэhэн юумэн тухай хэлэбэл, эрэ хүнэй hамга абаагүй hаань hайн юм.\n",
            "перевод:  Харин таанад намда хөөрэлдэhэн тухай бэшээжэ байhан хүн бүхэн эхэнэртэй харюулгүй байха hайхан юм.\n",
            "\n",
            "12 )  Вы пойдите на праздник сей; а Я еще не пойду на сей праздник, потому что Мое время еще не исполнилось.\n",
            "эталон:  Таанар hайндэртээ ошогты.Би тэрэ найрта ошохогүйб, минии саг үшөө ерээдүй байна. \n",
            "перевод:  Таанар энэ үдэртэ ошохоёо, харин би энэ үдэртэ hуухагүйбди. Минии намайе мүнөө дуудаhан болоогүй юм.\n",
            "\n",
            "13 )  Он отвечал, что Иудеи согласились просить тебя, чтобы ты завтра вывел Павла пред синедрион, как будто они хотят точнее исследовать дело о нем.\n",
            "эталон:  – Павелые Зүблэлэй гэшүүдтэ абаашахые шамhаа гуйха тухай еврейнүүд хоорондоо үгэсэн хэлсэбэд, – гэжэ хүбүүн харюусаба.– Тэдэ Павелай хэрэгые дахин шалгажа хараха hанаатайбди гэhэн хэбэр үзүүлхэ. \n",
            "перевод:  Тиигэжэ Иисус харюусаба: «Еврейнүүд табигтые үдэртөө Павелые Сэрэдын урда ошохо гэжэ хүсэнэт, тиимэhээ тэрээн тухайгаа hанаажа ябаха юм», – гэбэ.\n",
            "\n",
            "14 )  Но Павел полагал не брать отставшего от них в Памфилии и не шедшего с ними на дело, на которое они были посланы.\n",
            "эталон:  Гэбэшье Памфилида тэдэниие хаяжа, хэрэгыень бүтээлсэхэеэ арсаhан Маркые Павел абажа ябаха дурагүй байгаа.\n",
            "перевод:  Павел тэдэниие урдаhан хүнүүдые Памфилиин хотодо ябуулхагүй гэжэ hанаажа, тэдэнтэй хамта тулагдахагүй гэжэ харюусаба.\n",
            "\n",
            "15 )  Впрочем я знаю, братия, что вы, как и начальники ваши, сделали это по неведению;\n",
            "эталон:  Гэбэшье, аха дүүнэрни, таанадай, танай захирагшадай үйлэдэhэн юумые мэдэхэгүй байhан дээрэhээл тэрэ буруу ябадал хээт гэжэ би мэдэнэб.\n",
            "перевод:  Аха дүүнэрни, таанадшье түрүүлэгшүүдтэй хамта энэ ёhотой юумэ хэжэ байhан юм гэжэ би мэдэнэб.\n",
            "\n",
            "16 )  так, как и я угождаю всем во всем, ища не своей пользы, но пользы многих, чтобы они спаслись.\n",
            "эталон:  Ямаршье юумэ хэхэдээ, би өөрынгөө hайн hайханай түлөө бэшэ, харин бүхы хүнүүдэй абарагдахын тула тэдэнэй hайн hайханай түлөө оролдодогби.\n",
            "перевод:  Тиимэhээ би хүн бүхэндэ бүхы юумэниие хандадаг гээшэб. Би өөрынгөө ашааршье, харин тэдэнэр абарагдаха гэжэ олон хүнэй ашаар хүртэхые оролдожо байнаб.\n",
            "\n",
            "17 )  Чего ты на полу-то, лег бы в кровать, — громко сказала Дулгар, и это разбудило старика.\n",
            "эталон:  Бодожо, хэбтэреэ заhаад, унта, — гэжэ Дулгар хүгшэн шангаар дуугарба.\n",
            "перевод:  Тиигэжэ hууhан хүниие шэрээ соо, — гэжэ Дулгар шангаар хэлээд, хүбүүнэй бодобо.\n",
            "\n",
            "18 )  Наконец Зурин получил известие о поимке самозванца, а вместе с тем и повеление остановиться.\n",
            "эталон:  Һүүлээрнь хуурмаг нэрэтэ баригдаба, походоо зогсоогты гэжэ мэдээ Зурин абаба.\n",
            "перевод:  Тиихэдэнь Зурин нютагдаhан нэрэтэй хүниие барижа, тэрээндэ зогсохо гэжэ захирба.\n",
            "\n",
            "19 )  — Где моя дочка? — тихо стонала старуха.\n",
            "эталон:  — Хайран үри бэемни, амиды мэндэ гээшэ гү!\n",
            "перевод:  — Хаана минии хүбүүн? — гэжэ үбгэн hууhан дуугарба.\n",
            "\n",
            "20 )  — Погодите, хозяйка, тут одно с другим крепко связано...\n",
            "эталон:  - Бай, бай, убсанса абгай, арайшье тиигээд бү хэлэжэ орхигты!\n",
            "перевод:  – Зай, хозяйка, энд нэгэ нүхэртэй холбоотой...\n",
            "\n",
            "21 )  Что чувствовал я, того не стану описывать.\n",
            "эталон:  Би тэрэ үеынгөө бүхы мэдэрэлые дэлбэлжэ бэшэхэ үгыб.\n",
            "перевод:  Би юу мэдэнэб гэжэ, тэрэниие тайлбарилжа үгэхэгүй.\n",
            "\n",
            "22 )  Швабрин Алексей Иваныч вот уж пятый год как к нам переведен за смертоубийство.\n",
            "эталон:  Швабрин Алексей Иванович хүниие алаhанай түлөө заруулаад, табадахи жэлээ эндэ байгша.\n",
            "перевод:  Швабрин Алексей Иванович намайе үхибэhэн зоной түлөө табигты.\n",
            "\n",
            "23 )  Лучше ли будет?\n",
            "эталон:  Та юун гэжэ hананат? — гээд, Бадан Мүнхын нюур шарай шалангяар хараба.\n",
            "перевод:  Тиимэ hайн болохо гү?\n",
            "\n",
            "24 )  Савельич от меня не отставал, не прерывая жалобных своих молений.\n",
            "эталон:  Савельич уй хай болохоёо зааш таhараагүйшье hаа, намhаа гээгдэнэгүй.\n",
            "перевод:  Савельич минии урдаhаа хойшо ябахагүй, өөрынгөө хашуудал hанаагаа түргэхэгүй.\n",
            "\n",
            "25 )  «Ай, ай, ай! — заметил генерал. ~~~ — Это плохо, очень плохо.\n",
            "эталон:  «Ай, ай, ай! – гэнэ генерал; – Тэрэ муу, тоншье муу.\n",
            "перевод:  «Ай, ай, ай! — гэбэ генерал. ~~~ — Энэ муухай, маш муутай.\n",
            "\n",
            "26 )  — Петруша, друг мой, (говорила) матушка. ~~~ Как тебя господь привел!\n",
            "эталон:  — Петруша, хүбүүн минии, — гэнэ эжымни: ~~~ — Бурхан шамай хаанаhаа гаргажа асараа гээшэб?\n",
            "перевод:  – Петруша, минии нүхэдөө, — гэжэ эхэнэр дуугарба.– Эзэниие яажа ерэбэ!\n",
            "\n",
            "27 )  У меня болит ухо. \n",
            "эталон:  Минии шэхэн үбдэнэ. \n",
            "перевод:  Минии ухо болобо.\n",
            "\n",
            "28 )  Сегодня первое сентября. \n",
            "эталон:  Мүнөөдэр сентябриин нэгэн. \n",
            "перевод:  Мүнөө 1 сентябрь.\n",
            "\n",
            "29 )  За эту единственную жизнь И с радостью успеха, и с невгодами столкнешься.\n",
            "эталон:  Гансахан энээхэн наhандаа Гажархаш, хүхихэш сагтай уулзахаш.\n",
            "перевод:  Тиигэжэ үбгэн ажалда, тиимэ ехээр баяр баясхалан, тиимэ бэшэ hаналhаа хүлеэжэ болохо.\n",
            "\n",
            "30 )  тэрэ нюуса бэшэгые анхан эхэнэрнүүдһээ абаа: галабуудай эхинһээ тэдэ нангин һүөөр бэшэдэг лэ нээлгээтэй ягаан саарһаншуу нялха нарайнуудай уралнууд дээрэ, арбаад жэлнүүдэй үнгэрһэн хойно түбеэр гоё ордонгуудай бодоод, хүхюун дуунуудай зэдэлхын түлөө.\n",
            "эталон:  түүниие урдуул мэдээд, шамайе гэмнээгүй», гээл намда минии ухаан.\n",
            "перевод:  эхэнэрнүүдhээ абаа: галабуудай эхинхэ тэдэ нангин hүөөр бэшэдэг лэ нээлгээтэйягаан саарханшуу нялха нарайнуудай уралнууд дээрэ, арбаад жэлнүүдэй үнгэрхэн хойно түбеэр гоё оронгуудай бодоод, хүхюун дуунуудай зэдэлхын түлөө.\n",
            "\n",
            "31 )  девочка, рисовавшая звезды\n",
            "эталон:  одо зурагша хүүхэн\n",
            "перевод:  зуршагтай одохон басаган\n",
            "\n",
            "32 )  До прихода европейцев территорию штата заселяли алгонкинские племена ленапе (более известные как делавары), занимавшие всю Делавэрскую равнину, и нантикоки, жившие вдоль рек, впадающих в Чесапикский залив.\n",
            "эталон:  Анха XVI зуунда европошууд эрьэень нээхэhээ үмэнэ, Делавэртэ унаган америкынхидай хэд хэдэн бүлэг оршон hуужа байhанай дотор хойто зүгтэ Линапе, урда зүгтэ Нантикоке омогойхид нютаглажа байба.\n",
            "перевод:  До прихода европейцев territory алгонын племени ленапе (более известные как делавара), эзэлhэн бүхы Делавэр далай, и нантикоки, живущие вдоль реков, впадающих в Чесапикский залив.\n",
            "\n",
            "33 )  Крупные общины присутствуют в США, Канаде, Бразилии, Германии.\n",
            "эталон:  АНУ, Канада, Бразил, Германи руу сагаашалhан хүнэй тоо үсөөнгүй.\n",
            "перевод:  Тэдэнэй арадууд АНУ-да, Канадада, Бразилияда, Германиин дэлхэйдэ ерэhэн байна.\n",
            "\n",
            "34 )  В 1876 году была принята современная конституция Техаса.\n",
            "эталон:  Техас түүхэ, соёлой хубида Америкын Урдын ойро холбоотой.\n",
            "перевод:  1876 ондо Техас конституциин байгуулба.\n",
            "\n",
            "35 )  В том же году к мировому наследию ЮНЕСКО были отнесены следующие творения Гауди: храм Святого Семейства (фасад Рождества и крипта), дом Висенс, парк Гуэля, Дом Бальо («Дом костей») и дом Мила («Каменоломня»).\n",
            "эталон:  1289 ондо эхилээд XV зуун жэлэй эсэс хүрэтэр баригдаhан готик янзын собор сүмэ, VI зуун жэлдэ баригдаhан базилика болон энэ гадна Санта-Мария-дель-Мар сүмэ зэргын готик янзын hайхан байшан харагдажа байна.\n",
            "перевод:  Энэ жэлдэ Гаудын олон бүтээлүүдые ЮНЕСКО-гойсоной Эрнегтэ табихадаа: Һайн Мэдээсэлэй гэр (Рожом ба Криптын газар), Висенс дом, Гуэля парк, Дом Бальо («Дом костэг») и Дом Мила («Каменоломня»).\n",
            "\n",
            "36 )  В связи с кадровыми изменениями в исполнительных органах государственной власти Республики Бурятия Правительство Республики Бурятия постановляет.\n",
            "эталон:  гэhэн мүр удаадахи мүрөөр hэлгэхэ.\n",
            "перевод:  Буряад Уласай гүрэнэй эрхэтын засагай зургаануудта кадровые ёhотой оруулха тухай Буряад Уласай Засагай газар тогтооно.\n",
            "\n",
            "37 )  В пункте 4.1 слова «государственного учета,» исключить.\n",
            "эталон:  -дэхи пунктда «гүрэнэй бүридхэлэй,» гэhэн үгэнүүдые хаhаха.\n",
            "перевод:  «Гүрэнэй бюджедүүдтэ» гэhэн үгэ 4.1-дахи пунктда оруулха.\n",
            "\n"
          ]
        }
      ]
    },
    {
      "cell_type": "code",
      "source": [
        "for i in range(len(test)):\n",
        "  print(translated[i])"
      ],
      "metadata": {
        "id": "MdIJe2xJ6cIl"
      },
      "id": "MdIJe2xJ6cIl",
      "execution_count": null,
      "outputs": []
    },
    {
      "cell_type": "code",
      "source": [
        "with open('translated_ru_bxr.txt', 'w', encoding='utf-8') as f:\n",
        "  for i in translated:\n",
        "    f.write(f'{i}\\n')"
      ],
      "metadata": {
        "id": "vRT8xvamyZca"
      },
      "id": "vRT8xvamyZca",
      "execution_count": 110,
      "outputs": []
    },
    {
      "cell_type": "markdown",
      "id": "65a8f828",
      "metadata": {
        "id": "65a8f828"
      },
      "source": [
        "# Evaluate"
      ]
    }
  ],
  "metadata": {
    "accelerator": "GPU",
    "colab": {
      "provenance": [],
      "collapsed_sections": [
        "-8XAMxqXEpmb",
        "5ti1i7soD3CN"
      ],
      "machine_shape": "hm",
      "gpuType": "A100"
    },
    "gpuClass": "standard",
    "kernelspec": {
      "display_name": "Python 3 (ipykernel)",
      "language": "python",
      "name": "python3"
    },
    "language_info": {
      "codemirror_mode": {
        "name": "ipython",
        "version": 3
      },
      "file_extension": ".py",
      "mimetype": "text/x-python",
      "name": "python",
      "nbconvert_exporter": "python",
      "pygments_lexer": "ipython3",
      "version": "3.8.10"
    },
    "widgets": {
      "application/vnd.jupyter.widget-state+json": {
        "535e78abfcf14e34923b2f13bfc420a3": {
          "model_module": "@jupyter-widgets/controls",
          "model_name": "HBoxModel",
          "model_module_version": "1.5.0",
          "state": {
            "_dom_classes": [],
            "_model_module": "@jupyter-widgets/controls",
            "_model_module_version": "1.5.0",
            "_model_name": "HBoxModel",
            "_view_count": null,
            "_view_module": "@jupyter-widgets/controls",
            "_view_module_version": "1.5.0",
            "_view_name": "HBoxView",
            "box_style": "",
            "children": [
              "IPY_MODEL_e117e8313b684555992506953440b21a",
              "IPY_MODEL_a57bce2b052141f8bd72baa036174859",
              "IPY_MODEL_ae361996869d4aab9e3e8eba89abe01b"
            ],
            "layout": "IPY_MODEL_920c60dcc42a4bf4a449b4170d97e173"
          }
        },
        "e117e8313b684555992506953440b21a": {
          "model_module": "@jupyter-widgets/controls",
          "model_name": "HTMLModel",
          "model_module_version": "1.5.0",
          "state": {
            "_dom_classes": [],
            "_model_module": "@jupyter-widgets/controls",
            "_model_module_version": "1.5.0",
            "_model_name": "HTMLModel",
            "_view_count": null,
            "_view_module": "@jupyter-widgets/controls",
            "_view_module_version": "1.5.0",
            "_view_name": "HTMLView",
            "description": "",
            "description_tooltip": null,
            "layout": "IPY_MODEL_e469fc5c8da9451aa0708906eb53da60",
            "placeholder": "​",
            "style": "IPY_MODEL_5731ba890b214313850147c168caefde",
            "value": "Downloading (…)tencepiece.bpe.model: 100%"
          }
        },
        "a57bce2b052141f8bd72baa036174859": {
          "model_module": "@jupyter-widgets/controls",
          "model_name": "FloatProgressModel",
          "model_module_version": "1.5.0",
          "state": {
            "_dom_classes": [],
            "_model_module": "@jupyter-widgets/controls",
            "_model_module_version": "1.5.0",
            "_model_name": "FloatProgressModel",
            "_view_count": null,
            "_view_module": "@jupyter-widgets/controls",
            "_view_module_version": "1.5.0",
            "_view_name": "ProgressView",
            "bar_style": "success",
            "description": "",
            "description_tooltip": null,
            "layout": "IPY_MODEL_30fbfbac880b4e3c8523e95336235567",
            "max": 5069051,
            "min": 0,
            "orientation": "horizontal",
            "style": "IPY_MODEL_cbe8be8b406b43d59721712946a5e350",
            "value": 5069051
          }
        },
        "ae361996869d4aab9e3e8eba89abe01b": {
          "model_module": "@jupyter-widgets/controls",
          "model_name": "HTMLModel",
          "model_module_version": "1.5.0",
          "state": {
            "_dom_classes": [],
            "_model_module": "@jupyter-widgets/controls",
            "_model_module_version": "1.5.0",
            "_model_name": "HTMLModel",
            "_view_count": null,
            "_view_module": "@jupyter-widgets/controls",
            "_view_module_version": "1.5.0",
            "_view_name": "HTMLView",
            "description": "",
            "description_tooltip": null,
            "layout": "IPY_MODEL_81d3350880b94f698dac9df88efa2310",
            "placeholder": "​",
            "style": "IPY_MODEL_40091961904845c8a9ee2c376e29e924",
            "value": " 5.07M/5.07M [00:00&lt;00:00, 53.2MB/s]"
          }
        },
        "920c60dcc42a4bf4a449b4170d97e173": {
          "model_module": "@jupyter-widgets/base",
          "model_name": "LayoutModel",
          "model_module_version": "1.2.0",
          "state": {
            "_model_module": "@jupyter-widgets/base",
            "_model_module_version": "1.2.0",
            "_model_name": "LayoutModel",
            "_view_count": null,
            "_view_module": "@jupyter-widgets/base",
            "_view_module_version": "1.2.0",
            "_view_name": "LayoutView",
            "align_content": null,
            "align_items": null,
            "align_self": null,
            "border": null,
            "bottom": null,
            "display": null,
            "flex": null,
            "flex_flow": null,
            "grid_area": null,
            "grid_auto_columns": null,
            "grid_auto_flow": null,
            "grid_auto_rows": null,
            "grid_column": null,
            "grid_gap": null,
            "grid_row": null,
            "grid_template_areas": null,
            "grid_template_columns": null,
            "grid_template_rows": null,
            "height": null,
            "justify_content": null,
            "justify_items": null,
            "left": null,
            "margin": null,
            "max_height": null,
            "max_width": null,
            "min_height": null,
            "min_width": null,
            "object_fit": null,
            "object_position": null,
            "order": null,
            "overflow": null,
            "overflow_x": null,
            "overflow_y": null,
            "padding": null,
            "right": null,
            "top": null,
            "visibility": null,
            "width": null
          }
        },
        "e469fc5c8da9451aa0708906eb53da60": {
          "model_module": "@jupyter-widgets/base",
          "model_name": "LayoutModel",
          "model_module_version": "1.2.0",
          "state": {
            "_model_module": "@jupyter-widgets/base",
            "_model_module_version": "1.2.0",
            "_model_name": "LayoutModel",
            "_view_count": null,
            "_view_module": "@jupyter-widgets/base",
            "_view_module_version": "1.2.0",
            "_view_name": "LayoutView",
            "align_content": null,
            "align_items": null,
            "align_self": null,
            "border": null,
            "bottom": null,
            "display": null,
            "flex": null,
            "flex_flow": null,
            "grid_area": null,
            "grid_auto_columns": null,
            "grid_auto_flow": null,
            "grid_auto_rows": null,
            "grid_column": null,
            "grid_gap": null,
            "grid_row": null,
            "grid_template_areas": null,
            "grid_template_columns": null,
            "grid_template_rows": null,
            "height": null,
            "justify_content": null,
            "justify_items": null,
            "left": null,
            "margin": null,
            "max_height": null,
            "max_width": null,
            "min_height": null,
            "min_width": null,
            "object_fit": null,
            "object_position": null,
            "order": null,
            "overflow": null,
            "overflow_x": null,
            "overflow_y": null,
            "padding": null,
            "right": null,
            "top": null,
            "visibility": null,
            "width": null
          }
        },
        "5731ba890b214313850147c168caefde": {
          "model_module": "@jupyter-widgets/controls",
          "model_name": "DescriptionStyleModel",
          "model_module_version": "1.5.0",
          "state": {
            "_model_module": "@jupyter-widgets/controls",
            "_model_module_version": "1.5.0",
            "_model_name": "DescriptionStyleModel",
            "_view_count": null,
            "_view_module": "@jupyter-widgets/base",
            "_view_module_version": "1.2.0",
            "_view_name": "StyleView",
            "description_width": ""
          }
        },
        "30fbfbac880b4e3c8523e95336235567": {
          "model_module": "@jupyter-widgets/base",
          "model_name": "LayoutModel",
          "model_module_version": "1.2.0",
          "state": {
            "_model_module": "@jupyter-widgets/base",
            "_model_module_version": "1.2.0",
            "_model_name": "LayoutModel",
            "_view_count": null,
            "_view_module": "@jupyter-widgets/base",
            "_view_module_version": "1.2.0",
            "_view_name": "LayoutView",
            "align_content": null,
            "align_items": null,
            "align_self": null,
            "border": null,
            "bottom": null,
            "display": null,
            "flex": null,
            "flex_flow": null,
            "grid_area": null,
            "grid_auto_columns": null,
            "grid_auto_flow": null,
            "grid_auto_rows": null,
            "grid_column": null,
            "grid_gap": null,
            "grid_row": null,
            "grid_template_areas": null,
            "grid_template_columns": null,
            "grid_template_rows": null,
            "height": null,
            "justify_content": null,
            "justify_items": null,
            "left": null,
            "margin": null,
            "max_height": null,
            "max_width": null,
            "min_height": null,
            "min_width": null,
            "object_fit": null,
            "object_position": null,
            "order": null,
            "overflow": null,
            "overflow_x": null,
            "overflow_y": null,
            "padding": null,
            "right": null,
            "top": null,
            "visibility": null,
            "width": null
          }
        },
        "cbe8be8b406b43d59721712946a5e350": {
          "model_module": "@jupyter-widgets/controls",
          "model_name": "ProgressStyleModel",
          "model_module_version": "1.5.0",
          "state": {
            "_model_module": "@jupyter-widgets/controls",
            "_model_module_version": "1.5.0",
            "_model_name": "ProgressStyleModel",
            "_view_count": null,
            "_view_module": "@jupyter-widgets/base",
            "_view_module_version": "1.2.0",
            "_view_name": "StyleView",
            "bar_color": null,
            "description_width": ""
          }
        },
        "81d3350880b94f698dac9df88efa2310": {
          "model_module": "@jupyter-widgets/base",
          "model_name": "LayoutModel",
          "model_module_version": "1.2.0",
          "state": {
            "_model_module": "@jupyter-widgets/base",
            "_model_module_version": "1.2.0",
            "_model_name": "LayoutModel",
            "_view_count": null,
            "_view_module": "@jupyter-widgets/base",
            "_view_module_version": "1.2.0",
            "_view_name": "LayoutView",
            "align_content": null,
            "align_items": null,
            "align_self": null,
            "border": null,
            "bottom": null,
            "display": null,
            "flex": null,
            "flex_flow": null,
            "grid_area": null,
            "grid_auto_columns": null,
            "grid_auto_flow": null,
            "grid_auto_rows": null,
            "grid_column": null,
            "grid_gap": null,
            "grid_row": null,
            "grid_template_areas": null,
            "grid_template_columns": null,
            "grid_template_rows": null,
            "height": null,
            "justify_content": null,
            "justify_items": null,
            "left": null,
            "margin": null,
            "max_height": null,
            "max_width": null,
            "min_height": null,
            "min_width": null,
            "object_fit": null,
            "object_position": null,
            "order": null,
            "overflow": null,
            "overflow_x": null,
            "overflow_y": null,
            "padding": null,
            "right": null,
            "top": null,
            "visibility": null,
            "width": null
          }
        },
        "40091961904845c8a9ee2c376e29e924": {
          "model_module": "@jupyter-widgets/controls",
          "model_name": "DescriptionStyleModel",
          "model_module_version": "1.5.0",
          "state": {
            "_model_module": "@jupyter-widgets/controls",
            "_model_module_version": "1.5.0",
            "_model_name": "DescriptionStyleModel",
            "_view_count": null,
            "_view_module": "@jupyter-widgets/base",
            "_view_module_version": "1.2.0",
            "_view_name": "StyleView",
            "description_width": ""
          }
        },
        "182159657ff54127a5a83edfcc0b17c5": {
          "model_module": "@jupyter-widgets/controls",
          "model_name": "HBoxModel",
          "model_module_version": "1.5.0",
          "state": {
            "_dom_classes": [],
            "_model_module": "@jupyter-widgets/controls",
            "_model_module_version": "1.5.0",
            "_model_name": "HBoxModel",
            "_view_count": null,
            "_view_module": "@jupyter-widgets/controls",
            "_view_module_version": "1.5.0",
            "_view_name": "HBoxView",
            "box_style": "",
            "children": [
              "IPY_MODEL_3cbcd9230eff4ee28124d86e39765eff",
              "IPY_MODEL_c9a3c779c9a2489b839c74713b0c7dab",
              "IPY_MODEL_30595caf3bf24350990d9e69ca90e680"
            ],
            "layout": "IPY_MODEL_52df24747e5c41b3a6210e6015502b8e"
          }
        },
        "3cbcd9230eff4ee28124d86e39765eff": {
          "model_module": "@jupyter-widgets/controls",
          "model_name": "HTMLModel",
          "model_module_version": "1.5.0",
          "state": {
            "_dom_classes": [],
            "_model_module": "@jupyter-widgets/controls",
            "_model_module_version": "1.5.0",
            "_model_name": "HTMLModel",
            "_view_count": null,
            "_view_module": "@jupyter-widgets/controls",
            "_view_module_version": "1.5.0",
            "_view_name": "HTMLView",
            "description": "",
            "description_tooltip": null,
            "layout": "IPY_MODEL_bc41b750478949909b200c3c60baba38",
            "placeholder": "​",
            "style": "IPY_MODEL_4743421845ae422e8e333b69ad23bd32",
            "value": "Downloading (…)cial_tokens_map.json: 100%"
          }
        },
        "c9a3c779c9a2489b839c74713b0c7dab": {
          "model_module": "@jupyter-widgets/controls",
          "model_name": "FloatProgressModel",
          "model_module_version": "1.5.0",
          "state": {
            "_dom_classes": [],
            "_model_module": "@jupyter-widgets/controls",
            "_model_module_version": "1.5.0",
            "_model_name": "FloatProgressModel",
            "_view_count": null,
            "_view_module": "@jupyter-widgets/controls",
            "_view_module_version": "1.5.0",
            "_view_name": "ProgressView",
            "bar_style": "success",
            "description": "",
            "description_tooltip": null,
            "layout": "IPY_MODEL_1f414a280f054dd2ae91cf7d0b88ad22",
            "max": 649,
            "min": 0,
            "orientation": "horizontal",
            "style": "IPY_MODEL_d4af2fa6851e40dca0781f84e4a630fa",
            "value": 649
          }
        },
        "30595caf3bf24350990d9e69ca90e680": {
          "model_module": "@jupyter-widgets/controls",
          "model_name": "HTMLModel",
          "model_module_version": "1.5.0",
          "state": {
            "_dom_classes": [],
            "_model_module": "@jupyter-widgets/controls",
            "_model_module_version": "1.5.0",
            "_model_name": "HTMLModel",
            "_view_count": null,
            "_view_module": "@jupyter-widgets/controls",
            "_view_module_version": "1.5.0",
            "_view_name": "HTMLView",
            "description": "",
            "description_tooltip": null,
            "layout": "IPY_MODEL_e12a99c9f5be4a9a8b1d2f698e2d27d6",
            "placeholder": "​",
            "style": "IPY_MODEL_53ad56b70fec4c268db7b6aa723a940e",
            "value": " 649/649 [00:00&lt;00:00, 56.7kB/s]"
          }
        },
        "52df24747e5c41b3a6210e6015502b8e": {
          "model_module": "@jupyter-widgets/base",
          "model_name": "LayoutModel",
          "model_module_version": "1.2.0",
          "state": {
            "_model_module": "@jupyter-widgets/base",
            "_model_module_version": "1.2.0",
            "_model_name": "LayoutModel",
            "_view_count": null,
            "_view_module": "@jupyter-widgets/base",
            "_view_module_version": "1.2.0",
            "_view_name": "LayoutView",
            "align_content": null,
            "align_items": null,
            "align_self": null,
            "border": null,
            "bottom": null,
            "display": null,
            "flex": null,
            "flex_flow": null,
            "grid_area": null,
            "grid_auto_columns": null,
            "grid_auto_flow": null,
            "grid_auto_rows": null,
            "grid_column": null,
            "grid_gap": null,
            "grid_row": null,
            "grid_template_areas": null,
            "grid_template_columns": null,
            "grid_template_rows": null,
            "height": null,
            "justify_content": null,
            "justify_items": null,
            "left": null,
            "margin": null,
            "max_height": null,
            "max_width": null,
            "min_height": null,
            "min_width": null,
            "object_fit": null,
            "object_position": null,
            "order": null,
            "overflow": null,
            "overflow_x": null,
            "overflow_y": null,
            "padding": null,
            "right": null,
            "top": null,
            "visibility": null,
            "width": null
          }
        },
        "bc41b750478949909b200c3c60baba38": {
          "model_module": "@jupyter-widgets/base",
          "model_name": "LayoutModel",
          "model_module_version": "1.2.0",
          "state": {
            "_model_module": "@jupyter-widgets/base",
            "_model_module_version": "1.2.0",
            "_model_name": "LayoutModel",
            "_view_count": null,
            "_view_module": "@jupyter-widgets/base",
            "_view_module_version": "1.2.0",
            "_view_name": "LayoutView",
            "align_content": null,
            "align_items": null,
            "align_self": null,
            "border": null,
            "bottom": null,
            "display": null,
            "flex": null,
            "flex_flow": null,
            "grid_area": null,
            "grid_auto_columns": null,
            "grid_auto_flow": null,
            "grid_auto_rows": null,
            "grid_column": null,
            "grid_gap": null,
            "grid_row": null,
            "grid_template_areas": null,
            "grid_template_columns": null,
            "grid_template_rows": null,
            "height": null,
            "justify_content": null,
            "justify_items": null,
            "left": null,
            "margin": null,
            "max_height": null,
            "max_width": null,
            "min_height": null,
            "min_width": null,
            "object_fit": null,
            "object_position": null,
            "order": null,
            "overflow": null,
            "overflow_x": null,
            "overflow_y": null,
            "padding": null,
            "right": null,
            "top": null,
            "visibility": null,
            "width": null
          }
        },
        "4743421845ae422e8e333b69ad23bd32": {
          "model_module": "@jupyter-widgets/controls",
          "model_name": "DescriptionStyleModel",
          "model_module_version": "1.5.0",
          "state": {
            "_model_module": "@jupyter-widgets/controls",
            "_model_module_version": "1.5.0",
            "_model_name": "DescriptionStyleModel",
            "_view_count": null,
            "_view_module": "@jupyter-widgets/base",
            "_view_module_version": "1.2.0",
            "_view_name": "StyleView",
            "description_width": ""
          }
        },
        "1f414a280f054dd2ae91cf7d0b88ad22": {
          "model_module": "@jupyter-widgets/base",
          "model_name": "LayoutModel",
          "model_module_version": "1.2.0",
          "state": {
            "_model_module": "@jupyter-widgets/base",
            "_model_module_version": "1.2.0",
            "_model_name": "LayoutModel",
            "_view_count": null,
            "_view_module": "@jupyter-widgets/base",
            "_view_module_version": "1.2.0",
            "_view_name": "LayoutView",
            "align_content": null,
            "align_items": null,
            "align_self": null,
            "border": null,
            "bottom": null,
            "display": null,
            "flex": null,
            "flex_flow": null,
            "grid_area": null,
            "grid_auto_columns": null,
            "grid_auto_flow": null,
            "grid_auto_rows": null,
            "grid_column": null,
            "grid_gap": null,
            "grid_row": null,
            "grid_template_areas": null,
            "grid_template_columns": null,
            "grid_template_rows": null,
            "height": null,
            "justify_content": null,
            "justify_items": null,
            "left": null,
            "margin": null,
            "max_height": null,
            "max_width": null,
            "min_height": null,
            "min_width": null,
            "object_fit": null,
            "object_position": null,
            "order": null,
            "overflow": null,
            "overflow_x": null,
            "overflow_y": null,
            "padding": null,
            "right": null,
            "top": null,
            "visibility": null,
            "width": null
          }
        },
        "d4af2fa6851e40dca0781f84e4a630fa": {
          "model_module": "@jupyter-widgets/controls",
          "model_name": "ProgressStyleModel",
          "model_module_version": "1.5.0",
          "state": {
            "_model_module": "@jupyter-widgets/controls",
            "_model_module_version": "1.5.0",
            "_model_name": "ProgressStyleModel",
            "_view_count": null,
            "_view_module": "@jupyter-widgets/base",
            "_view_module_version": "1.2.0",
            "_view_name": "StyleView",
            "bar_color": null,
            "description_width": ""
          }
        },
        "e12a99c9f5be4a9a8b1d2f698e2d27d6": {
          "model_module": "@jupyter-widgets/base",
          "model_name": "LayoutModel",
          "model_module_version": "1.2.0",
          "state": {
            "_model_module": "@jupyter-widgets/base",
            "_model_module_version": "1.2.0",
            "_model_name": "LayoutModel",
            "_view_count": null,
            "_view_module": "@jupyter-widgets/base",
            "_view_module_version": "1.2.0",
            "_view_name": "LayoutView",
            "align_content": null,
            "align_items": null,
            "align_self": null,
            "border": null,
            "bottom": null,
            "display": null,
            "flex": null,
            "flex_flow": null,
            "grid_area": null,
            "grid_auto_columns": null,
            "grid_auto_flow": null,
            "grid_auto_rows": null,
            "grid_column": null,
            "grid_gap": null,
            "grid_row": null,
            "grid_template_areas": null,
            "grid_template_columns": null,
            "grid_template_rows": null,
            "height": null,
            "justify_content": null,
            "justify_items": null,
            "left": null,
            "margin": null,
            "max_height": null,
            "max_width": null,
            "min_height": null,
            "min_width": null,
            "object_fit": null,
            "object_position": null,
            "order": null,
            "overflow": null,
            "overflow_x": null,
            "overflow_y": null,
            "padding": null,
            "right": null,
            "top": null,
            "visibility": null,
            "width": null
          }
        },
        "53ad56b70fec4c268db7b6aa723a940e": {
          "model_module": "@jupyter-widgets/controls",
          "model_name": "DescriptionStyleModel",
          "model_module_version": "1.5.0",
          "state": {
            "_model_module": "@jupyter-widgets/controls",
            "_model_module_version": "1.5.0",
            "_model_name": "DescriptionStyleModel",
            "_view_count": null,
            "_view_module": "@jupyter-widgets/base",
            "_view_module_version": "1.2.0",
            "_view_name": "StyleView",
            "description_width": ""
          }
        },
        "84ce3e70e14140f4b673162878a293a6": {
          "model_module": "@jupyter-widgets/controls",
          "model_name": "HBoxModel",
          "model_module_version": "1.5.0",
          "state": {
            "_dom_classes": [],
            "_model_module": "@jupyter-widgets/controls",
            "_model_module_version": "1.5.0",
            "_model_name": "HBoxModel",
            "_view_count": null,
            "_view_module": "@jupyter-widgets/controls",
            "_view_module_version": "1.5.0",
            "_view_name": "HBoxView",
            "box_style": "",
            "children": [
              "IPY_MODEL_870f5f5a1d904b389a12248292801cd0",
              "IPY_MODEL_0291b62fbf4c43baa46685a113922c2f",
              "IPY_MODEL_1b38bf7b3dca43d6a6387c838813e68c"
            ],
            "layout": "IPY_MODEL_cad022d4331e44f4ba71458c8cf0111c"
          }
        },
        "870f5f5a1d904b389a12248292801cd0": {
          "model_module": "@jupyter-widgets/controls",
          "model_name": "HTMLModel",
          "model_module_version": "1.5.0",
          "state": {
            "_dom_classes": [],
            "_model_module": "@jupyter-widgets/controls",
            "_model_module_version": "1.5.0",
            "_model_name": "HTMLModel",
            "_view_count": null,
            "_view_module": "@jupyter-widgets/controls",
            "_view_module_version": "1.5.0",
            "_view_name": "HTMLView",
            "description": "",
            "description_tooltip": null,
            "layout": "IPY_MODEL_d1afc4d93ace43f88de9d08c757fabcf",
            "placeholder": "​",
            "style": "IPY_MODEL_75f3eb01bc96474fbad078c3b1ca64a6",
            "value": "Downloading (…)okenizer_config.json: 100%"
          }
        },
        "0291b62fbf4c43baa46685a113922c2f": {
          "model_module": "@jupyter-widgets/controls",
          "model_name": "FloatProgressModel",
          "model_module_version": "1.5.0",
          "state": {
            "_dom_classes": [],
            "_model_module": "@jupyter-widgets/controls",
            "_model_module_version": "1.5.0",
            "_model_name": "FloatProgressModel",
            "_view_count": null,
            "_view_module": "@jupyter-widgets/controls",
            "_view_module_version": "1.5.0",
            "_view_name": "ProgressView",
            "bar_style": "success",
            "description": "",
            "description_tooltip": null,
            "layout": "IPY_MODEL_6257781047b84286946c7e2016154f1c",
            "max": 529,
            "min": 0,
            "orientation": "horizontal",
            "style": "IPY_MODEL_4f65c66e223049ef8382cb0bde24c5de",
            "value": 529
          }
        },
        "1b38bf7b3dca43d6a6387c838813e68c": {
          "model_module": "@jupyter-widgets/controls",
          "model_name": "HTMLModel",
          "model_module_version": "1.5.0",
          "state": {
            "_dom_classes": [],
            "_model_module": "@jupyter-widgets/controls",
            "_model_module_version": "1.5.0",
            "_model_name": "HTMLModel",
            "_view_count": null,
            "_view_module": "@jupyter-widgets/controls",
            "_view_module_version": "1.5.0",
            "_view_name": "HTMLView",
            "description": "",
            "description_tooltip": null,
            "layout": "IPY_MODEL_8103aaa3e8a44a3d99805ae76e59e9ad",
            "placeholder": "​",
            "style": "IPY_MODEL_68eeb209213a4c56bde1b9b3f1322c9d",
            "value": " 529/529 [00:00&lt;00:00, 46.4kB/s]"
          }
        },
        "cad022d4331e44f4ba71458c8cf0111c": {
          "model_module": "@jupyter-widgets/base",
          "model_name": "LayoutModel",
          "model_module_version": "1.2.0",
          "state": {
            "_model_module": "@jupyter-widgets/base",
            "_model_module_version": "1.2.0",
            "_model_name": "LayoutModel",
            "_view_count": null,
            "_view_module": "@jupyter-widgets/base",
            "_view_module_version": "1.2.0",
            "_view_name": "LayoutView",
            "align_content": null,
            "align_items": null,
            "align_self": null,
            "border": null,
            "bottom": null,
            "display": null,
            "flex": null,
            "flex_flow": null,
            "grid_area": null,
            "grid_auto_columns": null,
            "grid_auto_flow": null,
            "grid_auto_rows": null,
            "grid_column": null,
            "grid_gap": null,
            "grid_row": null,
            "grid_template_areas": null,
            "grid_template_columns": null,
            "grid_template_rows": null,
            "height": null,
            "justify_content": null,
            "justify_items": null,
            "left": null,
            "margin": null,
            "max_height": null,
            "max_width": null,
            "min_height": null,
            "min_width": null,
            "object_fit": null,
            "object_position": null,
            "order": null,
            "overflow": null,
            "overflow_x": null,
            "overflow_y": null,
            "padding": null,
            "right": null,
            "top": null,
            "visibility": null,
            "width": null
          }
        },
        "d1afc4d93ace43f88de9d08c757fabcf": {
          "model_module": "@jupyter-widgets/base",
          "model_name": "LayoutModel",
          "model_module_version": "1.2.0",
          "state": {
            "_model_module": "@jupyter-widgets/base",
            "_model_module_version": "1.2.0",
            "_model_name": "LayoutModel",
            "_view_count": null,
            "_view_module": "@jupyter-widgets/base",
            "_view_module_version": "1.2.0",
            "_view_name": "LayoutView",
            "align_content": null,
            "align_items": null,
            "align_self": null,
            "border": null,
            "bottom": null,
            "display": null,
            "flex": null,
            "flex_flow": null,
            "grid_area": null,
            "grid_auto_columns": null,
            "grid_auto_flow": null,
            "grid_auto_rows": null,
            "grid_column": null,
            "grid_gap": null,
            "grid_row": null,
            "grid_template_areas": null,
            "grid_template_columns": null,
            "grid_template_rows": null,
            "height": null,
            "justify_content": null,
            "justify_items": null,
            "left": null,
            "margin": null,
            "max_height": null,
            "max_width": null,
            "min_height": null,
            "min_width": null,
            "object_fit": null,
            "object_position": null,
            "order": null,
            "overflow": null,
            "overflow_x": null,
            "overflow_y": null,
            "padding": null,
            "right": null,
            "top": null,
            "visibility": null,
            "width": null
          }
        },
        "75f3eb01bc96474fbad078c3b1ca64a6": {
          "model_module": "@jupyter-widgets/controls",
          "model_name": "DescriptionStyleModel",
          "model_module_version": "1.5.0",
          "state": {
            "_model_module": "@jupyter-widgets/controls",
            "_model_module_version": "1.5.0",
            "_model_name": "DescriptionStyleModel",
            "_view_count": null,
            "_view_module": "@jupyter-widgets/base",
            "_view_module_version": "1.2.0",
            "_view_name": "StyleView",
            "description_width": ""
          }
        },
        "6257781047b84286946c7e2016154f1c": {
          "model_module": "@jupyter-widgets/base",
          "model_name": "LayoutModel",
          "model_module_version": "1.2.0",
          "state": {
            "_model_module": "@jupyter-widgets/base",
            "_model_module_version": "1.2.0",
            "_model_name": "LayoutModel",
            "_view_count": null,
            "_view_module": "@jupyter-widgets/base",
            "_view_module_version": "1.2.0",
            "_view_name": "LayoutView",
            "align_content": null,
            "align_items": null,
            "align_self": null,
            "border": null,
            "bottom": null,
            "display": null,
            "flex": null,
            "flex_flow": null,
            "grid_area": null,
            "grid_auto_columns": null,
            "grid_auto_flow": null,
            "grid_auto_rows": null,
            "grid_column": null,
            "grid_gap": null,
            "grid_row": null,
            "grid_template_areas": null,
            "grid_template_columns": null,
            "grid_template_rows": null,
            "height": null,
            "justify_content": null,
            "justify_items": null,
            "left": null,
            "margin": null,
            "max_height": null,
            "max_width": null,
            "min_height": null,
            "min_width": null,
            "object_fit": null,
            "object_position": null,
            "order": null,
            "overflow": null,
            "overflow_x": null,
            "overflow_y": null,
            "padding": null,
            "right": null,
            "top": null,
            "visibility": null,
            "width": null
          }
        },
        "4f65c66e223049ef8382cb0bde24c5de": {
          "model_module": "@jupyter-widgets/controls",
          "model_name": "ProgressStyleModel",
          "model_module_version": "1.5.0",
          "state": {
            "_model_module": "@jupyter-widgets/controls",
            "_model_module_version": "1.5.0",
            "_model_name": "ProgressStyleModel",
            "_view_count": null,
            "_view_module": "@jupyter-widgets/base",
            "_view_module_version": "1.2.0",
            "_view_name": "StyleView",
            "bar_color": null,
            "description_width": ""
          }
        },
        "8103aaa3e8a44a3d99805ae76e59e9ad": {
          "model_module": "@jupyter-widgets/base",
          "model_name": "LayoutModel",
          "model_module_version": "1.2.0",
          "state": {
            "_model_module": "@jupyter-widgets/base",
            "_model_module_version": "1.2.0",
            "_model_name": "LayoutModel",
            "_view_count": null,
            "_view_module": "@jupyter-widgets/base",
            "_view_module_version": "1.2.0",
            "_view_name": "LayoutView",
            "align_content": null,
            "align_items": null,
            "align_self": null,
            "border": null,
            "bottom": null,
            "display": null,
            "flex": null,
            "flex_flow": null,
            "grid_area": null,
            "grid_auto_columns": null,
            "grid_auto_flow": null,
            "grid_auto_rows": null,
            "grid_column": null,
            "grid_gap": null,
            "grid_row": null,
            "grid_template_areas": null,
            "grid_template_columns": null,
            "grid_template_rows": null,
            "height": null,
            "justify_content": null,
            "justify_items": null,
            "left": null,
            "margin": null,
            "max_height": null,
            "max_width": null,
            "min_height": null,
            "min_width": null,
            "object_fit": null,
            "object_position": null,
            "order": null,
            "overflow": null,
            "overflow_x": null,
            "overflow_y": null,
            "padding": null,
            "right": null,
            "top": null,
            "visibility": null,
            "width": null
          }
        },
        "68eeb209213a4c56bde1b9b3f1322c9d": {
          "model_module": "@jupyter-widgets/controls",
          "model_name": "DescriptionStyleModel",
          "model_module_version": "1.5.0",
          "state": {
            "_model_module": "@jupyter-widgets/controls",
            "_model_module_version": "1.5.0",
            "_model_name": "DescriptionStyleModel",
            "_view_count": null,
            "_view_module": "@jupyter-widgets/base",
            "_view_module_version": "1.2.0",
            "_view_name": "StyleView",
            "description_width": ""
          }
        },
        "040e0860f8c4452799da62a212a95887": {
          "model_module": "@jupyter-widgets/controls",
          "model_name": "HBoxModel",
          "model_module_version": "1.5.0",
          "state": {
            "_dom_classes": [],
            "_model_module": "@jupyter-widgets/controls",
            "_model_module_version": "1.5.0",
            "_model_name": "HBoxModel",
            "_view_count": null,
            "_view_module": "@jupyter-widgets/controls",
            "_view_module_version": "1.5.0",
            "_view_name": "HBoxView",
            "box_style": "",
            "children": [
              "IPY_MODEL_6d1f089d9c3744b388de443ce3f12c42",
              "IPY_MODEL_1414ef0379ee4809b74301775ce7b7d5",
              "IPY_MODEL_febfbcd680064ce5bb9d00b2646d12d3"
            ],
            "layout": "IPY_MODEL_ec65e2b5efef4497aa3ca5cf090e462a"
          }
        },
        "6d1f089d9c3744b388de443ce3f12c42": {
          "model_module": "@jupyter-widgets/controls",
          "model_name": "HTMLModel",
          "model_module_version": "1.5.0",
          "state": {
            "_dom_classes": [],
            "_model_module": "@jupyter-widgets/controls",
            "_model_module_version": "1.5.0",
            "_model_name": "HTMLModel",
            "_view_count": null,
            "_view_module": "@jupyter-widgets/controls",
            "_view_module_version": "1.5.0",
            "_view_name": "HTMLView",
            "description": "",
            "description_tooltip": null,
            "layout": "IPY_MODEL_b927ea0ea5e841fe86247be9b697c7b3",
            "placeholder": "​",
            "style": "IPY_MODEL_72a43ffa8b9b4ca2a5de4851bfee52cc",
            "value": "Downloading (…)lve/main/config.json: 100%"
          }
        },
        "1414ef0379ee4809b74301775ce7b7d5": {
          "model_module": "@jupyter-widgets/controls",
          "model_name": "FloatProgressModel",
          "model_module_version": "1.5.0",
          "state": {
            "_dom_classes": [],
            "_model_module": "@jupyter-widgets/controls",
            "_model_module_version": "1.5.0",
            "_model_name": "FloatProgressModel",
            "_view_count": null,
            "_view_module": "@jupyter-widgets/controls",
            "_view_module_version": "1.5.0",
            "_view_name": "ProgressView",
            "bar_style": "success",
            "description": "",
            "description_tooltip": null,
            "layout": "IPY_MODEL_61ae826445284c668a24771f72a960f5",
            "max": 1429,
            "min": 0,
            "orientation": "horizontal",
            "style": "IPY_MODEL_db7a520a08b248af9df72e63d316cf25",
            "value": 1429
          }
        },
        "febfbcd680064ce5bb9d00b2646d12d3": {
          "model_module": "@jupyter-widgets/controls",
          "model_name": "HTMLModel",
          "model_module_version": "1.5.0",
          "state": {
            "_dom_classes": [],
            "_model_module": "@jupyter-widgets/controls",
            "_model_module_version": "1.5.0",
            "_model_name": "HTMLModel",
            "_view_count": null,
            "_view_module": "@jupyter-widgets/controls",
            "_view_module_version": "1.5.0",
            "_view_name": "HTMLView",
            "description": "",
            "description_tooltip": null,
            "layout": "IPY_MODEL_854c18d3651b4fb28411c8b9911783d8",
            "placeholder": "​",
            "style": "IPY_MODEL_0c717925c67741a791ad039020144a98",
            "value": " 1.43k/1.43k [00:00&lt;00:00, 112kB/s]"
          }
        },
        "ec65e2b5efef4497aa3ca5cf090e462a": {
          "model_module": "@jupyter-widgets/base",
          "model_name": "LayoutModel",
          "model_module_version": "1.2.0",
          "state": {
            "_model_module": "@jupyter-widgets/base",
            "_model_module_version": "1.2.0",
            "_model_name": "LayoutModel",
            "_view_count": null,
            "_view_module": "@jupyter-widgets/base",
            "_view_module_version": "1.2.0",
            "_view_name": "LayoutView",
            "align_content": null,
            "align_items": null,
            "align_self": null,
            "border": null,
            "bottom": null,
            "display": null,
            "flex": null,
            "flex_flow": null,
            "grid_area": null,
            "grid_auto_columns": null,
            "grid_auto_flow": null,
            "grid_auto_rows": null,
            "grid_column": null,
            "grid_gap": null,
            "grid_row": null,
            "grid_template_areas": null,
            "grid_template_columns": null,
            "grid_template_rows": null,
            "height": null,
            "justify_content": null,
            "justify_items": null,
            "left": null,
            "margin": null,
            "max_height": null,
            "max_width": null,
            "min_height": null,
            "min_width": null,
            "object_fit": null,
            "object_position": null,
            "order": null,
            "overflow": null,
            "overflow_x": null,
            "overflow_y": null,
            "padding": null,
            "right": null,
            "top": null,
            "visibility": null,
            "width": null
          }
        },
        "b927ea0ea5e841fe86247be9b697c7b3": {
          "model_module": "@jupyter-widgets/base",
          "model_name": "LayoutModel",
          "model_module_version": "1.2.0",
          "state": {
            "_model_module": "@jupyter-widgets/base",
            "_model_module_version": "1.2.0",
            "_model_name": "LayoutModel",
            "_view_count": null,
            "_view_module": "@jupyter-widgets/base",
            "_view_module_version": "1.2.0",
            "_view_name": "LayoutView",
            "align_content": null,
            "align_items": null,
            "align_self": null,
            "border": null,
            "bottom": null,
            "display": null,
            "flex": null,
            "flex_flow": null,
            "grid_area": null,
            "grid_auto_columns": null,
            "grid_auto_flow": null,
            "grid_auto_rows": null,
            "grid_column": null,
            "grid_gap": null,
            "grid_row": null,
            "grid_template_areas": null,
            "grid_template_columns": null,
            "grid_template_rows": null,
            "height": null,
            "justify_content": null,
            "justify_items": null,
            "left": null,
            "margin": null,
            "max_height": null,
            "max_width": null,
            "min_height": null,
            "min_width": null,
            "object_fit": null,
            "object_position": null,
            "order": null,
            "overflow": null,
            "overflow_x": null,
            "overflow_y": null,
            "padding": null,
            "right": null,
            "top": null,
            "visibility": null,
            "width": null
          }
        },
        "72a43ffa8b9b4ca2a5de4851bfee52cc": {
          "model_module": "@jupyter-widgets/controls",
          "model_name": "DescriptionStyleModel",
          "model_module_version": "1.5.0",
          "state": {
            "_model_module": "@jupyter-widgets/controls",
            "_model_module_version": "1.5.0",
            "_model_name": "DescriptionStyleModel",
            "_view_count": null,
            "_view_module": "@jupyter-widgets/base",
            "_view_module_version": "1.2.0",
            "_view_name": "StyleView",
            "description_width": ""
          }
        },
        "61ae826445284c668a24771f72a960f5": {
          "model_module": "@jupyter-widgets/base",
          "model_name": "LayoutModel",
          "model_module_version": "1.2.0",
          "state": {
            "_model_module": "@jupyter-widgets/base",
            "_model_module_version": "1.2.0",
            "_model_name": "LayoutModel",
            "_view_count": null,
            "_view_module": "@jupyter-widgets/base",
            "_view_module_version": "1.2.0",
            "_view_name": "LayoutView",
            "align_content": null,
            "align_items": null,
            "align_self": null,
            "border": null,
            "bottom": null,
            "display": null,
            "flex": null,
            "flex_flow": null,
            "grid_area": null,
            "grid_auto_columns": null,
            "grid_auto_flow": null,
            "grid_auto_rows": null,
            "grid_column": null,
            "grid_gap": null,
            "grid_row": null,
            "grid_template_areas": null,
            "grid_template_columns": null,
            "grid_template_rows": null,
            "height": null,
            "justify_content": null,
            "justify_items": null,
            "left": null,
            "margin": null,
            "max_height": null,
            "max_width": null,
            "min_height": null,
            "min_width": null,
            "object_fit": null,
            "object_position": null,
            "order": null,
            "overflow": null,
            "overflow_x": null,
            "overflow_y": null,
            "padding": null,
            "right": null,
            "top": null,
            "visibility": null,
            "width": null
          }
        },
        "db7a520a08b248af9df72e63d316cf25": {
          "model_module": "@jupyter-widgets/controls",
          "model_name": "ProgressStyleModel",
          "model_module_version": "1.5.0",
          "state": {
            "_model_module": "@jupyter-widgets/controls",
            "_model_module_version": "1.5.0",
            "_model_name": "ProgressStyleModel",
            "_view_count": null,
            "_view_module": "@jupyter-widgets/base",
            "_view_module_version": "1.2.0",
            "_view_name": "StyleView",
            "bar_color": null,
            "description_width": ""
          }
        },
        "854c18d3651b4fb28411c8b9911783d8": {
          "model_module": "@jupyter-widgets/base",
          "model_name": "LayoutModel",
          "model_module_version": "1.2.0",
          "state": {
            "_model_module": "@jupyter-widgets/base",
            "_model_module_version": "1.2.0",
            "_model_name": "LayoutModel",
            "_view_count": null,
            "_view_module": "@jupyter-widgets/base",
            "_view_module_version": "1.2.0",
            "_view_name": "LayoutView",
            "align_content": null,
            "align_items": null,
            "align_self": null,
            "border": null,
            "bottom": null,
            "display": null,
            "flex": null,
            "flex_flow": null,
            "grid_area": null,
            "grid_auto_columns": null,
            "grid_auto_flow": null,
            "grid_auto_rows": null,
            "grid_column": null,
            "grid_gap": null,
            "grid_row": null,
            "grid_template_areas": null,
            "grid_template_columns": null,
            "grid_template_rows": null,
            "height": null,
            "justify_content": null,
            "justify_items": null,
            "left": null,
            "margin": null,
            "max_height": null,
            "max_width": null,
            "min_height": null,
            "min_width": null,
            "object_fit": null,
            "object_position": null,
            "order": null,
            "overflow": null,
            "overflow_x": null,
            "overflow_y": null,
            "padding": null,
            "right": null,
            "top": null,
            "visibility": null,
            "width": null
          }
        },
        "0c717925c67741a791ad039020144a98": {
          "model_module": "@jupyter-widgets/controls",
          "model_name": "DescriptionStyleModel",
          "model_module_version": "1.5.0",
          "state": {
            "_model_module": "@jupyter-widgets/controls",
            "_model_module_version": "1.5.0",
            "_model_name": "DescriptionStyleModel",
            "_view_count": null,
            "_view_module": "@jupyter-widgets/base",
            "_view_module_version": "1.2.0",
            "_view_name": "StyleView",
            "description_width": ""
          }
        },
        "01c2d395cbdf4c6bbf90a1f4061933bf": {
          "model_module": "@jupyter-widgets/controls",
          "model_name": "HBoxModel",
          "model_module_version": "1.5.0",
          "state": {
            "_dom_classes": [],
            "_model_module": "@jupyter-widgets/controls",
            "_model_module_version": "1.5.0",
            "_model_name": "HBoxModel",
            "_view_count": null,
            "_view_module": "@jupyter-widgets/controls",
            "_view_module_version": "1.5.0",
            "_view_name": "HBoxView",
            "box_style": "",
            "children": [
              "IPY_MODEL_6812bc94841b4a56847dfb11719e5c72",
              "IPY_MODEL_496391c8c9e94f828f0f3362b2f61abd",
              "IPY_MODEL_65115527b65b42139fbcd3ce92fe2f92"
            ],
            "layout": "IPY_MODEL_a2d9236d4a6c497f84225acaed7905b1"
          }
        },
        "6812bc94841b4a56847dfb11719e5c72": {
          "model_module": "@jupyter-widgets/controls",
          "model_name": "HTMLModel",
          "model_module_version": "1.5.0",
          "state": {
            "_dom_classes": [],
            "_model_module": "@jupyter-widgets/controls",
            "_model_module_version": "1.5.0",
            "_model_name": "HTMLModel",
            "_view_count": null,
            "_view_module": "@jupyter-widgets/controls",
            "_view_module_version": "1.5.0",
            "_view_name": "HTMLView",
            "description": "",
            "description_tooltip": null,
            "layout": "IPY_MODEL_9f760bce9efd4ad996877d33e77e4704",
            "placeholder": "​",
            "style": "IPY_MODEL_0b8e219507ec4666be6d2349611cd4e2",
            "value": "100%"
          }
        },
        "496391c8c9e94f828f0f3362b2f61abd": {
          "model_module": "@jupyter-widgets/controls",
          "model_name": "FloatProgressModel",
          "model_module_version": "1.5.0",
          "state": {
            "_dom_classes": [],
            "_model_module": "@jupyter-widgets/controls",
            "_model_module_version": "1.5.0",
            "_model_name": "FloatProgressModel",
            "_view_count": null,
            "_view_module": "@jupyter-widgets/controls",
            "_view_module_version": "1.5.0",
            "_view_name": "ProgressView",
            "bar_style": "success",
            "description": "",
            "description_tooltip": null,
            "layout": "IPY_MODEL_e379d030ffa04f4ea2d188d4261b797f",
            "max": 203060,
            "min": 0,
            "orientation": "horizontal",
            "style": "IPY_MODEL_597b90d4abc7431ab8e4c02723350617",
            "value": 203060
          }
        },
        "65115527b65b42139fbcd3ce92fe2f92": {
          "model_module": "@jupyter-widgets/controls",
          "model_name": "HTMLModel",
          "model_module_version": "1.5.0",
          "state": {
            "_dom_classes": [],
            "_model_module": "@jupyter-widgets/controls",
            "_model_module_version": "1.5.0",
            "_model_name": "HTMLModel",
            "_view_count": null,
            "_view_module": "@jupyter-widgets/controls",
            "_view_module_version": "1.5.0",
            "_view_name": "HTMLView",
            "description": "",
            "description_tooltip": null,
            "layout": "IPY_MODEL_0a30a0d4023e470fa01b3ec18c66e35a",
            "placeholder": "​",
            "style": "IPY_MODEL_c5b3158ae2a8474d9bcb0ab4c52e3a02",
            "value": " 203060/203060 [00:57&lt;00:00, 2015.34it/s]"
          }
        },
        "a2d9236d4a6c497f84225acaed7905b1": {
          "model_module": "@jupyter-widgets/base",
          "model_name": "LayoutModel",
          "model_module_version": "1.2.0",
          "state": {
            "_model_module": "@jupyter-widgets/base",
            "_model_module_version": "1.2.0",
            "_model_name": "LayoutModel",
            "_view_count": null,
            "_view_module": "@jupyter-widgets/base",
            "_view_module_version": "1.2.0",
            "_view_name": "LayoutView",
            "align_content": null,
            "align_items": null,
            "align_self": null,
            "border": null,
            "bottom": null,
            "display": null,
            "flex": null,
            "flex_flow": null,
            "grid_area": null,
            "grid_auto_columns": null,
            "grid_auto_flow": null,
            "grid_auto_rows": null,
            "grid_column": null,
            "grid_gap": null,
            "grid_row": null,
            "grid_template_areas": null,
            "grid_template_columns": null,
            "grid_template_rows": null,
            "height": null,
            "justify_content": null,
            "justify_items": null,
            "left": null,
            "margin": null,
            "max_height": null,
            "max_width": null,
            "min_height": null,
            "min_width": null,
            "object_fit": null,
            "object_position": null,
            "order": null,
            "overflow": null,
            "overflow_x": null,
            "overflow_y": null,
            "padding": null,
            "right": null,
            "top": null,
            "visibility": null,
            "width": null
          }
        },
        "9f760bce9efd4ad996877d33e77e4704": {
          "model_module": "@jupyter-widgets/base",
          "model_name": "LayoutModel",
          "model_module_version": "1.2.0",
          "state": {
            "_model_module": "@jupyter-widgets/base",
            "_model_module_version": "1.2.0",
            "_model_name": "LayoutModel",
            "_view_count": null,
            "_view_module": "@jupyter-widgets/base",
            "_view_module_version": "1.2.0",
            "_view_name": "LayoutView",
            "align_content": null,
            "align_items": null,
            "align_self": null,
            "border": null,
            "bottom": null,
            "display": null,
            "flex": null,
            "flex_flow": null,
            "grid_area": null,
            "grid_auto_columns": null,
            "grid_auto_flow": null,
            "grid_auto_rows": null,
            "grid_column": null,
            "grid_gap": null,
            "grid_row": null,
            "grid_template_areas": null,
            "grid_template_columns": null,
            "grid_template_rows": null,
            "height": null,
            "justify_content": null,
            "justify_items": null,
            "left": null,
            "margin": null,
            "max_height": null,
            "max_width": null,
            "min_height": null,
            "min_width": null,
            "object_fit": null,
            "object_position": null,
            "order": null,
            "overflow": null,
            "overflow_x": null,
            "overflow_y": null,
            "padding": null,
            "right": null,
            "top": null,
            "visibility": null,
            "width": null
          }
        },
        "0b8e219507ec4666be6d2349611cd4e2": {
          "model_module": "@jupyter-widgets/controls",
          "model_name": "DescriptionStyleModel",
          "model_module_version": "1.5.0",
          "state": {
            "_model_module": "@jupyter-widgets/controls",
            "_model_module_version": "1.5.0",
            "_model_name": "DescriptionStyleModel",
            "_view_count": null,
            "_view_module": "@jupyter-widgets/base",
            "_view_module_version": "1.2.0",
            "_view_name": "StyleView",
            "description_width": ""
          }
        },
        "e379d030ffa04f4ea2d188d4261b797f": {
          "model_module": "@jupyter-widgets/base",
          "model_name": "LayoutModel",
          "model_module_version": "1.2.0",
          "state": {
            "_model_module": "@jupyter-widgets/base",
            "_model_module_version": "1.2.0",
            "_model_name": "LayoutModel",
            "_view_count": null,
            "_view_module": "@jupyter-widgets/base",
            "_view_module_version": "1.2.0",
            "_view_name": "LayoutView",
            "align_content": null,
            "align_items": null,
            "align_self": null,
            "border": null,
            "bottom": null,
            "display": null,
            "flex": null,
            "flex_flow": null,
            "grid_area": null,
            "grid_auto_columns": null,
            "grid_auto_flow": null,
            "grid_auto_rows": null,
            "grid_column": null,
            "grid_gap": null,
            "grid_row": null,
            "grid_template_areas": null,
            "grid_template_columns": null,
            "grid_template_rows": null,
            "height": null,
            "justify_content": null,
            "justify_items": null,
            "left": null,
            "margin": null,
            "max_height": null,
            "max_width": null,
            "min_height": null,
            "min_width": null,
            "object_fit": null,
            "object_position": null,
            "order": null,
            "overflow": null,
            "overflow_x": null,
            "overflow_y": null,
            "padding": null,
            "right": null,
            "top": null,
            "visibility": null,
            "width": null
          }
        },
        "597b90d4abc7431ab8e4c02723350617": {
          "model_module": "@jupyter-widgets/controls",
          "model_name": "ProgressStyleModel",
          "model_module_version": "1.5.0",
          "state": {
            "_model_module": "@jupyter-widgets/controls",
            "_model_module_version": "1.5.0",
            "_model_name": "ProgressStyleModel",
            "_view_count": null,
            "_view_module": "@jupyter-widgets/base",
            "_view_module_version": "1.2.0",
            "_view_name": "StyleView",
            "bar_color": null,
            "description_width": ""
          }
        },
        "0a30a0d4023e470fa01b3ec18c66e35a": {
          "model_module": "@jupyter-widgets/base",
          "model_name": "LayoutModel",
          "model_module_version": "1.2.0",
          "state": {
            "_model_module": "@jupyter-widgets/base",
            "_model_module_version": "1.2.0",
            "_model_name": "LayoutModel",
            "_view_count": null,
            "_view_module": "@jupyter-widgets/base",
            "_view_module_version": "1.2.0",
            "_view_name": "LayoutView",
            "align_content": null,
            "align_items": null,
            "align_self": null,
            "border": null,
            "bottom": null,
            "display": null,
            "flex": null,
            "flex_flow": null,
            "grid_area": null,
            "grid_auto_columns": null,
            "grid_auto_flow": null,
            "grid_auto_rows": null,
            "grid_column": null,
            "grid_gap": null,
            "grid_row": null,
            "grid_template_areas": null,
            "grid_template_columns": null,
            "grid_template_rows": null,
            "height": null,
            "justify_content": null,
            "justify_items": null,
            "left": null,
            "margin": null,
            "max_height": null,
            "max_width": null,
            "min_height": null,
            "min_width": null,
            "object_fit": null,
            "object_position": null,
            "order": null,
            "overflow": null,
            "overflow_x": null,
            "overflow_y": null,
            "padding": null,
            "right": null,
            "top": null,
            "visibility": null,
            "width": null
          }
        },
        "c5b3158ae2a8474d9bcb0ab4c52e3a02": {
          "model_module": "@jupyter-widgets/controls",
          "model_name": "DescriptionStyleModel",
          "model_module_version": "1.5.0",
          "state": {
            "_model_module": "@jupyter-widgets/controls",
            "_model_module_version": "1.5.0",
            "_model_name": "DescriptionStyleModel",
            "_view_count": null,
            "_view_module": "@jupyter-widgets/base",
            "_view_module_version": "1.2.0",
            "_view_name": "StyleView",
            "description_width": ""
          }
        },
        "a55e22bfcaf643649a74d250100c079a": {
          "model_module": "@jupyter-widgets/controls",
          "model_name": "HBoxModel",
          "model_module_version": "1.5.0",
          "state": {
            "_dom_classes": [],
            "_model_module": "@jupyter-widgets/controls",
            "_model_module_version": "1.5.0",
            "_model_name": "HBoxModel",
            "_view_count": null,
            "_view_module": "@jupyter-widgets/controls",
            "_view_module_version": "1.5.0",
            "_view_name": "HBoxView",
            "box_style": "",
            "children": [
              "IPY_MODEL_1358f51705854eca8fada07559b4ff29",
              "IPY_MODEL_7818ed678d2b4010822baa4e4677b964",
              "IPY_MODEL_2d5a863098ce4def9e30204d058539ca"
            ],
            "layout": "IPY_MODEL_2154f3930fbd44e190c4d417e7ac5afc"
          }
        },
        "1358f51705854eca8fada07559b4ff29": {
          "model_module": "@jupyter-widgets/controls",
          "model_name": "HTMLModel",
          "model_module_version": "1.5.0",
          "state": {
            "_dom_classes": [],
            "_model_module": "@jupyter-widgets/controls",
            "_model_module_version": "1.5.0",
            "_model_name": "HTMLModel",
            "_view_count": null,
            "_view_module": "@jupyter-widgets/controls",
            "_view_module_version": "1.5.0",
            "_view_name": "HTMLView",
            "description": "",
            "description_tooltip": null,
            "layout": "IPY_MODEL_4537e57ad8d645afad266cc93348da5e",
            "placeholder": "​",
            "style": "IPY_MODEL_ac6c2a258d4845e9b33ff451d930aae5",
            "value": "100%"
          }
        },
        "7818ed678d2b4010822baa4e4677b964": {
          "model_module": "@jupyter-widgets/controls",
          "model_name": "FloatProgressModel",
          "model_module_version": "1.5.0",
          "state": {
            "_dom_classes": [],
            "_model_module": "@jupyter-widgets/controls",
            "_model_module_version": "1.5.0",
            "_model_name": "FloatProgressModel",
            "_view_count": null,
            "_view_module": "@jupyter-widgets/controls",
            "_view_module_version": "1.5.0",
            "_view_name": "ProgressView",
            "bar_style": "success",
            "description": "",
            "description_tooltip": null,
            "layout": "IPY_MODEL_8b677d2fe86c4274a0e6f2c97ed97ec6",
            "max": 465440,
            "min": 0,
            "orientation": "horizontal",
            "style": "IPY_MODEL_a06fa0b7c8434a81b6b6ca716d1a3faf",
            "value": 465440
          }
        },
        "2d5a863098ce4def9e30204d058539ca": {
          "model_module": "@jupyter-widgets/controls",
          "model_name": "HTMLModel",
          "model_module_version": "1.5.0",
          "state": {
            "_dom_classes": [],
            "_model_module": "@jupyter-widgets/controls",
            "_model_module_version": "1.5.0",
            "_model_name": "HTMLModel",
            "_view_count": null,
            "_view_module": "@jupyter-widgets/controls",
            "_view_module_version": "1.5.0",
            "_view_name": "HTMLView",
            "description": "",
            "description_tooltip": null,
            "layout": "IPY_MODEL_ae9b3047413548d8be7bda4fd0ab036a",
            "placeholder": "​",
            "style": "IPY_MODEL_959e894415bd4185b770893e40f4f318",
            "value": " 465440/465440 [00:04&lt;00:00, 63702.97it/s]"
          }
        },
        "2154f3930fbd44e190c4d417e7ac5afc": {
          "model_module": "@jupyter-widgets/base",
          "model_name": "LayoutModel",
          "model_module_version": "1.2.0",
          "state": {
            "_model_module": "@jupyter-widgets/base",
            "_model_module_version": "1.2.0",
            "_model_name": "LayoutModel",
            "_view_count": null,
            "_view_module": "@jupyter-widgets/base",
            "_view_module_version": "1.2.0",
            "_view_name": "LayoutView",
            "align_content": null,
            "align_items": null,
            "align_self": null,
            "border": null,
            "bottom": null,
            "display": null,
            "flex": null,
            "flex_flow": null,
            "grid_area": null,
            "grid_auto_columns": null,
            "grid_auto_flow": null,
            "grid_auto_rows": null,
            "grid_column": null,
            "grid_gap": null,
            "grid_row": null,
            "grid_template_areas": null,
            "grid_template_columns": null,
            "grid_template_rows": null,
            "height": null,
            "justify_content": null,
            "justify_items": null,
            "left": null,
            "margin": null,
            "max_height": null,
            "max_width": null,
            "min_height": null,
            "min_width": null,
            "object_fit": null,
            "object_position": null,
            "order": null,
            "overflow": null,
            "overflow_x": null,
            "overflow_y": null,
            "padding": null,
            "right": null,
            "top": null,
            "visibility": null,
            "width": null
          }
        },
        "4537e57ad8d645afad266cc93348da5e": {
          "model_module": "@jupyter-widgets/base",
          "model_name": "LayoutModel",
          "model_module_version": "1.2.0",
          "state": {
            "_model_module": "@jupyter-widgets/base",
            "_model_module_version": "1.2.0",
            "_model_name": "LayoutModel",
            "_view_count": null,
            "_view_module": "@jupyter-widgets/base",
            "_view_module_version": "1.2.0",
            "_view_name": "LayoutView",
            "align_content": null,
            "align_items": null,
            "align_self": null,
            "border": null,
            "bottom": null,
            "display": null,
            "flex": null,
            "flex_flow": null,
            "grid_area": null,
            "grid_auto_columns": null,
            "grid_auto_flow": null,
            "grid_auto_rows": null,
            "grid_column": null,
            "grid_gap": null,
            "grid_row": null,
            "grid_template_areas": null,
            "grid_template_columns": null,
            "grid_template_rows": null,
            "height": null,
            "justify_content": null,
            "justify_items": null,
            "left": null,
            "margin": null,
            "max_height": null,
            "max_width": null,
            "min_height": null,
            "min_width": null,
            "object_fit": null,
            "object_position": null,
            "order": null,
            "overflow": null,
            "overflow_x": null,
            "overflow_y": null,
            "padding": null,
            "right": null,
            "top": null,
            "visibility": null,
            "width": null
          }
        },
        "ac6c2a258d4845e9b33ff451d930aae5": {
          "model_module": "@jupyter-widgets/controls",
          "model_name": "DescriptionStyleModel",
          "model_module_version": "1.5.0",
          "state": {
            "_model_module": "@jupyter-widgets/controls",
            "_model_module_version": "1.5.0",
            "_model_name": "DescriptionStyleModel",
            "_view_count": null,
            "_view_module": "@jupyter-widgets/base",
            "_view_module_version": "1.2.0",
            "_view_name": "StyleView",
            "description_width": ""
          }
        },
        "8b677d2fe86c4274a0e6f2c97ed97ec6": {
          "model_module": "@jupyter-widgets/base",
          "model_name": "LayoutModel",
          "model_module_version": "1.2.0",
          "state": {
            "_model_module": "@jupyter-widgets/base",
            "_model_module_version": "1.2.0",
            "_model_name": "LayoutModel",
            "_view_count": null,
            "_view_module": "@jupyter-widgets/base",
            "_view_module_version": "1.2.0",
            "_view_name": "LayoutView",
            "align_content": null,
            "align_items": null,
            "align_self": null,
            "border": null,
            "bottom": null,
            "display": null,
            "flex": null,
            "flex_flow": null,
            "grid_area": null,
            "grid_auto_columns": null,
            "grid_auto_flow": null,
            "grid_auto_rows": null,
            "grid_column": null,
            "grid_gap": null,
            "grid_row": null,
            "grid_template_areas": null,
            "grid_template_columns": null,
            "grid_template_rows": null,
            "height": null,
            "justify_content": null,
            "justify_items": null,
            "left": null,
            "margin": null,
            "max_height": null,
            "max_width": null,
            "min_height": null,
            "min_width": null,
            "object_fit": null,
            "object_position": null,
            "order": null,
            "overflow": null,
            "overflow_x": null,
            "overflow_y": null,
            "padding": null,
            "right": null,
            "top": null,
            "visibility": null,
            "width": null
          }
        },
        "a06fa0b7c8434a81b6b6ca716d1a3faf": {
          "model_module": "@jupyter-widgets/controls",
          "model_name": "ProgressStyleModel",
          "model_module_version": "1.5.0",
          "state": {
            "_model_module": "@jupyter-widgets/controls",
            "_model_module_version": "1.5.0",
            "_model_name": "ProgressStyleModel",
            "_view_count": null,
            "_view_module": "@jupyter-widgets/base",
            "_view_module_version": "1.2.0",
            "_view_name": "StyleView",
            "bar_color": null,
            "description_width": ""
          }
        },
        "ae9b3047413548d8be7bda4fd0ab036a": {
          "model_module": "@jupyter-widgets/base",
          "model_name": "LayoutModel",
          "model_module_version": "1.2.0",
          "state": {
            "_model_module": "@jupyter-widgets/base",
            "_model_module_version": "1.2.0",
            "_model_name": "LayoutModel",
            "_view_count": null,
            "_view_module": "@jupyter-widgets/base",
            "_view_module_version": "1.2.0",
            "_view_name": "LayoutView",
            "align_content": null,
            "align_items": null,
            "align_self": null,
            "border": null,
            "bottom": null,
            "display": null,
            "flex": null,
            "flex_flow": null,
            "grid_area": null,
            "grid_auto_columns": null,
            "grid_auto_flow": null,
            "grid_auto_rows": null,
            "grid_column": null,
            "grid_gap": null,
            "grid_row": null,
            "grid_template_areas": null,
            "grid_template_columns": null,
            "grid_template_rows": null,
            "height": null,
            "justify_content": null,
            "justify_items": null,
            "left": null,
            "margin": null,
            "max_height": null,
            "max_width": null,
            "min_height": null,
            "min_width": null,
            "object_fit": null,
            "object_position": null,
            "order": null,
            "overflow": null,
            "overflow_x": null,
            "overflow_y": null,
            "padding": null,
            "right": null,
            "top": null,
            "visibility": null,
            "width": null
          }
        },
        "959e894415bd4185b770893e40f4f318": {
          "model_module": "@jupyter-widgets/controls",
          "model_name": "DescriptionStyleModel",
          "model_module_version": "1.5.0",
          "state": {
            "_model_module": "@jupyter-widgets/controls",
            "_model_module_version": "1.5.0",
            "_model_name": "DescriptionStyleModel",
            "_view_count": null,
            "_view_module": "@jupyter-widgets/base",
            "_view_module_version": "1.2.0",
            "_view_name": "StyleView",
            "description_width": ""
          }
        },
        "50cc81c152824961bdda3fc461ada086": {
          "model_module": "@jupyter-widgets/controls",
          "model_name": "HBoxModel",
          "model_module_version": "1.5.0",
          "state": {
            "_dom_classes": [],
            "_model_module": "@jupyter-widgets/controls",
            "_model_module_version": "1.5.0",
            "_model_name": "HBoxModel",
            "_view_count": null,
            "_view_module": "@jupyter-widgets/controls",
            "_view_module_version": "1.5.0",
            "_view_name": "HBoxView",
            "box_style": "",
            "children": [
              "IPY_MODEL_6268644d49024010a015dd7f637f0056",
              "IPY_MODEL_0cc7037b1aec45558ec5e391248a8637",
              "IPY_MODEL_ac8c8cf6f6504871a59aee22010472aa"
            ],
            "layout": "IPY_MODEL_7a46fde37b934951bfd06295ccc4e4aa"
          }
        },
        "6268644d49024010a015dd7f637f0056": {
          "model_module": "@jupyter-widgets/controls",
          "model_name": "HTMLModel",
          "model_module_version": "1.5.0",
          "state": {
            "_dom_classes": [],
            "_model_module": "@jupyter-widgets/controls",
            "_model_module_version": "1.5.0",
            "_model_name": "HTMLModel",
            "_view_count": null,
            "_view_module": "@jupyter-widgets/controls",
            "_view_module_version": "1.5.0",
            "_view_name": "HTMLView",
            "description": "",
            "description_tooltip": null,
            "layout": "IPY_MODEL_236dcbfaa73349718d655cfc1cac43ba",
            "placeholder": "​",
            "style": "IPY_MODEL_00659f83c37845a592a511d05683926a",
            "value": " 22%"
          }
        },
        "0cc7037b1aec45558ec5e391248a8637": {
          "model_module": "@jupyter-widgets/controls",
          "model_name": "FloatProgressModel",
          "model_module_version": "1.5.0",
          "state": {
            "_dom_classes": [],
            "_model_module": "@jupyter-widgets/controls",
            "_model_module_version": "1.5.0",
            "_model_name": "FloatProgressModel",
            "_view_count": null,
            "_view_module": "@jupyter-widgets/controls",
            "_view_module_version": "1.5.0",
            "_view_name": "ProgressView",
            "bar_style": "danger",
            "description": "",
            "description_tooltip": null,
            "layout": "IPY_MODEL_145bb5b6fedb4b85b17c1bc5cd7fddc1",
            "max": 100000,
            "min": 0,
            "orientation": "horizontal",
            "style": "IPY_MODEL_2353a835b53b4319a8a61bde853f8dc6",
            "value": 21810
          }
        },
        "ac8c8cf6f6504871a59aee22010472aa": {
          "model_module": "@jupyter-widgets/controls",
          "model_name": "HTMLModel",
          "model_module_version": "1.5.0",
          "state": {
            "_dom_classes": [],
            "_model_module": "@jupyter-widgets/controls",
            "_model_module_version": "1.5.0",
            "_model_name": "HTMLModel",
            "_view_count": null,
            "_view_module": "@jupyter-widgets/controls",
            "_view_module_version": "1.5.0",
            "_view_name": "HTMLView",
            "description": "",
            "description_tooltip": null,
            "layout": "IPY_MODEL_6e2937d765814753853f743390e2a5a6",
            "placeholder": "​",
            "style": "IPY_MODEL_ed8d806df04e43fcb272b86281884fad",
            "value": " 21810/100000 [00:35&lt;00:39, 1985.93it/s]"
          }
        },
        "7a46fde37b934951bfd06295ccc4e4aa": {
          "model_module": "@jupyter-widgets/base",
          "model_name": "LayoutModel",
          "model_module_version": "1.2.0",
          "state": {
            "_model_module": "@jupyter-widgets/base",
            "_model_module_version": "1.2.0",
            "_model_name": "LayoutModel",
            "_view_count": null,
            "_view_module": "@jupyter-widgets/base",
            "_view_module_version": "1.2.0",
            "_view_name": "LayoutView",
            "align_content": null,
            "align_items": null,
            "align_self": null,
            "border": null,
            "bottom": null,
            "display": null,
            "flex": null,
            "flex_flow": null,
            "grid_area": null,
            "grid_auto_columns": null,
            "grid_auto_flow": null,
            "grid_auto_rows": null,
            "grid_column": null,
            "grid_gap": null,
            "grid_row": null,
            "grid_template_areas": null,
            "grid_template_columns": null,
            "grid_template_rows": null,
            "height": null,
            "justify_content": null,
            "justify_items": null,
            "left": null,
            "margin": null,
            "max_height": null,
            "max_width": null,
            "min_height": null,
            "min_width": null,
            "object_fit": null,
            "object_position": null,
            "order": null,
            "overflow": null,
            "overflow_x": null,
            "overflow_y": null,
            "padding": null,
            "right": null,
            "top": null,
            "visibility": null,
            "width": null
          }
        },
        "236dcbfaa73349718d655cfc1cac43ba": {
          "model_module": "@jupyter-widgets/base",
          "model_name": "LayoutModel",
          "model_module_version": "1.2.0",
          "state": {
            "_model_module": "@jupyter-widgets/base",
            "_model_module_version": "1.2.0",
            "_model_name": "LayoutModel",
            "_view_count": null,
            "_view_module": "@jupyter-widgets/base",
            "_view_module_version": "1.2.0",
            "_view_name": "LayoutView",
            "align_content": null,
            "align_items": null,
            "align_self": null,
            "border": null,
            "bottom": null,
            "display": null,
            "flex": null,
            "flex_flow": null,
            "grid_area": null,
            "grid_auto_columns": null,
            "grid_auto_flow": null,
            "grid_auto_rows": null,
            "grid_column": null,
            "grid_gap": null,
            "grid_row": null,
            "grid_template_areas": null,
            "grid_template_columns": null,
            "grid_template_rows": null,
            "height": null,
            "justify_content": null,
            "justify_items": null,
            "left": null,
            "margin": null,
            "max_height": null,
            "max_width": null,
            "min_height": null,
            "min_width": null,
            "object_fit": null,
            "object_position": null,
            "order": null,
            "overflow": null,
            "overflow_x": null,
            "overflow_y": null,
            "padding": null,
            "right": null,
            "top": null,
            "visibility": null,
            "width": null
          }
        },
        "00659f83c37845a592a511d05683926a": {
          "model_module": "@jupyter-widgets/controls",
          "model_name": "DescriptionStyleModel",
          "model_module_version": "1.5.0",
          "state": {
            "_model_module": "@jupyter-widgets/controls",
            "_model_module_version": "1.5.0",
            "_model_name": "DescriptionStyleModel",
            "_view_count": null,
            "_view_module": "@jupyter-widgets/base",
            "_view_module_version": "1.2.0",
            "_view_name": "StyleView",
            "description_width": ""
          }
        },
        "145bb5b6fedb4b85b17c1bc5cd7fddc1": {
          "model_module": "@jupyter-widgets/base",
          "model_name": "LayoutModel",
          "model_module_version": "1.2.0",
          "state": {
            "_model_module": "@jupyter-widgets/base",
            "_model_module_version": "1.2.0",
            "_model_name": "LayoutModel",
            "_view_count": null,
            "_view_module": "@jupyter-widgets/base",
            "_view_module_version": "1.2.0",
            "_view_name": "LayoutView",
            "align_content": null,
            "align_items": null,
            "align_self": null,
            "border": null,
            "bottom": null,
            "display": null,
            "flex": null,
            "flex_flow": null,
            "grid_area": null,
            "grid_auto_columns": null,
            "grid_auto_flow": null,
            "grid_auto_rows": null,
            "grid_column": null,
            "grid_gap": null,
            "grid_row": null,
            "grid_template_areas": null,
            "grid_template_columns": null,
            "grid_template_rows": null,
            "height": null,
            "justify_content": null,
            "justify_items": null,
            "left": null,
            "margin": null,
            "max_height": null,
            "max_width": null,
            "min_height": null,
            "min_width": null,
            "object_fit": null,
            "object_position": null,
            "order": null,
            "overflow": null,
            "overflow_x": null,
            "overflow_y": null,
            "padding": null,
            "right": null,
            "top": null,
            "visibility": null,
            "width": null
          }
        },
        "2353a835b53b4319a8a61bde853f8dc6": {
          "model_module": "@jupyter-widgets/controls",
          "model_name": "ProgressStyleModel",
          "model_module_version": "1.5.0",
          "state": {
            "_model_module": "@jupyter-widgets/controls",
            "_model_module_version": "1.5.0",
            "_model_name": "ProgressStyleModel",
            "_view_count": null,
            "_view_module": "@jupyter-widgets/base",
            "_view_module_version": "1.2.0",
            "_view_name": "StyleView",
            "bar_color": null,
            "description_width": ""
          }
        },
        "6e2937d765814753853f743390e2a5a6": {
          "model_module": "@jupyter-widgets/base",
          "model_name": "LayoutModel",
          "model_module_version": "1.2.0",
          "state": {
            "_model_module": "@jupyter-widgets/base",
            "_model_module_version": "1.2.0",
            "_model_name": "LayoutModel",
            "_view_count": null,
            "_view_module": "@jupyter-widgets/base",
            "_view_module_version": "1.2.0",
            "_view_name": "LayoutView",
            "align_content": null,
            "align_items": null,
            "align_self": null,
            "border": null,
            "bottom": null,
            "display": null,
            "flex": null,
            "flex_flow": null,
            "grid_area": null,
            "grid_auto_columns": null,
            "grid_auto_flow": null,
            "grid_auto_rows": null,
            "grid_column": null,
            "grid_gap": null,
            "grid_row": null,
            "grid_template_areas": null,
            "grid_template_columns": null,
            "grid_template_rows": null,
            "height": null,
            "justify_content": null,
            "justify_items": null,
            "left": null,
            "margin": null,
            "max_height": null,
            "max_width": null,
            "min_height": null,
            "min_width": null,
            "object_fit": null,
            "object_position": null,
            "order": null,
            "overflow": null,
            "overflow_x": null,
            "overflow_y": null,
            "padding": null,
            "right": null,
            "top": null,
            "visibility": null,
            "width": null
          }
        },
        "ed8d806df04e43fcb272b86281884fad": {
          "model_module": "@jupyter-widgets/controls",
          "model_name": "DescriptionStyleModel",
          "model_module_version": "1.5.0",
          "state": {
            "_model_module": "@jupyter-widgets/controls",
            "_model_module_version": "1.5.0",
            "_model_name": "DescriptionStyleModel",
            "_view_count": null,
            "_view_module": "@jupyter-widgets/base",
            "_view_module_version": "1.2.0",
            "_view_name": "StyleView",
            "description_width": ""
          }
        },
        "2fdf4363fbc04b3ea22a366601eadfeb": {
          "model_module": "@jupyter-widgets/controls",
          "model_name": "HBoxModel",
          "model_module_version": "1.5.0",
          "state": {
            "_dom_classes": [],
            "_model_module": "@jupyter-widgets/controls",
            "_model_module_version": "1.5.0",
            "_model_name": "HBoxModel",
            "_view_count": null,
            "_view_module": "@jupyter-widgets/controls",
            "_view_module_version": "1.5.0",
            "_view_name": "HBoxView",
            "box_style": "",
            "children": [
              "IPY_MODEL_c15222b1a08e49e2b419ef143a974237",
              "IPY_MODEL_4048c874d2654df0a321f60d94187423",
              "IPY_MODEL_28652963f0c8474ab993b6dae7bd8112"
            ],
            "layout": "IPY_MODEL_f7f89f12533f43c182f775a99ec401b8"
          }
        },
        "c15222b1a08e49e2b419ef143a974237": {
          "model_module": "@jupyter-widgets/controls",
          "model_name": "HTMLModel",
          "model_module_version": "1.5.0",
          "state": {
            "_dom_classes": [],
            "_model_module": "@jupyter-widgets/controls",
            "_model_module_version": "1.5.0",
            "_model_name": "HTMLModel",
            "_view_count": null,
            "_view_module": "@jupyter-widgets/controls",
            "_view_module_version": "1.5.0",
            "_view_name": "HTMLView",
            "description": "",
            "description_tooltip": null,
            "layout": "IPY_MODEL_5558fdbc7a304d4dbdd7ea675f6974da",
            "placeholder": "​",
            "style": "IPY_MODEL_33ade4d398ac4323b6090517f9ed4e8d",
            "value": "100%"
          }
        },
        "4048c874d2654df0a321f60d94187423": {
          "model_module": "@jupyter-widgets/controls",
          "model_name": "FloatProgressModel",
          "model_module_version": "1.5.0",
          "state": {
            "_dom_classes": [],
            "_model_module": "@jupyter-widgets/controls",
            "_model_module_version": "1.5.0",
            "_model_name": "FloatProgressModel",
            "_view_count": null,
            "_view_module": "@jupyter-widgets/controls",
            "_view_module_version": "1.5.0",
            "_view_name": "ProgressView",
            "bar_style": "success",
            "description": "",
            "description_tooltip": null,
            "layout": "IPY_MODEL_bd74929e8cae4221959960bc0f944057",
            "max": 47653,
            "min": 0,
            "orientation": "horizontal",
            "style": "IPY_MODEL_a701d2619b6e423bbdaa8b5f96a6d186",
            "value": 47653
          }
        },
        "28652963f0c8474ab993b6dae7bd8112": {
          "model_module": "@jupyter-widgets/controls",
          "model_name": "HTMLModel",
          "model_module_version": "1.5.0",
          "state": {
            "_dom_classes": [],
            "_model_module": "@jupyter-widgets/controls",
            "_model_module_version": "1.5.0",
            "_model_name": "HTMLModel",
            "_view_count": null,
            "_view_module": "@jupyter-widgets/controls",
            "_view_module_version": "1.5.0",
            "_view_name": "HTMLView",
            "description": "",
            "description_tooltip": null,
            "layout": "IPY_MODEL_9e925d5ec5e44d4a9e5a90bfb61e1da8",
            "placeholder": "​",
            "style": "IPY_MODEL_bc4d0355b0ee420786a360c3f2c35aeb",
            "value": " 47653/47653 [00:34&lt;00:00, 808.62it/s]"
          }
        },
        "f7f89f12533f43c182f775a99ec401b8": {
          "model_module": "@jupyter-widgets/base",
          "model_name": "LayoutModel",
          "model_module_version": "1.2.0",
          "state": {
            "_model_module": "@jupyter-widgets/base",
            "_model_module_version": "1.2.0",
            "_model_name": "LayoutModel",
            "_view_count": null,
            "_view_module": "@jupyter-widgets/base",
            "_view_module_version": "1.2.0",
            "_view_name": "LayoutView",
            "align_content": null,
            "align_items": null,
            "align_self": null,
            "border": null,
            "bottom": null,
            "display": null,
            "flex": null,
            "flex_flow": null,
            "grid_area": null,
            "grid_auto_columns": null,
            "grid_auto_flow": null,
            "grid_auto_rows": null,
            "grid_column": null,
            "grid_gap": null,
            "grid_row": null,
            "grid_template_areas": null,
            "grid_template_columns": null,
            "grid_template_rows": null,
            "height": null,
            "justify_content": null,
            "justify_items": null,
            "left": null,
            "margin": null,
            "max_height": null,
            "max_width": null,
            "min_height": null,
            "min_width": null,
            "object_fit": null,
            "object_position": null,
            "order": null,
            "overflow": null,
            "overflow_x": null,
            "overflow_y": null,
            "padding": null,
            "right": null,
            "top": null,
            "visibility": null,
            "width": null
          }
        },
        "5558fdbc7a304d4dbdd7ea675f6974da": {
          "model_module": "@jupyter-widgets/base",
          "model_name": "LayoutModel",
          "model_module_version": "1.2.0",
          "state": {
            "_model_module": "@jupyter-widgets/base",
            "_model_module_version": "1.2.0",
            "_model_name": "LayoutModel",
            "_view_count": null,
            "_view_module": "@jupyter-widgets/base",
            "_view_module_version": "1.2.0",
            "_view_name": "LayoutView",
            "align_content": null,
            "align_items": null,
            "align_self": null,
            "border": null,
            "bottom": null,
            "display": null,
            "flex": null,
            "flex_flow": null,
            "grid_area": null,
            "grid_auto_columns": null,
            "grid_auto_flow": null,
            "grid_auto_rows": null,
            "grid_column": null,
            "grid_gap": null,
            "grid_row": null,
            "grid_template_areas": null,
            "grid_template_columns": null,
            "grid_template_rows": null,
            "height": null,
            "justify_content": null,
            "justify_items": null,
            "left": null,
            "margin": null,
            "max_height": null,
            "max_width": null,
            "min_height": null,
            "min_width": null,
            "object_fit": null,
            "object_position": null,
            "order": null,
            "overflow": null,
            "overflow_x": null,
            "overflow_y": null,
            "padding": null,
            "right": null,
            "top": null,
            "visibility": null,
            "width": null
          }
        },
        "33ade4d398ac4323b6090517f9ed4e8d": {
          "model_module": "@jupyter-widgets/controls",
          "model_name": "DescriptionStyleModel",
          "model_module_version": "1.5.0",
          "state": {
            "_model_module": "@jupyter-widgets/controls",
            "_model_module_version": "1.5.0",
            "_model_name": "DescriptionStyleModel",
            "_view_count": null,
            "_view_module": "@jupyter-widgets/base",
            "_view_module_version": "1.2.0",
            "_view_name": "StyleView",
            "description_width": ""
          }
        },
        "bd74929e8cae4221959960bc0f944057": {
          "model_module": "@jupyter-widgets/base",
          "model_name": "LayoutModel",
          "model_module_version": "1.2.0",
          "state": {
            "_model_module": "@jupyter-widgets/base",
            "_model_module_version": "1.2.0",
            "_model_name": "LayoutModel",
            "_view_count": null,
            "_view_module": "@jupyter-widgets/base",
            "_view_module_version": "1.2.0",
            "_view_name": "LayoutView",
            "align_content": null,
            "align_items": null,
            "align_self": null,
            "border": null,
            "bottom": null,
            "display": null,
            "flex": null,
            "flex_flow": null,
            "grid_area": null,
            "grid_auto_columns": null,
            "grid_auto_flow": null,
            "grid_auto_rows": null,
            "grid_column": null,
            "grid_gap": null,
            "grid_row": null,
            "grid_template_areas": null,
            "grid_template_columns": null,
            "grid_template_rows": null,
            "height": null,
            "justify_content": null,
            "justify_items": null,
            "left": null,
            "margin": null,
            "max_height": null,
            "max_width": null,
            "min_height": null,
            "min_width": null,
            "object_fit": null,
            "object_position": null,
            "order": null,
            "overflow": null,
            "overflow_x": null,
            "overflow_y": null,
            "padding": null,
            "right": null,
            "top": null,
            "visibility": null,
            "width": null
          }
        },
        "a701d2619b6e423bbdaa8b5f96a6d186": {
          "model_module": "@jupyter-widgets/controls",
          "model_name": "ProgressStyleModel",
          "model_module_version": "1.5.0",
          "state": {
            "_model_module": "@jupyter-widgets/controls",
            "_model_module_version": "1.5.0",
            "_model_name": "ProgressStyleModel",
            "_view_count": null,
            "_view_module": "@jupyter-widgets/base",
            "_view_module_version": "1.2.0",
            "_view_name": "StyleView",
            "bar_color": null,
            "description_width": ""
          }
        },
        "9e925d5ec5e44d4a9e5a90bfb61e1da8": {
          "model_module": "@jupyter-widgets/base",
          "model_name": "LayoutModel",
          "model_module_version": "1.2.0",
          "state": {
            "_model_module": "@jupyter-widgets/base",
            "_model_module_version": "1.2.0",
            "_model_name": "LayoutModel",
            "_view_count": null,
            "_view_module": "@jupyter-widgets/base",
            "_view_module_version": "1.2.0",
            "_view_name": "LayoutView",
            "align_content": null,
            "align_items": null,
            "align_self": null,
            "border": null,
            "bottom": null,
            "display": null,
            "flex": null,
            "flex_flow": null,
            "grid_area": null,
            "grid_auto_columns": null,
            "grid_auto_flow": null,
            "grid_auto_rows": null,
            "grid_column": null,
            "grid_gap": null,
            "grid_row": null,
            "grid_template_areas": null,
            "grid_template_columns": null,
            "grid_template_rows": null,
            "height": null,
            "justify_content": null,
            "justify_items": null,
            "left": null,
            "margin": null,
            "max_height": null,
            "max_width": null,
            "min_height": null,
            "min_width": null,
            "object_fit": null,
            "object_position": null,
            "order": null,
            "overflow": null,
            "overflow_x": null,
            "overflow_y": null,
            "padding": null,
            "right": null,
            "top": null,
            "visibility": null,
            "width": null
          }
        },
        "bc4d0355b0ee420786a360c3f2c35aeb": {
          "model_module": "@jupyter-widgets/controls",
          "model_name": "DescriptionStyleModel",
          "model_module_version": "1.5.0",
          "state": {
            "_model_module": "@jupyter-widgets/controls",
            "_model_module_version": "1.5.0",
            "_model_name": "DescriptionStyleModel",
            "_view_count": null,
            "_view_module": "@jupyter-widgets/base",
            "_view_module_version": "1.2.0",
            "_view_name": "StyleView",
            "description_width": ""
          }
        },
        "5d336c1bd89143198a7c40c88346fda4": {
          "model_module": "@jupyter-widgets/controls",
          "model_name": "HBoxModel",
          "model_module_version": "1.5.0",
          "state": {
            "_dom_classes": [],
            "_model_module": "@jupyter-widgets/controls",
            "_model_module_version": "1.5.0",
            "_model_name": "HBoxModel",
            "_view_count": null,
            "_view_module": "@jupyter-widgets/controls",
            "_view_module_version": "1.5.0",
            "_view_name": "HBoxView",
            "box_style": "",
            "children": [
              "IPY_MODEL_03d633d84d83429091e0ad0b2d8054fb",
              "IPY_MODEL_1b564f5f2d8d450ab224e4be471f45c9",
              "IPY_MODEL_9bd9865ee72040309f00bfd2fa860c4b"
            ],
            "layout": "IPY_MODEL_d3cfde4f07a24868b263eeb184af31d0"
          }
        },
        "03d633d84d83429091e0ad0b2d8054fb": {
          "model_module": "@jupyter-widgets/controls",
          "model_name": "HTMLModel",
          "model_module_version": "1.5.0",
          "state": {
            "_dom_classes": [],
            "_model_module": "@jupyter-widgets/controls",
            "_model_module_version": "1.5.0",
            "_model_name": "HTMLModel",
            "_view_count": null,
            "_view_module": "@jupyter-widgets/controls",
            "_view_module_version": "1.5.0",
            "_view_name": "HTMLView",
            "description": "",
            "description_tooltip": null,
            "layout": "IPY_MODEL_c2db7e9a3273432db2fc29134821d9be",
            "placeholder": "​",
            "style": "IPY_MODEL_6cbd40e360a543fd856ac830fe67ecb5",
            "value": "Downloading pytorch_model.bin: 100%"
          }
        },
        "1b564f5f2d8d450ab224e4be471f45c9": {
          "model_module": "@jupyter-widgets/controls",
          "model_name": "FloatProgressModel",
          "model_module_version": "1.5.0",
          "state": {
            "_dom_classes": [],
            "_model_module": "@jupyter-widgets/controls",
            "_model_module_version": "1.5.0",
            "_model_name": "FloatProgressModel",
            "_view_count": null,
            "_view_module": "@jupyter-widgets/controls",
            "_view_module_version": "1.5.0",
            "_view_name": "ProgressView",
            "bar_style": "success",
            "description": "",
            "description_tooltip": null,
            "layout": "IPY_MODEL_b7fe9ac6b41f459db8fb124c10356a65",
            "max": 2444714899,
            "min": 0,
            "orientation": "horizontal",
            "style": "IPY_MODEL_63385f8d10ce406497a5ac0816e029e2",
            "value": 2444714899
          }
        },
        "9bd9865ee72040309f00bfd2fa860c4b": {
          "model_module": "@jupyter-widgets/controls",
          "model_name": "HTMLModel",
          "model_module_version": "1.5.0",
          "state": {
            "_dom_classes": [],
            "_model_module": "@jupyter-widgets/controls",
            "_model_module_version": "1.5.0",
            "_model_name": "HTMLModel",
            "_view_count": null,
            "_view_module": "@jupyter-widgets/controls",
            "_view_module_version": "1.5.0",
            "_view_name": "HTMLView",
            "description": "",
            "description_tooltip": null,
            "layout": "IPY_MODEL_e0bed9f4fc614e4c9396a1a862a93276",
            "placeholder": "​",
            "style": "IPY_MODEL_b21d7085c4e5493b8517e846c1d1f489",
            "value": " 2.44G/2.44G [00:12&lt;00:00, 52.1MB/s]"
          }
        },
        "d3cfde4f07a24868b263eeb184af31d0": {
          "model_module": "@jupyter-widgets/base",
          "model_name": "LayoutModel",
          "model_module_version": "1.2.0",
          "state": {
            "_model_module": "@jupyter-widgets/base",
            "_model_module_version": "1.2.0",
            "_model_name": "LayoutModel",
            "_view_count": null,
            "_view_module": "@jupyter-widgets/base",
            "_view_module_version": "1.2.0",
            "_view_name": "LayoutView",
            "align_content": null,
            "align_items": null,
            "align_self": null,
            "border": null,
            "bottom": null,
            "display": null,
            "flex": null,
            "flex_flow": null,
            "grid_area": null,
            "grid_auto_columns": null,
            "grid_auto_flow": null,
            "grid_auto_rows": null,
            "grid_column": null,
            "grid_gap": null,
            "grid_row": null,
            "grid_template_areas": null,
            "grid_template_columns": null,
            "grid_template_rows": null,
            "height": null,
            "justify_content": null,
            "justify_items": null,
            "left": null,
            "margin": null,
            "max_height": null,
            "max_width": null,
            "min_height": null,
            "min_width": null,
            "object_fit": null,
            "object_position": null,
            "order": null,
            "overflow": null,
            "overflow_x": null,
            "overflow_y": null,
            "padding": null,
            "right": null,
            "top": null,
            "visibility": null,
            "width": null
          }
        },
        "c2db7e9a3273432db2fc29134821d9be": {
          "model_module": "@jupyter-widgets/base",
          "model_name": "LayoutModel",
          "model_module_version": "1.2.0",
          "state": {
            "_model_module": "@jupyter-widgets/base",
            "_model_module_version": "1.2.0",
            "_model_name": "LayoutModel",
            "_view_count": null,
            "_view_module": "@jupyter-widgets/base",
            "_view_module_version": "1.2.0",
            "_view_name": "LayoutView",
            "align_content": null,
            "align_items": null,
            "align_self": null,
            "border": null,
            "bottom": null,
            "display": null,
            "flex": null,
            "flex_flow": null,
            "grid_area": null,
            "grid_auto_columns": null,
            "grid_auto_flow": null,
            "grid_auto_rows": null,
            "grid_column": null,
            "grid_gap": null,
            "grid_row": null,
            "grid_template_areas": null,
            "grid_template_columns": null,
            "grid_template_rows": null,
            "height": null,
            "justify_content": null,
            "justify_items": null,
            "left": null,
            "margin": null,
            "max_height": null,
            "max_width": null,
            "min_height": null,
            "min_width": null,
            "object_fit": null,
            "object_position": null,
            "order": null,
            "overflow": null,
            "overflow_x": null,
            "overflow_y": null,
            "padding": null,
            "right": null,
            "top": null,
            "visibility": null,
            "width": null
          }
        },
        "6cbd40e360a543fd856ac830fe67ecb5": {
          "model_module": "@jupyter-widgets/controls",
          "model_name": "DescriptionStyleModel",
          "model_module_version": "1.5.0",
          "state": {
            "_model_module": "@jupyter-widgets/controls",
            "_model_module_version": "1.5.0",
            "_model_name": "DescriptionStyleModel",
            "_view_count": null,
            "_view_module": "@jupyter-widgets/base",
            "_view_module_version": "1.2.0",
            "_view_name": "StyleView",
            "description_width": ""
          }
        },
        "b7fe9ac6b41f459db8fb124c10356a65": {
          "model_module": "@jupyter-widgets/base",
          "model_name": "LayoutModel",
          "model_module_version": "1.2.0",
          "state": {
            "_model_module": "@jupyter-widgets/base",
            "_model_module_version": "1.2.0",
            "_model_name": "LayoutModel",
            "_view_count": null,
            "_view_module": "@jupyter-widgets/base",
            "_view_module_version": "1.2.0",
            "_view_name": "LayoutView",
            "align_content": null,
            "align_items": null,
            "align_self": null,
            "border": null,
            "bottom": null,
            "display": null,
            "flex": null,
            "flex_flow": null,
            "grid_area": null,
            "grid_auto_columns": null,
            "grid_auto_flow": null,
            "grid_auto_rows": null,
            "grid_column": null,
            "grid_gap": null,
            "grid_row": null,
            "grid_template_areas": null,
            "grid_template_columns": null,
            "grid_template_rows": null,
            "height": null,
            "justify_content": null,
            "justify_items": null,
            "left": null,
            "margin": null,
            "max_height": null,
            "max_width": null,
            "min_height": null,
            "min_width": null,
            "object_fit": null,
            "object_position": null,
            "order": null,
            "overflow": null,
            "overflow_x": null,
            "overflow_y": null,
            "padding": null,
            "right": null,
            "top": null,
            "visibility": null,
            "width": null
          }
        },
        "63385f8d10ce406497a5ac0816e029e2": {
          "model_module": "@jupyter-widgets/controls",
          "model_name": "ProgressStyleModel",
          "model_module_version": "1.5.0",
          "state": {
            "_model_module": "@jupyter-widgets/controls",
            "_model_module_version": "1.5.0",
            "_model_name": "ProgressStyleModel",
            "_view_count": null,
            "_view_module": "@jupyter-widgets/base",
            "_view_module_version": "1.2.0",
            "_view_name": "StyleView",
            "bar_color": null,
            "description_width": ""
          }
        },
        "e0bed9f4fc614e4c9396a1a862a93276": {
          "model_module": "@jupyter-widgets/base",
          "model_name": "LayoutModel",
          "model_module_version": "1.2.0",
          "state": {
            "_model_module": "@jupyter-widgets/base",
            "_model_module_version": "1.2.0",
            "_model_name": "LayoutModel",
            "_view_count": null,
            "_view_module": "@jupyter-widgets/base",
            "_view_module_version": "1.2.0",
            "_view_name": "LayoutView",
            "align_content": null,
            "align_items": null,
            "align_self": null,
            "border": null,
            "bottom": null,
            "display": null,
            "flex": null,
            "flex_flow": null,
            "grid_area": null,
            "grid_auto_columns": null,
            "grid_auto_flow": null,
            "grid_auto_rows": null,
            "grid_column": null,
            "grid_gap": null,
            "grid_row": null,
            "grid_template_areas": null,
            "grid_template_columns": null,
            "grid_template_rows": null,
            "height": null,
            "justify_content": null,
            "justify_items": null,
            "left": null,
            "margin": null,
            "max_height": null,
            "max_width": null,
            "min_height": null,
            "min_width": null,
            "object_fit": null,
            "object_position": null,
            "order": null,
            "overflow": null,
            "overflow_x": null,
            "overflow_y": null,
            "padding": null,
            "right": null,
            "top": null,
            "visibility": null,
            "width": null
          }
        },
        "b21d7085c4e5493b8517e846c1d1f489": {
          "model_module": "@jupyter-widgets/controls",
          "model_name": "DescriptionStyleModel",
          "model_module_version": "1.5.0",
          "state": {
            "_model_module": "@jupyter-widgets/controls",
            "_model_module_version": "1.5.0",
            "_model_name": "DescriptionStyleModel",
            "_view_count": null,
            "_view_module": "@jupyter-widgets/base",
            "_view_module_version": "1.2.0",
            "_view_name": "StyleView",
            "description_width": ""
          }
        },
        "e505e00bb8ec43c297dc0ed135499035": {
          "model_module": "@jupyter-widgets/controls",
          "model_name": "HBoxModel",
          "model_module_version": "1.5.0",
          "state": {
            "_dom_classes": [],
            "_model_module": "@jupyter-widgets/controls",
            "_model_module_version": "1.5.0",
            "_model_name": "HBoxModel",
            "_view_count": null,
            "_view_module": "@jupyter-widgets/controls",
            "_view_module_version": "1.5.0",
            "_view_name": "HBoxView",
            "box_style": "",
            "children": [
              "IPY_MODEL_4f3f7ac9d45041f2bbf269a803eda62e",
              "IPY_MODEL_73b39e40bce24e5992e3392673161030",
              "IPY_MODEL_5714d29122c04e40895f4803154afdae"
            ],
            "layout": "IPY_MODEL_7773e7e6fb254b90978cde99fabf440a"
          }
        },
        "4f3f7ac9d45041f2bbf269a803eda62e": {
          "model_module": "@jupyter-widgets/controls",
          "model_name": "HTMLModel",
          "model_module_version": "1.5.0",
          "state": {
            "_dom_classes": [],
            "_model_module": "@jupyter-widgets/controls",
            "_model_module_version": "1.5.0",
            "_model_name": "HTMLModel",
            "_view_count": null,
            "_view_module": "@jupyter-widgets/controls",
            "_view_module_version": "1.5.0",
            "_view_name": "HTMLView",
            "description": "",
            "description_tooltip": null,
            "layout": "IPY_MODEL_f97bca6d2d8b4d6380199f3081715af5",
            "placeholder": "​",
            "style": "IPY_MODEL_eebaca1f5f914d2ab5a49390f27cb720",
            "value": "Downloading (…)neration_config.json: 100%"
          }
        },
        "73b39e40bce24e5992e3392673161030": {
          "model_module": "@jupyter-widgets/controls",
          "model_name": "FloatProgressModel",
          "model_module_version": "1.5.0",
          "state": {
            "_dom_classes": [],
            "_model_module": "@jupyter-widgets/controls",
            "_model_module_version": "1.5.0",
            "_model_name": "FloatProgressModel",
            "_view_count": null,
            "_view_module": "@jupyter-widgets/controls",
            "_view_module_version": "1.5.0",
            "_view_name": "ProgressView",
            "bar_style": "success",
            "description": "",
            "description_tooltip": null,
            "layout": "IPY_MODEL_8bc9cd01473242d7a987af7fe0f36b36",
            "max": 261,
            "min": 0,
            "orientation": "horizontal",
            "style": "IPY_MODEL_9c8eeebd9a6741cfba00aca8de9c6659",
            "value": 261
          }
        },
        "5714d29122c04e40895f4803154afdae": {
          "model_module": "@jupyter-widgets/controls",
          "model_name": "HTMLModel",
          "model_module_version": "1.5.0",
          "state": {
            "_dom_classes": [],
            "_model_module": "@jupyter-widgets/controls",
            "_model_module_version": "1.5.0",
            "_model_name": "HTMLModel",
            "_view_count": null,
            "_view_module": "@jupyter-widgets/controls",
            "_view_module_version": "1.5.0",
            "_view_name": "HTMLView",
            "description": "",
            "description_tooltip": null,
            "layout": "IPY_MODEL_af7b1f88085e43ab8c71f3d58fa38e52",
            "placeholder": "​",
            "style": "IPY_MODEL_dab4cae941cc467f9b40421aea56cd56",
            "value": " 261/261 [00:00&lt;00:00, 22.4kB/s]"
          }
        },
        "7773e7e6fb254b90978cde99fabf440a": {
          "model_module": "@jupyter-widgets/base",
          "model_name": "LayoutModel",
          "model_module_version": "1.2.0",
          "state": {
            "_model_module": "@jupyter-widgets/base",
            "_model_module_version": "1.2.0",
            "_model_name": "LayoutModel",
            "_view_count": null,
            "_view_module": "@jupyter-widgets/base",
            "_view_module_version": "1.2.0",
            "_view_name": "LayoutView",
            "align_content": null,
            "align_items": null,
            "align_self": null,
            "border": null,
            "bottom": null,
            "display": null,
            "flex": null,
            "flex_flow": null,
            "grid_area": null,
            "grid_auto_columns": null,
            "grid_auto_flow": null,
            "grid_auto_rows": null,
            "grid_column": null,
            "grid_gap": null,
            "grid_row": null,
            "grid_template_areas": null,
            "grid_template_columns": null,
            "grid_template_rows": null,
            "height": null,
            "justify_content": null,
            "justify_items": null,
            "left": null,
            "margin": null,
            "max_height": null,
            "max_width": null,
            "min_height": null,
            "min_width": null,
            "object_fit": null,
            "object_position": null,
            "order": null,
            "overflow": null,
            "overflow_x": null,
            "overflow_y": null,
            "padding": null,
            "right": null,
            "top": null,
            "visibility": null,
            "width": null
          }
        },
        "f97bca6d2d8b4d6380199f3081715af5": {
          "model_module": "@jupyter-widgets/base",
          "model_name": "LayoutModel",
          "model_module_version": "1.2.0",
          "state": {
            "_model_module": "@jupyter-widgets/base",
            "_model_module_version": "1.2.0",
            "_model_name": "LayoutModel",
            "_view_count": null,
            "_view_module": "@jupyter-widgets/base",
            "_view_module_version": "1.2.0",
            "_view_name": "LayoutView",
            "align_content": null,
            "align_items": null,
            "align_self": null,
            "border": null,
            "bottom": null,
            "display": null,
            "flex": null,
            "flex_flow": null,
            "grid_area": null,
            "grid_auto_columns": null,
            "grid_auto_flow": null,
            "grid_auto_rows": null,
            "grid_column": null,
            "grid_gap": null,
            "grid_row": null,
            "grid_template_areas": null,
            "grid_template_columns": null,
            "grid_template_rows": null,
            "height": null,
            "justify_content": null,
            "justify_items": null,
            "left": null,
            "margin": null,
            "max_height": null,
            "max_width": null,
            "min_height": null,
            "min_width": null,
            "object_fit": null,
            "object_position": null,
            "order": null,
            "overflow": null,
            "overflow_x": null,
            "overflow_y": null,
            "padding": null,
            "right": null,
            "top": null,
            "visibility": null,
            "width": null
          }
        },
        "eebaca1f5f914d2ab5a49390f27cb720": {
          "model_module": "@jupyter-widgets/controls",
          "model_name": "DescriptionStyleModel",
          "model_module_version": "1.5.0",
          "state": {
            "_model_module": "@jupyter-widgets/controls",
            "_model_module_version": "1.5.0",
            "_model_name": "DescriptionStyleModel",
            "_view_count": null,
            "_view_module": "@jupyter-widgets/base",
            "_view_module_version": "1.2.0",
            "_view_name": "StyleView",
            "description_width": ""
          }
        },
        "8bc9cd01473242d7a987af7fe0f36b36": {
          "model_module": "@jupyter-widgets/base",
          "model_name": "LayoutModel",
          "model_module_version": "1.2.0",
          "state": {
            "_model_module": "@jupyter-widgets/base",
            "_model_module_version": "1.2.0",
            "_model_name": "LayoutModel",
            "_view_count": null,
            "_view_module": "@jupyter-widgets/base",
            "_view_module_version": "1.2.0",
            "_view_name": "LayoutView",
            "align_content": null,
            "align_items": null,
            "align_self": null,
            "border": null,
            "bottom": null,
            "display": null,
            "flex": null,
            "flex_flow": null,
            "grid_area": null,
            "grid_auto_columns": null,
            "grid_auto_flow": null,
            "grid_auto_rows": null,
            "grid_column": null,
            "grid_gap": null,
            "grid_row": null,
            "grid_template_areas": null,
            "grid_template_columns": null,
            "grid_template_rows": null,
            "height": null,
            "justify_content": null,
            "justify_items": null,
            "left": null,
            "margin": null,
            "max_height": null,
            "max_width": null,
            "min_height": null,
            "min_width": null,
            "object_fit": null,
            "object_position": null,
            "order": null,
            "overflow": null,
            "overflow_x": null,
            "overflow_y": null,
            "padding": null,
            "right": null,
            "top": null,
            "visibility": null,
            "width": null
          }
        },
        "9c8eeebd9a6741cfba00aca8de9c6659": {
          "model_module": "@jupyter-widgets/controls",
          "model_name": "ProgressStyleModel",
          "model_module_version": "1.5.0",
          "state": {
            "_model_module": "@jupyter-widgets/controls",
            "_model_module_version": "1.5.0",
            "_model_name": "ProgressStyleModel",
            "_view_count": null,
            "_view_module": "@jupyter-widgets/base",
            "_view_module_version": "1.2.0",
            "_view_name": "StyleView",
            "bar_color": null,
            "description_width": ""
          }
        },
        "af7b1f88085e43ab8c71f3d58fa38e52": {
          "model_module": "@jupyter-widgets/base",
          "model_name": "LayoutModel",
          "model_module_version": "1.2.0",
          "state": {
            "_model_module": "@jupyter-widgets/base",
            "_model_module_version": "1.2.0",
            "_model_name": "LayoutModel",
            "_view_count": null,
            "_view_module": "@jupyter-widgets/base",
            "_view_module_version": "1.2.0",
            "_view_name": "LayoutView",
            "align_content": null,
            "align_items": null,
            "align_self": null,
            "border": null,
            "bottom": null,
            "display": null,
            "flex": null,
            "flex_flow": null,
            "grid_area": null,
            "grid_auto_columns": null,
            "grid_auto_flow": null,
            "grid_auto_rows": null,
            "grid_column": null,
            "grid_gap": null,
            "grid_row": null,
            "grid_template_areas": null,
            "grid_template_columns": null,
            "grid_template_rows": null,
            "height": null,
            "justify_content": null,
            "justify_items": null,
            "left": null,
            "margin": null,
            "max_height": null,
            "max_width": null,
            "min_height": null,
            "min_width": null,
            "object_fit": null,
            "object_position": null,
            "order": null,
            "overflow": null,
            "overflow_x": null,
            "overflow_y": null,
            "padding": null,
            "right": null,
            "top": null,
            "visibility": null,
            "width": null
          }
        },
        "dab4cae941cc467f9b40421aea56cd56": {
          "model_module": "@jupyter-widgets/controls",
          "model_name": "DescriptionStyleModel",
          "model_module_version": "1.5.0",
          "state": {
            "_model_module": "@jupyter-widgets/controls",
            "_model_module_version": "1.5.0",
            "_model_name": "DescriptionStyleModel",
            "_view_count": null,
            "_view_module": "@jupyter-widgets/base",
            "_view_module_version": "1.2.0",
            "_view_name": "StyleView",
            "description_width": ""
          }
        },
        "d0c90bb0348042f2a5b7afd1819ba63b": {
          "model_module": "@jupyter-widgets/controls",
          "model_name": "HBoxModel",
          "model_module_version": "1.5.0",
          "state": {
            "_dom_classes": [],
            "_model_module": "@jupyter-widgets/controls",
            "_model_module_version": "1.5.0",
            "_model_name": "HBoxModel",
            "_view_count": null,
            "_view_module": "@jupyter-widgets/controls",
            "_view_module_version": "1.5.0",
            "_view_name": "HBoxView",
            "box_style": "",
            "children": [
              "IPY_MODEL_2f8d898966e14c84982622d7428c7470",
              "IPY_MODEL_b7902e5feb41431b8f1b7361b9138268",
              "IPY_MODEL_4a0dd2e84c694917a34ef5f53773483c"
            ],
            "layout": "IPY_MODEL_e034be208f584fc69e42d3fb185864a8"
          }
        },
        "2f8d898966e14c84982622d7428c7470": {
          "model_module": "@jupyter-widgets/controls",
          "model_name": "HTMLModel",
          "model_module_version": "1.5.0",
          "state": {
            "_dom_classes": [],
            "_model_module": "@jupyter-widgets/controls",
            "_model_module_version": "1.5.0",
            "_model_name": "HTMLModel",
            "_view_count": null,
            "_view_module": "@jupyter-widgets/controls",
            "_view_module_version": "1.5.0",
            "_view_name": "HTMLView",
            "description": "",
            "description_tooltip": null,
            "layout": "IPY_MODEL_afffb594153044c4b9655371a8456043",
            "placeholder": "​",
            "style": "IPY_MODEL_b91bd2de47db4dadabba6aea9fea5a28",
            "value": "100%"
          }
        },
        "b7902e5feb41431b8f1b7361b9138268": {
          "model_module": "@jupyter-widgets/controls",
          "model_name": "FloatProgressModel",
          "model_module_version": "1.5.0",
          "state": {
            "_dom_classes": [],
            "_model_module": "@jupyter-widgets/controls",
            "_model_module_version": "1.5.0",
            "_model_name": "FloatProgressModel",
            "_view_count": null,
            "_view_module": "@jupyter-widgets/controls",
            "_view_module_version": "1.5.0",
            "_view_name": "ProgressView",
            "bar_style": "success",
            "description": "",
            "description_tooltip": null,
            "layout": "IPY_MODEL_6146286f594a48e88313d01e3b153e2b",
            "max": 21810,
            "min": 0,
            "orientation": "horizontal",
            "style": "IPY_MODEL_5c80e26c50374c7e94200b6771fbf0e7",
            "value": 21810
          }
        },
        "4a0dd2e84c694917a34ef5f53773483c": {
          "model_module": "@jupyter-widgets/controls",
          "model_name": "HTMLModel",
          "model_module_version": "1.5.0",
          "state": {
            "_dom_classes": [],
            "_model_module": "@jupyter-widgets/controls",
            "_model_module_version": "1.5.0",
            "_model_name": "HTMLModel",
            "_view_count": null,
            "_view_module": "@jupyter-widgets/controls",
            "_view_module_version": "1.5.0",
            "_view_name": "HTMLView",
            "description": "",
            "description_tooltip": null,
            "layout": "IPY_MODEL_e1b53cb78c5b45939a7684a9fcc2197d",
            "placeholder": "​",
            "style": "IPY_MODEL_4b70377290554a06b25e9b2178fbe780",
            "value": " 21810/21810 [00:00&lt;00:00, 155717.87it/s]"
          }
        },
        "e034be208f584fc69e42d3fb185864a8": {
          "model_module": "@jupyter-widgets/base",
          "model_name": "LayoutModel",
          "model_module_version": "1.2.0",
          "state": {
            "_model_module": "@jupyter-widgets/base",
            "_model_module_version": "1.2.0",
            "_model_name": "LayoutModel",
            "_view_count": null,
            "_view_module": "@jupyter-widgets/base",
            "_view_module_version": "1.2.0",
            "_view_name": "LayoutView",
            "align_content": null,
            "align_items": null,
            "align_self": null,
            "border": null,
            "bottom": null,
            "display": null,
            "flex": null,
            "flex_flow": null,
            "grid_area": null,
            "grid_auto_columns": null,
            "grid_auto_flow": null,
            "grid_auto_rows": null,
            "grid_column": null,
            "grid_gap": null,
            "grid_row": null,
            "grid_template_areas": null,
            "grid_template_columns": null,
            "grid_template_rows": null,
            "height": null,
            "justify_content": null,
            "justify_items": null,
            "left": null,
            "margin": null,
            "max_height": null,
            "max_width": null,
            "min_height": null,
            "min_width": null,
            "object_fit": null,
            "object_position": null,
            "order": null,
            "overflow": null,
            "overflow_x": null,
            "overflow_y": null,
            "padding": null,
            "right": null,
            "top": null,
            "visibility": null,
            "width": null
          }
        },
        "afffb594153044c4b9655371a8456043": {
          "model_module": "@jupyter-widgets/base",
          "model_name": "LayoutModel",
          "model_module_version": "1.2.0",
          "state": {
            "_model_module": "@jupyter-widgets/base",
            "_model_module_version": "1.2.0",
            "_model_name": "LayoutModel",
            "_view_count": null,
            "_view_module": "@jupyter-widgets/base",
            "_view_module_version": "1.2.0",
            "_view_name": "LayoutView",
            "align_content": null,
            "align_items": null,
            "align_self": null,
            "border": null,
            "bottom": null,
            "display": null,
            "flex": null,
            "flex_flow": null,
            "grid_area": null,
            "grid_auto_columns": null,
            "grid_auto_flow": null,
            "grid_auto_rows": null,
            "grid_column": null,
            "grid_gap": null,
            "grid_row": null,
            "grid_template_areas": null,
            "grid_template_columns": null,
            "grid_template_rows": null,
            "height": null,
            "justify_content": null,
            "justify_items": null,
            "left": null,
            "margin": null,
            "max_height": null,
            "max_width": null,
            "min_height": null,
            "min_width": null,
            "object_fit": null,
            "object_position": null,
            "order": null,
            "overflow": null,
            "overflow_x": null,
            "overflow_y": null,
            "padding": null,
            "right": null,
            "top": null,
            "visibility": null,
            "width": null
          }
        },
        "b91bd2de47db4dadabba6aea9fea5a28": {
          "model_module": "@jupyter-widgets/controls",
          "model_name": "DescriptionStyleModel",
          "model_module_version": "1.5.0",
          "state": {
            "_model_module": "@jupyter-widgets/controls",
            "_model_module_version": "1.5.0",
            "_model_name": "DescriptionStyleModel",
            "_view_count": null,
            "_view_module": "@jupyter-widgets/base",
            "_view_module_version": "1.2.0",
            "_view_name": "StyleView",
            "description_width": ""
          }
        },
        "6146286f594a48e88313d01e3b153e2b": {
          "model_module": "@jupyter-widgets/base",
          "model_name": "LayoutModel",
          "model_module_version": "1.2.0",
          "state": {
            "_model_module": "@jupyter-widgets/base",
            "_model_module_version": "1.2.0",
            "_model_name": "LayoutModel",
            "_view_count": null,
            "_view_module": "@jupyter-widgets/base",
            "_view_module_version": "1.2.0",
            "_view_name": "LayoutView",
            "align_content": null,
            "align_items": null,
            "align_self": null,
            "border": null,
            "bottom": null,
            "display": null,
            "flex": null,
            "flex_flow": null,
            "grid_area": null,
            "grid_auto_columns": null,
            "grid_auto_flow": null,
            "grid_auto_rows": null,
            "grid_column": null,
            "grid_gap": null,
            "grid_row": null,
            "grid_template_areas": null,
            "grid_template_columns": null,
            "grid_template_rows": null,
            "height": null,
            "justify_content": null,
            "justify_items": null,
            "left": null,
            "margin": null,
            "max_height": null,
            "max_width": null,
            "min_height": null,
            "min_width": null,
            "object_fit": null,
            "object_position": null,
            "order": null,
            "overflow": null,
            "overflow_x": null,
            "overflow_y": null,
            "padding": null,
            "right": null,
            "top": null,
            "visibility": null,
            "width": null
          }
        },
        "5c80e26c50374c7e94200b6771fbf0e7": {
          "model_module": "@jupyter-widgets/controls",
          "model_name": "ProgressStyleModel",
          "model_module_version": "1.5.0",
          "state": {
            "_model_module": "@jupyter-widgets/controls",
            "_model_module_version": "1.5.0",
            "_model_name": "ProgressStyleModel",
            "_view_count": null,
            "_view_module": "@jupyter-widgets/base",
            "_view_module_version": "1.2.0",
            "_view_name": "StyleView",
            "bar_color": null,
            "description_width": ""
          }
        },
        "e1b53cb78c5b45939a7684a9fcc2197d": {
          "model_module": "@jupyter-widgets/base",
          "model_name": "LayoutModel",
          "model_module_version": "1.2.0",
          "state": {
            "_model_module": "@jupyter-widgets/base",
            "_model_module_version": "1.2.0",
            "_model_name": "LayoutModel",
            "_view_count": null,
            "_view_module": "@jupyter-widgets/base",
            "_view_module_version": "1.2.0",
            "_view_name": "LayoutView",
            "align_content": null,
            "align_items": null,
            "align_self": null,
            "border": null,
            "bottom": null,
            "display": null,
            "flex": null,
            "flex_flow": null,
            "grid_area": null,
            "grid_auto_columns": null,
            "grid_auto_flow": null,
            "grid_auto_rows": null,
            "grid_column": null,
            "grid_gap": null,
            "grid_row": null,
            "grid_template_areas": null,
            "grid_template_columns": null,
            "grid_template_rows": null,
            "height": null,
            "justify_content": null,
            "justify_items": null,
            "left": null,
            "margin": null,
            "max_height": null,
            "max_width": null,
            "min_height": null,
            "min_width": null,
            "object_fit": null,
            "object_position": null,
            "order": null,
            "overflow": null,
            "overflow_x": null,
            "overflow_y": null,
            "padding": null,
            "right": null,
            "top": null,
            "visibility": null,
            "width": null
          }
        },
        "4b70377290554a06b25e9b2178fbe780": {
          "model_module": "@jupyter-widgets/controls",
          "model_name": "DescriptionStyleModel",
          "model_module_version": "1.5.0",
          "state": {
            "_model_module": "@jupyter-widgets/controls",
            "_model_module_version": "1.5.0",
            "_model_name": "DescriptionStyleModel",
            "_view_count": null,
            "_view_module": "@jupyter-widgets/base",
            "_view_module_version": "1.2.0",
            "_view_name": "StyleView",
            "description_width": ""
          }
        },
        "c68ef319e8e54a0585466621e316e1f6": {
          "model_module": "@jupyter-widgets/controls",
          "model_name": "HBoxModel",
          "model_module_version": "1.5.0",
          "state": {
            "_dom_classes": [],
            "_model_module": "@jupyter-widgets/controls",
            "_model_module_version": "1.5.0",
            "_model_name": "HBoxModel",
            "_view_count": null,
            "_view_module": "@jupyter-widgets/controls",
            "_view_module_version": "1.5.0",
            "_view_name": "HBoxView",
            "box_style": "",
            "children": [
              "IPY_MODEL_0abbd5d0d5de4057b5369857cece1728",
              "IPY_MODEL_d8d8ee54bdb141c488aec055934d46f9",
              "IPY_MODEL_04643864aa83467db4e1267a88e07c66"
            ],
            "layout": "IPY_MODEL_1ef270ee8b92463da07401a1c6d7e0dd"
          }
        },
        "0abbd5d0d5de4057b5369857cece1728": {
          "model_module": "@jupyter-widgets/controls",
          "model_name": "HTMLModel",
          "model_module_version": "1.5.0",
          "state": {
            "_dom_classes": [],
            "_model_module": "@jupyter-widgets/controls",
            "_model_module_version": "1.5.0",
            "_model_name": "HTMLModel",
            "_view_count": null,
            "_view_module": "@jupyter-widgets/controls",
            "_view_module_version": "1.5.0",
            "_view_name": "HTMLView",
            "description": "",
            "description_tooltip": null,
            "layout": "IPY_MODEL_b2f4d3af558b46f0ade621028c30598f",
            "placeholder": "​",
            "style": "IPY_MODEL_c633cb4daddb4059a49b6d980243a885",
            "value": "100%"
          }
        },
        "d8d8ee54bdb141c488aec055934d46f9": {
          "model_module": "@jupyter-widgets/controls",
          "model_name": "FloatProgressModel",
          "model_module_version": "1.5.0",
          "state": {
            "_dom_classes": [],
            "_model_module": "@jupyter-widgets/controls",
            "_model_module_version": "1.5.0",
            "_model_name": "FloatProgressModel",
            "_view_count": null,
            "_view_module": "@jupyter-widgets/controls",
            "_view_module_version": "1.5.0",
            "_view_name": "ProgressView",
            "bar_style": "success",
            "description": "",
            "description_tooltip": null,
            "layout": "IPY_MODEL_548bc8ca1cdf4a99a2e479e6579738a3",
            "max": 5956,
            "min": 0,
            "orientation": "horizontal",
            "style": "IPY_MODEL_c215c6c355ff4b2b8ffb582c51bfda14",
            "value": 5956
          }
        },
        "04643864aa83467db4e1267a88e07c66": {
          "model_module": "@jupyter-widgets/controls",
          "model_name": "HTMLModel",
          "model_module_version": "1.5.0",
          "state": {
            "_dom_classes": [],
            "_model_module": "@jupyter-widgets/controls",
            "_model_module_version": "1.5.0",
            "_model_name": "HTMLModel",
            "_view_count": null,
            "_view_module": "@jupyter-widgets/controls",
            "_view_module_version": "1.5.0",
            "_view_name": "HTMLView",
            "description": "",
            "description_tooltip": null,
            "layout": "IPY_MODEL_33b7da08b18a40b5ae2e05e2cb05cdc7",
            "placeholder": "​",
            "style": "IPY_MODEL_8bc887904b8a47ff88223feafc67fbfc",
            "value": " 5956/5956 [18:24&lt;00:00,  5.33it/s]"
          }
        },
        "1ef270ee8b92463da07401a1c6d7e0dd": {
          "model_module": "@jupyter-widgets/base",
          "model_name": "LayoutModel",
          "model_module_version": "1.2.0",
          "state": {
            "_model_module": "@jupyter-widgets/base",
            "_model_module_version": "1.2.0",
            "_model_name": "LayoutModel",
            "_view_count": null,
            "_view_module": "@jupyter-widgets/base",
            "_view_module_version": "1.2.0",
            "_view_name": "LayoutView",
            "align_content": null,
            "align_items": null,
            "align_self": null,
            "border": null,
            "bottom": null,
            "display": null,
            "flex": null,
            "flex_flow": null,
            "grid_area": null,
            "grid_auto_columns": null,
            "grid_auto_flow": null,
            "grid_auto_rows": null,
            "grid_column": null,
            "grid_gap": null,
            "grid_row": null,
            "grid_template_areas": null,
            "grid_template_columns": null,
            "grid_template_rows": null,
            "height": null,
            "justify_content": null,
            "justify_items": null,
            "left": null,
            "margin": null,
            "max_height": null,
            "max_width": null,
            "min_height": null,
            "min_width": null,
            "object_fit": null,
            "object_position": null,
            "order": null,
            "overflow": null,
            "overflow_x": null,
            "overflow_y": null,
            "padding": null,
            "right": null,
            "top": null,
            "visibility": null,
            "width": null
          }
        },
        "b2f4d3af558b46f0ade621028c30598f": {
          "model_module": "@jupyter-widgets/base",
          "model_name": "LayoutModel",
          "model_module_version": "1.2.0",
          "state": {
            "_model_module": "@jupyter-widgets/base",
            "_model_module_version": "1.2.0",
            "_model_name": "LayoutModel",
            "_view_count": null,
            "_view_module": "@jupyter-widgets/base",
            "_view_module_version": "1.2.0",
            "_view_name": "LayoutView",
            "align_content": null,
            "align_items": null,
            "align_self": null,
            "border": null,
            "bottom": null,
            "display": null,
            "flex": null,
            "flex_flow": null,
            "grid_area": null,
            "grid_auto_columns": null,
            "grid_auto_flow": null,
            "grid_auto_rows": null,
            "grid_column": null,
            "grid_gap": null,
            "grid_row": null,
            "grid_template_areas": null,
            "grid_template_columns": null,
            "grid_template_rows": null,
            "height": null,
            "justify_content": null,
            "justify_items": null,
            "left": null,
            "margin": null,
            "max_height": null,
            "max_width": null,
            "min_height": null,
            "min_width": null,
            "object_fit": null,
            "object_position": null,
            "order": null,
            "overflow": null,
            "overflow_x": null,
            "overflow_y": null,
            "padding": null,
            "right": null,
            "top": null,
            "visibility": null,
            "width": null
          }
        },
        "c633cb4daddb4059a49b6d980243a885": {
          "model_module": "@jupyter-widgets/controls",
          "model_name": "DescriptionStyleModel",
          "model_module_version": "1.5.0",
          "state": {
            "_model_module": "@jupyter-widgets/controls",
            "_model_module_version": "1.5.0",
            "_model_name": "DescriptionStyleModel",
            "_view_count": null,
            "_view_module": "@jupyter-widgets/base",
            "_view_module_version": "1.2.0",
            "_view_name": "StyleView",
            "description_width": ""
          }
        },
        "548bc8ca1cdf4a99a2e479e6579738a3": {
          "model_module": "@jupyter-widgets/base",
          "model_name": "LayoutModel",
          "model_module_version": "1.2.0",
          "state": {
            "_model_module": "@jupyter-widgets/base",
            "_model_module_version": "1.2.0",
            "_model_name": "LayoutModel",
            "_view_count": null,
            "_view_module": "@jupyter-widgets/base",
            "_view_module_version": "1.2.0",
            "_view_name": "LayoutView",
            "align_content": null,
            "align_items": null,
            "align_self": null,
            "border": null,
            "bottom": null,
            "display": null,
            "flex": null,
            "flex_flow": null,
            "grid_area": null,
            "grid_auto_columns": null,
            "grid_auto_flow": null,
            "grid_auto_rows": null,
            "grid_column": null,
            "grid_gap": null,
            "grid_row": null,
            "grid_template_areas": null,
            "grid_template_columns": null,
            "grid_template_rows": null,
            "height": null,
            "justify_content": null,
            "justify_items": null,
            "left": null,
            "margin": null,
            "max_height": null,
            "max_width": null,
            "min_height": null,
            "min_width": null,
            "object_fit": null,
            "object_position": null,
            "order": null,
            "overflow": null,
            "overflow_x": null,
            "overflow_y": null,
            "padding": null,
            "right": null,
            "top": null,
            "visibility": null,
            "width": null
          }
        },
        "c215c6c355ff4b2b8ffb582c51bfda14": {
          "model_module": "@jupyter-widgets/controls",
          "model_name": "ProgressStyleModel",
          "model_module_version": "1.5.0",
          "state": {
            "_model_module": "@jupyter-widgets/controls",
            "_model_module_version": "1.5.0",
            "_model_name": "ProgressStyleModel",
            "_view_count": null,
            "_view_module": "@jupyter-widgets/base",
            "_view_module_version": "1.2.0",
            "_view_name": "StyleView",
            "bar_color": null,
            "description_width": ""
          }
        },
        "33b7da08b18a40b5ae2e05e2cb05cdc7": {
          "model_module": "@jupyter-widgets/base",
          "model_name": "LayoutModel",
          "model_module_version": "1.2.0",
          "state": {
            "_model_module": "@jupyter-widgets/base",
            "_model_module_version": "1.2.0",
            "_model_name": "LayoutModel",
            "_view_count": null,
            "_view_module": "@jupyter-widgets/base",
            "_view_module_version": "1.2.0",
            "_view_name": "LayoutView",
            "align_content": null,
            "align_items": null,
            "align_self": null,
            "border": null,
            "bottom": null,
            "display": null,
            "flex": null,
            "flex_flow": null,
            "grid_area": null,
            "grid_auto_columns": null,
            "grid_auto_flow": null,
            "grid_auto_rows": null,
            "grid_column": null,
            "grid_gap": null,
            "grid_row": null,
            "grid_template_areas": null,
            "grid_template_columns": null,
            "grid_template_rows": null,
            "height": null,
            "justify_content": null,
            "justify_items": null,
            "left": null,
            "margin": null,
            "max_height": null,
            "max_width": null,
            "min_height": null,
            "min_width": null,
            "object_fit": null,
            "object_position": null,
            "order": null,
            "overflow": null,
            "overflow_x": null,
            "overflow_y": null,
            "padding": null,
            "right": null,
            "top": null,
            "visibility": null,
            "width": null
          }
        },
        "8bc887904b8a47ff88223feafc67fbfc": {
          "model_module": "@jupyter-widgets/controls",
          "model_name": "DescriptionStyleModel",
          "model_module_version": "1.5.0",
          "state": {
            "_model_module": "@jupyter-widgets/controls",
            "_model_module_version": "1.5.0",
            "_model_name": "DescriptionStyleModel",
            "_view_count": null,
            "_view_module": "@jupyter-widgets/base",
            "_view_module_version": "1.2.0",
            "_view_name": "StyleView",
            "description_width": ""
          }
        },
        "5c1511ca20f044cd89a9cc789dc61db7": {
          "model_module": "@jupyter-widgets/controls",
          "model_name": "HBoxModel",
          "model_module_version": "1.5.0",
          "state": {
            "_dom_classes": [],
            "_model_module": "@jupyter-widgets/controls",
            "_model_module_version": "1.5.0",
            "_model_name": "HBoxModel",
            "_view_count": null,
            "_view_module": "@jupyter-widgets/controls",
            "_view_module_version": "1.5.0",
            "_view_name": "HBoxView",
            "box_style": "",
            "children": [
              "IPY_MODEL_b60a7ef44c874bb4853b1015aefe279e",
              "IPY_MODEL_90c85d9a0a73447eb7b71001da584435",
              "IPY_MODEL_f2cf74035eb44bd5836fa301ce8da503"
            ],
            "layout": "IPY_MODEL_e1343e89e3164346a9bd9dab851a13db"
          }
        },
        "b60a7ef44c874bb4853b1015aefe279e": {
          "model_module": "@jupyter-widgets/controls",
          "model_name": "HTMLModel",
          "model_module_version": "1.5.0",
          "state": {
            "_dom_classes": [],
            "_model_module": "@jupyter-widgets/controls",
            "_model_module_version": "1.5.0",
            "_model_name": "HTMLModel",
            "_view_count": null,
            "_view_module": "@jupyter-widgets/controls",
            "_view_module_version": "1.5.0",
            "_view_name": "HTMLView",
            "description": "",
            "description_tooltip": null,
            "layout": "IPY_MODEL_daaf23f3d4954a51b0b45c0e8fefe16d",
            "placeholder": "​",
            "style": "IPY_MODEL_f92d856b41f242d7991728a302d3d933",
            "value": "100%"
          }
        },
        "90c85d9a0a73447eb7b71001da584435": {
          "model_module": "@jupyter-widgets/controls",
          "model_name": "FloatProgressModel",
          "model_module_version": "1.5.0",
          "state": {
            "_dom_classes": [],
            "_model_module": "@jupyter-widgets/controls",
            "_model_module_version": "1.5.0",
            "_model_name": "FloatProgressModel",
            "_view_count": null,
            "_view_module": "@jupyter-widgets/controls",
            "_view_module_version": "1.5.0",
            "_view_name": "ProgressView",
            "bar_style": "success",
            "description": "",
            "description_tooltip": null,
            "layout": "IPY_MODEL_4ca3fcbf3c634a5cbdf82cec6df913e0",
            "max": 5956,
            "min": 0,
            "orientation": "horizontal",
            "style": "IPY_MODEL_063562972a374b6885032a7db545b2a1",
            "value": 5956
          }
        },
        "f2cf74035eb44bd5836fa301ce8da503": {
          "model_module": "@jupyter-widgets/controls",
          "model_name": "HTMLModel",
          "model_module_version": "1.5.0",
          "state": {
            "_dom_classes": [],
            "_model_module": "@jupyter-widgets/controls",
            "_model_module_version": "1.5.0",
            "_model_name": "HTMLModel",
            "_view_count": null,
            "_view_module": "@jupyter-widgets/controls",
            "_view_module_version": "1.5.0",
            "_view_name": "HTMLView",
            "description": "",
            "description_tooltip": null,
            "layout": "IPY_MODEL_5cd2191036c145f39afe792a8153ef0f",
            "placeholder": "​",
            "style": "IPY_MODEL_dd96cd4467e44f4eb4fb347b34fbbc8a",
            "value": " 5956/5956 [18:22&lt;00:00,  6.31it/s]"
          }
        },
        "e1343e89e3164346a9bd9dab851a13db": {
          "model_module": "@jupyter-widgets/base",
          "model_name": "LayoutModel",
          "model_module_version": "1.2.0",
          "state": {
            "_model_module": "@jupyter-widgets/base",
            "_model_module_version": "1.2.0",
            "_model_name": "LayoutModel",
            "_view_count": null,
            "_view_module": "@jupyter-widgets/base",
            "_view_module_version": "1.2.0",
            "_view_name": "LayoutView",
            "align_content": null,
            "align_items": null,
            "align_self": null,
            "border": null,
            "bottom": null,
            "display": null,
            "flex": null,
            "flex_flow": null,
            "grid_area": null,
            "grid_auto_columns": null,
            "grid_auto_flow": null,
            "grid_auto_rows": null,
            "grid_column": null,
            "grid_gap": null,
            "grid_row": null,
            "grid_template_areas": null,
            "grid_template_columns": null,
            "grid_template_rows": null,
            "height": null,
            "justify_content": null,
            "justify_items": null,
            "left": null,
            "margin": null,
            "max_height": null,
            "max_width": null,
            "min_height": null,
            "min_width": null,
            "object_fit": null,
            "object_position": null,
            "order": null,
            "overflow": null,
            "overflow_x": null,
            "overflow_y": null,
            "padding": null,
            "right": null,
            "top": null,
            "visibility": null,
            "width": null
          }
        },
        "daaf23f3d4954a51b0b45c0e8fefe16d": {
          "model_module": "@jupyter-widgets/base",
          "model_name": "LayoutModel",
          "model_module_version": "1.2.0",
          "state": {
            "_model_module": "@jupyter-widgets/base",
            "_model_module_version": "1.2.0",
            "_model_name": "LayoutModel",
            "_view_count": null,
            "_view_module": "@jupyter-widgets/base",
            "_view_module_version": "1.2.0",
            "_view_name": "LayoutView",
            "align_content": null,
            "align_items": null,
            "align_self": null,
            "border": null,
            "bottom": null,
            "display": null,
            "flex": null,
            "flex_flow": null,
            "grid_area": null,
            "grid_auto_columns": null,
            "grid_auto_flow": null,
            "grid_auto_rows": null,
            "grid_column": null,
            "grid_gap": null,
            "grid_row": null,
            "grid_template_areas": null,
            "grid_template_columns": null,
            "grid_template_rows": null,
            "height": null,
            "justify_content": null,
            "justify_items": null,
            "left": null,
            "margin": null,
            "max_height": null,
            "max_width": null,
            "min_height": null,
            "min_width": null,
            "object_fit": null,
            "object_position": null,
            "order": null,
            "overflow": null,
            "overflow_x": null,
            "overflow_y": null,
            "padding": null,
            "right": null,
            "top": null,
            "visibility": null,
            "width": null
          }
        },
        "f92d856b41f242d7991728a302d3d933": {
          "model_module": "@jupyter-widgets/controls",
          "model_name": "DescriptionStyleModel",
          "model_module_version": "1.5.0",
          "state": {
            "_model_module": "@jupyter-widgets/controls",
            "_model_module_version": "1.5.0",
            "_model_name": "DescriptionStyleModel",
            "_view_count": null,
            "_view_module": "@jupyter-widgets/base",
            "_view_module_version": "1.2.0",
            "_view_name": "StyleView",
            "description_width": ""
          }
        },
        "4ca3fcbf3c634a5cbdf82cec6df913e0": {
          "model_module": "@jupyter-widgets/base",
          "model_name": "LayoutModel",
          "model_module_version": "1.2.0",
          "state": {
            "_model_module": "@jupyter-widgets/base",
            "_model_module_version": "1.2.0",
            "_model_name": "LayoutModel",
            "_view_count": null,
            "_view_module": "@jupyter-widgets/base",
            "_view_module_version": "1.2.0",
            "_view_name": "LayoutView",
            "align_content": null,
            "align_items": null,
            "align_self": null,
            "border": null,
            "bottom": null,
            "display": null,
            "flex": null,
            "flex_flow": null,
            "grid_area": null,
            "grid_auto_columns": null,
            "grid_auto_flow": null,
            "grid_auto_rows": null,
            "grid_column": null,
            "grid_gap": null,
            "grid_row": null,
            "grid_template_areas": null,
            "grid_template_columns": null,
            "grid_template_rows": null,
            "height": null,
            "justify_content": null,
            "justify_items": null,
            "left": null,
            "margin": null,
            "max_height": null,
            "max_width": null,
            "min_height": null,
            "min_width": null,
            "object_fit": null,
            "object_position": null,
            "order": null,
            "overflow": null,
            "overflow_x": null,
            "overflow_y": null,
            "padding": null,
            "right": null,
            "top": null,
            "visibility": null,
            "width": null
          }
        },
        "063562972a374b6885032a7db545b2a1": {
          "model_module": "@jupyter-widgets/controls",
          "model_name": "ProgressStyleModel",
          "model_module_version": "1.5.0",
          "state": {
            "_model_module": "@jupyter-widgets/controls",
            "_model_module_version": "1.5.0",
            "_model_name": "ProgressStyleModel",
            "_view_count": null,
            "_view_module": "@jupyter-widgets/base",
            "_view_module_version": "1.2.0",
            "_view_name": "StyleView",
            "bar_color": null,
            "description_width": ""
          }
        },
        "5cd2191036c145f39afe792a8153ef0f": {
          "model_module": "@jupyter-widgets/base",
          "model_name": "LayoutModel",
          "model_module_version": "1.2.0",
          "state": {
            "_model_module": "@jupyter-widgets/base",
            "_model_module_version": "1.2.0",
            "_model_name": "LayoutModel",
            "_view_count": null,
            "_view_module": "@jupyter-widgets/base",
            "_view_module_version": "1.2.0",
            "_view_name": "LayoutView",
            "align_content": null,
            "align_items": null,
            "align_self": null,
            "border": null,
            "bottom": null,
            "display": null,
            "flex": null,
            "flex_flow": null,
            "grid_area": null,
            "grid_auto_columns": null,
            "grid_auto_flow": null,
            "grid_auto_rows": null,
            "grid_column": null,
            "grid_gap": null,
            "grid_row": null,
            "grid_template_areas": null,
            "grid_template_columns": null,
            "grid_template_rows": null,
            "height": null,
            "justify_content": null,
            "justify_items": null,
            "left": null,
            "margin": null,
            "max_height": null,
            "max_width": null,
            "min_height": null,
            "min_width": null,
            "object_fit": null,
            "object_position": null,
            "order": null,
            "overflow": null,
            "overflow_x": null,
            "overflow_y": null,
            "padding": null,
            "right": null,
            "top": null,
            "visibility": null,
            "width": null
          }
        },
        "dd96cd4467e44f4eb4fb347b34fbbc8a": {
          "model_module": "@jupyter-widgets/controls",
          "model_name": "DescriptionStyleModel",
          "model_module_version": "1.5.0",
          "state": {
            "_model_module": "@jupyter-widgets/controls",
            "_model_module_version": "1.5.0",
            "_model_name": "DescriptionStyleModel",
            "_view_count": null,
            "_view_module": "@jupyter-widgets/base",
            "_view_module_version": "1.2.0",
            "_view_name": "StyleView",
            "description_width": ""
          }
        },
        "9c4ee2963f7c4efa97ab347b1fb4d830": {
          "model_module": "@jupyter-widgets/controls",
          "model_name": "HBoxModel",
          "model_module_version": "1.5.0",
          "state": {
            "_dom_classes": [],
            "_model_module": "@jupyter-widgets/controls",
            "_model_module_version": "1.5.0",
            "_model_name": "HBoxModel",
            "_view_count": null,
            "_view_module": "@jupyter-widgets/controls",
            "_view_module_version": "1.5.0",
            "_view_name": "HBoxView",
            "box_style": "",
            "children": [
              "IPY_MODEL_012054d3429542caaa7c7e1d5c41f5b2",
              "IPY_MODEL_37cb79fb18ab4afb8e126709bd39184a",
              "IPY_MODEL_4edd179be5054019b75a3e8b7362f9c0"
            ],
            "layout": "IPY_MODEL_5e2e2f3f9857439cbbce00efe84a6120"
          }
        },
        "012054d3429542caaa7c7e1d5c41f5b2": {
          "model_module": "@jupyter-widgets/controls",
          "model_name": "HTMLModel",
          "model_module_version": "1.5.0",
          "state": {
            "_dom_classes": [],
            "_model_module": "@jupyter-widgets/controls",
            "_model_module_version": "1.5.0",
            "_model_name": "HTMLModel",
            "_view_count": null,
            "_view_module": "@jupyter-widgets/controls",
            "_view_module_version": "1.5.0",
            "_view_name": "HTMLView",
            "description": "",
            "description_tooltip": null,
            "layout": "IPY_MODEL_6d1dc70f78b849009f5dc04dd0958e9b",
            "placeholder": "​",
            "style": "IPY_MODEL_d774f3ee8e9f473bb29e728ba091c449",
            "value": "100%"
          }
        },
        "37cb79fb18ab4afb8e126709bd39184a": {
          "model_module": "@jupyter-widgets/controls",
          "model_name": "FloatProgressModel",
          "model_module_version": "1.5.0",
          "state": {
            "_dom_classes": [],
            "_model_module": "@jupyter-widgets/controls",
            "_model_module_version": "1.5.0",
            "_model_name": "FloatProgressModel",
            "_view_count": null,
            "_view_module": "@jupyter-widgets/controls",
            "_view_module_version": "1.5.0",
            "_view_name": "ProgressView",
            "bar_style": "success",
            "description": "",
            "description_tooltip": null,
            "layout": "IPY_MODEL_fbeb3943f3064efc8e0bce9532395444",
            "max": 5956,
            "min": 0,
            "orientation": "horizontal",
            "style": "IPY_MODEL_74c2af3e5b6042af9391e9291267f733",
            "value": 5956
          }
        },
        "4edd179be5054019b75a3e8b7362f9c0": {
          "model_module": "@jupyter-widgets/controls",
          "model_name": "HTMLModel",
          "model_module_version": "1.5.0",
          "state": {
            "_dom_classes": [],
            "_model_module": "@jupyter-widgets/controls",
            "_model_module_version": "1.5.0",
            "_model_name": "HTMLModel",
            "_view_count": null,
            "_view_module": "@jupyter-widgets/controls",
            "_view_module_version": "1.5.0",
            "_view_name": "HTMLView",
            "description": "",
            "description_tooltip": null,
            "layout": "IPY_MODEL_57a19745e7094eb7acb586765f3e6ac2",
            "placeholder": "​",
            "style": "IPY_MODEL_cbe365794ae14af7ab5b7034322c6749",
            "value": " 5956/5956 [18:23&lt;00:00,  6.55it/s]"
          }
        },
        "5e2e2f3f9857439cbbce00efe84a6120": {
          "model_module": "@jupyter-widgets/base",
          "model_name": "LayoutModel",
          "model_module_version": "1.2.0",
          "state": {
            "_model_module": "@jupyter-widgets/base",
            "_model_module_version": "1.2.0",
            "_model_name": "LayoutModel",
            "_view_count": null,
            "_view_module": "@jupyter-widgets/base",
            "_view_module_version": "1.2.0",
            "_view_name": "LayoutView",
            "align_content": null,
            "align_items": null,
            "align_self": null,
            "border": null,
            "bottom": null,
            "display": null,
            "flex": null,
            "flex_flow": null,
            "grid_area": null,
            "grid_auto_columns": null,
            "grid_auto_flow": null,
            "grid_auto_rows": null,
            "grid_column": null,
            "grid_gap": null,
            "grid_row": null,
            "grid_template_areas": null,
            "grid_template_columns": null,
            "grid_template_rows": null,
            "height": null,
            "justify_content": null,
            "justify_items": null,
            "left": null,
            "margin": null,
            "max_height": null,
            "max_width": null,
            "min_height": null,
            "min_width": null,
            "object_fit": null,
            "object_position": null,
            "order": null,
            "overflow": null,
            "overflow_x": null,
            "overflow_y": null,
            "padding": null,
            "right": null,
            "top": null,
            "visibility": null,
            "width": null
          }
        },
        "6d1dc70f78b849009f5dc04dd0958e9b": {
          "model_module": "@jupyter-widgets/base",
          "model_name": "LayoutModel",
          "model_module_version": "1.2.0",
          "state": {
            "_model_module": "@jupyter-widgets/base",
            "_model_module_version": "1.2.0",
            "_model_name": "LayoutModel",
            "_view_count": null,
            "_view_module": "@jupyter-widgets/base",
            "_view_module_version": "1.2.0",
            "_view_name": "LayoutView",
            "align_content": null,
            "align_items": null,
            "align_self": null,
            "border": null,
            "bottom": null,
            "display": null,
            "flex": null,
            "flex_flow": null,
            "grid_area": null,
            "grid_auto_columns": null,
            "grid_auto_flow": null,
            "grid_auto_rows": null,
            "grid_column": null,
            "grid_gap": null,
            "grid_row": null,
            "grid_template_areas": null,
            "grid_template_columns": null,
            "grid_template_rows": null,
            "height": null,
            "justify_content": null,
            "justify_items": null,
            "left": null,
            "margin": null,
            "max_height": null,
            "max_width": null,
            "min_height": null,
            "min_width": null,
            "object_fit": null,
            "object_position": null,
            "order": null,
            "overflow": null,
            "overflow_x": null,
            "overflow_y": null,
            "padding": null,
            "right": null,
            "top": null,
            "visibility": null,
            "width": null
          }
        },
        "d774f3ee8e9f473bb29e728ba091c449": {
          "model_module": "@jupyter-widgets/controls",
          "model_name": "DescriptionStyleModel",
          "model_module_version": "1.5.0",
          "state": {
            "_model_module": "@jupyter-widgets/controls",
            "_model_module_version": "1.5.0",
            "_model_name": "DescriptionStyleModel",
            "_view_count": null,
            "_view_module": "@jupyter-widgets/base",
            "_view_module_version": "1.2.0",
            "_view_name": "StyleView",
            "description_width": ""
          }
        },
        "fbeb3943f3064efc8e0bce9532395444": {
          "model_module": "@jupyter-widgets/base",
          "model_name": "LayoutModel",
          "model_module_version": "1.2.0",
          "state": {
            "_model_module": "@jupyter-widgets/base",
            "_model_module_version": "1.2.0",
            "_model_name": "LayoutModel",
            "_view_count": null,
            "_view_module": "@jupyter-widgets/base",
            "_view_module_version": "1.2.0",
            "_view_name": "LayoutView",
            "align_content": null,
            "align_items": null,
            "align_self": null,
            "border": null,
            "bottom": null,
            "display": null,
            "flex": null,
            "flex_flow": null,
            "grid_area": null,
            "grid_auto_columns": null,
            "grid_auto_flow": null,
            "grid_auto_rows": null,
            "grid_column": null,
            "grid_gap": null,
            "grid_row": null,
            "grid_template_areas": null,
            "grid_template_columns": null,
            "grid_template_rows": null,
            "height": null,
            "justify_content": null,
            "justify_items": null,
            "left": null,
            "margin": null,
            "max_height": null,
            "max_width": null,
            "min_height": null,
            "min_width": null,
            "object_fit": null,
            "object_position": null,
            "order": null,
            "overflow": null,
            "overflow_x": null,
            "overflow_y": null,
            "padding": null,
            "right": null,
            "top": null,
            "visibility": null,
            "width": null
          }
        },
        "74c2af3e5b6042af9391e9291267f733": {
          "model_module": "@jupyter-widgets/controls",
          "model_name": "ProgressStyleModel",
          "model_module_version": "1.5.0",
          "state": {
            "_model_module": "@jupyter-widgets/controls",
            "_model_module_version": "1.5.0",
            "_model_name": "ProgressStyleModel",
            "_view_count": null,
            "_view_module": "@jupyter-widgets/base",
            "_view_module_version": "1.2.0",
            "_view_name": "StyleView",
            "bar_color": null,
            "description_width": ""
          }
        },
        "57a19745e7094eb7acb586765f3e6ac2": {
          "model_module": "@jupyter-widgets/base",
          "model_name": "LayoutModel",
          "model_module_version": "1.2.0",
          "state": {
            "_model_module": "@jupyter-widgets/base",
            "_model_module_version": "1.2.0",
            "_model_name": "LayoutModel",
            "_view_count": null,
            "_view_module": "@jupyter-widgets/base",
            "_view_module_version": "1.2.0",
            "_view_name": "LayoutView",
            "align_content": null,
            "align_items": null,
            "align_self": null,
            "border": null,
            "bottom": null,
            "display": null,
            "flex": null,
            "flex_flow": null,
            "grid_area": null,
            "grid_auto_columns": null,
            "grid_auto_flow": null,
            "grid_auto_rows": null,
            "grid_column": null,
            "grid_gap": null,
            "grid_row": null,
            "grid_template_areas": null,
            "grid_template_columns": null,
            "grid_template_rows": null,
            "height": null,
            "justify_content": null,
            "justify_items": null,
            "left": null,
            "margin": null,
            "max_height": null,
            "max_width": null,
            "min_height": null,
            "min_width": null,
            "object_fit": null,
            "object_position": null,
            "order": null,
            "overflow": null,
            "overflow_x": null,
            "overflow_y": null,
            "padding": null,
            "right": null,
            "top": null,
            "visibility": null,
            "width": null
          }
        },
        "cbe365794ae14af7ab5b7034322c6749": {
          "model_module": "@jupyter-widgets/controls",
          "model_name": "DescriptionStyleModel",
          "model_module_version": "1.5.0",
          "state": {
            "_model_module": "@jupyter-widgets/controls",
            "_model_module_version": "1.5.0",
            "_model_name": "DescriptionStyleModel",
            "_view_count": null,
            "_view_module": "@jupyter-widgets/base",
            "_view_module_version": "1.2.0",
            "_view_name": "StyleView",
            "description_width": ""
          }
        },
        "755e51357e5f42ae870dcc8a666b05d5": {
          "model_module": "@jupyter-widgets/controls",
          "model_name": "HBoxModel",
          "model_module_version": "1.5.0",
          "state": {
            "_dom_classes": [],
            "_model_module": "@jupyter-widgets/controls",
            "_model_module_version": "1.5.0",
            "_model_name": "HBoxModel",
            "_view_count": null,
            "_view_module": "@jupyter-widgets/controls",
            "_view_module_version": "1.5.0",
            "_view_name": "HBoxView",
            "box_style": "",
            "children": [
              "IPY_MODEL_be2fe63fae1443c68bba618fac32e88e",
              "IPY_MODEL_7022655a046943b6bccddba52a7a0bf3",
              "IPY_MODEL_8a3c40b913a444089abaa4b01bd318f7"
            ],
            "layout": "IPY_MODEL_19f86ec0169844f088330bb86dd6009b"
          }
        },
        "be2fe63fae1443c68bba618fac32e88e": {
          "model_module": "@jupyter-widgets/controls",
          "model_name": "HTMLModel",
          "model_module_version": "1.5.0",
          "state": {
            "_dom_classes": [],
            "_model_module": "@jupyter-widgets/controls",
            "_model_module_version": "1.5.0",
            "_model_name": "HTMLModel",
            "_view_count": null,
            "_view_module": "@jupyter-widgets/controls",
            "_view_module_version": "1.5.0",
            "_view_name": "HTMLView",
            "description": "",
            "description_tooltip": null,
            "layout": "IPY_MODEL_897955ea60dc4211a6fb7559120392fa",
            "placeholder": "​",
            "style": "IPY_MODEL_9586fcc1920a42ba8a7d8f948af61a24",
            "value": "100%"
          }
        },
        "7022655a046943b6bccddba52a7a0bf3": {
          "model_module": "@jupyter-widgets/controls",
          "model_name": "FloatProgressModel",
          "model_module_version": "1.5.0",
          "state": {
            "_dom_classes": [],
            "_model_module": "@jupyter-widgets/controls",
            "_model_module_version": "1.5.0",
            "_model_name": "FloatProgressModel",
            "_view_count": null,
            "_view_module": "@jupyter-widgets/controls",
            "_view_module_version": "1.5.0",
            "_view_name": "ProgressView",
            "bar_style": "success",
            "description": "",
            "description_tooltip": null,
            "layout": "IPY_MODEL_9e1936e1ef40473dbb492a040eabad7c",
            "max": 5956,
            "min": 0,
            "orientation": "horizontal",
            "style": "IPY_MODEL_99bef208b79f4705962e0f6fd7d8b51e",
            "value": 5956
          }
        },
        "8a3c40b913a444089abaa4b01bd318f7": {
          "model_module": "@jupyter-widgets/controls",
          "model_name": "HTMLModel",
          "model_module_version": "1.5.0",
          "state": {
            "_dom_classes": [],
            "_model_module": "@jupyter-widgets/controls",
            "_model_module_version": "1.5.0",
            "_model_name": "HTMLModel",
            "_view_count": null,
            "_view_module": "@jupyter-widgets/controls",
            "_view_module_version": "1.5.0",
            "_view_name": "HTMLView",
            "description": "",
            "description_tooltip": null,
            "layout": "IPY_MODEL_08ff82df83984dc4b00ea8cecc79567c",
            "placeholder": "​",
            "style": "IPY_MODEL_685c677495bf439b86defc5110d36ee9",
            "value": " 5956/5956 [18:26&lt;00:00,  4.44it/s]"
          }
        },
        "19f86ec0169844f088330bb86dd6009b": {
          "model_module": "@jupyter-widgets/base",
          "model_name": "LayoutModel",
          "model_module_version": "1.2.0",
          "state": {
            "_model_module": "@jupyter-widgets/base",
            "_model_module_version": "1.2.0",
            "_model_name": "LayoutModel",
            "_view_count": null,
            "_view_module": "@jupyter-widgets/base",
            "_view_module_version": "1.2.0",
            "_view_name": "LayoutView",
            "align_content": null,
            "align_items": null,
            "align_self": null,
            "border": null,
            "bottom": null,
            "display": null,
            "flex": null,
            "flex_flow": null,
            "grid_area": null,
            "grid_auto_columns": null,
            "grid_auto_flow": null,
            "grid_auto_rows": null,
            "grid_column": null,
            "grid_gap": null,
            "grid_row": null,
            "grid_template_areas": null,
            "grid_template_columns": null,
            "grid_template_rows": null,
            "height": null,
            "justify_content": null,
            "justify_items": null,
            "left": null,
            "margin": null,
            "max_height": null,
            "max_width": null,
            "min_height": null,
            "min_width": null,
            "object_fit": null,
            "object_position": null,
            "order": null,
            "overflow": null,
            "overflow_x": null,
            "overflow_y": null,
            "padding": null,
            "right": null,
            "top": null,
            "visibility": null,
            "width": null
          }
        },
        "897955ea60dc4211a6fb7559120392fa": {
          "model_module": "@jupyter-widgets/base",
          "model_name": "LayoutModel",
          "model_module_version": "1.2.0",
          "state": {
            "_model_module": "@jupyter-widgets/base",
            "_model_module_version": "1.2.0",
            "_model_name": "LayoutModel",
            "_view_count": null,
            "_view_module": "@jupyter-widgets/base",
            "_view_module_version": "1.2.0",
            "_view_name": "LayoutView",
            "align_content": null,
            "align_items": null,
            "align_self": null,
            "border": null,
            "bottom": null,
            "display": null,
            "flex": null,
            "flex_flow": null,
            "grid_area": null,
            "grid_auto_columns": null,
            "grid_auto_flow": null,
            "grid_auto_rows": null,
            "grid_column": null,
            "grid_gap": null,
            "grid_row": null,
            "grid_template_areas": null,
            "grid_template_columns": null,
            "grid_template_rows": null,
            "height": null,
            "justify_content": null,
            "justify_items": null,
            "left": null,
            "margin": null,
            "max_height": null,
            "max_width": null,
            "min_height": null,
            "min_width": null,
            "object_fit": null,
            "object_position": null,
            "order": null,
            "overflow": null,
            "overflow_x": null,
            "overflow_y": null,
            "padding": null,
            "right": null,
            "top": null,
            "visibility": null,
            "width": null
          }
        },
        "9586fcc1920a42ba8a7d8f948af61a24": {
          "model_module": "@jupyter-widgets/controls",
          "model_name": "DescriptionStyleModel",
          "model_module_version": "1.5.0",
          "state": {
            "_model_module": "@jupyter-widgets/controls",
            "_model_module_version": "1.5.0",
            "_model_name": "DescriptionStyleModel",
            "_view_count": null,
            "_view_module": "@jupyter-widgets/base",
            "_view_module_version": "1.2.0",
            "_view_name": "StyleView",
            "description_width": ""
          }
        },
        "9e1936e1ef40473dbb492a040eabad7c": {
          "model_module": "@jupyter-widgets/base",
          "model_name": "LayoutModel",
          "model_module_version": "1.2.0",
          "state": {
            "_model_module": "@jupyter-widgets/base",
            "_model_module_version": "1.2.0",
            "_model_name": "LayoutModel",
            "_view_count": null,
            "_view_module": "@jupyter-widgets/base",
            "_view_module_version": "1.2.0",
            "_view_name": "LayoutView",
            "align_content": null,
            "align_items": null,
            "align_self": null,
            "border": null,
            "bottom": null,
            "display": null,
            "flex": null,
            "flex_flow": null,
            "grid_area": null,
            "grid_auto_columns": null,
            "grid_auto_flow": null,
            "grid_auto_rows": null,
            "grid_column": null,
            "grid_gap": null,
            "grid_row": null,
            "grid_template_areas": null,
            "grid_template_columns": null,
            "grid_template_rows": null,
            "height": null,
            "justify_content": null,
            "justify_items": null,
            "left": null,
            "margin": null,
            "max_height": null,
            "max_width": null,
            "min_height": null,
            "min_width": null,
            "object_fit": null,
            "object_position": null,
            "order": null,
            "overflow": null,
            "overflow_x": null,
            "overflow_y": null,
            "padding": null,
            "right": null,
            "top": null,
            "visibility": null,
            "width": null
          }
        },
        "99bef208b79f4705962e0f6fd7d8b51e": {
          "model_module": "@jupyter-widgets/controls",
          "model_name": "ProgressStyleModel",
          "model_module_version": "1.5.0",
          "state": {
            "_model_module": "@jupyter-widgets/controls",
            "_model_module_version": "1.5.0",
            "_model_name": "ProgressStyleModel",
            "_view_count": null,
            "_view_module": "@jupyter-widgets/base",
            "_view_module_version": "1.2.0",
            "_view_name": "StyleView",
            "bar_color": null,
            "description_width": ""
          }
        },
        "08ff82df83984dc4b00ea8cecc79567c": {
          "model_module": "@jupyter-widgets/base",
          "model_name": "LayoutModel",
          "model_module_version": "1.2.0",
          "state": {
            "_model_module": "@jupyter-widgets/base",
            "_model_module_version": "1.2.0",
            "_model_name": "LayoutModel",
            "_view_count": null,
            "_view_module": "@jupyter-widgets/base",
            "_view_module_version": "1.2.0",
            "_view_name": "LayoutView",
            "align_content": null,
            "align_items": null,
            "align_self": null,
            "border": null,
            "bottom": null,
            "display": null,
            "flex": null,
            "flex_flow": null,
            "grid_area": null,
            "grid_auto_columns": null,
            "grid_auto_flow": null,
            "grid_auto_rows": null,
            "grid_column": null,
            "grid_gap": null,
            "grid_row": null,
            "grid_template_areas": null,
            "grid_template_columns": null,
            "grid_template_rows": null,
            "height": null,
            "justify_content": null,
            "justify_items": null,
            "left": null,
            "margin": null,
            "max_height": null,
            "max_width": null,
            "min_height": null,
            "min_width": null,
            "object_fit": null,
            "object_position": null,
            "order": null,
            "overflow": null,
            "overflow_x": null,
            "overflow_y": null,
            "padding": null,
            "right": null,
            "top": null,
            "visibility": null,
            "width": null
          }
        },
        "685c677495bf439b86defc5110d36ee9": {
          "model_module": "@jupyter-widgets/controls",
          "model_name": "DescriptionStyleModel",
          "model_module_version": "1.5.0",
          "state": {
            "_model_module": "@jupyter-widgets/controls",
            "_model_module_version": "1.5.0",
            "_model_name": "DescriptionStyleModel",
            "_view_count": null,
            "_view_module": "@jupyter-widgets/base",
            "_view_module_version": "1.2.0",
            "_view_name": "StyleView",
            "description_width": ""
          }
        },
        "5981ec3c6e44471882bfab20b6aa2691": {
          "model_module": "@jupyter-widgets/controls",
          "model_name": "HBoxModel",
          "model_module_version": "1.5.0",
          "state": {
            "_dom_classes": [],
            "_model_module": "@jupyter-widgets/controls",
            "_model_module_version": "1.5.0",
            "_model_name": "HBoxModel",
            "_view_count": null,
            "_view_module": "@jupyter-widgets/controls",
            "_view_module_version": "1.5.0",
            "_view_name": "HBoxView",
            "box_style": "",
            "children": [
              "IPY_MODEL_3a63eb00807d436dbe528ff535d3b70e",
              "IPY_MODEL_8a5a66b2626e47fcb748f64cc7e19d55",
              "IPY_MODEL_f0aab507b5dd4d7396ca84f7d756491e"
            ],
            "layout": "IPY_MODEL_f22d33df94454c88ae000be4bb494c70"
          }
        },
        "3a63eb00807d436dbe528ff535d3b70e": {
          "model_module": "@jupyter-widgets/controls",
          "model_name": "HTMLModel",
          "model_module_version": "1.5.0",
          "state": {
            "_dom_classes": [],
            "_model_module": "@jupyter-widgets/controls",
            "_model_module_version": "1.5.0",
            "_model_name": "HTMLModel",
            "_view_count": null,
            "_view_module": "@jupyter-widgets/controls",
            "_view_module_version": "1.5.0",
            "_view_name": "HTMLView",
            "description": "",
            "description_tooltip": null,
            "layout": "IPY_MODEL_705489b62a114ba1adefaf9e1e245ce1",
            "placeholder": "​",
            "style": "IPY_MODEL_6a870d66a2264a65a27b79141dd17529",
            "value": " 51%"
          }
        },
        "8a5a66b2626e47fcb748f64cc7e19d55": {
          "model_module": "@jupyter-widgets/controls",
          "model_name": "FloatProgressModel",
          "model_module_version": "1.5.0",
          "state": {
            "_dom_classes": [],
            "_model_module": "@jupyter-widgets/controls",
            "_model_module_version": "1.5.0",
            "_model_name": "FloatProgressModel",
            "_view_count": null,
            "_view_module": "@jupyter-widgets/controls",
            "_view_module_version": "1.5.0",
            "_view_name": "ProgressView",
            "bar_style": "danger",
            "description": "",
            "description_tooltip": null,
            "layout": "IPY_MODEL_0e074811189a479a8104033d096fc491",
            "max": 5956,
            "min": 0,
            "orientation": "horizontal",
            "style": "IPY_MODEL_ee2ce778da924e60a05e24bbbca29c8b",
            "value": 3025
          }
        },
        "f0aab507b5dd4d7396ca84f7d756491e": {
          "model_module": "@jupyter-widgets/controls",
          "model_name": "HTMLModel",
          "model_module_version": "1.5.0",
          "state": {
            "_dom_classes": [],
            "_model_module": "@jupyter-widgets/controls",
            "_model_module_version": "1.5.0",
            "_model_name": "HTMLModel",
            "_view_count": null,
            "_view_module": "@jupyter-widgets/controls",
            "_view_module_version": "1.5.0",
            "_view_name": "HTMLView",
            "description": "",
            "description_tooltip": null,
            "layout": "IPY_MODEL_3aaffb29ef3e449d94e07066d124e76d",
            "placeholder": "​",
            "style": "IPY_MODEL_ac2ad6cd34534ce49b8129a2bb2dcda9",
            "value": " 3025/5956 [17:21&lt;15:03,  3.24it/s]"
          }
        },
        "f22d33df94454c88ae000be4bb494c70": {
          "model_module": "@jupyter-widgets/base",
          "model_name": "LayoutModel",
          "model_module_version": "1.2.0",
          "state": {
            "_model_module": "@jupyter-widgets/base",
            "_model_module_version": "1.2.0",
            "_model_name": "LayoutModel",
            "_view_count": null,
            "_view_module": "@jupyter-widgets/base",
            "_view_module_version": "1.2.0",
            "_view_name": "LayoutView",
            "align_content": null,
            "align_items": null,
            "align_self": null,
            "border": null,
            "bottom": null,
            "display": null,
            "flex": null,
            "flex_flow": null,
            "grid_area": null,
            "grid_auto_columns": null,
            "grid_auto_flow": null,
            "grid_auto_rows": null,
            "grid_column": null,
            "grid_gap": null,
            "grid_row": null,
            "grid_template_areas": null,
            "grid_template_columns": null,
            "grid_template_rows": null,
            "height": null,
            "justify_content": null,
            "justify_items": null,
            "left": null,
            "margin": null,
            "max_height": null,
            "max_width": null,
            "min_height": null,
            "min_width": null,
            "object_fit": null,
            "object_position": null,
            "order": null,
            "overflow": null,
            "overflow_x": null,
            "overflow_y": null,
            "padding": null,
            "right": null,
            "top": null,
            "visibility": null,
            "width": null
          }
        },
        "705489b62a114ba1adefaf9e1e245ce1": {
          "model_module": "@jupyter-widgets/base",
          "model_name": "LayoutModel",
          "model_module_version": "1.2.0",
          "state": {
            "_model_module": "@jupyter-widgets/base",
            "_model_module_version": "1.2.0",
            "_model_name": "LayoutModel",
            "_view_count": null,
            "_view_module": "@jupyter-widgets/base",
            "_view_module_version": "1.2.0",
            "_view_name": "LayoutView",
            "align_content": null,
            "align_items": null,
            "align_self": null,
            "border": null,
            "bottom": null,
            "display": null,
            "flex": null,
            "flex_flow": null,
            "grid_area": null,
            "grid_auto_columns": null,
            "grid_auto_flow": null,
            "grid_auto_rows": null,
            "grid_column": null,
            "grid_gap": null,
            "grid_row": null,
            "grid_template_areas": null,
            "grid_template_columns": null,
            "grid_template_rows": null,
            "height": null,
            "justify_content": null,
            "justify_items": null,
            "left": null,
            "margin": null,
            "max_height": null,
            "max_width": null,
            "min_height": null,
            "min_width": null,
            "object_fit": null,
            "object_position": null,
            "order": null,
            "overflow": null,
            "overflow_x": null,
            "overflow_y": null,
            "padding": null,
            "right": null,
            "top": null,
            "visibility": null,
            "width": null
          }
        },
        "6a870d66a2264a65a27b79141dd17529": {
          "model_module": "@jupyter-widgets/controls",
          "model_name": "DescriptionStyleModel",
          "model_module_version": "1.5.0",
          "state": {
            "_model_module": "@jupyter-widgets/controls",
            "_model_module_version": "1.5.0",
            "_model_name": "DescriptionStyleModel",
            "_view_count": null,
            "_view_module": "@jupyter-widgets/base",
            "_view_module_version": "1.2.0",
            "_view_name": "StyleView",
            "description_width": ""
          }
        },
        "0e074811189a479a8104033d096fc491": {
          "model_module": "@jupyter-widgets/base",
          "model_name": "LayoutModel",
          "model_module_version": "1.2.0",
          "state": {
            "_model_module": "@jupyter-widgets/base",
            "_model_module_version": "1.2.0",
            "_model_name": "LayoutModel",
            "_view_count": null,
            "_view_module": "@jupyter-widgets/base",
            "_view_module_version": "1.2.0",
            "_view_name": "LayoutView",
            "align_content": null,
            "align_items": null,
            "align_self": null,
            "border": null,
            "bottom": null,
            "display": null,
            "flex": null,
            "flex_flow": null,
            "grid_area": null,
            "grid_auto_columns": null,
            "grid_auto_flow": null,
            "grid_auto_rows": null,
            "grid_column": null,
            "grid_gap": null,
            "grid_row": null,
            "grid_template_areas": null,
            "grid_template_columns": null,
            "grid_template_rows": null,
            "height": null,
            "justify_content": null,
            "justify_items": null,
            "left": null,
            "margin": null,
            "max_height": null,
            "max_width": null,
            "min_height": null,
            "min_width": null,
            "object_fit": null,
            "object_position": null,
            "order": null,
            "overflow": null,
            "overflow_x": null,
            "overflow_y": null,
            "padding": null,
            "right": null,
            "top": null,
            "visibility": null,
            "width": null
          }
        },
        "ee2ce778da924e60a05e24bbbca29c8b": {
          "model_module": "@jupyter-widgets/controls",
          "model_name": "ProgressStyleModel",
          "model_module_version": "1.5.0",
          "state": {
            "_model_module": "@jupyter-widgets/controls",
            "_model_module_version": "1.5.0",
            "_model_name": "ProgressStyleModel",
            "_view_count": null,
            "_view_module": "@jupyter-widgets/base",
            "_view_module_version": "1.2.0",
            "_view_name": "StyleView",
            "bar_color": null,
            "description_width": ""
          }
        },
        "3aaffb29ef3e449d94e07066d124e76d": {
          "model_module": "@jupyter-widgets/base",
          "model_name": "LayoutModel",
          "model_module_version": "1.2.0",
          "state": {
            "_model_module": "@jupyter-widgets/base",
            "_model_module_version": "1.2.0",
            "_model_name": "LayoutModel",
            "_view_count": null,
            "_view_module": "@jupyter-widgets/base",
            "_view_module_version": "1.2.0",
            "_view_name": "LayoutView",
            "align_content": null,
            "align_items": null,
            "align_self": null,
            "border": null,
            "bottom": null,
            "display": null,
            "flex": null,
            "flex_flow": null,
            "grid_area": null,
            "grid_auto_columns": null,
            "grid_auto_flow": null,
            "grid_auto_rows": null,
            "grid_column": null,
            "grid_gap": null,
            "grid_row": null,
            "grid_template_areas": null,
            "grid_template_columns": null,
            "grid_template_rows": null,
            "height": null,
            "justify_content": null,
            "justify_items": null,
            "left": null,
            "margin": null,
            "max_height": null,
            "max_width": null,
            "min_height": null,
            "min_width": null,
            "object_fit": null,
            "object_position": null,
            "order": null,
            "overflow": null,
            "overflow_x": null,
            "overflow_y": null,
            "padding": null,
            "right": null,
            "top": null,
            "visibility": null,
            "width": null
          }
        },
        "ac2ad6cd34534ce49b8129a2bb2dcda9": {
          "model_module": "@jupyter-widgets/controls",
          "model_name": "DescriptionStyleModel",
          "model_module_version": "1.5.0",
          "state": {
            "_model_module": "@jupyter-widgets/controls",
            "_model_module_version": "1.5.0",
            "_model_name": "DescriptionStyleModel",
            "_view_count": null,
            "_view_module": "@jupyter-widgets/base",
            "_view_module_version": "1.2.0",
            "_view_name": "StyleView",
            "description_width": ""
          }
        },
        "72650e747c134b6982fff0fe5ade1f00": {
          "model_module": "@jupyter-widgets/controls",
          "model_name": "HBoxModel",
          "model_module_version": "1.5.0",
          "state": {
            "_dom_classes": [],
            "_model_module": "@jupyter-widgets/controls",
            "_model_module_version": "1.5.0",
            "_model_name": "HBoxModel",
            "_view_count": null,
            "_view_module": "@jupyter-widgets/controls",
            "_view_module_version": "1.5.0",
            "_view_name": "HBoxView",
            "box_style": "",
            "children": [
              "IPY_MODEL_1f62394c50a1467ba49419c025be307c",
              "IPY_MODEL_535269f2926746fc9c691e88faa8933f",
              "IPY_MODEL_84a782a601e4400bab281e0777aa345a"
            ],
            "layout": "IPY_MODEL_6addf917c23b4ee6a652c3d1503d6257"
          }
        },
        "1f62394c50a1467ba49419c025be307c": {
          "model_module": "@jupyter-widgets/controls",
          "model_name": "HTMLModel",
          "model_module_version": "1.5.0",
          "state": {
            "_dom_classes": [],
            "_model_module": "@jupyter-widgets/controls",
            "_model_module_version": "1.5.0",
            "_model_name": "HTMLModel",
            "_view_count": null,
            "_view_module": "@jupyter-widgets/controls",
            "_view_module_version": "1.5.0",
            "_view_name": "HTMLView",
            "description": "",
            "description_tooltip": null,
            "layout": "IPY_MODEL_109ac0a31a4e4c6185e2728cea9ca29c",
            "placeholder": "​",
            "style": "IPY_MODEL_7a2f1e6caaa04e5c9e28e2acfee9fc93",
            "value": "  1%"
          }
        },
        "535269f2926746fc9c691e88faa8933f": {
          "model_module": "@jupyter-widgets/controls",
          "model_name": "FloatProgressModel",
          "model_module_version": "1.5.0",
          "state": {
            "_dom_classes": [],
            "_model_module": "@jupyter-widgets/controls",
            "_model_module_version": "1.5.0",
            "_model_name": "FloatProgressModel",
            "_view_count": null,
            "_view_module": "@jupyter-widgets/controls",
            "_view_module_version": "1.5.0",
            "_view_name": "ProgressView",
            "bar_style": "",
            "description": "",
            "description_tooltip": null,
            "layout": "IPY_MODEL_f43cebfd1c234f2c85d27536bcf47d6f",
            "max": 1823,
            "min": 0,
            "orientation": "horizontal",
            "style": "IPY_MODEL_275efd54de3e448586673c780103cf34",
            "value": 12
          }
        },
        "84a782a601e4400bab281e0777aa345a": {
          "model_module": "@jupyter-widgets/controls",
          "model_name": "HTMLModel",
          "model_module_version": "1.5.0",
          "state": {
            "_dom_classes": [],
            "_model_module": "@jupyter-widgets/controls",
            "_model_module_version": "1.5.0",
            "_model_name": "HTMLModel",
            "_view_count": null,
            "_view_module": "@jupyter-widgets/controls",
            "_view_module_version": "1.5.0",
            "_view_name": "HTMLView",
            "description": "",
            "description_tooltip": null,
            "layout": "IPY_MODEL_35e74ba3501742e19e7ef2741107c89d",
            "placeholder": "​",
            "style": "IPY_MODEL_a975ff43dae34f5da077ba6def17677f",
            "value": " 12/1823 [00:12&lt;27:52,  1.08it/s]"
          }
        },
        "6addf917c23b4ee6a652c3d1503d6257": {
          "model_module": "@jupyter-widgets/base",
          "model_name": "LayoutModel",
          "model_module_version": "1.2.0",
          "state": {
            "_model_module": "@jupyter-widgets/base",
            "_model_module_version": "1.2.0",
            "_model_name": "LayoutModel",
            "_view_count": null,
            "_view_module": "@jupyter-widgets/base",
            "_view_module_version": "1.2.0",
            "_view_name": "LayoutView",
            "align_content": null,
            "align_items": null,
            "align_self": null,
            "border": null,
            "bottom": null,
            "display": null,
            "flex": null,
            "flex_flow": null,
            "grid_area": null,
            "grid_auto_columns": null,
            "grid_auto_flow": null,
            "grid_auto_rows": null,
            "grid_column": null,
            "grid_gap": null,
            "grid_row": null,
            "grid_template_areas": null,
            "grid_template_columns": null,
            "grid_template_rows": null,
            "height": null,
            "justify_content": null,
            "justify_items": null,
            "left": null,
            "margin": null,
            "max_height": null,
            "max_width": null,
            "min_height": null,
            "min_width": null,
            "object_fit": null,
            "object_position": null,
            "order": null,
            "overflow": null,
            "overflow_x": null,
            "overflow_y": null,
            "padding": null,
            "right": null,
            "top": null,
            "visibility": null,
            "width": null
          }
        },
        "109ac0a31a4e4c6185e2728cea9ca29c": {
          "model_module": "@jupyter-widgets/base",
          "model_name": "LayoutModel",
          "model_module_version": "1.2.0",
          "state": {
            "_model_module": "@jupyter-widgets/base",
            "_model_module_version": "1.2.0",
            "_model_name": "LayoutModel",
            "_view_count": null,
            "_view_module": "@jupyter-widgets/base",
            "_view_module_version": "1.2.0",
            "_view_name": "LayoutView",
            "align_content": null,
            "align_items": null,
            "align_self": null,
            "border": null,
            "bottom": null,
            "display": null,
            "flex": null,
            "flex_flow": null,
            "grid_area": null,
            "grid_auto_columns": null,
            "grid_auto_flow": null,
            "grid_auto_rows": null,
            "grid_column": null,
            "grid_gap": null,
            "grid_row": null,
            "grid_template_areas": null,
            "grid_template_columns": null,
            "grid_template_rows": null,
            "height": null,
            "justify_content": null,
            "justify_items": null,
            "left": null,
            "margin": null,
            "max_height": null,
            "max_width": null,
            "min_height": null,
            "min_width": null,
            "object_fit": null,
            "object_position": null,
            "order": null,
            "overflow": null,
            "overflow_x": null,
            "overflow_y": null,
            "padding": null,
            "right": null,
            "top": null,
            "visibility": null,
            "width": null
          }
        },
        "7a2f1e6caaa04e5c9e28e2acfee9fc93": {
          "model_module": "@jupyter-widgets/controls",
          "model_name": "DescriptionStyleModel",
          "model_module_version": "1.5.0",
          "state": {
            "_model_module": "@jupyter-widgets/controls",
            "_model_module_version": "1.5.0",
            "_model_name": "DescriptionStyleModel",
            "_view_count": null,
            "_view_module": "@jupyter-widgets/base",
            "_view_module_version": "1.2.0",
            "_view_name": "StyleView",
            "description_width": ""
          }
        },
        "f43cebfd1c234f2c85d27536bcf47d6f": {
          "model_module": "@jupyter-widgets/base",
          "model_name": "LayoutModel",
          "model_module_version": "1.2.0",
          "state": {
            "_model_module": "@jupyter-widgets/base",
            "_model_module_version": "1.2.0",
            "_model_name": "LayoutModel",
            "_view_count": null,
            "_view_module": "@jupyter-widgets/base",
            "_view_module_version": "1.2.0",
            "_view_name": "LayoutView",
            "align_content": null,
            "align_items": null,
            "align_self": null,
            "border": null,
            "bottom": null,
            "display": null,
            "flex": null,
            "flex_flow": null,
            "grid_area": null,
            "grid_auto_columns": null,
            "grid_auto_flow": null,
            "grid_auto_rows": null,
            "grid_column": null,
            "grid_gap": null,
            "grid_row": null,
            "grid_template_areas": null,
            "grid_template_columns": null,
            "grid_template_rows": null,
            "height": null,
            "justify_content": null,
            "justify_items": null,
            "left": null,
            "margin": null,
            "max_height": null,
            "max_width": null,
            "min_height": null,
            "min_width": null,
            "object_fit": null,
            "object_position": null,
            "order": null,
            "overflow": null,
            "overflow_x": null,
            "overflow_y": null,
            "padding": null,
            "right": null,
            "top": null,
            "visibility": null,
            "width": null
          }
        },
        "275efd54de3e448586673c780103cf34": {
          "model_module": "@jupyter-widgets/controls",
          "model_name": "ProgressStyleModel",
          "model_module_version": "1.5.0",
          "state": {
            "_model_module": "@jupyter-widgets/controls",
            "_model_module_version": "1.5.0",
            "_model_name": "ProgressStyleModel",
            "_view_count": null,
            "_view_module": "@jupyter-widgets/base",
            "_view_module_version": "1.2.0",
            "_view_name": "StyleView",
            "bar_color": null,
            "description_width": ""
          }
        },
        "35e74ba3501742e19e7ef2741107c89d": {
          "model_module": "@jupyter-widgets/base",
          "model_name": "LayoutModel",
          "model_module_version": "1.2.0",
          "state": {
            "_model_module": "@jupyter-widgets/base",
            "_model_module_version": "1.2.0",
            "_model_name": "LayoutModel",
            "_view_count": null,
            "_view_module": "@jupyter-widgets/base",
            "_view_module_version": "1.2.0",
            "_view_name": "LayoutView",
            "align_content": null,
            "align_items": null,
            "align_self": null,
            "border": null,
            "bottom": null,
            "display": null,
            "flex": null,
            "flex_flow": null,
            "grid_area": null,
            "grid_auto_columns": null,
            "grid_auto_flow": null,
            "grid_auto_rows": null,
            "grid_column": null,
            "grid_gap": null,
            "grid_row": null,
            "grid_template_areas": null,
            "grid_template_columns": null,
            "grid_template_rows": null,
            "height": null,
            "justify_content": null,
            "justify_items": null,
            "left": null,
            "margin": null,
            "max_height": null,
            "max_width": null,
            "min_height": null,
            "min_width": null,
            "object_fit": null,
            "object_position": null,
            "order": null,
            "overflow": null,
            "overflow_x": null,
            "overflow_y": null,
            "padding": null,
            "right": null,
            "top": null,
            "visibility": null,
            "width": null
          }
        },
        "a975ff43dae34f5da077ba6def17677f": {
          "model_module": "@jupyter-widgets/controls",
          "model_name": "DescriptionStyleModel",
          "model_module_version": "1.5.0",
          "state": {
            "_model_module": "@jupyter-widgets/controls",
            "_model_module_version": "1.5.0",
            "_model_name": "DescriptionStyleModel",
            "_view_count": null,
            "_view_module": "@jupyter-widgets/base",
            "_view_module_version": "1.2.0",
            "_view_name": "StyleView",
            "description_width": ""
          }
        }
      }
    }
  },
  "nbformat": 4,
  "nbformat_minor": 5
}