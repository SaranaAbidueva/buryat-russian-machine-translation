{
  "nbformat": 4,
  "nbformat_minor": 0,
  "metadata": {
    "colab": {
      "provenance": []
    },
    "kernelspec": {
      "name": "python3",
      "display_name": "Python 3"
    },
    "language_info": {
      "name": "python"
    }
  },
  "cells": [
    {
      "cell_type": "markdown",
      "source": [
        "в ноутбуке training ru-bxr я опечаталась и оценивала метрики для русского и бурятского текстов, а не эталонный бурятский с переводом на бурятский"
      ],
      "metadata": {
        "id": "TIyCuIu-MDmi"
      }
    },
    {
      "cell_type": "code",
      "source": [
        "! pip install sacrebleu"
      ],
      "metadata": {
        "colab": {
          "base_uri": "https://localhost:8080/"
        },
        "id": "8eIEwbpNNubZ",
        "outputId": "094c0ef1-ccae-4bec-d21a-5b069708ce43"
      },
      "execution_count": null,
      "outputs": [
        {
          "output_type": "stream",
          "name": "stdout",
          "text": [
            "Looking in indexes: https://pypi.org/simple, https://us-python.pkg.dev/colab-wheels/public/simple/\n",
            "Collecting sacrebleu\n",
            "  Downloading sacrebleu-2.3.1-py3-none-any.whl (118 kB)\n",
            "\u001b[2K     \u001b[90m━━━━━━━━━━━━━━━━━━━━━━━━━━━━━━━━━━━━━━━\u001b[0m \u001b[32m118.9/118.9 kB\u001b[0m \u001b[31m4.4 MB/s\u001b[0m eta \u001b[36m0:00:00\u001b[0m\n",
            "\u001b[?25hCollecting portalocker (from sacrebleu)\n",
            "  Downloading portalocker-2.7.0-py2.py3-none-any.whl (15 kB)\n",
            "Requirement already satisfied: regex in /usr/local/lib/python3.10/dist-packages (from sacrebleu) (2022.10.31)\n",
            "Requirement already satisfied: tabulate>=0.8.9 in /usr/local/lib/python3.10/dist-packages (from sacrebleu) (0.8.10)\n",
            "Requirement already satisfied: numpy>=1.17 in /usr/local/lib/python3.10/dist-packages (from sacrebleu) (1.22.4)\n",
            "Collecting colorama (from sacrebleu)\n",
            "  Downloading colorama-0.4.6-py2.py3-none-any.whl (25 kB)\n",
            "Requirement already satisfied: lxml in /usr/local/lib/python3.10/dist-packages (from sacrebleu) (4.9.2)\n",
            "Installing collected packages: portalocker, colorama, sacrebleu\n",
            "Successfully installed colorama-0.4.6 portalocker-2.7.0 sacrebleu-2.3.1\n"
          ]
        }
      ]
    },
    {
      "cell_type": "code",
      "source": [
        "import json\n",
        "from sacrebleu import BLEU, CHRF"
      ],
      "metadata": {
        "id": "D7vWfpDBNs5x"
      },
      "execution_count": null,
      "outputs": []
    },
    {
      "cell_type": "code",
      "source": [
        "with open('test.json', 'r') as f:\n",
        "    test = json.load(f)"
      ],
      "metadata": {
        "id": "z1LOyQ6vN2Ng"
      },
      "execution_count": null,
      "outputs": []
    },
    {
      "cell_type": "code",
      "execution_count": null,
      "metadata": {
        "id": "VxJiAVpsNhHI"
      },
      "outputs": [],
      "source": [
        "target = [bxr for bxr, ru in test]"
      ]
    },
    {
      "cell_type": "code",
      "source": [
        "with open('translated_ru_bxr.txt', 'r', encoding='utf-8') as f:\n",
        "  translated = f.readlines()"
      ],
      "metadata": {
        "id": "bU15DIA_N3D4"
      },
      "execution_count": null,
      "outputs": []
    },
    {
      "cell_type": "code",
      "source": [
        "for i in range(len(translated)):\n",
        "  translated[i] = translated[i].replace('\\n', '')"
      ],
      "metadata": {
        "id": "LlFPnct3OhOZ"
      },
      "execution_count": null,
      "outputs": []
    },
    {
      "cell_type": "code",
      "source": [
        "from sacrebleu import BLEU, CHRF\n",
        "chrf = CHRF()\n",
        "bleu = BLEU()"
      ],
      "metadata": {
        "id": "UYkv7EWsO1Gb"
      },
      "execution_count": null,
      "outputs": []
    },
    {
      "cell_type": "code",
      "source": [
        "print('chrF: ', chrf.corpus_score(translated, target).score,\n",
        "      'BLEU: ', bleu.corpus_score(translated, target).score)"
      ],
      "metadata": {
        "colab": {
          "base_uri": "https://localhost:8080/"
        },
        "id": "E3Cm7ElLOuCh",
        "outputId": "b62f0fba-91d7-4f33-b519-baee2e225617"
      },
      "execution_count": null,
      "outputs": [
        {
          "output_type": "stream",
          "name": "stdout",
          "text": [
            "chrF:  5.244755244755246 BLEU:  0.992293206625009\n"
          ]
        }
      ]
    },
    {
      "cell_type": "code",
      "source": [
        "print('библия',\n",
        "      'chrF: ', chrf.corpus_score(translated[:751], target[:751]).score,\n",
        "      'BLEU: ', bleu.corpus_score(translated[:751], target[:751]).score)\n",
        "print('книги',\n",
        "      'chrF: ', chrf.corpus_score(translated[751:1277], target[751:1277]).score,\n",
        "      'BLEU: ', bleu.corpus_score(translated[751:1277], target[751:1277]).score)\n",
        "print('tatoeba',\n",
        "      'chrF: ', chrf.corpus_score(translated[1277:1364], target[1277:1364]).score,\n",
        "      'BLEU: ', bleu.corpus_score(translated[1277:1364], target[1277:1364]).score)\n",
        "print('стихи',\n",
        "      'chrF: ', chrf.corpus_score(translated[1364:1527], target[1364:1527]).score,\n",
        "      'BLEU: ', bleu.corpus_score(translated[1364:1527], target[1364:1527]).score)\n",
        "print('Википедия',\n",
        "      'chrF: ', chrf.corpus_score(translated[1527:1716], target[1527:1716]).score,\n",
        "      'BLEU: ', bleu.corpus_score(translated[1527:1716], target[1527:1716]).score)\n",
        "print('законы',\n",
        "      'chrF: ', chrf.corpus_score(translated[1716:], target[1716:]).score,\n",
        "      'BLEU: ', bleu.corpus_score(translated[1716:], target[1716:]).score)"
      ],
      "metadata": {
        "id": "GAahBLvxO19B",
        "outputId": "8e5025fa-6c0b-45b7-c0c5-5c9930860268",
        "colab": {
          "base_uri": "https://localhost:8080/"
        }
      },
      "execution_count": null,
      "outputs": [
        {
          "output_type": "stream",
          "name": "stdout",
          "text": [
            "библия chrF:  4.301916308173642 BLEU:  0.17936338427294873\n",
            "книги chrF:  11.363636363636363 BLEU:  0.8801258191444807\n",
            "tatoeba chrF:  20.348837209302324 BLEU:  1.3427762250911925\n",
            "стихи chrF:  9.803921568627452 BLEU:  1.4174477777440004\n",
            "Википедия chrF:  6.077606358111267 BLEU:  0.20011923488404323\n",
            "законы chrF:  3.8363171355498724 BLEU:  0.8835407861543505\n"
          ]
        }
      ]
    },
    {
      "cell_type": "code",
      "source": [],
      "metadata": {
        "id": "jOu_nJC_O4YS"
      },
      "execution_count": null,
      "outputs": []
    }
  ]
}