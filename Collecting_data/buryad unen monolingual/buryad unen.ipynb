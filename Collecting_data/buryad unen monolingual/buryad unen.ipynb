{
 "cells": [
  {
   "cell_type": "code",
   "execution_count": 5,
   "id": "e0dbf3f8-d6bd-4cd4-8dfd-0a3a8300e44e",
   "metadata": {},
   "outputs": [
    {
     "name": "stderr",
     "output_type": "stream",
     "text": [
      "C:\\Users\\Admin\\miniconda3\\lib\\site-packages\\tqdm\\auto.py:22: TqdmWarning: IProgress not found. Please update jupyter and ipywidgets. See https://ipywidgets.readthedocs.io/en/stable/user_install.html\n",
      "  from .autonotebook import tqdm as notebook_tqdm\n"
     ]
    }
   ],
   "source": [
    "import requests\n",
    "import random\n",
    "import pandas as pd\n",
    "from bs4 import BeautifulSoup\n",
    "from tqdm.auto import tqdm, trange\n",
    "from heapdict import heapdict\n",
    "from razdel import sentenize"
   ]
  },
  {
   "cell_type": "code",
   "execution_count": 6,
   "id": "ee80cd2f-5d4c-4d73-80fd-fbe6bbbe6373",
   "metadata": {
    "tags": []
   },
   "outputs": [
    {
     "name": "stderr",
     "output_type": "stream",
     "text": [
      "100%|████████████████████████████████████████████████████████████████████████████| 10000/10000 [41:05<00:00,  4.06it/s]\n"
     ]
    }
   ],
   "source": [
    "base_url = 'https://burunen.ru/bur'\n",
    "downloaded_pages = dict()\n",
    "urls_queue = {base_url}\n",
    "\n",
    "for i in trange(10_000):\n",
    "    if not urls_queue:\n",
    "        break\n",
    "    url = urls_queue.pop()\n",
    "    if url.startswith('https://burunen.ru/bur'):\n",
    "        html = requests.get(url).text\n",
    "        downloaded_pages[url] = html\n",
    "        soup = BeautifulSoup(html)\n",
    "        for a in soup.findAll('a'):\n",
    "            if not a.has_attr('href'):\n",
    "                # skip anchors\n",
    "                continue\n",
    "            href = a['href']\n",
    "            if href.startswith('/bur/'):\n",
    "                new_url = 'https://burunen.ru' + href\n",
    "                if new_url not in urls_queue:\n",
    "                    urls_queue.add(new_url)"
   ]
  },
  {
   "cell_type": "code",
   "execution_count": 7,
   "id": "2066a240-f631-4be1-867e-f06d4609990f",
   "metadata": {},
   "outputs": [
    {
     "data": {
      "text/plain": [
       "697"
      ]
     },
     "execution_count": 7,
     "metadata": {},
     "output_type": "execute_result"
    }
   ],
   "source": [
    "len(downloaded_pages)"
   ]
  },
  {
   "cell_type": "code",
   "execution_count": 8,
   "id": "20273335-b09d-4edd-b63b-9c8200f7dffe",
   "metadata": {
    "tags": []
   },
   "outputs": [
    {
     "name": "stderr",
     "output_type": "stream",
     "text": [
      "100%|████████████████████████████████████████████████████████████████████████████████| 697/697 [00:10<00:00, 67.38it/s]\n"
     ]
    }
   ],
   "source": [
    "parsed_pages = []\n",
    "\n",
    "for url in tqdm(downloaded_pages):\n",
    "    if '?start=' in url:\n",
    "        continue\n",
    "    html = downloaded_pages[url]\n",
    "    soup = BeautifulSoup(html)\n",
    "    try:\n",
    "        # title = soup.find('div', {'class': 'header'}).text.strip()\n",
    "        # category = soup.find('dd', {'class': 'b-tags t-caption'}).find('a').text\n",
    "        body = soup.find('div', {'itemprop': 'articleBody'}).text\n",
    "        body = body.replace('\\n', '')\n",
    "        body = body.replace('©', '')\n",
    "    except AttributeError as e:\n",
    "        # print(url)\n",
    "        continue\n",
    "    parsed_pages.append({\n",
    "        'url': url,\n",
    "        # 'title': title, \n",
    "        # 'category': category,\n",
    "        'body': body\n",
    "    })"
   ]
  },
  {
   "cell_type": "markdown",
   "id": "b75710bf-77cc-4a41-a672-126dc7a6f7f6",
   "metadata": {},
   "source": [
    "не подходят \"главные\" страницы, страницы с текстами парсятся норм"
   ]
  },
  {
   "cell_type": "code",
   "execution_count": 9,
   "id": "34aa09a9-318e-4276-84e7-39dd9231280a",
   "metadata": {},
   "outputs": [
    {
     "name": "stdout",
     "output_type": "stream",
     "text": [
      "623\n"
     ]
    }
   ],
   "source": [
    "print(len(parsed_pages))"
   ]
  },
  {
   "cell_type": "code",
   "execution_count": 10,
   "id": "f41c8d88-5778-43a1-aa0c-44c806dfb3ce",
   "metadata": {},
   "outputs": [],
   "source": [
    "df = pd.DataFrame(parsed_pages)"
   ]
  },
  {
   "cell_type": "code",
   "execution_count": 14,
   "id": "5530bdf3-7753-4c7d-875c-870cb5c5e3d9",
   "metadata": {},
   "outputs": [
    {
     "data": {
      "text/html": [
       "<div>\n",
       "<style scoped>\n",
       "    .dataframe tbody tr th:only-of-type {\n",
       "        vertical-align: middle;\n",
       "    }\n",
       "\n",
       "    .dataframe tbody tr th {\n",
       "        vertical-align: top;\n",
       "    }\n",
       "\n",
       "    .dataframe thead th {\n",
       "        text-align: right;\n",
       "    }\n",
       "</style>\n",
       "<table border=\"1\" class=\"dataframe\">\n",
       "  <thead>\n",
       "    <tr style=\"text-align: right;\">\n",
       "      <th></th>\n",
       "      <th>url</th>\n",
       "      <th>body</th>\n",
       "    </tr>\n",
       "  </thead>\n",
       "  <tbody>\n",
       "    <tr>\n",
       "      <th>0</th>\n",
       "      <td>https://burunen.ru/bur/news/society/97050-zhar...</td>\n",
       "      <td>Уг гарбал Тогочи Данзанов 1903 ондо Ман­далай ...</td>\n",
       "    </tr>\n",
       "    <tr>\n",
       "      <th>1</th>\n",
       "      <td>https://burunen.ru/bur/news/society/92184-molo...</td>\n",
       "      <td>Бултанда мэдээжэ ко­видай шалтагһаа, хоёр жэлэ...</td>\n",
       "    </tr>\n",
       "    <tr>\n",
       "      <th>2</th>\n",
       "      <td>https://burunen.ru/bur/news/agriculture/96783-...</td>\n",
       "      <td>фото: \"Гордость Бурятии\" гэһэн портал Буряад ...</td>\n",
       "    </tr>\n",
       "    <tr>\n",
       "      <th>3</th>\n",
       "      <td>https://burunen.ru/bur/news/sports/97330-sagaa...</td>\n",
       "      <td>фото: Борис Балданов Мүрысөөндэ Буряадай бүхы...</td>\n",
       "    </tr>\n",
       "    <tr>\n",
       "      <th>4</th>\n",
       "      <td>https://burunen.ru/bur/news/culture/97467-baya...</td>\n",
       "      <td>Хотын 33-дахи гимназиин багша Баярма Бадмаева ...</td>\n",
       "    </tr>\n",
       "    <tr>\n",
       "      <th>...</th>\n",
       "      <td>...</td>\n",
       "      <td>...</td>\n",
       "    </tr>\n",
       "    <tr>\n",
       "      <th>618</th>\n",
       "      <td>https://burunen.ru/bur/news/society/93666-erkh...</td>\n",
       "      <td>фото: Буряад Уласай засагай сайтһаа Харин сен...</td>\n",
       "    </tr>\n",
       "    <tr>\n",
       "      <th>619</th>\n",
       "      <td>https://burunen.ru/bur/news/politics/93358-zos...</td>\n",
       "      <td>фото: Буряад Уласай засагай сайтһаа Энэ хабар...</td>\n",
       "    </tr>\n",
       "    <tr>\n",
       "      <th>620</th>\n",
       "      <td>https://burunen.ru/bur/news/society/93522-bayg...</td>\n",
       "      <td>фото: tunkapark.ru сайтһаа зураг. Эрдэмэй бол...</td>\n",
       "    </tr>\n",
       "    <tr>\n",
       "      <th>621</th>\n",
       "      <td>https://burunen.ru/bur/news/culture/93261--/</td>\n",
       "      <td>Бүхыдөө зүжэг монологуудһаа бүридэнэ. Иимэ түх...</td>\n",
       "    </tr>\n",
       "    <tr>\n",
       "      <th>622</th>\n",
       "      <td>https://burunen.ru/bur/news/society/93520-dura...</td>\n",
       "      <td>Иннокентий Егоровой дурасхаал ёһолон хүндэлхэе...</td>\n",
       "    </tr>\n",
       "  </tbody>\n",
       "</table>\n",
       "<p>623 rows × 2 columns</p>\n",
       "</div>"
      ],
      "text/plain": [
       "                                                   url  \\\n",
       "0    https://burunen.ru/bur/news/society/97050-zhar...   \n",
       "1    https://burunen.ru/bur/news/society/92184-molo...   \n",
       "2    https://burunen.ru/bur/news/agriculture/96783-...   \n",
       "3    https://burunen.ru/bur/news/sports/97330-sagaa...   \n",
       "4    https://burunen.ru/bur/news/culture/97467-baya...   \n",
       "..                                                 ...   \n",
       "618  https://burunen.ru/bur/news/society/93666-erkh...   \n",
       "619  https://burunen.ru/bur/news/politics/93358-zos...   \n",
       "620  https://burunen.ru/bur/news/society/93522-bayg...   \n",
       "621       https://burunen.ru/bur/news/culture/93261--/   \n",
       "622  https://burunen.ru/bur/news/society/93520-dura...   \n",
       "\n",
       "                                                  body  \n",
       "0    Уг гарбал Тогочи Данзанов 1903 ондо Ман­далай ...  \n",
       "1    Бултанда мэдээжэ ко­видай шалтагһаа, хоёр жэлэ...  \n",
       "2     фото: \"Гордость Бурятии\" гэһэн портал Буряад ...  \n",
       "3     фото: Борис Балданов Мүрысөөндэ Буряадай бүхы...  \n",
       "4    Хотын 33-дахи гимназиин багша Баярма Бадмаева ...  \n",
       "..                                                 ...  \n",
       "618   фото: Буряад Уласай засагай сайтһаа Харин сен...  \n",
       "619   фото: Буряад Уласай засагай сайтһаа Энэ хабар...  \n",
       "620   фото: tunkapark.ru сайтһаа зураг. Эрдэмэй бол...  \n",
       "621  Бүхыдөө зүжэг монологуудһаа бүридэнэ. Иимэ түх...  \n",
       "622  Иннокентий Егоровой дурасхаал ёһолон хүндэлхэе...  \n",
       "\n",
       "[623 rows x 2 columns]"
      ]
     },
     "execution_count": 14,
     "metadata": {},
     "output_type": "execute_result"
    }
   ],
   "source": [
    "df"
   ]
  },
  {
   "cell_type": "code",
   "execution_count": 12,
   "id": "5ca962f7-69b4-4c86-87a2-54473ea185b8",
   "metadata": {},
   "outputs": [],
   "source": [
    "bur_text = df['body']"
   ]
  },
  {
   "cell_type": "code",
   "execution_count": 17,
   "id": "e3ceae73-9f99-42e4-8374-69ebbd206ded",
   "metadata": {},
   "outputs": [],
   "source": [
    "bur_text = bur_text.tolist()"
   ]
  },
  {
   "cell_type": "code",
   "execution_count": 21,
   "id": "d613077e-a949-4d34-9fb8-fff2fba74367",
   "metadata": {},
   "outputs": [],
   "source": [
    "import re"
   ]
  },
  {
   "cell_type": "code",
   "execution_count": 22,
   "id": "2e5a8140-531d-4bfc-9b47-a0197aa8cd77",
   "metadata": {},
   "outputs": [],
   "source": [
    "def split_sentences(text):\n",
    "    split_text = [] \n",
    "    string = ''\n",
    "    for i in text:\n",
    "        string += i + ' '\n",
    "    reg = r'(?<=[\\.\\?\\!])'\n",
    "    # reg = r'(?<=[\\.\\?\\!])(?!(»|“))'\n",
    "    new_lines = re.split(reg, string)\n",
    "    for line in new_lines:\n",
    "        if line is not None:\n",
    "            if re.findall(r'(\\w|[«„\\d])+', line)!=[] and re.findall(r'(\\d\\:\\d)+', line)==[]:\n",
    "                split_text.append(line.lstrip())\n",
    "    return split_text"
   ]
  },
  {
   "cell_type": "code",
   "execution_count": 23,
   "id": "4dba470f-71ac-4771-8cbf-adfee2cd1a85",
   "metadata": {},
   "outputs": [],
   "source": [
    "bur_sentences = split_sentences(bur_text)"
   ]
  },
  {
   "cell_type": "code",
   "execution_count": 28,
   "id": "ce6f7da8-c97d-4ea5-bcff-23c49eadd31e",
   "metadata": {},
   "outputs": [],
   "source": [
    "bur_sents = []\n",
    "for sent in bur_sentences:\n",
    "    bur_sents.append(sent.replace('\\xad', ''))"
   ]
  },
  {
   "cell_type": "code",
   "execution_count": 30,
   "id": "a6299bfe-dc80-494d-b20a-7413398f698e",
   "metadata": {},
   "outputs": [
    {
     "data": {
      "text/plain": [
       "['Уг гарбал Тогочи Данзанов 1903 ондо Мандалай эбэр гэжэ hууринда Раднын Данзанай гэр бүлэдэ түрэhэн юм.',\n",
       " 'Уг изагуур гэхэдэ, булагад буряад, готолбуумал угай буянгууд омогтон болоно.',\n",
       " 'Угай бэшэгтэ иимэ байна: Аhа-Батури-Тармай-Бэшэгтэ-Улзойто-Ганжур-Радна-Данзан-Тогочи.',\n",
       " 'Бага наhан Суусагайн нуурай эрьеэр наадагша бэлэй.',\n",
       " 'Бүдэ эгэшэтэеэ үншэржэ, яhалашье зобоо туляа юм ааб даа.',\n",
       " 'Шадалтай баян айлаар ажал хэдэг hэн.',\n",
       " 'Тогочи hүбэлгэн шуран, эрмэлзэл ехэтэй хүбүүн байгаа.',\n",
       " 'Һамбаа олоод лэ, элдэб ажал зохёохо, хэхэ.',\n",
       " 'Дабирхай нэрэжэ, хоолойгоо тэжээдэг болоо hэн.',\n",
       " 'Урдандаа ехэ хэрэглэгдэдэг байhан гээшэ: тэргэ дабирхайдаха, малшье эмшэлдэг байгаа.']"
      ]
     },
     "execution_count": 30,
     "metadata": {},
     "output_type": "execute_result"
    }
   ],
   "source": [
    "bur_sents[:10]"
   ]
  },
  {
   "cell_type": "code",
   "execution_count": 31,
   "id": "111f0c8f-0784-4073-83fc-f17e10386bb9",
   "metadata": {},
   "outputs": [],
   "source": [
    "with open('buryad_unen.txt', 'w', encoding = 'utf-8') as f:\n",
    "    for sent in bur_sents:\n",
    "        f.write(\"%s\\n\" % sent)"
   ]
  },
  {
   "cell_type": "code",
   "execution_count": 2,
   "id": "232d9a16-6ca8-438e-a5f4-e45a0fa49d42",
   "metadata": {},
   "outputs": [],
   "source": [
    "with open('buryad_unen.txt', 'r', encoding = 'utf-8') as f:\n",
    "    buryad_unen = f.readlines()"
   ]
  },
  {
   "cell_type": "code",
   "execution_count": 3,
   "id": "e468a72f-c7ef-4743-81a5-a1c788191310",
   "metadata": {},
   "outputs": [],
   "source": [
    "buryad_unen = ' '.join(buryad_unen)"
   ]
  },
  {
   "cell_type": "code",
   "execution_count": 6,
   "id": "f94b5d86-e532-48a1-8d86-4e7bb0ed5ad8",
   "metadata": {},
   "outputs": [],
   "source": [
    "sents = list(sentenize(buryad_unen))\n",
    "bur_text = []\n",
    "for substr in sents:\n",
    "    bur_text.append(substr.text.replace('\\n', ''))"
   ]
  },
  {
   "cell_type": "code",
   "execution_count": 7,
   "id": "63925430-5623-469e-bb0f-f8369b9f9a80",
   "metadata": {},
   "outputs": [
    {
     "data": {
      "text/plain": [
       "20891"
      ]
     },
     "execution_count": 7,
     "metadata": {},
     "output_type": "execute_result"
    }
   ],
   "source": [
    "len(bur_text)"
   ]
  },
  {
   "cell_type": "code",
   "execution_count": 8,
   "id": "c84ad0a1-f498-4312-8265-4178d08634af",
   "metadata": {},
   "outputs": [],
   "source": [
    "with open('buryad_unen.txt', 'w', encoding = 'utf-8') as f:\n",
    "    for sent in bur_text:\n",
    "        f.write(\"%s\\n\" % sent)"
   ]
  },
  {
   "cell_type": "code",
   "execution_count": null,
   "id": "58080b75-96b2-4353-8937-b4e6f6d09d9c",
   "metadata": {},
   "outputs": [],
   "source": []
  }
 ],
 "metadata": {
  "kernelspec": {
   "display_name": "Python 3 (ipykernel)",
   "language": "python",
   "name": "python3"
  },
  "language_info": {
   "codemirror_mode": {
    "name": "ipython",
    "version": 3
   },
   "file_extension": ".py",
   "mimetype": "text/x-python",
   "name": "python",
   "nbconvert_exporter": "python",
   "pygments_lexer": "ipython3",
   "version": "3.9.12"
  }
 },
 "nbformat": 4,
 "nbformat_minor": 5
}
