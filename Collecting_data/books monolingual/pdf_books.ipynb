{
 "cells": [
  {
   "cell_type": "markdown",
   "id": "c65f3a9d-be5a-4ccd-b7a3-7702bbb605de",
   "metadata": {},
   "source": [
    "Собираю тексты с книг на бурятском языке."
   ]
  },
  {
   "cell_type": "code",
   "execution_count": 238,
   "id": "09a09e87-0cfd-4d5a-ab43-c912b9678617",
   "metadata": {},
   "outputs": [],
   "source": [
    "from os import listdir\n",
    "from os.path import isfile, join\n",
    "from PyPDF2 import PdfReader\n",
    "from tqdm.auto import tqdm, trange"
   ]
  },
  {
   "cell_type": "code",
   "execution_count": 234,
   "id": "2516f99b-85b6-47fc-b9ba-d09bbdb3359a",
   "metadata": {},
   "outputs": [],
   "source": [
    "book_names = [name for name in listdir('books_pdf/') if isfile(join('books_pdf/', name))]\n",
    "book_dict = dict.fromkeys(book_names)"
   ]
  },
  {
   "cell_type": "code",
   "execution_count": 237,
   "id": "da9b4e0e-86c1-4971-a2e1-d128e42c0990",
   "metadata": {},
   "outputs": [
    {
     "name": "stderr",
     "output_type": "stream",
     "text": [
      "100%|██████████████████████████████████████████████████████████████████████████████████| 28/28 [01:49<00:00,  3.90s/it]\n"
     ]
    }
   ],
   "source": [
    "for book in tqdm(book_names):\n",
    "    text = []\n",
    "    path = f'books_pdf/{book}'\n",
    "    reader = PdfReader(path)\n",
    "    for page in reader.pages:\n",
    "        text.append(page.extract_text())\n",
    "    book_dict[book] = text"
   ]
  },
  {
   "cell_type": "code",
   "execution_count": 243,
   "id": "cfd9dab6-3057-44bf-a9b3-593ebfd533f8",
   "metadata": {
    "tags": []
   },
   "outputs": [
    {
     "name": "stderr",
     "output_type": "stream",
     "text": [
      "100%|█████████████████████████████████████████████████████████████████████████████████| 27/27 [00:00<00:00, 318.65it/s]\n"
     ]
    }
   ],
   "source": [
    "all_texts = []\n",
    "for i in trange(len(book_names) - 1):\n",
    "    text = book_dict[book_names[i]]\n",
    "    book_text = ' '.join(text)\n",
    "    book_text = book_text.replace('\\xa0', ' ')\n",
    "    book_text = book_text.replace('\\n', '')\n",
    "    book_text = book_text.replace('■', ' ')\n",
    "    book_text = book_text.replace('•', ' ')\n",
    "    book_text = book_text.replace('*', '')\n",
    "    book_text = book_text.replace('|', '')\n",
    "    book_text = book_text.replace('^', '')\n",
    "    book_text = book_text.replace('\\xad', '')\n",
    "    book_text = book_text.replace('Ь', 'h')\n",
    "    book_text = book_text.replace('һ', 'h')\n",
    "    book_text = book_text.split('.')\n",
    "    book_text = [x for x in book_text if x != '' and x != ' ' and x != '  ']\n",
    "    # зачастую вначале и вконце сноски про редакторов, издательство. Убираем их\n",
    "    book_text = book_text[10:-30]\n",
    "    all_texts += book_text"
   ]
  },
  {
   "cell_type": "code",
   "execution_count": 244,
   "id": "7022a54a-cfd2-4095-bebd-5bd8c68b633f",
   "metadata": {},
   "outputs": [],
   "source": [
    "# в последней книжке сносок больше\n",
    "text = book_dict[book_names[i]]\n",
    "book_text = ' '.join(text)\n",
    "book_text = book_text.replace('\\xa0', ' ')\n",
    "book_text = book_text.replace('\\n', '')\n",
    "book_text = book_text.replace('■', ' ')\n",
    "book_text = book_text.replace('•', ' ')\n",
    "book_text = book_text.replace('*', '')\n",
    "book_text = book_text.replace('|', '')\n",
    "book_text = book_text.replace('^', '')\n",
    "book_text = book_text.replace('\\xad', '')\n",
    "book_text = book_text.replace('Ь', 'h')\n",
    "book_text = book_text.replace('һ', 'h')\n",
    "book_text = book_text.split('.')\n",
    "book_text = [x for x in book_text if x != '' and x != ' ' and x != '  ']\n",
    "book_text = book_text[30:-40]\n",
    "all_texts += book_text"
   ]
  },
  {
   "cell_type": "code",
   "execution_count": 245,
   "id": "b84c7b32-a6ab-426a-bbd9-aef4ce39f311",
   "metadata": {
    "tags": []
   },
   "outputs": [
    {
     "data": {
      "text/plain": [
       "51976"
      ]
     },
     "execution_count": 245,
     "metadata": {},
     "output_type": "execute_result"
    }
   ],
   "source": [
    "len(all_texts)"
   ]
  },
  {
   "cell_type": "markdown",
   "id": "ead3dd66-73a3-4f88-9d93-46c5d303af3e",
   "metadata": {},
   "source": [
    "Получили 51 тыс. предложений на бурятском языке."
   ]
  },
  {
   "cell_type": "code",
   "execution_count": 246,
   "id": "4052caeb-674c-4935-be4f-aec28d281e2e",
   "metadata": {},
   "outputs": [],
   "source": [
    "with open('bur_books.txt', 'w', encoding = 'utf-8') as f:\n",
    "    for string in all_texts:\n",
    "        f.write(\"%s\\n\" % string)"
   ]
  }
 ],
 "metadata": {
  "kernelspec": {
   "display_name": "Python 3 (ipykernel)",
   "language": "python",
   "name": "python3"
  },
  "language_info": {
   "codemirror_mode": {
    "name": "ipython",
    "version": 3
   },
   "file_extension": ".py",
   "mimetype": "text/x-python",
   "name": "python",
   "nbconvert_exporter": "python",
   "pygments_lexer": "ipython3",
   "version": "3.9.12"
  }
 },
 "nbformat": 4,
 "nbformat_minor": 5
}
