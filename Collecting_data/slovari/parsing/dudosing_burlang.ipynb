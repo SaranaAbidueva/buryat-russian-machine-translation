{
 "cells": [
  {
   "cell_type": "code",
   "execution_count": 48,
   "id": "af7b6b66-3a43-4dee-8dff-a8b9651274d6",
   "metadata": {},
   "outputs": [],
   "source": [
    "import requests\n",
    "from bs4 import BeautifulSoup\n",
    "import json\n",
    "from tqdm.auto import tqdm, trange\n",
    "import random\n",
    "import time"
   ]
  },
  {
   "cell_type": "code",
   "execution_count": 36,
   "id": "57f6f6e3-4a17-480b-b4df-9d66f34e7b1c",
   "metadata": {},
   "outputs": [],
   "source": [
    "with open('russian.txt', 'r', encoding = 'utf-8') as f:\n",
    "    russian_words = f.readlines()"
   ]
  },
  {
   "cell_type": "code",
   "execution_count": 37,
   "id": "88dc1178-9de5-4662-97c1-3f9f030b7697",
   "metadata": {},
   "outputs": [],
   "source": [
    "ru_words = []\n",
    "for word in russian_words:\n",
    "    ru_words.append(word.split('\\n')[0])"
   ]
  },
  {
   "cell_type": "code",
   "execution_count": 52,
   "id": "a391d9a2-e185-4fd9-b6a4-f2655953845c",
   "metadata": {},
   "outputs": [
    {
     "data": {
      "text/plain": [
       "'абазинец'"
      ]
     },
     "execution_count": 52,
     "metadata": {},
     "output_type": "execute_result"
    }
   ],
   "source": []
  },
  {
   "cell_type": "code",
   "execution_count": 93,
   "id": "95e238a7-8697-4f59-94aa-0318da08574f",
   "metadata": {},
   "outputs": [
    {
     "name": "stderr",
     "output_type": "stream",
     "text": [
      "100%|████████████████████████████████████████████████████████████████████████████| 10792/10792 [24:10<00:00,  7.44it/s]\n"
     ]
    }
   ],
   "source": [
    "bur_words = []\n",
    "rus_words = []\n",
    "i = 0\n",
    "for word in tqdm(ru_words[85873:]):\n",
    "    if i % 100 == 0:\n",
    "        time.sleep(random.randint(5, 10))\n",
    "    i += 1\n",
    "    try:\n",
    "        soup = BeautifulSoup(requests.get(f'https://burlang.ru/api/v1/russian-word/translate?q={word}').text)\n",
    "        message = json.loads(soup.find('p').text)['translations'][0]['value']\n",
    "        if message!= 'Слово не найдено':\n",
    "            rus_words.append(word)\n",
    "            bur_words.append(message)\n",
    "    except KeyError:\n",
    "        continue"
   ]
  },
  {
   "cell_type": "code",
   "execution_count": 94,
   "id": "d0c6a96c-9219-413f-ac2f-e1d563590d50",
   "metadata": {},
   "outputs": [
    {
     "name": "stdout",
     "output_type": "stream",
     "text": [
      "659\n"
     ]
    }
   ],
   "source": [
    "print(len(bur_words))"
   ]
  },
  {
   "cell_type": "code",
   "execution_count": 95,
   "id": "9abc37d4-4ee8-48a0-8b9f-88ab8d6b4ae0",
   "metadata": {},
   "outputs": [
    {
     "name": "stdout",
     "output_type": "stream",
     "text": [
      "659\n"
     ]
    }
   ],
   "source": [
    "print(len(rus_words))"
   ]
  },
  {
   "cell_type": "code",
   "execution_count": 96,
   "id": "beb1541e-cd6c-4cd3-833c-b24a33468a04",
   "metadata": {},
   "outputs": [],
   "source": [
    "with open('rus_burlang_7.txt', 'w', encoding='utf-8') as fp:\n",
    "    for item in rus_words:\n",
    "        fp.write(\"%s\\n\" % item)"
   ]
  },
  {
   "cell_type": "code",
   "execution_count": 97,
   "id": "3b7450fc-b483-4230-b7c3-eec78e319a4a",
   "metadata": {},
   "outputs": [],
   "source": [
    "with open('bur_burlang_7.txt', 'w', encoding='utf-8') as fp:\n",
    "    for item in bur_words:\n",
    "        fp.write(\"%s\\n\" % item)"
   ]
  },
  {
   "cell_type": "code",
   "execution_count": 1,
   "id": "842b8c4b-1d0e-4729-b0f0-2d0890951e8b",
   "metadata": {},
   "outputs": [],
   "source": [
    "rus_burlang = []\n",
    "bur_burlang = []\n",
    "for i in range(1,8):\n",
    "    with open(f'backup/rus_burlang_{i}.txt', 'r', encoding = 'utf-8') as f:\n",
    "        rus_burlang += f.readlines()\n",
    "    with open(f'backup/bur_burlang_{i}.txt', 'r', encoding = 'utf-8') as f:\n",
    "        bur_burlang += f.readlines()"
   ]
  },
  {
   "cell_type": "code",
   "execution_count": 2,
   "id": "9da41115-b3af-4af7-9068-d09f4b881397",
   "metadata": {},
   "outputs": [
    {
     "data": {
      "text/plain": [
       "(6494, 6494)"
      ]
     },
     "execution_count": 2,
     "metadata": {},
     "output_type": "execute_result"
    }
   ],
   "source": [
    "len(rus_burlang), len(bur_burlang)"
   ]
  },
  {
   "cell_type": "code",
   "execution_count": 124,
   "id": "2ee4f106-8347-4291-a517-accbc434d8a7",
   "metadata": {},
   "outputs": [],
   "source": [
    "extra_words_bur = []\n",
    "extra_words_rus = []\n",
    "for i, word in enumerate(bur_burlang):\n",
    "    words = word.split(',')\n",
    "    if len(words) > 1:\n",
    "        bur_burlang[i] = words[0]\n",
    "        extra_words_bur.append(words[1][1:])\n",
    "        extra_words_rus.append(rus_burlang[i])"
   ]
  },
  {
   "cell_type": "code",
   "execution_count": 125,
   "id": "d5fcd6b5-afdc-424d-981f-c92351773e6a",
   "metadata": {},
   "outputs": [
    {
     "data": {
      "text/plain": [
       "(291, 291)"
      ]
     },
     "execution_count": 125,
     "metadata": {},
     "output_type": "execute_result"
    }
   ],
   "source": [
    "len(extra_words_bur), len(extra_words_rus)"
   ]
  },
  {
   "cell_type": "code",
   "execution_count": 126,
   "id": "93438d90-c8fa-4833-bc64-04955f376ab0",
   "metadata": {},
   "outputs": [],
   "source": [
    "bur_burlang += extra_words_bur\n",
    "rus_burlang += extra_words_rus"
   ]
  },
  {
   "cell_type": "code",
   "execution_count": 127,
   "id": "63c1061d-584c-42c6-ae03-2058aff7ccae",
   "metadata": {},
   "outputs": [
    {
     "data": {
      "text/plain": [
       "(6785, 6785)"
      ]
     },
     "execution_count": 127,
     "metadata": {},
     "output_type": "execute_result"
    }
   ],
   "source": [
    "len(rus_burlang), len(bur_burlang)"
   ]
  },
  {
   "cell_type": "code",
   "execution_count": 128,
   "id": "389af9df-3537-40c6-acf6-5fdee8896b2e",
   "metadata": {},
   "outputs": [],
   "source": [
    "with open('bur_burlang.txt', 'w', encoding='utf-8') as fp:\n",
    "    for item in bur_burlang:\n",
    "        fp.write(\"%s\" % item)"
   ]
  },
  {
   "cell_type": "code",
   "execution_count": 129,
   "id": "2009b65e-d151-49bb-b200-5edaaae84cd4",
   "metadata": {},
   "outputs": [],
   "source": [
    "with open('rus_burlang.txt', 'w', encoding='utf-8') as fp:\n",
    "    for item in rus_burlang:\n",
    "        fp.write(\"%s\" % item)"
   ]
  },
  {
   "cell_type": "code",
   "execution_count": 134,
   "id": "59cf4ce4-8d11-4b38-9b02-2d200047f72f",
   "metadata": {},
   "outputs": [],
   "source": [
    "# extract all buryat words\n",
    "bur_burlang_words = []\n",
    "for line in bur_burlang:\n",
    "    bur_burlang_words += line.split()"
   ]
  },
  {
   "cell_type": "code",
   "execution_count": 135,
   "id": "4cacb19d-3487-478d-ae0a-bfdad37730f0",
   "metadata": {},
   "outputs": [
    {
     "data": {
      "text/plain": [
       "8130"
      ]
     },
     "execution_count": 135,
     "metadata": {},
     "output_type": "execute_result"
    }
   ],
   "source": [
    "len(bur_burlang_words)"
   ]
  },
  {
   "cell_type": "code",
   "execution_count": 139,
   "id": "4ff97f18-fdfb-47c3-82f2-d549c5295a3a",
   "metadata": {},
   "outputs": [],
   "source": [
    "with open('slovar_bur_1.txt', 'r', encoding = 'utf-8') as f:\n",
    "    bur_slovar = f.readlines()"
   ]
  },
  {
   "cell_type": "code",
   "execution_count": 140,
   "id": "d25981e7-fe90-4651-82c9-5c16f91724fd",
   "metadata": {},
   "outputs": [],
   "source": [
    "with open('slovar_rus_1.txt', 'r', encoding = 'utf-8') as f:\n",
    "    rus_slovar = f.readlines()"
   ]
  },
  {
   "cell_type": "code",
   "execution_count": 151,
   "id": "0ae95d9e-be4a-46b3-8d1e-6872a7f10fe5",
   "metadata": {},
   "outputs": [
    {
     "data": {
      "text/plain": [
       "21448"
      ]
     },
     "execution_count": 151,
     "metadata": {},
     "output_type": "execute_result"
    }
   ],
   "source": [
    "len(bur_slovar)"
   ]
  },
  {
   "cell_type": "code",
   "execution_count": 157,
   "id": "b49a68b7-cd11-4158-af09-928e8f7cd0d3",
   "metadata": {},
   "outputs": [],
   "source": [
    "bur_slova = ' '.join(bur_burlang_words)"
   ]
  },
  {
   "cell_type": "code",
   "execution_count": 158,
   "id": "6fb3a9fd-6d59-47f6-af7f-45804a0b35b3",
   "metadata": {},
   "outputs": [
    {
     "data": {
      "text/plain": [
       "'тобшолһон нэрэ абзац'"
      ]
     },
     "execution_count": 158,
     "metadata": {},
     "output_type": "execute_result"
    }
   ],
   "source": [
    "bur_slova[:20]"
   ]
  },
  {
   "cell_type": "code",
   "execution_count": 170,
   "id": "cbc1efe8-b34a-47f2-b807-2c1795b8007d",
   "metadata": {},
   "outputs": [],
   "source": [
    "indexes = []\n",
    "dop_words_bur = []\n",
    "dop_words_rus = []\n",
    "for i, word in enumerate(bur_slovar):\n",
    "    word = word[:-1]\n",
    "    if word not in bur_slova:\n",
    "        dop_words_bur.append(word)\n",
    "        dop_words_rus.append(rus_slovar[i])"
   ]
  },
  {
   "cell_type": "code",
   "execution_count": 171,
   "id": "734addc0-d2f0-4715-9670-27b7679f47c4",
   "metadata": {},
   "outputs": [
    {
     "data": {
      "text/plain": [
       "16659"
      ]
     },
     "execution_count": 171,
     "metadata": {},
     "output_type": "execute_result"
    }
   ],
   "source": [
    "len(dop_words_bur)"
   ]
  },
  {
   "cell_type": "code",
   "execution_count": 172,
   "id": "5e15ed7d-4b0c-437e-a75a-ad9623db6cc0",
   "metadata": {},
   "outputs": [],
   "source": [
    "with open('bur_dop.txt', 'w', encoding='utf-8') as fp:\n",
    "    for item in dop_words_bur:\n",
    "        fp.write(\"%s\\n\" % item)"
   ]
  },
  {
   "cell_type": "code",
   "execution_count": 173,
   "id": "fb4dee8e-c10b-4f1b-933a-c1b13b99ebf2",
   "metadata": {},
   "outputs": [],
   "source": [
    "with open('rus_dop.txt', 'w', encoding='utf-8') as fp:\n",
    "    for item in dop_words_rus:\n",
    "        fp.write(\"%s\" % item)"
   ]
  },
  {
   "cell_type": "markdown",
   "id": "849b7332-cde9-418e-9033-3697366fbe59",
   "metadata": {
    "jp-MarkdownHeadingCollapsed": true,
    "tags": []
   },
   "source": [
    "# это я в итоге не использую\n",
    "думала, что в burlang'e норм обработаны слова, но там много лишнего - сокращения, от какого слова произошло и проч"
   ]
  },
  {
   "cell_type": "code",
   "execution_count": 184,
   "id": "0ffd751b-1201-4004-9bc5-14a4b3475490",
   "metadata": {},
   "outputs": [
    {
     "name": "stderr",
     "output_type": "stream",
     "text": [
      "100%|████████████████████████████████████████████████████████████████████████████| 11747/11747 [25:36<00:00,  7.65it/s]\n"
     ]
    }
   ],
   "source": [
    "bur_words = []\n",
    "rus_words = []\n",
    "i = 0\n",
    "for word in tqdm(dop_words_bur[4912:]):\n",
    "    if i % 100 == 0:\n",
    "        time.sleep(random.randint(5, 10))\n",
    "    i += 1\n",
    "    try:\n",
    "        soup = BeautifulSoup(requests.get(f'https://burlang.ru/api/v1/buryat-word/translate?q={word}').text)\n",
    "        message = json.loads(soup.find('p').text)['translations'][0]['value']\n",
    "        if message!= 'Слово не найдено':\n",
    "            rus_words.append(message)\n",
    "            bur_words.append(word)\n",
    "    except KeyError:\n",
    "        continue"
   ]
  },
  {
   "cell_type": "code",
   "execution_count": 185,
   "id": "1fe6528b-bdda-4840-af88-ea0196d4a8aa",
   "metadata": {},
   "outputs": [
    {
     "data": {
      "text/plain": [
       "(3144, 3144)"
      ]
     },
     "execution_count": 185,
     "metadata": {},
     "output_type": "execute_result"
    }
   ],
   "source": [
    "len(bur_words), len(rus_words)"
   ]
  },
  {
   "cell_type": "code",
   "execution_count": 186,
   "id": "0514aa91-a591-4854-a97a-05ddacbfb8c2",
   "metadata": {},
   "outputs": [],
   "source": [
    "with open('bur_burlang_4.txt', 'w', encoding='utf-8') as fp:\n",
    "    for item in bur_words:\n",
    "        fp.write(\"%s\\n\" % item)"
   ]
  },
  {
   "cell_type": "code",
   "execution_count": 187,
   "id": "b1d1dfc9-3e1f-4e95-aa7c-3a2082d2dac1",
   "metadata": {},
   "outputs": [],
   "source": [
    "with open('rus_burlang_4.txt', 'w', encoding='utf-8') as fp:\n",
    "    for item in rus_words:\n",
    "        fp.write(\"%s\\n\" % item)"
   ]
  },
  {
   "cell_type": "code",
   "execution_count": 47,
   "id": "7c9ceee8-0ffc-49b9-b67a-535802c4c95f",
   "metadata": {},
   "outputs": [],
   "source": [
    "rus_burlang = []\n",
    "bur_burlang = []\n",
    "for i in range(2,5):\n",
    "    with open(f'rus_burlang_{i}.txt', 'r', encoding = 'utf-8') as f:\n",
    "        rus_burlang += f.readlines()\n",
    "    with open(f'bur_burlang_{i}.txt', 'r', encoding = 'utf-8') as f:\n",
    "        bur_burlang += f.readlines()"
   ]
  },
  {
   "cell_type": "code",
   "execution_count": 26,
   "id": "682c965c-13fb-49d9-9fde-02d3fe32507f",
   "metadata": {},
   "outputs": [
    {
     "data": {
      "text/plain": [
       "4653"
      ]
     },
     "execution_count": 26,
     "metadata": {},
     "output_type": "execute_result"
    }
   ],
   "source": [
    "len(bur_burlang)"
   ]
  },
  {
   "cell_type": "code",
   "execution_count": 4,
   "id": "1d030e1f-1bb4-47b8-88be-95157f645d9a",
   "metadata": {},
   "outputs": [],
   "source": [
    "with open(f'rus_burlang.txt', 'r', encoding = 'utf-8') as f:\n",
    "    rus_burlang += f.readlines()\n",
    "with open(f'bur_burlang.txt', 'r', encoding = 'utf-8') as f:\n",
    "    bur_burlang += f.readlines()"
   ]
  },
  {
   "cell_type": "code",
   "execution_count": 28,
   "id": "e342a218-3cb2-4e97-87c1-3672afd1efeb",
   "metadata": {},
   "outputs": [
    {
     "data": {
      "text/plain": [
       "11438"
      ]
     },
     "execution_count": 28,
     "metadata": {},
     "output_type": "execute_result"
    }
   ],
   "source": [
    "len(rus_burlang)"
   ]
  },
  {
   "cell_type": "code",
   "execution_count": 6,
   "id": "64dd95f7-15a3-4b0a-bf80-81d673a9bfb4",
   "metadata": {},
   "outputs": [],
   "source": [
    "with open('bur_burlang.txt', 'w', encoding='utf-8') as fp:\n",
    "    for item in bur_burlang:\n",
    "        fp.write(\"%s\" % item)"
   ]
  },
  {
   "cell_type": "code",
   "execution_count": 13,
   "id": "451eb787-3cad-40a2-8607-e9153ec293a5",
   "metadata": {},
   "outputs": [],
   "source": [
    "with open('rus_burlang.txt', 'w', encoding='utf-8') as fp:\n",
    "    for item in rus_burlang:\n",
    "        fp.write(\"%s\" % item)"
   ]
  },
  {
   "cell_type": "code",
   "execution_count": 48,
   "id": "665582cf-93e4-478d-b840-19c93d9f3be7",
   "metadata": {},
   "outputs": [],
   "source": [
    "with open(f'rus_burlang.txt', 'r', encoding = 'utf-8') as f:\n",
    "        rus_burlang += f.readlines()"
   ]
  },
  {
   "cell_type": "code",
   "execution_count": 49,
   "id": "f7301dc2-faf3-45fc-ab3f-1384d70a34ae",
   "metadata": {},
   "outputs": [],
   "source": [
    "for i, word in enumerate(rus_burlang):\n",
    "    word = word.split(';')[0].split(',')[0]\n",
    "    word = word.replace('1)', '')\n",
    "    word = word.replace('2)', '')\n",
    "    word = word.replace('1.', '')\n",
    "    word = word.replace('1', '')\n",
    "    word = word.replace('1 )', '')\n",
    "    rus_burlang[i] = word.strip() + '\\n'"
   ]
  },
  {
   "cell_type": "code",
   "execution_count": 50,
   "id": "aa18fa2c-437f-4c92-a99d-b4f1d715c964",
   "metadata": {},
   "outputs": [],
   "source": [
    "with open('rus_burlang.txt', 'w', encoding='utf-8') as fp:\n",
    "    for item in rus_burlang:\n",
    "        fp.write(\"%s\" % item)"
   ]
  },
  {
   "cell_type": "code",
   "execution_count": 51,
   "id": "79e48c78-3d26-4197-a170-5ab9632e1a5a",
   "metadata": {},
   "outputs": [
    {
     "data": {
      "text/plain": [
       "['неуклюжий\\n',\n",
       " 'еле-еле держаться (на ногах)\\n',\n",
       " 'запинаться\\n',\n",
       " 'делать зазубрины\\n',\n",
       " 'с зазубринами\\n',\n",
       " 'с зазубринами\\n',\n",
       " 'тихо\\n',\n",
       " 'тихий\\n',\n",
       " 'замедляться\\n',\n",
       " 'тихий\\n',\n",
       " 'есть (или пить) арсу\\n',\n",
       " 'арса (род творога)\\n',\n",
       " 'пыхтение\\n',\n",
       " 'шуметь\\n',\n",
       " 'взаиморасчёты\\n',\n",
       " 'спасение\\n',\n",
       " 'спасение\\n',\n",
       " 'взятие\\n',\n",
       " 'интенс. от абаха  мигом взять\\n',\n",
       " 'затруднение\\n']"
      ]
     },
     "execution_count": 51,
     "metadata": {},
     "output_type": "execute_result"
    }
   ],
   "source": [
    "rus_burlang[:20]"
   ]
  },
  {
   "cell_type": "code",
   "execution_count": null,
   "id": "7aeb8135-cff7-4e22-9f61-1a6abd84f232",
   "metadata": {},
   "outputs": [],
   "source": []
  }
 ],
 "metadata": {
  "kernelspec": {
   "display_name": "Python 3 (ipykernel)",
   "language": "python",
   "name": "python3"
  },
  "language_info": {
   "codemirror_mode": {
    "name": "ipython",
    "version": 3
   },
   "file_extension": ".py",
   "mimetype": "text/x-python",
   "name": "python",
   "nbconvert_exporter": "python",
   "pygments_lexer": "ipython3",
   "version": "3.9.12"
  }
 },
 "nbformat": 4,
 "nbformat_minor": 5
}
