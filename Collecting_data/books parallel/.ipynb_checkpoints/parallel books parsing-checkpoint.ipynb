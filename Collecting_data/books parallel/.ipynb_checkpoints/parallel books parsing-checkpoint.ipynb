{
 "cells": [
  {
   "cell_type": "code",
   "execution_count": 1,
   "id": "0d9656b5-1754-44a6-b284-4d81be94e608",
   "metadata": {},
   "outputs": [],
   "source": [
    "import pandas as pd"
   ]
  },
  {
   "cell_type": "code",
   "execution_count": 3,
   "id": "c29c076c-d7b8-4b12-a049-6e28b2a86d08",
   "metadata": {},
   "outputs": [
    {
     "name": "stdout",
     "output_type": "stream",
     "text": [
      "Collecting openpyxl\n",
      "  Downloading openpyxl-3.1.2-py2.py3-none-any.whl (249 kB)\n",
      "Collecting et-xmlfile\n",
      "  Downloading et_xmlfile-1.1.0-py3-none-any.whl (4.7 kB)\n",
      "Installing collected packages: et-xmlfile, openpyxl\n",
      "Successfully installed et-xmlfile-1.1.0 openpyxl-3.1.2\n"
     ]
    }
   ],
   "source": [
    "!pip install openpyxl"
   ]
  },
  {
   "cell_type": "code",
   "execution_count": 4,
   "id": "5b5a00fa-91e8-43c9-a239-f37c6d3e6370",
   "metadata": {},
   "outputs": [],
   "source": [
    "kapitan = pd.read_excel('капитанская_дочка_мят_слоб.xlsx')"
   ]
  },
  {
   "cell_type": "code",
   "execution_count": 6,
   "id": "388d5bb0-3f1c-44c6-b21d-82623cf70954",
   "metadata": {},
   "outputs": [
    {
     "data": {
      "text/html": [
       "<div>\n",
       "<style scoped>\n",
       "    .dataframe tbody tr th:only-of-type {\n",
       "        vertical-align: middle;\n",
       "    }\n",
       "\n",
       "    .dataframe tbody tr th {\n",
       "        vertical-align: top;\n",
       "    }\n",
       "\n",
       "    .dataframe thead th {\n",
       "        text-align: right;\n",
       "    }\n",
       "</style>\n",
       "<table border=\"1\" class=\"dataframe\">\n",
       "  <thead>\n",
       "    <tr style=\"text-align: right;\">\n",
       "      <th></th>\n",
       "      <th>bua</th>\n",
       "      <th>ru</th>\n",
       "      <th>Столбец1</th>\n",
       "    </tr>\n",
       "  </thead>\n",
       "  <tbody>\n",
       "    <tr>\n",
       "      <th>528</th>\n",
       "      <td>Би Савельичдээ, һайниие хүргэжэ, Зуринтай нэгэ...</td>\n",
       "      <td>Я благодарил Савельича и лег спать в одной ком...</td>\n",
       "      <td>1</td>\n",
       "    </tr>\n",
       "    <tr>\n",
       "      <th>921</th>\n",
       "      <td>Би эжы Марья Ивановна хоёртоо углууда орогты г...</td>\n",
       "      <td>Я молча дал знак матушке и Марье Ивановне удал...</td>\n",
       "      <td>1</td>\n",
       "    </tr>\n",
       "    <tr>\n",
       "      <th>466</th>\n",
       "      <td>— Һайн даа!</td>\n",
       "      <td>— Благодарен.</td>\n",
       "      <td>1</td>\n",
       "    </tr>\n",
       "    <tr>\n",
       "      <th>899</th>\n",
       "      <td>Тэдэнэр уулзаһанайгаа баярта дүүрэн эзэлэгдэбэ.</td>\n",
       "      <td>Они предались вполне радости свидания.</td>\n",
       "      <td>1</td>\n",
       "    </tr>\n",
       "    <tr>\n",
       "      <th>581</th>\n",
       "      <td>Нэгэ юумэн минии зүрхэ хадхаба.</td>\n",
       "      <td>Что-то кольнуло меня в сердце.</td>\n",
       "      <td>1</td>\n",
       "    </tr>\n",
       "  </tbody>\n",
       "</table>\n",
       "</div>"
      ],
      "text/plain": [
       "                                                   bua  \\\n",
       "528  Би Савельичдээ, һайниие хүргэжэ, Зуринтай нэгэ...   \n",
       "921  Би эжы Марья Ивановна хоёртоо углууда орогты г...   \n",
       "466                                        — Һайн даа!   \n",
       "899    Тэдэнэр уулзаһанайгаа баярта дүүрэн эзэлэгдэбэ.   \n",
       "581                    Нэгэ юумэн минии зүрхэ хадхаба.   \n",
       "\n",
       "                                                    ru  Столбец1  \n",
       "528  Я благодарил Савельича и лег спать в одной ком...         1  \n",
       "921  Я молча дал знак матушке и Марье Ивановне удал...         1  \n",
       "466                                      — Благодарен.         1  \n",
       "899             Они предались вполне радости свидания.         1  \n",
       "581                     Что-то кольнуло меня в сердце.         1  "
      ]
     },
     "execution_count": 6,
     "metadata": {},
     "output_type": "execute_result"
    }
   ],
   "source": [
    "kapitan.sample(5)"
   ]
  },
  {
   "cell_type": "code",
   "execution_count": null,
   "id": "7f691c5a-b801-4347-88f4-65be7dc5a268",
   "metadata": {},
   "outputs": [],
   "source": []
  }
 ],
 "metadata": {
  "kernelspec": {
   "display_name": "Python 3 (ipykernel)",
   "language": "python",
   "name": "python3"
  },
  "language_info": {
   "codemirror_mode": {
    "name": "ipython",
    "version": 3
   },
   "file_extension": ".py",
   "mimetype": "text/x-python",
   "name": "python",
   "nbconvert_exporter": "python",
   "pygments_lexer": "ipython3",
   "version": "3.9.12"
  }
 },
 "nbformat": 4,
 "nbformat_minor": 5
}
