{
 "cells": [
  {
   "cell_type": "code",
   "execution_count": 8,
   "id": "0d9656b5-1754-44a6-b284-4d81be94e608",
   "metadata": {},
   "outputs": [],
   "source": [
    "import pandas as pd"
   ]
  },
  {
   "cell_type": "code",
   "execution_count": 2,
   "id": "c29c076c-d7b8-4b12-a049-6e28b2a86d08",
   "metadata": {},
   "outputs": [
    {
     "name": "stdout",
     "output_type": "stream",
     "text": [
      "Requirement already satisfied: openpyxl in c:\\users\\admin\\miniconda3\\lib\\site-packages (3.1.2)\n",
      "Requirement already satisfied: et-xmlfile in c:\\users\\admin\\miniconda3\\lib\\site-packages (from openpyxl) (1.1.0)\n"
     ]
    }
   ],
   "source": [
    "!pip install openpyxl"
   ]
  },
  {
   "cell_type": "markdown",
   "id": "23487bda-1424-4727-abcd-025542b26648",
   "metadata": {
    "tags": []
   },
   "source": [
    "# Капитанская дочка"
   ]
  },
  {
   "cell_type": "code",
   "execution_count": 21,
   "id": "5b5a00fa-91e8-43c9-a239-f37c6d3e6370",
   "metadata": {},
   "outputs": [],
   "source": [
    "kapitan_1 = pd.read_excel('капитанская_дочка_мят_слоб.xlsx')"
   ]
  },
  {
   "cell_type": "code",
   "execution_count": 22,
   "id": "e635cf39-0121-4252-ae1c-72d8e9631456",
   "metadata": {
    "tags": []
   },
   "outputs": [],
   "source": [
    "kapitan_2 = pd.read_excel('капитанская_дочка_1_10.xlsx')"
   ]
  },
  {
   "cell_type": "code",
   "execution_count": 24,
   "id": "34fd1852-1d78-4ad1-9337-5cf44479f101",
   "metadata": {},
   "outputs": [],
   "source": [
    "kapitan = pd.concat([kapitan_2, kapitan_1])"
   ]
  },
  {
   "cell_type": "code",
   "execution_count": 25,
   "id": "388d5bb0-3f1c-44c6-b21d-82623cf70954",
   "metadata": {},
   "outputs": [
    {
     "data": {
      "text/html": [
       "<div>\n",
       "<style scoped>\n",
       "    .dataframe tbody tr th:only-of-type {\n",
       "        vertical-align: middle;\n",
       "    }\n",
       "\n",
       "    .dataframe tbody tr th {\n",
       "        vertical-align: top;\n",
       "    }\n",
       "\n",
       "    .dataframe thead th {\n",
       "        text-align: right;\n",
       "    }\n",
       "</style>\n",
       "<table border=\"1\" class=\"dataframe\">\n",
       "  <thead>\n",
       "    <tr style=\"text-align: right;\">\n",
       "      <th></th>\n",
       "      <th>bua</th>\n",
       "      <th>ru</th>\n",
       "      <th>Столбец1</th>\n",
       "    </tr>\n",
       "  </thead>\n",
       "  <tbody>\n",
       "    <tr>\n",
       "      <th>543</th>\n",
       "      <td>– «Дуулыш, Василиса Егоровна, – харюусана Иван...</td>\n",
       "      <td>- А слышь ты, Василиса Егоровна, - отвечал Ива...</td>\n",
       "      <td>1</td>\n",
       "    </tr>\n",
       "    <tr>\n",
       "      <th>1383</th>\n",
       "      <td>Би гэртээ ерэбэб.</td>\n",
       "      <td>Я пришел домой.</td>\n",
       "      <td>1</td>\n",
       "    </tr>\n",
       "    <tr>\n",
       "      <th>147</th>\n",
       "      <td>Би шамгүйгөөр город хүрэнгүй, зуурандаа хүлдэж...</td>\n",
       "      <td>Без тебя я не добрался бы до города и замерз б...</td>\n",
       "      <td>1</td>\n",
       "    </tr>\n",
       "    <tr>\n",
       "      <th>767</th>\n",
       "      <td>«Минии һанахада» – гэбэ, – «намай зохидшоодог ...</td>\n",
       "      <td>«Мне кажется» — сказала она, — «я думаю, что н...</td>\n",
       "      <td>1</td>\n",
       "    </tr>\n",
       "    <tr>\n",
       "      <th>1341</th>\n",
       "      <td>«Барышня амиды! – гэжэ Палаша харюусаба: Акули...</td>\n",
       "      <td>— «Она спрятана у Акулины Памфиловны».</td>\n",
       "      <td>1</td>\n",
       "    </tr>\n",
       "  </tbody>\n",
       "</table>\n",
       "</div>"
      ],
      "text/plain": [
       "                                                    bua  \\\n",
       "543   – «Дуулыш, Василиса Егоровна, – харюусана Иван...   \n",
       "1383                                  Би гэртээ ерэбэб.   \n",
       "147   Би шамгүйгөөр город хүрэнгүй, зуурандаа хүлдэж...   \n",
       "767   «Минии һанахада» – гэбэ, – «намай зохидшоодог ...   \n",
       "1341  «Барышня амиды! – гэжэ Палаша харюусаба: Акули...   \n",
       "\n",
       "                                                     ru  Столбец1  \n",
       "543   - А слышь ты, Василиса Егоровна, - отвечал Ива...         1  \n",
       "1383                                    Я пришел домой.         1  \n",
       "147   Без тебя я не добрался бы до города и замерз б...         1  \n",
       "767   «Мне кажется» — сказала она, — «я думаю, что н...         1  \n",
       "1341             — «Она спрятана у Акулины Памфиловны».         1  "
      ]
     },
     "execution_count": 25,
     "metadata": {},
     "output_type": "execute_result"
    }
   ],
   "source": [
    "kapitan.sample(5)"
   ]
  },
  {
   "cell_type": "code",
   "execution_count": 26,
   "id": "7f691c5a-b801-4347-88f4-65be7dc5a268",
   "metadata": {},
   "outputs": [
    {
     "data": {
      "text/plain": [
       "(23, 10)"
      ]
     },
     "execution_count": 26,
     "metadata": {},
     "output_type": "execute_result"
    }
   ],
   "source": [
    "kapitan['bua'].isna().sum(), kapitan['ru'].isna().sum()"
   ]
  },
  {
   "cell_type": "code",
   "execution_count": 27,
   "id": "da97edd4-e7b3-4d00-ba7b-f1ce325e2495",
   "metadata": {},
   "outputs": [
    {
     "data": {
      "text/plain": [
       "2870"
      ]
     },
     "execution_count": 27,
     "metadata": {},
     "output_type": "execute_result"
    }
   ],
   "source": [
    "len(kapitan)"
   ]
  },
  {
   "cell_type": "code",
   "execution_count": 43,
   "id": "a451bae1-84d7-4e21-b855-251999cf5af7",
   "metadata": {},
   "outputs": [
    {
     "data": {
      "text/plain": [
       "2842"
      ]
     },
     "execution_count": 43,
     "metadata": {},
     "output_type": "execute_result"
    }
   ],
   "source": [
    "kapitan = kapitan.dropna()\n",
    "len(kapitan)"
   ]
  },
  {
   "cell_type": "code",
   "execution_count": 31,
   "id": "926f786e-64e4-4515-ad94-9e6e654f54d8",
   "metadata": {},
   "outputs": [],
   "source": [
    "bur = list(kapitan[\"bua\"])\n",
    "rus = list(kapitan[\"ru\"])"
   ]
  },
  {
   "cell_type": "code",
   "execution_count": 35,
   "id": "e4129e04-8b00-4d31-94af-d64782a28027",
   "metadata": {},
   "outputs": [],
   "source": [
    "with open('bur_kapitanskaya.txt', 'w', encoding = 'utf-8') as f:\n",
    "    for line in bur:\n",
    "        f.write(\"%s\\n\" % line)"
   ]
  },
  {
   "cell_type": "code",
   "execution_count": 36,
   "id": "29a8d9f7-65f6-45a4-b088-cd89e13b5541",
   "metadata": {},
   "outputs": [],
   "source": [
    "with open('rus_kapitanskaya.txt', 'w', encoding = 'utf-8') as f:\n",
    "    for line in rus:\n",
    "        f.write(\"%s\\n\" % line)"
   ]
  },
  {
   "cell_type": "markdown",
   "id": "0be9d072-3bed-4144-9e99-8c7cbac8c277",
   "metadata": {
    "jp-MarkdownHeadingCollapsed": true,
    "tags": []
   },
   "source": [
    "# Заянай зам"
   ]
  },
  {
   "cell_type": "code",
   "execution_count": 37,
   "id": "e9ccf2a4-82b2-465c-995f-449eb9bb625c",
   "metadata": {},
   "outputs": [],
   "source": [
    "zayanay = pd.read_excel('заяанай_зам.xlsx')"
   ]
  },
  {
   "cell_type": "code",
   "execution_count": 38,
   "id": "a6bd8a58-6aa4-42c7-9da9-98457edf02ea",
   "metadata": {},
   "outputs": [
    {
     "data": {
      "text/html": [
       "<div>\n",
       "<style scoped>\n",
       "    .dataframe tbody tr th:only-of-type {\n",
       "        vertical-align: middle;\n",
       "    }\n",
       "\n",
       "    .dataframe tbody tr th {\n",
       "        vertical-align: top;\n",
       "    }\n",
       "\n",
       "    .dataframe thead th {\n",
       "        text-align: right;\n",
       "    }\n",
       "</style>\n",
       "<table border=\"1\" class=\"dataframe\">\n",
       "  <thead>\n",
       "    <tr style=\"text-align: right;\">\n",
       "      <th></th>\n",
       "      <th>bua</th>\n",
       "      <th>ru</th>\n",
       "    </tr>\n",
       "  </thead>\n",
       "  <tbody>\n",
       "    <tr>\n",
       "      <th>928</th>\n",
       "      <td>Мүнхэ үбгэн һанаагаа амаржа, сээжэ дүүрэн амил...</td>\n",
       "      <td>Мунко облегченно вздохнул, сел на трухлявый ст...</td>\n",
       "    </tr>\n",
       "    <tr>\n",
       "      <th>20</th>\n",
       "      <td>— Хари, Бадантай эртэхэн мордоо һэн.</td>\n",
       "      <td>NaN</td>\n",
       "    </tr>\n",
       "    <tr>\n",
       "      <th>970</th>\n",
       "      <td>— Хоёрдохёо хабарай найр дээрэ ушараа һэм.</td>\n",
       "      <td>NaN</td>\n",
       "    </tr>\n",
       "    <tr>\n",
       "      <th>849</th>\n",
       "      <td>Тэдэнэй дунда Түшэгүүндэ дурагүй надашаг хэдэн...</td>\n",
       "      <td>NaN</td>\n",
       "    </tr>\n",
       "  </tbody>\n",
       "</table>\n",
       "</div>"
      ],
      "text/plain": [
       "                                                   bua  \\\n",
       "928  Мүнхэ үбгэн һанаагаа амаржа, сээжэ дүүрэн амил...   \n",
       "20                — Хари, Бадантай эртэхэн мордоо һэн.   \n",
       "970         — Хоёрдохёо хабарай найр дээрэ ушараа һэм.   \n",
       "849  Тэдэнэй дунда Түшэгүүндэ дурагүй надашаг хэдэн...   \n",
       "\n",
       "                                                    ru  \n",
       "928  Мунко облегченно вздохнул, сел на трухлявый ст...  \n",
       "20                                                 NaN  \n",
       "970                                                NaN  \n",
       "849                                                NaN  "
      ]
     },
     "execution_count": 38,
     "metadata": {},
     "output_type": "execute_result"
    }
   ],
   "source": [
    "zayanay.sample(4)"
   ]
  },
  {
   "cell_type": "code",
   "execution_count": 39,
   "id": "b8fb3fa4-a208-43b4-9869-93dc760e5c9e",
   "metadata": {},
   "outputs": [
    {
     "data": {
      "text/plain": [
       "(382, 432)"
      ]
     },
     "execution_count": 39,
     "metadata": {},
     "output_type": "execute_result"
    }
   ],
   "source": [
    "zayanay['bua'].isna().sum(), zayanay['ru'].isna().sum()"
   ]
  },
  {
   "cell_type": "code",
   "execution_count": 40,
   "id": "2c7c5ffc-0a9d-4ac5-9743-c79baf21d14c",
   "metadata": {},
   "outputs": [
    {
     "data": {
      "text/plain": [
       "1857"
      ]
     },
     "execution_count": 40,
     "metadata": {},
     "output_type": "execute_result"
    }
   ],
   "source": [
    "len(zayanay)"
   ]
  },
  {
   "cell_type": "code",
   "execution_count": 41,
   "id": "157a9bf8-0a18-40c8-b927-9c76659139d8",
   "metadata": {},
   "outputs": [],
   "source": [
    "zayanay = zayanay.dropna()"
   ]
  },
  {
   "cell_type": "code",
   "execution_count": 42,
   "id": "4e8e4d6f-37f8-4b50-af13-9338200e5e2f",
   "metadata": {},
   "outputs": [
    {
     "data": {
      "text/plain": [
       "1052"
      ]
     },
     "execution_count": 42,
     "metadata": {},
     "output_type": "execute_result"
    }
   ],
   "source": [
    "len(zayanay)"
   ]
  },
  {
   "cell_type": "code",
   "execution_count": 44,
   "id": "8ec9a20f-af70-4617-845d-4036376b4093",
   "metadata": {},
   "outputs": [],
   "source": [
    "rus = list(zayanay[\"ru\"])\n",
    "bur = list(zayanay[\"bua\"])"
   ]
  },
  {
   "cell_type": "code",
   "execution_count": 45,
   "id": "5d25a166-8cfd-49da-b41e-c5a3c2dc60d8",
   "metadata": {},
   "outputs": [],
   "source": [
    "with open('bur_zayanay.txt', 'w', encoding = 'utf-8') as f:\n",
    "    for line in bur:\n",
    "        f.write(\"%s\\n\" % line)\n",
    "with open('rus_zayanay.txt', 'w', encoding = 'utf-8') as f:\n",
    "    for line in rus:\n",
    "        f.write(\"%s\\n\" % line)"
   ]
  },
  {
   "cell_type": "markdown",
   "id": "6c8fa65c-1fde-4bb4-bae3-404533b6ed19",
   "metadata": {
    "jp-MarkdownHeadingCollapsed": true,
    "tags": []
   },
   "source": [
    "# луна в затмении"
   ]
  },
  {
   "cell_type": "code",
   "execution_count": 46,
   "id": "6cd4b1be-5c6e-479b-b9ab-4bbca03f7df4",
   "metadata": {},
   "outputs": [],
   "source": [
    "luna = pd.read_excel('луна_в_затмении_1_3.xlsx')"
   ]
  },
  {
   "cell_type": "code",
   "execution_count": 47,
   "id": "723efa12-a4cb-460a-92e3-777a740bae6b",
   "metadata": {},
   "outputs": [
    {
     "data": {
      "text/plain": [
       "(60, 62)"
      ]
     },
     "execution_count": 47,
     "metadata": {},
     "output_type": "execute_result"
    }
   ],
   "source": [
    "luna['bua'].isna().sum(), luna['ru'].isna().sum()"
   ]
  },
  {
   "cell_type": "code",
   "execution_count": 48,
   "id": "5a52030e-4ce1-4279-8042-3d8950ac0229",
   "metadata": {},
   "outputs": [
    {
     "data": {
      "text/plain": [
       "918"
      ]
     },
     "execution_count": 48,
     "metadata": {},
     "output_type": "execute_result"
    }
   ],
   "source": [
    "len(luna)"
   ]
  },
  {
   "cell_type": "code",
   "execution_count": 49,
   "id": "8d365a62-17c5-4858-9f41-26edce49170f",
   "metadata": {},
   "outputs": [],
   "source": [
    "luna = luna.dropna()"
   ]
  },
  {
   "cell_type": "code",
   "execution_count": 50,
   "id": "c4866219-71e1-4cd5-82d4-561eceffe712",
   "metadata": {},
   "outputs": [
    {
     "data": {
      "text/plain": [
       "796"
      ]
     },
     "execution_count": 50,
     "metadata": {},
     "output_type": "execute_result"
    }
   ],
   "source": [
    "len(luna)"
   ]
  },
  {
   "cell_type": "code",
   "execution_count": 51,
   "id": "93b9ca1c-ad40-4a0c-ae4b-92bdfe75fdc0",
   "metadata": {},
   "outputs": [],
   "source": [
    "rus = list(luna[\"ru\"])\n",
    "bur = list(luna[\"bua\"])"
   ]
  },
  {
   "cell_type": "code",
   "execution_count": 52,
   "id": "4e936af6-4119-4bee-9d81-c03ac1e8d77d",
   "metadata": {},
   "outputs": [],
   "source": [
    "with open('bur_luna.txt', 'w', encoding = 'utf-8') as f:\n",
    "    for line in bur:\n",
    "        f.write(\"%s\\n\" % line)\n",
    "with open('rus_luna.txt', 'w', encoding = 'utf-8') as f:\n",
    "    for line in rus:\n",
    "        f.write(\"%s\\n\" % line)"
   ]
  },
  {
   "cell_type": "markdown",
   "id": "d6898209-c7a8-4487-92e3-a15896036ac5",
   "metadata": {
    "jp-MarkdownHeadingCollapsed": true,
    "tags": []
   },
   "source": [
    "# рассказы"
   ]
  },
  {
   "cell_type": "code",
   "execution_count": 53,
   "id": "4a4c7d24-005a-4a78-835d-99e25edf9f28",
   "metadata": {},
   "outputs": [
    {
     "name": "stdout",
     "output_type": "stream",
     "text": [
      "95 72\n",
      "729\n"
     ]
    }
   ],
   "source": [
    "rasskazy = pd.read_excel('рассказы_для_бур_вывеск.xlsx')\n",
    "print(rasskazy['bua'].isna().sum(), rasskazy['ru'].isna().sum())\n",
    "print(len(rasskazy))\n",
    "rasskazy = rasskazy.dropna()\n",
    "print(len(rasskazy))\n",
    "rus = list(rasskazy[\"ru\"])\n",
    "bur = list(rasskazy[\"bua\"])\n",
    "with open('bur_rasskazy.txt', 'w', encoding = 'utf-8') as f:\n",
    "    for line in bur:\n",
    "        f.write(\"%s\\n\" % line)\n",
    "with open('rus_rasskazy.txt', 'w', encoding = 'utf-8') as f:\n",
    "    for line in rus:\n",
    "        f.write(\"%s\\n\" % line)"
   ]
  },
  {
   "cell_type": "markdown",
   "id": "9ad377ad-cb07-428c-ab1f-791983faaa09",
   "metadata": {
    "jp-MarkdownHeadingCollapsed": true,
    "tags": []
   },
   "source": [
    "# Эрдынеев родословная"
   ]
  },
  {
   "cell_type": "code",
   "execution_count": 1,
   "id": "7f293a56-9143-432d-b001-2a603734c18d",
   "metadata": {},
   "outputs": [],
   "source": [
    "from PyPDF2 import PdfReader\n",
    "import re"
   ]
  },
  {
   "cell_type": "code",
   "execution_count": 2,
   "id": "45f8735b-a3ae-4c5e-9e13-690d227b620a",
   "metadata": {},
   "outputs": [],
   "source": [
    "from razdel import sentenize"
   ]
  },
  {
   "cell_type": "code",
   "execution_count": 131,
   "id": "fba8724d-1cf5-479f-a486-4b55eb2c1b41",
   "metadata": {},
   "outputs": [],
   "source": [
    "text = []\n",
    "path = \"ЭрдынеевДоржи_БольшаяРодословная_Глава1_НаРус.pdf\"\n",
    "reader = PdfReader(path)\n",
    "for page in reader.pages:\n",
    "    text.append(page.extract_text())\n",
    "text_str = ' '.join(text)\n",
    "sents = list(sentenize(text_str))\n",
    "ru_text = []\n",
    "for substr in sents:\n",
    "    ru_text.append(substr.text.replace('\\n', ''))"
   ]
  },
  {
   "cell_type": "code",
   "execution_count": 146,
   "id": "6e2a2c90-9e7a-4b5c-92ba-cd18f6c35cce",
   "metadata": {},
   "outputs": [],
   "source": [
    "text = []\n",
    "path = \"ЭрдынеевДоржи_ЕхэУг_Глава1_НаБур.pdf\"\n",
    "reader = PdfReader(path)\n",
    "for page in reader.pages:\n",
    "    text.append(page.extract_text())\n",
    "text_str = ' '.join(text)\n",
    "sents = list(sentenize(text_str))\n",
    "bur_text = []\n",
    "for substr in sents:\n",
    "    bur_text.append(substr.text.replace('\\n', ''))"
   ]
  },
  {
   "cell_type": "code",
   "execution_count": 149,
   "id": "26edda4c-3239-48a5-b77e-8b7c3b9a62c3",
   "metadata": {},
   "outputs": [
    {
     "data": {
      "text/plain": [
       "(550, 342)"
      ]
     },
     "execution_count": 149,
     "metadata": {},
     "output_type": "execute_result"
    }
   ],
   "source": [
    "len(ru_text), len(bur_text)"
   ]
  },
  {
   "cell_type": "markdown",
   "id": "2b5e8b7c-b359-4de2-8f26-74d7db1950d3",
   "metadata": {},
   "source": [
    "печалька((("
   ]
  },
  {
   "cell_type": "code",
   "execution_count": 148,
   "id": "0c74f2ba-6e4d-4152-badf-13a396304254",
   "metadata": {},
   "outputs": [],
   "source": [
    "with open('bur_erdyneev.txt', 'w', encoding = 'utf-8') as f:\n",
    "    for line in bur_text:\n",
    "        f.write(\"%s\\n\" % line)\n",
    "with open('rus_erdyneev.txt', 'w', encoding = 'utf-8') as f:\n",
    "    for line in rus_text:\n",
    "        f.write(\"%s\\n\" % line)"
   ]
  },
  {
   "cell_type": "markdown",
   "id": "9bbf0a5c-f27c-495e-b080-a17e830cc1f1",
   "metadata": {
    "jp-MarkdownHeadingCollapsed": true,
    "tags": []
   },
   "source": [
    "# Ангархаев вечный цвет"
   ]
  },
  {
   "cell_type": "code",
   "execution_count": 3,
   "id": "d6e38fa8-e6c9-42bb-865a-2c04d8f7940f",
   "metadata": {},
   "outputs": [],
   "source": [
    "text = []\n",
    "path = \"АнгархаевАЛ_ВечныйЦвет.pdf\"\n",
    "reader = PdfReader(path)\n",
    "for page in reader.pages:\n",
    "    text.append(page.extract_text())\n",
    "text_str = ' '.join(text)\n",
    "sents = list(sentenize(text_str))\n",
    "ru_text = []\n",
    "for substr in sents:\n",
    "    ru_text.append(substr.text.replace('\\n', ''))"
   ]
  },
  {
   "cell_type": "code",
   "execution_count": 4,
   "id": "3101a8fc-dd5c-4e31-b2b8-15ea6bd6eab0",
   "metadata": {},
   "outputs": [],
   "source": [
    "text = []\n",
    "path = \"АнгархаевАЛ_МунхэНогоонХасуури.pdf\"\n",
    "reader = PdfReader(path)\n",
    "for page in reader.pages:\n",
    "    text.append(page.extract_text())\n",
    "text_str = ' '.join(text)\n",
    "sents = list(sentenize(text_str))\n",
    "bur_text = []\n",
    "for substr in sents:\n",
    "    bur_text.append(substr.text.replace('\\n', ''))"
   ]
  },
  {
   "cell_type": "code",
   "execution_count": 5,
   "id": "139e7192-6ad4-4533-bdd2-09375a9043b6",
   "metadata": {},
   "outputs": [
    {
     "data": {
      "text/plain": [
       "(10056, 10162)"
      ]
     },
     "execution_count": 5,
     "metadata": {},
     "output_type": "execute_result"
    }
   ],
   "source": [
    "len(ru_text), len(bur_text)"
   ]
  },
  {
   "cell_type": "code",
   "execution_count": 6,
   "id": "6e1b3309-f7b6-42b9-b67b-05056c76c124",
   "metadata": {},
   "outputs": [],
   "source": [
    "with open('bur_angarhaev.txt', 'w', encoding = 'utf-8') as f:\n",
    "    for line in bur_text:\n",
    "        f.write(\"%s\\n\" % line)\n",
    "with open('rus_angarhaev.txt', 'w', encoding = 'utf-8') as f:\n",
    "    for line in ru_text:\n",
    "        f.write(\"%s\\n\" % line)"
   ]
  },
  {
   "cell_type": "markdown",
   "id": "bc564aa5-9d8e-404b-b774-9284c7161d01",
   "metadata": {},
   "source": [
    "# объединила ровно параллельные"
   ]
  },
  {
   "cell_type": "code",
   "execution_count": 15,
   "id": "82a83628-c749-44b9-84f5-68cae2013d2f",
   "metadata": {},
   "outputs": [
    {
     "name": "stdout",
     "output_type": "stream",
     "text": [
      "5253\n"
     ]
    }
   ],
   "source": [
    "kapitan_2 = pd.read_excel('капитанская_дочка_1_10.xlsx')\n",
    "kapitan_1 = pd.read_excel('капитанская_дочка_мят_слоб.xlsx')\n",
    "rasskazy = pd.read_excel('рассказы_для_бур_вывеск.xlsx')\n",
    "zayanay = pd.read_excel('заяанай_зам.xlsx')\n",
    "luna = pd.read_excel('луна_в_затмении_1_3.xlsx')\n",
    "kapitan_2 = kapitan_2.dropna()\n",
    "kapitan_1 = kapitan_1.dropna()\n",
    "rasskazy = rasskazy.dropna()\n",
    "zayanay = zayanay.dropna()\n",
    "luna = luna.dropna()\n",
    "total = pd.concat([kapitan_2, kapitan_1, rasskazy, zayanay, luna])\n",
    "print(len(total))\n",
    "rus = list(total[\"ru\"])\n",
    "bur = list(total[\"bua\"])\n",
    "with open('bur_knigi_parall.txt', 'w', encoding = 'utf-8') as f:\n",
    "    for line in bur:\n",
    "        f.write(\"%s\\n\" % line)\n",
    "with open('rus_knigi_parall.txt', 'w', encoding = 'utf-8') as f:\n",
    "    for line in rus:\n",
    "        f.write(\"%s\\n\" % line)"
   ]
  },
  {
   "cell_type": "code",
   "execution_count": null,
   "id": "2bfef905-c430-4609-8630-4769c2ceb4e6",
   "metadata": {},
   "outputs": [],
   "source": []
  }
 ],
 "metadata": {
  "kernelspec": {
   "display_name": "Python 3 (ipykernel)",
   "language": "python",
   "name": "python3"
  },
  "language_info": {
   "codemirror_mode": {
    "name": "ipython",
    "version": 3
   },
   "file_extension": ".py",
   "mimetype": "text/x-python",
   "name": "python",
   "nbconvert_exporter": "python",
   "pygments_lexer": "ipython3",
   "version": "3.9.12"
  }
 },
 "nbformat": 4,
 "nbformat_minor": 5
}
