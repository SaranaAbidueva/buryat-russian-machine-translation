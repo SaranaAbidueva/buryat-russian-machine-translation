{
 "cells": [
  {
   "cell_type": "code",
   "execution_count": 1,
   "id": "15b2fa53-e193-400c-8294-1f8e434c2f9f",
   "metadata": {},
   "outputs": [
    {
     "name": "stdout",
     "output_type": "stream",
     "text": [
      "Requirement already satisfied: PyPDF2 in c:\\users\\admin\\miniconda3\\lib\\site-packages (2.12.1)\n",
      "Requirement already satisfied: typing_extensions>=3.10.0.0 in c:\\users\\admin\\miniconda3\\lib\\site-packages (from PyPDF2) (4.4.0)\n"
     ]
    }
   ],
   "source": [
    "!pip install PyPDF2"
   ]
  },
  {
   "cell_type": "code",
   "execution_count": null,
   "id": "f4143399-29d3-4713-9953-5ab3c1df4dfd",
   "metadata": {},
   "outputs": [],
   "source": [
    "!pip install "
   ]
  },
  {
   "cell_type": "code",
   "execution_count": 57,
   "id": "06bcb783-d228-487e-96b1-85725a23ed43",
   "metadata": {},
   "outputs": [],
   "source": [
    "from bs4 import BeautifulSoup\n",
    "import re"
   ]
  },
  {
   "cell_type": "code",
   "execution_count": 82,
   "id": "63ff7c6d-e727-49b6-afe1-3b159e1065df",
   "metadata": {},
   "outputs": [],
   "source": [
    "from PyPDF2 import PdfReader\n",
    "\n",
    "\n",
    "reader = PdfReader(\"Нимбуев.pdf\")\n",
    "number_of_pages = len(reader.pages)"
   ]
  },
  {
   "cell_type": "code",
   "execution_count": 87,
   "id": "1e14fef7-6c3b-4ae5-9041-43211d59dacb",
   "metadata": {},
   "outputs": [],
   "source": [
    "def split_sentences(text):\n",
    "    split_text = [] \n",
    "    string = ''\n",
    "    for i in text:\n",
    "        string += i\n",
    "    string = string.replace('\\n', ' ')\n",
    "    string = string.replace('\\xa0', ' ')\n",
    "    reg = r'(?<=[\\.\\?\\!])'\n",
    "    reg = r'(?<=[\\.\\?\\!])(?!(»|“))'\n",
    "    new_lines = re.split(reg, string)\n",
    "    for line in new_lines:\n",
    "        if line is not None:\n",
    "            if re.findall(r'(\\w|[«„\\d])+', line)!=[]:\n",
    "                split_text.append(line.lstrip())\n",
    "    return split_text"
   ]
  },
  {
   "cell_type": "code",
   "execution_count": 92,
   "id": "2c65aaa9-c2b0-4bfe-ae79-b64a252d3b80",
   "metadata": {},
   "outputs": [
    {
     "name": "stdout",
     "output_type": "stream",
     "text": [
      "104\n"
     ]
    }
   ],
   "source": [
    "all_text = []\n",
    "bur_all = []\n",
    "rus_all = []\n",
    "j = 0\n",
    "for i in range(number_of_pages):\n",
    "    page = reader.pages[i]\n",
    "    text = page.extract_text()\n",
    "    # split_text = text.split('\\n')\n",
    "    split_text = split_sentences(text)\n",
    "    sentence_number = len(split_text)\n",
    "    all_text += split_text\n",
    "    if sentence_number % 2 == 0:\n",
    "        bur = split_text[:sentence_number//2]\n",
    "        rus = split_text[sentence_number//2:]\n",
    "        bur_all += bur\n",
    "        rus_all += rus\n",
    "        all_text += split_text\n",
    "    else:\n",
    "        j += 1\n",
    "print(j)"
   ]
  },
  {
   "cell_type": "code",
   "execution_count": 78,
   "id": "06ca18c3-30d3-45f5-8547-b34b2f2bcf18",
   "metadata": {},
   "outputs": [],
   "source": [
    "page = reader.pages[11]\n",
    "text = page.extract_text()\n",
    "# split_text = text.split('\\n')\n",
    "split_text = split_sentences(text)\n",
    "row_cnt = len(split_text)\n",
    "all_text.append(split_text)\n",
    "if row_cnt % 2 == 0:\n",
    "    bur = split_text[:row_cnt//2]\n",
    "    rus = split_text[row_cnt//2:]\n",
    "    bur_all.append(bur)\n",
    "    rus_all.append(rus)\n",
    "    all_text.append(split_text)\n",
    "else:\n",
    "    print(' skip')"
   ]
  },
  {
   "cell_type": "code",
   "execution_count": null,
   "id": "2bcba766-f11c-4bde-b4af-b31de81f27cf",
   "metadata": {},
   "outputs": [],
   "source": []
  },
  {
   "cell_type": "code",
   "execution_count": 79,
   "id": "beda82f0-96a7-4a17-a4d2-246b44857174",
   "metadata": {},
   "outputs": [
    {
     "data": {
      "text/plain": [
       "['20 21 нЮУр Инагаймни нюурынь — хитүү сэдьхэлэйнь дэлгэсэ.',\n",
       " 'Голой адаг руу мэтэ нюуса абьяас шуналынь тэгүүлнэ иишэ шэнээр һалбарха үнжэгэн хаһаяа угтахаяа.',\n",
       " 'Тэрэ минии альган доро угаа хөөрхэн, түрүүшын мэдэрэлдэ абтан, дуранай дүлөөр сорьёлно урдаһаам, далай мэтэ таамагхан гэрэлээр мэлмэрнэ, уһанда шэнгэһэн хоёр одые оёортоо бөөмэйлэн.',\n",
       " 'лИЦО Лицо моей милой — экран ее робкой души.',\n",
       " 'Как к устью, бегут сюда тайные страсти, чтоб встретить здесь нежную пору     цветенья.',\n",
       " 'Оно под ладонью моейюнои так трепетно ново, любовным теплом отвечая на ласки, как море,мерцает загадочным светом,качая на дне две туманных утопших звезды.']"
      ]
     },
     "execution_count": 79,
     "metadata": {},
     "output_type": "execute_result"
    }
   ],
   "source": [
    "split_text"
   ]
  },
  {
   "cell_type": "code",
   "execution_count": 7,
   "id": "0bc9833a-9153-4eb8-8c62-3fc2914529c2",
   "metadata": {},
   "outputs": [],
   "source": [
    "all_text = []\n",
    "for i in range(number_of_pages):\n",
    "    page = reader.pages[i]\n",
    "    text = page.extract_text()\n",
    "    all_text.append(text)"
   ]
  },
  {
   "cell_type": "code",
   "execution_count": null,
   "id": "addd6a48-8535-4226-9d06-802d4e6cf96a",
   "metadata": {},
   "outputs": [],
   "source": [
    "#read the PDF\n",
    "pdf = pdfquery.PDFQuery('Нимбуев.pdf')\n",
    "pdf.load()\n",
    "\n",
    "\n",
    "#convert the pdf to XML\n",
    "pdf.tree.write('Нимбуев.xml', pretty_print = True)\n",
    "pdf"
   ]
  },
  {
   "cell_type": "code",
   "execution_count": 107,
   "id": "8319ace2-7da1-4cea-9b8c-210a9a93a51b",
   "metadata": {},
   "outputs": [],
   "source": [
    "def fonts(doc, granularity=False):\n",
    "    \"\"\"Extracts fonts and their usage in PDF documents.\n",
    "    :param doc: PDF document to iterate through\n",
    "    :type doc: <class 'fitz.fitz.Document'>\n",
    "    :param granularity: also use 'font', 'flags' and 'color' to discriminate text\n",
    "    :type granularity: bool\n",
    "    :rtype: [(font_size, count), (font_size, count}], dict\n",
    "    :return: most used fonts sorted by count, font style information\n",
    "    \"\"\"\n",
    "    styles = {}\n",
    "    font_counts = {}\n",
    "\n",
    "    for page in doc:\n",
    "        blocks = page.get_text(\"dict\")[\"blocks\"]\n",
    "        for b in blocks:  # iterate through the text blocks\n",
    "            if b['type'] == 0:  # block contains text\n",
    "                for l in b[\"lines\"]:  # iterate through the text lines\n",
    "                    for s in l[\"spans\"]:  # iterate through the text spans\n",
    "                        if granularity:\n",
    "                            identifier = \"{0}_{1}_{2}_{3}\".format(s['size'], s['flags'], s['font'], s['color'])\n",
    "                            styles[identifier] = {'size': s['size'], 'flags': s['flags'], 'font': s['font'],\n",
    "                                                  'color': s['color']}\n",
    "                        else:\n",
    "                            identifier = \"{0}\".format(s['size'])\n",
    "                            styles[identifier] = {'size': s['size'], 'font': s['font']}\n",
    "\n",
    "                        font_counts[identifier] = font_counts.get(identifier, 0) + 1  # count the fonts usage\n",
    "\n",
    "    font_counts = sorted(font_counts.items(), key=itemgetter(1), reverse=True)\n",
    "\n",
    "    if len(font_counts) < 1:\n",
    "        raise ValueError(\"Zero discriminating fonts found!\")\n",
    "\n",
    "    return font_counts, styles"
   ]
  },
  {
   "cell_type": "code",
   "execution_count": 99,
   "id": "e8137dad-e1f1-4224-a1bb-8d5b37214194",
   "metadata": {},
   "outputs": [
    {
     "name": "stdout",
     "output_type": "stream",
     "text": [
      "Collecting pymupdf\n",
      "  Downloading PyMuPDF-1.21.1-cp39-cp39-win_amd64.whl (11.7 MB)\n",
      "Installing collected packages: pymupdf\n",
      "Successfully installed pymupdf-1.21.1\n"
     ]
    }
   ],
   "source": [
    "!pip install pymupdf"
   ]
  },
  {
   "cell_type": "code",
   "execution_count": 109,
   "id": "e468f1b4-aa0e-4a79-89f9-907ea12e0af3",
   "metadata": {},
   "outputs": [],
   "source": [
    "from operator import itemgetter"
   ]
  },
  {
   "cell_type": "code",
   "execution_count": 100,
   "id": "9918d722-4483-4b41-a59c-3af0f2bef3df",
   "metadata": {},
   "outputs": [],
   "source": [
    "import fitz"
   ]
  },
  {
   "cell_type": "code",
   "execution_count": 101,
   "id": "7e67d2e0-ce40-4153-9310-1a3fd7c2f906",
   "metadata": {},
   "outputs": [],
   "source": [
    "doc = fitz.open(\"Нимбуев.pdf\") "
   ]
  },
  {
   "cell_type": "code",
   "execution_count": 110,
   "id": "60fc36da-eba8-4748-b3e2-1bc65db30f2f",
   "metadata": {},
   "outputs": [],
   "source": [
    "font_counts, styles = fonts(doc, granularity=False)"
   ]
  },
  {
   "cell_type": "code",
   "execution_count": 111,
   "id": "440583cb-e283-4134-9ee1-0e9c31fd93df",
   "metadata": {},
   "outputs": [
    {
     "data": {
      "text/plain": [
       "[('9.353074073791504', 11737),\n",
       " ('8.313843727111816', 921),\n",
       " ('7.0', 538),\n",
       " ('5.196152210235596', 432),\n",
       " ('6.858921051025391', 289),\n",
       " ('11.431535720825195', 25),\n",
       " ('12.470766067504883', 16),\n",
       " ('5.452861785888672', 13),\n",
       " ('6.235383033752441', 4),\n",
       " ('3.99873948097229', 1)]"
      ]
     },
     "execution_count": 111,
     "metadata": {},
     "output_type": "execute_result"
    }
   ],
   "source": [
    "font_counts"
   ]
  },
  {
   "cell_type": "code",
   "execution_count": 112,
   "id": "7fb71846-76d9-41b1-8bf7-8d02fc419073",
   "metadata": {},
   "outputs": [
    {
     "data": {
      "text/plain": [
       "{'12.470766067504883': {'size': 12.470766067504883,\n",
       "  'font': 'NewsGothicBdBT-Reg'},\n",
       " '8.313843727111816': {'size': 8.313843727111816,\n",
       "  'font': 'NewsGothicDmBT-Reg'},\n",
       " '9.353074073791504': {'size': 9.353074073791504, 'font': 'NewsGothicBT-Reg'},\n",
       " '6.858921051025391': {'size': 6.858921051025391, 'font': 'NewsGothicBT-Reg'},\n",
       " '6.235383033752441': {'size': 6.235383033752441,\n",
       "  'font': 'NewsGothicLtBT-Reg'},\n",
       " '7.0': {'size': 7.0, 'font': 'NewsGothicLtBT-Reg'},\n",
       " '5.452861785888672': {'size': 5.452861785888672, 'font': 'NewsGothicBT-Reg'},\n",
       " '11.431535720825195': {'size': 11.431535720825195,\n",
       "  'font': 'NewsGothicBT-Reg'},\n",
       " '5.196152210235596': {'size': 5.196152210235596, 'font': 'NewsGothicBT-Reg'},\n",
       " '3.99873948097229': {'size': 3.99873948097229, 'font': 'NewsGothicBT-Reg'}}"
      ]
     },
     "execution_count": 112,
     "metadata": {},
     "output_type": "execute_result"
    }
   ],
   "source": [
    "styles"
   ]
  },
  {
   "cell_type": "code",
   "execution_count": 114,
   "id": "68c29bf6-a470-403f-9952-27855a89d845",
   "metadata": {},
   "outputs": [],
   "source": [
    "def font_tags(font_counts, styles):\n",
    "    \"\"\"Returns dictionary with font sizes as keys and tags as value.\n",
    "    :param font_counts: (font_size, count) for all fonts occuring in document\n",
    "    :type font_counts: list\n",
    "    :param styles: all styles found in the document\n",
    "    :type styles: dict\n",
    "    :rtype: dict\n",
    "    :return: all element tags based on font-sizes\n",
    "    \"\"\"\n",
    "    p_style = styles[font_counts[0][0]]  # get style for most used font by count (paragraph)\n",
    "    p_size = p_style['size']  # get the paragraph's size\n",
    "\n",
    "    # sorting the font sizes high to low, so that we can append the right integer to each tag \n",
    "    font_sizes = []\n",
    "    for (font_size, count) in font_counts:\n",
    "        font_sizes.append(float(font_size))\n",
    "    font_sizes.sort(reverse=True)\n",
    "\n",
    "    # aggregating the tags for each font size\n",
    "    idx = 0\n",
    "    size_tag = {}\n",
    "    for size in font_sizes:\n",
    "        idx += 1\n",
    "        if size == p_size:\n",
    "            idx = 0\n",
    "            size_tag[size] = '<p>'\n",
    "        if size > p_size:\n",
    "            size_tag[size] = '<h{0}>'.format(idx)\n",
    "        elif size < p_size:\n",
    "            size_tag[size] = '<s{0}>'.format(idx)\n",
    "\n",
    "    return size_tag"
   ]
  },
  {
   "cell_type": "code",
   "execution_count": 115,
   "id": "7726360e-2b89-4c73-8fa5-3e495e2b78fc",
   "metadata": {},
   "outputs": [],
   "source": [
    "size_tag = font_tags(font_counts, styles)"
   ]
  },
  {
   "cell_type": "code",
   "execution_count": 146,
   "id": "57407bd2-5c90-44dd-ab9b-3cf31e9e1224",
   "metadata": {},
   "outputs": [],
   "source": [
    "def headers_para(doc, size_tag):\n",
    "    \"\"\"Scrapes headers & paragraphs from PDF and return texts with element tags.\n",
    "    :param doc: PDF document to iterate through\n",
    "    :type doc: <class 'fitz.fitz.Document'>\n",
    "    :param size_tag: textual element tags for each size\n",
    "    :type size_tag: dict\n",
    "    :rtype: list\n",
    "    :return: texts with pre-prended element tags\n",
    "    \"\"\"\n",
    "    header_para = []  # list with headers and paragraphs\n",
    "    first = True  # boolean operator for first header\n",
    "    previous_s = {}  # previous span\n",
    "\n",
    "    for page in doc:\n",
    "        blocks = page.get_text(\"dict\")[\"blocks\"]\n",
    "        for b in blocks:  # iterate through the text blocks\n",
    "            if b['type'] == 0:  # this block contains text\n",
    "\n",
    "                # REMEMBER: multiple fonts and sizes are possible IN one block\n",
    "\n",
    "                block_string = \"\"  # text found in block\n",
    "                for l in b[\"lines\"]:  # iterate through the text lines\n",
    "                    for s in l[\"spans\"]:  # iterate through the text spans\n",
    "                        if s['text'].strip():  # removing whitespaces:\n",
    "                            if first:\n",
    "                                previous_s = s\n",
    "                                first = False\n",
    "                                block_string = size_tag[s['size']] + s['text']\n",
    "                            else:\n",
    "                                if s['size'] == previous_s['size']:\n",
    "\n",
    "                                    if block_string and all((c == \"|\") for c in block_string):\n",
    "                                        # block_string only contains pipes\n",
    "                                        block_string = size_tag[s['size']] + s['text']\n",
    "                                    if block_string == \"\":\n",
    "                                        # new block has started, so append size tag\n",
    "                                        block_string = size_tag[s['size']] + s['text']\n",
    "                                    else:  # in the same block, so concatenate strings\n",
    "                                        block_string += \" \" + s['text']\n",
    "\n",
    "                                else:\n",
    "                                    header_para.append(block_string)\n",
    "                                    block_string = size_tag[s['size']] + s['text']\n",
    "\n",
    "                                previous_s = s\n",
    "\n",
    "                    # new block started, indicating with a pipe\n",
    "                    \n",
    "\n",
    "                header_para.append(block_string)\n",
    "\n",
    "    return header_para"
   ]
  },
  {
   "cell_type": "code",
   "execution_count": 126,
   "id": "5be00578-2cf9-4058-a372-d8e3bafdf00a",
   "metadata": {},
   "outputs": [
    {
     "data": {
      "text/plain": [
       "{12.470766067504883: '<h1>',\n",
       " 11.431535720825195: '<h2>',\n",
       " 9.353074073791504: '<p>',\n",
       " 8.313843727111816: '<s1>',\n",
       " 7.0: '<s2>',\n",
       " 6.858921051025391: '<s3>',\n",
       " 6.235383033752441: '<s4>',\n",
       " 5.452861785888672: '<s5>',\n",
       " 5.196152210235596: '<s6>',\n",
       " 3.99873948097229: '<s7>'}"
      ]
     },
     "execution_count": 126,
     "metadata": {},
     "output_type": "execute_result"
    }
   ],
   "source": [
    "size_tag"
   ]
  },
  {
   "cell_type": "code",
   "execution_count": 147,
   "id": "3e200078-6e6a-4a1d-88b2-721dd45d80f6",
   "metadata": {},
   "outputs": [],
   "source": [
    "headers_paragraphs = headers_para(doc, size_tag)"
   ]
  },
  {
   "cell_type": "code",
   "execution_count": 205,
   "id": "9182b2b9-320b-468f-96c8-654d0b219929",
   "metadata": {},
   "outputs": [],
   "source": [
    "text = []\n",
    "for line in headers_paragraphs:\n",
    "    if line[:3] == '<p>':\n",
    "        text.append(line[3:])\n",
    "    elif line[:4] == '<s2>':\n",
    "        text.append(line)"
   ]
  },
  {
   "cell_type": "code",
   "execution_count": 215,
   "id": "9f76f5b1-18a3-4672-9549-e22435e7d583",
   "metadata": {},
   "outputs": [
    {
     "data": {
      "text/plain": [
       "['* * *',\n",
       " 'Би тэнгэридэл хүмэрихэб, ши далайдал халбайхаш, сэнхир аласай хаяада золгохобди хэтэдээ…',\n",
       " 'Би шинии гэрэлдэ шэнгэхэб, таалалдахабди забһаргүй, дундуурнай тииһээр тамарха үүлэд ба онгосонууд!',\n",
       " '* * *',\n",
       " 'Я опрокинусь небом, ты разольешься морем, мы засинеем вместе горизонтом вдали…',\n",
       " 'Буду в\\xa0тебе отражаться, будем с\\xa0тобой целоваться, и поплывут между нами белые корабли!',\n",
       " '* * *']"
      ]
     },
     "execution_count": 215,
     "metadata": {},
     "output_type": "execute_result"
    }
   ],
   "source": [
    "text[45:52]"
   ]
  },
  {
   "cell_type": "code",
   "execution_count": 206,
   "id": "a4551ab3-3c21-4977-8e50-db522193110b",
   "metadata": {},
   "outputs": [],
   "source": [
    "def split_text(text):\n",
    "    i = 0\n",
    "    all_text = []\n",
    "    while i < len(text) - 1:\n",
    "        j = 0\n",
    "        page = []\n",
    "        while text[i+j][:4] != '<s2>' and i + j < len(text) - 1:\n",
    "            sentences = split_sentences(text[i+j])\n",
    "            page += sentences\n",
    "            j += 1\n",
    "        if page:\n",
    "            all_text.append(page)    \n",
    "        i += j + 1\n",
    "    return all_text"
   ]
  },
  {
   "cell_type": "code",
   "execution_count": 219,
   "id": "a2af5c3c-5792-47ce-b43d-b034145a6eec",
   "metadata": {},
   "outputs": [],
   "source": [
    "poems = split_text(text[45:])"
   ]
  },
  {
   "cell_type": "code",
   "execution_count": 222,
   "id": "a395f73e-44b5-4a10-add1-39c273cb975f",
   "metadata": {},
   "outputs": [],
   "source": [
    "bur = []\n",
    "rus = []\n",
    "for poem in poems:\n",
    "    l = len(poem)\n",
    "    if l % 2 == 0:\n",
    "        bur += poem[:l//2]\n",
    "        rus += poem[l//2:]"
   ]
  },
  {
   "cell_type": "code",
   "execution_count": 226,
   "id": "44c646c8-c764-4548-80a9-c61fc3a56ce3",
   "metadata": {},
   "outputs": [],
   "source": [
    "with open('bur_nimbuev.txt', 'w', encoding='utf-8') as fp:\n",
    "    for item in bur:\n",
    "        fp.write(\"%s\\n\" % item)"
   ]
  },
  {
   "cell_type": "code",
   "execution_count": 227,
   "id": "b82586e7-3c32-4713-b83d-2d038ec4e396",
   "metadata": {},
   "outputs": [],
   "source": [
    "with open('rus_nimbuev.txt', 'w', encoding='utf-8') as fp:\n",
    "    for item in rus:\n",
    "        fp.write(\"%s\\n\" % item)"
   ]
  },
  {
   "cell_type": "code",
   "execution_count": null,
   "id": "958bfec6-7a97-4c59-8f5c-1ee5da396c11",
   "metadata": {},
   "outputs": [],
   "source": []
  }
 ],
 "metadata": {
  "kernelspec": {
   "display_name": "Python 3 (ipykernel)",
   "language": "python",
   "name": "python3"
  },
  "language_info": {
   "codemirror_mode": {
    "name": "ipython",
    "version": 3
   },
   "file_extension": ".py",
   "mimetype": "text/x-python",
   "name": "python",
   "nbconvert_exporter": "python",
   "pygments_lexer": "ipython3",
   "version": "3.9.12"
  }
 },
 "nbformat": 4,
 "nbformat_minor": 5
}
