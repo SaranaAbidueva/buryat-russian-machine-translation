{
 "cells": [
  {
   "cell_type": "code",
   "execution_count": 7,
   "id": "c2f18ff1-fd75-42e6-a205-9ad6359bb4d8",
   "metadata": {},
   "outputs": [
    {
     "ename": "SyntaxError",
     "evalue": "invalid syntax (simple.py, line 54)",
     "output_type": "error",
     "traceback": [
      "Traceback \u001b[1;36m(most recent call last)\u001b[0m:\n",
      "\u001b[0m  File \u001b[0;32m~\\miniconda3\\lib\\site-packages\\IPython\\core\\interactiveshell.py:3433\u001b[0m in \u001b[0;35mrun_code\u001b[0m\n    exec(code_obj, self.user_global_ns, self.user_ns)\u001b[0m\n",
      "\u001b[0m  Cell \u001b[0;32mIn [7], line 1\u001b[0m\n    from kafka import KafkaProducer\u001b[0m\n",
      "\u001b[0m  File \u001b[0;32m~\\miniconda3\\lib\\site-packages\\kafka\\__init__.py:23\u001b[0m\n    from kafka.producer import KafkaProducer\u001b[0m\n",
      "\u001b[1;36m  File \u001b[1;32m~\\miniconda3\\lib\\site-packages\\kafka\\producer\\__init__.py:4\u001b[1;36m\n\u001b[1;33m    from .simple import SimpleProducer\u001b[1;36m\n",
      "\u001b[1;36m  File \u001b[1;32m~\\miniconda3\\lib\\site-packages\\kafka\\producer\\simple.py:54\u001b[1;36m\u001b[0m\n\u001b[1;33m    return '<SimpleProducer batch=%s>' % self.async\u001b[0m\n\u001b[1;37m                                              ^\u001b[0m\n\u001b[1;31mSyntaxError\u001b[0m\u001b[1;31m:\u001b[0m invalid syntax\n"
     ]
    }
   ],
   "source": [
    "from kafka import KafkaProducer\n",
    "import json\n",
    "\n",
    "# создаем экземпляр KafkaProducer\n",
    "producer = KafkaProducer(bootstrap_servers=['localhost:9092'],\n",
    "                         value_serializer=lambda x: json.dumps(x).encode('utf-8'))\n",
    "\n",
    "# словарь, который мы хотим отправить\n",
    "my_dict = {'key1': 'value1', 'key2': 'value2'}\n",
    "\n",
    "# отправляем словарь через Kafka\n",
    "producer.send('my_topic', my_dict)"
   ]
  },
  {
   "cell_type": "code",
   "execution_count": 6,
   "id": "e7e9ecd1-74fc-4311-88d4-83d6955045dc",
   "metadata": {},
   "outputs": [
    {
     "ename": "SyntaxError",
     "evalue": "invalid syntax (1234271410.py, line 6)",
     "output_type": "error",
     "traceback": [
      "\u001b[1;36m  Cell \u001b[1;32mIn [6], line 6\u001b[1;36m\u001b[0m\n\u001b[1;33m    return '<SimpleProducer batch={}>'.format(self.async)\u001b[0m\n\u001b[1;37m                                                   ^\u001b[0m\n\u001b[1;31mSyntaxError\u001b[0m\u001b[1;31m:\u001b[0m invalid syntax\n"
     ]
    }
   ],
   "source": [
    "class SimpleProducer(Producer):\n",
    "    def __init__(self, *args, **kwargs):\n",
    "        super(SimpleProducer, self).__init__(*args, **kwargs)\n",
    "\n",
    "    def __repr__(self):\n",
    "        return '<SimpleProducer batch={}>'.format(self.async)"
   ]
  },
  {
   "cell_type": "code",
   "execution_count": 2,
   "id": "ae174694-00b5-4df4-8485-99e266eecee2",
   "metadata": {},
   "outputs": [
    {
     "name": "stdout",
     "output_type": "stream",
     "text": [
      "Collecting kafka\n",
      "  Downloading kafka-1.3.5-py2.py3-none-any.whl (207 kB)\n",
      "Installing collected packages: kafka\n",
      "Successfully installed kafka-1.3.5\n"
     ]
    }
   ],
   "source": [
    "! pip install kafka"
   ]
  },
  {
   "cell_type": "code",
   "execution_count": null,
   "id": "a19d8ae7-58ea-48dc-a28d-be4e143235d2",
   "metadata": {},
   "outputs": [],
   "source": []
  }
 ],
 "metadata": {
  "kernelspec": {
   "display_name": "Python 3 (ipykernel)",
   "language": "python",
   "name": "python3"
  },
  "language_info": {
   "codemirror_mode": {
    "name": "ipython",
    "version": 3
   },
   "file_extension": ".py",
   "mimetype": "text/x-python",
   "name": "python",
   "nbconvert_exporter": "python",
   "pygments_lexer": "ipython3",
   "version": "3.9.12"
  }
 },
 "nbformat": 4,
 "nbformat_minor": 5
}
